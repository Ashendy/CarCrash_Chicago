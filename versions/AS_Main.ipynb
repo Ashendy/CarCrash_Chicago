{
 "cells": [
  {
   "cell_type": "markdown",
   "metadata": {},
   "source": [
    "# Chicago Car Crash Analysis"
   ]
  },
  {
   "cell_type": "markdown",
   "metadata": {},
   "source": [
    "-Past 3 years (2020-2022)  \n",
    "-Total Injuries (not 0)  \n",
    "-Only 4 wheelers\n",
    "-Target is PRIM_CONTRIBUTORY_CAUSE\n",
    "\n",
    "-business problem: determining primary contributory causes of crashes from 4 wheel passenger vehicles that resulted in an injury in the past 3 years\n",
    "-yes eda\n",
    "-yes, lots of preprocessing required One hot, ordinal, \n",
    "-baseline model - decision tree, logistic regression, \n",
    "    metrics - precision - we want to focus on correctness of determining these causes\n",
    "\n",
    "\n",
    "-multiple binary classification problems if we want to use logistic regression\n",
    "-two-class classification problems\n",
    "\n",
    "-graph prim_contributory_cause against vehicle_type\n",
    "-or against year\n",
    "-prim_contributory_cause vs injuries_total\n",
    "\n",
    "\n",
    "\n",
    "Steps for now:  \n",
    "1. Filter for   \n",
    "    -Past 3 years (2020-2022)  \n",
    "    -Total Injuries (not 0)  \n",
    "    -\n",
    "2. Drop all columns don't need  \n",
    "3. divide data cleaning  \n",
    "\n",
    "\n",
    "GRAPHS:\n",
    "\n",
    "-primary contributory cause against year, time, age\n"
   ]
  },
  {
   "cell_type": "code",
   "execution_count": 9,
   "metadata": {},
   "outputs": [],
   "source": [
    "#imports \n",
    "import pandas as pd\n",
    "import numpy as np"
   ]
  },
  {
   "cell_type": "code",
   "execution_count": 10,
   "metadata": {
    "scrolled": true
   },
   "outputs": [],
   "source": [
    "#read data in\n",
    "df_crashes = pd.read_csv(\"data/Traffic_Crashes_-_Crashes_20231109.csv\")\n",
    "df_people = pd.read_csv(\"data/Traffic_Crashes_-_People_20231109.csv\")\n",
    "df_vehicles = pd.read_csv(\"data/Traffic_Crashes_-_Vehicles_20231109.csv\")"
   ]
  },
  {
   "cell_type": "code",
   "execution_count": 11,
   "metadata": {},
   "outputs": [],
   "source": [
    "df_crashes['CRASH_DATE'] = pd.to_datetime(df_crashes['CRASH_DATE'])\n",
    "df_crashes['YEAR'] = df_crashes['CRASH_DATE'].dt.year"
   ]
  },
  {
   "cell_type": "code",
   "execution_count": 17,
   "metadata": {},
   "outputs": [
    {
     "data": {
      "text/plain": [
       "NO INDICATION OF INJURY     80408\n",
       "NONINCAPACITATING INJURY     8223\n",
       "REPORTED, NOT EVIDENT        4310\n",
       "INCAPACITATING INJURY        1676\n",
       "FATAL                         121\n",
       "Name: MOST_SEVERE_INJURY, dtype: int64"
      ]
     },
     "execution_count": 17,
     "metadata": {},
     "output_type": "execute_result"
    }
   ],
   "source": [
    "df_crashes['YEAR'].value_counts()\n",
    "df_crashes.loc[df_crashes['YEAR']==2023]['MOST_SEVERE_INJURY'].value_counts()"
   ]
  },
  {
   "cell_type": "markdown",
   "metadata": {},
   "source": [
    "**CRASHES dataframe filtering:**"
   ]
  },
  {
   "cell_type": "code",
   "execution_count": 4,
   "metadata": {},
   "outputs": [],
   "source": [
    "#drop useless columns in crashes df\n",
    "crash_columns_to_drop = [\"RD_NO\", \"CRASH_DATE_EST_I\",\"REPORT_TYPE\", 'DATE_POLICE_NOTIFIED', 'SEC_CONTRIBUTORY_CAUSE', 'STREET_NO', 'STREET_DIRECTION', 'STREET_NAME', 'BEAT_OF_OCCURRENCE', \"PHOTOS_TAKEN_I\",\"STATEMENTS_TAKEN_I\",'DOORING_I',\"WORK_ZONE_I\",'WORK_ZONE_TYPE', \"WORKERS_PRESENT_I\",'LATITUDE', 'LONGITUDE', 'LOCATION']"
   ]
  },
  {
   "cell_type": "code",
   "execution_count": 5,
   "metadata": {},
   "outputs": [],
   "source": [
    "df_crashes.drop(crash_columns_to_drop, axis=1, inplace=True)"
   ]
  },
  {
   "cell_type": "code",
   "execution_count": 6,
   "metadata": {
    "scrolled": false
   },
   "outputs": [],
   "source": [
    "#sort by dates past 2020 and injuries only\n",
    "df_crashes = df_crashes[df_crashes[\"CRASH_DATE\"] > '01/01/2020']\n",
    "df_crashes = df_crashes[df_crashes[\"INJURIES_TOTAL\"] > 0]"
   ]
  },
  {
   "cell_type": "code",
   "execution_count": 7,
   "metadata": {
    "scrolled": false
   },
   "outputs": [
    {
     "data": {
      "text/html": [
       "<div>\n",
       "<style scoped>\n",
       "    .dataframe tbody tr th:only-of-type {\n",
       "        vertical-align: middle;\n",
       "    }\n",
       "\n",
       "    .dataframe tbody tr th {\n",
       "        vertical-align: top;\n",
       "    }\n",
       "\n",
       "    .dataframe thead th {\n",
       "        text-align: right;\n",
       "    }\n",
       "</style>\n",
       "<table border=\"1\" class=\"dataframe\">\n",
       "  <thead>\n",
       "    <tr style=\"text-align: right;\">\n",
       "      <th></th>\n",
       "      <th>CRASH_RECORD_ID</th>\n",
       "      <th>CRASH_DATE</th>\n",
       "      <th>POSTED_SPEED_LIMIT</th>\n",
       "      <th>TRAFFIC_CONTROL_DEVICE</th>\n",
       "      <th>DEVICE_CONDITION</th>\n",
       "      <th>WEATHER_CONDITION</th>\n",
       "      <th>LIGHTING_CONDITION</th>\n",
       "      <th>FIRST_CRASH_TYPE</th>\n",
       "      <th>TRAFFICWAY_TYPE</th>\n",
       "      <th>LANE_CNT</th>\n",
       "      <th>...</th>\n",
       "      <th>INJURIES_TOTAL</th>\n",
       "      <th>INJURIES_FATAL</th>\n",
       "      <th>INJURIES_INCAPACITATING</th>\n",
       "      <th>INJURIES_NON_INCAPACITATING</th>\n",
       "      <th>INJURIES_REPORTED_NOT_EVIDENT</th>\n",
       "      <th>INJURIES_NO_INDICATION</th>\n",
       "      <th>INJURIES_UNKNOWN</th>\n",
       "      <th>CRASH_HOUR</th>\n",
       "      <th>CRASH_DAY_OF_WEEK</th>\n",
       "      <th>CRASH_MONTH</th>\n",
       "    </tr>\n",
       "  </thead>\n",
       "  <tbody>\n",
       "    <tr>\n",
       "      <th>0</th>\n",
       "      <td>6c1659069e9c6285a650e70d6f9b574ed5f64c12888479...</td>\n",
       "      <td>08/18/2023 12:50:00 PM</td>\n",
       "      <td>15</td>\n",
       "      <td>OTHER</td>\n",
       "      <td>FUNCTIONING PROPERLY</td>\n",
       "      <td>CLEAR</td>\n",
       "      <td>DAYLIGHT</td>\n",
       "      <td>REAR END</td>\n",
       "      <td>OTHER</td>\n",
       "      <td>NaN</td>\n",
       "      <td>...</td>\n",
       "      <td>1.0</td>\n",
       "      <td>0.0</td>\n",
       "      <td>0.0</td>\n",
       "      <td>1.0</td>\n",
       "      <td>0.0</td>\n",
       "      <td>1.0</td>\n",
       "      <td>0.0</td>\n",
       "      <td>12</td>\n",
       "      <td>6</td>\n",
       "      <td>8</td>\n",
       "    </tr>\n",
       "    <tr>\n",
       "      <th>2</th>\n",
       "      <td>61fcb8c1eb522a6469b460e2134df3d15f82e81fd93e9c...</td>\n",
       "      <td>08/18/2023 05:58:00 PM</td>\n",
       "      <td>30</td>\n",
       "      <td>NO CONTROLS</td>\n",
       "      <td>NO CONTROLS</td>\n",
       "      <td>CLEAR</td>\n",
       "      <td>DAYLIGHT</td>\n",
       "      <td>PEDALCYCLIST</td>\n",
       "      <td>NOT DIVIDED</td>\n",
       "      <td>NaN</td>\n",
       "      <td>...</td>\n",
       "      <td>1.0</td>\n",
       "      <td>0.0</td>\n",
       "      <td>0.0</td>\n",
       "      <td>1.0</td>\n",
       "      <td>0.0</td>\n",
       "      <td>1.0</td>\n",
       "      <td>0.0</td>\n",
       "      <td>17</td>\n",
       "      <td>6</td>\n",
       "      <td>8</td>\n",
       "    </tr>\n",
       "    <tr>\n",
       "      <th>3</th>\n",
       "      <td>004cd14d0303a9163aad69a2d7f341b7da2a8572b2ab33...</td>\n",
       "      <td>11/26/2019 08:38:00 AM</td>\n",
       "      <td>25</td>\n",
       "      <td>NO CONTROLS</td>\n",
       "      <td>NO CONTROLS</td>\n",
       "      <td>CLEAR</td>\n",
       "      <td>DAYLIGHT</td>\n",
       "      <td>PEDESTRIAN</td>\n",
       "      <td>ONE-WAY</td>\n",
       "      <td>NaN</td>\n",
       "      <td>...</td>\n",
       "      <td>1.0</td>\n",
       "      <td>1.0</td>\n",
       "      <td>0.0</td>\n",
       "      <td>0.0</td>\n",
       "      <td>0.0</td>\n",
       "      <td>1.0</td>\n",
       "      <td>0.0</td>\n",
       "      <td>8</td>\n",
       "      <td>3</td>\n",
       "      <td>11</td>\n",
       "    </tr>\n",
       "    <tr>\n",
       "      <th>21</th>\n",
       "      <td>3facd2ed99a27da2f5572605b9434167a6fa7777243e04...</td>\n",
       "      <td>09/27/2019 06:00:00 PM</td>\n",
       "      <td>30</td>\n",
       "      <td>NO CONTROLS</td>\n",
       "      <td>NO CONTROLS</td>\n",
       "      <td>RAIN</td>\n",
       "      <td>DUSK</td>\n",
       "      <td>PEDESTRIAN</td>\n",
       "      <td>FOUR WAY</td>\n",
       "      <td>NaN</td>\n",
       "      <td>...</td>\n",
       "      <td>1.0</td>\n",
       "      <td>0.0</td>\n",
       "      <td>0.0</td>\n",
       "      <td>1.0</td>\n",
       "      <td>0.0</td>\n",
       "      <td>1.0</td>\n",
       "      <td>0.0</td>\n",
       "      <td>18</td>\n",
       "      <td>6</td>\n",
       "      <td>9</td>\n",
       "    </tr>\n",
       "    <tr>\n",
       "      <th>23</th>\n",
       "      <td>1ee2180a89cc02c0b756f95b5b2755bb5cc9d93450f5ca...</td>\n",
       "      <td>08/09/2023 07:55:00 PM</td>\n",
       "      <td>30</td>\n",
       "      <td>TRAFFIC SIGNAL</td>\n",
       "      <td>FUNCTIONING IMPROPERLY</td>\n",
       "      <td>CLEAR</td>\n",
       "      <td>DAYLIGHT</td>\n",
       "      <td>ANGLE</td>\n",
       "      <td>FOUR WAY</td>\n",
       "      <td>NaN</td>\n",
       "      <td>...</td>\n",
       "      <td>5.0</td>\n",
       "      <td>0.0</td>\n",
       "      <td>0.0</td>\n",
       "      <td>5.0</td>\n",
       "      <td>0.0</td>\n",
       "      <td>0.0</td>\n",
       "      <td>0.0</td>\n",
       "      <td>19</td>\n",
       "      <td>4</td>\n",
       "      <td>8</td>\n",
       "    </tr>\n",
       "  </tbody>\n",
       "</table>\n",
       "<p>5 rows × 31 columns</p>\n",
       "</div>"
      ],
      "text/plain": [
       "                                      CRASH_RECORD_ID              CRASH_DATE  \\\n",
       "0   6c1659069e9c6285a650e70d6f9b574ed5f64c12888479...  08/18/2023 12:50:00 PM   \n",
       "2   61fcb8c1eb522a6469b460e2134df3d15f82e81fd93e9c...  08/18/2023 05:58:00 PM   \n",
       "3   004cd14d0303a9163aad69a2d7f341b7da2a8572b2ab33...  11/26/2019 08:38:00 AM   \n",
       "21  3facd2ed99a27da2f5572605b9434167a6fa7777243e04...  09/27/2019 06:00:00 PM   \n",
       "23  1ee2180a89cc02c0b756f95b5b2755bb5cc9d93450f5ca...  08/09/2023 07:55:00 PM   \n",
       "\n",
       "    POSTED_SPEED_LIMIT TRAFFIC_CONTROL_DEVICE        DEVICE_CONDITION  \\\n",
       "0                   15                  OTHER    FUNCTIONING PROPERLY   \n",
       "2                   30            NO CONTROLS             NO CONTROLS   \n",
       "3                   25            NO CONTROLS             NO CONTROLS   \n",
       "21                  30            NO CONTROLS             NO CONTROLS   \n",
       "23                  30         TRAFFIC SIGNAL  FUNCTIONING IMPROPERLY   \n",
       "\n",
       "   WEATHER_CONDITION LIGHTING_CONDITION FIRST_CRASH_TYPE TRAFFICWAY_TYPE  \\\n",
       "0              CLEAR           DAYLIGHT         REAR END           OTHER   \n",
       "2              CLEAR           DAYLIGHT     PEDALCYCLIST     NOT DIVIDED   \n",
       "3              CLEAR           DAYLIGHT       PEDESTRIAN         ONE-WAY   \n",
       "21              RAIN               DUSK       PEDESTRIAN        FOUR WAY   \n",
       "23             CLEAR           DAYLIGHT            ANGLE        FOUR WAY   \n",
       "\n",
       "    LANE_CNT  ... INJURIES_TOTAL INJURIES_FATAL INJURIES_INCAPACITATING  \\\n",
       "0        NaN  ...            1.0            0.0                     0.0   \n",
       "2        NaN  ...            1.0            0.0                     0.0   \n",
       "3        NaN  ...            1.0            1.0                     0.0   \n",
       "21       NaN  ...            1.0            0.0                     0.0   \n",
       "23       NaN  ...            5.0            0.0                     0.0   \n",
       "\n",
       "   INJURIES_NON_INCAPACITATING INJURIES_REPORTED_NOT_EVIDENT  \\\n",
       "0                          1.0                           0.0   \n",
       "2                          1.0                           0.0   \n",
       "3                          0.0                           0.0   \n",
       "21                         1.0                           0.0   \n",
       "23                         5.0                           0.0   \n",
       "\n",
       "   INJURIES_NO_INDICATION INJURIES_UNKNOWN CRASH_HOUR CRASH_DAY_OF_WEEK  \\\n",
       "0                     1.0              0.0         12                 6   \n",
       "2                     1.0              0.0         17                 6   \n",
       "3                     1.0              0.0          8                 3   \n",
       "21                    1.0              0.0         18                 6   \n",
       "23                    0.0              0.0         19                 4   \n",
       "\n",
       "    CRASH_MONTH  \n",
       "0             8  \n",
       "2             8  \n",
       "3            11  \n",
       "21            9  \n",
       "23            8  \n",
       "\n",
       "[5 rows x 31 columns]"
      ]
     },
     "execution_count": 7,
     "metadata": {},
     "output_type": "execute_result"
    }
   ],
   "source": [
    "df_crashes.head()\n",
    "#df_crashes['PRIM']"
   ]
  },
  {
   "cell_type": "code",
   "execution_count": 6,
   "metadata": {},
   "outputs": [
    {
     "data": {
      "text/plain": [
       "UNABLE TO DETERMINE                                                                 302153\n",
       "FAILING TO YIELD RIGHT-OF-WAY                                                        85315\n",
       "FOLLOWING TOO CLOSELY                                                                76341\n",
       "NOT APPLICABLE                                                                       41267\n",
       "IMPROPER OVERTAKING/PASSING                                                          38280\n",
       "FAILING TO REDUCE SPEED TO AVOID CRASH                                               32933\n",
       "IMPROPER BACKING                                                                     30962\n",
       "IMPROPER LANE USAGE                                                                  28112\n",
       "DRIVING SKILLS/KNOWLEDGE/EXPERIENCE                                                  25874\n",
       "IMPROPER TURNING/NO SIGNAL                                                           25859\n",
       "DISREGARDING TRAFFIC SIGNALS                                                         15118\n",
       "WEATHER                                                                              11768\n",
       "OPERATING VEHICLE IN ERRATIC, RECKLESS, CARELESS, NEGLIGENT OR AGGRESSIVE MANNER      9905\n",
       "DISREGARDING STOP SIGN                                                                8485\n",
       "DISTRACTION - FROM INSIDE VEHICLE                                                     5377\n",
       "EQUIPMENT - VEHICLE CONDITION                                                         4879\n",
       "PHYSICAL CONDITION OF DRIVER                                                          4670\n",
       "VISION OBSCURED (SIGNS, TREE LIMBS, BUILDINGS, ETC.)                                  4461\n",
       "DRIVING ON WRONG SIDE/WRONG WAY                                                       4137\n",
       "UNDER THE INFLUENCE OF ALCOHOL/DRUGS (USE WHEN ARREST IS EFFECTED)                    3686\n",
       "DISTRACTION - FROM OUTSIDE VEHICLE                                                    3222\n",
       "EXCEEDING AUTHORIZED SPEED LIMIT                                                      1982\n",
       "ROAD ENGINEERING/SURFACE/MARKING DEFECTS                                              1945\n",
       "ROAD CONSTRUCTION/MAINTENANCE                                                         1695\n",
       "EXCEEDING SAFE SPEED FOR CONDITIONS                                                   1684\n",
       "DISREGARDING OTHER TRAFFIC SIGNS                                                      1672\n",
       "EVASIVE ACTION DUE TO ANIMAL, OBJECT, NONMOTORIST                                     1445\n",
       "CELL PHONE USE OTHER THAN TEXTING                                                     1049\n",
       "DISREGARDING ROAD MARKINGS                                                             957\n",
       "HAD BEEN DRINKING (USE WHEN ARREST IS NOT MADE)                                        806\n",
       "ANIMAL                                                                                 656\n",
       "TURNING RIGHT ON RED                                                                   579\n",
       "DISTRACTION - OTHER ELECTRONIC DEVICE (NAVIGATION DEVICE, DVD PLAYER, ETC.)            366\n",
       "RELATED TO BUS STOP                                                                    360\n",
       "TEXTING                                                                                305\n",
       "DISREGARDING YIELD SIGN                                                                265\n",
       "PASSING STOPPED SCHOOL BUS                                                              93\n",
       "OBSTRUCTED CROSSWALKS                                                                   83\n",
       "BICYCLE ADVANCING LEGALLY ON RED LIGHT                                                  79\n",
       "MOTORCYCLE ADVANCING LEGALLY ON RED LIGHT                                               22\n",
       "Name: PRIM_CONTRIBUTORY_CAUSE, dtype: int64"
      ]
     },
     "execution_count": 6,
     "metadata": {},
     "output_type": "execute_result"
    }
   ],
   "source": [
    "df_crashes['PRIM_CONTRIBUTORY_CAUSE'].value_counts()"
   ]
  },
  {
   "cell_type": "markdown",
   "metadata": {},
   "source": [
    "**VEHICLES dataframe filtering:**"
   ]
  },
  {
   "cell_type": "code",
   "execution_count": 10,
   "metadata": {},
   "outputs": [],
   "source": [
    "#drop useless columns in vehicles df\n",
    "vehicles_columns = ['CRASH_RECORD_ID', 'NUM_PASSENGERS', 'CMRC_VEH_I', 'MAKE', 'MODEL', 'LIC_PLATE_STATE', 'VEHICLE_YEAR', 'VEHICLE_DEFECT','VEHICLE_TYPE', 'VEHICLE_USE', 'MANEUVER', 'EXCEED_SPEED_LIMIT_I', 'FIRST_CONTACT_POINT', 'TOTAL_VEHICLE_LENGTH', 'VEHICLE_CONFIG']"
   ]
  },
  {
   "cell_type": "code",
   "execution_count": 11,
   "metadata": {},
   "outputs": [],
   "source": [
    "df_vehicles=df_vehicles[vehicles_columns]\n",
    "df_vehicles=df_vehicles[(df_vehicles['VEHICLE_TYPE'] == \"PASSENGER\") | (df_vehicles[\"VEHICLE_TYPE\"] == \"SPORT UTILITY VEHICLE (SUV)\") | (df_vehicles[\"VEHICLE_TYPE\"] == \"VAN/MINI-VAN\")]"
   ]
  },
  {
   "cell_type": "code",
   "execution_count": 12,
   "metadata": {
    "scrolled": false
   },
   "outputs": [
    {
     "name": "stdout",
     "output_type": "stream",
     "text": [
      "<class 'pandas.core.frame.DataFrame'>\n",
      "Int64Index: 1262351 entries, 0 to 1588936\n",
      "Data columns (total 15 columns):\n",
      " #   Column                Non-Null Count    Dtype  \n",
      "---  ------                --------------    -----  \n",
      " 0   CRASH_RECORD_ID       1262351 non-null  object \n",
      " 1   NUM_PASSENGERS        211590 non-null   float64\n",
      " 2   CMRC_VEH_I            4977 non-null     object \n",
      " 3   MAKE                  1262346 non-null  object \n",
      " 4   MODEL                 1262220 non-null  object \n",
      " 5   LIC_PLATE_STATE       1189166 non-null  object \n",
      " 6   VEHICLE_YEAR          1147035 non-null  float64\n",
      " 7   VEHICLE_DEFECT        1262351 non-null  object \n",
      " 8   VEHICLE_TYPE          1262351 non-null  object \n",
      " 9   VEHICLE_USE           1262351 non-null  object \n",
      " 10  MANEUVER              1262351 non-null  object \n",
      " 11  EXCEED_SPEED_LIMIT_I  1997 non-null     object \n",
      " 12  FIRST_CONTACT_POINT   1260202 non-null  object \n",
      " 13  TOTAL_VEHICLE_LENGTH  27 non-null       float64\n",
      " 14  VEHICLE_CONFIG        301 non-null      object \n",
      "dtypes: float64(3), object(12)\n",
      "memory usage: 154.1+ MB\n"
     ]
    }
   ],
   "source": [
    "df_vehicles.info()"
   ]
  },
  {
   "cell_type": "markdown",
   "metadata": {},
   "source": [
    "**PEOPLE dataframe filtering:**"
   ]
  },
  {
   "cell_type": "code",
   "execution_count": 13,
   "metadata": {
    "scrolled": true
   },
   "outputs": [
    {
     "data": {
      "text/plain": [
       "Index(['PERSON_ID', 'PERSON_TYPE', 'CRASH_RECORD_ID', 'RD_NO', 'VEHICLE_ID',\n",
       "       'CRASH_DATE', 'SEAT_NO', 'CITY', 'STATE', 'ZIPCODE', 'SEX', 'AGE',\n",
       "       'DRIVERS_LICENSE_STATE', 'DRIVERS_LICENSE_CLASS', 'SAFETY_EQUIPMENT',\n",
       "       'AIRBAG_DEPLOYED', 'EJECTION', 'INJURY_CLASSIFICATION', 'HOSPITAL',\n",
       "       'EMS_AGENCY', 'EMS_RUN_NO', 'DRIVER_ACTION', 'DRIVER_VISION',\n",
       "       'PHYSICAL_CONDITION', 'PEDPEDAL_ACTION', 'PEDPEDAL_VISIBILITY',\n",
       "       'PEDPEDAL_LOCATION', 'BAC_RESULT', 'BAC_RESULT VALUE',\n",
       "       'CELL_PHONE_USE'],\n",
       "      dtype='object')"
      ]
     },
     "execution_count": 13,
     "metadata": {},
     "output_type": "execute_result"
    }
   ],
   "source": [
    "df_people.columns"
   ]
  },
  {
   "cell_type": "code",
   "execution_count": 14,
   "metadata": {},
   "outputs": [],
   "source": [
    "people_columns = ['CRASH_RECORD_ID', 'SEX', 'AGE', 'SAFETY_EQUIPMENT','AIRBAG_DEPLOYED', 'INJURY_CLASSIFICATION', 'DRIVER_ACTION', 'DRIVER_VISION', 'PHYSICAL_CONDITION','PEDPEDAL_ACTION', 'PEDPEDAL_VISIBILITY','PEDPEDAL_LOCATION', 'BAC_RESULT', 'BAC_RESULT VALUE','CELL_PHONE_USE']\n",
    "#sex, age, safety_equipment, airbag, injury classfication, driver_action, vision, physical_condi, ped location, bac, cell use"
   ]
  },
  {
   "cell_type": "code",
   "execution_count": 15,
   "metadata": {},
   "outputs": [],
   "source": [
    "df_people = df_people[people_columns]"
   ]
  },
  {
   "cell_type": "code",
   "execution_count": 16,
   "metadata": {
    "scrolled": true
   },
   "outputs": [
    {
     "data": {
      "text/html": [
       "<div>\n",
       "<style scoped>\n",
       "    .dataframe tbody tr th:only-of-type {\n",
       "        vertical-align: middle;\n",
       "    }\n",
       "\n",
       "    .dataframe tbody tr th {\n",
       "        vertical-align: top;\n",
       "    }\n",
       "\n",
       "    .dataframe thead th {\n",
       "        text-align: right;\n",
       "    }\n",
       "</style>\n",
       "<table border=\"1\" class=\"dataframe\">\n",
       "  <thead>\n",
       "    <tr style=\"text-align: right;\">\n",
       "      <th></th>\n",
       "      <th>CRASH_RECORD_ID</th>\n",
       "      <th>SEX</th>\n",
       "      <th>AGE</th>\n",
       "      <th>SAFETY_EQUIPMENT</th>\n",
       "      <th>AIRBAG_DEPLOYED</th>\n",
       "      <th>INJURY_CLASSIFICATION</th>\n",
       "      <th>DRIVER_ACTION</th>\n",
       "      <th>DRIVER_VISION</th>\n",
       "      <th>PHYSICAL_CONDITION</th>\n",
       "      <th>PEDPEDAL_ACTION</th>\n",
       "      <th>PEDPEDAL_VISIBILITY</th>\n",
       "      <th>PEDPEDAL_LOCATION</th>\n",
       "      <th>BAC_RESULT</th>\n",
       "      <th>BAC_RESULT VALUE</th>\n",
       "      <th>CELL_PHONE_USE</th>\n",
       "    </tr>\n",
       "  </thead>\n",
       "  <tbody>\n",
       "    <tr>\n",
       "      <th>0</th>\n",
       "      <td>81dc0de2ed92aa62baccab641fa377be7feb1cc47e6554...</td>\n",
       "      <td>M</td>\n",
       "      <td>25.0</td>\n",
       "      <td>NONE PRESENT</td>\n",
       "      <td>DEPLOYMENT UNKNOWN</td>\n",
       "      <td>NO INDICATION OF INJURY</td>\n",
       "      <td>UNKNOWN</td>\n",
       "      <td>UNKNOWN</td>\n",
       "      <td>UNKNOWN</td>\n",
       "      <td>NaN</td>\n",
       "      <td>NaN</td>\n",
       "      <td>NaN</td>\n",
       "      <td>TEST NOT OFFERED</td>\n",
       "      <td>NaN</td>\n",
       "      <td>NaN</td>\n",
       "    </tr>\n",
       "    <tr>\n",
       "      <th>1</th>\n",
       "      <td>af84fb5c8d996fcd3aefd36593c3a02e6e7509eeb27568...</td>\n",
       "      <td>M</td>\n",
       "      <td>37.0</td>\n",
       "      <td>SAFETY BELT USED</td>\n",
       "      <td>DID NOT DEPLOY</td>\n",
       "      <td>NO INDICATION OF INJURY</td>\n",
       "      <td>NONE</td>\n",
       "      <td>NOT OBSCURED</td>\n",
       "      <td>NORMAL</td>\n",
       "      <td>NaN</td>\n",
       "      <td>NaN</td>\n",
       "      <td>NaN</td>\n",
       "      <td>TEST NOT OFFERED</td>\n",
       "      <td>NaN</td>\n",
       "      <td>NaN</td>\n",
       "    </tr>\n",
       "    <tr>\n",
       "      <th>2</th>\n",
       "      <td>71162af7bf22799b776547132ebf134b5b438dcf3dac6b...</td>\n",
       "      <td>X</td>\n",
       "      <td>NaN</td>\n",
       "      <td>USAGE UNKNOWN</td>\n",
       "      <td>DEPLOYMENT UNKNOWN</td>\n",
       "      <td>NO INDICATION OF INJURY</td>\n",
       "      <td>IMPROPER BACKING</td>\n",
       "      <td>UNKNOWN</td>\n",
       "      <td>UNKNOWN</td>\n",
       "      <td>NaN</td>\n",
       "      <td>NaN</td>\n",
       "      <td>NaN</td>\n",
       "      <td>TEST NOT OFFERED</td>\n",
       "      <td>NaN</td>\n",
       "      <td>NaN</td>\n",
       "    </tr>\n",
       "    <tr>\n",
       "      <th>3</th>\n",
       "      <td>c21c476e2ccc41af550b5d858d22aaac4ffc88745a1700...</td>\n",
       "      <td>X</td>\n",
       "      <td>NaN</td>\n",
       "      <td>USAGE UNKNOWN</td>\n",
       "      <td>DEPLOYMENT UNKNOWN</td>\n",
       "      <td>NO INDICATION OF INJURY</td>\n",
       "      <td>UNKNOWN</td>\n",
       "      <td>UNKNOWN</td>\n",
       "      <td>UNKNOWN</td>\n",
       "      <td>NaN</td>\n",
       "      <td>NaN</td>\n",
       "      <td>NaN</td>\n",
       "      <td>TEST NOT OFFERED</td>\n",
       "      <td>NaN</td>\n",
       "      <td>NaN</td>\n",
       "    </tr>\n",
       "    <tr>\n",
       "      <th>4</th>\n",
       "      <td>eb390a4c8e114c69488f5fb8a097fe629f5a92fd528cf4...</td>\n",
       "      <td>X</td>\n",
       "      <td>NaN</td>\n",
       "      <td>USAGE UNKNOWN</td>\n",
       "      <td>DEPLOYMENT UNKNOWN</td>\n",
       "      <td>NO INDICATION OF INJURY</td>\n",
       "      <td>UNKNOWN</td>\n",
       "      <td>UNKNOWN</td>\n",
       "      <td>UNKNOWN</td>\n",
       "      <td>NaN</td>\n",
       "      <td>NaN</td>\n",
       "      <td>NaN</td>\n",
       "      <td>TEST NOT OFFERED</td>\n",
       "      <td>NaN</td>\n",
       "      <td>NaN</td>\n",
       "    </tr>\n",
       "  </tbody>\n",
       "</table>\n",
       "</div>"
      ],
      "text/plain": [
       "                                     CRASH_RECORD_ID SEX   AGE  \\\n",
       "0  81dc0de2ed92aa62baccab641fa377be7feb1cc47e6554...   M  25.0   \n",
       "1  af84fb5c8d996fcd3aefd36593c3a02e6e7509eeb27568...   M  37.0   \n",
       "2  71162af7bf22799b776547132ebf134b5b438dcf3dac6b...   X   NaN   \n",
       "3  c21c476e2ccc41af550b5d858d22aaac4ffc88745a1700...   X   NaN   \n",
       "4  eb390a4c8e114c69488f5fb8a097fe629f5a92fd528cf4...   X   NaN   \n",
       "\n",
       "   SAFETY_EQUIPMENT     AIRBAG_DEPLOYED    INJURY_CLASSIFICATION  \\\n",
       "0      NONE PRESENT  DEPLOYMENT UNKNOWN  NO INDICATION OF INJURY   \n",
       "1  SAFETY BELT USED      DID NOT DEPLOY  NO INDICATION OF INJURY   \n",
       "2     USAGE UNKNOWN  DEPLOYMENT UNKNOWN  NO INDICATION OF INJURY   \n",
       "3     USAGE UNKNOWN  DEPLOYMENT UNKNOWN  NO INDICATION OF INJURY   \n",
       "4     USAGE UNKNOWN  DEPLOYMENT UNKNOWN  NO INDICATION OF INJURY   \n",
       "\n",
       "      DRIVER_ACTION DRIVER_VISION PHYSICAL_CONDITION PEDPEDAL_ACTION  \\\n",
       "0           UNKNOWN       UNKNOWN            UNKNOWN             NaN   \n",
       "1              NONE  NOT OBSCURED             NORMAL             NaN   \n",
       "2  IMPROPER BACKING       UNKNOWN            UNKNOWN             NaN   \n",
       "3           UNKNOWN       UNKNOWN            UNKNOWN             NaN   \n",
       "4           UNKNOWN       UNKNOWN            UNKNOWN             NaN   \n",
       "\n",
       "  PEDPEDAL_VISIBILITY PEDPEDAL_LOCATION        BAC_RESULT  BAC_RESULT VALUE  \\\n",
       "0                 NaN               NaN  TEST NOT OFFERED               NaN   \n",
       "1                 NaN               NaN  TEST NOT OFFERED               NaN   \n",
       "2                 NaN               NaN  TEST NOT OFFERED               NaN   \n",
       "3                 NaN               NaN  TEST NOT OFFERED               NaN   \n",
       "4                 NaN               NaN  TEST NOT OFFERED               NaN   \n",
       "\n",
       "  CELL_PHONE_USE  \n",
       "0            NaN  \n",
       "1            NaN  \n",
       "2            NaN  \n",
       "3            NaN  \n",
       "4            NaN  "
      ]
     },
     "execution_count": 16,
     "metadata": {},
     "output_type": "execute_result"
    }
   ],
   "source": [
    "df_people.head()"
   ]
  },
  {
   "cell_type": "code",
   "execution_count": 17,
   "metadata": {},
   "outputs": [],
   "source": [
    "df_joined = pd.merge(df_crashes, pd.merge(df_vehicles, df_people, on=\"CRASH_RECORD_ID\"), on=\"CRASH_RECORD_ID\")"
   ]
  },
  {
   "cell_type": "code",
   "execution_count": 18,
   "metadata": {},
   "outputs": [],
   "source": [
    "#dropping extra columns:\n",
    "df_joined.drop([\"LANE_CNT\",\"INTERSECTION_RELATED_I\",\"NOT_RIGHT_OF_WAY_I\",\"HIT_AND_RUN_I\",\"INJURIES_FATAL\",\"INJURIES_INCAPACITATING\",\"INJURIES_NON_INCAPACITATING\",\"INJURIES_REPORTED_NOT_EVIDENT\",\"INJURIES_NO_INDICATION\",\"INJURIES_UNKNOWN\",\"NUM_PASSENGERS\",\"CMRC_VEH_I\",\"MAKE\",\"MODEL\",\"VEHICLE_YEAR\",\"VEHICLE_DEFECT\",\"VEHICLE_USE\",\"EXCEED_SPEED_LIMIT_I\", \"TOTAL_VEHICLE_LENGTH\",\"VEHICLE_CONFIG\",\"PEDPEDAL_ACTION\",\"PEDPEDAL_VISIBILITY\",\"PEDPEDAL_LOCATION\",\"BAC_RESULT VALUE\",\"CELL_PHONE_USE\"],axis=1, inplace=True)"
   ]
  },
  {
   "cell_type": "code",
   "execution_count": 19,
   "metadata": {},
   "outputs": [
    {
     "name": "stdout",
     "output_type": "stream",
     "text": [
      "<class 'pandas.core.frame.DataFrame'>\n",
      "Int64Index: 533246 entries, 0 to 533245\n",
      "Data columns (total 34 columns):\n",
      " #   Column                   Non-Null Count   Dtype  \n",
      "---  ------                   --------------   -----  \n",
      " 0   CRASH_RECORD_ID          533246 non-null  object \n",
      " 1   CRASH_DATE               533246 non-null  object \n",
      " 2   POSTED_SPEED_LIMIT       533246 non-null  int64  \n",
      " 3   TRAFFIC_CONTROL_DEVICE   533246 non-null  object \n",
      " 4   DEVICE_CONDITION         533246 non-null  object \n",
      " 5   WEATHER_CONDITION        533246 non-null  object \n",
      " 6   LIGHTING_CONDITION       533246 non-null  object \n",
      " 7   FIRST_CRASH_TYPE         533246 non-null  object \n",
      " 8   TRAFFICWAY_TYPE          533246 non-null  object \n",
      " 9   ALIGNMENT                533246 non-null  object \n",
      " 10  ROADWAY_SURFACE_COND     533246 non-null  object \n",
      " 11  ROAD_DEFECT              533246 non-null  object \n",
      " 12  CRASH_TYPE               533246 non-null  object \n",
      " 13  DAMAGE                   533246 non-null  object \n",
      " 14  PRIM_CONTRIBUTORY_CAUSE  533246 non-null  object \n",
      " 15  NUM_UNITS                533246 non-null  int64  \n",
      " 16  MOST_SEVERE_INJURY       533246 non-null  object \n",
      " 17  INJURIES_TOTAL           533246 non-null  float64\n",
      " 18  CRASH_HOUR               533246 non-null  int64  \n",
      " 19  CRASH_DAY_OF_WEEK        533246 non-null  int64  \n",
      " 20  CRASH_MONTH              533246 non-null  int64  \n",
      " 21  LIC_PLATE_STATE          514675 non-null  object \n",
      " 22  VEHICLE_TYPE             533246 non-null  object \n",
      " 23  MANEUVER                 533246 non-null  object \n",
      " 24  FIRST_CONTACT_POINT      532385 non-null  object \n",
      " 25  SEX                      522180 non-null  object \n",
      " 26  AGE                      443370 non-null  float64\n",
      " 27  SAFETY_EQUIPMENT         530147 non-null  object \n",
      " 28  AIRBAG_DEPLOYED          510858 non-null  object \n",
      " 29  INJURY_CLASSIFICATION    533075 non-null  object \n",
      " 30  DRIVER_ACTION            363500 non-null  object \n",
      " 31  DRIVER_VISION            363205 non-null  object \n",
      " 32  PHYSICAL_CONDITION       364260 non-null  object \n",
      " 33  BAC_RESULT               364246 non-null  object \n",
      "dtypes: float64(2), int64(5), object(27)\n",
      "memory usage: 142.4+ MB\n"
     ]
    }
   ],
   "source": [
    "df_joined.info()"
   ]
  },
  {
   "cell_type": "code",
   "execution_count": 30,
   "metadata": {},
   "outputs": [
    {
     "data": {
      "text/plain": [
       "1.0     327661\n",
       "2.0     117144\n",
       "3.0      47756\n",
       "4.0      21981\n",
       "5.0       9216\n",
       "6.0       4464\n",
       "7.0       2270\n",
       "8.0        941\n",
       "9.0        640\n",
       "10.0       395\n",
       "11.0       160\n",
       "17.0       136\n",
       "12.0       118\n",
       "15.0       108\n",
       "16.0        85\n",
       "21.0        67\n",
       "13.0        53\n",
       "19.0        29\n",
       "14.0        22\n",
       "Name: INJURIES_TOTAL, dtype: int64"
      ]
     },
     "execution_count": 30,
     "metadata": {},
     "output_type": "execute_result"
    }
   ],
   "source": [
    "df_joined[\"INJURIES_TOTAL\"].value_counts()"
   ]
  },
  {
   "cell_type": "code",
   "execution_count": 23,
   "metadata": {
    "scrolled": true
   },
   "outputs": [
    {
     "data": {
      "text/plain": [
       "CRASH_RECORD_ID                 0\n",
       "CRASH_DATE                      0\n",
       "POSTED_SPEED_LIMIT              0\n",
       "TRAFFIC_CONTROL_DEVICE          0\n",
       "DEVICE_CONDITION                0\n",
       "WEATHER_CONDITION               0\n",
       "LIGHTING_CONDITION              0\n",
       "FIRST_CRASH_TYPE                0\n",
       "TRAFFICWAY_TYPE                 0\n",
       "ALIGNMENT                       0\n",
       "ROADWAY_SURFACE_COND            0\n",
       "ROAD_DEFECT                     0\n",
       "CRASH_TYPE                      0\n",
       "DAMAGE                          0\n",
       "PRIM_CONTRIBUTORY_CAUSE         0\n",
       "NUM_UNITS                       0\n",
       "MOST_SEVERE_INJURY              0\n",
       "INJURIES_TOTAL                  0\n",
       "CRASH_HOUR                      0\n",
       "CRASH_DAY_OF_WEEK               0\n",
       "CRASH_MONTH                     0\n",
       "LIC_PLATE_STATE             18571\n",
       "VEHICLE_TYPE                    0\n",
       "MANEUVER                        0\n",
       "FIRST_CONTACT_POINT           861\n",
       "SEX                         11066\n",
       "AGE                         89876\n",
       "SAFETY_EQUIPMENT             3099\n",
       "AIRBAG_DEPLOYED             22388\n",
       "INJURY_CLASSIFICATION         171\n",
       "DRIVER_ACTION              169746\n",
       "DRIVER_VISION              170041\n",
       "PHYSICAL_CONDITION         168986\n",
       "BAC_RESULT                 169000\n",
       "dtype: int64"
      ]
     },
     "execution_count": 23,
     "metadata": {},
     "output_type": "execute_result"
    }
   ],
   "source": [
    "df_joined.isna().sum()"
   ]
  },
  {
   "cell_type": "code",
   "execution_count": 25,
   "metadata": {
    "scrolled": true
   },
   "outputs": [
    {
     "data": {
      "text/plain": [
       "PASSENGER                      416119\n",
       "SPORT UTILITY VEHICLE (SUV)     85939\n",
       "VAN/MINI-VAN                    31188\n",
       "Name: VEHICLE_TYPE, dtype: int64"
      ]
     },
     "execution_count": 25,
     "metadata": {},
     "output_type": "execute_result"
    }
   ],
   "source": [
    "df_joined[\"VEHICLE_TYPE\"].value_counts()"
   ]
  },
  {
   "cell_type": "code",
   "execution_count": 28,
   "metadata": {},
   "outputs": [
    {
     "data": {
      "text/html": [
       "<div>\n",
       "<style scoped>\n",
       "    .dataframe tbody tr th:only-of-type {\n",
       "        vertical-align: middle;\n",
       "    }\n",
       "\n",
       "    .dataframe tbody tr th {\n",
       "        vertical-align: top;\n",
       "    }\n",
       "\n",
       "    .dataframe thead th {\n",
       "        text-align: right;\n",
       "    }\n",
       "</style>\n",
       "<table border=\"1\" class=\"dataframe\">\n",
       "  <thead>\n",
       "    <tr style=\"text-align: right;\">\n",
       "      <th></th>\n",
       "      <th>CRASH_RECORD_ID</th>\n",
       "      <th>CRASH_DATE</th>\n",
       "      <th>POSTED_SPEED_LIMIT</th>\n",
       "      <th>TRAFFIC_CONTROL_DEVICE</th>\n",
       "      <th>DEVICE_CONDITION</th>\n",
       "      <th>WEATHER_CONDITION</th>\n",
       "      <th>LIGHTING_CONDITION</th>\n",
       "      <th>FIRST_CRASH_TYPE</th>\n",
       "      <th>TRAFFICWAY_TYPE</th>\n",
       "      <th>ALIGNMENT</th>\n",
       "      <th>...</th>\n",
       "      <th>FIRST_CONTACT_POINT</th>\n",
       "      <th>SEX</th>\n",
       "      <th>AGE</th>\n",
       "      <th>SAFETY_EQUIPMENT</th>\n",
       "      <th>AIRBAG_DEPLOYED</th>\n",
       "      <th>INJURY_CLASSIFICATION</th>\n",
       "      <th>DRIVER_ACTION</th>\n",
       "      <th>DRIVER_VISION</th>\n",
       "      <th>PHYSICAL_CONDITION</th>\n",
       "      <th>BAC_RESULT</th>\n",
       "    </tr>\n",
       "  </thead>\n",
       "  <tbody>\n",
       "    <tr>\n",
       "      <th>0</th>\n",
       "      <td>6c1659069e9c6285a650e70d6f9b574ed5f64c12888479...</td>\n",
       "      <td>08/18/2023 12:50:00 PM</td>\n",
       "      <td>15</td>\n",
       "      <td>OTHER</td>\n",
       "      <td>FUNCTIONING PROPERLY</td>\n",
       "      <td>CLEAR</td>\n",
       "      <td>DAYLIGHT</td>\n",
       "      <td>REAR END</td>\n",
       "      <td>OTHER</td>\n",
       "      <td>STRAIGHT AND LEVEL</td>\n",
       "      <td>...</td>\n",
       "      <td>FRONT</td>\n",
       "      <td>M</td>\n",
       "      <td>45.0</td>\n",
       "      <td>SAFETY BELT USED</td>\n",
       "      <td>NOT APPLICABLE</td>\n",
       "      <td>NO INDICATION OF INJURY</td>\n",
       "      <td>FAILED TO YIELD</td>\n",
       "      <td>NOT OBSCURED</td>\n",
       "      <td>NORMAL</td>\n",
       "      <td>TEST NOT OFFERED</td>\n",
       "    </tr>\n",
       "    <tr>\n",
       "      <th>1</th>\n",
       "      <td>6c1659069e9c6285a650e70d6f9b574ed5f64c12888479...</td>\n",
       "      <td>08/18/2023 12:50:00 PM</td>\n",
       "      <td>15</td>\n",
       "      <td>OTHER</td>\n",
       "      <td>FUNCTIONING PROPERLY</td>\n",
       "      <td>CLEAR</td>\n",
       "      <td>DAYLIGHT</td>\n",
       "      <td>REAR END</td>\n",
       "      <td>OTHER</td>\n",
       "      <td>STRAIGHT AND LEVEL</td>\n",
       "      <td>...</td>\n",
       "      <td>FRONT</td>\n",
       "      <td>M</td>\n",
       "      <td>69.0</td>\n",
       "      <td>HELMET NOT USED</td>\n",
       "      <td>NOT APPLICABLE</td>\n",
       "      <td>NONINCAPACITATING INJURY</td>\n",
       "      <td>NONE</td>\n",
       "      <td>NOT OBSCURED</td>\n",
       "      <td>NORMAL</td>\n",
       "      <td>TEST NOT OFFERED</td>\n",
       "    </tr>\n",
       "    <tr>\n",
       "      <th>2</th>\n",
       "      <td>1ee2180a89cc02c0b756f95b5b2755bb5cc9d93450f5ca...</td>\n",
       "      <td>08/09/2023 07:55:00 PM</td>\n",
       "      <td>30</td>\n",
       "      <td>TRAFFIC SIGNAL</td>\n",
       "      <td>FUNCTIONING IMPROPERLY</td>\n",
       "      <td>CLEAR</td>\n",
       "      <td>DAYLIGHT</td>\n",
       "      <td>ANGLE</td>\n",
       "      <td>FOUR WAY</td>\n",
       "      <td>STRAIGHT AND LEVEL</td>\n",
       "      <td>...</td>\n",
       "      <td>FRONT</td>\n",
       "      <td>F</td>\n",
       "      <td>19.0</td>\n",
       "      <td>USAGE UNKNOWN</td>\n",
       "      <td>DID NOT DEPLOY</td>\n",
       "      <td>NONINCAPACITATING INJURY</td>\n",
       "      <td>NaN</td>\n",
       "      <td>NaN</td>\n",
       "      <td>NaN</td>\n",
       "      <td>NaN</td>\n",
       "    </tr>\n",
       "    <tr>\n",
       "      <th>3</th>\n",
       "      <td>1ee2180a89cc02c0b756f95b5b2755bb5cc9d93450f5ca...</td>\n",
       "      <td>08/09/2023 07:55:00 PM</td>\n",
       "      <td>30</td>\n",
       "      <td>TRAFFIC SIGNAL</td>\n",
       "      <td>FUNCTIONING IMPROPERLY</td>\n",
       "      <td>CLEAR</td>\n",
       "      <td>DAYLIGHT</td>\n",
       "      <td>ANGLE</td>\n",
       "      <td>FOUR WAY</td>\n",
       "      <td>STRAIGHT AND LEVEL</td>\n",
       "      <td>...</td>\n",
       "      <td>FRONT</td>\n",
       "      <td>F</td>\n",
       "      <td>33.0</td>\n",
       "      <td>USAGE UNKNOWN</td>\n",
       "      <td>DEPLOYED, FRONT</td>\n",
       "      <td>NONINCAPACITATING INJURY</td>\n",
       "      <td>UNKNOWN</td>\n",
       "      <td>UNKNOWN</td>\n",
       "      <td>NORMAL</td>\n",
       "      <td>TEST NOT OFFERED</td>\n",
       "    </tr>\n",
       "    <tr>\n",
       "      <th>4</th>\n",
       "      <td>1ee2180a89cc02c0b756f95b5b2755bb5cc9d93450f5ca...</td>\n",
       "      <td>08/09/2023 07:55:00 PM</td>\n",
       "      <td>30</td>\n",
       "      <td>TRAFFIC SIGNAL</td>\n",
       "      <td>FUNCTIONING IMPROPERLY</td>\n",
       "      <td>CLEAR</td>\n",
       "      <td>DAYLIGHT</td>\n",
       "      <td>ANGLE</td>\n",
       "      <td>FOUR WAY</td>\n",
       "      <td>STRAIGHT AND LEVEL</td>\n",
       "      <td>...</td>\n",
       "      <td>FRONT</td>\n",
       "      <td>M</td>\n",
       "      <td>38.0</td>\n",
       "      <td>USAGE UNKNOWN</td>\n",
       "      <td>DID NOT DEPLOY</td>\n",
       "      <td>NONINCAPACITATING INJURY</td>\n",
       "      <td>UNKNOWN</td>\n",
       "      <td>NOT OBSCURED</td>\n",
       "      <td>NORMAL</td>\n",
       "      <td>TEST NOT OFFERED</td>\n",
       "    </tr>\n",
       "  </tbody>\n",
       "</table>\n",
       "<p>5 rows × 34 columns</p>\n",
       "</div>"
      ],
      "text/plain": [
       "                                     CRASH_RECORD_ID              CRASH_DATE  \\\n",
       "0  6c1659069e9c6285a650e70d6f9b574ed5f64c12888479...  08/18/2023 12:50:00 PM   \n",
       "1  6c1659069e9c6285a650e70d6f9b574ed5f64c12888479...  08/18/2023 12:50:00 PM   \n",
       "2  1ee2180a89cc02c0b756f95b5b2755bb5cc9d93450f5ca...  08/09/2023 07:55:00 PM   \n",
       "3  1ee2180a89cc02c0b756f95b5b2755bb5cc9d93450f5ca...  08/09/2023 07:55:00 PM   \n",
       "4  1ee2180a89cc02c0b756f95b5b2755bb5cc9d93450f5ca...  08/09/2023 07:55:00 PM   \n",
       "\n",
       "   POSTED_SPEED_LIMIT TRAFFIC_CONTROL_DEVICE        DEVICE_CONDITION  \\\n",
       "0                  15                  OTHER    FUNCTIONING PROPERLY   \n",
       "1                  15                  OTHER    FUNCTIONING PROPERLY   \n",
       "2                  30         TRAFFIC SIGNAL  FUNCTIONING IMPROPERLY   \n",
       "3                  30         TRAFFIC SIGNAL  FUNCTIONING IMPROPERLY   \n",
       "4                  30         TRAFFIC SIGNAL  FUNCTIONING IMPROPERLY   \n",
       "\n",
       "  WEATHER_CONDITION LIGHTING_CONDITION FIRST_CRASH_TYPE TRAFFICWAY_TYPE  \\\n",
       "0             CLEAR           DAYLIGHT         REAR END           OTHER   \n",
       "1             CLEAR           DAYLIGHT         REAR END           OTHER   \n",
       "2             CLEAR           DAYLIGHT            ANGLE        FOUR WAY   \n",
       "3             CLEAR           DAYLIGHT            ANGLE        FOUR WAY   \n",
       "4             CLEAR           DAYLIGHT            ANGLE        FOUR WAY   \n",
       "\n",
       "            ALIGNMENT  ... FIRST_CONTACT_POINT SEX   AGE  SAFETY_EQUIPMENT  \\\n",
       "0  STRAIGHT AND LEVEL  ...               FRONT   M  45.0  SAFETY BELT USED   \n",
       "1  STRAIGHT AND LEVEL  ...               FRONT   M  69.0   HELMET NOT USED   \n",
       "2  STRAIGHT AND LEVEL  ...               FRONT   F  19.0     USAGE UNKNOWN   \n",
       "3  STRAIGHT AND LEVEL  ...               FRONT   F  33.0     USAGE UNKNOWN   \n",
       "4  STRAIGHT AND LEVEL  ...               FRONT   M  38.0     USAGE UNKNOWN   \n",
       "\n",
       "   AIRBAG_DEPLOYED     INJURY_CLASSIFICATION    DRIVER_ACTION  DRIVER_VISION  \\\n",
       "0   NOT APPLICABLE   NO INDICATION OF INJURY  FAILED TO YIELD   NOT OBSCURED   \n",
       "1   NOT APPLICABLE  NONINCAPACITATING INJURY             NONE   NOT OBSCURED   \n",
       "2   DID NOT DEPLOY  NONINCAPACITATING INJURY              NaN            NaN   \n",
       "3  DEPLOYED, FRONT  NONINCAPACITATING INJURY          UNKNOWN        UNKNOWN   \n",
       "4   DID NOT DEPLOY  NONINCAPACITATING INJURY          UNKNOWN   NOT OBSCURED   \n",
       "\n",
       "   PHYSICAL_CONDITION        BAC_RESULT  \n",
       "0              NORMAL  TEST NOT OFFERED  \n",
       "1              NORMAL  TEST NOT OFFERED  \n",
       "2                 NaN               NaN  \n",
       "3              NORMAL  TEST NOT OFFERED  \n",
       "4              NORMAL  TEST NOT OFFERED  \n",
       "\n",
       "[5 rows x 34 columns]"
      ]
     },
     "execution_count": 28,
     "metadata": {},
     "output_type": "execute_result"
    }
   ],
   "source": [
    "df_joined.head()"
   ]
  },
  {
   "cell_type": "code",
   "execution_count": 27,
   "metadata": {},
   "outputs": [
    {
     "data": {
      "text/plain": [
       "415768    12/31/2022 12:08:00 PM\n",
       "415767    12/31/2022 12:08:00 PM\n",
       "415766    12/31/2022 12:08:00 PM\n",
       "89285     12/31/2022 12:00:00 PM\n",
       "89288     12/31/2022 12:00:00 PM\n",
       "                   ...          \n",
       "267612    01/01/2020 01:24:00 AM\n",
       "267611    01/01/2020 01:24:00 AM\n",
       "267607    01/01/2020 01:24:00 AM\n",
       "519306    01/01/2020 01:10:00 PM\n",
       "519307    01/01/2020 01:10:00 PM\n",
       "Name: CRASH_DATE, Length: 533246, dtype: object"
      ]
     },
     "execution_count": 27,
     "metadata": {},
     "output_type": "execute_result"
    }
   ],
   "source": [
    "df_joined['CRASH_DATE'].sort_values(ascending=False)"
   ]
  },
  {
   "cell_type": "markdown",
   "metadata": {},
   "source": [
    "Grouping prim contributory causes \n",
    "dropped columns:\n",
    "-unable to determine\n",
    "-not applicable\n",
    "\n",
    "Columns We choose:\n",
    "1. failing to yield right of way\n",
    "2. following too closely\n",
    "3. improper overtaking/passing\n",
    "4. failing to reduce speed \n",
    "5. improper backing\n",
    "6. improper lane usage\n",
    "7. driving skills/knowledge/experience\n",
    "8. improper turning/no signal\n",
    "9. disregarding traffic signals + disregarding stop sign + DISREGARDING OTHER TRAFFIC SIGNS\n",
    "10. reckless driving (operating vehicle in reckless manner + UNDER THE INFLUENCE OF ALCOHOL/DRUGS + EXCEEDING SAFE SPEED FOR CONDITIONS + \n",
    "11. non human error (weather + equipment-vehicle condition + EVASIVE ACTION DUE TO ANIMAL, OBJECT, NONMOTORIST + animal + VISION OBSCURED\n",
    "\n"
   ]
  },
  {
   "cell_type": "code",
   "execution_count": 26,
   "metadata": {},
   "outputs": [
    {
     "data": {
      "text/plain": [
       "CRASH_RECORD_ID                       0\n",
       "RD_NO                              4555\n",
       "CRASH_DATE_EST_I                 720341\n",
       "CRASH_DATE                            0\n",
       "POSTED_SPEED_LIMIT                    0\n",
       "TRAFFIC_CONTROL_DEVICE                0\n",
       "DEVICE_CONDITION                      0\n",
       "WEATHER_CONDITION                     0\n",
       "LIGHTING_CONDITION                    0\n",
       "FIRST_CRASH_TYPE                      0\n",
       "TRAFFICWAY_TYPE                       0\n",
       "LANE_CNT                         579841\n",
       "ALIGNMENT                             0\n",
       "ROADWAY_SURFACE_COND                  0\n",
       "ROAD_DEFECT                           0\n",
       "REPORT_TYPE                       22589\n",
       "CRASH_TYPE                            0\n",
       "INTERSECTION_RELATED_I           600409\n",
       "NOT_RIGHT_OF_WAY_I               742793\n",
       "HIT_AND_RUN_I                    535597\n",
       "DAMAGE                                0\n",
       "DATE_POLICE_NOTIFIED                  0\n",
       "PRIM_CONTRIBUTORY_CAUSE               0\n",
       "SEC_CONTRIBUTORY_CAUSE                0\n",
       "STREET_NO                             0\n",
       "STREET_DIRECTION                      4\n",
       "STREET_NAME                           1\n",
       "BEAT_OF_OCCURRENCE                    5\n",
       "PHOTOS_TAKEN_I                   768742\n",
       "STATEMENTS_TAKEN_I               761764\n",
       "DOORING_I                        776430\n",
       "WORK_ZONE_I                      774318\n",
       "WORK_ZONE_TYPE                   775323\n",
       "WORKERS_PRESENT_I                777690\n",
       "NUM_UNITS                             0\n",
       "MOST_SEVERE_INJURY                 1714\n",
       "INJURIES_TOTAL                     1703\n",
       "INJURIES_FATAL                     1703\n",
       "INJURIES_INCAPACITATING            1703\n",
       "INJURIES_NON_INCAPACITATING        1703\n",
       "INJURIES_REPORTED_NOT_EVIDENT      1703\n",
       "INJURIES_NO_INDICATION             1703\n",
       "INJURIES_UNKNOWN                   1703\n",
       "CRASH_HOUR                            0\n",
       "CRASH_DAY_OF_WEEK                     0\n",
       "CRASH_MONTH                           0\n",
       "LATITUDE                           5218\n",
       "LONGITUDE                          5218\n",
       "LOCATION                           5218\n",
       "dtype: int64"
      ]
     },
     "execution_count": 26,
     "metadata": {},
     "output_type": "execute_result"
    }
   ],
   "source": [
    "df_crashes.isna().sum()"
   ]
  },
  {
   "cell_type": "code",
   "execution_count": 37,
   "metadata": {},
   "outputs": [
    {
     "data": {
      "text/plain": [
       "PERSON_ID                      0\n",
       "PERSON_TYPE                    0\n",
       "CRASH_RECORD_ID                0\n",
       "RD_NO                      10080\n",
       "VEHICLE_ID                 34155\n",
       "CRASH_DATE                     0\n",
       "SEAT_NO                  1364061\n",
       "CITY                      464292\n",
       "STATE                     446368\n",
       "ZIPCODE                   568500\n",
       "SEX                        27963\n",
       "AGE                       498987\n",
       "DRIVERS_LICENSE_STATE     707332\n",
       "DRIVERS_LICENSE_CLASS     868869\n",
       "SAFETY_EQUIPMENT            4777\n",
       "AIRBAG_DEPLOYED            32863\n",
       "EJECTION                   21013\n",
       "INJURY_CLASSIFICATION        711\n",
       "HOSPITAL                 1423381\n",
       "EMS_AGENCY               1532314\n",
       "EMS_RUN_NO               1680618\n",
       "DRIVER_ACTION             349088\n",
       "DRIVER_VISION             349596\n",
       "PHYSICAL_CONDITION        348158\n",
       "PEDPEDAL_ACTION          1677585\n",
       "PEDPEDAL_VISIBILITY      1677644\n",
       "PEDPEDAL_LOCATION        1677586\n",
       "BAC_RESULT                348109\n",
       "BAC_RESULT VALUE         1708138\n",
       "CELL_PHONE_USE           1708920\n",
       "dtype: int64"
      ]
     },
     "execution_count": 37,
     "metadata": {},
     "output_type": "execute_result"
    }
   ],
   "source": [
    "df_people.isna().sum()"
   ]
  },
  {
   "cell_type": "code",
   "execution_count": 70,
   "metadata": {},
   "outputs": [
    {
     "data": {
      "text/plain": [
       "IN ROADWAY         14454\n",
       "IN CROSSWALK       10722\n",
       "UNKNOWN/NA          2727\n",
       "NOT IN ROADWAY      1437\n",
       "BIKEWAY             1431\n",
       "BIKE LANE           1076\n",
       "DRIVEWAY ACCESS      464\n",
       "SHOULDER             181\n",
       "Name: PEDPEDAL_LOCATION, dtype: int64"
      ]
     },
     "execution_count": 70,
     "metadata": {},
     "output_type": "execute_result"
    }
   ],
   "source": [
    "df_people['PEDPEDAL_LOCATION'].value_counts()"
   ]
  },
  {
   "cell_type": "code",
   "execution_count": 69,
   "metadata": {},
   "outputs": [
    {
     "data": {
      "text/plain": [
       "PASSENGER                                 976728\n",
       "SPORT UTILITY VEHICLE (SUV)               211332\n",
       "UNKNOWN/NA                                145049\n",
       "VAN/MINI-VAN                               74291\n",
       "PICKUP                                     49599\n",
       "TRUCK - SINGLE UNIT                        29351\n",
       "OTHER                                      18631\n",
       "BUS OVER 15 PASS.                          16464\n",
       "TRACTOR W/ SEMI-TRAILER                    14796\n",
       "BUS UP TO 15 PASS.                          4175\n",
       "MOTORCYCLE (OVER 150CC)                     3764\n",
       "SINGLE UNIT TRUCK WITH TRAILER              2506\n",
       "OTHER VEHICLE WITH TRAILER                  2072\n",
       "TRACTOR W/O SEMI-TRAILER                    1959\n",
       "AUTOCYCLE                                    665\n",
       "MOPED OR MOTORIZED BICYCLE                   502\n",
       "MOTOR DRIVEN CYCLE                           326\n",
       "ALL-TERRAIN VEHICLE (ATV)                    177\n",
       "FARM EQUIPMENT                                81\n",
       "3-WHEELED MOTORCYCLE (2 REAR WHEELS)          56\n",
       "RECREATIONAL OFF-HIGHWAY VEHICLE (ROV)        24\n",
       "SNOWMOBILE                                     8\n",
       "Name: VEHICLE_TYPE, dtype: int64"
      ]
     },
     "execution_count": 69,
     "metadata": {},
     "output_type": "execute_result"
    }
   ],
   "source": [
    "df_vehicles[\"VEHICLE_TYPE\"].value_counts()"
   ]
  },
  {
   "cell_type": "code",
   "execution_count": 33,
   "metadata": {},
   "outputs": [],
   "source": [
    "crash_columns_to_drop = [\"PHOTOS_TAKEN_I\",\"STATEMENTS_TAKEN_I\",\"DOORING_I\",\"WORK_ZONE_I\",\"WORK_ZONE_TYPE\",\"WORKERS_PRESENT_I\"]\n",
    "\n",
    "df_crashes.drop(crash_columns_to_drop, axis=1, inplace=True)"
   ]
  },
  {
   "cell_type": "code",
   "execution_count": 71,
   "metadata": {},
   "outputs": [
    {
     "data": {
      "text/plain": [
       "53.0     275\n",
       "65.0     267\n",
       "40.0     210\n",
       "75.0     198\n",
       "60.0     153\n",
       "        ... \n",
       "95.0       1\n",
       "31.0       1\n",
       "101.0      1\n",
       "103.0      1\n",
       "196.0      1\n",
       "Name: TOTAL_VEHICLE_LENGTH, Length: 125, dtype: int64"
      ]
     },
     "execution_count": 71,
     "metadata": {},
     "output_type": "execute_result"
    }
   ],
   "source": [
    "df_vehicles[\"TOTAL_VEHICLE_LENGTH\"].value_counts()"
   ]
  },
  {
   "cell_type": "code",
   "execution_count": 35,
   "metadata": {},
   "outputs": [
    {
     "data": {
      "text/plain": [
       "CRASH_RECORD_ID                       0\n",
       "RD_NO                              4555\n",
       "CRASH_DATE_EST_I                 720341\n",
       "CRASH_DATE                            0\n",
       "POSTED_SPEED_LIMIT                    0\n",
       "TRAFFIC_CONTROL_DEVICE                0\n",
       "DEVICE_CONDITION                      0\n",
       "WEATHER_CONDITION                     0\n",
       "LIGHTING_CONDITION                    0\n",
       "FIRST_CRASH_TYPE                      0\n",
       "TRAFFICWAY_TYPE                       0\n",
       "LANE_CNT                         579841\n",
       "ALIGNMENT                             0\n",
       "ROADWAY_SURFACE_COND                  0\n",
       "ROAD_DEFECT                           0\n",
       "REPORT_TYPE                       22589\n",
       "CRASH_TYPE                            0\n",
       "INTERSECTION_RELATED_I           600409\n",
       "NOT_RIGHT_OF_WAY_I               742793\n",
       "HIT_AND_RUN_I                    535597\n",
       "DAMAGE                                0\n",
       "DATE_POLICE_NOTIFIED                  0\n",
       "PRIM_CONTRIBUTORY_CAUSE               0\n",
       "SEC_CONTRIBUTORY_CAUSE                0\n",
       "STREET_NO                             0\n",
       "STREET_DIRECTION                      4\n",
       "STREET_NAME                           1\n",
       "BEAT_OF_OCCURRENCE                    5\n",
       "NUM_UNITS                             0\n",
       "MOST_SEVERE_INJURY                 1714\n",
       "INJURIES_TOTAL                     1703\n",
       "INJURIES_FATAL                     1703\n",
       "INJURIES_INCAPACITATING            1703\n",
       "INJURIES_NON_INCAPACITATING        1703\n",
       "INJURIES_REPORTED_NOT_EVIDENT      1703\n",
       "INJURIES_NO_INDICATION             1703\n",
       "INJURIES_UNKNOWN                   1703\n",
       "CRASH_HOUR                            0\n",
       "CRASH_DAY_OF_WEEK                     0\n",
       "CRASH_MONTH                           0\n",
       "LATITUDE                           5218\n",
       "LONGITUDE                          5218\n",
       "LOCATION                           5218\n",
       "dtype: int64"
      ]
     },
     "execution_count": 35,
     "metadata": {},
     "output_type": "execute_result"
    }
   ],
   "source": [
    "df_crash.isna().sum()"
   ]
  },
  {
   "cell_type": "code",
   "execution_count": 73,
   "metadata": {},
   "outputs": [],
   "source": [
    "#df_crash.join(df_people.set_index('CRASH_RECORD_ID'), on='CRASH_RECORD_ID', how=\"left\")"
   ]
  },
  {
   "cell_type": "code",
   "execution_count": 29,
   "metadata": {},
   "outputs": [
    {
     "data": {
      "text/plain": [
       "0.00    190\n",
       "0.18    134\n",
       "0.17    129\n",
       "0.21    116\n",
       "0.14    109\n",
       "0.20    102\n",
       "0.16     99\n",
       "0.19     91\n",
       "0.15     82\n",
       "0.22     80\n",
       "0.23     75\n",
       "0.11     72\n",
       "0.13     71\n",
       "0.12     70\n",
       "0.24     65\n",
       "0.26     48\n",
       "0.25     45\n",
       "0.10     36\n",
       "0.27     35\n",
       "0.09     33\n",
       "0.28     32\n",
       "0.08     25\n",
       "0.29     19\n",
       "0.07     18\n",
       "0.03     17\n",
       "0.30     17\n",
       "0.33     16\n",
       "0.04     15\n",
       "0.05     11\n",
       "0.32     10\n",
       "0.35      9\n",
       "0.06      8\n",
       "0.02      8\n",
       "0.31      8\n",
       "0.38      7\n",
       "0.36      4\n",
       "0.34      4\n",
       "0.39      3\n",
       "0.44      3\n",
       "0.01      3\n",
       "1.00      2\n",
       "0.60      2\n",
       "0.88      2\n",
       "0.79      2\n",
       "0.45      2\n",
       "0.80      1\n",
       "0.98      1\n",
       "0.95      1\n",
       "0.99      1\n",
       "0.85      1\n",
       "0.58      1\n",
       "0.47      1\n",
       "0.37      1\n",
       "0.67      1\n",
       "0.41      1\n",
       "0.40      1\n",
       "Name: BAC_RESULT VALUE, dtype: int64"
      ]
     },
     "execution_count": 29,
     "metadata": {},
     "output_type": "execute_result"
    }
   ],
   "source": [
    "df_people['BAC_RESULT VALUE'].value_counts()"
   ]
  },
  {
   "cell_type": "code",
   "execution_count": null,
   "metadata": {},
   "outputs": [],
   "source": []
  }
 ],
 "metadata": {
  "kernelspec": {
   "display_name": "Python 3",
   "language": "python",
   "name": "python3"
  },
  "language_info": {
   "codemirror_mode": {
    "name": "ipython",
    "version": 3
   },
   "file_extension": ".py",
   "mimetype": "text/x-python",
   "name": "python",
   "nbconvert_exporter": "python",
   "pygments_lexer": "ipython3",
   "version": "3.8.5"
  }
 },
 "nbformat": 4,
 "nbformat_minor": 4
}
