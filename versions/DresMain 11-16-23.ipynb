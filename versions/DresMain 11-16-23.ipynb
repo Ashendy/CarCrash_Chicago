{
 "cells": [
  {
   "cell_type": "markdown",
   "metadata": {},
   "source": [
    "# Chicago Car Crash Analysis"
   ]
  },
  {
   "cell_type": "markdown",
   "metadata": {},
   "source": [
    "## Importing Packages"
   ]
  },
  {
   "cell_type": "code",
   "execution_count": 345,
   "metadata": {},
   "outputs": [],
   "source": [
    "# Importing packages needed for this notebook\n",
    "\n",
    "import pandas as pd\n",
    "import numpy as np\n",
    "\n",
    "import matplotlib.pyplot as plt\n",
    "import seaborn as sns\n",
    "\n",
    "from sklearn.model_selection import train_test_split\n",
    "\n",
    "from sklearn.impute import SimpleImputer\n",
    "from sklearn.preprocessing import OneHotEncoder"
   ]
  },
  {
   "cell_type": "code",
   "execution_count": 346,
   "metadata": {
    "scrolled": true
   },
   "outputs": [
    {
     "name": "stderr",
     "output_type": "stream",
     "text": [
      "D:\\Documents\\anaconda3\\envs\\learn-env\\lib\\site-packages\\IPython\\core\\interactiveshell.py:3145: DtypeWarning: Columns (19,21,40,41,42,44,48,49,50,53,55,58,59,61,71) have mixed types.Specify dtype option on import or set low_memory=False.\n",
      "  has_raised = await self.run_ast_nodes(code_ast.body, cell_name,\n",
      "D:\\Documents\\anaconda3\\envs\\learn-env\\lib\\site-packages\\IPython\\core\\interactiveshell.py:3145: DtypeWarning: Columns (20,24,25,26,29) have mixed types.Specify dtype option on import or set low_memory=False.\n",
      "  has_raised = await self.run_ast_nodes(code_ast.body, cell_name,\n"
     ]
    }
   ],
   "source": [
    "# Reading the data in\n",
    "\n",
    "df_crashes = pd.read_csv(\"data/Traffic_Crashes_-_Crashes_20231109.csv\")\n",
    "df_vehicles = pd.read_csv(\"data/Traffic_Crashes_-_Vehicles_20231109.csv\")\n",
    "df_people = pd.read_csv(\"data/Traffic_Crashes_-_People_20231109.csv\")"
   ]
  },
  {
   "cell_type": "code",
   "execution_count": 347,
   "metadata": {},
   "outputs": [
    {
     "data": {
      "text/plain": [
       "Y    170001\n",
       "N      8437\n",
       "Name: INTERSECTION_RELATED_I, dtype: int64"
      ]
     },
     "execution_count": 347,
     "metadata": {},
     "output_type": "execute_result"
    }
   ],
   "source": [
    "df_crashes['INTERSECTION_RELATED_I'].value_counts()"
   ]
  },
  {
   "cell_type": "code",
   "execution_count": 348,
   "metadata": {},
   "outputs": [],
   "source": [
    "# Dropping columns\n",
    "\n",
    "columns_to_drop_crashes = ['RD_NO', 'CRASH_DATE_EST_I', 'LANE_CNT', 'REPORT_TYPE', 'INTERSECTION_RELATED_I', 'NOT_RIGHT_OF_WAY_I', 'HIT_AND_RUN_I', 'DATE_POLICE_NOTIFIED',\n",
    "                           'SEC_CONTRIBUTORY_CAUSE', 'STREET_NO', 'STREET_DIRECTION', 'STREET_NAME', 'BEAT_OF_OCCURRENCE', 'PHOTOS_TAKEN_I', 'STATEMENTS_TAKEN_I', 'DOORING_I',\n",
    "                           'WORK_ZONE_I', 'WORK_ZONE_TYPE', 'WORKERS_PRESENT_I', 'INJURIES_FATAL', 'INJURIES_INCAPACITATING', 'INJURIES_NON_INCAPACITATING',\n",
    "                           'INJURIES_REPORTED_NOT_EVIDENT','INJURIES_NO_INDICATION', 'INJURIES_UNKNOWN', 'LATITUDE', 'LONGITUDE', 'LOCATION'\n",
    "                           ]\n",
    "\n",
    "columns_to_drop_vehicles = ['RD_NO', 'CRASH_DATE', 'CRASH_UNIT_ID', 'UNIT_NO', 'UNIT_TYPE', 'NUM_PASSENGERS', 'VEHICLE_ID', 'CMRC_VEH_I', 'MAKE', 'MODEL', 'VEHICLE_YEAR',\n",
    "                            'VEHICLE_DEFECT','VEHICLE_USE', 'TRAVEL_DIRECTION', 'TOWED_I', 'FIRE_I', 'OCCUPANT_CNT', 'EXCEED_SPEED_LIMIT_I', 'TOWED_BY', 'TOWED_TO',\n",
    "                            'AREA_00_I', 'AREA_01_I', 'AREA_02_I', 'AREA_03_I', 'AREA_04_I', 'AREA_05_I', 'AREA_06_I', 'AREA_07_I', 'AREA_08_I', 'AREA_09_I',\n",
    "                            'AREA_10_I', 'AREA_11_I', 'AREA_12_I', 'AREA_99_I',  'CMV_ID', 'USDOT_NO', 'CCMC_NO', 'ILCC_NO', 'COMMERCIAL_SRC',\n",
    "                            'GVWR', 'CARRIER_NAME', 'CARRIER_STATE', 'CARRIER_CITY', 'HAZMAT_PLACARDS_I', 'HAZMAT_NAME','UN_NO', 'HAZMAT_PRESENT_I',\n",
    "                            'HAZMAT_REPORT_I', 'HAZMAT_REPORT_NO', 'MCS_REPORT_I', 'MCS_REPORT_NO', 'HAZMAT_VIO_CAUSE_CRASH_I', 'MCS_VIO_CAUSE_CRASH_I', 'IDOT_PERMIT_NO',\n",
    "                            'WIDE_LOAD_I', 'TRAILER1_WIDTH', 'TRAILER2_WIDTH', 'TRAILER1_LENGTH', 'TRAILER2_LENGTH', 'TOTAL_VEHICLE_LENGTH', 'AXLE_CNT', 'VEHICLE_CONFIG', 'CARGO_BODY_TYPE',\n",
    "                            'LOAD_TYPE', 'HAZMAT_OUT_OF_SERVICE_I', 'MCS_OUT_OF_SERVICE_I', 'HAZMAT_CLASS'\n",
    "                            ]\n",
    "\n",
    "columns_to_drop_people = ['RD_NO', 'CRASH_DATE', 'VEHICLE_ID', 'PERSON_ID', 'SEAT_NO', 'CITY', 'STATE', 'ZIPCODE', 'DRIVERS_LICENSE_STATE', 'DRIVERS_LICENSE_CLASS', 'EJECTION',\n",
    "                          'HOSPITAL', 'EMS_AGENCY', 'EMS_RUN_NO', 'BAC_RESULT VALUE', 'PEDPEDAL_ACTION', 'PEDPEDAL_VISIBILITY', 'PEDPEDAL_LOCATION', 'CELL_PHONE_USE', 'INJURY_CLASSIFICATION'\n",
    "                          ]\n",
    "\n",
    "df_crashes = df_crashes.drop(columns_to_drop_crashes, axis=1)\n",
    "df_vehicles = df_vehicles.drop(columns_to_drop_vehicles, axis=1)\n",
    "df_people = df_people.drop(columns_to_drop_people, axis=1)"
   ]
  },
  {
   "cell_type": "markdown",
   "metadata": {},
   "source": [
    "## Creating a Master DataFrame"
   ]
  },
  {
   "cell_type": "code",
   "execution_count": 349,
   "metadata": {},
   "outputs": [],
   "source": [
    "master_df = pd.merge(df_crashes, pd.merge(df_vehicles, df_people, on=\"CRASH_RECORD_ID\"), on=\"CRASH_RECORD_ID\")"
   ]
  },
  {
   "cell_type": "markdown",
   "metadata": {},
   "source": [
    "## Info and column names of each table"
   ]
  },
  {
   "cell_type": "code",
   "execution_count": 350,
   "metadata": {},
   "outputs": [
    {
     "name": "stdout",
     "output_type": "stream",
     "text": [
      "<class 'pandas.core.frame.DataFrame'>\n",
      "Int64Index: 3594423 entries, 0 to 3594422\n",
      "Data columns (total 34 columns):\n",
      " #   Column                   Dtype  \n",
      "---  ------                   -----  \n",
      " 0   CRASH_RECORD_ID          object \n",
      " 1   CRASH_DATE               object \n",
      " 2   POSTED_SPEED_LIMIT       int64  \n",
      " 3   TRAFFIC_CONTROL_DEVICE   object \n",
      " 4   DEVICE_CONDITION         object \n",
      " 5   WEATHER_CONDITION        object \n",
      " 6   LIGHTING_CONDITION       object \n",
      " 7   FIRST_CRASH_TYPE         object \n",
      " 8   TRAFFICWAY_TYPE          object \n",
      " 9   ALIGNMENT                object \n",
      " 10  ROADWAY_SURFACE_COND     object \n",
      " 11  ROAD_DEFECT              object \n",
      " 12  CRASH_TYPE               object \n",
      " 13  DAMAGE                   object \n",
      " 14  PRIM_CONTRIBUTORY_CAUSE  object \n",
      " 15  NUM_UNITS                int64  \n",
      " 16  MOST_SEVERE_INJURY       object \n",
      " 17  INJURIES_TOTAL           float64\n",
      " 18  CRASH_HOUR               int64  \n",
      " 19  CRASH_DAY_OF_WEEK        int64  \n",
      " 20  CRASH_MONTH              int64  \n",
      " 21  LIC_PLATE_STATE          object \n",
      " 22  VEHICLE_TYPE             object \n",
      " 23  MANEUVER                 object \n",
      " 24  FIRST_CONTACT_POINT      object \n",
      " 25  PERSON_TYPE              object \n",
      " 26  SEX                      object \n",
      " 27  AGE                      float64\n",
      " 28  SAFETY_EQUIPMENT         object \n",
      " 29  AIRBAG_DEPLOYED          object \n",
      " 30  DRIVER_ACTION            object \n",
      " 31  DRIVER_VISION            object \n",
      " 32  PHYSICAL_CONDITION       object \n",
      " 33  BAC_RESULT               object \n",
      "dtypes: float64(2), int64(5), object(27)\n",
      "memory usage: 959.8+ MB\n"
     ]
    }
   ],
   "source": [
    "master_df.info()"
   ]
  },
  {
   "cell_type": "markdown",
   "metadata": {},
   "source": [
    "## Takeaway\n",
    "\n",
    "- 3,594,423 observations\n",
    "- 36 combined columns\n",
    "- 987 MB combined memory file"
   ]
  },
  {
   "cell_type": "markdown",
   "metadata": {},
   "source": [
    "## Data Cleaning"
   ]
  },
  {
   "cell_type": "code",
   "execution_count": 351,
   "metadata": {
    "scrolled": true
   },
   "outputs": [
    {
     "name": "stdout",
     "output_type": "stream",
     "text": [
      "<class 'pandas.core.frame.DataFrame'>\n",
      "Int64Index: 305598 entries, 0 to 3594374\n",
      "Data columns (total 35 columns):\n",
      " #   Column                   Non-Null Count   Dtype         \n",
      "---  ------                   --------------   -----         \n",
      " 0   CRASH_RECORD_ID          305598 non-null  object        \n",
      " 1   CRASH_DATE               305598 non-null  datetime64[ns]\n",
      " 2   POSTED_SPEED_LIMIT       305598 non-null  int64         \n",
      " 3   TRAFFIC_CONTROL_DEVICE   305598 non-null  object        \n",
      " 4   DEVICE_CONDITION         305598 non-null  object        \n",
      " 5   WEATHER_CONDITION        305598 non-null  object        \n",
      " 6   LIGHTING_CONDITION       305598 non-null  object        \n",
      " 7   FIRST_CRASH_TYPE         305598 non-null  object        \n",
      " 8   TRAFFICWAY_TYPE          305598 non-null  object        \n",
      " 9   ALIGNMENT                305598 non-null  object        \n",
      " 10  ROADWAY_SURFACE_COND     305598 non-null  object        \n",
      " 11  ROAD_DEFECT              305598 non-null  object        \n",
      " 12  CRASH_TYPE               305598 non-null  object        \n",
      " 13  DAMAGE                   305598 non-null  object        \n",
      " 14  PRIM_CONTRIBUTORY_CAUSE  305598 non-null  object        \n",
      " 15  NUM_UNITS                305598 non-null  int64         \n",
      " 16  MOST_SEVERE_INJURY       305598 non-null  object        \n",
      " 17  INJURIES_TOTAL           305598 non-null  float64       \n",
      " 18  CRASH_HOUR               305598 non-null  int64         \n",
      " 19  CRASH_DAY_OF_WEEK        305598 non-null  int64         \n",
      " 20  CRASH_MONTH              305598 non-null  int64         \n",
      " 21  LIC_PLATE_STATE          293368 non-null  object        \n",
      " 22  VEHICLE_TYPE             305598 non-null  object        \n",
      " 23  MANEUVER                 305598 non-null  object        \n",
      " 24  FIRST_CONTACT_POINT      305512 non-null  object        \n",
      " 25  PERSON_TYPE              305598 non-null  object        \n",
      " 26  SEX                      298205 non-null  object        \n",
      " 27  AGE                      251649 non-null  float64       \n",
      " 28  SAFETY_EQUIPMENT         303965 non-null  object        \n",
      " 29  AIRBAG_DEPLOYED          293688 non-null  object        \n",
      " 30  DRIVER_ACTION            209120 non-null  object        \n",
      " 31  DRIVER_VISION            208933 non-null  object        \n",
      " 32  PHYSICAL_CONDITION       209510 non-null  object        \n",
      " 33  BAC_RESULT               209238 non-null  object        \n",
      " 34  YEAR                     305598 non-null  int64         \n",
      "dtypes: datetime64[ns](1), float64(2), int64(6), object(26)\n",
      "memory usage: 83.9+ MB\n"
     ]
    }
   ],
   "source": [
    "# Filtering from 2020 and on\n",
    "\n",
    "master_df['CRASH_DATE'] = pd.to_datetime(master_df['CRASH_DATE'])\n",
    "master_df['YEAR'] = master_df['CRASH_DATE'].dt.year\n",
    "master_df = master_df.loc[master_df['INJURIES_TOTAL'] > 0]\n",
    "master_df = master_df[\n",
    "    (master_df[\"YEAR\"] >= 2020) &\n",
    "    ((master_df[\"VEHICLE_TYPE\"] == \"PASSENGER\") |\n",
    "     (master_df[\"VEHICLE_TYPE\"] == \"SPORT UTILITY VEHICLE (SUV)\") |\n",
    "     (master_df[\"VEHICLE_TYPE\"] == \"VAN/MINI-VAN\"))\n",
    "]\n",
    "master_df.info()"
   ]
  },
  {
   "cell_type": "markdown",
   "metadata": {},
   "source": [
    "## Takeaway\n",
    "\n",
    "- We filtered the data from year 2020 and after, "
   ]
  },
  {
   "cell_type": "code",
   "execution_count": 352,
   "metadata": {},
   "outputs": [
    {
     "data": {
      "text/plain": [
       "CRASH_RECORD_ID                0\n",
       "CRASH_DATE                     0\n",
       "POSTED_SPEED_LIMIT             0\n",
       "TRAFFIC_CONTROL_DEVICE         0\n",
       "DEVICE_CONDITION               0\n",
       "WEATHER_CONDITION              0\n",
       "LIGHTING_CONDITION             0\n",
       "FIRST_CRASH_TYPE               0\n",
       "TRAFFICWAY_TYPE                0\n",
       "ALIGNMENT                      0\n",
       "ROADWAY_SURFACE_COND           0\n",
       "ROAD_DEFECT                    0\n",
       "CRASH_TYPE                     0\n",
       "DAMAGE                         0\n",
       "PRIM_CONTRIBUTORY_CAUSE        0\n",
       "NUM_UNITS                      0\n",
       "MOST_SEVERE_INJURY             0\n",
       "INJURIES_TOTAL                 0\n",
       "CRASH_HOUR                     0\n",
       "CRASH_DAY_OF_WEEK              0\n",
       "CRASH_MONTH                    0\n",
       "LIC_PLATE_STATE            12230\n",
       "VEHICLE_TYPE                   0\n",
       "MANEUVER                       0\n",
       "FIRST_CONTACT_POINT           86\n",
       "PERSON_TYPE                    0\n",
       "SEX                         7393\n",
       "AGE                        53949\n",
       "SAFETY_EQUIPMENT            1633\n",
       "AIRBAG_DEPLOYED            11910\n",
       "DRIVER_ACTION              96478\n",
       "DRIVER_VISION              96665\n",
       "PHYSICAL_CONDITION         96088\n",
       "BAC_RESULT                 96360\n",
       "YEAR                           0\n",
       "dtype: int64"
      ]
     },
     "execution_count": 352,
     "metadata": {},
     "output_type": "execute_result"
    }
   ],
   "source": [
    "master_df.isna().sum()"
   ]
  },
  {
   "cell_type": "markdown",
   "metadata": {},
   "source": [
    "# Andy's Space"
   ]
  },
  {
   "cell_type": "code",
   "execution_count": 353,
   "metadata": {
    "scrolled": true
   },
   "outputs": [
    {
     "data": {
      "text/plain": [
       "NO DEFECTS    301095\n",
       "DEFECTS         4503\n",
       "Name: ROAD_DEFECT, dtype: int64"
      ]
     },
     "execution_count": 353,
     "metadata": {},
     "output_type": "execute_result"
    }
   ],
   "source": [
    "defect_dict = {\"NO DEFECTS\" : \"NO DEFECTS\", \"UNKNOWN\": \"NO DEFECTS\", \"WORN SURFACE\": \"DEFECTS\", \"OTHER\":\"DEFECTS\",\"RUT, HOLES\": \"DEFECTS\", \"SHOULDER DEFECT\":\"DEFECTS\", \"DEBRIS ON ROADWAY\": \"DEFECTS\"}\n",
    "\n",
    "master_df['ROAD_DEFECT'] = master_df['ROAD_DEFECT'].map(defect_dict)\n",
    "master_df['ROAD_DEFECT'].value_counts()"
   ]
  },
  {
   "cell_type": "code",
   "execution_count": 354,
   "metadata": {},
   "outputs": [
    {
     "data": {
      "text/plain": [
       "INJURY AND / OR TOW DUE TO CRASH    305506\n",
       "NO INJURY / DRIVE AWAY                  92\n",
       "Name: CRASH_TYPE, dtype: int64"
      ]
     },
     "execution_count": 354,
     "metadata": {},
     "output_type": "execute_result"
    }
   ],
   "source": [
    "master_df[\"CRASH_TYPE\"].value_counts()"
   ]
  },
  {
   "cell_type": "code",
   "execution_count": 355,
   "metadata": {},
   "outputs": [
    {
     "data": {
      "text/plain": [
       "OVER $1500     259341\n",
       "UNDER $1500     46257\n",
       "Name: DAMAGE, dtype: int64"
      ]
     },
     "execution_count": 355,
     "metadata": {},
     "output_type": "execute_result"
    }
   ],
   "source": [
    "master_df[\"DAMAGE\"].value_counts()\n",
    "master_df['DAMAGE'] = master_df['DAMAGE'].apply(lambda x: 'OVER $1500' if 'OVER $1,500' in x else \"UNDER $1500\")\n",
    "master_df['DAMAGE'].value_counts()"
   ]
  },
  {
   "cell_type": "code",
   "execution_count": 356,
   "metadata": {},
   "outputs": [
    {
     "data": {
      "text/plain": [
       "UNABLE TO DETERMINE                                                                 83621\n",
       "FAILING TO YIELD RIGHT-OF-WAY                                                       53085\n",
       "FOLLOWING TOO CLOSELY                                                               26314\n",
       "FAILING TO REDUCE SPEED TO AVOID CRASH                                              26078\n",
       "DISREGARDING TRAFFIC SIGNALS                                                        24689\n",
       "IMPROPER TURNING/NO SIGNAL                                                          11340\n",
       "IMPROPER OVERTAKING/PASSING                                                          9315\n",
       "NOT APPLICABLE                                                                       9116\n",
       "DISREGARDING STOP SIGN                                                               8654\n",
       "OPERATING VEHICLE IN ERRATIC, RECKLESS, CARELESS, NEGLIGENT OR AGGRESSIVE MANNER     7296\n",
       "DRIVING SKILLS/KNOWLEDGE/EXPERIENCE                                                  6699\n",
       "IMPROPER LANE USAGE                                                                  6380\n",
       "PHYSICAL CONDITION OF DRIVER                                                         4674\n",
       "DRIVING ON WRONG SIDE/WRONG WAY                                                      4450\n",
       "WEATHER                                                                              3960\n",
       "UNDER THE INFLUENCE OF ALCOHOL/DRUGS (USE WHEN ARREST IS EFFECTED)                   3416\n",
       "DISTRACTION - FROM INSIDE VEHICLE                                                    3136\n",
       "EQUIPMENT - VEHICLE CONDITION                                                        2709\n",
       "VISION OBSCURED (SIGNS, TREE LIMBS, BUILDINGS, ETC.)                                 2261\n",
       "DISREGARDING OTHER TRAFFIC SIGNS                                                     1852\n",
       "DISTRACTION - FROM OUTSIDE VEHICLE                                                   1604\n",
       "IMPROPER BACKING                                                                     1554\n",
       "CELL PHONE USE OTHER THAN TEXTING                                                     597\n",
       "EVASIVE ACTION DUE TO ANIMAL, OBJECT, NONMOTORIST                                     588\n",
       "TURNING RIGHT ON RED                                                                  362\n",
       "DISREGARDING ROAD MARKINGS                                                            325\n",
       "HAD BEEN DRINKING (USE WHEN ARREST IS NOT MADE)                                       322\n",
       "ROAD CONSTRUCTION/MAINTENANCE                                                         265\n",
       "DISREGARDING YIELD SIGN                                                               187\n",
       "ROAD ENGINEERING/SURFACE/MARKING DEFECTS                                              164\n",
       "DISTRACTION - OTHER ELECTRONIC DEVICE (NAVIGATION DEVICE, DVD PLAYER, ETC.)           161\n",
       "ANIMAL                                                                                112\n",
       "TEXTING                                                                               100\n",
       "RELATED TO BUS STOP                                                                    83\n",
       "OBSTRUCTED CROSSWALKS                                                                  63\n",
       "BICYCLE ADVANCING LEGALLY ON RED LIGHT                                                 23\n",
       "PASSING STOPPED SCHOOL BUS                                                             23\n",
       "MOTORCYCLE ADVANCING LEGALLY ON RED LIGHT                                              20\n",
       "Name: PRIM_CONTRIBUTORY_CAUSE, dtype: int64"
      ]
     },
     "execution_count": 356,
     "metadata": {},
     "output_type": "execute_result"
    }
   ],
   "source": [
    "#talk about this with team\n",
    "master_df[\"PRIM_CONTRIBUTORY_CAUSE\"].value_counts()"
   ]
  },
  {
   "cell_type": "code",
   "execution_count": 357,
   "metadata": {},
   "outputs": [
    {
     "data": {
      "text/plain": [
       "HUMAN FACTORS                      148992\n",
       "SIGNAGE/TRAFFIC CONTROL DEVICES     47005\n",
       "MISC FACTORS                        18567\n",
       "ENVIRONMENTAL FACTORS                6333\n",
       "INFRASTRUCTURE ISSUES                 492\n",
       "Name: PRIM_CONTRIBUTORY_CAUSE, dtype: int64"
      ]
     },
     "execution_count": 357,
     "metadata": {},
     "output_type": "execute_result"
    }
   ],
   "source": [
    "prim_cause_dict = { 'FOLLOWING TOO CLOSELY': \"HUMAN FACTORS\", 'FAILING TO REDUCE SPEED TO AVOID CRASH': \"HUMAN FACTORS\", \n",
    "                   'IMPROPER TURNING/NO SIGNAL': 'HUMAN FACTORS', 'IMPROPER OVERTAKING/PASSING' : 'HUMAN FACTORS',\n",
    "                   'OPERATING VEHICLE IN ERRATIC, RECKLESS, CARELESS, NEGLIGENT OR AGGRESSIVE MANNER': 'HUMAN FACTORS',\n",
    "                   'PHYSICAL CONDITION OF DRIVER': \"HUMAN FACTORS\", \n",
    "                   'UNDER THE INFLUENCE OF ALCOHOL/DRUGS (USE WHEN ARREST IS EFFECTED)': \"HUMAN FACTORS\",\n",
    "                   'DISTRACTION - FROM INSIDE VEHICLE':\"HUMAN FACTORS\", 'DISTRACTION - FROM OUTSIDE VEHICLE': 'HUMAN FACTORS',\n",
    "                   'TEXTING':\"HUMAN FACTORS\", 'IMPROPER BACKING':\"HUMAN FACTORS\", 'CELL PHONE USE OTHER THAN TEXTING': \"HUMAN FACTORS\",\n",
    "                   'HAD BEEN DRINKING (USE WHEN ARREST IS NOT MADE)': \"HUMAN FACTORS\", \n",
    "                   'DISTRACTION - OTHER ELECTRONIC DEVICE (NAVIGATION DEVICE, DVD PLAYER, ETC.)':\"HUMAN FACTORS\",\n",
    "                   'VISION OBSCURED (SIGNS, TREE LIMBS, BUILDINGS, ETC.)': \"ENVIRONMENTAL FACTORS\", 'ANIMAL': \"ENVIRONMENTAL FACTORS\",\n",
    "                   'WEATHER': \"ENVIRONMENTAL FACTORS\", 'EVASIVE ACTION DUE TO ANIMAL,OBJECT, NONMOTORIST': \"ENVIRONMENTAL FACTORS\",\n",
    "                   'FAILING TO YIELD RIGHT-OF-WAY':\"HUMAN FACTORS\", 'DISREGARDING TRAFFIC SIGNALS': \"SIGNAGE/TRAFFIC CONTROL DEVICES\",\n",
    "                   'DISREGARDING STOP SIGN':\"SIGNAGE/TRAFFIC CONTROL DEVICES\", 'DRIVING ON WRONG SIDE/WRONG WAY':\"SIGNAGE/TRAFFIC CONTROL DEVICES\",\n",
    "                   'IMPROPER LANE USAGE': \"SIGNAGE/TRAFFIC CONTROL DEVICES\", 'DISREGARDING OTHER TRAFFIC SIGNS':\"SIGNAGE/TRAFFIC CONTROL DEVICES\",\n",
    "                   'TURNING RIGHT ON RED': \"SIGNAGE/TRAFFIC CONTROL DEVICES\", 'DISREGARDING ROAD MARKINGS':\"SIGNAGE/TRAFFIC CONTROL DEVICES\",\n",
    "                   'DISREGARDING YIELD SIGN': \"SIGNAGE/TRAFFIC CONTROL DEVICES\", 'RELATED TO BUS STOP': \"SIGNAGE/TRAFFIC CONTROL DEVICES\",\n",
    "                   'PASSING STOPPED SCHOOL BUS': \"SIGNAGE/TRAFFIC CONTROL DEVICES\", \n",
    "                   'ROAD CONSTRUCTION/MAINTENANCE': \"INFRASTRUCTURE ISSUES\", 'ROAD ENGINEERING/SURFACE/MARKING DEFECTS': \"INFRASTRUCTURE ISSUES\",\n",
    "                   'OBSTRUCTED CROSSWALKS': \"INFRASTRUCTURE ISSUES\", \n",
    "                   'DRIVING SKILLS/KNOWLEDGE/EXPERIENCE': \"MISC FACTORS\", 'BICYCLE ADVANCING LEGALLY ON RED LIGHT':\"MISC FACTORS\",\n",
    "                   'MOTORCYCLE ADVANCING LEGALLY ON RED LIGHT':\"MISC FACTORS\", 'EQUIPMENT - VEHICLE CONDITION': \"MISC FACTORS\",\n",
    "                   'NOT APPLICABLE': \"MISC FACTORS\"\n",
    "              }\n",
    "\n",
    "##comment out this line if you want to run the models without binning prim_contributory_cause, keeping every single event\n",
    "master_df['PRIM_CONTRIBUTORY_CAUSE'] = master_df['PRIM_CONTRIBUTORY_CAUSE'].map(prim_cause_dict)\n",
    "##--\n",
    "master_df['PRIM_CONTRIBUTORY_CAUSE'].value_counts()"
   ]
  },
  {
   "cell_type": "markdown",
   "metadata": {},
   "source": [
    "<details>\n",
    "  <summary>**Click Me to Expand Breakdown of PRIM_CONTRIBUTORY_CAUSE**</summary>\n",
    "    \n",
    "  **human factors:**\n",
    "    - 'FOLLOWING TOO CLOSELY', \n",
    "    - 'FAILING TO REDUCE SPEED TO AVOID CRASH',\n",
    "    - 'IMPROPER TURNING/NO SIGNAL',\n",
    "    - 'IMPROPER OVERTAKING/PASSING', \n",
    "    - 'OPERATING VEHICLE IN ERRATIC, RECKLESS, CARELESS, NEGLIGENT OR AGGRESSIVE MANNER',\n",
    "    - 'PHYSICAL CONDITION OF DRIVER',\n",
    "    - 'UNDER THE INFLUENCE OF ALCOHOL/DRUGS (USE WHEN ARREST IS EFFECTED)',\n",
    "    - 'DISTRACTION - FROM INSIDE VEHICLE',\n",
    "    - 'DISTRACTION - FROM OUTSIDE VEHICLE',\n",
    "    - 'TEXTING',\n",
    "    - 'IMPROPER BACKING',\n",
    "    - 'CELL PHONE USE OTHER THAN TEXTING',\n",
    "    - 'HAD BEEN DRINKING (USE WHEN ARREST IS NOT MADE)',\n",
    "    - 'DISTRACTION - OTHER ELECTRONIC DEVICE (NAVIGATION DEVICE, DVD PLAYER, ETC.)',\n",
    "\n",
    "**environmental factors:** \n",
    "    - 'VISION OBSCURED (SIGNS, TREE LIMBS, BUILDINGS, ETC.)',\n",
    "    - 'ANIMAL', \n",
    "    - 'WEATHER',\n",
    "    - 'EVASIVE ACTION DUE TO ANIMAL,OBJECT, NONMOTORIST',\n",
    "\n",
    "**traffic control devices/signage:**\n",
    "    - 'FAILING TO YIELD RIGHT-OF-WAY',\n",
    "    - 'DISREGARDING TRAFFIC SIGNALS',\n",
    "    - 'DISREGARDING STOP SIGN',\n",
    "    - 'DRIVING ON WRONG SIDE/WRONG WAY',\n",
    "    - 'IMPROPER LANE USAGE',\n",
    "    - 'DISREGARDING OTHER TRAFFIC SIGNS',\n",
    "    - 'TURNING RIGHT ON RED',\n",
    "    - 'DISREGARDING ROAD MARKINGS',\n",
    "    - 'DISREGARDING YIELD SIGN',\n",
    "    - 'RELATED TO BUS STOP', \n",
    "    - 'PASSING STOPPED SCHOOL BUS',\n",
    "\n",
    "**infrastructure issues:**\n",
    "    - 'ROAD CONSTRUCTION/MAINTENANCE', \n",
    "    - 'ROAD ENGINEERING/SURFACE/MARKING DEFECTS',\n",
    "    - 'OBSTRUCTED CROSSWALKS',\n",
    "\n",
    "**misc factors:**\n",
    "    - 'DRIVING SKILLS/KNOWLEDGE/EXPERIENCE', \n",
    "    - 'BICYCLE ADVANCING LEGALLY ON RED LIGHT', \n",
    "    - 'MOTORCYCLE ADVANCING LEGALLY ON RED LIGHT'\n",
    "    - 'EQUIPMENT - VEHICLE CONDITION',\n",
    "- 'NOT APPLICABLE'\n",
    "\n",
    "--\n",
    "'UNABLE TO DETERMINE', - to be dropped\n",
    "\n",
    "</details>"
   ]
  },
  {
   "cell_type": "code",
   "execution_count": 358,
   "metadata": {
    "scrolled": true
   },
   "outputs": [
    {
     "data": {
      "text/plain": [
       "2     202015\n",
       "3      61190\n",
       "4      22690\n",
       "5       7534\n",
       "1       5671\n",
       "6       3596\n",
       "7       1409\n",
       "8       1014\n",
       "9        291\n",
       "12       131\n",
       "11        53\n",
       "14         4\n",
       "Name: NUM_UNITS, dtype: int64"
      ]
     },
     "execution_count": 358,
     "metadata": {},
     "output_type": "execute_result"
    }
   ],
   "source": [
    "master_df[\"NUM_UNITS\"].value_counts()\n",
    "#in int form already"
   ]
  },
  {
   "cell_type": "code",
   "execution_count": 359,
   "metadata": {},
   "outputs": [
    {
     "data": {
      "text/plain": [
       "MINOR INJURIES    267484\n",
       "MAJOR INJURIES     35384\n",
       "FATAL               2730\n",
       "Name: SEVERE_INJURY, dtype: int64"
      ]
     },
     "execution_count": 359,
     "metadata": {},
     "output_type": "execute_result"
    }
   ],
   "source": [
    "#change to no injury, minor, major, fatality\n",
    "master_df[\"MOST_SEVERE_INJURY\"].value_counts()\n",
    "\n",
    "injury_dict = {'NONINCAPACITATING INJURY': 'MINOR INJURIES',\n",
    "              'REPORTED, NOT EVIDENT': 'MINOR INJURIES', 'INCAPACITATING INJURY' : 'MAJOR INJURIES',\n",
    "              'FATAL': 'FATAL'}\n",
    "\n",
    "master_df['SEVERE_INJURY'] = master_df['MOST_SEVERE_INJURY'].map(injury_dict)\n",
    "master_df.drop(labels=\"MOST_SEVERE_INJURY\", axis=1, inplace=True)\n",
    "master_df['SEVERE_INJURY'].value_counts()"
   ]
  },
  {
   "cell_type": "code",
   "execution_count": 360,
   "metadata": {},
   "outputs": [
    {
     "data": {
      "text/plain": [
       "7     32695\n",
       "6     30152\n",
       "8     29755\n",
       "10    29626\n",
       "9     29217\n",
       "5     28983\n",
       "4     23074\n",
       "3     22853\n",
       "1     22210\n",
       "2     20199\n",
       "11    19574\n",
       "12    17260\n",
       "Name: CRASH_MONTH, dtype: int64"
      ]
     },
     "execution_count": 360,
     "metadata": {},
     "output_type": "execute_result"
    }
   ],
   "source": [
    "master_df[\"INJURIES_TOTAL\"].value_counts()\n",
    "master_df[\"CRASH_HOUR\"].value_counts()\n",
    "master_df[\"CRASH_DAY_OF_WEEK\"].value_counts()\n",
    "master_df[\"CRASH_MONTH\"].value_counts()\n",
    "#int form already"
   ]
  },
  {
   "cell_type": "code",
   "execution_count": 361,
   "metadata": {},
   "outputs": [
    {
     "name": "stdout",
     "output_type": "stream",
     "text": [
      "<class 'pandas.core.frame.DataFrame'>\n",
      "Int64Index: 305598 entries, 0 to 3594374\n",
      "Data columns (total 34 columns):\n",
      " #   Column                   Non-Null Count   Dtype         \n",
      "---  ------                   --------------   -----         \n",
      " 0   CRASH_RECORD_ID          305598 non-null  object        \n",
      " 1   CRASH_DATE               305598 non-null  datetime64[ns]\n",
      " 2   POSTED_SPEED_LIMIT       305598 non-null  int64         \n",
      " 3   TRAFFIC_CONTROL_DEVICE   305598 non-null  object        \n",
      " 4   DEVICE_CONDITION         305598 non-null  object        \n",
      " 5   WEATHER_CONDITION        305598 non-null  object        \n",
      " 6   LIGHTING_CONDITION       305598 non-null  object        \n",
      " 7   FIRST_CRASH_TYPE         305598 non-null  object        \n",
      " 8   TRAFFICWAY_TYPE          305598 non-null  object        \n",
      " 9   ALIGNMENT                305598 non-null  object        \n",
      " 10  ROADWAY_SURFACE_COND     305598 non-null  object        \n",
      " 11  ROAD_DEFECT              305598 non-null  object        \n",
      " 12  CRASH_TYPE               305598 non-null  object        \n",
      " 13  DAMAGE                   305598 non-null  object        \n",
      " 14  PRIM_CONTRIBUTORY_CAUSE  221389 non-null  object        \n",
      " 15  NUM_UNITS                305598 non-null  int64         \n",
      " 16  INJURIES_TOTAL           305598 non-null  float64       \n",
      " 17  CRASH_HOUR               305598 non-null  int64         \n",
      " 18  CRASH_DAY_OF_WEEK        305598 non-null  int64         \n",
      " 19  CRASH_MONTH              305598 non-null  int64         \n",
      " 20  VEHICLE_TYPE             305598 non-null  object        \n",
      " 21  MANEUVER                 305598 non-null  object        \n",
      " 22  FIRST_CONTACT_POINT      305512 non-null  object        \n",
      " 23  PERSON_TYPE              305598 non-null  object        \n",
      " 24  SEX                      298205 non-null  object        \n",
      " 25  AGE                      251649 non-null  float64       \n",
      " 26  SAFETY_EQUIPMENT         303965 non-null  object        \n",
      " 27  AIRBAG_DEPLOYED          293688 non-null  object        \n",
      " 28  DRIVER_ACTION            209120 non-null  object        \n",
      " 29  DRIVER_VISION            208933 non-null  object        \n",
      " 30  PHYSICAL_CONDITION       209510 non-null  object        \n",
      " 31  BAC_RESULT               209238 non-null  object        \n",
      " 32  YEAR                     305598 non-null  int64         \n",
      " 33  SEVERE_INJURY            305598 non-null  object        \n",
      "dtypes: datetime64[ns](1), float64(2), int64(6), object(25)\n",
      "memory usage: 81.6+ MB\n"
     ]
    }
   ],
   "source": [
    "master_df[\"LIC_PLATE_STATE\"].value_counts()\n",
    "master_df.drop(labels=\"LIC_PLATE_STATE\", axis=1, inplace=True)\n",
    "master_df.info()"
   ]
  },
  {
   "cell_type": "code",
   "execution_count": 362,
   "metadata": {},
   "outputs": [
    {
     "name": "stdout",
     "output_type": "stream",
     "text": [
      "<class 'pandas.core.frame.DataFrame'>\n",
      "Int64Index: 305598 entries, 0 to 3594374\n",
      "Data columns (total 34 columns):\n",
      " #   Column                   Non-Null Count   Dtype         \n",
      "---  ------                   --------------   -----         \n",
      " 0   CRASH_RECORD_ID          305598 non-null  object        \n",
      " 1   CRASH_DATE               305598 non-null  datetime64[ns]\n",
      " 2   POSTED_SPEED_LIMIT       305598 non-null  int64         \n",
      " 3   TRAFFIC_CONTROL_DEVICE   305598 non-null  object        \n",
      " 4   DEVICE_CONDITION         305598 non-null  object        \n",
      " 5   WEATHER_CONDITION        305598 non-null  object        \n",
      " 6   LIGHTING_CONDITION       305598 non-null  object        \n",
      " 7   FIRST_CRASH_TYPE         305598 non-null  object        \n",
      " 8   TRAFFICWAY_TYPE          305598 non-null  object        \n",
      " 9   ALIGNMENT                305598 non-null  object        \n",
      " 10  ROADWAY_SURFACE_COND     305598 non-null  object        \n",
      " 11  ROAD_DEFECT              305598 non-null  object        \n",
      " 12  CRASH_TYPE               305598 non-null  object        \n",
      " 13  DAMAGE                   305598 non-null  object        \n",
      " 14  PRIM_CONTRIBUTORY_CAUSE  221389 non-null  object        \n",
      " 15  NUM_UNITS                305598 non-null  int64         \n",
      " 16  INJURIES_TOTAL           305598 non-null  float64       \n",
      " 17  CRASH_HOUR               305598 non-null  int64         \n",
      " 18  CRASH_DAY_OF_WEEK        305598 non-null  int64         \n",
      " 19  CRASH_MONTH              305598 non-null  int64         \n",
      " 20  VEHICLE_TYPE             305598 non-null  object        \n",
      " 21  MANEUVER                 305598 non-null  object        \n",
      " 22  FIRST_CONTACT_POINT      305512 non-null  object        \n",
      " 23  PERSON_TYPE              305598 non-null  object        \n",
      " 24  SEX                      298205 non-null  object        \n",
      " 25  AGE                      251649 non-null  float64       \n",
      " 26  SAFETY_EQUIPMENT         303965 non-null  object        \n",
      " 27  AIRBAG_DEPLOYED          293688 non-null  object        \n",
      " 28  DRIVER_ACTION            209120 non-null  object        \n",
      " 29  DRIVER_VISION            208933 non-null  object        \n",
      " 30  PHYSICAL_CONDITION       209510 non-null  object        \n",
      " 31  BAC_RESULT               209238 non-null  object        \n",
      " 32  YEAR                     305598 non-null  int64         \n",
      " 33  SEVERE_INJURY            305598 non-null  object        \n",
      "dtypes: datetime64[ns](1), float64(2), int64(6), object(25)\n",
      "memory usage: 81.6+ MB\n"
     ]
    }
   ],
   "source": [
    "master_df.info()"
   ]
  },
  {
   "cell_type": "markdown",
   "metadata": {},
   "source": [
    "# Harshitha's Space"
   ]
  },
  {
   "cell_type": "code",
   "execution_count": 363,
   "metadata": {},
   "outputs": [],
   "source": [
    "# DROP unnecessary columns\n",
    "# master_df.drop(columns=['CRASH_RECORD_ID', 'CRASH_DATE'], inplace=True)"
   ]
  },
  {
   "cell_type": "code",
   "execution_count": 364,
   "metadata": {},
   "outputs": [
    {
     "data": {
      "text/plain": [
       "2021    81665\n",
       "2022    78600\n",
       "2023    74362\n",
       "2020    70971\n",
       "Name: YEAR, dtype: int64"
      ]
     },
     "execution_count": 364,
     "metadata": {},
     "output_type": "execute_result"
    }
   ],
   "source": [
    "master_df[\"YEAR\"].value_counts()"
   ]
  },
  {
   "cell_type": "code",
   "execution_count": 365,
   "metadata": {},
   "outputs": [
    {
     "data": {
      "text/plain": [
       "30    242017\n",
       "35     27154\n",
       "25     14365\n",
       "20      6705\n",
       "40      5834\n",
       "45      3531\n",
       "15      3446\n",
       "10      1542\n",
       "55       353\n",
       "5        220\n",
       "0        139\n",
       "50       115\n",
       "3         60\n",
       "39        46\n",
       "60        31\n",
       "26        16\n",
       "7          8\n",
       "9          4\n",
       "33         4\n",
       "24         2\n",
       "29         2\n",
       "34         2\n",
       "2          2\n",
       "Name: POSTED_SPEED_LIMIT, dtype: int64"
      ]
     },
     "execution_count": 365,
     "metadata": {},
     "output_type": "execute_result"
    }
   ],
   "source": [
    "master_df[\"POSTED_SPEED_LIMIT\"].value_counts()"
   ]
  },
  {
   "cell_type": "code",
   "execution_count": 366,
   "metadata": {},
   "outputs": [
    {
     "data": {
      "text/plain": [
       "TRAFFIC SIGNAL              130369\n",
       "NO CONTROLS                 115428\n",
       "STOP SIGN/FLASHER            47894\n",
       "UNKNOWN                       6868\n",
       "OTHER                         1955\n",
       "YIELD                          725\n",
       "PEDESTRIAN CROSSING SIGN       501\n",
       "FLASHING CONTROL SIGNAL        357\n",
       "DELINEATORS                    311\n",
       "SCHOOL ZONE                    262\n",
       "RAILROAD CROSSING GATE         259\n",
       "OTHER REG. SIGN                243\n",
       "OTHER WARNING SIGN             169\n",
       "POLICE/FLAGMAN                 108\n",
       "OTHER RAILROAD CROSSING         81\n",
       "RR CROSSING SIGN                41\n",
       "BICYCLE CROSSING SIGN           19\n",
       "NO PASSING                       8\n",
       "Name: TRAFFIC_CONTROL_DEVICE, dtype: int64"
      ]
     },
     "execution_count": 366,
     "metadata": {},
     "output_type": "execute_result"
    }
   ],
   "source": [
    "# can bin this into binary, Yes or no\n",
    "master_df[\"TRAFFIC_CONTROL_DEVICE\"].value_counts()"
   ]
  },
  {
   "cell_type": "code",
   "execution_count": 367,
   "metadata": {},
   "outputs": [
    {
     "data": {
      "text/plain": [
       "SIGNAL                      130726\n",
       "NO CONTROLS                 115428\n",
       "STOP SIGN/FLASHER            47894\n",
       "UNKNOWN                       6868\n",
       "OTHER                         1955\n",
       "YIELD                          725\n",
       "PEDESTRIAN CROSSING SIGN       501\n",
       "DELINEATORS                    311\n",
       "SCHOOL ZONE                    262\n",
       "RAILROAD CROSSING GATE         259\n",
       "OTHER REG. SIGN                243\n",
       "OTHER WARNING SIGN             169\n",
       "POLICE/FLAGMAN                 108\n",
       "OTHER RAILROAD CROSSING         81\n",
       "RR CROSSING SIGN                41\n",
       "BICYCLE CROSSING SIGN           19\n",
       "NO PASSING                       8\n",
       "Name: TRAFFIC_CONTROL_DEVICE, dtype: int64"
      ]
     },
     "execution_count": 367,
     "metadata": {},
     "output_type": "execute_result"
    }
   ],
   "source": [
    "master_df['TRAFFIC_CONTROL_DEVICE'] = master_df['TRAFFIC_CONTROL_DEVICE'].apply(lambda x: 'SIGNAL' if 'SIGNAL' in x else x)\n",
    "master_df['TRAFFIC_CONTROL_DEVICE'].value_counts()"
   ]
  },
  {
   "cell_type": "code",
   "execution_count": 368,
   "metadata": {},
   "outputs": [
    {
     "data": {
      "text/plain": [
       "SIGNAL                     130726\n",
       "NO CONTROLS                115428\n",
       "SIGN                        48867\n",
       "UNKNOWN                      6868\n",
       "OTHER                        1955\n",
       "YIELD                         725\n",
       "DELINEATORS                   311\n",
       "SCHOOL ZONE                   262\n",
       "RAILROAD CROSSING GATE        259\n",
       "POLICE/FLAGMAN                108\n",
       "OTHER RAILROAD CROSSING        81\n",
       "NO PASSING                      8\n",
       "Name: TRAFFIC_CONTROL_DEVICE, dtype: int64"
      ]
     },
     "execution_count": 368,
     "metadata": {},
     "output_type": "execute_result"
    }
   ],
   "source": [
    "master_df['TRAFFIC_CONTROL_DEVICE'] = master_df['TRAFFIC_CONTROL_DEVICE'].apply(lambda x: 'SIGN' if ' SIGN' in x else x)\n",
    "master_df['TRAFFIC_CONTROL_DEVICE'].value_counts()"
   ]
  },
  {
   "cell_type": "code",
   "execution_count": 369,
   "metadata": {},
   "outputs": [
    {
     "data": {
      "text/plain": [
       "SIGNAL         131066\n",
       "NO CONTROLS    115428\n",
       "SIGN            49862\n",
       "OTHER            9242\n",
       "Name: TRAFFIC_CONTROL_DEVICE, dtype: int64"
      ]
     },
     "execution_count": 369,
     "metadata": {},
     "output_type": "execute_result"
    }
   ],
   "source": [
    "traffic_dict = {'NO CONTROLS': 'NO CONTROLS', 'SIGNAL':'SIGNAL', 'SIGN': 'SIGN', 'UNKNOWN': 'OTHER',\n",
    "               'OTHER': 'OTHER', 'LANE USE MARKING': 'SIGN', 'YIELD':'SIGN', 'RAILROAD CROSSING GATE': 'SIGNAL',\n",
    "               'SCHOOL ZONE': 'SIGN', 'DELINEATORS': 'OTHER', 'POLICE/FLAGMAN': 'OTHER', \n",
    "               'OTHER RAILROAD CROSSING': 'SIGNAL', 'NO PASSING': 'SIGN', }\n",
    "master_df['TRAFFIC_CONTROL_DEVICE'] = master_df['TRAFFIC_CONTROL_DEVICE'].map(traffic_dict)\n",
    "master_df['TRAFFIC_CONTROL_DEVICE'].value_counts()"
   ]
  },
  {
   "cell_type": "code",
   "execution_count": 370,
   "metadata": {},
   "outputs": [
    {
     "data": {
      "text/plain": [
       "FUNCTIONING PROPERLY        163434\n",
       "NO CONTROLS                 119932\n",
       "UNKNOWN                      16368\n",
       "OTHER                         2595\n",
       "FUNCTIONING IMPROPERLY        1927\n",
       "NOT FUNCTIONING               1194\n",
       "WORN REFLECTIVE MATERIAL       100\n",
       "MISSING                         48\n",
       "Name: DEVICE_CONDITION, dtype: int64"
      ]
     },
     "execution_count": 370,
     "metadata": {},
     "output_type": "execute_result"
    }
   ],
   "source": [
    "master_df['DEVICE_CONDITION'].value_counts()"
   ]
  },
  {
   "cell_type": "code",
   "execution_count": 371,
   "metadata": {},
   "outputs": [
    {
     "data": {
      "text/plain": [
       "FUNCTIONING PROPERLY               166129\n",
       "NO CONTROLS                        136300\n",
       "FUNCTIONING IMPROPERLY/ MISSING      3169\n",
       "Name: DEVICE_CONDITION, dtype: int64"
      ]
     },
     "execution_count": 371,
     "metadata": {},
     "output_type": "execute_result"
    }
   ],
   "source": [
    "device_dict = {'NO CONTROLS': 'NO CONTROLS',\n",
    "               'FUNCTIONING PROPERLY': 'FUNCTIONING PROPERLY',\n",
    "               'UNKNOWN': 'NO CONTROLS',\n",
    "               'FUNCTIONING IMPROPERLY':'FUNCTIONING IMPROPERLY/ MISSING',\n",
    "               'NOT FUNCTIONING':'FUNCTIONING IMPROPERLY/ MISSING',\n",
    "               'WORN REFLECTIVE MATERIAL': 'FUNCTIONING PROPERLY',\n",
    "               'MISSING': 'FUNCTIONING IMPROPERLY/ MISSING',\n",
    "               'OTHER': 'FUNCTIONING PROPERLY'}\n",
    "master_df['DEVICE_CONDITION'] = master_df['DEVICE_CONDITION'].map(device_dict)\n",
    "master_df['DEVICE_CONDITION'].value_counts()"
   ]
  },
  {
   "cell_type": "code",
   "execution_count": 372,
   "metadata": {},
   "outputs": [
    {
     "data": {
      "text/plain": [
       "CLEAR                       249988\n",
       "RAIN                         30571\n",
       "CLOUDY/OVERCAST               8955\n",
       "SNOW                          7895\n",
       "UNKNOWN                       4641\n",
       "OTHER                         1242\n",
       "FREEZING RAIN/DRIZZLE         1181\n",
       "BLOWING SNOW                   407\n",
       "FOG/SMOKE/HAZE                 393\n",
       "SLEET/HAIL                     262\n",
       "SEVERE CROSS WIND GATE          61\n",
       "BLOWING SAND, SOIL, DIRT         2\n",
       "Name: WEATHER_CONDITION, dtype: int64"
      ]
     },
     "execution_count": 372,
     "metadata": {},
     "output_type": "execute_result"
    }
   ],
   "source": [
    "# bin into clear or not clear? unknown = clear, other=clear \n",
    "master_df[\"WEATHER_CONDITION\"].value_counts()"
   ]
  },
  {
   "cell_type": "code",
   "execution_count": 373,
   "metadata": {},
   "outputs": [
    {
     "data": {
      "text/plain": [
       "CLEAR        255871\n",
       "INCLEMENT     49727\n",
       "Name: WEATHER_CONDITION, dtype: int64"
      ]
     },
     "execution_count": 373,
     "metadata": {},
     "output_type": "execute_result"
    }
   ],
   "source": [
    "weather_dict = {'CLEAR': 'CLEAR', 'RAIN': 'INCLEMENT', 'CLOUDY/OVERCAST': 'INCLEMENT', 'SNOW': 'INCLEMENT', 'UNKNOWN': 'CLEAR', 'OTHER': 'CLEAR',\n",
    "                'FREEZING RAIN/DRIZZLE': 'INCLEMENT', 'BLOWING SNOW':'INCLEMENT', 'FOG/SMOKE/HAZE': 'INCLEMENT', 'SLEET/HAIL': 'INCLEMENT', 'SEVERE CROSS WIND GATE': 'INCLEMENT',\n",
    "                'BLOWING SAND, SOIL, DIRT': 'INCLEMENT'\n",
    "               }\n",
    "master_df['WEATHER_CONDITION'] = master_df['WEATHER_CONDITION'].map(weather_dict)\n",
    "master_df['WEATHER_CONDITION'].value_counts()"
   ]
  },
  {
   "cell_type": "code",
   "execution_count": 374,
   "metadata": {},
   "outputs": [
    {
     "data": {
      "text/plain": [
       "DAYLIGHT                  187201\n",
       "DARKNESS, LIGHTED ROAD     89446\n",
       "DARKNESS                   11653\n",
       "DUSK                        9415\n",
       "DAWN                        5033\n",
       "UNKNOWN                     2850\n",
       "Name: LIGHTING_CONDITION, dtype: int64"
      ]
     },
     "execution_count": 374,
     "metadata": {},
     "output_type": "execute_result"
    }
   ],
   "source": [
    "master_df[\"LIGHTING_CONDITION\"].value_counts()"
   ]
  },
  {
   "cell_type": "code",
   "execution_count": 375,
   "metadata": {},
   "outputs": [
    {
     "data": {
      "text/plain": [
       "VISIBLE                  190051\n",
       "DIMINISHED VISIBILITY    115547\n",
       "Name: LIGHTING_CONDITION, dtype: int64"
      ]
     },
     "execution_count": 375,
     "metadata": {},
     "output_type": "execute_result"
    }
   ],
   "source": [
    "lighting_dict = {'DAYLIGHT':'VISIBLE','DARKNESS, LIGHTED ROAD':'DIMINISHED VISIBILITY', 'DARKNESS':'DIMINISHED VISIBILITY',\n",
    "                'DUSK':'DIMINISHED VISIBILITY', 'DAWN': 'DIMINISHED VISIBILITY', 'UNKNOWN': 'VISIBLE'}\n",
    "master_df['LIGHTING_CONDITION'] = master_df['LIGHTING_CONDITION'].map(lighting_dict)\n",
    "master_df['LIGHTING_CONDITION'].value_counts()"
   ]
  },
  {
   "cell_type": "code",
   "execution_count": 376,
   "metadata": {},
   "outputs": [
    {
     "data": {
      "text/plain": [
       "REAR END                        79129\n",
       "ANGLE                           74256\n",
       "TURNING                         64269\n",
       "SIDESWIPE SAME DIRECTION        22372\n",
       "PARKED MOTOR VEHICLE            17638\n",
       "PEDESTRIAN                      14657\n",
       "HEAD ON                          8905\n",
       "PEDALCYCLIST                     8648\n",
       "FIXED OBJECT                     6189\n",
       "SIDESWIPE OPPOSITE DIRECTION     4935\n",
       "REAR TO FRONT                    1520\n",
       "REAR TO SIDE                     1463\n",
       "OTHER OBJECT                     1087\n",
       "OVERTURNED                        222\n",
       "OTHER NONCOLLISION                147\n",
       "REAR TO REAR                      101\n",
       "ANIMAL                             32\n",
       "TRAIN                              28\n",
       "Name: FIRST_CRASH_TYPE, dtype: int64"
      ]
     },
     "execution_count": 376,
     "metadata": {},
     "output_type": "execute_result"
    }
   ],
   "source": [
    "# Looking at the FIRST_CRASH_TYPE column \n",
    "master_df['FIRST_CRASH_TYPE'].value_counts()"
   ]
  },
  {
   "cell_type": "code",
   "execution_count": 377,
   "metadata": {},
   "outputs": [
    {
     "data": {
      "text/plain": [
       "REAR END            79129\n",
       "ANGLE               74256\n",
       "TURNING             64269\n",
       "SIDE SWIPE          27307\n",
       "OBJECT              24914\n",
       "PERSON OR ANIMAL    23337\n",
       "OTHER               12386\n",
       "Name: FIRST_CRASH_TYPE, dtype: int64"
      ]
     },
     "execution_count": 377,
     "metadata": {},
     "output_type": "execute_result"
    }
   ],
   "source": [
    "first_crash_dict = {'REAR END': 'REAR END', 'SIDESWIPE SAME DIRECTION': 'SIDE SWIPE', 'TURNING': 'TURNING', 'PARKED MOTOR VEHICLE': 'OBJECT', 'ANGLE': 'ANGLE', 'PEDESTRIAN': 'PERSON OR ANIMAL',\n",
    "                    'SIDESWIPE OPPOSITE DIRECTION': 'SIDE SWIPE', 'FIXED OBJECT': 'OBJECT', 'PEDALCYCLIST': 'PERSON OR ANIMAL', 'HEAD ON': 'OTHER', 'REAR TO FRONT': 'OTHER',\n",
    "                    'REAR TO SIDE': 'OTHER', 'OTHER OBJECT': 'OBJECT', 'REAR TO REAR': 'OTHER', 'OTHER NONCOLLISION': 'OTHER', 'ANIMAL': 'PERSON OR ANIMAL', 'OVERTURNED': 'OTHER', 'TRAIN': 'OTHER'\n",
    "                    }\n",
    "master_df['FIRST_CRASH_TYPE'] = master_df['FIRST_CRASH_TYPE'].map(first_crash_dict)\n",
    "master_df['FIRST_CRASH_TYPE'].value_counts()"
   ]
  },
  {
   "cell_type": "code",
   "execution_count": 378,
   "metadata": {},
   "outputs": [
    {
     "data": {
      "text/plain": [
       "NOT DIVIDED                        116522\n",
       "FOUR WAY                            66367\n",
       "DIVIDED - W/MEDIAN (NOT RAISED)     48121\n",
       "DIVIDED - W/MEDIAN BARRIER          22812\n",
       "ONE-WAY                             17980\n",
       "T-INTERSECTION                      10854\n",
       "OTHER                                5286\n",
       "PARKING LOT                          3756\n",
       "CENTER TURN LANE                     2954\n",
       "UNKNOWN INTERSECTION TYPE            2455\n",
       "ALLEY                                1796\n",
       "FIVE POINT, OR MORE                  1199\n",
       "Y-INTERSECTION                       1197\n",
       "TRAFFIC ROUTE                        1067\n",
       "UNKNOWN                              1033\n",
       "NOT REPORTED                          853\n",
       "RAMP                                  662\n",
       "DRIVEWAY                              432\n",
       "L-INTERSECTION                        154\n",
       "ROUNDABOUT                             98\n",
       "Name: TRAFFICWAY_TYPE, dtype: int64"
      ]
     },
     "execution_count": 378,
     "metadata": {},
     "output_type": "execute_result"
    }
   ],
   "source": [
    "master_df['TRAFFICWAY_TYPE'].value_counts()"
   ]
  },
  {
   "cell_type": "code",
   "execution_count": 379,
   "metadata": {},
   "outputs": [
    {
     "data": {
      "text/plain": [
       "NOT DIVIDED     117555\n",
       "OTHER           102352\n",
       "DIVIDED          70933\n",
       "INTERSECTION     14758\n",
       "Name: TRAFFICWAY_TYPE, dtype: int64"
      ]
     },
     "execution_count": 379,
     "metadata": {},
     "output_type": "execute_result"
    }
   ],
   "source": [
    "#  \n",
    "trafficway_dict = {'NOT DIVIDED': 'NOT DIVIDED', 'DIVIDED - W/MEDIAN (NOT RAISED)': 'DIVIDED', 'ONE-WAY': 'OTHER', 'FOUR WAY': 'OTHER', 'DIVIDED - W/MEDIAN BARRIER': 'DIVIDED',\n",
    "                    'PARKING LOT': 'OTHER', 'OTHER': 'OTHER', 'T-INTERSECTION': 'INTERSECTION', 'ALLEY': 'OTHER', 'UNKNOWN': 'NOT DIVIDED', 'CENTER TURN LANE': 'OTHER', \n",
    "                    'UNKNOWN INTERSECTION TYPE': 'INTERSECTION', 'RAMP': 'OTHER', 'DRIVEWAY': 'OTHER', 'FIVE POINT, OR MORE': 'OTHER', 'Y-INTERSECTION': 'INTERSECTION', \n",
    "                    'TRAFFIC ROUTE': 'OTHER', 'NOT REPORTED': 'OTHER', 'ROUNDABOUT': 'INTERSECTION', 'L-INTERSECTION': 'INTERSECTION'\n",
    "               }\n",
    "master_df['TRAFFICWAY_TYPE'] = master_df['TRAFFICWAY_TYPE'].map(trafficway_dict)\n",
    "master_df['TRAFFICWAY_TYPE'].value_counts()"
   ]
  },
  {
   "cell_type": "code",
   "execution_count": 380,
   "metadata": {},
   "outputs": [
    {
     "data": {
      "text/plain": [
       "STRAIGHT        302355\n",
       "NOT STRAIGHT      3243\n",
       "Name: ALIGNMENT, dtype: int64"
      ]
     },
     "execution_count": 380,
     "metadata": {},
     "output_type": "execute_result"
    }
   ],
   "source": [
    "# Street alignment at crash location, as determined by reporting officer. maybe drop?\n",
    "alignment_dict = {'STRAIGHT AND LEVEL': 'STRAIGHT', 'STRAIGHT ON GRADE': 'STRAIGHT', 'CURVE, LEVEL': 'NOT STRAIGHT', 'STRAIGHT ON HILLCREST': 'STRAIGHT',\n",
    "                    'CURVE ON GRADE': 'NOT STRAIGHT', 'CURVE ON HILLCREST': 'NOT STRAIGHT'\n",
    "               }\n",
    "master_df['ALIGNMENT'] = master_df['ALIGNMENT'].map(alignment_dict)\n",
    "master_df['ALIGNMENT'].value_counts()"
   ]
  },
  {
   "cell_type": "code",
   "execution_count": 381,
   "metadata": {},
   "outputs": [
    {
     "data": {
      "text/plain": [
       "DRY        249355\n",
       "NOT DRY     55410\n",
       "OTHER         833\n",
       "Name: ROADWAY_SURFACE_COND, dtype: int64"
      ]
     },
     "execution_count": 381,
     "metadata": {},
     "output_type": "execute_result"
    }
   ],
   "source": [
    "roadway_surface_dict = {'DRY': 'DRY', 'WET': 'NOT DRY', 'UNKNOWN': 'DRY', 'SNOW OR SLUSH': 'NOT DRY', 'ICE': 'NOT DRY', \n",
    "                'OTHER': 'OTHER', 'SAND, MUD, DIRT': 'NOT DRY'\n",
    "               }\n",
    "master_df['ROADWAY_SURFACE_COND'] = master_df['ROADWAY_SURFACE_COND'].map(roadway_surface_dict)\n",
    "master_df['ROADWAY_SURFACE_COND'].value_counts()"
   ]
  },
  {
   "cell_type": "code",
   "execution_count": null,
   "metadata": {},
   "outputs": [],
   "source": []
  },
  {
   "cell_type": "markdown",
   "metadata": {},
   "source": [
    "# Dre's Space"
   ]
  },
  {
   "cell_type": "code",
   "execution_count": 382,
   "metadata": {},
   "outputs": [
    {
     "data": {
      "text/plain": [
       "PASSENGER                      238025\n",
       "SPORT UTILITY VEHICLE (SUV)     51648\n",
       "VAN/MINI-VAN                    15925\n",
       "Name: VEHICLE_TYPE, dtype: int64"
      ]
     },
     "execution_count": 382,
     "metadata": {},
     "output_type": "execute_result"
    }
   ],
   "source": [
    "## Vehicle Type\n",
    "\n",
    "master_df['VEHICLE_TYPE'].value_counts()"
   ]
  },
  {
   "cell_type": "code",
   "execution_count": 383,
   "metadata": {},
   "outputs": [],
   "source": [
    "# Maneuver\n",
    "\n",
    "MANEUVER_dict = {'STRAIGHT AHEAD': 'STRAIGHT', 'TURNING LEFT': 'OTHER', 'SLOW/STOP IN TRAFFIC': 'OTHER', 'PARKED': 'OTHER', 'TURNING RIGHT': 'OTHER', 'UNKNOWN/NA': 'STRAIGHT',\n",
    "                 'OTHER': 'OTHER', 'PASSING/OVERTAKING': 'OTHER', 'CHANGING LANES': 'OTHER', 'U-TURN': 'OTHER', 'BACKING': 'OTHER', 'STARTING IN TRAFFIC': 'OTHER', \n",
    "                 'AVOIDING VEHICLES/OBJECTS': 'OTHER', 'ENTERING TRAFFIC LANE FROM PARKING': 'OTHER', 'SKIDDING/CONTROL LOSS': 'OTHER', 'DRIVING WRONG WAY': 'OTHER',\n",
    "                 'MERGING': 'OTHER', 'ENTER FROM DRIVE/ALLEY': 'OTHER', 'PARKED IN TRAFFIC LANE': 'OTHER', 'NEGOTIATING A CURVE': 'OTHER', 'LEAVING TRAFFIC LANE TO PARK': 'OTHER',\n",
    "                 'TURNING ON RED': 'OTHER', 'DISABLED': 'OTHER', 'DRIVERLESS': 'OTHER', 'DIVERGING': 'OTHER'}\n",
    "\n",
    "master_df['MANEUVER'] = master_df['MANEUVER'].map(MANEUVER_dict)"
   ]
  },
  {
   "cell_type": "code",
   "execution_count": 384,
   "metadata": {},
   "outputs": [
    {
     "data": {
      "text/plain": [
       "STRAIGHT    194291\n",
       "OTHER       111307\n",
       "Name: MANEUVER, dtype: int64"
      ]
     },
     "execution_count": 384,
     "metadata": {},
     "output_type": "execute_result"
    }
   ],
   "source": [
    "\n",
    "master_df['MANEUVER'].value_counts()"
   ]
  },
  {
   "cell_type": "code",
   "execution_count": 385,
   "metadata": {},
   "outputs": [],
   "source": [
    "# FIRST CONTACT POINT\n",
    "\n",
    "master_df['FIRST_CONTACT_POINT'] = master_df['FIRST_CONTACT_POINT'].fillna('FRONT')\n",
    "\n",
    "FIRST_CONTACT_POINT_dict = {'FRONT': 'FRONT', 'REAR': 'REAR', 'FRONT-LEFT-CORNER': 'FRONT', 'FRONT-RIGHT-CORNER': 'FRONT', 'SIDE-LEFT': 'SIDES', 'SIDE-RIGHT': 'SIDES', \n",
    "                            'REAR-LEFT-CORNER': 'REAR',\n",
    "                            'REAR-RIGHT-CORNER':'REAR', 'SIDE-LEFT-REAR': 'SIDES', 'SIDE-LEFT-FRONT':'SIDES', 'SIDE-RIGHT-REAR':'SIDES', 'SIDE-RIGHT-FRONT': 'SIDES',\n",
    "                            'TOTAL (ALL AREAS)': 'OTHER', 'NONE': 'NONE', 'OTHER': 'OTHER', 'UNDER CARRIAGE': 'OTHER', 'TOP': 'OTHER', 'ROOF': 'OTHER', 'UNKNOWN': 'FRONT',\n",
    "                            'REAR-LEFT': 'REAR', 'FRONT-RIGHT': 'FRONT'}\n",
    "\n",
    "master_df['FIRST_CONTACT_POINT'] = master_df['FIRST_CONTACT_POINT'].map(FIRST_CONTACT_POINT_dict)"
   ]
  },
  {
   "cell_type": "code",
   "execution_count": 386,
   "metadata": {},
   "outputs": [
    {
     "data": {
      "text/plain": [
       "FRONT    179686\n",
       "REAR      63448\n",
       "SIDES     57061\n",
       "OTHER      4030\n",
       "NONE       1373\n",
       "Name: FIRST_CONTACT_POINT, dtype: int64"
      ]
     },
     "execution_count": 386,
     "metadata": {},
     "output_type": "execute_result"
    }
   ],
   "source": [
    "master_df['FIRST_CONTACT_POINT'].value_counts(dropna=False)"
   ]
  },
  {
   "cell_type": "code",
   "execution_count": 387,
   "metadata": {},
   "outputs": [],
   "source": [
    "# Person Type\n",
    "\n",
    "PERSON_TYPE_dict = {'DRIVER': 'DRIVER', 'PASSENGER': 'PASSENGER', 'PEDESTRIAN': 'OTHER', 'BICYCLE': 'OTHER', 'NON-MOTOR VEHICLE': 'OTHER', 'NON-CONTACT VEHICLE': 'OTHER'}\n",
    "\n",
    "master_df['PERSON_TYPE'] = master_df['PERSON_TYPE'].map(PERSON_TYPE_dict)"
   ]
  },
  {
   "cell_type": "code",
   "execution_count": 388,
   "metadata": {},
   "outputs": [
    {
     "data": {
      "text/plain": [
       "DRIVER       198143\n",
       "PASSENGER     95401\n",
       "OTHER         12054\n",
       "Name: PERSON_TYPE, dtype: int64"
      ]
     },
     "execution_count": 388,
     "metadata": {},
     "output_type": "execute_result"
    }
   ],
   "source": [
    "master_df['PERSON_TYPE'].value_counts(dropna=False)"
   ]
  },
  {
   "cell_type": "code",
   "execution_count": 389,
   "metadata": {},
   "outputs": [
    {
     "data": {
      "text/plain": [
       "M      157656\n",
       "F      129998\n",
       "NaN      7393\n",
       "Name: SEX, dtype: int64"
      ]
     },
     "execution_count": 389,
     "metadata": {},
     "output_type": "execute_result"
    }
   ],
   "source": [
    "# Sex\n",
    "\n",
    "master_df = master_df[master_df['SEX'] != 'X']\n",
    "\n",
    "master_df['SEX'].value_counts(dropna=False)"
   ]
  },
  {
   "cell_type": "code",
   "execution_count": 390,
   "metadata": {},
   "outputs": [
    {
     "data": {
      "text/plain": [
       "25.0     7372\n",
       "23.0     7232\n",
       "27.0     7173\n",
       "24.0     7132\n",
       "28.0     7108\n",
       "         ... \n",
       "101.0       4\n",
       "110.0       2\n",
       "108.0       2\n",
       "97.0        2\n",
       "105.0       1\n",
       "Name: AGE, Length: 107, dtype: int64"
      ]
     },
     "execution_count": 390,
     "metadata": {},
     "output_type": "execute_result"
    }
   ],
   "source": [
    "# Age\n",
    "\n",
    "master_df['AGE'].value_counts()\n",
    "\n",
    "# Filter for ages 16-75??"
   ]
  },
  {
   "cell_type": "code",
   "execution_count": 391,
   "metadata": {},
   "outputs": [],
   "source": [
    "# Safety Equipment\n",
    "\n",
    "master_df['SAFETY_EQUIPMENT'] = master_df['SAFETY_EQUIPMENT'].fillna('USAGE UNKNOWN')\n",
    "\n",
    "SAFETY_EQUIPMENT_dict = {'USAGE UNKNOWN': 'UNKNOWN', 'SAFETY BELT USED': 'USED', 'NONE PRESENT': 'NONE', 'HELMET NOT USED': 'NOT USED', 'SAFETY BELT NOT USED': 'NOT USED',\n",
    "                         'CHILD RESTRAINT - FORWARD FACING': 'USED', 'BICYCLE HELMET (PEDACYCLIST INVOLVED ONLY)': 'USED', 'CHILD RESTRAINT - TYPE UNKNOWN': 'USED',\n",
    "                         'CHILD RESTRAINT - REAR FACING': 'USED', 'DOT COMPLIANT MOTORCYCLE HELMET': 'USED', 'BOOSTER SEAT': 'USED', 'CHILD RESTRAINT NOT USED': 'NOT USED', \n",
    "                         'CHILD RESTRAINT USED IMPROPERLY': 'USED', 'NOT DOT COMPLIANT MOTORCYCLE HELMET': 'USED', 'WHEELCHAIR': 'USED', 'SHOULD/LAP BELT USED IMPROPERLY': 'USED',\n",
    "                         'HELMET USED': 'USED', 'STRETCHER': 'USED', 'CHILD RESTRAINT USED': 'USED'}\n",
    "\n",
    "master_df['SAFETY_EQUIPMENT'] = master_df['SAFETY_EQUIPMENT'].map(SAFETY_EQUIPMENT_dict)"
   ]
  },
  {
   "cell_type": "code",
   "execution_count": 392,
   "metadata": {},
   "outputs": [
    {
     "data": {
      "text/plain": [
       "UNKNOWN     139877\n",
       "USED        136400\n",
       "NONE         12606\n",
       "NOT USED      6164\n",
       "Name: SAFETY_EQUIPMENT, dtype: int64"
      ]
     },
     "execution_count": 392,
     "metadata": {},
     "output_type": "execute_result"
    }
   ],
   "source": [
    "master_df['SAFETY_EQUIPMENT'].value_counts(dropna=False)"
   ]
  },
  {
   "cell_type": "code",
   "execution_count": 393,
   "metadata": {},
   "outputs": [],
   "source": [
    "# Airbag Deployed\n",
    "\n",
    "master_df['AIRBAG_DEPLOYED'] = master_df['AIRBAG_DEPLOYED'].fillna('DID NOT DEPLOY')\n",
    "\n",
    "AIRBAG_DEPLOYED_dict = {'DID NOT DEPLOY': 'DID NOT DEPLOY', 'NOT APPLICABLE': 'NOT APPLICABLE', 'DEPLOYED, COMBINATION': 'DEPLOYED', 'DEPLOYMENT UNKNOWN': 'UNKNOWN', \n",
    "                        'DEPLOYED, FRONT': 'DEPLOYED', 'DEPLOYED, SIDE': 'DEPLOYED', 'DEPLOYED OTHER (KNEE, AIR, BELT, ETC.)': 'DEPLOYED'}\n",
    "\n",
    "master_df['AIRBAG_DEPLOYED'] = master_df['AIRBAG_DEPLOYED'].map(AIRBAG_DEPLOYED_dict)"
   ]
  },
  {
   "cell_type": "code",
   "execution_count": 394,
   "metadata": {},
   "outputs": [
    {
     "data": {
      "text/plain": [
       "DID NOT DEPLOY    115041\n",
       "DEPLOYED           83943\n",
       "NOT APPLICABLE     65199\n",
       "UNKNOWN            30864\n",
       "Name: AIRBAG_DEPLOYED, dtype: int64"
      ]
     },
     "execution_count": 394,
     "metadata": {},
     "output_type": "execute_result"
    }
   ],
   "source": [
    "master_df['AIRBAG_DEPLOYED'].value_counts(dropna=False)"
   ]
  },
  {
   "cell_type": "code",
   "execution_count": 395,
   "metadata": {},
   "outputs": [],
   "source": [
    "# Driver Action\n",
    "\n",
    "master_df['DRIVER_ACTION'] = master_df['DRIVER_ACTION'].fillna('NONE')\n",
    "\n",
    "DRIVER_ACTION_dict = {'NONE': 'NO ACTION TAKEN', 'UNKNOWN': 'NO ACTION TAKEN', 'FAILED TO YIELD': 'ACTIONS TAKEN', 'OTHER': 'ACTIONS TAKEN', 'DISREGARDED CONTROL DEVICES': 'ACTIONS TAKEN',\n",
    "                      'FOLLOWED TOO CLOSELY': 'ACTIONS TAKEN', 'TOO FAST FOR CONDITIONS': 'ACTIONS TAKEN', 'IMPROPER TURN': 'ACTIONS TAKEN', 'IMPROPER LANE CHANGE': 'ACTIONS TAKEN',\n",
    "                      'IMPROPER PASSING': 'ACTIONS TAKEN', 'WRONG WAY/SIDE': 'ACTIONS TAKEN', 'IMPROPER BACKING': 'ACTIONS TAKEN', 'OVERCORRECTED': 'ACTIONS TAKEN', 'EVADING POLICE VEHICLE': 'ACTIONS TAKEN',\n",
    "                      'CELL PHONE USE OTHER THAN TEXTING': 'ACTIONS TAKEN', 'EMERGENCY VEHICLE ON CALL': 'ACTIONS TAKEN', 'IMPROPER PARKING': 'ACTIONS TAKEN', 'TEXTING': 'ACTIONS TAKEN',\n",
    "                      'LICENSE RESTRICTIONS': 'ACTIONS TAKEN', 'STOPPED SCHOOL BUS': 'ACTIONS TAKEN'}\n",
    "\n",
    "master_df['DRIVER_ACTION'] = master_df['DRIVER_ACTION'].map(DRIVER_ACTION_dict)"
   ]
  },
  {
   "cell_type": "code",
   "execution_count": 396,
   "metadata": {},
   "outputs": [
    {
     "data": {
      "text/plain": [
       "NO ACTION TAKEN    216815\n",
       "ACTIONS TAKEN       78232\n",
       "Name: DRIVER_ACTION, dtype: int64"
      ]
     },
     "execution_count": 396,
     "metadata": {},
     "output_type": "execute_result"
    }
   ],
   "source": [
    "master_df['DRIVER_ACTION'].value_counts(dropna=False)"
   ]
  },
  {
   "cell_type": "code",
   "execution_count": 397,
   "metadata": {},
   "outputs": [],
   "source": [
    "# Driver Vision\n",
    "\n",
    "master_df['DRIVER_VISION'] = master_df['DRIVER_VISION'].fillna('NONE')\n",
    "\n",
    "DRIVER_VISION_dict = { 'NONE':'UNKNOWN', 'NOT OBSCURED': 'NOT OBSCURED', 'UNKNOWN': 'UNKNOWN', 'OTHER': 'OBSCURED', 'MOVING VEHICLES': 'OBSCURED', 'PARKED VEHICLES': 'OBSCURED',\n",
    "                      'WINDSHIELD (WATER/ICE)': 'OBSCURED', 'BLINDED - SUNLIGHT': 'OBSCURED', 'TREES, PLANTS': 'OBSCURED', 'BUILDINGS': 'OBSCURED',\n",
    "                      'BLINDED - HEADLIGHTS': 'OBSCURED', 'BLOWING MATERIALS': 'OBSCURED', 'HILLCREST': 'OBSCURED',\n",
    "                      'EMBANKMENT': 'OBSCURED', 'SIGNBOARD': 'OBSCURED'}\n",
    "\n",
    "master_df['DRIVER_VISION'] = master_df['DRIVER_VISION'].map(DRIVER_VISION_dict)"
   ]
  },
  {
   "cell_type": "code",
   "execution_count": 398,
   "metadata": {},
   "outputs": [
    {
     "data": {
      "text/plain": [
       "UNKNOWN         182906\n",
       "NOT OBSCURED    105706\n",
       "OBSCURED          6435\n",
       "Name: DRIVER_VISION, dtype: int64"
      ]
     },
     "execution_count": 398,
     "metadata": {},
     "output_type": "execute_result"
    }
   ],
   "source": [
    "master_df['DRIVER_VISION'].value_counts(dropna=False)"
   ]
  },
  {
   "cell_type": "code",
   "execution_count": 399,
   "metadata": {},
   "outputs": [],
   "source": [
    "# Physical Condition\n",
    "\n",
    "master_df['PHYSICAL_CONDITION'] = master_df['PHYSICAL_CONDITION'].fillna('UNKNOWN')\n",
    "\n",
    "PHYSICAL_CONDITION_dict = {'UNKNOWN': 'UNKNOWN', 'NORMAL': 'NORMAL', 'REMOVED BY EMS': 'NOT NORMAL', 'IMPAIRED - ALCOHOL': 'NOT NORMAL', 'OTHER': 'NOT NORMAL', 'EMOTIONAL': 'NOT NORMAL',\n",
    "                           'FATIGUED/ASLEEP': 'NOT NORMAL', 'ILLNESS/FAINTED': 'NOT NORMAL', 'IMPAIRED - DRUGS': 'NOT NORMAL', 'HAD BEEN DRINKING': 'NOT NORMAL', \n",
    "                           'IMPAIRED - ALCOHOL AND DRUGS': 'NOT NORMAL', 'MEDICATED': 'NOT NORMAL'}\n",
    "\n",
    "master_df['PHYSICAL_CONDITION'] = master_df['PHYSICAL_CONDITION'].map(PHYSICAL_CONDITION_dict)"
   ]
  },
  {
   "cell_type": "code",
   "execution_count": 400,
   "metadata": {},
   "outputs": [
    {
     "data": {
      "text/plain": [
       "NORMAL        146803\n",
       "UNKNOWN       137339\n",
       "NOT NORMAL     10905\n",
       "Name: PHYSICAL_CONDITION, dtype: int64"
      ]
     },
     "execution_count": 400,
     "metadata": {},
     "output_type": "execute_result"
    }
   ],
   "source": [
    "master_df['PHYSICAL_CONDITION'].value_counts(dropna=False)"
   ]
  },
  {
   "cell_type": "code",
   "execution_count": 401,
   "metadata": {},
   "outputs": [],
   "source": [
    "# BAC Result\n",
    "\n",
    "master_df['BAC_RESULT'] = master_df['BAC_RESULT'].fillna('UNKNOWN')\n",
    "\n",
    "BAC_RESULT_dict = {'TEST NOT OFFERED': 'TEST NOT OFFERED', 'TEST REFUSED': 'TEST REFUSED', 'TEST PERFORMED, RESULTS UNKNOWN': 'TEST PERFORMED',\n",
    "                   'TEST TAKEN': 'TEST PERFORMED'}\n",
    "\n",
    "master_df['BAC_RESULT'] = master_df['BAC_RESULT'].map(BAC_RESULT_dict)"
   ]
  },
  {
   "cell_type": "code",
   "execution_count": 402,
   "metadata": {},
   "outputs": [
    {
     "data": {
      "text/plain": [
       "TEST NOT OFFERED    195341\n",
       "TEST REFUSED          2702\n",
       "TEST PERFORMED        1955\n",
       "Name: BAC_RESULT, dtype: int64"
      ]
     },
     "execution_count": 402,
     "metadata": {},
     "output_type": "execute_result"
    }
   ],
   "source": [
    "master_df['BAC_RESULT'].value_counts()"
   ]
  },
  {
   "cell_type": "markdown",
   "metadata": {},
   "source": [
    "## Preprocessing for Modeling"
   ]
  },
  {
   "cell_type": "code",
   "execution_count": 403,
   "metadata": {},
   "outputs": [
    {
     "name": "stdout",
     "output_type": "stream",
     "text": [
      "<class 'pandas.core.frame.DataFrame'>\n",
      "Int64Index: 295047 entries, 0 to 3594374\n",
      "Data columns (total 34 columns):\n",
      " #   Column                   Non-Null Count   Dtype         \n",
      "---  ------                   --------------   -----         \n",
      " 0   CRASH_RECORD_ID          295047 non-null  object        \n",
      " 1   CRASH_DATE               295047 non-null  datetime64[ns]\n",
      " 2   POSTED_SPEED_LIMIT       295047 non-null  int64         \n",
      " 3   TRAFFIC_CONTROL_DEVICE   295047 non-null  object        \n",
      " 4   DEVICE_CONDITION         295047 non-null  object        \n",
      " 5   WEATHER_CONDITION        295047 non-null  object        \n",
      " 6   LIGHTING_CONDITION       295047 non-null  object        \n",
      " 7   FIRST_CRASH_TYPE         295047 non-null  object        \n",
      " 8   TRAFFICWAY_TYPE          295047 non-null  object        \n",
      " 9   ALIGNMENT                295047 non-null  object        \n",
      " 10  ROADWAY_SURFACE_COND     295047 non-null  object        \n",
      " 11  ROAD_DEFECT              295047 non-null  object        \n",
      " 12  CRASH_TYPE               295047 non-null  object        \n",
      " 13  DAMAGE                   295047 non-null  object        \n",
      " 14  PRIM_CONTRIBUTORY_CAUSE  214640 non-null  object        \n",
      " 15  NUM_UNITS                295047 non-null  int64         \n",
      " 16  INJURIES_TOTAL           295047 non-null  float64       \n",
      " 17  CRASH_HOUR               295047 non-null  int64         \n",
      " 18  CRASH_DAY_OF_WEEK        295047 non-null  int64         \n",
      " 19  CRASH_MONTH              295047 non-null  int64         \n",
      " 20  VEHICLE_TYPE             295047 non-null  object        \n",
      " 21  MANEUVER                 295047 non-null  object        \n",
      " 22  FIRST_CONTACT_POINT      295047 non-null  object        \n",
      " 23  PERSON_TYPE              295047 non-null  object        \n",
      " 24  SEX                      287654 non-null  object        \n",
      " 25  AGE                      251269 non-null  float64       \n",
      " 26  SAFETY_EQUIPMENT         295047 non-null  object        \n",
      " 27  AIRBAG_DEPLOYED          295047 non-null  object        \n",
      " 28  DRIVER_ACTION            295047 non-null  object        \n",
      " 29  DRIVER_VISION            295047 non-null  object        \n",
      " 30  PHYSICAL_CONDITION       295047 non-null  object        \n",
      " 31  BAC_RESULT               199998 non-null  object        \n",
      " 32  YEAR                     295047 non-null  int64         \n",
      " 33  SEVERE_INJURY            295047 non-null  object        \n",
      "dtypes: datetime64[ns](1), float64(2), int64(6), object(25)\n",
      "memory usage: 78.8+ MB\n"
     ]
    }
   ],
   "source": [
    "#View our cleaned columns\n",
    "master_df.info()"
   ]
  },
  {
   "cell_type": "code",
   "execution_count": 404,
   "metadata": {},
   "outputs": [],
   "source": [
    "#We can get rid of RECORD_ID and DATE, not relevant for ML\n",
    "master_df.drop(labels=[\"CRASH_RECORD_ID\",\"CRASH_DATE\"], axis=1, inplace=True)"
   ]
  },
  {
   "cell_type": "code",
   "execution_count": 405,
   "metadata": {},
   "outputs": [
    {
     "name": "stdout",
     "output_type": "stream",
     "text": [
      "<class 'pandas.core.frame.DataFrame'>\n",
      "Int64Index: 295047 entries, 0 to 3594374\n",
      "Data columns (total 32 columns):\n",
      " #   Column                   Non-Null Count   Dtype  \n",
      "---  ------                   --------------   -----  \n",
      " 0   POSTED_SPEED_LIMIT       295047 non-null  int64  \n",
      " 1   TRAFFIC_CONTROL_DEVICE   295047 non-null  object \n",
      " 2   DEVICE_CONDITION         295047 non-null  object \n",
      " 3   WEATHER_CONDITION        295047 non-null  object \n",
      " 4   LIGHTING_CONDITION       295047 non-null  object \n",
      " 5   FIRST_CRASH_TYPE         295047 non-null  object \n",
      " 6   TRAFFICWAY_TYPE          295047 non-null  object \n",
      " 7   ALIGNMENT                295047 non-null  object \n",
      " 8   ROADWAY_SURFACE_COND     295047 non-null  object \n",
      " 9   ROAD_DEFECT              295047 non-null  object \n",
      " 10  CRASH_TYPE               295047 non-null  object \n",
      " 11  DAMAGE                   295047 non-null  object \n",
      " 12  PRIM_CONTRIBUTORY_CAUSE  214640 non-null  object \n",
      " 13  NUM_UNITS                295047 non-null  int64  \n",
      " 14  INJURIES_TOTAL           295047 non-null  float64\n",
      " 15  CRASH_HOUR               295047 non-null  int64  \n",
      " 16  CRASH_DAY_OF_WEEK        295047 non-null  int64  \n",
      " 17  CRASH_MONTH              295047 non-null  int64  \n",
      " 18  VEHICLE_TYPE             295047 non-null  object \n",
      " 19  MANEUVER                 295047 non-null  object \n",
      " 20  FIRST_CONTACT_POINT      295047 non-null  object \n",
      " 21  PERSON_TYPE              295047 non-null  object \n",
      " 22  SEX                      287654 non-null  object \n",
      " 23  AGE                      251269 non-null  float64\n",
      " 24  SAFETY_EQUIPMENT         295047 non-null  object \n",
      " 25  AIRBAG_DEPLOYED          295047 non-null  object \n",
      " 26  DRIVER_ACTION            295047 non-null  object \n",
      " 27  DRIVER_VISION            295047 non-null  object \n",
      " 28  PHYSICAL_CONDITION       295047 non-null  object \n",
      " 29  BAC_RESULT               199998 non-null  object \n",
      " 30  YEAR                     295047 non-null  int64  \n",
      " 31  SEVERE_INJURY            295047 non-null  object \n",
      "dtypes: float64(2), int64(6), object(24)\n",
      "memory usage: 74.3+ MB\n"
     ]
    }
   ],
   "source": [
    "master_df.info()"
   ]
  },
  {
   "cell_type": "code",
   "execution_count": 406,
   "metadata": {
    "scrolled": true
   },
   "outputs": [],
   "source": [
    "master_df.dropna(subset=[\"PRIM_CONTRIBUTORY_CAUSE\"],inplace=True)\n",
    "master_df.dropna(subset=[\"SEX\"], inplace=True)"
   ]
  },
  {
   "cell_type": "code",
   "execution_count": 407,
   "metadata": {},
   "outputs": [],
   "source": [
    "#Set our target\n",
    "y = master_df[\"PRIM_CONTRIBUTORY_CAUSE\"]\n",
    "X = master_df.drop(\"PRIM_CONTRIBUTORY_CAUSE\", axis=1)"
   ]
  },
  {
   "cell_type": "code",
   "execution_count": 408,
   "metadata": {},
   "outputs": [],
   "source": [
    "#Perform train test split\n",
    "X_train, X_test, y_train, y_test = train_test_split(X, y, test_size=0.4, random_state=100)"
   ]
  },
  {
   "cell_type": "code",
   "execution_count": 409,
   "metadata": {},
   "outputs": [
    {
     "data": {
      "text/plain": [
       "POSTED_SPEED_LIMIT            0\n",
       "TRAFFIC_CONTROL_DEVICE        0\n",
       "DEVICE_CONDITION              0\n",
       "WEATHER_CONDITION             0\n",
       "LIGHTING_CONDITION            0\n",
       "FIRST_CRASH_TYPE              0\n",
       "TRAFFICWAY_TYPE               0\n",
       "ALIGNMENT                     0\n",
       "ROADWAY_SURFACE_COND          0\n",
       "ROAD_DEFECT                   0\n",
       "CRASH_TYPE                    0\n",
       "DAMAGE                        0\n",
       "NUM_UNITS                     0\n",
       "INJURIES_TOTAL                0\n",
       "CRASH_HOUR                    0\n",
       "CRASH_DAY_OF_WEEK             0\n",
       "CRASH_MONTH                   0\n",
       "VEHICLE_TYPE                  0\n",
       "MANEUVER                      0\n",
       "FIRST_CONTACT_POINT           0\n",
       "PERSON_TYPE                   0\n",
       "SEX                           0\n",
       "AGE                       15602\n",
       "SAFETY_EQUIPMENT              0\n",
       "AIRBAG_DEPLOYED               0\n",
       "DRIVER_ACTION                 0\n",
       "DRIVER_VISION                 0\n",
       "PHYSICAL_CONDITION            0\n",
       "BAC_RESULT                38710\n",
       "YEAR                          0\n",
       "SEVERE_INJURY                 0\n",
       "dtype: int64"
      ]
     },
     "execution_count": 409,
     "metadata": {},
     "output_type": "execute_result"
    }
   ],
   "source": [
    "#Check for any missing values left\n",
    "X_train.isna().sum()"
   ]
  },
  {
   "cell_type": "code",
   "execution_count": 410,
   "metadata": {
    "scrolled": false
   },
   "outputs": [
    {
     "data": {
      "text/plain": [
       "POSTED_SPEED_LIMIT            0\n",
       "TRAFFIC_CONTROL_DEVICE        0\n",
       "DEVICE_CONDITION              0\n",
       "WEATHER_CONDITION             0\n",
       "LIGHTING_CONDITION            0\n",
       "FIRST_CRASH_TYPE              0\n",
       "TRAFFICWAY_TYPE               0\n",
       "ALIGNMENT                     0\n",
       "ROADWAY_SURFACE_COND          0\n",
       "ROAD_DEFECT                   0\n",
       "CRASH_TYPE                    0\n",
       "DAMAGE                        0\n",
       "NUM_UNITS                     0\n",
       "INJURIES_TOTAL                0\n",
       "CRASH_HOUR                    0\n",
       "CRASH_DAY_OF_WEEK             0\n",
       "CRASH_MONTH                   0\n",
       "VEHICLE_TYPE                  0\n",
       "MANEUVER                      0\n",
       "FIRST_CONTACT_POINT           0\n",
       "PERSON_TYPE                   0\n",
       "SEX                           0\n",
       "AGE                       15602\n",
       "SAFETY_EQUIPMENT              0\n",
       "AIRBAG_DEPLOYED               0\n",
       "DRIVER_ACTION                 0\n",
       "DRIVER_VISION                 0\n",
       "PHYSICAL_CONDITION            0\n",
       "BAC_RESULT                38710\n",
       "YEAR                          0\n",
       "SEVERE_INJURY                 0\n",
       "dtype: int64"
      ]
     },
     "execution_count": 410,
     "metadata": {},
     "output_type": "execute_result"
    }
   ],
   "source": [
    "X_train.isna().sum()"
   ]
  },
  {
   "cell_type": "code",
   "execution_count": 411,
   "metadata": {},
   "outputs": [
    {
     "data": {
      "text/plain": [
       " 25.0     3268\n",
       " 27.0     3211\n",
       " 23.0     3177\n",
       " 24.0     3144\n",
       " 26.0     3131\n",
       "          ... \n",
       " 110.0       2\n",
       " 102.0       2\n",
       "-1.0         2\n",
       " 98.0        1\n",
       " 97.0        1\n",
       "Name: AGE, Length: 104, dtype: int64"
      ]
     },
     "execution_count": 411,
     "metadata": {},
     "output_type": "execute_result"
    }
   ],
   "source": [
    "#age \n",
    "X_train[\"AGE\"].value_counts()"
   ]
  },
  {
   "cell_type": "code",
   "execution_count": 412,
   "metadata": {
    "scrolled": true
   },
   "outputs": [
    {
     "name": "stderr",
     "output_type": "stream",
     "text": [
      "<ipython-input-412-c591d441418d>:1: SettingWithCopyWarning: \n",
      "A value is trying to be set on a copy of a slice from a DataFrame.\n",
      "Try using .loc[row_indexer,col_indexer] = value instead\n",
      "\n",
      "See the caveats in the documentation: https://pandas.pydata.org/pandas-docs/stable/user_guide/indexing.html#returning-a-view-versus-a-copy\n",
      "  X_train[\"AGE\"]=X_train['AGE'].fillna(X_train['AGE'].mean())\n"
     ]
    },
    {
     "data": {
      "text/plain": [
       " 35.423753     15602\n",
       " 25.000000      3268\n",
       " 27.000000      3211\n",
       " 23.000000      3177\n",
       " 24.000000      3144\n",
       "               ...  \n",
       " 110.000000        2\n",
       " 102.000000        2\n",
       "-1.000000          2\n",
       " 97.000000         1\n",
       " 98.000000         1\n",
       "Name: AGE, Length: 105, dtype: int64"
      ]
     },
     "execution_count": 412,
     "metadata": {},
     "output_type": "execute_result"
    }
   ],
   "source": [
    "X_train[\"AGE\"]=X_train['AGE'].fillna(X_train['AGE'].mean())\n",
    "X_train['AGE'].value_counts()"
   ]
  },
  {
   "cell_type": "code",
   "execution_count": 413,
   "metadata": {},
   "outputs": [
    {
     "name": "stderr",
     "output_type": "stream",
     "text": [
      "D:\\Documents\\anaconda3\\envs\\learn-env\\lib\\site-packages\\pandas\\core\\series.py:4517: SettingWithCopyWarning: \n",
      "A value is trying to be set on a copy of a slice from a DataFrame\n",
      "\n",
      "See the caveats in the documentation: https://pandas.pydata.org/pandas-docs/stable/user_guide/indexing.html#returning-a-view-versus-a-copy\n",
      "  return super().fillna(\n"
     ]
    },
    {
     "data": {
      "text/plain": [
       "TEST NOT OFFERED    123185\n",
       "TEST REFUSED          1320\n",
       "TEST PERFORMED        1003\n",
       "Name: BAC_RESULT, dtype: int64"
      ]
     },
     "execution_count": 413,
     "metadata": {},
     "output_type": "execute_result"
    }
   ],
   "source": [
    "X_train['BAC_RESULT'].fillna(value=\"TEST NOT OFFERED\",axis=0, inplace=True)\n",
    "X_train['BAC_RESULT'].value_counts()"
   ]
  },
  {
   "cell_type": "code",
   "execution_count": 414,
   "metadata": {},
   "outputs": [
    {
     "name": "stdout",
     "output_type": "stream",
     "text": [
      "<class 'pandas.core.frame.DataFrame'>\n",
      "Int64Index: 125508 entries, 3137610 to 678260\n",
      "Data columns (total 31 columns):\n",
      " #   Column                  Non-Null Count   Dtype  \n",
      "---  ------                  --------------   -----  \n",
      " 0   POSTED_SPEED_LIMIT      125508 non-null  int64  \n",
      " 1   TRAFFIC_CONTROL_DEVICE  125508 non-null  object \n",
      " 2   DEVICE_CONDITION        125508 non-null  object \n",
      " 3   WEATHER_CONDITION       125508 non-null  object \n",
      " 4   LIGHTING_CONDITION      125508 non-null  object \n",
      " 5   FIRST_CRASH_TYPE        125508 non-null  object \n",
      " 6   TRAFFICWAY_TYPE         125508 non-null  object \n",
      " 7   ALIGNMENT               125508 non-null  object \n",
      " 8   ROADWAY_SURFACE_COND    125508 non-null  object \n",
      " 9   ROAD_DEFECT             125508 non-null  object \n",
      " 10  CRASH_TYPE              125508 non-null  object \n",
      " 11  DAMAGE                  125508 non-null  object \n",
      " 12  NUM_UNITS               125508 non-null  int64  \n",
      " 13  INJURIES_TOTAL          125508 non-null  float64\n",
      " 14  CRASH_HOUR              125508 non-null  int64  \n",
      " 15  CRASH_DAY_OF_WEEK       125508 non-null  int64  \n",
      " 16  CRASH_MONTH             125508 non-null  int64  \n",
      " 17  VEHICLE_TYPE            125508 non-null  object \n",
      " 18  MANEUVER                125508 non-null  object \n",
      " 19  FIRST_CONTACT_POINT     125508 non-null  object \n",
      " 20  PERSON_TYPE             125508 non-null  object \n",
      " 21  SEX                     125508 non-null  object \n",
      " 22  AGE                     125508 non-null  float64\n",
      " 23  SAFETY_EQUIPMENT        125508 non-null  object \n",
      " 24  AIRBAG_DEPLOYED         125508 non-null  object \n",
      " 25  DRIVER_ACTION           125508 non-null  object \n",
      " 26  DRIVER_VISION           125508 non-null  object \n",
      " 27  PHYSICAL_CONDITION      125508 non-null  object \n",
      " 28  BAC_RESULT              125508 non-null  object \n",
      " 29  YEAR                    125508 non-null  int64  \n",
      " 30  SEVERE_INJURY           125508 non-null  object \n",
      "dtypes: float64(2), int64(6), object(23)\n",
      "memory usage: 30.6+ MB\n"
     ]
    },
    {
     "data": {
      "text/plain": [
       "POSTED_SPEED_LIMIT        0\n",
       "TRAFFIC_CONTROL_DEVICE    0\n",
       "DEVICE_CONDITION          0\n",
       "WEATHER_CONDITION         0\n",
       "LIGHTING_CONDITION        0\n",
       "FIRST_CRASH_TYPE          0\n",
       "TRAFFICWAY_TYPE           0\n",
       "ALIGNMENT                 0\n",
       "ROADWAY_SURFACE_COND      0\n",
       "ROAD_DEFECT               0\n",
       "CRASH_TYPE                0\n",
       "DAMAGE                    0\n",
       "NUM_UNITS                 0\n",
       "INJURIES_TOTAL            0\n",
       "CRASH_HOUR                0\n",
       "CRASH_DAY_OF_WEEK         0\n",
       "CRASH_MONTH               0\n",
       "VEHICLE_TYPE              0\n",
       "MANEUVER                  0\n",
       "FIRST_CONTACT_POINT       0\n",
       "PERSON_TYPE               0\n",
       "SEX                       0\n",
       "AGE                       0\n",
       "SAFETY_EQUIPMENT          0\n",
       "AIRBAG_DEPLOYED           0\n",
       "DRIVER_ACTION             0\n",
       "DRIVER_VISION             0\n",
       "PHYSICAL_CONDITION        0\n",
       "BAC_RESULT                0\n",
       "YEAR                      0\n",
       "SEVERE_INJURY             0\n",
       "dtype: int64"
      ]
     },
     "execution_count": 414,
     "metadata": {},
     "output_type": "execute_result"
    }
   ],
   "source": [
    "X_train.info()\n",
    "X_train.isna().sum()"
   ]
  },
  {
   "cell_type": "code",
   "execution_count": 415,
   "metadata": {},
   "outputs": [],
   "source": [
    "##list of columns to be encoded:\n",
    "category_list = ['TRAFFIC_CONTROL_DEVICE','DEVICE_CONDITION',\"WEATHER_CONDITION\",\"LIGHTING_CONDITION\",\"FIRST_CRASH_TYPE\",\"TRAFFICWAY_TYPE\",\n",
    "                 \"ALIGNMENT\",\"ROADWAY_SURFACE_COND\",\"ROAD_DEFECT\",\"CRASH_TYPE\",\"DAMAGE\",\"VEHICLE_TYPE\",\"MANEUVER\",\"FIRST_CONTACT_POINT\",\"PERSON_TYPE\",\"SEX\",\n",
    "                \"SAFETY_EQUIPMENT\",\"AIRBAG_DEPLOYED\",\"DRIVER_ACTION\",\"DRIVER_VISION\",\"PHYSICAL_CONDITION\",\"BAC_RESULT\",\"SEVERE_INJURY\"]"
   ]
  },
  {
   "cell_type": "code",
   "execution_count": 416,
   "metadata": {},
   "outputs": [
    {
     "data": {
      "text/html": [
       "<div>\n",
       "<style scoped>\n",
       "    .dataframe tbody tr th:only-of-type {\n",
       "        vertical-align: middle;\n",
       "    }\n",
       "\n",
       "    .dataframe tbody tr th {\n",
       "        vertical-align: top;\n",
       "    }\n",
       "\n",
       "    .dataframe thead th {\n",
       "        text-align: right;\n",
       "    }\n",
       "</style>\n",
       "<table border=\"1\" class=\"dataframe\">\n",
       "  <thead>\n",
       "    <tr style=\"text-align: right;\">\n",
       "      <th></th>\n",
       "      <th>x0_NO CONTROLS</th>\n",
       "      <th>x0_OTHER</th>\n",
       "      <th>x0_SIGN</th>\n",
       "      <th>x0_SIGNAL</th>\n",
       "      <th>x1_FUNCTIONING IMPROPERLY/ MISSING</th>\n",
       "      <th>x1_FUNCTIONING PROPERLY</th>\n",
       "      <th>x1_NO CONTROLS</th>\n",
       "      <th>x2_CLEAR</th>\n",
       "      <th>x2_INCLEMENT</th>\n",
       "      <th>x3_DIMINISHED VISIBILITY</th>\n",
       "      <th>...</th>\n",
       "      <th>x19_UNKNOWN</th>\n",
       "      <th>x20_NORMAL</th>\n",
       "      <th>x20_NOT NORMAL</th>\n",
       "      <th>x20_UNKNOWN</th>\n",
       "      <th>x21_TEST NOT OFFERED</th>\n",
       "      <th>x21_TEST PERFORMED</th>\n",
       "      <th>x21_TEST REFUSED</th>\n",
       "      <th>x22_FATAL</th>\n",
       "      <th>x22_MAJOR INJURIES</th>\n",
       "      <th>x22_MINOR INJURIES</th>\n",
       "    </tr>\n",
       "  </thead>\n",
       "  <tbody>\n",
       "    <tr>\n",
       "      <th>3137610</th>\n",
       "      <td>1.0</td>\n",
       "      <td>0.0</td>\n",
       "      <td>0.0</td>\n",
       "      <td>0.0</td>\n",
       "      <td>0.0</td>\n",
       "      <td>0.0</td>\n",
       "      <td>1.0</td>\n",
       "      <td>1.0</td>\n",
       "      <td>0.0</td>\n",
       "      <td>1.0</td>\n",
       "      <td>...</td>\n",
       "      <td>1.0</td>\n",
       "      <td>0.0</td>\n",
       "      <td>0.0</td>\n",
       "      <td>1.0</td>\n",
       "      <td>1.0</td>\n",
       "      <td>0.0</td>\n",
       "      <td>0.0</td>\n",
       "      <td>0.0</td>\n",
       "      <td>1.0</td>\n",
       "      <td>0.0</td>\n",
       "    </tr>\n",
       "    <tr>\n",
       "      <th>814793</th>\n",
       "      <td>1.0</td>\n",
       "      <td>0.0</td>\n",
       "      <td>0.0</td>\n",
       "      <td>0.0</td>\n",
       "      <td>0.0</td>\n",
       "      <td>0.0</td>\n",
       "      <td>1.0</td>\n",
       "      <td>1.0</td>\n",
       "      <td>0.0</td>\n",
       "      <td>0.0</td>\n",
       "      <td>...</td>\n",
       "      <td>1.0</td>\n",
       "      <td>0.0</td>\n",
       "      <td>0.0</td>\n",
       "      <td>1.0</td>\n",
       "      <td>1.0</td>\n",
       "      <td>0.0</td>\n",
       "      <td>0.0</td>\n",
       "      <td>0.0</td>\n",
       "      <td>0.0</td>\n",
       "      <td>1.0</td>\n",
       "    </tr>\n",
       "    <tr>\n",
       "      <th>1690979</th>\n",
       "      <td>0.0</td>\n",
       "      <td>0.0</td>\n",
       "      <td>0.0</td>\n",
       "      <td>1.0</td>\n",
       "      <td>0.0</td>\n",
       "      <td>1.0</td>\n",
       "      <td>0.0</td>\n",
       "      <td>1.0</td>\n",
       "      <td>0.0</td>\n",
       "      <td>0.0</td>\n",
       "      <td>...</td>\n",
       "      <td>1.0</td>\n",
       "      <td>1.0</td>\n",
       "      <td>0.0</td>\n",
       "      <td>0.0</td>\n",
       "      <td>0.0</td>\n",
       "      <td>0.0</td>\n",
       "      <td>1.0</td>\n",
       "      <td>0.0</td>\n",
       "      <td>0.0</td>\n",
       "      <td>1.0</td>\n",
       "    </tr>\n",
       "    <tr>\n",
       "      <th>2353837</th>\n",
       "      <td>1.0</td>\n",
       "      <td>0.0</td>\n",
       "      <td>0.0</td>\n",
       "      <td>0.0</td>\n",
       "      <td>0.0</td>\n",
       "      <td>0.0</td>\n",
       "      <td>1.0</td>\n",
       "      <td>1.0</td>\n",
       "      <td>0.0</td>\n",
       "      <td>0.0</td>\n",
       "      <td>...</td>\n",
       "      <td>0.0</td>\n",
       "      <td>1.0</td>\n",
       "      <td>0.0</td>\n",
       "      <td>0.0</td>\n",
       "      <td>1.0</td>\n",
       "      <td>0.0</td>\n",
       "      <td>0.0</td>\n",
       "      <td>0.0</td>\n",
       "      <td>0.0</td>\n",
       "      <td>1.0</td>\n",
       "    </tr>\n",
       "    <tr>\n",
       "      <th>3560671</th>\n",
       "      <td>0.0</td>\n",
       "      <td>0.0</td>\n",
       "      <td>1.0</td>\n",
       "      <td>0.0</td>\n",
       "      <td>0.0</td>\n",
       "      <td>0.0</td>\n",
       "      <td>1.0</td>\n",
       "      <td>1.0</td>\n",
       "      <td>0.0</td>\n",
       "      <td>0.0</td>\n",
       "      <td>...</td>\n",
       "      <td>0.0</td>\n",
       "      <td>1.0</td>\n",
       "      <td>0.0</td>\n",
       "      <td>0.0</td>\n",
       "      <td>1.0</td>\n",
       "      <td>0.0</td>\n",
       "      <td>0.0</td>\n",
       "      <td>0.0</td>\n",
       "      <td>0.0</td>\n",
       "      <td>1.0</td>\n",
       "    </tr>\n",
       "    <tr>\n",
       "      <th>...</th>\n",
       "      <td>...</td>\n",
       "      <td>...</td>\n",
       "      <td>...</td>\n",
       "      <td>...</td>\n",
       "      <td>...</td>\n",
       "      <td>...</td>\n",
       "      <td>...</td>\n",
       "      <td>...</td>\n",
       "      <td>...</td>\n",
       "      <td>...</td>\n",
       "      <td>...</td>\n",
       "      <td>...</td>\n",
       "      <td>...</td>\n",
       "      <td>...</td>\n",
       "      <td>...</td>\n",
       "      <td>...</td>\n",
       "      <td>...</td>\n",
       "      <td>...</td>\n",
       "      <td>...</td>\n",
       "      <td>...</td>\n",
       "      <td>...</td>\n",
       "    </tr>\n",
       "    <tr>\n",
       "      <th>3391987</th>\n",
       "      <td>1.0</td>\n",
       "      <td>0.0</td>\n",
       "      <td>0.0</td>\n",
       "      <td>0.0</td>\n",
       "      <td>0.0</td>\n",
       "      <td>0.0</td>\n",
       "      <td>1.0</td>\n",
       "      <td>1.0</td>\n",
       "      <td>0.0</td>\n",
       "      <td>0.0</td>\n",
       "      <td>...</td>\n",
       "      <td>1.0</td>\n",
       "      <td>1.0</td>\n",
       "      <td>0.0</td>\n",
       "      <td>0.0</td>\n",
       "      <td>1.0</td>\n",
       "      <td>0.0</td>\n",
       "      <td>0.0</td>\n",
       "      <td>0.0</td>\n",
       "      <td>1.0</td>\n",
       "      <td>0.0</td>\n",
       "    </tr>\n",
       "    <tr>\n",
       "      <th>1158462</th>\n",
       "      <td>0.0</td>\n",
       "      <td>0.0</td>\n",
       "      <td>0.0</td>\n",
       "      <td>1.0</td>\n",
       "      <td>0.0</td>\n",
       "      <td>1.0</td>\n",
       "      <td>0.0</td>\n",
       "      <td>1.0</td>\n",
       "      <td>0.0</td>\n",
       "      <td>1.0</td>\n",
       "      <td>...</td>\n",
       "      <td>1.0</td>\n",
       "      <td>1.0</td>\n",
       "      <td>0.0</td>\n",
       "      <td>0.0</td>\n",
       "      <td>1.0</td>\n",
       "      <td>0.0</td>\n",
       "      <td>0.0</td>\n",
       "      <td>0.0</td>\n",
       "      <td>0.0</td>\n",
       "      <td>1.0</td>\n",
       "    </tr>\n",
       "    <tr>\n",
       "      <th>1378154</th>\n",
       "      <td>0.0</td>\n",
       "      <td>0.0</td>\n",
       "      <td>0.0</td>\n",
       "      <td>1.0</td>\n",
       "      <td>0.0</td>\n",
       "      <td>1.0</td>\n",
       "      <td>0.0</td>\n",
       "      <td>1.0</td>\n",
       "      <td>0.0</td>\n",
       "      <td>0.0</td>\n",
       "      <td>...</td>\n",
       "      <td>0.0</td>\n",
       "      <td>1.0</td>\n",
       "      <td>0.0</td>\n",
       "      <td>0.0</td>\n",
       "      <td>1.0</td>\n",
       "      <td>0.0</td>\n",
       "      <td>0.0</td>\n",
       "      <td>0.0</td>\n",
       "      <td>0.0</td>\n",
       "      <td>1.0</td>\n",
       "    </tr>\n",
       "    <tr>\n",
       "      <th>990587</th>\n",
       "      <td>1.0</td>\n",
       "      <td>0.0</td>\n",
       "      <td>0.0</td>\n",
       "      <td>0.0</td>\n",
       "      <td>0.0</td>\n",
       "      <td>0.0</td>\n",
       "      <td>1.0</td>\n",
       "      <td>1.0</td>\n",
       "      <td>0.0</td>\n",
       "      <td>1.0</td>\n",
       "      <td>...</td>\n",
       "      <td>0.0</td>\n",
       "      <td>1.0</td>\n",
       "      <td>0.0</td>\n",
       "      <td>0.0</td>\n",
       "      <td>1.0</td>\n",
       "      <td>0.0</td>\n",
       "      <td>0.0</td>\n",
       "      <td>0.0</td>\n",
       "      <td>0.0</td>\n",
       "      <td>1.0</td>\n",
       "    </tr>\n",
       "    <tr>\n",
       "      <th>678260</th>\n",
       "      <td>1.0</td>\n",
       "      <td>0.0</td>\n",
       "      <td>0.0</td>\n",
       "      <td>0.0</td>\n",
       "      <td>0.0</td>\n",
       "      <td>0.0</td>\n",
       "      <td>1.0</td>\n",
       "      <td>0.0</td>\n",
       "      <td>1.0</td>\n",
       "      <td>0.0</td>\n",
       "      <td>...</td>\n",
       "      <td>0.0</td>\n",
       "      <td>1.0</td>\n",
       "      <td>0.0</td>\n",
       "      <td>0.0</td>\n",
       "      <td>1.0</td>\n",
       "      <td>0.0</td>\n",
       "      <td>0.0</td>\n",
       "      <td>0.0</td>\n",
       "      <td>0.0</td>\n",
       "      <td>1.0</td>\n",
       "    </tr>\n",
       "  </tbody>\n",
       "</table>\n",
       "<p>125508 rows × 70 columns</p>\n",
       "</div>"
      ],
      "text/plain": [
       "         x0_NO CONTROLS  x0_OTHER  x0_SIGN  x0_SIGNAL  \\\n",
       "3137610             1.0       0.0      0.0        0.0   \n",
       "814793              1.0       0.0      0.0        0.0   \n",
       "1690979             0.0       0.0      0.0        1.0   \n",
       "2353837             1.0       0.0      0.0        0.0   \n",
       "3560671             0.0       0.0      1.0        0.0   \n",
       "...                 ...       ...      ...        ...   \n",
       "3391987             1.0       0.0      0.0        0.0   \n",
       "1158462             0.0       0.0      0.0        1.0   \n",
       "1378154             0.0       0.0      0.0        1.0   \n",
       "990587              1.0       0.0      0.0        0.0   \n",
       "678260              1.0       0.0      0.0        0.0   \n",
       "\n",
       "         x1_FUNCTIONING IMPROPERLY/ MISSING  x1_FUNCTIONING PROPERLY  \\\n",
       "3137610                                 0.0                      0.0   \n",
       "814793                                  0.0                      0.0   \n",
       "1690979                                 0.0                      1.0   \n",
       "2353837                                 0.0                      0.0   \n",
       "3560671                                 0.0                      0.0   \n",
       "...                                     ...                      ...   \n",
       "3391987                                 0.0                      0.0   \n",
       "1158462                                 0.0                      1.0   \n",
       "1378154                                 0.0                      1.0   \n",
       "990587                                  0.0                      0.0   \n",
       "678260                                  0.0                      0.0   \n",
       "\n",
       "         x1_NO CONTROLS  x2_CLEAR  x2_INCLEMENT  x3_DIMINISHED VISIBILITY  \\\n",
       "3137610             1.0       1.0           0.0                       1.0   \n",
       "814793              1.0       1.0           0.0                       0.0   \n",
       "1690979             0.0       1.0           0.0                       0.0   \n",
       "2353837             1.0       1.0           0.0                       0.0   \n",
       "3560671             1.0       1.0           0.0                       0.0   \n",
       "...                 ...       ...           ...                       ...   \n",
       "3391987             1.0       1.0           0.0                       0.0   \n",
       "1158462             0.0       1.0           0.0                       1.0   \n",
       "1378154             0.0       1.0           0.0                       0.0   \n",
       "990587              1.0       1.0           0.0                       1.0   \n",
       "678260              1.0       0.0           1.0                       0.0   \n",
       "\n",
       "         ...  x19_UNKNOWN  x20_NORMAL  x20_NOT NORMAL  x20_UNKNOWN  \\\n",
       "3137610  ...          1.0         0.0             0.0          1.0   \n",
       "814793   ...          1.0         0.0             0.0          1.0   \n",
       "1690979  ...          1.0         1.0             0.0          0.0   \n",
       "2353837  ...          0.0         1.0             0.0          0.0   \n",
       "3560671  ...          0.0         1.0             0.0          0.0   \n",
       "...      ...          ...         ...             ...          ...   \n",
       "3391987  ...          1.0         1.0             0.0          0.0   \n",
       "1158462  ...          1.0         1.0             0.0          0.0   \n",
       "1378154  ...          0.0         1.0             0.0          0.0   \n",
       "990587   ...          0.0         1.0             0.0          0.0   \n",
       "678260   ...          0.0         1.0             0.0          0.0   \n",
       "\n",
       "         x21_TEST NOT OFFERED  x21_TEST PERFORMED  x21_TEST REFUSED  \\\n",
       "3137610                   1.0                 0.0               0.0   \n",
       "814793                    1.0                 0.0               0.0   \n",
       "1690979                   0.0                 0.0               1.0   \n",
       "2353837                   1.0                 0.0               0.0   \n",
       "3560671                   1.0                 0.0               0.0   \n",
       "...                       ...                 ...               ...   \n",
       "3391987                   1.0                 0.0               0.0   \n",
       "1158462                   1.0                 0.0               0.0   \n",
       "1378154                   1.0                 0.0               0.0   \n",
       "990587                    1.0                 0.0               0.0   \n",
       "678260                    1.0                 0.0               0.0   \n",
       "\n",
       "         x22_FATAL  x22_MAJOR INJURIES  x22_MINOR INJURIES  \n",
       "3137610        0.0                 1.0                 0.0  \n",
       "814793         0.0                 0.0                 1.0  \n",
       "1690979        0.0                 0.0                 1.0  \n",
       "2353837        0.0                 0.0                 1.0  \n",
       "3560671        0.0                 0.0                 1.0  \n",
       "...            ...                 ...                 ...  \n",
       "3391987        0.0                 1.0                 0.0  \n",
       "1158462        0.0                 0.0                 1.0  \n",
       "1378154        0.0                 0.0                 1.0  \n",
       "990587         0.0                 0.0                 1.0  \n",
       "678260         0.0                 0.0                 1.0  \n",
       "\n",
       "[125508 rows x 70 columns]"
      ]
     },
     "execution_count": 416,
     "metadata": {},
     "output_type": "execute_result"
    }
   ],
   "source": [
    "#We will One-hot encode all of our columns\n",
    "from sklearn.preprocessing import OneHotEncoder\n",
    "\n",
    "ohe = OneHotEncoder(categories='auto')\n",
    "\n",
    "encoded_train_arr = ohe.fit_transform(X_train[category_list]).toarray()\n",
    "encoded_train_labels = ohe.get_feature_names()\n",
    "encoded_train_labels\n",
    "encoded_train_labels = np.array(encoded_train_labels).ravel()\n",
    "encoded_train_arr = pd.DataFrame(encoded_train_arr, columns = encoded_train_labels, index=X_train.index)\n",
    "encoded_train_arr"
   ]
  },
  {
   "cell_type": "code",
   "execution_count": 417,
   "metadata": {},
   "outputs": [
    {
     "name": "stderr",
     "output_type": "stream",
     "text": [
      "D:\\Documents\\anaconda3\\envs\\learn-env\\lib\\site-packages\\pandas\\core\\frame.py:4163: SettingWithCopyWarning: \n",
      "A value is trying to be set on a copy of a slice from a DataFrame\n",
      "\n",
      "See the caveats in the documentation: https://pandas.pydata.org/pandas-docs/stable/user_guide/indexing.html#returning-a-view-versus-a-copy\n",
      "  return super().drop(\n"
     ]
    }
   ],
   "source": [
    "#Drop the original columns and append our encoded array\n",
    "X_train.drop(category_list, axis=1, inplace=True)\n",
    "X_train = pd.concat([X_train, encoded_train_arr], axis=1)"
   ]
  },
  {
   "cell_type": "code",
   "execution_count": 418,
   "metadata": {},
   "outputs": [
    {
     "name": "stdout",
     "output_type": "stream",
     "text": [
      "<class 'pandas.core.frame.DataFrame'>\n",
      "Int64Index: 125508 entries, 3137610 to 678260\n",
      "Data columns (total 78 columns):\n",
      " #   Column                               Non-Null Count   Dtype  \n",
      "---  ------                               --------------   -----  \n",
      " 0   POSTED_SPEED_LIMIT                   125508 non-null  int64  \n",
      " 1   NUM_UNITS                            125508 non-null  int64  \n",
      " 2   INJURIES_TOTAL                       125508 non-null  float64\n",
      " 3   CRASH_HOUR                           125508 non-null  int64  \n",
      " 4   CRASH_DAY_OF_WEEK                    125508 non-null  int64  \n",
      " 5   CRASH_MONTH                          125508 non-null  int64  \n",
      " 6   AGE                                  125508 non-null  float64\n",
      " 7   YEAR                                 125508 non-null  int64  \n",
      " 8   x0_NO CONTROLS                       125508 non-null  float64\n",
      " 9   x0_OTHER                             125508 non-null  float64\n",
      " 10  x0_SIGN                              125508 non-null  float64\n",
      " 11  x0_SIGNAL                            125508 non-null  float64\n",
      " 12  x1_FUNCTIONING IMPROPERLY/ MISSING   125508 non-null  float64\n",
      " 13  x1_FUNCTIONING PROPERLY              125508 non-null  float64\n",
      " 14  x1_NO CONTROLS                       125508 non-null  float64\n",
      " 15  x2_CLEAR                             125508 non-null  float64\n",
      " 16  x2_INCLEMENT                         125508 non-null  float64\n",
      " 17  x3_DIMINISHED VISIBILITY             125508 non-null  float64\n",
      " 18  x3_VISIBLE                           125508 non-null  float64\n",
      " 19  x4_ANGLE                             125508 non-null  float64\n",
      " 20  x4_OBJECT                            125508 non-null  float64\n",
      " 21  x4_OTHER                             125508 non-null  float64\n",
      " 22  x4_PERSON OR ANIMAL                  125508 non-null  float64\n",
      " 23  x4_REAR END                          125508 non-null  float64\n",
      " 24  x4_SIDE SWIPE                        125508 non-null  float64\n",
      " 25  x4_TURNING                           125508 non-null  float64\n",
      " 26  x5_DIVIDED                           125508 non-null  float64\n",
      " 27  x5_INTERSECTION                      125508 non-null  float64\n",
      " 28  x5_NOT DIVIDED                       125508 non-null  float64\n",
      " 29  x5_OTHER                             125508 non-null  float64\n",
      " 30  x6_NOT STRAIGHT                      125508 non-null  float64\n",
      " 31  x6_STRAIGHT                          125508 non-null  float64\n",
      " 32  x7_DRY                               125508 non-null  float64\n",
      " 33  x7_NOT DRY                           125508 non-null  float64\n",
      " 34  x7_OTHER                             125508 non-null  float64\n",
      " 35  x8_DEFECTS                           125508 non-null  float64\n",
      " 36  x8_NO DEFECTS                        125508 non-null  float64\n",
      " 37  x9_INJURY AND / OR TOW DUE TO CRASH  125508 non-null  float64\n",
      " 38  x9_NO INJURY / DRIVE AWAY            125508 non-null  float64\n",
      " 39  x10_OVER $1500                       125508 non-null  float64\n",
      " 40  x10_UNDER $1500                      125508 non-null  float64\n",
      " 41  x11_PASSENGER                        125508 non-null  float64\n",
      " 42  x11_SPORT UTILITY VEHICLE (SUV)      125508 non-null  float64\n",
      " 43  x11_VAN/MINI-VAN                     125508 non-null  float64\n",
      " 44  x12_OTHER                            125508 non-null  float64\n",
      " 45  x12_STRAIGHT                         125508 non-null  float64\n",
      " 46  x13_FRONT                            125508 non-null  float64\n",
      " 47  x13_NONE                             125508 non-null  float64\n",
      " 48  x13_OTHER                            125508 non-null  float64\n",
      " 49  x13_REAR                             125508 non-null  float64\n",
      " 50  x13_SIDES                            125508 non-null  float64\n",
      " 51  x14_DRIVER                           125508 non-null  float64\n",
      " 52  x14_OTHER                            125508 non-null  float64\n",
      " 53  x14_PASSENGER                        125508 non-null  float64\n",
      " 54  x15_F                                125508 non-null  float64\n",
      " 55  x15_M                                125508 non-null  float64\n",
      " 56  x16_NONE                             125508 non-null  float64\n",
      " 57  x16_NOT USED                         125508 non-null  float64\n",
      " 58  x16_UNKNOWN                          125508 non-null  float64\n",
      " 59  x16_USED                             125508 non-null  float64\n",
      " 60  x17_DEPLOYED                         125508 non-null  float64\n",
      " 61  x17_DID NOT DEPLOY                   125508 non-null  float64\n",
      " 62  x17_NOT APPLICABLE                   125508 non-null  float64\n",
      " 63  x17_UNKNOWN                          125508 non-null  float64\n",
      " 64  x18_ACTIONS TAKEN                    125508 non-null  float64\n",
      " 65  x18_NO ACTION TAKEN                  125508 non-null  float64\n",
      " 66  x19_NOT OBSCURED                     125508 non-null  float64\n",
      " 67  x19_OBSCURED                         125508 non-null  float64\n",
      " 68  x19_UNKNOWN                          125508 non-null  float64\n",
      " 69  x20_NORMAL                           125508 non-null  float64\n",
      " 70  x20_NOT NORMAL                       125508 non-null  float64\n",
      " 71  x20_UNKNOWN                          125508 non-null  float64\n",
      " 72  x21_TEST NOT OFFERED                 125508 non-null  float64\n",
      " 73  x21_TEST PERFORMED                   125508 non-null  float64\n",
      " 74  x21_TEST REFUSED                     125508 non-null  float64\n",
      " 75  x22_FATAL                            125508 non-null  float64\n",
      " 76  x22_MAJOR INJURIES                   125508 non-null  float64\n",
      " 77  x22_MINOR INJURIES                   125508 non-null  float64\n",
      "dtypes: float64(72), int64(6)\n",
      "memory usage: 75.6 MB\n"
     ]
    }
   ],
   "source": [
    "# Visually inspect X_train\n",
    "X_train.info()"
   ]
  },
  {
   "cell_type": "markdown",
   "metadata": {},
   "source": [
    "## **Testing:**"
   ]
  },
  {
   "cell_type": "code",
   "execution_count": 419,
   "metadata": {},
   "outputs": [
    {
     "name": "stdout",
     "output_type": "stream",
     "text": [
      "<class 'pandas.core.frame.DataFrame'>\n",
      "Int64Index: 83673 entries, 2830395 to 3032282\n",
      "Data columns (total 31 columns):\n",
      " #   Column                  Non-Null Count  Dtype  \n",
      "---  ------                  --------------  -----  \n",
      " 0   POSTED_SPEED_LIMIT      83673 non-null  int64  \n",
      " 1   TRAFFIC_CONTROL_DEVICE  83673 non-null  object \n",
      " 2   DEVICE_CONDITION        83673 non-null  object \n",
      " 3   WEATHER_CONDITION       83673 non-null  object \n",
      " 4   LIGHTING_CONDITION      83673 non-null  object \n",
      " 5   FIRST_CRASH_TYPE        83673 non-null  object \n",
      " 6   TRAFFICWAY_TYPE         83673 non-null  object \n",
      " 7   ALIGNMENT               83673 non-null  object \n",
      " 8   ROADWAY_SURFACE_COND    83673 non-null  object \n",
      " 9   ROAD_DEFECT             83673 non-null  object \n",
      " 10  CRASH_TYPE              83673 non-null  object \n",
      " 11  DAMAGE                  83673 non-null  object \n",
      " 12  NUM_UNITS               83673 non-null  int64  \n",
      " 13  INJURIES_TOTAL          83673 non-null  float64\n",
      " 14  CRASH_HOUR              83673 non-null  int64  \n",
      " 15  CRASH_DAY_OF_WEEK       83673 non-null  int64  \n",
      " 16  CRASH_MONTH             83673 non-null  int64  \n",
      " 17  VEHICLE_TYPE            83673 non-null  object \n",
      " 18  MANEUVER                83673 non-null  object \n",
      " 19  FIRST_CONTACT_POINT     83673 non-null  object \n",
      " 20  PERSON_TYPE             83673 non-null  object \n",
      " 21  SEX                     83673 non-null  object \n",
      " 22  AGE                     73283 non-null  float64\n",
      " 23  SAFETY_EQUIPMENT        83673 non-null  object \n",
      " 24  AIRBAG_DEPLOYED         83673 non-null  object \n",
      " 25  DRIVER_ACTION           83673 non-null  object \n",
      " 26  DRIVER_VISION           83673 non-null  object \n",
      " 27  PHYSICAL_CONDITION      83673 non-null  object \n",
      " 28  BAC_RESULT              57740 non-null  object \n",
      " 29  YEAR                    83673 non-null  int64  \n",
      " 30  SEVERE_INJURY           83673 non-null  object \n",
      "dtypes: float64(2), int64(6), object(23)\n",
      "memory usage: 20.4+ MB\n"
     ]
    }
   ],
   "source": [
    "#Do the same changes to X_test:\n",
    "X_test.info()"
   ]
  },
  {
   "cell_type": "code",
   "execution_count": 420,
   "metadata": {},
   "outputs": [
    {
     "name": "stderr",
     "output_type": "stream",
     "text": [
      "<ipython-input-420-167ce5bde942>:2: SettingWithCopyWarning: \n",
      "A value is trying to be set on a copy of a slice from a DataFrame\n",
      "\n",
      "See the caveats in the documentation: https://pandas.pydata.org/pandas-docs/stable/user_guide/indexing.html#returning-a-view-versus-a-copy\n",
      "  X_test.dropna(subset=[\"SEX\"], inplace=True)\n",
      "<ipython-input-420-167ce5bde942>:3: SettingWithCopyWarning: \n",
      "A value is trying to be set on a copy of a slice from a DataFrame.\n",
      "Try using .loc[row_indexer,col_indexer] = value instead\n",
      "\n",
      "See the caveats in the documentation: https://pandas.pydata.org/pandas-docs/stable/user_guide/indexing.html#returning-a-view-versus-a-copy\n",
      "  X_test[\"AGE\"]=X_test['AGE'].fillna(X_test['AGE'].mean())\n",
      "D:\\Documents\\anaconda3\\envs\\learn-env\\lib\\site-packages\\pandas\\core\\series.py:4517: SettingWithCopyWarning: \n",
      "A value is trying to be set on a copy of a slice from a DataFrame\n",
      "\n",
      "See the caveats in the documentation: https://pandas.pydata.org/pandas-docs/stable/user_guide/indexing.html#returning-a-view-versus-a-copy\n",
      "  return super().fillna(\n",
      "D:\\Documents\\anaconda3\\envs\\learn-env\\lib\\site-packages\\pandas\\core\\frame.py:4163: SettingWithCopyWarning: \n",
      "A value is trying to be set on a copy of a slice from a DataFrame\n",
      "\n",
      "See the caveats in the documentation: https://pandas.pydata.org/pandas-docs/stable/user_guide/indexing.html#returning-a-view-versus-a-copy\n",
      "  return super().drop(\n"
     ]
    }
   ],
   "source": [
    "#deal with missing values\n",
    "X_test.dropna(subset=[\"SEX\"], inplace=True)\n",
    "X_test[\"AGE\"]=X_test['AGE'].fillna(X_test['AGE'].mean())\n",
    "X_test['BAC_RESULT'].fillna(value=\"TEST NOT OFFERED\",axis=0, inplace=True)\n",
    "\n",
    "#encode the categoricals\n",
    "encoded_test_arr = ohe.fit_transform(X_test[category_list]).toarray()\n",
    "encoded_test_labels = ohe.get_feature_names()\n",
    "encoded_test_labels\n",
    "encoded_test_labels = np.array(encoded_test_labels).ravel()\n",
    "encoded_test_arr = pd.DataFrame(encoded_test_arr, columns = encoded_test_labels, index=X_test.index)\n",
    "encoded_test_arr\n",
    "\n",
    "#drop orginal column and append our encoded columns\n",
    "X_test.drop(category_list, axis=1, inplace=True)\n",
    "X_test = pd.concat([X_test, encoded_test_arr], axis=1)"
   ]
  },
  {
   "cell_type": "code",
   "execution_count": 421,
   "metadata": {
    "scrolled": true
   },
   "outputs": [
    {
     "name": "stdout",
     "output_type": "stream",
     "text": [
      "<class 'pandas.core.frame.DataFrame'>\n",
      "Int64Index: 83673 entries, 2830395 to 3032282\n",
      "Data columns (total 78 columns):\n",
      " #   Column                               Non-Null Count  Dtype  \n",
      "---  ------                               --------------  -----  \n",
      " 0   POSTED_SPEED_LIMIT                   83673 non-null  int64  \n",
      " 1   NUM_UNITS                            83673 non-null  int64  \n",
      " 2   INJURIES_TOTAL                       83673 non-null  float64\n",
      " 3   CRASH_HOUR                           83673 non-null  int64  \n",
      " 4   CRASH_DAY_OF_WEEK                    83673 non-null  int64  \n",
      " 5   CRASH_MONTH                          83673 non-null  int64  \n",
      " 6   AGE                                  83673 non-null  float64\n",
      " 7   YEAR                                 83673 non-null  int64  \n",
      " 8   x0_NO CONTROLS                       83673 non-null  float64\n",
      " 9   x0_OTHER                             83673 non-null  float64\n",
      " 10  x0_SIGN                              83673 non-null  float64\n",
      " 11  x0_SIGNAL                            83673 non-null  float64\n",
      " 12  x1_FUNCTIONING IMPROPERLY/ MISSING   83673 non-null  float64\n",
      " 13  x1_FUNCTIONING PROPERLY              83673 non-null  float64\n",
      " 14  x1_NO CONTROLS                       83673 non-null  float64\n",
      " 15  x2_CLEAR                             83673 non-null  float64\n",
      " 16  x2_INCLEMENT                         83673 non-null  float64\n",
      " 17  x3_DIMINISHED VISIBILITY             83673 non-null  float64\n",
      " 18  x3_VISIBLE                           83673 non-null  float64\n",
      " 19  x4_ANGLE                             83673 non-null  float64\n",
      " 20  x4_OBJECT                            83673 non-null  float64\n",
      " 21  x4_OTHER                             83673 non-null  float64\n",
      " 22  x4_PERSON OR ANIMAL                  83673 non-null  float64\n",
      " 23  x4_REAR END                          83673 non-null  float64\n",
      " 24  x4_SIDE SWIPE                        83673 non-null  float64\n",
      " 25  x4_TURNING                           83673 non-null  float64\n",
      " 26  x5_DIVIDED                           83673 non-null  float64\n",
      " 27  x5_INTERSECTION                      83673 non-null  float64\n",
      " 28  x5_NOT DIVIDED                       83673 non-null  float64\n",
      " 29  x5_OTHER                             83673 non-null  float64\n",
      " 30  x6_NOT STRAIGHT                      83673 non-null  float64\n",
      " 31  x6_STRAIGHT                          83673 non-null  float64\n",
      " 32  x7_DRY                               83673 non-null  float64\n",
      " 33  x7_NOT DRY                           83673 non-null  float64\n",
      " 34  x7_OTHER                             83673 non-null  float64\n",
      " 35  x8_DEFECTS                           83673 non-null  float64\n",
      " 36  x8_NO DEFECTS                        83673 non-null  float64\n",
      " 37  x9_INJURY AND / OR TOW DUE TO CRASH  83673 non-null  float64\n",
      " 38  x9_NO INJURY / DRIVE AWAY            83673 non-null  float64\n",
      " 39  x10_OVER $1500                       83673 non-null  float64\n",
      " 40  x10_UNDER $1500                      83673 non-null  float64\n",
      " 41  x11_PASSENGER                        83673 non-null  float64\n",
      " 42  x11_SPORT UTILITY VEHICLE (SUV)      83673 non-null  float64\n",
      " 43  x11_VAN/MINI-VAN                     83673 non-null  float64\n",
      " 44  x12_OTHER                            83673 non-null  float64\n",
      " 45  x12_STRAIGHT                         83673 non-null  float64\n",
      " 46  x13_FRONT                            83673 non-null  float64\n",
      " 47  x13_NONE                             83673 non-null  float64\n",
      " 48  x13_OTHER                            83673 non-null  float64\n",
      " 49  x13_REAR                             83673 non-null  float64\n",
      " 50  x13_SIDES                            83673 non-null  float64\n",
      " 51  x14_DRIVER                           83673 non-null  float64\n",
      " 52  x14_OTHER                            83673 non-null  float64\n",
      " 53  x14_PASSENGER                        83673 non-null  float64\n",
      " 54  x15_F                                83673 non-null  float64\n",
      " 55  x15_M                                83673 non-null  float64\n",
      " 56  x16_NONE                             83673 non-null  float64\n",
      " 57  x16_NOT USED                         83673 non-null  float64\n",
      " 58  x16_UNKNOWN                          83673 non-null  float64\n",
      " 59  x16_USED                             83673 non-null  float64\n",
      " 60  x17_DEPLOYED                         83673 non-null  float64\n",
      " 61  x17_DID NOT DEPLOY                   83673 non-null  float64\n",
      " 62  x17_NOT APPLICABLE                   83673 non-null  float64\n",
      " 63  x17_UNKNOWN                          83673 non-null  float64\n",
      " 64  x18_ACTIONS TAKEN                    83673 non-null  float64\n",
      " 65  x18_NO ACTION TAKEN                  83673 non-null  float64\n",
      " 66  x19_NOT OBSCURED                     83673 non-null  float64\n",
      " 67  x19_OBSCURED                         83673 non-null  float64\n",
      " 68  x19_UNKNOWN                          83673 non-null  float64\n",
      " 69  x20_NORMAL                           83673 non-null  float64\n",
      " 70  x20_NOT NORMAL                       83673 non-null  float64\n",
      " 71  x20_UNKNOWN                          83673 non-null  float64\n",
      " 72  x21_TEST NOT OFFERED                 83673 non-null  float64\n",
      " 73  x21_TEST PERFORMED                   83673 non-null  float64\n",
      " 74  x21_TEST REFUSED                     83673 non-null  float64\n",
      " 75  x22_FATAL                            83673 non-null  float64\n",
      " 76  x22_MAJOR INJURIES                   83673 non-null  float64\n",
      " 77  x22_MINOR INJURIES                   83673 non-null  float64\n",
      "dtypes: float64(72), int64(6)\n",
      "memory usage: 50.4 MB\n"
     ]
    },
    {
     "data": {
      "text/plain": [
       "POSTED_SPEED_LIMIT    0\n",
       "NUM_UNITS             0\n",
       "INJURIES_TOTAL        0\n",
       "CRASH_HOUR            0\n",
       "CRASH_DAY_OF_WEEK     0\n",
       "                     ..\n",
       "x21_TEST PERFORMED    0\n",
       "x21_TEST REFUSED      0\n",
       "x22_FATAL             0\n",
       "x22_MAJOR INJURIES    0\n",
       "x22_MINOR INJURIES    0\n",
       "Length: 78, dtype: int64"
      ]
     },
     "execution_count": 421,
     "metadata": {},
     "output_type": "execute_result"
    }
   ],
   "source": [
    "#inspect X_test\n",
    "X_test.info()\n",
    "X_test.isna().sum()"
   ]
  },
  {
   "cell_type": "markdown",
   "metadata": {},
   "source": [
    "## Modeling: "
   ]
  },
  {
   "cell_type": "code",
   "execution_count": 422,
   "metadata": {},
   "outputs": [],
   "source": [
    "from sklearn import neighbors, datasets, preprocessing\n",
    "from sklearn.model_selection import train_test_split\n",
    "from sklearn.metrics import accuracy_score\n",
    "from sklearn.tree import DecisionTreeClassifier, plot_tree"
   ]
  },
  {
   "cell_type": "code",
   "execution_count": 423,
   "metadata": {},
   "outputs": [
    {
     "data": {
      "text/plain": [
       "DecisionTreeClassifier(max_depth=15, random_state=100)"
      ]
     },
     "execution_count": 423,
     "metadata": {},
     "output_type": "execute_result"
    }
   ],
   "source": [
    "tree_clf = DecisionTreeClassifier(max_depth=15, random_state=100)\n",
    "\n",
    "tree_clf.fit(X_train, y_train)"
   ]
  },
  {
   "cell_type": "code",
   "execution_count": 424,
   "metadata": {},
   "outputs": [],
   "source": [
    "y_pred = tree_clf.predict(X_test)\n",
    "y_proba = tree_clf.predict_proba(X_test)"
   ]
  },
  {
   "cell_type": "code",
   "execution_count": 425,
   "metadata": {},
   "outputs": [
    {
     "name": "stdout",
     "output_type": "stream",
     "text": [
      "Accuracy: 79.2609324393771\n"
     ]
    }
   ],
   "source": [
    "acc = accuracy_score(y_test, y_pred) * 100\n",
    "print(\"Accuracy: {0}\".format(acc))"
   ]
  },
  {
   "cell_type": "code",
   "execution_count": 426,
   "metadata": {},
   "outputs": [
    {
     "data": {
      "text/plain": [
       "array([0.78718827, 0.79069397, 0.78802486, 0.78925142, 0.78717979])"
      ]
     },
     "execution_count": 426,
     "metadata": {},
     "output_type": "execute_result"
    }
   ],
   "source": [
    "from sklearn.model_selection import cross_val_score\n",
    "\n",
    "##Assign the cross validated score to df_cv\n",
    "df_cv = cross_val_score(tree_clf, X_train, y_train)\n",
    "df_cv "
   ]
  },
  {
   "cell_type": "code",
   "execution_count": 427,
   "metadata": {},
   "outputs": [
    {
     "name": "stdout",
     "output_type": "stream",
     "text": [
      "<class 'pandas.core.frame.DataFrame'>\n",
      "Int64Index: 209181 entries, 0 to 3593986\n",
      "Data columns (total 32 columns):\n",
      " #   Column                   Non-Null Count   Dtype  \n",
      "---  ------                   --------------   -----  \n",
      " 0   POSTED_SPEED_LIMIT       209181 non-null  int64  \n",
      " 1   TRAFFIC_CONTROL_DEVICE   209181 non-null  object \n",
      " 2   DEVICE_CONDITION         209181 non-null  object \n",
      " 3   WEATHER_CONDITION        209181 non-null  object \n",
      " 4   LIGHTING_CONDITION       209181 non-null  object \n",
      " 5   FIRST_CRASH_TYPE         209181 non-null  object \n",
      " 6   TRAFFICWAY_TYPE          209181 non-null  object \n",
      " 7   ALIGNMENT                209181 non-null  object \n",
      " 8   ROADWAY_SURFACE_COND     209181 non-null  object \n",
      " 9   ROAD_DEFECT              209181 non-null  object \n",
      " 10  CRASH_TYPE               209181 non-null  object \n",
      " 11  DAMAGE                   209181 non-null  object \n",
      " 12  PRIM_CONTRIBUTORY_CAUSE  209181 non-null  object \n",
      " 13  NUM_UNITS                209181 non-null  int64  \n",
      " 14  INJURIES_TOTAL           209181 non-null  float64\n",
      " 15  CRASH_HOUR               209181 non-null  int64  \n",
      " 16  CRASH_DAY_OF_WEEK        209181 non-null  int64  \n",
      " 17  CRASH_MONTH              209181 non-null  int64  \n",
      " 18  VEHICLE_TYPE             209181 non-null  object \n",
      " 19  MANEUVER                 209181 non-null  object \n",
      " 20  FIRST_CONTACT_POINT      209181 non-null  object \n",
      " 21  PERSON_TYPE              209181 non-null  object \n",
      " 22  SEX                      209181 non-null  object \n",
      " 23  AGE                      183189 non-null  float64\n",
      " 24  SAFETY_EQUIPMENT         209181 non-null  object \n",
      " 25  AIRBAG_DEPLOYED          209181 non-null  object \n",
      " 26  DRIVER_ACTION            209181 non-null  object \n",
      " 27  DRIVER_VISION            209181 non-null  object \n",
      " 28  PHYSICAL_CONDITION       209181 non-null  object \n",
      " 29  BAC_RESULT               144538 non-null  object \n",
      " 30  YEAR                     209181 non-null  int64  \n",
      " 31  SEVERE_INJURY            209181 non-null  object \n",
      "dtypes: float64(2), int64(6), object(24)\n",
      "memory usage: 52.7+ MB\n"
     ]
    }
   ],
   "source": [
    "master_df.info()"
   ]
  },
  {
   "cell_type": "markdown",
   "metadata": {},
   "source": [
    "# GRAPHS"
   ]
  },
  {
   "cell_type": "code",
   "execution_count": 428,
   "metadata": {
    "scrolled": false
   },
   "outputs": [
    {
     "data": {
      "image/png": "[encoded data removed]",
      "text/plain": [
       "<Figure size 1440x1080 with 1 Axes>"
      ]
     },
     "metadata": {},
     "output_type": "display_data"
    }
   ],
   "source": [
    "##SEX\n",
    "\n",
    "sns.set_context(\"poster\")\n",
    "sns.set_style(\"darkgrid\")\n",
    "plt.figure(figsize =(20,15))\n",
    "plt.xticks(\n",
    "    rotation=45, \n",
    "    horizontalalignment='right',\n",
    "    fontsize='small'  \n",
    ")\n",
    "\n",
    "ax = sns.countplot(x=\"SEX\", data=master_df)\n",
    "plt.xlabel('Sex')\n",
    "plt.ylabel('Number of Crashes')\n",
    "plt.title('Sex vs Number of Crashes')\n",
    "plt.show()"
   ]
  },
  {
   "cell_type": "code",
   "execution_count": 429,
   "metadata": {},
   "outputs": [
    {
     "data": {
      "image/png": "[encoded data removed]",
      "text/plain": [
       "<Figure size 1440x1080 with 1 Axes>"
      ]
     },
     "metadata": {},
     "output_type": "display_data"
    }
   ],
   "source": [
    "##Year\n",
    "\n",
    "sns.set_context(\"poster\")\n",
    "sns.set_style(\"darkgrid\")\n",
    "plt.figure(figsize =(20,15))\n",
    "plt.xticks(\n",
    "    rotation=45, \n",
    "    horizontalalignment='right',\n",
    "    fontsize='small'  \n",
    ")\n",
    "\n",
    "ax = sns.countplot(x=\"YEAR\", data=master_df)\n",
    "plt.xlabel('Year')\n",
    "plt.ylabel('Number of Crashes')\n",
    "plt.title('Year vs Number of Crashes')\n",
    "plt.show()"
   ]
  },
  {
   "cell_type": "code",
   "execution_count": 430,
   "metadata": {},
   "outputs": [
    {
     "data": {
      "image/png": "[encoded data removed]",
      "text/plain": [
       "<Figure size 1440x1080 with 1 Axes>"
      ]
     },
     "metadata": {},
     "output_type": "display_data"
    }
   ],
   "source": [
    "##Hour\n",
    "\n",
    "sns.set_context(\"poster\")\n",
    "sns.set_style(\"darkgrid\")\n",
    "plt.figure(figsize =(20,15))\n",
    "plt.xticks(\n",
    "    rotation=45, \n",
    "    horizontalalignment='right',\n",
    "    fontsize='small'  \n",
    ")\n",
    "\n",
    "custom_labels=[\"12:00\",\"1:00\",\"12:00\",\"1:00\",\"12:00\",\"1:00\",\"12:00\",\"1:00\",\"12:00\",\"1:00\",\"12:00\",\"1:00\",\"12:00\",\"1:00\",\"12:00\",\"1:00\",\"12:00\",\"1:00\",\"12:00\",\"1:00\",\"12:00\",\"1:00\",\"12:00\",\"1:00\"]\n",
    "ax = sns.countplot(x=\"CRASH_HOUR\", data=master_df)\n",
    "ax.set_xticklabels(custom_labels)\n",
    "\n",
    "plt.xlabel('CRASH_HOUR')\n",
    "plt.ylabel('Number of Crashes')\n",
    "plt.title('Crash Hour vs Number of Crashes')\n",
    "\n",
    "plt.show()"
   ]
  },
  {
   "cell_type": "code",
   "execution_count": 431,
   "metadata": {},
   "outputs": [
    {
     "data": {
      "image/png": "[encoded data removed]",
      "text/plain": [
       "<Figure size 1440x1080 with 1 Axes>"
      ]
     },
     "metadata": {},
     "output_type": "display_data"
    }
   ],
   "source": [
    "sns.set_context(\"poster\")\n",
    "sns.set_style(\"darkgrid\")\n",
    "\n",
    "plt.figure(figsize =(20,15))\n",
    "plt.xticks(\n",
    "    rotation=45, \n",
    "    horizontalalignment='right',\n",
    "    fontsize='medium',\n",
    "    fontweight='bold'\n",
    ")\n",
    "plt.yticks(fontweight='bold')\n",
    "custom_labels=[\"12:00 AM\",\"1:00 AM\",\"2:00 AM\",\"3:00 AM\",\"4:00 AM\",\"5:00 AM\",\"6:00 AM\",\"7:00 AM\",\"8:00 AM\",\"9:00 AM\",\"10:00 AM\",\"11:00 AM\",\n",
    "                \"12:00 PM\",\"1:00 PM\",\"2:00 PM\",\"3:00 PM\",\"4:00 PM\",\"5:00 PM\",\"6:00 PM\",\"7:00 PM\",\"8:00 PM\",\"9:00 PM\",\"10:00 PM\",\"11:00 PM\"]\n",
    "ax = sns.countplot(x=\"CRASH_HOUR\", data=master_df, color=\"teal\", edgecolor=\"black\")\n",
    "ax.set_xticklabels(custom_labels)\n",
    "\n",
    "plt.xlabel('Time of Day',fontsize='medium', fontweight='bold')\n",
    "plt.ylabel('Number of Crashes',fontsize='medium', fontweight='bold', labelpad=25)\n",
    "plt.show()"
   ]
  },
  {
   "cell_type": "code",
   "execution_count": 432,
   "metadata": {},
   "outputs": [
    {
     "data": {
      "text/plain": [
       "ANGLE               54427\n",
       "REAR END            53007\n",
       "TURNING             47276\n",
       "SIDE SWIPE          17682\n",
       "OBJECT              14370\n",
       "PERSON OR ANIMAL    13957\n",
       "OTHER                8462\n",
       "Name: FIRST_CRASH_TYPE, dtype: int64"
      ]
     },
     "execution_count": 432,
     "metadata": {},
     "output_type": "execute_result"
    }
   ],
   "source": [
    "master_df['FIRST_CRASH_TYPE'].value_counts()"
   ]
  },
  {
   "cell_type": "code",
   "execution_count": 433,
   "metadata": {},
   "outputs": [
    {
     "data": {
      "image/png": "[encoded data removed]",
      "text/plain": [
       "<Figure size 1440x1080 with 1 Axes>"
      ]
     },
     "metadata": {},
     "output_type": "display_data"
    }
   ],
   "source": [
    "##CRASH TYPE\n",
    "\n",
    "sns.set_context(\"poster\")\n",
    "sns.set_style(\"darkgrid\")\n",
    "plt.figure(figsize =(20,15))\n",
    "plt.xticks(\n",
    "    rotation=45, \n",
    "    horizontalalignment='right',\n",
    "    fontsize='small'  \n",
    ")\n",
    "\n",
    "ax = sns.countplot(x=\"FIRST_CRASH_TYPE\", data=master_df, order=master_df['FIRST_CRASH_TYPE'].value_counts().index)\n",
    "plt.xlabel('Crash Type')\n",
    "plt.ylabel('Number of Crashes')\n",
    "plt.title('Most Crash Types')\n",
    "plt.show()"
   ]
  },
  {
   "cell_type": "code",
   "execution_count": null,
   "metadata": {},
   "outputs": [],
   "source": []
  },
  {
   "cell_type": "code",
   "execution_count": null,
   "metadata": {},
   "outputs": [],
   "source": []
  },
  {
   "cell_type": "code",
   "execution_count": 434,
   "metadata": {},
   "outputs": [
    {
     "data": {
      "text/plain": [
       "17    16211\n",
       "16    15776\n",
       "15    15529\n",
       "18    13601\n",
       "14    13247\n",
       "13    11796\n",
       "12    11054\n",
       "19    10831\n",
       "11     9491\n",
       "8      9075\n",
       "20     8956\n",
       "21     8815\n",
       "10     8062\n",
       "22     7764\n",
       "9      7627\n",
       "23     7275\n",
       "7      6970\n",
       "0      6467\n",
       "1      5109\n",
       "2      4335\n",
       "6      3649\n",
       "3      2722\n",
       "5      2417\n",
       "4      2402\n",
       "Name: CRASH_HOUR, dtype: int64"
      ]
     },
     "execution_count": 434,
     "metadata": {},
     "output_type": "execute_result"
    }
   ],
   "source": [
    "master_df['CRASH_HOUR'].value_counts()\n"
   ]
  },
  {
   "cell_type": "code",
   "execution_count": null,
   "metadata": {},
   "outputs": [],
   "source": []
  }
 ],
 "metadata": {
  "kernelspec": {
   "display_name": "Python 3",
   "language": "python",
   "name": "python3"
  },
  "language_info": {
   "codemirror_mode": {
    "name": "ipython",
    "version": 3
   },
   "file_extension": ".py",
   "mimetype": "text/x-python",
   "name": "python",
   "nbconvert_exporter": "python",
   "pygments_lexer": "ipython3",
   "version": "3.8.5"
  }
 },
 "nbformat": 4,
 "nbformat_minor": 4
}
