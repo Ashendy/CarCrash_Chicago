{
 "cells": [
  {
   "cell_type": "markdown",
   "metadata": {},
   "source": [
    "# **Chicago Car Crashes**"
   ]
  },
  {
   "cell_type": "markdown",
   "metadata": {},
   "source": [
    "# Overview"
   ]
  },
  {
   "cell_type": "markdown",
   "metadata": {},
   "source": [
    "# Business Problem\n",
    "\n",
    "Build a classifier to predict the primary contributory cause of a car accident, given information about the car, the people in the car, the road conditions etc. You might imagine your audience as a Vehicle Safety Board who's interested in reducing traffic accidents, or as the City of Chicago who's interested in becoming aware of any interesting patterns.\n",
    "\n",
    "This is a multi-class classification problem. You will almost certainly want to bin, trim or otherwise limit the number of target categories on which you ultimately predict. Note that some primary contributory causes have very few samples, for example."
   ]
  },
  {
   "cell_type": "markdown",
   "metadata": {},
   "source": [
    "# Data Understanding\n"
   ]
  },
  {
   "cell_type": "code",
   "execution_count": 16,
   "metadata": {},
   "outputs": [],
   "source": [
    "# Importing packages\n",
    "import numpy as np\n",
    "import pandas as pd \n",
    "\n",
    "import matplotlib.pyplot as plt\n",
    "import seaborn as sns\n",
    "%matplotlib inline\n",
    "\n",
    "from sklearn.model_selection import train_test_split, cross_val_score\n",
    "from sklearn.impute import MissingIndicator, SimpleImputer\n",
    "from sklearn.preprocessing import StandardScaler, OneHotEncoder\n",
    "from sklearn.dummy import DummyClassifier\n",
    "\n",
    "from sklearn.linear_model import LogisticRegression\n",
    "from sklearn.tree import DecisionTreeRegressor, DecisionTreeClassifier\n",
    "\n",
    "from sklearn.metrics import accuracy_score, recall_score, precision_score, f1_score\n",
    "from sklearn.metrics import roc_curve, roc_auc_score, RocCurveDisplay\n",
    "from sklearn.metrics import confusion_matrix, ConfusionMatrixDisplay\n",
    "# RocCurveDisplay.from_estimator(logreg, X_test_scaled, y_test)\n",
    "\n",
    "import warnings\n",
    "warnings.filterwarnings('ignore')"
   ]
  },
  {
   "cell_type": "code",
   "execution_count": 17,
   "metadata": {},
   "outputs": [],
   "source": [
    "# Read in Crashes Data\n",
    "df_crashes = pd.read_csv(\"data/Traffic_Crashes_-_Crashes.csv\", parse_dates=['CRASH_DATE'])"
   ]
  },
  {
   "cell_type": "code",
   "execution_count": 18,
   "metadata": {},
   "outputs": [],
   "source": [
    "# Read in Vehicles Data\n",
    "df_vehicles = pd.read_csv(\"data/Traffic_Crashes_-_Vehicles.csv\", parse_dates=['CRASH_DATE'], low_memory=False)"
   ]
  },
  {
   "cell_type": "code",
   "execution_count": 19,
   "metadata": {},
   "outputs": [],
   "source": [
    "# Read in People Data\n",
    "df_people = pd.read_csv(\"data/Traffic_Crashes_-_People.csv\", parse_dates=['CRASH_DATE'], low_memory=False)"
   ]
  },
  {
   "cell_type": "markdown",
   "metadata": {},
   "source": [
    "# EDA"
   ]
  },
  {
   "cell_type": "code",
   "execution_count": null,
   "metadata": {},
   "outputs": [
    {
     "name": "stdout",
     "output_type": "stream",
     "text": [
      "<class 'pandas.core.frame.DataFrame'>\n",
      "RangeIndex: 778847 entries, 0 to 778846\n",
      "Data columns (total 49 columns):\n",
      " #   Column                         Non-Null Count   Dtype         \n",
      "---  ------                         --------------   -----         \n",
      " 0   CRASH_RECORD_ID                778847 non-null  object        \n",
      " 1   RD_NO                          774292 non-null  object        \n",
      " 2   CRASH_DATE_EST_I               58506 non-null   object        \n",
      " 3   CRASH_DATE                     778847 non-null  datetime64[ns]\n",
      " 4   POSTED_SPEED_LIMIT             778847 non-null  int64         \n",
      " 5   TRAFFIC_CONTROL_DEVICE         778847 non-null  object        \n",
      " 6   DEVICE_CONDITION               778847 non-null  object        \n",
      " 7   WEATHER_CONDITION              778847 non-null  object        \n",
      " 8   LIGHTING_CONDITION             778847 non-null  object        \n",
      " 9   FIRST_CRASH_TYPE               778847 non-null  object        \n",
      " 10  TRAFFICWAY_TYPE                778847 non-null  object        \n",
      " 11  LANE_CNT                       199006 non-null  float64       \n",
      " 12  ALIGNMENT                      778847 non-null  object        \n",
      " 13  ROADWAY_SURFACE_COND           778847 non-null  object        \n",
      " 14  ROAD_DEFECT                    778847 non-null  object        \n",
      " 15  REPORT_TYPE                    756258 non-null  object        \n",
      " 16  CRASH_TYPE                     778847 non-null  object        \n",
      " 17  INTERSECTION_RELATED_I         178438 non-null  object        \n",
      " 18  NOT_RIGHT_OF_WAY_I             36054 non-null   object        \n",
      " 19  HIT_AND_RUN_I                  243250 non-null  object        \n",
      " 20  DAMAGE                         778847 non-null  object        \n",
      " 21  DATE_POLICE_NOTIFIED           778847 non-null  object        \n",
      " 22  PRIM_CONTRIBUTORY_CAUSE        778847 non-null  object        \n",
      " 23  SEC_CONTRIBUTORY_CAUSE         778847 non-null  object        \n",
      " 24  STREET_NO                      778847 non-null  int64         \n",
      " 25  STREET_DIRECTION               778843 non-null  object        \n",
      " 26  STREET_NAME                    778846 non-null  object        \n",
      " 27  BEAT_OF_OCCURRENCE             778842 non-null  float64       \n",
      " 28  PHOTOS_TAKEN_I                 10105 non-null   object        \n",
      " 29  STATEMENTS_TAKEN_I             17083 non-null   object        \n",
      " 30  DOORING_I                      2417 non-null    object        \n",
      " 31  WORK_ZONE_I                    4529 non-null    object        \n",
      " 32  WORK_ZONE_TYPE                 3524 non-null    object        \n",
      " 33  WORKERS_PRESENT_I              1157 non-null    object        \n",
      " 34  NUM_UNITS                      778847 non-null  int64         \n",
      " 35  MOST_SEVERE_INJURY             777133 non-null  object        \n",
      " 36  INJURIES_TOTAL                 777144 non-null  float64       \n",
      " 37  INJURIES_FATAL                 777144 non-null  float64       \n",
      " 38  INJURIES_INCAPACITATING        777144 non-null  float64       \n",
      " 39  INJURIES_NON_INCAPACITATING    777144 non-null  float64       \n",
      " 40  INJURIES_REPORTED_NOT_EVIDENT  777144 non-null  float64       \n",
      " 41  INJURIES_NO_INDICATION         777144 non-null  float64       \n",
      " 42  INJURIES_UNKNOWN               777144 non-null  float64       \n",
      " 43  CRASH_HOUR                     778847 non-null  int64         \n",
      " 44  CRASH_DAY_OF_WEEK              778847 non-null  int64         \n",
      " 45  CRASH_MONTH                    778847 non-null  int64         \n",
      " 46  LATITUDE                       773629 non-null  float64       \n",
      " 47  LONGITUDE                      773629 non-null  float64       \n",
      " 48  LOCATION                       773629 non-null  object        \n",
      "dtypes: datetime64[ns](1), float64(11), int64(6), object(31)\n",
      "memory usage: 291.2+ MB\n"
     ]
    }
   ],
   "source": [
    "df_crashes.info()"
   ]
  },
  {
   "cell_type": "code",
   "execution_count": null,
   "metadata": {},
   "outputs": [
    {
     "name": "stdout",
     "output_type": "stream",
     "text": [
      "<class 'pandas.core.frame.DataFrame'>\n",
      "RangeIndex: 1710078 entries, 0 to 1710077\n",
      "Data columns (total 30 columns):\n",
      " #   Column                 Dtype         \n",
      "---  ------                 -----         \n",
      " 0   PERSON_ID              object        \n",
      " 1   PERSON_TYPE            object        \n",
      " 2   CRASH_RECORD_ID        object        \n",
      " 3   RD_NO                  object        \n",
      " 4   VEHICLE_ID             float64       \n",
      " 5   CRASH_DATE             datetime64[ns]\n",
      " 6   SEAT_NO                float64       \n",
      " 7   CITY                   object        \n",
      " 8   STATE                  object        \n",
      " 9   ZIPCODE                object        \n",
      " 10  SEX                    object        \n",
      " 11  AGE                    float64       \n",
      " 12  DRIVERS_LICENSE_STATE  object        \n",
      " 13  DRIVERS_LICENSE_CLASS  object        \n",
      " 14  SAFETY_EQUIPMENT       object        \n",
      " 15  AIRBAG_DEPLOYED        object        \n",
      " 16  EJECTION               object        \n",
      " 17  INJURY_CLASSIFICATION  object        \n",
      " 18  HOSPITAL               object        \n",
      " 19  EMS_AGENCY             object        \n",
      " 20  EMS_RUN_NO             object        \n",
      " 21  DRIVER_ACTION          object        \n",
      " 22  DRIVER_VISION          object        \n",
      " 23  PHYSICAL_CONDITION     object        \n",
      " 24  PEDPEDAL_ACTION        object        \n",
      " 25  PEDPEDAL_VISIBILITY    object        \n",
      " 26  PEDPEDAL_LOCATION      object        \n",
      " 27  BAC_RESULT             object        \n",
      " 28  BAC_RESULT VALUE       float64       \n",
      " 29  CELL_PHONE_USE         object        \n",
      "dtypes: datetime64[ns](1), float64(4), object(25)\n",
      "memory usage: 391.4+ MB\n"
     ]
    }
   ],
   "source": [
    "df_people.info()"
   ]
  },
  {
   "cell_type": "code",
   "execution_count": null,
   "metadata": {},
   "outputs": [
    {
     "name": "stdout",
     "output_type": "stream",
     "text": [
      "<class 'pandas.core.frame.DataFrame'>\n",
      "RangeIndex: 1588937 entries, 0 to 1588936\n",
      "Data columns (total 72 columns):\n",
      " #   Column                    Non-Null Count    Dtype         \n",
      "---  ------                    --------------    -----         \n",
      " 0   CRASH_UNIT_ID             1588937 non-null  int64         \n",
      " 1   CRASH_RECORD_ID           1588937 non-null  object        \n",
      " 2   RD_NO                     1579642 non-null  object        \n",
      " 3   CRASH_DATE                1588937 non-null  datetime64[ns]\n",
      " 4   UNIT_NO                   1588937 non-null  int64         \n",
      " 5   UNIT_TYPE                 1586855 non-null  object        \n",
      " 6   NUM_PASSENGERS            235108 non-null   float64       \n",
      " 7   VEHICLE_ID                1552556 non-null  float64       \n",
      " 8   CMRC_VEH_I                29662 non-null    object        \n",
      " 9   MAKE                      1552551 non-null  object        \n",
      " 10  MODEL                     1552406 non-null  object        \n",
      " 11  LIC_PLATE_STATE           1410532 non-null  object        \n",
      " 12  VEHICLE_YEAR              1301948 non-null  float64       \n",
      " 13  VEHICLE_DEFECT            1552556 non-null  object        \n",
      " 14  VEHICLE_TYPE              1552556 non-null  object        \n",
      " 15  VEHICLE_USE               1552556 non-null  object        \n",
      " 16  TRAVEL_DIRECTION          1552556 non-null  object        \n",
      " 17  MANEUVER                  1552556 non-null  object        \n",
      " 18  TOWED_I                   195969 non-null   object        \n",
      " 19  FIRE_I                    1300 non-null     object        \n",
      " 20  OCCUPANT_CNT              1552556 non-null  float64       \n",
      " 21  EXCEED_SPEED_LIMIT_I      2397 non-null     object        \n",
      " 22  TOWED_BY                  146962 non-null   object        \n",
      " 23  TOWED_TO                  90301 non-null    object        \n",
      " 24  AREA_00_I                 55009 non-null    object        \n",
      " 25  AREA_01_I                 423100 non-null   object        \n",
      " 26  AREA_02_I                 252938 non-null   object        \n",
      " 27  AREA_03_I                 151867 non-null   object        \n",
      " 28  AREA_04_I                 151961 non-null   object        \n",
      " 29  AREA_05_I                 235841 non-null   object        \n",
      " 30  AREA_06_I                 247812 non-null   object        \n",
      " 31  AREA_07_I                 227904 non-null   object        \n",
      " 32  AREA_08_I                 229021 non-null   object        \n",
      " 33  AREA_09_I                 103655 non-null   object        \n",
      " 34  AREA_10_I                 150449 non-null   object        \n",
      " 35  AREA_11_I                 292073 non-null   object        \n",
      " 36  AREA_12_I                 286318 non-null   object        \n",
      " 37  AREA_99_I                 178299 non-null   object        \n",
      " 38  FIRST_CONTACT_POINT       1549448 non-null  object        \n",
      " 39  CMV_ID                    16335 non-null    float64       \n",
      " 40  USDOT_NO                  9230 non-null     object        \n",
      " 41  CCMC_NO                   1975 non-null     object        \n",
      " 42  ILCC_NO                   1370 non-null     object        \n",
      " 43  COMMERCIAL_SRC            10905 non-null    object        \n",
      " 44  GVWR                      9164 non-null     object        \n",
      " 45  CARRIER_NAME              15609 non-null    object        \n",
      " 46  CARRIER_STATE             14660 non-null    object        \n",
      " 47  CARRIER_CITY              14383 non-null    object        \n",
      " 48  HAZMAT_PLACARDS_I         317 non-null      object        \n",
      " 49  HAZMAT_NAME               59 non-null       object        \n",
      " 50  UN_NO                     555 non-null      object        \n",
      " 51  HAZMAT_PRESENT_I          11927 non-null    object        \n",
      " 52  HAZMAT_REPORT_I           11592 non-null    object        \n",
      " 53  HAZMAT_REPORT_NO          1 non-null        object        \n",
      " 54  MCS_REPORT_I              11640 non-null    object        \n",
      " 55  MCS_REPORT_NO             7 non-null        object        \n",
      " 56  HAZMAT_VIO_CAUSE_CRASH_I  11752 non-null    object        \n",
      " 57  MCS_VIO_CAUSE_CRASH_I     11552 non-null    object        \n",
      " 58  IDOT_PERMIT_NO            896 non-null      object        \n",
      " 59  WIDE_LOAD_I               142 non-null      object        \n",
      " 60  TRAILER1_WIDTH            2847 non-null     object        \n",
      " 61  TRAILER2_WIDTH            338 non-null      object        \n",
      " 62  TRAILER1_LENGTH           2308 non-null     float64       \n",
      " 63  TRAILER2_LENGTH           66 non-null       float64       \n",
      " 64  TOTAL_VEHICLE_LENGTH      2806 non-null     float64       \n",
      " 65  AXLE_CNT                  4183 non-null     float64       \n",
      " 66  VEHICLE_CONFIG            13552 non-null    object        \n",
      " 67  CARGO_BODY_TYPE           12947 non-null    object        \n",
      " 68  LOAD_TYPE                 12383 non-null    object        \n",
      " 69  HAZMAT_OUT_OF_SERVICE_I   11250 non-null    object        \n",
      " 70  MCS_OUT_OF_SERVICE_I      11502 non-null    object        \n",
      " 71  HAZMAT_CLASS              1067 non-null     object        \n",
      "dtypes: datetime64[ns](1), float64(9), int64(2), object(60)\n",
      "memory usage: 872.8+ MB\n"
     ]
    }
   ],
   "source": [
    "df_vehicles.info()"
   ]
  },
  {
   "cell_type": "code",
   "execution_count": null,
   "metadata": {},
   "outputs": [
    {
     "data": {
      "text/plain": [
       "CRASH_DATE\n",
       "2020-12-29 17:00:00    60\n",
       "2017-11-10 10:30:00    58\n",
       "2022-02-17 15:30:00    42\n",
       "2017-11-10 10:00:00    42\n",
       "2019-01-12 14:30:00    41\n",
       "                       ..\n",
       "2019-11-19 14:23:00     1\n",
       "2021-12-27 10:40:00     1\n",
       "2021-12-27 10:03:00     1\n",
       "2019-11-19 15:39:00     1\n",
       "2021-07-30 01:30:00     1\n",
       "Name: count, Length: 510079, dtype: int64"
      ]
     },
     "execution_count": 9,
     "metadata": {},
     "output_type": "execute_result"
    }
   ],
   "source": [
    "df_vehicles[\"CRASH_DATE\"].value_counts()"
   ]
  },
  {
   "cell_type": "code",
   "execution_count": null,
   "metadata": {},
   "outputs": [],
   "source": [
    "## Change column names to lowercase for readability\n",
    "# df_vehicles.columns = df_vehicles.columns.str.lower()"
   ]
  },
  {
   "cell_type": "code",
   "execution_count": null,
   "metadata": {},
   "outputs": [
    {
     "data": {
      "text/plain": [
       "CRASH_DATE\n",
       "2020-12-29 17:00:00    30\n",
       "2017-11-10 10:30:00    27\n",
       "2022-02-17 15:30:00    21\n",
       "2019-01-12 14:30:00    20\n",
       "2017-11-10 10:00:00    20\n",
       "                       ..\n",
       "2020-08-11 13:28:00     1\n",
       "2018-03-12 13:08:00     1\n",
       "2018-11-20 18:41:00     1\n",
       "2018-06-08 02:31:00     1\n",
       "2020-10-18 00:03:00     1\n",
       "Name: count, Length: 510053, dtype: int64"
      ]
     },
     "execution_count": 11,
     "metadata": {},
     "output_type": "execute_result"
    }
   ],
   "source": [
    "# Exploring date column - Dec 29th stands out\n",
    "df_crashes[\"CRASH_DATE\"].value_counts()"
   ]
  },
  {
   "cell_type": "code",
   "execution_count": null,
   "metadata": {},
   "outputs": [
    {
     "data": {
      "text/plain": [
       "10"
      ]
     },
     "execution_count": 19,
     "metadata": {},
     "output_type": "execute_result"
    }
   ],
   "source": [
    "# Convert \"CRASH_DATE\" to datetime data type\n",
    "df_crashes[\"CRASH_DATE\"] = pd.to_datetime(df_crashes[\"CRASH_DATE\"])\n",
    "\n",
    "# Extract the month from \"CRASH_DATE\"\n",
    "df_crashes[\"Month\"] = df_crashes[\"CRASH_DATE\"].dt.month\n",
    "\n",
    "# Count occurrences of each month\n",
    "month_counts = df_crashes[\"Month\"].value_counts()\n",
    "\n",
    "# Identify the month with the highest count\n",
    "most_common_month = month_counts.idxmax()\n",
    "most_common_month"
   ]
  },
  {
   "cell_type": "code",
   "execution_count": null,
   "metadata": {},
   "outputs": [
    {
     "data": {
      "text/plain": [
       "CRASH_DAY_OF_WEEK\n",
       "6    126522\n",
       "7    115291\n",
       "5    111692\n",
       "3    111060\n",
       "4    110361\n",
       "2    107243\n",
       "1     96678\n",
       "Name: count, dtype: int64"
      ]
     },
     "execution_count": 12,
     "metadata": {},
     "output_type": "execute_result"
    }
   ],
   "source": [
    "# The day of the week component of CRASH_DATE. Sunday=1\n",
    "df_crashes[\"CRASH_DAY_OF_WEEK\"].value_counts()"
   ]
  },
  {
   "cell_type": "code",
   "execution_count": null,
   "metadata": {},
   "outputs": [
    {
     "data": {
      "text/plain": [
       "INJURIES_TOTAL\n",
       "0.0     670544\n",
       "1.0      80305\n",
       "2.0      17802\n",
       "3.0       5393\n",
       "4.0       1929\n",
       "5.0        683\n",
       "6.0        274\n",
       "7.0        104\n",
       "8.0         43\n",
       "9.0         24\n",
       "10.0        14\n",
       "11.0         8\n",
       "15.0         7\n",
       "21.0         4\n",
       "12.0         4\n",
       "13.0         2\n",
       "17.0         1\n",
       "14.0         1\n",
       "19.0         1\n",
       "16.0         1\n",
       "Name: count, dtype: int64"
      ]
     },
     "execution_count": 21,
     "metadata": {},
     "output_type": "execute_result"
    }
   ],
   "source": [
    "# Total persons sustaining fatal, incapacitating, non-incapacitating, and possible injuries as determined by the reporting officer\n",
    "injuries_counts = df_crashes[\"INJURIES_TOTAL\"].value_counts()\n",
    "injuries_counts"
   ]
  },
  {
   "cell_type": "code",
   "execution_count": null,
   "metadata": {},
   "outputs": [
    {
     "data": {
      "text/plain": [
       "INJURIES_FATAL\n",
       "0.0    776287\n",
       "1.0       796\n",
       "2.0        52\n",
       "3.0         8\n",
       "4.0         1\n",
       "Name: count, dtype: int64"
      ]
     },
     "execution_count": 22,
     "metadata": {},
     "output_type": "execute_result"
    }
   ],
   "source": [
    "# Fatal injuries\n",
    "injuries_fatal = df_crashes[\"INJURIES_FATAL\"].value_counts()\n",
    "injuries_fatal"
   ]
  },
  {
   "cell_type": "code",
   "execution_count": null,
   "metadata": {},
   "outputs": [
    {
     "data": {
      "text/plain": [
       "CRASH_TYPE\n",
       "NO INJURY / DRIVE AWAY              571926\n",
       "INJURY AND / OR TOW DUE TO CRASH    206921\n",
       "Name: count, dtype: int64"
      ]
     },
     "execution_count": 13,
     "metadata": {},
     "output_type": "execute_result"
    }
   ],
   "source": [
    "df_crashes[\"CRASH_TYPE\"].value_counts()"
   ]
  },
  {
   "cell_type": "code",
   "execution_count": null,
   "metadata": {},
   "outputs": [
    {
     "data": {
      "text/plain": [
       "FIRST_CRASH_TYPE\n",
       "PARKED MOTOR VEHICLE            181193\n",
       "REAR END                        175239\n",
       "SIDESWIPE SAME DIRECTION        118693\n",
       "TURNING                         110954\n",
       "ANGLE                            84304\n",
       "FIXED OBJECT                     36601\n",
       "PEDESTRIAN                       17941\n",
       "PEDALCYCLIST                     11880\n",
       "SIDESWIPE OPPOSITE DIRECTION     11020\n",
       "OTHER OBJECT                      7729\n",
       "REAR TO FRONT                     7257\n",
       "HEAD ON                           6650\n",
       "REAR TO SIDE                      4312\n",
       "OTHER NONCOLLISION                2486\n",
       "REAR TO REAR                      1516\n",
       "ANIMAL                             553\n",
       "OVERTURNED                         477\n",
       "TRAIN                               42\n",
       "Name: count, dtype: int64"
      ]
     },
     "execution_count": 14,
     "metadata": {},
     "output_type": "execute_result"
    }
   ],
   "source": [
    "df_crashes[\"FIRST_CRASH_TYPE\"].value_counts()"
   ]
  },
  {
   "cell_type": "code",
   "execution_count": null,
   "metadata": {},
   "outputs": [
    {
     "data": {
      "text/plain": [
       "PRIM_CONTRIBUTORY_CAUSE\n",
       "UNABLE TO DETERMINE                                                                 302153\n",
       "FAILING TO YIELD RIGHT-OF-WAY                                                        85315\n",
       "FOLLOWING TOO CLOSELY                                                                76341\n",
       "NOT APPLICABLE                                                                       41267\n",
       "IMPROPER OVERTAKING/PASSING                                                          38280\n",
       "FAILING TO REDUCE SPEED TO AVOID CRASH                                               32933\n",
       "IMPROPER BACKING                                                                     30962\n",
       "IMPROPER LANE USAGE                                                                  28112\n",
       "DRIVING SKILLS/KNOWLEDGE/EXPERIENCE                                                  25874\n",
       "IMPROPER TURNING/NO SIGNAL                                                           25859\n",
       "DISREGARDING TRAFFIC SIGNALS                                                         15118\n",
       "WEATHER                                                                              11768\n",
       "OPERATING VEHICLE IN ERRATIC, RECKLESS, CARELESS, NEGLIGENT OR AGGRESSIVE MANNER      9905\n",
       "DISREGARDING STOP SIGN                                                                8485\n",
       "DISTRACTION - FROM INSIDE VEHICLE                                                     5377\n",
       "EQUIPMENT - VEHICLE CONDITION                                                         4879\n",
       "PHYSICAL CONDITION OF DRIVER                                                          4670\n",
       "VISION OBSCURED (SIGNS, TREE LIMBS, BUILDINGS, ETC.)                                  4461\n",
       "DRIVING ON WRONG SIDE/WRONG WAY                                                       4137\n",
       "UNDER THE INFLUENCE OF ALCOHOL/DRUGS (USE WHEN ARREST IS EFFECTED)                    3686\n",
       "DISTRACTION - FROM OUTSIDE VEHICLE                                                    3222\n",
       "EXCEEDING AUTHORIZED SPEED LIMIT                                                      1982\n",
       "ROAD ENGINEERING/SURFACE/MARKING DEFECTS                                              1945\n",
       "ROAD CONSTRUCTION/MAINTENANCE                                                         1695\n",
       "EXCEEDING SAFE SPEED FOR CONDITIONS                                                   1684\n",
       "DISREGARDING OTHER TRAFFIC SIGNS                                                      1672\n",
       "EVASIVE ACTION DUE TO ANIMAL, OBJECT, NONMOTORIST                                     1445\n",
       "CELL PHONE USE OTHER THAN TEXTING                                                     1049\n",
       "DISREGARDING ROAD MARKINGS                                                             957\n",
       "HAD BEEN DRINKING (USE WHEN ARREST IS NOT MADE)                                        806\n",
       "ANIMAL                                                                                 656\n",
       "TURNING RIGHT ON RED                                                                   579\n",
       "DISTRACTION - OTHER ELECTRONIC DEVICE (NAVIGATION DEVICE, DVD PLAYER, ETC.)            366\n",
       "RELATED TO BUS STOP                                                                    360\n",
       "TEXTING                                                                                305\n",
       "DISREGARDING YIELD SIGN                                                                265\n",
       "PASSING STOPPED SCHOOL BUS                                                              93\n",
       "OBSTRUCTED CROSSWALKS                                                                   83\n",
       "BICYCLE ADVANCING LEGALLY ON RED LIGHT                                                  79\n",
       "MOTORCYCLE ADVANCING LEGALLY ON RED LIGHT                                               22\n",
       "Name: count, dtype: int64"
      ]
     },
     "execution_count": 15,
     "metadata": {},
     "output_type": "execute_result"
    }
   ],
   "source": [
    "df_crashes[\"PRIM_CONTRIBUTORY_CAUSE\"].value_counts()"
   ]
  },
  {
   "cell_type": "code",
   "execution_count": null,
   "metadata": {},
   "outputs": [
    {
     "data": {
      "text/html": [
       "<div>\n",
       "<style scoped>\n",
       "    .dataframe tbody tr th:only-of-type {\n",
       "        vertical-align: middle;\n",
       "    }\n",
       "\n",
       "    .dataframe tbody tr th {\n",
       "        vertical-align: top;\n",
       "    }\n",
       "\n",
       "    .dataframe thead th {\n",
       "        text-align: right;\n",
       "    }\n",
       "</style>\n",
       "<table border=\"1\" class=\"dataframe\">\n",
       "  <thead>\n",
       "    <tr style=\"text-align: right;\">\n",
       "      <th></th>\n",
       "      <th>CRASH_RECORD_ID</th>\n",
       "      <th>RD_NO</th>\n",
       "      <th>CRASH_DATE_EST_I</th>\n",
       "      <th>CRASH_DATE</th>\n",
       "      <th>POSTED_SPEED_LIMIT</th>\n",
       "      <th>TRAFFIC_CONTROL_DEVICE</th>\n",
       "      <th>DEVICE_CONDITION</th>\n",
       "      <th>WEATHER_CONDITION</th>\n",
       "      <th>LIGHTING_CONDITION</th>\n",
       "      <th>FIRST_CRASH_TYPE</th>\n",
       "      <th>...</th>\n",
       "      <th>INJURIES_REPORTED_NOT_EVIDENT</th>\n",
       "      <th>INJURIES_NO_INDICATION</th>\n",
       "      <th>INJURIES_UNKNOWN</th>\n",
       "      <th>CRASH_HOUR</th>\n",
       "      <th>CRASH_DAY_OF_WEEK</th>\n",
       "      <th>CRASH_MONTH</th>\n",
       "      <th>LATITUDE</th>\n",
       "      <th>LONGITUDE</th>\n",
       "      <th>LOCATION</th>\n",
       "      <th>Month</th>\n",
       "    </tr>\n",
       "  </thead>\n",
       "  <tbody>\n",
       "    <tr>\n",
       "      <th>0</th>\n",
       "      <td>6c1659069e9c6285a650e70d6f9b574ed5f64c12888479...</td>\n",
       "      <td>JG387648</td>\n",
       "      <td>NaN</td>\n",
       "      <td>2023-08-18 12:50:00</td>\n",
       "      <td>15</td>\n",
       "      <td>OTHER</td>\n",
       "      <td>FUNCTIONING PROPERLY</td>\n",
       "      <td>CLEAR</td>\n",
       "      <td>DAYLIGHT</td>\n",
       "      <td>REAR END</td>\n",
       "      <td>...</td>\n",
       "      <td>0.0</td>\n",
       "      <td>1.0</td>\n",
       "      <td>0.0</td>\n",
       "      <td>12</td>\n",
       "      <td>6</td>\n",
       "      <td>8</td>\n",
       "      <td>NaN</td>\n",
       "      <td>NaN</td>\n",
       "      <td>NaN</td>\n",
       "      <td>8</td>\n",
       "    </tr>\n",
       "    <tr>\n",
       "      <th>1</th>\n",
       "      <td>5f54a59fcb087b12ae5b1acff96a3caf4f2d37e79f8db4...</td>\n",
       "      <td>JG361138</td>\n",
       "      <td>NaN</td>\n",
       "      <td>2023-07-29 14:45:00</td>\n",
       "      <td>30</td>\n",
       "      <td>TRAFFIC SIGNAL</td>\n",
       "      <td>FUNCTIONING PROPERLY</td>\n",
       "      <td>CLEAR</td>\n",
       "      <td>DAYLIGHT</td>\n",
       "      <td>PARKED MOTOR VEHICLE</td>\n",
       "      <td>...</td>\n",
       "      <td>0.0</td>\n",
       "      <td>1.0</td>\n",
       "      <td>0.0</td>\n",
       "      <td>14</td>\n",
       "      <td>7</td>\n",
       "      <td>7</td>\n",
       "      <td>41.854120</td>\n",
       "      <td>-87.665902</td>\n",
       "      <td>POINT (-87.665902342962 41.854120262952)</td>\n",
       "      <td>7</td>\n",
       "    </tr>\n",
       "    <tr>\n",
       "      <th>2</th>\n",
       "      <td>61fcb8c1eb522a6469b460e2134df3d15f82e81fd93e9c...</td>\n",
       "      <td>JG388133</td>\n",
       "      <td>NaN</td>\n",
       "      <td>2023-08-18 17:58:00</td>\n",
       "      <td>30</td>\n",
       "      <td>NO CONTROLS</td>\n",
       "      <td>NO CONTROLS</td>\n",
       "      <td>CLEAR</td>\n",
       "      <td>DAYLIGHT</td>\n",
       "      <td>PEDALCYCLIST</td>\n",
       "      <td>...</td>\n",
       "      <td>0.0</td>\n",
       "      <td>1.0</td>\n",
       "      <td>0.0</td>\n",
       "      <td>17</td>\n",
       "      <td>6</td>\n",
       "      <td>8</td>\n",
       "      <td>41.942976</td>\n",
       "      <td>-87.761883</td>\n",
       "      <td>POINT (-87.761883496974 41.942975745006)</td>\n",
       "      <td>8</td>\n",
       "    </tr>\n",
       "    <tr>\n",
       "      <th>4</th>\n",
       "      <td>a1d5f0ea90897745365a4cbb06cc60329a120d89753fac...</td>\n",
       "      <td>JG387475</td>\n",
       "      <td>NaN</td>\n",
       "      <td>2023-08-18 10:45:00</td>\n",
       "      <td>20</td>\n",
       "      <td>NO CONTROLS</td>\n",
       "      <td>NO CONTROLS</td>\n",
       "      <td>CLEAR</td>\n",
       "      <td>DAYLIGHT</td>\n",
       "      <td>FIXED OBJECT</td>\n",
       "      <td>...</td>\n",
       "      <td>0.0</td>\n",
       "      <td>1.0</td>\n",
       "      <td>0.0</td>\n",
       "      <td>10</td>\n",
       "      <td>6</td>\n",
       "      <td>8</td>\n",
       "      <td>NaN</td>\n",
       "      <td>NaN</td>\n",
       "      <td>NaN</td>\n",
       "      <td>8</td>\n",
       "    </tr>\n",
       "    <tr>\n",
       "      <th>7</th>\n",
       "      <td>0e208d23344f0d1b3a9fcd4bb07676a750ddb73c397b5c...</td>\n",
       "      <td>JG381551</td>\n",
       "      <td>NaN</td>\n",
       "      <td>2023-08-13 13:30:00</td>\n",
       "      <td>35</td>\n",
       "      <td>NO CONTROLS</td>\n",
       "      <td>FUNCTIONING PROPERLY</td>\n",
       "      <td>CLEAR</td>\n",
       "      <td>DAYLIGHT</td>\n",
       "      <td>ANGLE</td>\n",
       "      <td>...</td>\n",
       "      <td>0.0</td>\n",
       "      <td>2.0</td>\n",
       "      <td>0.0</td>\n",
       "      <td>13</td>\n",
       "      <td>1</td>\n",
       "      <td>8</td>\n",
       "      <td>NaN</td>\n",
       "      <td>NaN</td>\n",
       "      <td>NaN</td>\n",
       "      <td>8</td>\n",
       "    </tr>\n",
       "    <tr>\n",
       "      <th>...</th>\n",
       "      <td>...</td>\n",
       "      <td>...</td>\n",
       "      <td>...</td>\n",
       "      <td>...</td>\n",
       "      <td>...</td>\n",
       "      <td>...</td>\n",
       "      <td>...</td>\n",
       "      <td>...</td>\n",
       "      <td>...</td>\n",
       "      <td>...</td>\n",
       "      <td>...</td>\n",
       "      <td>...</td>\n",
       "      <td>...</td>\n",
       "      <td>...</td>\n",
       "      <td>...</td>\n",
       "      <td>...</td>\n",
       "      <td>...</td>\n",
       "      <td>...</td>\n",
       "      <td>...</td>\n",
       "      <td>...</td>\n",
       "      <td>...</td>\n",
       "    </tr>\n",
       "    <tr>\n",
       "      <th>778835</th>\n",
       "      <td>e38400c0474e70f5aa9f0e0f115957281ff234b6727e00...</td>\n",
       "      <td>JD213164</td>\n",
       "      <td>NaN</td>\n",
       "      <td>2020-04-20 15:30:00</td>\n",
       "      <td>35</td>\n",
       "      <td>NO CONTROLS</td>\n",
       "      <td>NO CONTROLS</td>\n",
       "      <td>CLEAR</td>\n",
       "      <td>DAYLIGHT</td>\n",
       "      <td>TURNING</td>\n",
       "      <td>...</td>\n",
       "      <td>0.0</td>\n",
       "      <td>2.0</td>\n",
       "      <td>0.0</td>\n",
       "      <td>15</td>\n",
       "      <td>2</td>\n",
       "      <td>4</td>\n",
       "      <td>41.740031</td>\n",
       "      <td>-87.629704</td>\n",
       "      <td>POINT (-87.629704407703 41.74003058451)</td>\n",
       "      <td>4</td>\n",
       "    </tr>\n",
       "    <tr>\n",
       "      <th>778838</th>\n",
       "      <td>89dc61af34d393db950397f0cc06d53b56d1f5e5fa14d4...</td>\n",
       "      <td>JG317141</td>\n",
       "      <td>NaN</td>\n",
       "      <td>2023-06-26 16:50:00</td>\n",
       "      <td>35</td>\n",
       "      <td>NO CONTROLS</td>\n",
       "      <td>NO CONTROLS</td>\n",
       "      <td>CLEAR</td>\n",
       "      <td>DAYLIGHT</td>\n",
       "      <td>SIDESWIPE SAME DIRECTION</td>\n",
       "      <td>...</td>\n",
       "      <td>0.0</td>\n",
       "      <td>4.0</td>\n",
       "      <td>0.0</td>\n",
       "      <td>16</td>\n",
       "      <td>2</td>\n",
       "      <td>6</td>\n",
       "      <td>41.746905</td>\n",
       "      <td>-87.644077</td>\n",
       "      <td>POINT (-87.644077151581 41.746904607442)</td>\n",
       "      <td>6</td>\n",
       "    </tr>\n",
       "    <tr>\n",
       "      <th>778840</th>\n",
       "      <td>3d00cf22a912d0e18809db862dd67e5812f7b6af1ffa3d...</td>\n",
       "      <td>JG346351</td>\n",
       "      <td>NaN</td>\n",
       "      <td>2023-07-18 14:10:00</td>\n",
       "      <td>30</td>\n",
       "      <td>UNKNOWN</td>\n",
       "      <td>UNKNOWN</td>\n",
       "      <td>CLEAR</td>\n",
       "      <td>DAYLIGHT</td>\n",
       "      <td>SIDESWIPE SAME DIRECTION</td>\n",
       "      <td>...</td>\n",
       "      <td>0.0</td>\n",
       "      <td>2.0</td>\n",
       "      <td>0.0</td>\n",
       "      <td>14</td>\n",
       "      <td>3</td>\n",
       "      <td>7</td>\n",
       "      <td>41.778580</td>\n",
       "      <td>-87.738679</td>\n",
       "      <td>POINT (-87.738679437114 41.77857996073)</td>\n",
       "      <td>7</td>\n",
       "    </tr>\n",
       "    <tr>\n",
       "      <th>778842</th>\n",
       "      <td>6dee8823d4ae96624b741428681d19f50b5960418b6d79...</td>\n",
       "      <td>JG408597</td>\n",
       "      <td>NaN</td>\n",
       "      <td>2023-09-02 18:25:00</td>\n",
       "      <td>30</td>\n",
       "      <td>TRAFFIC SIGNAL</td>\n",
       "      <td>FUNCTIONING PROPERLY</td>\n",
       "      <td>CLEAR</td>\n",
       "      <td>DAYLIGHT</td>\n",
       "      <td>REAR END</td>\n",
       "      <td>...</td>\n",
       "      <td>0.0</td>\n",
       "      <td>2.0</td>\n",
       "      <td>0.0</td>\n",
       "      <td>18</td>\n",
       "      <td>7</td>\n",
       "      <td>9</td>\n",
       "      <td>41.758092</td>\n",
       "      <td>-87.624902</td>\n",
       "      <td>POINT (-87.624902228247 41.758092176383)</td>\n",
       "      <td>9</td>\n",
       "    </tr>\n",
       "    <tr>\n",
       "      <th>778843</th>\n",
       "      <td>e88a7d78baea3f2de14f0042ce24937d03ca58553c7102...</td>\n",
       "      <td>JB486294</td>\n",
       "      <td>NaN</td>\n",
       "      <td>2018-10-23 03:30:00</td>\n",
       "      <td>30</td>\n",
       "      <td>LANE USE MARKING</td>\n",
       "      <td>NO CONTROLS</td>\n",
       "      <td>CLEAR</td>\n",
       "      <td>DARKNESS, LIGHTED ROAD</td>\n",
       "      <td>SIDESWIPE OPPOSITE DIRECTION</td>\n",
       "      <td>...</td>\n",
       "      <td>0.0</td>\n",
       "      <td>4.0</td>\n",
       "      <td>0.0</td>\n",
       "      <td>3</td>\n",
       "      <td>3</td>\n",
       "      <td>10</td>\n",
       "      <td>41.910709</td>\n",
       "      <td>-87.654459</td>\n",
       "      <td>POINT (-87.654458592914 41.910708800168)</td>\n",
       "      <td>10</td>\n",
       "    </tr>\n",
       "  </tbody>\n",
       "</table>\n",
       "<p>476694 rows × 50 columns</p>\n",
       "</div>"
      ],
      "text/plain": [
       "                                          CRASH_RECORD_ID     RD_NO  \\\n",
       "0       6c1659069e9c6285a650e70d6f9b574ed5f64c12888479...  JG387648   \n",
       "1       5f54a59fcb087b12ae5b1acff96a3caf4f2d37e79f8db4...  JG361138   \n",
       "2       61fcb8c1eb522a6469b460e2134df3d15f82e81fd93e9c...  JG388133   \n",
       "4       a1d5f0ea90897745365a4cbb06cc60329a120d89753fac...  JG387475   \n",
       "7       0e208d23344f0d1b3a9fcd4bb07676a750ddb73c397b5c...  JG381551   \n",
       "...                                                   ...       ...   \n",
       "778835  e38400c0474e70f5aa9f0e0f115957281ff234b6727e00...  JD213164   \n",
       "778838  89dc61af34d393db950397f0cc06d53b56d1f5e5fa14d4...  JG317141   \n",
       "778840  3d00cf22a912d0e18809db862dd67e5812f7b6af1ffa3d...  JG346351   \n",
       "778842  6dee8823d4ae96624b741428681d19f50b5960418b6d79...  JG408597   \n",
       "778843  e88a7d78baea3f2de14f0042ce24937d03ca58553c7102...  JB486294   \n",
       "\n",
       "       CRASH_DATE_EST_I          CRASH_DATE  POSTED_SPEED_LIMIT  \\\n",
       "0                   NaN 2023-08-18 12:50:00                  15   \n",
       "1                   NaN 2023-07-29 14:45:00                  30   \n",
       "2                   NaN 2023-08-18 17:58:00                  30   \n",
       "4                   NaN 2023-08-18 10:45:00                  20   \n",
       "7                   NaN 2023-08-13 13:30:00                  35   \n",
       "...                 ...                 ...                 ...   \n",
       "778835              NaN 2020-04-20 15:30:00                  35   \n",
       "778838              NaN 2023-06-26 16:50:00                  35   \n",
       "778840              NaN 2023-07-18 14:10:00                  30   \n",
       "778842              NaN 2023-09-02 18:25:00                  30   \n",
       "778843              NaN 2018-10-23 03:30:00                  30   \n",
       "\n",
       "       TRAFFIC_CONTROL_DEVICE      DEVICE_CONDITION WEATHER_CONDITION  \\\n",
       "0                       OTHER  FUNCTIONING PROPERLY             CLEAR   \n",
       "1              TRAFFIC SIGNAL  FUNCTIONING PROPERLY             CLEAR   \n",
       "2                 NO CONTROLS           NO CONTROLS             CLEAR   \n",
       "4                 NO CONTROLS           NO CONTROLS             CLEAR   \n",
       "7                 NO CONTROLS  FUNCTIONING PROPERLY             CLEAR   \n",
       "...                       ...                   ...               ...   \n",
       "778835            NO CONTROLS           NO CONTROLS             CLEAR   \n",
       "778838            NO CONTROLS           NO CONTROLS             CLEAR   \n",
       "778840                UNKNOWN               UNKNOWN             CLEAR   \n",
       "778842         TRAFFIC SIGNAL  FUNCTIONING PROPERLY             CLEAR   \n",
       "778843       LANE USE MARKING           NO CONTROLS             CLEAR   \n",
       "\n",
       "            LIGHTING_CONDITION              FIRST_CRASH_TYPE  ...  \\\n",
       "0                     DAYLIGHT                      REAR END  ...   \n",
       "1                     DAYLIGHT          PARKED MOTOR VEHICLE  ...   \n",
       "2                     DAYLIGHT                  PEDALCYCLIST  ...   \n",
       "4                     DAYLIGHT                  FIXED OBJECT  ...   \n",
       "7                     DAYLIGHT                         ANGLE  ...   \n",
       "...                        ...                           ...  ...   \n",
       "778835                DAYLIGHT                       TURNING  ...   \n",
       "778838                DAYLIGHT      SIDESWIPE SAME DIRECTION  ...   \n",
       "778840                DAYLIGHT      SIDESWIPE SAME DIRECTION  ...   \n",
       "778842                DAYLIGHT                      REAR END  ...   \n",
       "778843  DARKNESS, LIGHTED ROAD  SIDESWIPE OPPOSITE DIRECTION  ...   \n",
       "\n",
       "       INJURIES_REPORTED_NOT_EVIDENT  INJURIES_NO_INDICATION INJURIES_UNKNOWN  \\\n",
       "0                                0.0                     1.0              0.0   \n",
       "1                                0.0                     1.0              0.0   \n",
       "2                                0.0                     1.0              0.0   \n",
       "4                                0.0                     1.0              0.0   \n",
       "7                                0.0                     2.0              0.0   \n",
       "...                              ...                     ...              ...   \n",
       "778835                           0.0                     2.0              0.0   \n",
       "778838                           0.0                     4.0              0.0   \n",
       "778840                           0.0                     2.0              0.0   \n",
       "778842                           0.0                     2.0              0.0   \n",
       "778843                           0.0                     4.0              0.0   \n",
       "\n",
       "       CRASH_HOUR CRASH_DAY_OF_WEEK CRASH_MONTH   LATITUDE  LONGITUDE  \\\n",
       "0              12                 6           8        NaN        NaN   \n",
       "1              14                 7           7  41.854120 -87.665902   \n",
       "2              17                 6           8  41.942976 -87.761883   \n",
       "4              10                 6           8        NaN        NaN   \n",
       "7              13                 1           8        NaN        NaN   \n",
       "...           ...               ...         ...        ...        ...   \n",
       "778835         15                 2           4  41.740031 -87.629704   \n",
       "778838         16                 2           6  41.746905 -87.644077   \n",
       "778840         14                 3           7  41.778580 -87.738679   \n",
       "778842         18                 7           9  41.758092 -87.624902   \n",
       "778843          3                 3          10  41.910709 -87.654459   \n",
       "\n",
       "                                        LOCATION Month  \n",
       "0                                            NaN     8  \n",
       "1       POINT (-87.665902342962 41.854120262952)     7  \n",
       "2       POINT (-87.761883496974 41.942975745006)     8  \n",
       "4                                            NaN     8  \n",
       "7                                            NaN     8  \n",
       "...                                          ...   ...  \n",
       "778835   POINT (-87.629704407703 41.74003058451)     4  \n",
       "778838  POINT (-87.644077151581 41.746904607442)     6  \n",
       "778840   POINT (-87.738679437114 41.77857996073)     7  \n",
       "778842  POINT (-87.624902228247 41.758092176383)     9  \n",
       "778843  POINT (-87.654458592914 41.910708800168)    10  \n",
       "\n",
       "[476694 rows x 50 columns]"
      ]
     },
     "execution_count": 26,
     "metadata": {},
     "output_type": "execute_result"
    }
   ],
   "source": [
    "# Filtering by removing Unable to determine cause\n",
    "# Total decreases from 778437 to 476K \n",
    "df_crashes[df_crashes[\"PRIM_CONTRIBUTORY_CAUSE\"] != \"UNABLE TO DETERMINE\"]\n"
   ]
  },
  {
   "cell_type": "code",
   "execution_count": null,
   "metadata": {},
   "outputs": [
    {
     "data": {
      "text/plain": [
       "WEATHER_CONDITION\n",
       "CLEAR                       613562\n",
       "RAIN                         67442\n",
       "UNKNOWN                      41911\n",
       "SNOW                         26623\n",
       "CLOUDY/OVERCAST              22893\n",
       "OTHER                         2404\n",
       "FREEZING RAIN/DRIZZLE         1407\n",
       "FOG/SMOKE/HAZE                1110\n",
       "SLEET/HAIL                     943\n",
       "BLOWING SNOW                   398\n",
       "SEVERE CROSS WIND GATE         147\n",
       "BLOWING SAND, SOIL, DIRT         7\n",
       "Name: count, dtype: int64"
      ]
     },
     "execution_count": 27,
     "metadata": {},
     "output_type": "execute_result"
    }
   ],
   "source": [
    "df_crashes['WEATHER_CONDITION'].value_counts()"
   ]
  },
  {
   "cell_type": "code",
   "execution_count": null,
   "metadata": {},
   "outputs": [
    {
     "data": {
      "text/plain": [
       "CRASH_DATE_EST_I\n",
       "Y    51001\n",
       "N     7505\n",
       "Name: count, dtype: int64"
      ]
     },
     "execution_count": 41,
     "metadata": {},
     "output_type": "execute_result"
    }
   ],
   "source": [
    "# columns to drop\n",
    "#df_crashes.drop( rd_no, crash_date_est_i, report_type, data_police-Notified, sec_contributory_cause, street_no, street_direction, street_name, beat_of_occurence, photos_taken, statements_taken, work_zone_i, latitute, longitute, location  \n"
   ]
  },
  {
   "cell_type": "code",
   "execution_count": null,
   "metadata": {},
   "outputs": [],
   "source": [
    "# columns to drop\n",
    "# df_vehicles (rd_no, unit_no, unit_type, vehicle_id, travel_direciton, towed_i, fire_i, occupant_count, towed_by, towed_to, area_all, cmv_id, usdot_not, ccmc_no, ilcc_no, commercial_src, gvwr, carrier_name, carrier_state, carrier_city, hazmat_placards_i, \n",
    "# hazmat_name, un_no, hazmat_present_i, hazmat_report_i, hazmat_report_no, mcs_report_all, drop the rest, keep total_vehicle_length and vehicle_config, drop cargo_body_type, ) trucks "
   ]
  },
  {
   "cell_type": "code",
   "execution_count": null,
   "metadata": {},
   "outputs": [],
   "source": [
    "# keep columns in people data \n",
    "# sex, age, safety_equipment, airbag, injury classfication, driver_action, vision, physical_condi, ped location, bac, cell use"
   ]
  },
  {
   "cell_type": "code",
   "execution_count": null,
   "metadata": {},
   "outputs": [
    {
     "data": {
      "text/plain": [
       "CRASH_DATE\n",
       "12/29/2020 05:00:00 PM    60\n",
       "11/10/2017 10:30:00 AM    58\n",
       "02/17/2022 03:30:00 PM    42\n",
       "11/10/2017 10:00:00 AM    42\n",
       "01/12/2019 02:30:00 PM    41\n",
       "                          ..\n",
       "11/19/2019 02:23:00 PM     1\n",
       "12/27/2021 10:40:00 AM     1\n",
       "12/27/2021 10:03:00 AM     1\n",
       "11/19/2019 03:39:00 PM     1\n",
       "07/30/2021 01:30:00 AM     1\n",
       "Name: count, Length: 510079, dtype: int64"
      ]
     },
     "execution_count": 28,
     "metadata": {},
     "output_type": "execute_result"
    }
   ],
   "source": [
    "# Exploring Vehicles Dataset\n",
    "df_vehicles[\"CRASH_DATE\"].value_counts()"
   ]
  },
  {
   "cell_type": "code",
   "execution_count": null,
   "metadata": {},
   "outputs": [
    {
     "data": {
      "text/plain": [
       "CMRC_VEH_I\n",
       "Y    18958\n",
       "N    10704\n",
       "Name: count, dtype: int64"
      ]
     },
     "execution_count": 16,
     "metadata": {},
     "output_type": "execute_result"
    }
   ],
   "source": [
    "df_vehicles[\"CMRC_VEH_I\"].value_counts()"
   ]
  },
  {
   "cell_type": "code",
   "execution_count": null,
   "metadata": {},
   "outputs": [
    {
     "data": {
      "text/plain": [
       "CRASH_DATE\n",
       "2020-12-29 17:00:00    72\n",
       "2017-11-10 10:30:00    64\n",
       "2018-03-16 10:17:00    61\n",
       "2019-06-22 18:15:00    55\n",
       "2023-07-12 10:40:00    50\n",
       "                       ..\n",
       "2018-01-02 20:52:00     1\n",
       "2020-02-11 00:10:00     1\n",
       "2018-01-02 20:28:00     1\n",
       "2021-02-24 18:39:00     1\n",
       "2015-11-22 13:58:00     1\n",
       "Name: count, Length: 509164, dtype: int64"
      ]
     },
     "execution_count": 17,
     "metadata": {},
     "output_type": "execute_result"
    }
   ],
   "source": [
    "# Exploring the People Dataset\n",
    "df_people['CRASH_DATE'].value_counts()"
   ]
  },
  {
   "cell_type": "code",
   "execution_count": null,
   "metadata": {},
   "outputs": [
    {
     "name": "stdout",
     "output_type": "stream",
     "text": [
      "    Year  Crash_Count\n",
      "0   2013            5\n",
      "1   2014           11\n",
      "2   2015        20933\n",
      "3   2016        96022\n",
      "4   2017       185328\n",
      "5   2018       265709\n",
      "6   2019       264007\n",
      "7   2020       199983\n",
      "8   2021       233794\n",
      "9   2022       233819\n",
      "10  2023       210467\n"
     ]
    }
   ],
   "source": [
    "# Converting CRASH_DATE to datetime to explore months and years of crashes\n",
    "\n",
    "df_people['CRASH_DATE'] = pd.to_datetime(df_people['CRASH_DATE'])\n",
    "\n",
    "# Create new columns for month and year\n",
    "df_people['Month'] = df_people['CRASH_DATE'].dt.month\n",
    "df_people['Year'] = df_people['CRASH_DATE'].dt.year\n",
    "\n",
    "# Sort the DataFrame by year\n",
    "sorted_df = df_people.sort_values(by=['Year'])\n",
    "\n",
    "# Count the crashes for each year\n",
    "crash_counts_by_year = sorted_df.groupby(['Year']).size().reset_index(name='Crash_Count')\n",
    "\n",
    "# Print the result\n",
    "print(crash_counts_by_year)\n"
   ]
  },
  {
   "cell_type": "code",
   "execution_count": null,
   "metadata": {},
   "outputs": [
    {
     "data": {
      "text/plain": [
       "DRIVER_ACTION\n",
       "NONE                                 488224\n",
       "UNKNOWN                              340884\n",
       "FAILED TO YIELD                      123908\n",
       "OTHER                                121181\n",
       "FOLLOWED TOO CLOSELY                  81516\n",
       "IMPROPER BACKING                      40766\n",
       "IMPROPER TURN                         35662\n",
       "IMPROPER LANE CHANGE                  35018\n",
       "IMPROPER PASSING                      30330\n",
       "DISREGARDED CONTROL DEVICES           23852\n",
       "TOO FAST FOR CONDITIONS               20583\n",
       "WRONG WAY/SIDE                         5441\n",
       "IMPROPER PARKING                       5029\n",
       "OVERCORRECTED                          2403\n",
       "EVADING POLICE VEHICLE                 2152\n",
       "CELL PHONE USE OTHER THAN TEXTING      2038\n",
       "EMERGENCY VEHICLE ON CALL              1240\n",
       "TEXTING                                 543\n",
       "STOPPED SCHOOL BUS                      164\n",
       "LICENSE RESTRICTIONS                     56\n",
       "Name: count, dtype: int64"
      ]
     },
     "execution_count": 18,
     "metadata": {},
     "output_type": "execute_result"
    }
   ],
   "source": [
    "# Driver action that contributed to the crash, as determined by reporting officer\n",
    "df_people[\"DRIVER_ACTION\"].value_counts()"
   ]
  },
  {
   "cell_type": "code",
   "execution_count": null,
   "metadata": {},
   "outputs": [
    {
     "data": {
      "text/plain": [
       "BAC_RESULT\n",
       "TEST NOT OFFERED                   1341864\n",
       "TEST REFUSED                         14318\n",
       "TEST PERFORMED, RESULTS UNKNOWN       3347\n",
       "TEST TAKEN                            2440\n",
       "Name: count, dtype: int64"
      ]
     },
     "execution_count": 19,
     "metadata": {},
     "output_type": "execute_result"
    }
   ],
   "source": [
    "# Status of blood alcohol concentration testing for driver or other person involved in crash\n",
    "df_people[\"BAC_RESULT\"].value_counts()"
   ]
  },
  {
   "cell_type": "code",
   "execution_count": null,
   "metadata": {},
   "outputs": [
    {
     "data": {
      "text/plain": [
       "BAC_RESULT VALUE\n",
       "0.00    190\n",
       "0.18    134\n",
       "0.17    129\n",
       "0.21    116\n",
       "0.14    109\n",
       "0.20    102\n",
       "0.16     99\n",
       "0.19     91\n",
       "0.15     82\n",
       "0.22     80\n",
       "0.23     75\n",
       "0.11     72\n",
       "0.13     71\n",
       "0.12     70\n",
       "0.24     65\n",
       "0.26     48\n",
       "0.25     45\n",
       "0.10     36\n",
       "0.27     35\n",
       "0.09     33\n",
       "0.28     32\n",
       "0.08     25\n",
       "0.29     19\n",
       "0.07     18\n",
       "0.30     17\n",
       "0.03     17\n",
       "0.33     16\n",
       "0.04     15\n",
       "0.05     11\n",
       "0.32     10\n",
       "0.35      9\n",
       "0.02      8\n",
       "0.31      8\n",
       "0.06      8\n",
       "0.38      7\n",
       "0.36      4\n",
       "0.34      4\n",
       "0.39      3\n",
       "0.44      3\n",
       "0.01      3\n",
       "1.00      2\n",
       "0.79      2\n",
       "0.88      2\n",
       "0.45      2\n",
       "0.60      2\n",
       "0.95      1\n",
       "0.40      1\n",
       "0.47      1\n",
       "0.99      1\n",
       "0.41      1\n",
       "0.80      1\n",
       "0.58      1\n",
       "0.37      1\n",
       "0.85      1\n",
       "0.67      1\n",
       "0.98      1\n",
       "Name: count, dtype: int64"
      ]
     },
     "execution_count": 21,
     "metadata": {},
     "output_type": "execute_result"
    }
   ],
   "source": [
    "df_people[\"BAC_RESULT VALUE\"].value_counts()"
   ]
  },
  {
   "cell_type": "code",
   "execution_count": null,
   "metadata": {},
   "outputs": [
    {
     "data": {
      "text/plain": [
       "CELL_PHONE_USE\n",
       "Y    752\n",
       "N    406\n",
       "Name: count, dtype: int64"
      ]
     },
     "execution_count": 22,
     "metadata": {},
     "output_type": "execute_result"
    }
   ],
   "source": [
    "# Whether person was/was not using cellphone at the time of the crash, as determined by the reporting officer\n",
    "df_people[\"CELL_PHONE_USE\"].value_counts()"
   ]
  },
  {
   "cell_type": "code",
   "execution_count": null,
   "metadata": {},
   "outputs": [
    {
     "data": {
      "text/plain": [
       "INJURY_CLASSIFICATION\n",
       "NO INDICATION OF INJURY     1561840\n",
       "NONINCAPACITATING INJURY      83359\n",
       "REPORTED, NOT EVIDENT         47454\n",
       "INCAPACITATING INJURY         15765\n",
       "FATAL                           949\n",
       "Name: count, dtype: int64"
      ]
     },
     "execution_count": 25,
     "metadata": {},
     "output_type": "execute_result"
    }
   ],
   "source": [
    "df_people[\"INJURY_CLASSIFICATION\"].value_counts()"
   ]
  },
  {
   "cell_type": "markdown",
   "metadata": {},
   "source": [
    "# Filtering"
   ]
  },
  {
   "cell_type": "code",
   "execution_count": 20,
   "metadata": {},
   "outputs": [
    {
     "name": "stdout",
     "output_type": "stream",
     "text": [
      "<class 'pandas.core.frame.DataFrame'>\n",
      "Index: 404215 entries, 0 to 778846\n",
      "Data columns (total 49 columns):\n",
      " #   Column                         Non-Null Count   Dtype         \n",
      "---  ------                         --------------   -----         \n",
      " 0   CRASH_RECORD_ID                404215 non-null  object        \n",
      " 1   RD_NO                          399660 non-null  object        \n",
      " 2   CRASH_DATE_EST_I               30637 non-null   object        \n",
      " 3   CRASH_DATE                     404215 non-null  datetime64[ns]\n",
      " 4   POSTED_SPEED_LIMIT             404215 non-null  int64         \n",
      " 5   TRAFFIC_CONTROL_DEVICE         404215 non-null  object        \n",
      " 6   DEVICE_CONDITION               404215 non-null  object        \n",
      " 7   WEATHER_CONDITION              404215 non-null  object        \n",
      " 8   LIGHTING_CONDITION             404215 non-null  object        \n",
      " 9   FIRST_CRASH_TYPE               404215 non-null  object        \n",
      " 10  TRAFFICWAY_TYPE                404215 non-null  object        \n",
      " 11  LANE_CNT                       53 non-null      float64       \n",
      " 12  ALIGNMENT                      404215 non-null  object        \n",
      " 13  ROADWAY_SURFACE_COND           404215 non-null  object        \n",
      " 14  ROAD_DEFECT                    404215 non-null  object        \n",
      " 15  REPORT_TYPE                    390338 non-null  object        \n",
      " 16  CRASH_TYPE                     404215 non-null  object        \n",
      " 17  INTERSECTION_RELATED_I         95831 non-null   object        \n",
      " 18  NOT_RIGHT_OF_WAY_I             18778 non-null   object        \n",
      " 19  HIT_AND_RUN_I                  139134 non-null  object        \n",
      " 20  DAMAGE                         404215 non-null  object        \n",
      " 21  DATE_POLICE_NOTIFIED           404215 non-null  object        \n",
      " 22  PRIM_CONTRIBUTORY_CAUSE        404215 non-null  object        \n",
      " 23  SEC_CONTRIBUTORY_CAUSE         404215 non-null  object        \n",
      " 24  STREET_NO                      404215 non-null  int64         \n",
      " 25  STREET_DIRECTION               404214 non-null  object        \n",
      " 26  STREET_NAME                    404215 non-null  object        \n",
      " 27  BEAT_OF_OCCURRENCE             404215 non-null  float64       \n",
      " 28  PHOTOS_TAKEN_I                 5349 non-null    object        \n",
      " 29  STATEMENTS_TAKEN_I             9495 non-null    object        \n",
      " 30  DOORING_I                      1149 non-null    object        \n",
      " 31  WORK_ZONE_I                    1886 non-null    object        \n",
      " 32  WORK_ZONE_TYPE                 1427 non-null    object        \n",
      " 33  WORKERS_PRESENT_I              541 non-null     object        \n",
      " 34  NUM_UNITS                      404215 non-null  int64         \n",
      " 35  MOST_SEVERE_INJURY             403214 non-null  object        \n",
      " 36  INJURIES_TOTAL                 403215 non-null  float64       \n",
      " 37  INJURIES_FATAL                 403215 non-null  float64       \n",
      " 38  INJURIES_INCAPACITATING        403215 non-null  float64       \n",
      " 39  INJURIES_NON_INCAPACITATING    403215 non-null  float64       \n",
      " 40  INJURIES_REPORTED_NOT_EVIDENT  403215 non-null  float64       \n",
      " 41  INJURIES_NO_INDICATION         403215 non-null  float64       \n",
      " 42  INJURIES_UNKNOWN               403215 non-null  float64       \n",
      " 43  CRASH_HOUR                     404215 non-null  int64         \n",
      " 44  CRASH_DAY_OF_WEEK              404215 non-null  int64         \n",
      " 45  CRASH_MONTH                    404215 non-null  int64         \n",
      " 46  LATITUDE                       400964 non-null  float64       \n",
      " 47  LONGITUDE                      400964 non-null  float64       \n",
      " 48  LOCATION                       400964 non-null  object        \n",
      "dtypes: datetime64[ns](1), float64(11), int64(6), object(31)\n",
      "memory usage: 154.2+ MB\n"
     ]
    }
   ],
   "source": [
    "# Filtering data from 2020-2023\n",
    "df_crashes = df_crashes[df_crashes[\"CRASH_DATE\"].dt.year >= 2020]\n",
    "df_crashes.info()"
   ]
  },
  {
   "cell_type": "code",
   "execution_count": 21,
   "metadata": {},
   "outputs": [
    {
     "name": "stdout",
     "output_type": "stream",
     "text": [
      "<class 'pandas.core.frame.DataFrame'>\n",
      "Index: 878063 entries, 1 to 1710077\n",
      "Data columns (total 30 columns):\n",
      " #   Column                 Non-Null Count   Dtype         \n",
      "---  ------                 --------------   -----         \n",
      " 0   PERSON_ID              878063 non-null  object        \n",
      " 1   PERSON_TYPE            878063 non-null  object        \n",
      " 2   CRASH_RECORD_ID        878063 non-null  object        \n",
      " 3   RD_NO                  867983 non-null  object        \n",
      " 4   VEHICLE_ID             860214 non-null  float64       \n",
      " 5   CRASH_DATE             878063 non-null  datetime64[ns]\n",
      " 6   SEAT_NO                175016 non-null  float64       \n",
      " 7   CITY                   626532 non-null  object        \n",
      " 8   STATE                  638522 non-null  object        \n",
      " 9   ZIPCODE                574270 non-null  object        \n",
      " 10  SEX                    862085 non-null  object        \n",
      " 11  AGE                    613798 non-null  float64       \n",
      " 12  DRIVERS_LICENSE_STATE  506558 non-null  object        \n",
      " 13  DRIVERS_LICENSE_CLASS  404491 non-null  object        \n",
      " 14  SAFETY_EQUIPMENT       875692 non-null  object        \n",
      " 15  AIRBAG_DEPLOYED        861031 non-null  object        \n",
      " 16  EJECTION               867288 non-null  object        \n",
      " 17  INJURY_CLASSIFICATION  877852 non-null  object        \n",
      " 18  HOSPITAL               134386 non-null  object        \n",
      " 19  EMS_AGENCY             80034 non-null   object        \n",
      " 20  EMS_RUN_NO             13816 non-null   object        \n",
      " 21  DRIVER_ACTION          701536 non-null  object        \n",
      " 22  DRIVER_VISION          701216 non-null  object        \n",
      " 23  PHYSICAL_CONDITION     701986 non-null  object        \n",
      " 24  PEDPEDAL_ACTION        16973 non-null   object        \n",
      " 25  PEDPEDAL_VISIBILITY    16956 non-null   object        \n",
      " 26  PEDPEDAL_LOCATION      16974 non-null   object        \n",
      " 27  BAC_RESULT             701408 non-null  object        \n",
      " 28  BAC_RESULT VALUE       924 non-null     float64       \n",
      " 29  CELL_PHONE_USE         3 non-null       object        \n",
      "dtypes: datetime64[ns](1), float64(4), object(25)\n",
      "memory usage: 207.7+ MB\n"
     ]
    }
   ],
   "source": [
    "df_people = df_people[df_people[\"CRASH_DATE\"].dt.year >= 2020]\n",
    "df_people.info()"
   ]
  },
  {
   "cell_type": "code",
   "execution_count": 22,
   "metadata": {},
   "outputs": [
    {
     "name": "stdout",
     "output_type": "stream",
     "text": [
      "<class 'pandas.core.frame.DataFrame'>\n",
      "Index: 827820 entries, 0 to 1588936\n",
      "Data columns (total 72 columns):\n",
      " #   Column                    Non-Null Count   Dtype         \n",
      "---  ------                    --------------   -----         \n",
      " 0   CRASH_UNIT_ID             827820 non-null  int64         \n",
      " 1   CRASH_RECORD_ID           827820 non-null  object        \n",
      " 2   RD_NO                     818525 non-null  object        \n",
      " 3   CRASH_DATE                827820 non-null  datetime64[ns]\n",
      " 4   UNIT_NO                   827820 non-null  int64         \n",
      " 5   UNIT_TYPE                 826872 non-null  object        \n",
      " 6   NUM_PASSENGERS            120706 non-null  float64       \n",
      " 7   VEHICLE_ID                808925 non-null  float64       \n",
      " 8   CMRC_VEH_I                15797 non-null   object        \n",
      " 9   MAKE                      808920 non-null  object        \n",
      " 10  MODEL                     808785 non-null  object        \n",
      " 11  LIC_PLATE_STATE           726826 non-null  object        \n",
      " 12  VEHICLE_YEAR              676867 non-null  float64       \n",
      " 13  VEHICLE_DEFECT            808925 non-null  object        \n",
      " 14  VEHICLE_TYPE              808925 non-null  object        \n",
      " 15  VEHICLE_USE               808925 non-null  object        \n",
      " 16  TRAVEL_DIRECTION          808925 non-null  object        \n",
      " 17  MANEUVER                  808925 non-null  object        \n",
      " 18  TOWED_I                   119132 non-null  object        \n",
      " 19  FIRE_I                    856 non-null     object        \n",
      " 20  OCCUPANT_CNT              808925 non-null  float64       \n",
      " 21  EXCEED_SPEED_LIMIT_I      21 non-null      object        \n",
      " 22  TOWED_BY                  91465 non-null   object        \n",
      " 23  TOWED_TO                  54931 non-null   object        \n",
      " 24  AREA_00_I                 23144 non-null   object        \n",
      " 25  AREA_01_I                 227287 non-null  object        \n",
      " 26  AREA_02_I                 111388 non-null  object        \n",
      " 27  AREA_03_I                 78374 non-null   object        \n",
      " 28  AREA_04_I                 71167 non-null   object        \n",
      " 29  AREA_05_I                 116542 non-null  object        \n",
      " 30  AREA_06_I                 138280 non-null  object        \n",
      " 31  AREA_07_I                 137541 non-null  object        \n",
      " 32  AREA_08_I                 84436 non-null   object        \n",
      " 33  AREA_09_I                 86124 non-null   object        \n",
      " 34  AREA_10_I                 123821 non-null  object        \n",
      " 35  AREA_11_I                 240746 non-null  object        \n",
      " 36  AREA_12_I                 237382 non-null  object        \n",
      " 37  AREA_99_I                 101098 non-null  object        \n",
      " 38  FIRST_CONTACT_POINT       808736 non-null  object        \n",
      " 39  CMV_ID                    8198 non-null    float64       \n",
      " 40  USDOT_NO                  4469 non-null    object        \n",
      " 41  CCMC_NO                   919 non-null     object        \n",
      " 42  ILCC_NO                   578 non-null     object        \n",
      " 43  COMMERCIAL_SRC            4893 non-null    object        \n",
      " 44  GVWR                      4468 non-null    object        \n",
      " 45  CARRIER_NAME              7801 non-null    object        \n",
      " 46  CARRIER_STATE             7244 non-null    object        \n",
      " 47  CARRIER_CITY              7108 non-null    object        \n",
      " 48  HAZMAT_PLACARDS_I         155 non-null     object        \n",
      " 49  HAZMAT_NAME               26 non-null      object        \n",
      " 50  UN_NO                     254 non-null     object        \n",
      " 51  HAZMAT_PRESENT_I          5919 non-null    object        \n",
      " 52  HAZMAT_REPORT_I           5770 non-null    object        \n",
      " 53  HAZMAT_REPORT_NO          1 non-null       object        \n",
      " 54  MCS_REPORT_I              5773 non-null    object        \n",
      " 55  MCS_REPORT_NO             4 non-null       object        \n",
      " 56  HAZMAT_VIO_CAUSE_CRASH_I  5840 non-null    object        \n",
      " 57  MCS_VIO_CAUSE_CRASH_I     5722 non-null    object        \n",
      " 58  IDOT_PERMIT_NO            403 non-null     object        \n",
      " 59  WIDE_LOAD_I               73 non-null      object        \n",
      " 60  TRAILER1_WIDTH            1024 non-null    object        \n",
      " 61  TRAILER2_WIDTH            129 non-null     object        \n",
      " 62  TRAILER1_LENGTH           820 non-null     float64       \n",
      " 63  TRAILER2_LENGTH           25 non-null      float64       \n",
      " 64  TOTAL_VEHICLE_LENGTH      1018 non-null    float64       \n",
      " 65  AXLE_CNT                  1692 non-null    float64       \n",
      " 66  VEHICLE_CONFIG            6727 non-null    object        \n",
      " 67  CARGO_BODY_TYPE           6396 non-null    object        \n",
      " 68  LOAD_TYPE                 6095 non-null    object        \n",
      " 69  HAZMAT_OUT_OF_SERVICE_I   5597 non-null    object        \n",
      " 70  MCS_OUT_OF_SERVICE_I      5693 non-null    object        \n",
      " 71  HAZMAT_CLASS              501 non-null     object        \n",
      "dtypes: datetime64[ns](1), float64(9), int64(2), object(60)\n",
      "memory usage: 461.1+ MB\n"
     ]
    }
   ],
   "source": [
    "df_vehicles = df_vehicles[df_vehicles[\"CRASH_DATE\"].dt.year >= 2020]\n",
    "df_vehicles.info()"
   ]
  },
  {
   "cell_type": "code",
   "execution_count": 23,
   "metadata": {},
   "outputs": [],
   "source": [
    "df_vehicles = df_vehicles[\n",
    "    (df_vehicles[\"VEHICLE_TYPE\"] == \"PASSENGER\") |\n",
    "    (df_vehicles[\"VEHICLE_TYPE\"] == \"SPORT UTILITY VEHICLE (SUV)\") |\n",
    "    (df_vehicles[\"VEHICLE_TYPE\"] == \"VAN/MINI-VAN\")\n",
    "]"
   ]
  },
  {
   "cell_type": "code",
   "execution_count": 24,
   "metadata": {},
   "outputs": [
    {
     "name": "stdout",
     "output_type": "stream",
     "text": [
      "<class 'pandas.core.frame.DataFrame'>\n",
      "Index: 655416 entries, 0 to 1588936\n",
      "Data columns (total 72 columns):\n",
      " #   Column                    Non-Null Count   Dtype         \n",
      "---  ------                    --------------   -----         \n",
      " 0   CRASH_UNIT_ID             655416 non-null  int64         \n",
      " 1   CRASH_RECORD_ID           655416 non-null  object        \n",
      " 2   RD_NO                     648046 non-null  object        \n",
      " 3   CRASH_DATE                655416 non-null  datetime64[ns]\n",
      " 4   UNIT_NO                   655416 non-null  int64         \n",
      " 5   UNIT_TYPE                 655410 non-null  object        \n",
      " 6   NUM_PASSENGERS            108294 non-null  float64       \n",
      " 7   VEHICLE_ID                655416 non-null  float64       \n",
      " 8   CMRC_VEH_I                2771 non-null    object        \n",
      " 9   MAKE                      655411 non-null  object        \n",
      " 10  MODEL                     655295 non-null  object        \n",
      " 11  LIC_PLATE_STATE           614177 non-null  object        \n",
      " 12  VEHICLE_YEAR              594111 non-null  float64       \n",
      " 13  VEHICLE_DEFECT            655416 non-null  object        \n",
      " 14  VEHICLE_TYPE              655416 non-null  object        \n",
      " 15  VEHICLE_USE               655416 non-null  object        \n",
      " 16  TRAVEL_DIRECTION          655416 non-null  object        \n",
      " 17  MANEUVER                  655416 non-null  object        \n",
      " 18  TOWED_I                   110698 non-null  object        \n",
      " 19  FIRE_I                    677 non-null     object        \n",
      " 20  OCCUPANT_CNT              655416 non-null  float64       \n",
      " 21  EXCEED_SPEED_LIMIT_I      17 non-null      object        \n",
      " 22  TOWED_BY                  85186 non-null   object        \n",
      " 23  TOWED_TO                  51037 non-null   object        \n",
      " 24  AREA_00_I                 13788 non-null   object        \n",
      " 25  AREA_01_I                 200411 non-null  object        \n",
      " 26  AREA_02_I                 98092 non-null   object        \n",
      " 27  AREA_03_I                 68197 non-null   object        \n",
      " 28  AREA_04_I                 62123 non-null   object        \n",
      " 29  AREA_05_I                 102146 non-null  object        \n",
      " 30  AREA_06_I                 123643 non-null  object        \n",
      " 31  AREA_07_I                 121590 non-null  object        \n",
      " 32  AREA_08_I                 75418 non-null   object        \n",
      " 33  AREA_09_I                 76947 non-null   object        \n",
      " 34  AREA_10_I                 110842 non-null  object        \n",
      " 35  AREA_11_I                 215132 non-null  object        \n",
      " 36  AREA_12_I                 210783 non-null  object        \n",
      " 37  AREA_99_I                 50445 non-null   object        \n",
      " 38  FIRST_CONTACT_POINT       655283 non-null  object        \n",
      " 39  CMV_ID                    500 non-null     float64       \n",
      " 40  USDOT_NO                  62 non-null      object        \n",
      " 41  CCMC_NO                   14 non-null      object        \n",
      " 42  ILCC_NO                   9 non-null       object        \n",
      " 43  COMMERCIAL_SRC            160 non-null     object        \n",
      " 44  GVWR                      129 non-null     object        \n",
      " 45  CARRIER_NAME              479 non-null     object        \n",
      " 46  CARRIER_STATE             428 non-null     object        \n",
      " 47  CARRIER_CITY              421 non-null     object        \n",
      " 48  HAZMAT_PLACARDS_I         4 non-null       object        \n",
      " 49  HAZMAT_NAME               0 non-null       object        \n",
      " 50  UN_NO                     8 non-null       object        \n",
      " 51  HAZMAT_PRESENT_I          283 non-null     object        \n",
      " 52  HAZMAT_REPORT_I           278 non-null     object        \n",
      " 53  HAZMAT_REPORT_NO          0 non-null       object        \n",
      " 54  MCS_REPORT_I              276 non-null     object        \n",
      " 55  MCS_REPORT_NO             0 non-null       object        \n",
      " 56  HAZMAT_VIO_CAUSE_CRASH_I  279 non-null     object        \n",
      " 57  MCS_VIO_CAUSE_CRASH_I     275 non-null     object        \n",
      " 58  IDOT_PERMIT_NO            6 non-null       object        \n",
      " 59  WIDE_LOAD_I               2 non-null       object        \n",
      " 60  TRAILER1_WIDTH            4 non-null       object        \n",
      " 61  TRAILER2_WIDTH            1 non-null       object        \n",
      " 62  TRAILER1_LENGTH           2 non-null       float64       \n",
      " 63  TRAILER2_LENGTH           1 non-null       float64       \n",
      " 64  TOTAL_VEHICLE_LENGTH      11 non-null      float64       \n",
      " 65  AXLE_CNT                  34 non-null      float64       \n",
      " 66  VEHICLE_CONFIG            166 non-null     object        \n",
      " 67  CARGO_BODY_TYPE           226 non-null     object        \n",
      " 68  LOAD_TYPE                 214 non-null     object        \n",
      " 69  HAZMAT_OUT_OF_SERVICE_I   269 non-null     object        \n",
      " 70  MCS_OUT_OF_SERVICE_I      276 non-null     object        \n",
      " 71  HAZMAT_CLASS              26 non-null      object        \n",
      "dtypes: datetime64[ns](1), float64(9), int64(2), object(60)\n",
      "memory usage: 365.0+ MB\n"
     ]
    }
   ],
   "source": [
    "# sanity check\n",
    "df_vehicles.info()"
   ]
  },
  {
   "cell_type": "code",
   "execution_count": 25,
   "metadata": {},
   "outputs": [
    {
     "name": "stdout",
     "output_type": "stream",
     "text": [
      "<class 'pandas.core.frame.DataFrame'>\n",
      "Index: 60859 entries, 0 to 778844\n",
      "Data columns (total 49 columns):\n",
      " #   Column                         Non-Null Count  Dtype         \n",
      "---  ------                         --------------  -----         \n",
      " 0   CRASH_RECORD_ID                60859 non-null  object        \n",
      " 1   RD_NO                          60098 non-null  object        \n",
      " 2   CRASH_DATE_EST_I               3160 non-null   object        \n",
      " 3   CRASH_DATE                     60859 non-null  datetime64[ns]\n",
      " 4   POSTED_SPEED_LIMIT             60859 non-null  int64         \n",
      " 5   TRAFFIC_CONTROL_DEVICE         60859 non-null  object        \n",
      " 6   DEVICE_CONDITION               60859 non-null  object        \n",
      " 7   WEATHER_CONDITION              60859 non-null  object        \n",
      " 8   LIGHTING_CONDITION             60859 non-null  object        \n",
      " 9   FIRST_CRASH_TYPE               60859 non-null  object        \n",
      " 10  TRAFFICWAY_TYPE                60859 non-null  object        \n",
      " 11  LANE_CNT                       10 non-null     float64       \n",
      " 12  ALIGNMENT                      60859 non-null  object        \n",
      " 13  ROADWAY_SURFACE_COND           60859 non-null  object        \n",
      " 14  ROAD_DEFECT                    60859 non-null  object        \n",
      " 15  REPORT_TYPE                    57069 non-null  object        \n",
      " 16  CRASH_TYPE                     60859 non-null  object        \n",
      " 17  INTERSECTION_RELATED_I         26187 non-null  object        \n",
      " 18  NOT_RIGHT_OF_WAY_I             1827 non-null   object        \n",
      " 19  HIT_AND_RUN_I                  15240 non-null  object        \n",
      " 20  DAMAGE                         60859 non-null  object        \n",
      " 21  DATE_POLICE_NOTIFIED           60859 non-null  object        \n",
      " 22  PRIM_CONTRIBUTORY_CAUSE        60859 non-null  object        \n",
      " 23  SEC_CONTRIBUTORY_CAUSE         60859 non-null  object        \n",
      " 24  STREET_NO                      60859 non-null  int64         \n",
      " 25  STREET_DIRECTION               60859 non-null  object        \n",
      " 26  STREET_NAME                    60859 non-null  object        \n",
      " 27  BEAT_OF_OCCURRENCE             60859 non-null  float64       \n",
      " 28  PHOTOS_TAKEN_I                 1095 non-null   object        \n",
      " 29  STATEMENTS_TAKEN_I             2943 non-null   object        \n",
      " 30  DOORING_I                      784 non-null    object        \n",
      " 31  WORK_ZONE_I                    359 non-null    object        \n",
      " 32  WORK_ZONE_TYPE                 263 non-null    object        \n",
      " 33  WORKERS_PRESENT_I              93 non-null     object        \n",
      " 34  NUM_UNITS                      60859 non-null  int64         \n",
      " 35  MOST_SEVERE_INJURY             60859 non-null  object        \n",
      " 36  INJURIES_TOTAL                 60859 non-null  float64       \n",
      " 37  INJURIES_FATAL                 60859 non-null  float64       \n",
      " 38  INJURIES_INCAPACITATING        60859 non-null  float64       \n",
      " 39  INJURIES_NON_INCAPACITATING    60859 non-null  float64       \n",
      " 40  INJURIES_REPORTED_NOT_EVIDENT  60859 non-null  float64       \n",
      " 41  INJURIES_NO_INDICATION         60859 non-null  float64       \n",
      " 42  INJURIES_UNKNOWN               60859 non-null  float64       \n",
      " 43  CRASH_HOUR                     60859 non-null  int64         \n",
      " 44  CRASH_DAY_OF_WEEK              60859 non-null  int64         \n",
      " 45  CRASH_MONTH                    60859 non-null  int64         \n",
      " 46  LATITUDE                       60449 non-null  float64       \n",
      " 47  LONGITUDE                      60449 non-null  float64       \n",
      " 48  LOCATION                       60449 non-null  object        \n",
      "dtypes: datetime64[ns](1), float64(11), int64(6), object(31)\n",
      "memory usage: 23.2+ MB\n"
     ]
    }
   ],
   "source": [
    "# Filter for total injuries column\n",
    "df_crashes = df_crashes[df_crashes[\"INJURIES_TOTAL\"] > 0]\n",
    "df_crashes.info()"
   ]
  },
  {
   "cell_type": "code",
   "execution_count": 26,
   "metadata": {},
   "outputs": [
    {
     "name": "stdout",
     "output_type": "stream",
     "text": [
      "<class 'pandas.core.frame.DataFrame'>\n",
      "RangeIndex: 305598 entries, 0 to 305597\n",
      "Columns: 149 entries, CRASH_RECORD_ID to CELL_PHONE_USE\n",
      "dtypes: datetime64[ns](3), float64(24), int64(8), object(114)\n",
      "memory usage: 347.4+ MB\n"
     ]
    }
   ],
   "source": [
    "# Merge Datasets\n",
    "df_joined = pd.merge(df_crashes, pd.merge(df_vehicles, df_people, on=\"CRASH_RECORD_ID\"), on=\"CRASH_RECORD_ID\")\n",
    "df_joined.info()"
   ]
  },
  {
   "cell_type": "code",
   "execution_count": 27,
   "metadata": {},
   "outputs": [],
   "source": [
    "# Dropping columns\n",
    "\n",
    "columns_to_drop_crashes = ['RD_NO', 'CRASH_DATE_EST_I', 'LANE_CNT', 'REPORT_TYPE', 'INTERSECTION_RELATED_I', 'NOT_RIGHT_OF_WAY_I', 'HIT_AND_RUN_I', 'DATE_POLICE_NOTIFIED',\n",
    "                           'SEC_CONTRIBUTORY_CAUSE', 'STREET_NO', 'STREET_DIRECTION', 'STREET_NAME', 'BEAT_OF_OCCURRENCE', 'PHOTOS_TAKEN_I', 'STATEMENTS_TAKEN_I', 'DOORING_I',\n",
    "                           'WORK_ZONE_I', 'WORK_ZONE_TYPE', 'WORKERS_PRESENT_I', 'INJURIES_FATAL', 'INJURIES_INCAPACITATING', 'INJURIES_NON_INCAPACITATING',\n",
    "                           'INJURIES_REPORTED_NOT_EVIDENT','INJURIES_NO_INDICATION', 'INJURIES_UNKNOWN', 'LATITUDE', 'LONGITUDE', 'LOCATION'\n",
    "                           ]\n",
    "\n",
    "columns_to_drop_vehicles = ['RD_NO', 'CRASH_DATE', 'CRASH_UNIT_ID', 'UNIT_NO', 'UNIT_TYPE', 'NUM_PASSENGERS', 'VEHICLE_ID', 'CMRC_VEH_I', 'MAKE', 'MODEL', 'VEHICLE_YEAR',\n",
    "                            'VEHICLE_DEFECT','VEHICLE_USE', 'TRAVEL_DIRECTION', 'TOWED_I', 'FIRE_I', 'OCCUPANT_CNT', 'EXCEED_SPEED_LIMIT_I', 'TOWED_BY', 'TOWED_TO',\n",
    "                            'AREA_00_I', 'AREA_01_I', 'AREA_02_I', 'AREA_03_I', 'AREA_04_I', 'AREA_05_I', 'AREA_06_I', 'AREA_07_I', 'AREA_08_I', 'AREA_09_I',\n",
    "                            'AREA_10_I', 'AREA_11_I', 'AREA_12_I', 'AREA_99_I',  'CMV_ID', 'USDOT_NO', 'CCMC_NO', 'ILCC_NO', 'COMMERCIAL_SRC',\n",
    "                            'GVWR', 'CARRIER_NAME', 'CARRIER_STATE', 'CARRIER_CITY', 'HAZMAT_PLACARDS_I', 'HAZMAT_NAME','UN_NO', 'HAZMAT_PRESENT_I',\n",
    "                            'HAZMAT_REPORT_I', 'HAZMAT_REPORT_NO', 'MCS_REPORT_I', 'MCS_REPORT_NO', 'HAZMAT_VIO_CAUSE_CRASH_I', 'MCS_VIO_CAUSE_CRASH_I', 'IDOT_PERMIT_NO',\n",
    "                            'WIDE_LOAD_I', 'TRAILER1_WIDTH', 'TRAILER2_WIDTH', 'TRAILER1_LENGTH', 'TRAILER2_LENGTH', 'TOTAL_VEHICLE_LENGTH', 'AXLE_CNT', 'VEHICLE_CONFIG', 'CARGO_BODY_TYPE',\n",
    "                            'LOAD_TYPE', 'HAZMAT_OUT_OF_SERVICE_I', 'MCS_OUT_OF_SERVICE_I', 'HAZMAT_CLASS'\n",
    "                            ]\n",
    "\n",
    "columns_to_drop_people = ['RD_NO', 'CRASH_DATE', 'VEHICLE_ID', 'PERSON_ID', 'SEAT_NO', 'CITY', 'STATE', 'ZIPCODE', 'DRIVERS_LICENSE_STATE', 'DRIVERS_LICENSE_CLASS', 'EJECTION',\n",
    "                          'HOSPITAL', 'EMS_AGENCY', 'EMS_RUN_NO', 'BAC_RESULT VALUE', 'PEDPEDAL_ACTION', 'PEDPEDAL_VISIBILITY', 'PEDPEDAL_LOCATION', 'CELL_PHONE_USE', 'INJURY_CLASSIFICATION'\n",
    "                          ]\n",
    "\n",
    "df_crashes = df_crashes.drop(columns_to_drop_crashes, axis=1)\n",
    "df_vehicles = df_vehicles.drop(columns_to_drop_vehicles, axis=1)\n",
    "df_people = df_people.drop(columns_to_drop_people, axis=1)"
   ]
  },
  {
   "cell_type": "code",
   "execution_count": 28,
   "metadata": {},
   "outputs": [],
   "source": [
    "# joining all dataframes into master df\n",
    "master_df = pd.merge(df_crashes, pd.merge(df_vehicles, df_people, on=\"CRASH_RECORD_ID\"), on=\"CRASH_RECORD_ID\")"
   ]
  },
  {
   "cell_type": "code",
   "execution_count": 29,
   "metadata": {},
   "outputs": [
    {
     "name": "stdout",
     "output_type": "stream",
     "text": [
      "<class 'pandas.core.frame.DataFrame'>\n",
      "RangeIndex: 305598 entries, 0 to 305597\n",
      "Data columns (total 34 columns):\n",
      " #   Column                   Non-Null Count   Dtype         \n",
      "---  ------                   --------------   -----         \n",
      " 0   CRASH_RECORD_ID          305598 non-null  object        \n",
      " 1   CRASH_DATE               305598 non-null  datetime64[ns]\n",
      " 2   POSTED_SPEED_LIMIT       305598 non-null  int64         \n",
      " 3   TRAFFIC_CONTROL_DEVICE   305598 non-null  object        \n",
      " 4   DEVICE_CONDITION         305598 non-null  object        \n",
      " 5   WEATHER_CONDITION        305598 non-null  object        \n",
      " 6   LIGHTING_CONDITION       305598 non-null  object        \n",
      " 7   FIRST_CRASH_TYPE         305598 non-null  object        \n",
      " 8   TRAFFICWAY_TYPE          305598 non-null  object        \n",
      " 9   ALIGNMENT                305598 non-null  object        \n",
      " 10  ROADWAY_SURFACE_COND     305598 non-null  object        \n",
      " 11  ROAD_DEFECT              305598 non-null  object        \n",
      " 12  CRASH_TYPE               305598 non-null  object        \n",
      " 13  DAMAGE                   305598 non-null  object        \n",
      " 14  PRIM_CONTRIBUTORY_CAUSE  305598 non-null  object        \n",
      " 15  NUM_UNITS                305598 non-null  int64         \n",
      " 16  MOST_SEVERE_INJURY       305598 non-null  object        \n",
      " 17  INJURIES_TOTAL           305598 non-null  float64       \n",
      " 18  CRASH_HOUR               305598 non-null  int64         \n",
      " 19  CRASH_DAY_OF_WEEK        305598 non-null  int64         \n",
      " 20  CRASH_MONTH              305598 non-null  int64         \n",
      " 21  LIC_PLATE_STATE          293368 non-null  object        \n",
      " 22  VEHICLE_TYPE             305598 non-null  object        \n",
      " 23  MANEUVER                 305598 non-null  object        \n",
      " 24  FIRST_CONTACT_POINT      305512 non-null  object        \n",
      " 25  PERSON_TYPE              305598 non-null  object        \n",
      " 26  SEX                      298205 non-null  object        \n",
      " 27  AGE                      251649 non-null  float64       \n",
      " 28  SAFETY_EQUIPMENT         303965 non-null  object        \n",
      " 29  AIRBAG_DEPLOYED          293688 non-null  object        \n",
      " 30  DRIVER_ACTION            209120 non-null  object        \n",
      " 31  DRIVER_VISION            208933 non-null  object        \n",
      " 32  PHYSICAL_CONDITION       209510 non-null  object        \n",
      " 33  BAC_RESULT               209238 non-null  object        \n",
      "dtypes: datetime64[ns](1), float64(2), int64(5), object(26)\n",
      "memory usage: 79.3+ MB\n"
     ]
    }
   ],
   "source": [
    "# Sanity Check\n",
    "master_df.info()"
   ]
  },
  {
   "cell_type": "code",
   "execution_count": null,
   "metadata": {},
   "outputs": [],
   "source": [
    "master_df[\"CRASH_DATE\"] = pd.to_datetime(master_df[\"CRASH_DATE\"])\n",
    "master_df[\"CRASH_YEAR\"] = master_df[\"CRASH_DATE\"].dt.year\n",
    "year_counts = master_df[\"CRASH_YEAR\"].value_counts()\n",
    "print(year_counts)"
   ]
  },
  {
   "cell_type": "code",
   "execution_count": 14,
   "metadata": {},
   "outputs": [
    {
     "data": {
      "text/plain": [
       "CRASH_RECORD_ID                       0\n",
       "RD_NO                              3652\n",
       "CRASH_DATE_EST_I                 291257\n",
       "CRASH_DATE                            0\n",
       "POSTED_SPEED_LIMIT                    0\n",
       "TRAFFIC_CONTROL_DEVICE                0\n",
       "DEVICE_CONDITION                      0\n",
       "WEATHER_CONDITION                     0\n",
       "LIGHTING_CONDITION                    0\n",
       "FIRST_CRASH_TYPE                      0\n",
       "TRAFFICWAY_TYPE                       0\n",
       "LANE_CNT                         305538\n",
       "ALIGNMENT                             0\n",
       "ROADWAY_SURFACE_COND                  0\n",
       "ROAD_DEFECT                           0\n",
       "REPORT_TYPE                       28512\n",
       "CRASH_TYPE                            0\n",
       "INTERSECTION_RELATED_I           161198\n",
       "NOT_RIGHT_OF_WAY_I               297834\n",
       "HIT_AND_RUN_I                    234842\n",
       "DAMAGE                                0\n",
       "DATE_POLICE_NOTIFIED                  0\n",
       "PRIM_CONTRIBUTORY_CAUSE               0\n",
       "SEC_CONTRIBUTORY_CAUSE                0\n",
       "STREET_NO                             0\n",
       "STREET_DIRECTION                      0\n",
       "STREET_NAME                           0\n",
       "BEAT_OF_OCCURRENCE                    0\n",
       "PHOTOS_TAKEN_I                   299305\n",
       "STATEMENTS_TAKEN_I               289056\n",
       "DOORING_I                        303924\n",
       "WORK_ZONE_I                      303977\n",
       "WORK_ZONE_TYPE                   304505\n",
       "WORKERS_PRESENT_I                305284\n",
       "NUM_UNITS                             0\n",
       "MOST_SEVERE_INJURY                    0\n",
       "INJURIES_TOTAL                        0\n",
       "INJURIES_FATAL                        0\n",
       "INJURIES_INCAPACITATING               0\n",
       "INJURIES_NON_INCAPACITATING           0\n",
       "INJURIES_REPORTED_NOT_EVIDENT         0\n",
       "INJURIES_NO_INDICATION                0\n",
       "INJURIES_UNKNOWN                      0\n",
       "CRASH_HOUR                            0\n",
       "CRASH_DAY_OF_WEEK                     0\n",
       "CRASH_MONTH                           0\n",
       "LATITUDE                           1904\n",
       "LONGITUDE                          1904\n",
       "LOCATION                           1904\n",
       "CRASH_UNIT_ID                         0\n",
       "RD_NO_x                            3652\n",
       "CRASH_DATE_x                          0\n",
       "UNIT_NO                               0\n",
       "UNIT_TYPE                             2\n",
       "NUM_PASSENGERS                   183730\n",
       "VEHICLE_ID_x                          0\n",
       "CMRC_VEH_I                       304017\n",
       "MAKE                                  0\n",
       "MODEL                                83\n",
       "LIC_PLATE_STATE                   12230\n",
       "VEHICLE_YEAR                      21476\n",
       "VEHICLE_DEFECT                        0\n",
       "VEHICLE_TYPE                          0\n",
       "VEHICLE_USE                           0\n",
       "TRAVEL_DIRECTION                      0\n",
       "MANEUVER                              0\n",
       "TOWED_I                          181109\n",
       "FIRE_I                           304480\n",
       "OCCUPANT_CNT                          0\n",
       "EXCEED_SPEED_LIMIT_I             305584\n",
       "TOWED_BY                         206692\n",
       "TOWED_TO                         244845\n",
       "AREA_00_I                        297076\n",
       "AREA_01_I                        169193\n",
       "AREA_02_I                        243935\n",
       "AREA_03_I                        266904\n",
       "AREA_04_I                        271514\n",
       "AREA_05_I                        250580\n",
       "AREA_06_I                        242853\n",
       "AREA_07_I                        246380\n",
       "AREA_08_I                        267018\n",
       "AREA_09_I                        262907\n",
       "AREA_10_I                        236761\n",
       "AREA_11_I                        161877\n",
       "AREA_12_I                        149986\n",
       "AREA_99_I                        285707\n",
       "FIRST_CONTACT_POINT                  86\n",
       "CMV_ID                           305407\n",
       "USDOT_NO                         305566\n",
       "CCMC_NO                          305596\n",
       "ILCC_NO                          305595\n",
       "COMMERCIAL_SRC                   305529\n",
       "GVWR                             305550\n",
       "CARRIER_NAME                     305418\n",
       "CARRIER_STATE                    305434\n",
       "CARRIER_CITY                     305441\n",
       "HAZMAT_PLACARDS_I                305598\n",
       "HAZMAT_NAME                      305598\n",
       "UN_NO                            305598\n",
       "HAZMAT_PRESENT_I                 305463\n",
       "HAZMAT_REPORT_I                  305468\n",
       "HAZMAT_REPORT_NO                 305598\n",
       "MCS_REPORT_I                     305468\n",
       "MCS_REPORT_NO                    305598\n",
       "HAZMAT_VIO_CAUSE_CRASH_I         305468\n",
       "MCS_VIO_CAUSE_CRASH_I            305468\n",
       "IDOT_PERMIT_NO                   305598\n",
       "WIDE_LOAD_I                      305598\n",
       "TRAILER1_WIDTH                   305598\n",
       "TRAILER2_WIDTH                   305598\n",
       "TRAILER1_LENGTH                  305598\n",
       "TRAILER2_LENGTH                  305598\n",
       "TOTAL_VEHICLE_LENGTH             305596\n",
       "AXLE_CNT                         305587\n",
       "VEHICLE_CONFIG                   305531\n",
       "CARGO_BODY_TYPE                  305514\n",
       "LOAD_TYPE                        305532\n",
       "HAZMAT_OUT_OF_SERVICE_I          305476\n",
       "MCS_OUT_OF_SERVICE_I             305466\n",
       "HAZMAT_CLASS                     305598\n",
       "PERSON_ID                             0\n",
       "PERSON_TYPE                           0\n",
       "RD_NO_y                            3652\n",
       "VEHICLE_ID_y                      12115\n",
       "CRASH_DATE_y                          0\n",
       "SEAT_NO                          210197\n",
       "CITY                              58187\n",
       "STATE                             51453\n",
       "ZIPCODE                           78352\n",
       "SEX                                7393\n",
       "AGE                               53949\n",
       "DRIVERS_LICENSE_STATE            139652\n",
       "DRIVERS_LICENSE_CLASS            167343\n",
       "SAFETY_EQUIPMENT                   1633\n",
       "AIRBAG_DEPLOYED                   11910\n",
       "EJECTION                           8041\n",
       "INJURY_CLASSIFICATION                65\n",
       "HOSPITAL                         185447\n",
       "EMS_AGENCY                       208612\n",
       "EMS_RUN_NO                       285400\n",
       "DRIVER_ACTION                     96478\n",
       "DRIVER_VISION                     96665\n",
       "PHYSICAL_CONDITION                96088\n",
       "PEDPEDAL_ACTION                  293663\n",
       "PEDPEDAL_VISIBILITY              293669\n",
       "PEDPEDAL_LOCATION                293664\n",
       "BAC_RESULT                        96360\n",
       "BAC_RESULT VALUE                 305022\n",
       "CELL_PHONE_USE                   305598\n",
       "dtype: int64"
      ]
     },
     "execution_count": 14,
     "metadata": {},
     "output_type": "execute_result"
    }
   ],
   "source": [
    "pd.set_option('display.max_rows', None)\n",
    "df_joined.isna().sum()"
   ]
  },
  {
   "cell_type": "markdown",
   "metadata": {},
   "source": [
    "# Missing Values"
   ]
  },
  {
   "cell_type": "code",
   "execution_count": null,
   "metadata": {},
   "outputs": [],
   "source": [
    "Safety_equipment\n",
    "Airbag_deployed\n",
    "injury_classification \n"
   ]
  },
  {
   "cell_type": "code",
   "execution_count": 69,
   "metadata": {},
   "outputs": [
    {
     "data": {
      "text/plain": [
       "DRIVER_VISION\n",
       "NOT OBSCURED              105839\n",
       "NaN                        96665\n",
       "UNKNOWN                    96639\n",
       "OTHER                       2541\n",
       "MOVING VEHICLES             1713\n",
       "PARKED VEHICLES              927\n",
       "WINDSHIELD (WATER/ICE)       559\n",
       "BLINDED - SUNLIGHT           427\n",
       "TREES, PLANTS                 90\n",
       "BUILDINGS                     79\n",
       "BLINDED - HEADLIGHTS          43\n",
       "BLOWING MATERIALS             24\n",
       "HILLCREST                     22\n",
       "EMBANKMENT                    20\n",
       "SIGNBOARD                     10\n",
       "Name: count, dtype: int64"
      ]
     },
     "execution_count": 69,
     "metadata": {},
     "output_type": "execute_result"
    }
   ],
   "source": [
    "df_joined[\"DRIVER_VISION\"].value_counts(dropna=False)"
   ]
  },
  {
   "cell_type": "markdown",
   "metadata": {},
   "source": [
    "**Injury_classification**\n",
    "\n",
    "injuries_total = Total persons sustaining fatal, incapacitating, non-incapacitating, and possible injuries as determined by the reporting officer\n",
    "\n",
    "Injury severity = Severity of injury person sustained in the crash\n",
    "The missing values 65 are a small percentage. Since it's not significant, we could drop or Could replace it with Mode"
   ]
  },
  {
   "cell_type": "code",
   "execution_count": 48,
   "metadata": {},
   "outputs": [
    {
     "data": {
      "text/plain": [
       "INJURY_CLASSIFICATION\n",
       "NO INDICATION OF INJURY     156072\n",
       "NONINCAPACITATING INJURY     85784\n",
       "REPORTED, NOT EVIDENT        48512\n",
       "INCAPACITATING INJURY        14282\n",
       "FATAL                          883\n",
       "NaN                             65\n",
       "Name: count, dtype: int64"
      ]
     },
     "execution_count": 48,
     "metadata": {},
     "output_type": "execute_result"
    }
   ],
   "source": [
    "# Injuries total reports total injuries \n",
    "df_joined[\"INJURY_CLASSIFICATION\"].value_counts(dropna=False)"
   ]
  },
  {
   "cell_type": "code",
   "execution_count": 57,
   "metadata": {},
   "outputs": [
    {
     "data": {
      "text/html": [
       "<div>\n",
       "<style scoped>\n",
       "    .dataframe tbody tr th:only-of-type {\n",
       "        vertical-align: middle;\n",
       "    }\n",
       "\n",
       "    .dataframe tbody tr th {\n",
       "        vertical-align: top;\n",
       "    }\n",
       "\n",
       "    .dataframe thead th {\n",
       "        text-align: right;\n",
       "    }\n",
       "</style>\n",
       "<table border=\"1\" class=\"dataframe\">\n",
       "  <thead>\n",
       "    <tr style=\"text-align: right;\">\n",
       "      <th></th>\n",
       "      <th>CRASH_RECORD_ID</th>\n",
       "      <th>CRASH_DATE</th>\n",
       "      <th>POSTED_SPEED_LIMIT</th>\n",
       "      <th>TRAFFIC_CONTROL_DEVICE</th>\n",
       "      <th>DEVICE_CONDITION</th>\n",
       "      <th>WEATHER_CONDITION</th>\n",
       "      <th>LIGHTING_CONDITION</th>\n",
       "      <th>FIRST_CRASH_TYPE</th>\n",
       "      <th>TRAFFICWAY_TYPE</th>\n",
       "      <th>ALIGNMENT</th>\n",
       "      <th>...</th>\n",
       "      <th>PERSON_TYPE</th>\n",
       "      <th>SEX</th>\n",
       "      <th>AGE</th>\n",
       "      <th>SAFETY_EQUIPMENT</th>\n",
       "      <th>AIRBAG_DEPLOYED</th>\n",
       "      <th>INJURY_CLASSIFICATION</th>\n",
       "      <th>DRIVER_ACTION</th>\n",
       "      <th>DRIVER_VISION</th>\n",
       "      <th>PHYSICAL_CONDITION</th>\n",
       "      <th>BAC_RESULT</th>\n",
       "    </tr>\n",
       "  </thead>\n",
       "  <tbody>\n",
       "    <tr>\n",
       "      <th>1735</th>\n",
       "      <td>3ee40633f80b551a782da504d4f4e2a7461d4eb21d37ec...</td>\n",
       "      <td>2020-05-02 21:09:00</td>\n",
       "      <td>30</td>\n",
       "      <td>TRAFFIC SIGNAL</td>\n",
       "      <td>FUNCTIONING PROPERLY</td>\n",
       "      <td>CLEAR</td>\n",
       "      <td>DARKNESS, LIGHTED ROAD</td>\n",
       "      <td>HEAD ON</td>\n",
       "      <td>NOT DIVIDED</td>\n",
       "      <td>STRAIGHT AND LEVEL</td>\n",
       "      <td>...</td>\n",
       "      <td>PASSENGER</td>\n",
       "      <td>NaN</td>\n",
       "      <td>NaN</td>\n",
       "      <td>NaN</td>\n",
       "      <td>NaN</td>\n",
       "      <td>NaN</td>\n",
       "      <td>NaN</td>\n",
       "      <td>NaN</td>\n",
       "      <td>NaN</td>\n",
       "      <td>NaN</td>\n",
       "    </tr>\n",
       "    <tr>\n",
       "      <th>1741</th>\n",
       "      <td>3ee40633f80b551a782da504d4f4e2a7461d4eb21d37ec...</td>\n",
       "      <td>2020-05-02 21:09:00</td>\n",
       "      <td>30</td>\n",
       "      <td>TRAFFIC SIGNAL</td>\n",
       "      <td>FUNCTIONING PROPERLY</td>\n",
       "      <td>CLEAR</td>\n",
       "      <td>DARKNESS, LIGHTED ROAD</td>\n",
       "      <td>HEAD ON</td>\n",
       "      <td>NOT DIVIDED</td>\n",
       "      <td>STRAIGHT AND LEVEL</td>\n",
       "      <td>...</td>\n",
       "      <td>PASSENGER</td>\n",
       "      <td>NaN</td>\n",
       "      <td>NaN</td>\n",
       "      <td>NaN</td>\n",
       "      <td>NaN</td>\n",
       "      <td>NaN</td>\n",
       "      <td>NaN</td>\n",
       "      <td>NaN</td>\n",
       "      <td>NaN</td>\n",
       "      <td>NaN</td>\n",
       "    </tr>\n",
       "    <tr>\n",
       "      <th>8624</th>\n",
       "      <td>02b4fb68fea47d460d68d0d2351900d400f512d6bb044a...</td>\n",
       "      <td>2020-07-12 00:20:00</td>\n",
       "      <td>25</td>\n",
       "      <td>STOP SIGN/FLASHER</td>\n",
       "      <td>NO CONTROLS</td>\n",
       "      <td>CLEAR</td>\n",
       "      <td>DARKNESS</td>\n",
       "      <td>PARKED MOTOR VEHICLE</td>\n",
       "      <td>ONE-WAY</td>\n",
       "      <td>STRAIGHT AND LEVEL</td>\n",
       "      <td>...</td>\n",
       "      <td>PASSENGER</td>\n",
       "      <td>NaN</td>\n",
       "      <td>NaN</td>\n",
       "      <td>NaN</td>\n",
       "      <td>NaN</td>\n",
       "      <td>NaN</td>\n",
       "      <td>NaN</td>\n",
       "      <td>NaN</td>\n",
       "      <td>NaN</td>\n",
       "      <td>NaN</td>\n",
       "    </tr>\n",
       "    <tr>\n",
       "      <th>9677</th>\n",
       "      <td>03bba5bf5967ed0aba9b197af4c3b4db9f05fc4842709a...</td>\n",
       "      <td>2022-09-21 08:40:00</td>\n",
       "      <td>30</td>\n",
       "      <td>TRAFFIC SIGNAL</td>\n",
       "      <td>FUNCTIONING PROPERLY</td>\n",
       "      <td>CLEAR</td>\n",
       "      <td>DAYLIGHT</td>\n",
       "      <td>REAR END</td>\n",
       "      <td>DIVIDED - W/MEDIAN (NOT RAISED)</td>\n",
       "      <td>STRAIGHT AND LEVEL</td>\n",
       "      <td>...</td>\n",
       "      <td>PASSENGER</td>\n",
       "      <td>NaN</td>\n",
       "      <td>NaN</td>\n",
       "      <td>NaN</td>\n",
       "      <td>NaN</td>\n",
       "      <td>NaN</td>\n",
       "      <td>NaN</td>\n",
       "      <td>NaN</td>\n",
       "      <td>NaN</td>\n",
       "      <td>NaN</td>\n",
       "    </tr>\n",
       "    <tr>\n",
       "      <th>9681</th>\n",
       "      <td>03bba5bf5967ed0aba9b197af4c3b4db9f05fc4842709a...</td>\n",
       "      <td>2022-09-21 08:40:00</td>\n",
       "      <td>30</td>\n",
       "      <td>TRAFFIC SIGNAL</td>\n",
       "      <td>FUNCTIONING PROPERLY</td>\n",
       "      <td>CLEAR</td>\n",
       "      <td>DAYLIGHT</td>\n",
       "      <td>REAR END</td>\n",
       "      <td>DIVIDED - W/MEDIAN (NOT RAISED)</td>\n",
       "      <td>STRAIGHT AND LEVEL</td>\n",
       "      <td>...</td>\n",
       "      <td>PASSENGER</td>\n",
       "      <td>NaN</td>\n",
       "      <td>NaN</td>\n",
       "      <td>NaN</td>\n",
       "      <td>NaN</td>\n",
       "      <td>NaN</td>\n",
       "      <td>NaN</td>\n",
       "      <td>NaN</td>\n",
       "      <td>NaN</td>\n",
       "      <td>NaN</td>\n",
       "    </tr>\n",
       "  </tbody>\n",
       "</table>\n",
       "<p>5 rows × 36 columns</p>\n",
       "</div>"
      ],
      "text/plain": [
       "                                        CRASH_RECORD_ID          CRASH_DATE  \\\n",
       "1735  3ee40633f80b551a782da504d4f4e2a7461d4eb21d37ec... 2020-05-02 21:09:00   \n",
       "1741  3ee40633f80b551a782da504d4f4e2a7461d4eb21d37ec... 2020-05-02 21:09:00   \n",
       "8624  02b4fb68fea47d460d68d0d2351900d400f512d6bb044a... 2020-07-12 00:20:00   \n",
       "9677  03bba5bf5967ed0aba9b197af4c3b4db9f05fc4842709a... 2022-09-21 08:40:00   \n",
       "9681  03bba5bf5967ed0aba9b197af4c3b4db9f05fc4842709a... 2022-09-21 08:40:00   \n",
       "\n",
       "      POSTED_SPEED_LIMIT TRAFFIC_CONTROL_DEVICE      DEVICE_CONDITION  \\\n",
       "1735                  30         TRAFFIC SIGNAL  FUNCTIONING PROPERLY   \n",
       "1741                  30         TRAFFIC SIGNAL  FUNCTIONING PROPERLY   \n",
       "8624                  25      STOP SIGN/FLASHER           NO CONTROLS   \n",
       "9677                  30         TRAFFIC SIGNAL  FUNCTIONING PROPERLY   \n",
       "9681                  30         TRAFFIC SIGNAL  FUNCTIONING PROPERLY   \n",
       "\n",
       "     WEATHER_CONDITION      LIGHTING_CONDITION      FIRST_CRASH_TYPE  \\\n",
       "1735             CLEAR  DARKNESS, LIGHTED ROAD               HEAD ON   \n",
       "1741             CLEAR  DARKNESS, LIGHTED ROAD               HEAD ON   \n",
       "8624             CLEAR                DARKNESS  PARKED MOTOR VEHICLE   \n",
       "9677             CLEAR                DAYLIGHT              REAR END   \n",
       "9681             CLEAR                DAYLIGHT              REAR END   \n",
       "\n",
       "                      TRAFFICWAY_TYPE           ALIGNMENT  ... PERSON_TYPE  \\\n",
       "1735                      NOT DIVIDED  STRAIGHT AND LEVEL  ...   PASSENGER   \n",
       "1741                      NOT DIVIDED  STRAIGHT AND LEVEL  ...   PASSENGER   \n",
       "8624                          ONE-WAY  STRAIGHT AND LEVEL  ...   PASSENGER   \n",
       "9677  DIVIDED - W/MEDIAN (NOT RAISED)  STRAIGHT AND LEVEL  ...   PASSENGER   \n",
       "9681  DIVIDED - W/MEDIAN (NOT RAISED)  STRAIGHT AND LEVEL  ...   PASSENGER   \n",
       "\n",
       "      SEX AGE SAFETY_EQUIPMENT AIRBAG_DEPLOYED  INJURY_CLASSIFICATION  \\\n",
       "1735  NaN NaN              NaN             NaN                    NaN   \n",
       "1741  NaN NaN              NaN             NaN                    NaN   \n",
       "8624  NaN NaN              NaN             NaN                    NaN   \n",
       "9677  NaN NaN              NaN             NaN                    NaN   \n",
       "9681  NaN NaN              NaN             NaN                    NaN   \n",
       "\n",
       "      DRIVER_ACTION DRIVER_VISION  PHYSICAL_CONDITION  BAC_RESULT  \n",
       "1735            NaN           NaN                 NaN         NaN  \n",
       "1741            NaN           NaN                 NaN         NaN  \n",
       "8624            NaN           NaN                 NaN         NaN  \n",
       "9677            NaN           NaN                 NaN         NaN  \n",
       "9681            NaN           NaN                 NaN         NaN  \n",
       "\n",
       "[5 rows x 36 columns]"
      ]
     },
     "execution_count": 57,
     "metadata": {},
     "output_type": "execute_result"
    }
   ],
   "source": [
    "nan_rows = df_joined[df_joined[\"INJURY_CLASSIFICATION\"].isna()]\n",
    "nan_rows.head()"
   ]
  },
  {
   "cell_type": "code",
   "execution_count": 54,
   "metadata": {},
   "outputs": [
    {
     "data": {
      "text/plain": [
       "'NO INDICATION OF INJURY'"
      ]
     },
     "execution_count": 54,
     "metadata": {},
     "output_type": "execute_result"
    }
   ],
   "source": [
    "mode_value = df_joined[\"INJURY_CLASSIFICATION\"].mode()[0]\n",
    "mode_value \n",
    "# df_joined[\"INJURY_CLASSIFICATION\"].fillna(mode_value, inplace=True)"
   ]
  },
  {
   "cell_type": "code",
   "execution_count": 67,
   "metadata": {},
   "outputs": [
    {
     "name": "stdout",
     "output_type": "stream",
     "text": [
      "Percentages\n",
      "INJURY_CLASSIFICATION\n",
      "NO INDICATION OF INJURY     0.510710\n",
      "NONINCAPACITATING INJURY    0.280709\n",
      "REPORTED, NOT EVIDENT       0.158744\n",
      "INCAPACITATING INJURY       0.046735\n",
      "FATAL                       0.002889\n",
      "NaN                         0.000213\n",
      "Name: proportion, dtype: float64\n"
     ]
    }
   ],
   "source": [
    "print(\"Percentages\")\n",
    "print(df_joined[\"INJURY_CLASSIFICATION\"].value_counts(normalize=True, dropna=False))"
   ]
  },
  {
   "cell_type": "code",
   "execution_count": 63,
   "metadata": {},
   "outputs": [
    {
     "data": {
      "image/png": "[encoded data removed]",
      "text/plain": [
       "<Figure size 640x480 with 1 Axes>"
      ]
     },
     "metadata": {},
     "output_type": "display_data"
    }
   ],
   "source": [
    "df_joined[\"INJURY_CLASSIFICATION\"].value_counts(dropna=False).plot(kind='bar')\n",
    "plt.xlabel(\"Injury Classification\")\n",
    "plt.ylabel(\"Count\")\n",
    "plt.title(\"Histogram of Injury Classification\")\n",
    "plt.show()\n"
   ]
  },
  {
   "cell_type": "markdown",
   "metadata": {},
   "source": [
    "Airbag_deployed = Whether vehicle occupant airbag deployed as result of crash. Drop the nulls? \n",
    "We could create a binary flag or tertiary feature as Airbag_deployed, not_deployed, unknown"
   ]
  },
  {
   "cell_type": "code",
   "execution_count": 50,
   "metadata": {},
   "outputs": [
    {
     "data": {
      "text/plain": [
       "AIRBAG_DEPLOYED\n",
       "DID NOT DEPLOY                            103772\n",
       "NOT APPLICABLE                             65839\n",
       "DEPLOYED, COMBINATION                      39428\n",
       "DEPLOYMENT UNKNOWN                         39380\n",
       "DEPLOYED, FRONT                            34918\n",
       "NaN                                        11910\n",
       "DEPLOYED, SIDE                              9692\n",
       "DEPLOYED OTHER (KNEE, AIR, BELT, ETC.)       659\n",
       "Name: count, dtype: int64"
      ]
     },
     "execution_count": 50,
     "metadata": {},
     "output_type": "execute_result"
    }
   ],
   "source": [
    "df_joined[\"AIRBAG_DEPLOYED\"].value_counts(dropna=False)"
   ]
  },
  {
   "cell_type": "code",
   "execution_count": 66,
   "metadata": {},
   "outputs": [
    {
     "name": "stdout",
     "output_type": "stream",
     "text": [
      "Percentages\n",
      "AIRBAG_DEPLOYED\n",
      "DID NOT DEPLOY                            0.339570\n",
      "NOT APPLICABLE                            0.215443\n",
      "DEPLOYED, COMBINATION                     0.129019\n",
      "DEPLOYMENT UNKNOWN                        0.128862\n",
      "DEPLOYED, FRONT                           0.114261\n",
      "NaN                                       0.038973\n",
      "DEPLOYED, SIDE                            0.031715\n",
      "DEPLOYED OTHER (KNEE, AIR, BELT, ETC.)    0.002156\n",
      "Name: proportion, dtype: float64\n"
     ]
    }
   ],
   "source": [
    "print(\"Percentages\")\n",
    "print(df_joined[\"AIRBAG_DEPLOYED\"].value_counts(normalize=True, dropna=False))"
   ]
  },
  {
   "cell_type": "markdown",
   "metadata": {},
   "source": [
    "safety_equipment = Safety equipment used by vehicle occupant in crash, if any"
   ]
  },
  {
   "cell_type": "code",
   "execution_count": 53,
   "metadata": {},
   "outputs": [
    {
     "data": {
      "text/plain": [
       "SAFETY_EQUIPMENT\n",
       "USAGE UNKNOWN                                 148302\n",
       "SAFETY BELT USED                              130454\n",
       "NONE PRESENT                                   12736\n",
       "HELMET NOT USED                                 3233\n",
       "SAFETY BELT NOT USED                            2645\n",
       "NaN                                             1633\n",
       "CHILD RESTRAINT - FORWARD FACING                1623\n",
       "BICYCLE HELMET (PEDACYCLIST INVOLVED ONLY)      1540\n",
       "CHILD RESTRAINT - TYPE UNKNOWN                  1075\n",
       "CHILD RESTRAINT - REAR FACING                    733\n",
       "DOT COMPLIANT MOTORCYCLE HELMET                  520\n",
       "BOOSTER SEAT                                     417\n",
       "CHILD RESTRAINT NOT USED                         320\n",
       "CHILD RESTRAINT USED IMPROPERLY                  112\n",
       "WHEELCHAIR                                        76\n",
       "NOT DOT COMPLIANT MOTORCYCLE HELMET               76\n",
       "SHOULD/LAP BELT USED IMPROPERLY                   73\n",
       "HELMET USED                                       15\n",
       "STRETCHER                                         10\n",
       "CHILD RESTRAINT USED                               5\n",
       "Name: count, dtype: int64"
      ]
     },
     "execution_count": 53,
     "metadata": {},
     "output_type": "execute_result"
    }
   ],
   "source": [
    "df_joined[\"SAFETY_EQUIPMENT\"].value_counts(dropna=False)"
   ]
  },
  {
   "cell_type": "code",
   "execution_count": 62,
   "metadata": {},
   "outputs": [
    {
     "name": "stdout",
     "output_type": "stream",
     "text": [
      "Percentages\n",
      "SAFETY_EQUIPMENT\n",
      "USAGE UNKNOWN                                 0.485285\n",
      "SAFETY BELT USED                              0.426881\n",
      "NONE PRESENT                                  0.041676\n",
      "HELMET NOT USED                               0.010579\n",
      "SAFETY BELT NOT USED                          0.008655\n",
      "NaN                                           0.005344\n",
      "CHILD RESTRAINT - FORWARD FACING              0.005311\n",
      "BICYCLE HELMET (PEDACYCLIST INVOLVED ONLY)    0.005039\n",
      "CHILD RESTRAINT - TYPE UNKNOWN                0.003518\n",
      "CHILD RESTRAINT - REAR FACING                 0.002399\n",
      "DOT COMPLIANT MOTORCYCLE HELMET               0.001702\n",
      "BOOSTER SEAT                                  0.001365\n",
      "CHILD RESTRAINT NOT USED                      0.001047\n",
      "CHILD RESTRAINT USED IMPROPERLY               0.000366\n",
      "WHEELCHAIR                                    0.000249\n",
      "NOT DOT COMPLIANT MOTORCYCLE HELMET           0.000249\n",
      "SHOULD/LAP BELT USED IMPROPERLY               0.000239\n",
      "HELMET USED                                   0.000049\n",
      "STRETCHER                                     0.000033\n",
      "CHILD RESTRAINT USED                          0.000016\n",
      "Name: proportion, dtype: float64\n"
     ]
    }
   ],
   "source": [
    "print(\"Percentages\")\n",
    "print(df_joined[\"SAFETY_EQUIPMENT\"].value_counts(normalize=True, dropna=False))"
   ]
  }
 ],
 "metadata": {
  "kernelspec": {
   "display_name": "Python (learn-env)",
   "language": "python",
   "name": "learn-env"
  },
  "language_info": {
   "codemirror_mode": {
    "name": "ipython",
    "version": 3
   },
   "file_extension": ".py",
   "mimetype": "text/x-python",
   "name": "python",
   "nbconvert_exporter": "python",
   "pygments_lexer": "ipython3",
   "version": "3.9.18"
  }
 },
 "nbformat": 4,
 "nbformat_minor": 2
}
