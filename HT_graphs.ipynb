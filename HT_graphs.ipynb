{
 "cells": [
  {
   "cell_type": "markdown",
   "metadata": {},
   "source": [
    "# Chicago Car Crash Analysis"
   ]
  },
  {
   "cell_type": "markdown",
   "metadata": {},
   "source": [
    "## Importing Packages"
   ]
  },
  {
   "cell_type": "code",
   "execution_count": 115,
   "metadata": {},
   "outputs": [],
   "source": [
    "# Importing packages needed for this notebook\n",
    "import numpy as np\n",
    "import pandas as pd \n",
    "\n",
    "import matplotlib.pyplot as plt\n",
    "import seaborn as sns\n",
    "%matplotlib inline\n",
    "\n",
    "from sklearn.model_selection import train_test_split, cross_val_score\n",
    "from sklearn.impute import MissingIndicator, SimpleImputer\n",
    "from sklearn.preprocessing import StandardScaler, OneHotEncoder\n",
    "from sklearn.dummy import DummyClassifier\n",
    "\n",
    "from sklearn.linear_model import LogisticRegression\n",
    "from sklearn.tree import DecisionTreeRegressor, DecisionTreeClassifier\n",
    "\n",
    "from sklearn.metrics import accuracy_score, recall_score, precision_score, f1_score\n",
    "from sklearn.metrics import roc_curve, roc_auc_score, RocCurveDisplay\n",
    "from sklearn.metrics import confusion_matrix, ConfusionMatrixDisplay\n",
    "\n",
    "import warnings\n",
    "warnings.filterwarnings('ignore')"
   ]
  },
  {
   "cell_type": "code",
   "execution_count": 116,
   "metadata": {},
   "outputs": [],
   "source": [
    "# Reading the data in\n",
    "\n",
    "df_crashes = pd.read_csv(\"data/Traffic_Crashes_-_Crashes_20231109.csv\")\n",
    "df_vehicles = pd.read_csv(\"data/Traffic_Crashes_-_Vehicles_20231109.csv\")\n",
    "df_people = pd.read_csv(\"data/Traffic_Crashes_-_People_20231109.csv\")"
   ]
  },
  {
   "cell_type": "code",
   "execution_count": 117,
   "metadata": {},
   "outputs": [],
   "source": [
    "# Dropping columns\n",
    "\n",
    "columns_to_drop_crashes = ['RD_NO', 'CRASH_DATE_EST_I', 'LANE_CNT', 'REPORT_TYPE', 'INTERSECTION_RELATED_I', 'NOT_RIGHT_OF_WAY_I', 'HIT_AND_RUN_I', 'DATE_POLICE_NOTIFIED',\n",
    "                           'SEC_CONTRIBUTORY_CAUSE', 'STREET_NO', 'STREET_DIRECTION', 'STREET_NAME', 'BEAT_OF_OCCURRENCE', 'PHOTOS_TAKEN_I', 'STATEMENTS_TAKEN_I', 'DOORING_I',\n",
    "                           'WORK_ZONE_I', 'WORK_ZONE_TYPE', 'WORKERS_PRESENT_I', 'INJURIES_FATAL', 'INJURIES_INCAPACITATING', 'INJURIES_NON_INCAPACITATING',\n",
    "                           'INJURIES_REPORTED_NOT_EVIDENT','INJURIES_NO_INDICATION', 'INJURIES_UNKNOWN', 'LATITUDE', 'LONGITUDE', 'LOCATION'\n",
    "                           ]\n",
    "\n",
    "columns_to_drop_vehicles = ['RD_NO', 'CRASH_DATE', 'CRASH_UNIT_ID', 'UNIT_NO', 'UNIT_TYPE', 'NUM_PASSENGERS', 'VEHICLE_ID', 'CMRC_VEH_I', 'MAKE', 'MODEL', 'VEHICLE_YEAR',\n",
    "                            'VEHICLE_DEFECT','VEHICLE_USE', 'TRAVEL_DIRECTION', 'TOWED_I', 'FIRE_I', 'OCCUPANT_CNT', 'EXCEED_SPEED_LIMIT_I', 'TOWED_BY', 'TOWED_TO',\n",
    "                            'AREA_00_I', 'AREA_01_I', 'AREA_02_I', 'AREA_03_I', 'AREA_04_I', 'AREA_05_I', 'AREA_06_I', 'AREA_07_I', 'AREA_08_I', 'AREA_09_I',\n",
    "                            'AREA_10_I', 'AREA_11_I', 'AREA_12_I', 'AREA_99_I',  'CMV_ID', 'USDOT_NO', 'CCMC_NO', 'ILCC_NO', 'COMMERCIAL_SRC',\n",
    "                            'GVWR', 'CARRIER_NAME', 'CARRIER_STATE', 'CARRIER_CITY', 'HAZMAT_PLACARDS_I', 'HAZMAT_NAME','UN_NO', 'HAZMAT_PRESENT_I',\n",
    "                            'HAZMAT_REPORT_I', 'HAZMAT_REPORT_NO', 'MCS_REPORT_I', 'MCS_REPORT_NO', 'HAZMAT_VIO_CAUSE_CRASH_I', 'MCS_VIO_CAUSE_CRASH_I', 'IDOT_PERMIT_NO',\n",
    "                            'WIDE_LOAD_I', 'TRAILER1_WIDTH', 'TRAILER2_WIDTH', 'TRAILER1_LENGTH', 'TRAILER2_LENGTH', 'TOTAL_VEHICLE_LENGTH', 'AXLE_CNT', 'VEHICLE_CONFIG', 'CARGO_BODY_TYPE',\n",
    "                            'LOAD_TYPE', 'HAZMAT_OUT_OF_SERVICE_I', 'MCS_OUT_OF_SERVICE_I', 'HAZMAT_CLASS'\n",
    "                            ]\n",
    "\n",
    "columns_to_drop_people = ['RD_NO', 'CRASH_DATE', 'VEHICLE_ID', 'PERSON_ID', 'SEAT_NO', 'CITY', 'STATE', 'ZIPCODE', 'DRIVERS_LICENSE_STATE', 'DRIVERS_LICENSE_CLASS', 'EJECTION',\n",
    "                          'HOSPITAL', 'EMS_AGENCY', 'EMS_RUN_NO', 'BAC_RESULT VALUE', 'PEDPEDAL_ACTION', 'PEDPEDAL_VISIBILITY', 'PEDPEDAL_LOCATION', 'CELL_PHONE_USE', 'INJURY_CLASSIFICATION'\n",
    "                          ]\n",
    "\n",
    "df_crashes = df_crashes.drop(columns_to_drop_crashes, axis=1)\n",
    "df_vehicles = df_vehicles.drop(columns_to_drop_vehicles, axis=1)\n",
    "df_people = df_people.drop(columns_to_drop_people, axis=1)"
   ]
  },
  {
   "cell_type": "markdown",
   "metadata": {},
   "source": [
    "## Creating a Master DataFrame"
   ]
  },
  {
   "cell_type": "code",
   "execution_count": 118,
   "metadata": {},
   "outputs": [],
   "source": [
    "master_df = pd.merge(df_crashes, pd.merge(df_vehicles, df_people, on=\"CRASH_RECORD_ID\"), on=\"CRASH_RECORD_ID\")"
   ]
  },
  {
   "cell_type": "markdown",
   "metadata": {},
   "source": [
    "## Info and column names of each table"
   ]
  },
  {
   "cell_type": "code",
   "execution_count": 119,
   "metadata": {},
   "outputs": [
    {
     "name": "stdout",
     "output_type": "stream",
     "text": [
      "<class 'pandas.core.frame.DataFrame'>\n",
      "RangeIndex: 3594423 entries, 0 to 3594422\n",
      "Data columns (total 34 columns):\n",
      " #   Column                   Dtype  \n",
      "---  ------                   -----  \n",
      " 0   CRASH_RECORD_ID          object \n",
      " 1   CRASH_DATE               object \n",
      " 2   POSTED_SPEED_LIMIT       int64  \n",
      " 3   TRAFFIC_CONTROL_DEVICE   object \n",
      " 4   DEVICE_CONDITION         object \n",
      " 5   WEATHER_CONDITION        object \n",
      " 6   LIGHTING_CONDITION       object \n",
      " 7   FIRST_CRASH_TYPE         object \n",
      " 8   TRAFFICWAY_TYPE          object \n",
      " 9   ALIGNMENT                object \n",
      " 10  ROADWAY_SURFACE_COND     object \n",
      " 11  ROAD_DEFECT              object \n",
      " 12  CRASH_TYPE               object \n",
      " 13  DAMAGE                   object \n",
      " 14  PRIM_CONTRIBUTORY_CAUSE  object \n",
      " 15  NUM_UNITS                int64  \n",
      " 16  MOST_SEVERE_INJURY       object \n",
      " 17  INJURIES_TOTAL           float64\n",
      " 18  CRASH_HOUR               int64  \n",
      " 19  CRASH_DAY_OF_WEEK        int64  \n",
      " 20  CRASH_MONTH              int64  \n",
      " 21  LIC_PLATE_STATE          object \n",
      " 22  VEHICLE_TYPE             object \n",
      " 23  MANEUVER                 object \n",
      " 24  FIRST_CONTACT_POINT      object \n",
      " 25  PERSON_TYPE              object \n",
      " 26  SEX                      object \n",
      " 27  AGE                      float64\n",
      " 28  SAFETY_EQUIPMENT         object \n",
      " 29  AIRBAG_DEPLOYED          object \n",
      " 30  DRIVER_ACTION            object \n",
      " 31  DRIVER_VISION            object \n",
      " 32  PHYSICAL_CONDITION       object \n",
      " 33  BAC_RESULT               object \n",
      "dtypes: float64(2), int64(5), object(27)\n",
      "memory usage: 932.4+ MB\n"
     ]
    }
   ],
   "source": [
    "master_df.info()"
   ]
  },
  {
   "cell_type": "markdown",
   "metadata": {},
   "source": [
    "## Takeaway\n",
    "\n",
    "- 3,594,423 observations\n",
    "- 36 combined columns\n",
    "- 987 MB combined memory file"
   ]
  },
  {
   "cell_type": "markdown",
   "metadata": {},
   "source": [
    "## Data Cleaning"
   ]
  },
  {
   "cell_type": "code",
   "execution_count": 120,
   "metadata": {},
   "outputs": [
    {
     "name": "stdout",
     "output_type": "stream",
     "text": [
      "<class 'pandas.core.frame.DataFrame'>\n",
      "Index: 305598 entries, 0 to 3594374\n",
      "Data columns (total 35 columns):\n",
      " #   Column                   Non-Null Count   Dtype         \n",
      "---  ------                   --------------   -----         \n",
      " 0   CRASH_RECORD_ID          305598 non-null  object        \n",
      " 1   CRASH_DATE               305598 non-null  datetime64[ns]\n",
      " 2   POSTED_SPEED_LIMIT       305598 non-null  int64         \n",
      " 3   TRAFFIC_CONTROL_DEVICE   305598 non-null  object        \n",
      " 4   DEVICE_CONDITION         305598 non-null  object        \n",
      " 5   WEATHER_CONDITION        305598 non-null  object        \n",
      " 6   LIGHTING_CONDITION       305598 non-null  object        \n",
      " 7   FIRST_CRASH_TYPE         305598 non-null  object        \n",
      " 8   TRAFFICWAY_TYPE          305598 non-null  object        \n",
      " 9   ALIGNMENT                305598 non-null  object        \n",
      " 10  ROADWAY_SURFACE_COND     305598 non-null  object        \n",
      " 11  ROAD_DEFECT              305598 non-null  object        \n",
      " 12  CRASH_TYPE               305598 non-null  object        \n",
      " 13  DAMAGE                   305598 non-null  object        \n",
      " 14  PRIM_CONTRIBUTORY_CAUSE  305598 non-null  object        \n",
      " 15  NUM_UNITS                305598 non-null  int64         \n",
      " 16  MOST_SEVERE_INJURY       305598 non-null  object        \n",
      " 17  INJURIES_TOTAL           305598 non-null  float64       \n",
      " 18  CRASH_HOUR               305598 non-null  int64         \n",
      " 19  CRASH_DAY_OF_WEEK        305598 non-null  int64         \n",
      " 20  CRASH_MONTH              305598 non-null  int64         \n",
      " 21  LIC_PLATE_STATE          293368 non-null  object        \n",
      " 22  VEHICLE_TYPE             305598 non-null  object        \n",
      " 23  MANEUVER                 305598 non-null  object        \n",
      " 24  FIRST_CONTACT_POINT      305512 non-null  object        \n",
      " 25  PERSON_TYPE              305598 non-null  object        \n",
      " 26  SEX                      298205 non-null  object        \n",
      " 27  AGE                      251649 non-null  float64       \n",
      " 28  SAFETY_EQUIPMENT         303965 non-null  object        \n",
      " 29  AIRBAG_DEPLOYED          293688 non-null  object        \n",
      " 30  DRIVER_ACTION            209120 non-null  object        \n",
      " 31  DRIVER_VISION            208933 non-null  object        \n",
      " 32  PHYSICAL_CONDITION       209510 non-null  object        \n",
      " 33  BAC_RESULT               209238 non-null  object        \n",
      " 34  YEAR                     305598 non-null  int32         \n",
      "dtypes: datetime64[ns](1), float64(2), int32(1), int64(5), object(26)\n",
      "memory usage: 82.8+ MB\n"
     ]
    }
   ],
   "source": [
    "# Filtering from 2020 and on\n",
    "\n",
    "master_df['CRASH_DATE'] = pd.to_datetime(master_df['CRASH_DATE'])\n",
    "master_df['YEAR'] = master_df['CRASH_DATE'].dt.year\n",
    "master_df = master_df.loc[master_df['INJURIES_TOTAL'] > 0]\n",
    "master_df = master_df[\n",
    "    (master_df[\"YEAR\"] >= 2020) &\n",
    "    ((master_df[\"VEHICLE_TYPE\"] == \"PASSENGER\") |\n",
    "     (master_df[\"VEHICLE_TYPE\"] == \"SPORT UTILITY VEHICLE (SUV)\") |\n",
    "     (master_df[\"VEHICLE_TYPE\"] == \"VAN/MINI-VAN\"))\n",
    "]\n",
    "master_df.info()"
   ]
  },
  {
   "cell_type": "markdown",
   "metadata": {},
   "source": [
    "## Takeaway\n",
    "\n",
    "- We filtered the data from year 2020 and after, "
   ]
  },
  {
   "cell_type": "code",
   "execution_count": 121,
   "metadata": {},
   "outputs": [
    {
     "data": {
      "text/plain": [
       "CRASH_RECORD_ID                0\n",
       "CRASH_DATE                     0\n",
       "POSTED_SPEED_LIMIT             0\n",
       "TRAFFIC_CONTROL_DEVICE         0\n",
       "DEVICE_CONDITION               0\n",
       "WEATHER_CONDITION              0\n",
       "LIGHTING_CONDITION             0\n",
       "FIRST_CRASH_TYPE               0\n",
       "TRAFFICWAY_TYPE                0\n",
       "ALIGNMENT                      0\n",
       "ROADWAY_SURFACE_COND           0\n",
       "ROAD_DEFECT                    0\n",
       "CRASH_TYPE                     0\n",
       "DAMAGE                         0\n",
       "PRIM_CONTRIBUTORY_CAUSE        0\n",
       "NUM_UNITS                      0\n",
       "MOST_SEVERE_INJURY             0\n",
       "INJURIES_TOTAL                 0\n",
       "CRASH_HOUR                     0\n",
       "CRASH_DAY_OF_WEEK              0\n",
       "CRASH_MONTH                    0\n",
       "LIC_PLATE_STATE            12230\n",
       "VEHICLE_TYPE                   0\n",
       "MANEUVER                       0\n",
       "FIRST_CONTACT_POINT           86\n",
       "PERSON_TYPE                    0\n",
       "SEX                         7393\n",
       "AGE                        53949\n",
       "SAFETY_EQUIPMENT            1633\n",
       "AIRBAG_DEPLOYED            11910\n",
       "DRIVER_ACTION              96478\n",
       "DRIVER_VISION              96665\n",
       "PHYSICAL_CONDITION         96088\n",
       "BAC_RESULT                 96360\n",
       "YEAR                           0\n",
       "dtype: int64"
      ]
     },
     "execution_count": 121,
     "metadata": {},
     "output_type": "execute_result"
    }
   ],
   "source": [
    "master_df.isna().sum()"
   ]
  },
  {
   "cell_type": "markdown",
   "metadata": {},
   "source": [
    "# Andy's Space"
   ]
  },
  {
   "cell_type": "code",
   "execution_count": 122,
   "metadata": {
    "scrolled": true
   },
   "outputs": [
    {
     "data": {
      "text/plain": [
       "ROAD_DEFECT\n",
       "NO DEFECTS    301095\n",
       "DEFECTS         4503\n",
       "Name: count, dtype: int64"
      ]
     },
     "execution_count": 122,
     "metadata": {},
     "output_type": "execute_result"
    }
   ],
   "source": [
    "defect_dict = {\"NO DEFECTS\" : \"NO DEFECTS\", \"UNKNOWN\": \"NO DEFECTS\", \"WORN SURFACE\": \"DEFECTS\", \"OTHER\":\"DEFECTS\",\"RUT, HOLES\": \"DEFECTS\", \"SHOULDER DEFECT\":\"DEFECTS\", \"DEBRIS ON ROADWAY\": \"DEFECTS\"}\n",
    "\n",
    "master_df['ROAD_DEFECT'] = master_df['ROAD_DEFECT'].map(defect_dict)\n",
    "master_df['ROAD_DEFECT'].value_counts()"
   ]
  },
  {
   "cell_type": "code",
   "execution_count": 123,
   "metadata": {},
   "outputs": [
    {
     "data": {
      "text/plain": [
       "CRASH_TYPE\n",
       "INJURY AND / OR TOW DUE TO CRASH    305506\n",
       "NO INJURY / DRIVE AWAY                  92\n",
       "Name: count, dtype: int64"
      ]
     },
     "execution_count": 123,
     "metadata": {},
     "output_type": "execute_result"
    }
   ],
   "source": [
    "master_df[\"CRASH_TYPE\"].value_counts()"
   ]
  },
  {
   "cell_type": "code",
   "execution_count": 124,
   "metadata": {},
   "outputs": [
    {
     "data": {
      "text/plain": [
       "DAMAGE\n",
       "OVER $1500     259341\n",
       "UNDER $1500     46257\n",
       "Name: count, dtype: int64"
      ]
     },
     "execution_count": 124,
     "metadata": {},
     "output_type": "execute_result"
    }
   ],
   "source": [
    "master_df[\"DAMAGE\"].value_counts()\n",
    "master_df['DAMAGE'] = master_df['DAMAGE'].apply(lambda x: 'OVER $1500' if 'OVER $1,500' in x else \"UNDER $1500\")\n",
    "master_df['DAMAGE'].value_counts()"
   ]
  },
  {
   "cell_type": "code",
   "execution_count": 125,
   "metadata": {},
   "outputs": [
    {
     "data": {
      "text/plain": [
       "PRIM_CONTRIBUTORY_CAUSE\n",
       "UNABLE TO DETERMINE                                                                 83621\n",
       "FAILING TO YIELD RIGHT-OF-WAY                                                       53085\n",
       "FOLLOWING TOO CLOSELY                                                               26314\n",
       "FAILING TO REDUCE SPEED TO AVOID CRASH                                              26078\n",
       "DISREGARDING TRAFFIC SIGNALS                                                        24689\n",
       "IMPROPER TURNING/NO SIGNAL                                                          11340\n",
       "IMPROPER OVERTAKING/PASSING                                                          9315\n",
       "NOT APPLICABLE                                                                       9116\n",
       "DISREGARDING STOP SIGN                                                               8654\n",
       "OPERATING VEHICLE IN ERRATIC, RECKLESS, CARELESS, NEGLIGENT OR AGGRESSIVE MANNER     7296\n",
       "DRIVING SKILLS/KNOWLEDGE/EXPERIENCE                                                  6699\n",
       "IMPROPER LANE USAGE                                                                  6380\n",
       "PHYSICAL CONDITION OF DRIVER                                                         4674\n",
       "DRIVING ON WRONG SIDE/WRONG WAY                                                      4450\n",
       "WEATHER                                                                              3960\n",
       "UNDER THE INFLUENCE OF ALCOHOL/DRUGS (USE WHEN ARREST IS EFFECTED)                   3416\n",
       "DISTRACTION - FROM INSIDE VEHICLE                                                    3136\n",
       "EQUIPMENT - VEHICLE CONDITION                                                        2709\n",
       "VISION OBSCURED (SIGNS, TREE LIMBS, BUILDINGS, ETC.)                                 2261\n",
       "DISREGARDING OTHER TRAFFIC SIGNS                                                     1852\n",
       "DISTRACTION - FROM OUTSIDE VEHICLE                                                   1604\n",
       "IMPROPER BACKING                                                                     1554\n",
       "CELL PHONE USE OTHER THAN TEXTING                                                     597\n",
       "EVASIVE ACTION DUE TO ANIMAL, OBJECT, NONMOTORIST                                     588\n",
       "TURNING RIGHT ON RED                                                                  362\n",
       "DISREGARDING ROAD MARKINGS                                                            325\n",
       "HAD BEEN DRINKING (USE WHEN ARREST IS NOT MADE)                                       322\n",
       "ROAD CONSTRUCTION/MAINTENANCE                                                         265\n",
       "DISREGARDING YIELD SIGN                                                               187\n",
       "ROAD ENGINEERING/SURFACE/MARKING DEFECTS                                              164\n",
       "DISTRACTION - OTHER ELECTRONIC DEVICE (NAVIGATION DEVICE, DVD PLAYER, ETC.)           161\n",
       "ANIMAL                                                                                112\n",
       "TEXTING                                                                               100\n",
       "RELATED TO BUS STOP                                                                    83\n",
       "OBSTRUCTED CROSSWALKS                                                                  63\n",
       "BICYCLE ADVANCING LEGALLY ON RED LIGHT                                                 23\n",
       "PASSING STOPPED SCHOOL BUS                                                             23\n",
       "MOTORCYCLE ADVANCING LEGALLY ON RED LIGHT                                              20\n",
       "Name: count, dtype: int64"
      ]
     },
     "execution_count": 125,
     "metadata": {},
     "output_type": "execute_result"
    }
   ],
   "source": [
    "#talk about this with team\n",
    "master_df[\"PRIM_CONTRIBUTORY_CAUSE\"].value_counts()"
   ]
  },
  {
   "cell_type": "code",
   "execution_count": 126,
   "metadata": {},
   "outputs": [
    {
     "data": {
      "text/plain": [
       "PRIM_CONTRIBUTORY_CAUSE\n",
       "SIGNAGE/TRAFFIC CONTROL DEVICES    100090\n",
       "HUMAN FACTORS                       95907\n",
       "MISC FACTORS                        18567\n",
       "ENVIRONMENTAL FACTORS                6333\n",
       "INFRASTRUCTURE ISSUES                 492\n",
       "Name: count, dtype: int64"
      ]
     },
     "execution_count": 126,
     "metadata": {},
     "output_type": "execute_result"
    }
   ],
   "source": [
    "prim_cause_dict = { 'FOLLOWING TOO CLOSELY': \"HUMAN FACTORS\", 'FAILING TO REDUCE SPEED TO AVOID CRASH': \"HUMAN FACTORS\", \n",
    "                   'IMPROPER TURNING/NO SIGNAL': 'HUMAN FACTORS', 'IMPROPER OVERTAKING/PASSING' : 'HUMAN FACTORS',\n",
    "                   'OPERATING VEHICLE IN ERRATIC, RECKLESS, CARELESS, NEGLIGENT OR AGGRESSIVE MANNER': 'HUMAN FACTORS',\n",
    "                   'PHYSICAL CONDITION OF DRIVER': \"HUMAN FACTORS\", \n",
    "                   'UNDER THE INFLUENCE OF ALCOHOL/DRUGS (USE WHEN ARREST IS EFFECTED)': \"HUMAN FACTORS\",\n",
    "                   'DISTRACTION - FROM INSIDE VEHICLE':\"HUMAN FACTORS\", 'DISTRACTION - FROM OUTSIDE VEHICLE': 'HUMAN FACTORS',\n",
    "                   'TEXTING':\"HUMAN FACTORS\", 'IMPROPER BACKING':\"HUMAN FACTORS\", 'CELL PHONE USE OTHER THAN TEXTING': \"HUMAN FACTORS\",\n",
    "                   'HAD BEEN DRINKING (USE WHEN ARREST IS NOT MADE)': \"HUMAN FACTORS\", \n",
    "                   'DISTRACTION - OTHER ELECTRONIC DEVICE (NAVIGATION DEVICE, DVD PLAYER, ETC.)':\"HUMAN FACTORS\",\n",
    "                   'VISION OBSCURED (SIGNS, TREE LIMBS, BUILDINGS, ETC.)': \"ENVIRONMENTAL FACTORS\", 'ANIMAL': \"ENVIRONMENTAL FACTORS\",\n",
    "                   'WEATHER': \"ENVIRONMENTAL FACTORS\", 'EVASIVE ACTION DUE TO ANIMAL,OBJECT, NONMOTORIST': \"ENVIRONMENTAL FACTORS\",\n",
    "                   'FAILING TO YIELD RIGHT-OF-WAY':\"SIGNAGE/TRAFFIC CONTROL DEVICES\", 'DISREGARDING TRAFFIC SIGNALS': \"SIGNAGE/TRAFFIC CONTROL DEVICES\",\n",
    "                   'DISREGARDING STOP SIGN':\"SIGNAGE/TRAFFIC CONTROL DEVICES\", 'DRIVING ON WRONG SIDE/WRONG WAY':\"SIGNAGE/TRAFFIC CONTROL DEVICES\",\n",
    "                   'IMPROPER LANE USAGE': \"SIGNAGE/TRAFFIC CONTROL DEVICES\", 'DISREGARDING OTHER TRAFFIC SIGNS':\"SIGNAGE/TRAFFIC CONTROL DEVICES\",\n",
    "                   'TURNING RIGHT ON RED': \"SIGNAGE/TRAFFIC CONTROL DEVICES\", 'DISREGARDING ROAD MARKINGS':\"SIGNAGE/TRAFFIC CONTROL DEVICES\",\n",
    "                   'DISREGARDING YIELD SIGN': \"SIGNAGE/TRAFFIC CONTROL DEVICES\", 'RELATED TO BUS STOP': \"SIGNAGE/TRAFFIC CONTROL DEVICES\",\n",
    "                   'PASSING STOPPED SCHOOL BUS': \"SIGNAGE/TRAFFIC CONTROL DEVICES\", \n",
    "                   'ROAD CONSTRUCTION/MAINTENANCE': \"INFRASTRUCTURE ISSUES\", 'ROAD ENGINEERING/SURFACE/MARKING DEFECTS': \"INFRASTRUCTURE ISSUES\",\n",
    "                   'OBSTRUCTED CROSSWALKS': \"INFRASTRUCTURE ISSUES\", \n",
    "                   'DRIVING SKILLS/KNOWLEDGE/EXPERIENCE': \"MISC FACTORS\", 'BICYCLE ADVANCING LEGALLY ON RED LIGHT':\"MISC FACTORS\",\n",
    "                   'MOTORCYCLE ADVANCING LEGALLY ON RED LIGHT':\"MISC FACTORS\", 'EQUIPMENT - VEHICLE CONDITION': \"MISC FACTORS\",\n",
    "                   'NOT APPLICABLE': \"MISC FACTORS\"\n",
    "              }\n",
    "\n",
    "master_df['PRIM_CONTRIBUTORY_CAUSE'] = master_df['PRIM_CONTRIBUTORY_CAUSE'].map(prim_cause_dict)\n",
    "master_df['PRIM_CONTRIBUTORY_CAUSE'].value_counts()"
   ]
  },
  {
   "cell_type": "markdown",
   "metadata": {},
   "source": [
    "<details>\n",
    "  <summary>**Click Me to Expand Breakdown of PRIM_CONTRIBUTORY_CAUSE**</summary>\n",
    "    \n",
    "  **human factors:**\n",
    "    - 'FOLLOWING TOO CLOSELY', \n",
    "    - 'FAILING TO REDUCE SPEED TO AVOID CRASH',\n",
    "    - 'IMPROPER TURNING/NO SIGNAL',\n",
    "    - 'IMPROPER OVERTAKING/PASSING', \n",
    "    - 'OPERATING VEHICLE IN ERRATIC, RECKLESS, CARELESS, NEGLIGENT OR AGGRESSIVE MANNER',\n",
    "    - 'PHYSICAL CONDITION OF DRIVER',\n",
    "    - 'UNDER THE INFLUENCE OF ALCOHOL/DRUGS (USE WHEN ARREST IS EFFECTED)',\n",
    "    - 'DISTRACTION - FROM INSIDE VEHICLE',\n",
    "    - 'DISTRACTION - FROM OUTSIDE VEHICLE',\n",
    "    - 'TEXTING',\n",
    "    - 'IMPROPER BACKING',\n",
    "    - 'CELL PHONE USE OTHER THAN TEXTING',\n",
    "    - 'HAD BEEN DRINKING (USE WHEN ARREST IS NOT MADE)',\n",
    "    - 'DISTRACTION - OTHER ELECTRONIC DEVICE (NAVIGATION DEVICE, DVD PLAYER, ETC.)',\n",
    "\n",
    "**environmental factors:** \n",
    "    - 'VISION OBSCURED (SIGNS, TREE LIMBS, BUILDINGS, ETC.)',\n",
    "    - 'ANIMAL', \n",
    "    - 'WEATHER',\n",
    "    - 'EVASIVE ACTION DUE TO ANIMAL,OBJECT, NONMOTORIST',\n",
    "\n",
    "**traffic control devices/signage:**\n",
    "    - 'FAILING TO YIELD RIGHT-OF-WAY',\n",
    "    - 'DISREGARDING TRAFFIC SIGNALS',\n",
    "    - 'DISREGARDING STOP SIGN',\n",
    "    - 'DRIVING ON WRONG SIDE/WRONG WAY',\n",
    "    - 'IMPROPER LANE USAGE',\n",
    "    - 'DISREGARDING OTHER TRAFFIC SIGNS',\n",
    "    - 'TURNING RIGHT ON RED',\n",
    "    - 'DISREGARDING ROAD MARKINGS',\n",
    "    - 'DISREGARDING YIELD SIGN',\n",
    "    - 'RELATED TO BUS STOP', \n",
    "    - 'PASSING STOPPED SCHOOL BUS',\n",
    "\n",
    "**infrastructure issues:**\n",
    "    - 'ROAD CONSTRUCTION/MAINTENANCE', \n",
    "    - 'ROAD ENGINEERING/SURFACE/MARKING DEFECTS',\n",
    "    - 'OBSTRUCTED CROSSWALKS',\n",
    "\n",
    "**misc factors:**\n",
    "    - 'DRIVING SKILLS/KNOWLEDGE/EXPERIENCE', \n",
    "    - 'BICYCLE ADVANCING LEGALLY ON RED LIGHT', \n",
    "    - 'MOTORCYCLE ADVANCING LEGALLY ON RED LIGHT'\n",
    "    - 'EQUIPMENT - VEHICLE CONDITION',\n",
    "- 'NOT APPLICABLE'\n",
    "\n",
    "--\n",
    "'UNABLE TO DETERMINE', - to be dropped\n",
    "\n",
    "</details>"
   ]
  },
  {
   "cell_type": "code",
   "execution_count": 127,
   "metadata": {
    "scrolled": true
   },
   "outputs": [
    {
     "data": {
      "text/plain": [
       "NUM_UNITS\n",
       "2     202015\n",
       "3      61190\n",
       "4      22690\n",
       "5       7534\n",
       "1       5671\n",
       "6       3596\n",
       "7       1409\n",
       "8       1014\n",
       "9        291\n",
       "12       131\n",
       "11        53\n",
       "14         4\n",
       "Name: count, dtype: int64"
      ]
     },
     "execution_count": 127,
     "metadata": {},
     "output_type": "execute_result"
    }
   ],
   "source": [
    "master_df[\"NUM_UNITS\"].value_counts()\n",
    "#in int form already"
   ]
  },
  {
   "cell_type": "code",
   "execution_count": 128,
   "metadata": {},
   "outputs": [
    {
     "data": {
      "text/plain": [
       "SEVERE_INJURY\n",
       "MINOR INJURIES    267484\n",
       "MAJOR INJURIES     35384\n",
       "FATAL               2730\n",
       "Name: count, dtype: int64"
      ]
     },
     "execution_count": 128,
     "metadata": {},
     "output_type": "execute_result"
    }
   ],
   "source": [
    "#change to no injury, minor, major, fatality\n",
    "master_df[\"MOST_SEVERE_INJURY\"].value_counts()\n",
    "\n",
    "injury_dict = {'NONINCAPACITATING INJURY': 'MINOR INJURIES',\n",
    "              'REPORTED, NOT EVIDENT': 'MINOR INJURIES', 'INCAPACITATING INJURY' : 'MAJOR INJURIES',\n",
    "              'FATAL': 'FATAL'}\n",
    "\n",
    "master_df['SEVERE_INJURY'] = master_df['MOST_SEVERE_INJURY'].map(injury_dict)\n",
    "master_df.drop(labels=\"MOST_SEVERE_INJURY\", axis=1, inplace=True)\n",
    "master_df['SEVERE_INJURY'].value_counts()"
   ]
  },
  {
   "cell_type": "code",
   "execution_count": 129,
   "metadata": {},
   "outputs": [
    {
     "data": {
      "text/plain": [
       "CRASH_MONTH\n",
       "7     32695\n",
       "6     30152\n",
       "8     29755\n",
       "10    29626\n",
       "9     29217\n",
       "5     28983\n",
       "4     23074\n",
       "3     22853\n",
       "1     22210\n",
       "2     20199\n",
       "11    19574\n",
       "12    17260\n",
       "Name: count, dtype: int64"
      ]
     },
     "execution_count": 129,
     "metadata": {},
     "output_type": "execute_result"
    }
   ],
   "source": [
    "master_df[\"INJURIES_TOTAL\"].value_counts()\n",
    "master_df[\"CRASH_HOUR\"].value_counts()\n",
    "master_df[\"CRASH_DAY_OF_WEEK\"].value_counts()\n",
    "master_df[\"CRASH_MONTH\"].value_counts()\n",
    "#int form already"
   ]
  },
  {
   "cell_type": "code",
   "execution_count": 130,
   "metadata": {},
   "outputs": [
    {
     "name": "stdout",
     "output_type": "stream",
     "text": [
      "<class 'pandas.core.frame.DataFrame'>\n",
      "Index: 305598 entries, 0 to 3594374\n",
      "Data columns (total 34 columns):\n",
      " #   Column                   Non-Null Count   Dtype         \n",
      "---  ------                   --------------   -----         \n",
      " 0   CRASH_RECORD_ID          305598 non-null  object        \n",
      " 1   CRASH_DATE               305598 non-null  datetime64[ns]\n",
      " 2   POSTED_SPEED_LIMIT       305598 non-null  int64         \n",
      " 3   TRAFFIC_CONTROL_DEVICE   305598 non-null  object        \n",
      " 4   DEVICE_CONDITION         305598 non-null  object        \n",
      " 5   WEATHER_CONDITION        305598 non-null  object        \n",
      " 6   LIGHTING_CONDITION       305598 non-null  object        \n",
      " 7   FIRST_CRASH_TYPE         305598 non-null  object        \n",
      " 8   TRAFFICWAY_TYPE          305598 non-null  object        \n",
      " 9   ALIGNMENT                305598 non-null  object        \n",
      " 10  ROADWAY_SURFACE_COND     305598 non-null  object        \n",
      " 11  ROAD_DEFECT              305598 non-null  object        \n",
      " 12  CRASH_TYPE               305598 non-null  object        \n",
      " 13  DAMAGE                   305598 non-null  object        \n",
      " 14  PRIM_CONTRIBUTORY_CAUSE  221389 non-null  object        \n",
      " 15  NUM_UNITS                305598 non-null  int64         \n",
      " 16  INJURIES_TOTAL           305598 non-null  float64       \n",
      " 17  CRASH_HOUR               305598 non-null  int64         \n",
      " 18  CRASH_DAY_OF_WEEK        305598 non-null  int64         \n",
      " 19  CRASH_MONTH              305598 non-null  int64         \n",
      " 20  VEHICLE_TYPE             305598 non-null  object        \n",
      " 21  MANEUVER                 305598 non-null  object        \n",
      " 22  FIRST_CONTACT_POINT      305512 non-null  object        \n",
      " 23  PERSON_TYPE              305598 non-null  object        \n",
      " 24  SEX                      298205 non-null  object        \n",
      " 25  AGE                      251649 non-null  float64       \n",
      " 26  SAFETY_EQUIPMENT         303965 non-null  object        \n",
      " 27  AIRBAG_DEPLOYED          293688 non-null  object        \n",
      " 28  DRIVER_ACTION            209120 non-null  object        \n",
      " 29  DRIVER_VISION            208933 non-null  object        \n",
      " 30  PHYSICAL_CONDITION       209510 non-null  object        \n",
      " 31  BAC_RESULT               209238 non-null  object        \n",
      " 32  YEAR                     305598 non-null  int32         \n",
      " 33  SEVERE_INJURY            305598 non-null  object        \n",
      "dtypes: datetime64[ns](1), float64(2), int32(1), int64(5), object(25)\n",
      "memory usage: 80.4+ MB\n"
     ]
    }
   ],
   "source": [
    "master_df[\"LIC_PLATE_STATE\"].value_counts()\n",
    "master_df.drop(labels=\"LIC_PLATE_STATE\", axis=1, inplace=True)\n",
    "master_df.info()"
   ]
  },
  {
   "cell_type": "code",
   "execution_count": 131,
   "metadata": {},
   "outputs": [
    {
     "name": "stdout",
     "output_type": "stream",
     "text": [
      "<class 'pandas.core.frame.DataFrame'>\n",
      "Index: 305598 entries, 0 to 3594374\n",
      "Data columns (total 34 columns):\n",
      " #   Column                   Non-Null Count   Dtype         \n",
      "---  ------                   --------------   -----         \n",
      " 0   CRASH_RECORD_ID          305598 non-null  object        \n",
      " 1   CRASH_DATE               305598 non-null  datetime64[ns]\n",
      " 2   POSTED_SPEED_LIMIT       305598 non-null  int64         \n",
      " 3   TRAFFIC_CONTROL_DEVICE   305598 non-null  object        \n",
      " 4   DEVICE_CONDITION         305598 non-null  object        \n",
      " 5   WEATHER_CONDITION        305598 non-null  object        \n",
      " 6   LIGHTING_CONDITION       305598 non-null  object        \n",
      " 7   FIRST_CRASH_TYPE         305598 non-null  object        \n",
      " 8   TRAFFICWAY_TYPE          305598 non-null  object        \n",
      " 9   ALIGNMENT                305598 non-null  object        \n",
      " 10  ROADWAY_SURFACE_COND     305598 non-null  object        \n",
      " 11  ROAD_DEFECT              305598 non-null  object        \n",
      " 12  CRASH_TYPE               305598 non-null  object        \n",
      " 13  DAMAGE                   305598 non-null  object        \n",
      " 14  PRIM_CONTRIBUTORY_CAUSE  221389 non-null  object        \n",
      " 15  NUM_UNITS                305598 non-null  int64         \n",
      " 16  INJURIES_TOTAL           305598 non-null  float64       \n",
      " 17  CRASH_HOUR               305598 non-null  int64         \n",
      " 18  CRASH_DAY_OF_WEEK        305598 non-null  int64         \n",
      " 19  CRASH_MONTH              305598 non-null  int64         \n",
      " 20  VEHICLE_TYPE             305598 non-null  object        \n",
      " 21  MANEUVER                 305598 non-null  object        \n",
      " 22  FIRST_CONTACT_POINT      305512 non-null  object        \n",
      " 23  PERSON_TYPE              305598 non-null  object        \n",
      " 24  SEX                      298205 non-null  object        \n",
      " 25  AGE                      251649 non-null  float64       \n",
      " 26  SAFETY_EQUIPMENT         303965 non-null  object        \n",
      " 27  AIRBAG_DEPLOYED          293688 non-null  object        \n",
      " 28  DRIVER_ACTION            209120 non-null  object        \n",
      " 29  DRIVER_VISION            208933 non-null  object        \n",
      " 30  PHYSICAL_CONDITION       209510 non-null  object        \n",
      " 31  BAC_RESULT               209238 non-null  object        \n",
      " 32  YEAR                     305598 non-null  int32         \n",
      " 33  SEVERE_INJURY            305598 non-null  object        \n",
      "dtypes: datetime64[ns](1), float64(2), int32(1), int64(5), object(25)\n",
      "memory usage: 80.4+ MB\n"
     ]
    }
   ],
   "source": [
    "master_df.info()"
   ]
  },
  {
   "cell_type": "markdown",
   "metadata": {},
   "source": [
    "# Harshitha's Space"
   ]
  },
  {
   "cell_type": "code",
   "execution_count": 132,
   "metadata": {},
   "outputs": [],
   "source": [
    "# DROP unnecessary columns\n",
    "# master_df.drop(columns=['CRASH_RECORD_ID', 'CRASH_DATE'], inplace=True)"
   ]
  },
  {
   "cell_type": "code",
   "execution_count": 133,
   "metadata": {},
   "outputs": [
    {
     "data": {
      "text/plain": [
       "YEAR\n",
       "2021    81665\n",
       "2022    78600\n",
       "2023    74362\n",
       "2020    70971\n",
       "Name: count, dtype: int64"
      ]
     },
     "execution_count": 133,
     "metadata": {},
     "output_type": "execute_result"
    }
   ],
   "source": [
    "master_df[\"YEAR\"].value_counts()"
   ]
  },
  {
   "cell_type": "code",
   "execution_count": 134,
   "metadata": {},
   "outputs": [
    {
     "data": {
      "text/plain": [
       "POSTED_SPEED_LIMIT\n",
       "30    242017\n",
       "35     27154\n",
       "25     14365\n",
       "20      6705\n",
       "40      5834\n",
       "45      3531\n",
       "15      3446\n",
       "10      1542\n",
       "55       353\n",
       "5        220\n",
       "0        139\n",
       "50       115\n",
       "3         60\n",
       "39        46\n",
       "60        31\n",
       "26        16\n",
       "7          8\n",
       "9          4\n",
       "33         4\n",
       "24         2\n",
       "2          2\n",
       "29         2\n",
       "34         2\n",
       "Name: count, dtype: int64"
      ]
     },
     "execution_count": 134,
     "metadata": {},
     "output_type": "execute_result"
    }
   ],
   "source": [
    "master_df[\"POSTED_SPEED_LIMIT\"].value_counts()"
   ]
  },
  {
   "cell_type": "code",
   "execution_count": 135,
   "metadata": {},
   "outputs": [
    {
     "data": {
      "text/plain": [
       "TRAFFIC_CONTROL_DEVICE\n",
       "TRAFFIC SIGNAL              130369\n",
       "NO CONTROLS                 115428\n",
       "STOP SIGN/FLASHER            47894\n",
       "UNKNOWN                       6868\n",
       "OTHER                         1955\n",
       "YIELD                          725\n",
       "PEDESTRIAN CROSSING SIGN       501\n",
       "FLASHING CONTROL SIGNAL        357\n",
       "DELINEATORS                    311\n",
       "SCHOOL ZONE                    262\n",
       "RAILROAD CROSSING GATE         259\n",
       "OTHER REG. SIGN                243\n",
       "OTHER WARNING SIGN             169\n",
       "POLICE/FLAGMAN                 108\n",
       "OTHER RAILROAD CROSSING         81\n",
       "RR CROSSING SIGN                41\n",
       "BICYCLE CROSSING SIGN           19\n",
       "NO PASSING                       8\n",
       "Name: count, dtype: int64"
      ]
     },
     "execution_count": 135,
     "metadata": {},
     "output_type": "execute_result"
    }
   ],
   "source": [
    "# can bin this into binary, Yes or no\n",
    "master_df[\"TRAFFIC_CONTROL_DEVICE\"].value_counts()"
   ]
  },
  {
   "cell_type": "code",
   "execution_count": 136,
   "metadata": {},
   "outputs": [
    {
     "data": {
      "text/plain": [
       "TRAFFIC_CONTROL_DEVICE\n",
       "SIGNAL                      130726\n",
       "NO CONTROLS                 115428\n",
       "STOP SIGN/FLASHER            47894\n",
       "UNKNOWN                       6868\n",
       "OTHER                         1955\n",
       "YIELD                          725\n",
       "PEDESTRIAN CROSSING SIGN       501\n",
       "DELINEATORS                    311\n",
       "SCHOOL ZONE                    262\n",
       "RAILROAD CROSSING GATE         259\n",
       "OTHER REG. SIGN                243\n",
       "OTHER WARNING SIGN             169\n",
       "POLICE/FLAGMAN                 108\n",
       "OTHER RAILROAD CROSSING         81\n",
       "RR CROSSING SIGN                41\n",
       "BICYCLE CROSSING SIGN           19\n",
       "NO PASSING                       8\n",
       "Name: count, dtype: int64"
      ]
     },
     "execution_count": 136,
     "metadata": {},
     "output_type": "execute_result"
    }
   ],
   "source": [
    "master_df['TRAFFIC_CONTROL_DEVICE'] = master_df['TRAFFIC_CONTROL_DEVICE'].apply(lambda x: 'SIGNAL' if 'SIGNAL' in x else x)\n",
    "master_df['TRAFFIC_CONTROL_DEVICE'].value_counts()"
   ]
  },
  {
   "cell_type": "code",
   "execution_count": 137,
   "metadata": {},
   "outputs": [
    {
     "data": {
      "text/plain": [
       "TRAFFIC_CONTROL_DEVICE\n",
       "SIGNAL                     130726\n",
       "NO CONTROLS                115428\n",
       "SIGN                        48867\n",
       "UNKNOWN                      6868\n",
       "OTHER                        1955\n",
       "YIELD                         725\n",
       "DELINEATORS                   311\n",
       "SCHOOL ZONE                   262\n",
       "RAILROAD CROSSING GATE        259\n",
       "POLICE/FLAGMAN                108\n",
       "OTHER RAILROAD CROSSING        81\n",
       "NO PASSING                      8\n",
       "Name: count, dtype: int64"
      ]
     },
     "execution_count": 137,
     "metadata": {},
     "output_type": "execute_result"
    }
   ],
   "source": [
    "master_df['TRAFFIC_CONTROL_DEVICE'] = master_df['TRAFFIC_CONTROL_DEVICE'].apply(lambda x: 'SIGN' if ' SIGN' in x else x)\n",
    "master_df['TRAFFIC_CONTROL_DEVICE'].value_counts()"
   ]
  },
  {
   "cell_type": "code",
   "execution_count": 138,
   "metadata": {},
   "outputs": [
    {
     "data": {
      "text/plain": [
       "TRAFFIC_CONTROL_DEVICE\n",
       "SIGNAL         131066\n",
       "NO CONTROLS    115428\n",
       "SIGN            49862\n",
       "OTHER            9242\n",
       "Name: count, dtype: int64"
      ]
     },
     "execution_count": 138,
     "metadata": {},
     "output_type": "execute_result"
    }
   ],
   "source": [
    "traffic_dict = {'NO CONTROLS': 'NO CONTROLS', 'SIGNAL':'SIGNAL', 'SIGN': 'SIGN', 'UNKNOWN': 'OTHER',\n",
    "               'OTHER': 'OTHER', 'LANE USE MARKING': 'SIGN', 'YIELD':'SIGN', 'RAILROAD CROSSING GATE': 'SIGNAL',\n",
    "               'SCHOOL ZONE': 'SIGN', 'DELINEATORS': 'OTHER', 'POLICE/FLAGMAN': 'OTHER', \n",
    "               'OTHER RAILROAD CROSSING': 'SIGNAL', 'NO PASSING': 'SIGN', }\n",
    "master_df['TRAFFIC_CONTROL_DEVICE'] = master_df['TRAFFIC_CONTROL_DEVICE'].map(traffic_dict)\n",
    "master_df['TRAFFIC_CONTROL_DEVICE'].value_counts()"
   ]
  },
  {
   "cell_type": "code",
   "execution_count": 139,
   "metadata": {},
   "outputs": [
    {
     "data": {
      "text/plain": [
       "DEVICE_CONDITION\n",
       "FUNCTIONING PROPERLY        163434\n",
       "NO CONTROLS                 119932\n",
       "UNKNOWN                      16368\n",
       "OTHER                         2595\n",
       "FUNCTIONING IMPROPERLY        1927\n",
       "NOT FUNCTIONING               1194\n",
       "WORN REFLECTIVE MATERIAL       100\n",
       "MISSING                         48\n",
       "Name: count, dtype: int64"
      ]
     },
     "execution_count": 139,
     "metadata": {},
     "output_type": "execute_result"
    }
   ],
   "source": [
    "master_df['DEVICE_CONDITION'].value_counts()"
   ]
  },
  {
   "cell_type": "code",
   "execution_count": 140,
   "metadata": {},
   "outputs": [
    {
     "data": {
      "text/plain": [
       "DEVICE_CONDITION\n",
       "FUNCTIONING PROPERLY               166129\n",
       "NO CONTROLS                        136300\n",
       "FUNCTIONING IMPROPERLY/ MISSING      3169\n",
       "Name: count, dtype: int64"
      ]
     },
     "execution_count": 140,
     "metadata": {},
     "output_type": "execute_result"
    }
   ],
   "source": [
    "device_dict = {'NO CONTROLS': 'NO CONTROLS',\n",
    "               'FUNCTIONING PROPERLY': 'FUNCTIONING PROPERLY',\n",
    "               'UNKNOWN': 'NO CONTROLS',\n",
    "               'FUNCTIONING IMPROPERLY':'FUNCTIONING IMPROPERLY/ MISSING',\n",
    "               'NOT FUNCTIONING':'FUNCTIONING IMPROPERLY/ MISSING',\n",
    "               'WORN REFLECTIVE MATERIAL': 'FUNCTIONING PROPERLY',\n",
    "               'MISSING': 'FUNCTIONING IMPROPERLY/ MISSING',\n",
    "               'OTHER': 'FUNCTIONING PROPERLY'}\n",
    "master_df['DEVICE_CONDITION'] = master_df['DEVICE_CONDITION'].map(device_dict)\n",
    "master_df['DEVICE_CONDITION'].value_counts()"
   ]
  },
  {
   "cell_type": "code",
   "execution_count": 141,
   "metadata": {},
   "outputs": [
    {
     "data": {
      "text/plain": [
       "WEATHER_CONDITION\n",
       "CLEAR                       249988\n",
       "RAIN                         30571\n",
       "CLOUDY/OVERCAST               8955\n",
       "SNOW                          7895\n",
       "UNKNOWN                       4641\n",
       "OTHER                         1242\n",
       "FREEZING RAIN/DRIZZLE         1181\n",
       "BLOWING SNOW                   407\n",
       "FOG/SMOKE/HAZE                 393\n",
       "SLEET/HAIL                     262\n",
       "SEVERE CROSS WIND GATE          61\n",
       "BLOWING SAND, SOIL, DIRT         2\n",
       "Name: count, dtype: int64"
      ]
     },
     "execution_count": 141,
     "metadata": {},
     "output_type": "execute_result"
    }
   ],
   "source": [
    "# bin into clear or not clear? unknown = clear, other=clear \n",
    "master_df[\"WEATHER_CONDITION\"].value_counts()"
   ]
  },
  {
   "cell_type": "code",
   "execution_count": 142,
   "metadata": {},
   "outputs": [
    {
     "data": {
      "text/plain": [
       "WEATHER_CONDITION\n",
       "CLEAR        255871\n",
       "INCLEMENT     49727\n",
       "Name: count, dtype: int64"
      ]
     },
     "execution_count": 142,
     "metadata": {},
     "output_type": "execute_result"
    }
   ],
   "source": [
    "weather_dict = {'CLEAR': 'CLEAR', 'RAIN': 'INCLEMENT', 'CLOUDY/OVERCAST': 'INCLEMENT', 'SNOW': 'INCLEMENT', 'UNKNOWN': 'CLEAR', 'OTHER': 'CLEAR',\n",
    "                'FREEZING RAIN/DRIZZLE': 'INCLEMENT', 'BLOWING SNOW':'INCLEMENT', 'FOG/SMOKE/HAZE': 'INCLEMENT', 'SLEET/HAIL': 'INCLEMENT', 'SEVERE CROSS WIND GATE': 'INCLEMENT',\n",
    "                'BLOWING SAND, SOIL, DIRT': 'INCLEMENT'\n",
    "               }\n",
    "master_df['WEATHER_CONDITION'] = master_df['WEATHER_CONDITION'].map(weather_dict)\n",
    "master_df['WEATHER_CONDITION'].value_counts()"
   ]
  },
  {
   "cell_type": "code",
   "execution_count": 143,
   "metadata": {},
   "outputs": [
    {
     "data": {
      "text/plain": [
       "LIGHTING_CONDITION\n",
       "DAYLIGHT                  187201\n",
       "DARKNESS, LIGHTED ROAD     89446\n",
       "DARKNESS                   11653\n",
       "DUSK                        9415\n",
       "DAWN                        5033\n",
       "UNKNOWN                     2850\n",
       "Name: count, dtype: int64"
      ]
     },
     "execution_count": 143,
     "metadata": {},
     "output_type": "execute_result"
    }
   ],
   "source": [
    "master_df[\"LIGHTING_CONDITION\"].value_counts()"
   ]
  },
  {
   "cell_type": "code",
   "execution_count": 144,
   "metadata": {},
   "outputs": [
    {
     "data": {
      "text/plain": [
       "LIGHTING_CONDITION\n",
       "VISIBLE                  190051\n",
       "DIMINISHED VISIBILITY    115547\n",
       "Name: count, dtype: int64"
      ]
     },
     "execution_count": 144,
     "metadata": {},
     "output_type": "execute_result"
    }
   ],
   "source": [
    "lighting_dict = {'DAYLIGHT':'VISIBLE','DARKNESS, LIGHTED ROAD':'DIMINISHED VISIBILITY', 'DARKNESS':'DIMINISHED VISIBILITY',\n",
    "                'DUSK':'DIMINISHED VISIBILITY', 'DAWN': 'DIMINISHED VISIBILITY', 'UNKNOWN': 'VISIBLE'}\n",
    "master_df['LIGHTING_CONDITION'] = master_df['LIGHTING_CONDITION'].map(lighting_dict)\n",
    "master_df['LIGHTING_CONDITION'].value_counts()"
   ]
  },
  {
   "cell_type": "code",
   "execution_count": 145,
   "metadata": {},
   "outputs": [
    {
     "data": {
      "text/plain": [
       "FIRST_CRASH_TYPE\n",
       "REAR END                        79129\n",
       "ANGLE                           74256\n",
       "TURNING                         64269\n",
       "SIDESWIPE SAME DIRECTION        22372\n",
       "PARKED MOTOR VEHICLE            17638\n",
       "PEDESTRIAN                      14657\n",
       "HEAD ON                          8905\n",
       "PEDALCYCLIST                     8648\n",
       "FIXED OBJECT                     6189\n",
       "SIDESWIPE OPPOSITE DIRECTION     4935\n",
       "REAR TO FRONT                    1520\n",
       "REAR TO SIDE                     1463\n",
       "OTHER OBJECT                     1087\n",
       "OVERTURNED                        222\n",
       "OTHER NONCOLLISION                147\n",
       "REAR TO REAR                      101\n",
       "ANIMAL                             32\n",
       "TRAIN                              28\n",
       "Name: count, dtype: int64"
      ]
     },
     "execution_count": 145,
     "metadata": {},
     "output_type": "execute_result"
    }
   ],
   "source": [
    "# Looking at the FIRST_CRASH_TYPE column \n",
    "master_df['FIRST_CRASH_TYPE'].value_counts()"
   ]
  },
  {
   "cell_type": "code",
   "execution_count": 146,
   "metadata": {},
   "outputs": [
    {
     "data": {
      "text/plain": [
       "FIRST_CRASH_TYPE\n",
       "REAR END            79129\n",
       "ANGLE               74256\n",
       "TURNING             64269\n",
       "SIDE SWIPE          27307\n",
       "OBJECT              24914\n",
       "PERSON OR ANIMAL    23337\n",
       "OTHER               12386\n",
       "Name: count, dtype: int64"
      ]
     },
     "execution_count": 146,
     "metadata": {},
     "output_type": "execute_result"
    }
   ],
   "source": [
    "first_crash_dict = {'REAR END': 'REAR END', 'SIDESWIPE SAME DIRECTION': 'SIDE SWIPE', 'TURNING': 'TURNING', 'PARKED MOTOR VEHICLE': 'OBJECT', 'ANGLE': 'ANGLE', 'PEDESTRIAN': 'PERSON OR ANIMAL',\n",
    "                    'SIDESWIPE OPPOSITE DIRECTION': 'SIDE SWIPE', 'FIXED OBJECT': 'OBJECT', 'PEDALCYCLIST': 'PERSON OR ANIMAL', 'HEAD ON': 'OTHER', 'REAR TO FRONT': 'OTHER',\n",
    "                    'REAR TO SIDE': 'OTHER', 'OTHER OBJECT': 'OBJECT', 'REAR TO REAR': 'OTHER', 'OTHER NONCOLLISION': 'OTHER', 'ANIMAL': 'PERSON OR ANIMAL', 'OVERTURNED': 'OTHER', 'TRAIN': 'OTHER'\n",
    "                    }\n",
    "master_df['FIRST_CRASH_TYPE'] = master_df['FIRST_CRASH_TYPE'].map(first_crash_dict)\n",
    "master_df['FIRST_CRASH_TYPE'].value_counts()"
   ]
  },
  {
   "cell_type": "code",
   "execution_count": 147,
   "metadata": {},
   "outputs": [
    {
     "data": {
      "text/plain": [
       "TRAFFICWAY_TYPE\n",
       "NOT DIVIDED                        116522\n",
       "FOUR WAY                            66367\n",
       "DIVIDED - W/MEDIAN (NOT RAISED)     48121\n",
       "DIVIDED - W/MEDIAN BARRIER          22812\n",
       "ONE-WAY                             17980\n",
       "T-INTERSECTION                      10854\n",
       "OTHER                                5286\n",
       "PARKING LOT                          3756\n",
       "CENTER TURN LANE                     2954\n",
       "UNKNOWN INTERSECTION TYPE            2455\n",
       "ALLEY                                1796\n",
       "FIVE POINT, OR MORE                  1199\n",
       "Y-INTERSECTION                       1197\n",
       "TRAFFIC ROUTE                        1067\n",
       "UNKNOWN                              1033\n",
       "NOT REPORTED                          853\n",
       "RAMP                                  662\n",
       "DRIVEWAY                              432\n",
       "L-INTERSECTION                        154\n",
       "ROUNDABOUT                             98\n",
       "Name: count, dtype: int64"
      ]
     },
     "execution_count": 147,
     "metadata": {},
     "output_type": "execute_result"
    }
   ],
   "source": [
    "master_df['TRAFFICWAY_TYPE'].value_counts()"
   ]
  },
  {
   "cell_type": "code",
   "execution_count": 148,
   "metadata": {},
   "outputs": [
    {
     "data": {
      "text/plain": [
       "TRAFFICWAY_TYPE\n",
       "NOT DIVIDED     117555\n",
       "OTHER           102352\n",
       "DIVIDED          70933\n",
       "INTERSECTION     14758\n",
       "Name: count, dtype: int64"
      ]
     },
     "execution_count": 148,
     "metadata": {},
     "output_type": "execute_result"
    }
   ],
   "source": [
    "#  \n",
    "trafficway_dict = {'NOT DIVIDED': 'NOT DIVIDED', 'DIVIDED - W/MEDIAN (NOT RAISED)': 'DIVIDED', 'ONE-WAY': 'OTHER', 'FOUR WAY': 'OTHER', 'DIVIDED - W/MEDIAN BARRIER': 'DIVIDED',\n",
    "                    'PARKING LOT': 'OTHER', 'OTHER': 'OTHER', 'T-INTERSECTION': 'INTERSECTION', 'ALLEY': 'OTHER', 'UNKNOWN': 'NOT DIVIDED', 'CENTER TURN LANE': 'OTHER', \n",
    "                    'UNKNOWN INTERSECTION TYPE': 'INTERSECTION', 'RAMP': 'OTHER', 'DRIVEWAY': 'OTHER', 'FIVE POINT, OR MORE': 'OTHER', 'Y-INTERSECTION': 'INTERSECTION', \n",
    "                    'TRAFFIC ROUTE': 'OTHER', 'NOT REPORTED': 'OTHER', 'ROUNDABOUT': 'INTERSECTION', 'L-INTERSECTION': 'INTERSECTION'\n",
    "               }\n",
    "master_df['TRAFFICWAY_TYPE'] = master_df['TRAFFICWAY_TYPE'].map(trafficway_dict)\n",
    "master_df['TRAFFICWAY_TYPE'].value_counts()"
   ]
  },
  {
   "cell_type": "code",
   "execution_count": 149,
   "metadata": {},
   "outputs": [
    {
     "data": {
      "text/plain": [
       "ALIGNMENT\n",
       "STRAIGHT        302355\n",
       "NOT STRAIGHT      3243\n",
       "Name: count, dtype: int64"
      ]
     },
     "execution_count": 149,
     "metadata": {},
     "output_type": "execute_result"
    }
   ],
   "source": [
    "# Street alignment at crash location, as determined by reporting officer. maybe drop?\n",
    "alignment_dict = {'STRAIGHT AND LEVEL': 'STRAIGHT', 'STRAIGHT ON GRADE': 'STRAIGHT', 'CURVE, LEVEL': 'NOT STRAIGHT', 'STRAIGHT ON HILLCREST': 'STRAIGHT',\n",
    "                    'CURVE ON GRADE': 'NOT STRAIGHT', 'CURVE ON HILLCREST': 'NOT STRAIGHT'\n",
    "               }\n",
    "master_df['ALIGNMENT'] = master_df['ALIGNMENT'].map(alignment_dict)\n",
    "master_df['ALIGNMENT'].value_counts()"
   ]
  },
  {
   "cell_type": "code",
   "execution_count": 150,
   "metadata": {},
   "outputs": [
    {
     "data": {
      "text/plain": [
       "ROADWAY_SURFACE_COND\n",
       "DRY        249355\n",
       "NOT DRY     55410\n",
       "OTHER         833\n",
       "Name: count, dtype: int64"
      ]
     },
     "execution_count": 150,
     "metadata": {},
     "output_type": "execute_result"
    }
   ],
   "source": [
    "roadway_surface_dict = {'DRY': 'DRY', 'WET': 'NOT DRY', 'UNKNOWN': 'DRY', 'SNOW OR SLUSH': 'NOT DRY', 'ICE': 'NOT DRY', \n",
    "                'OTHER': 'OTHER', 'SAND, MUD, DIRT': 'NOT DRY'\n",
    "               }\n",
    "master_df['ROADWAY_SURFACE_COND'] = master_df['ROADWAY_SURFACE_COND'].map(roadway_surface_dict)\n",
    "master_df['ROADWAY_SURFACE_COND'].value_counts()"
   ]
  },
  {
   "cell_type": "code",
   "execution_count": null,
   "metadata": {},
   "outputs": [],
   "source": []
  },
  {
   "cell_type": "markdown",
   "metadata": {},
   "source": [
    "# Dre's Space"
   ]
  },
  {
   "cell_type": "code",
   "execution_count": 151,
   "metadata": {},
   "outputs": [
    {
     "data": {
      "text/plain": [
       "VEHICLE_TYPE\n",
       "PASSENGER                      238025\n",
       "SPORT UTILITY VEHICLE (SUV)     51648\n",
       "VAN/MINI-VAN                    15925\n",
       "Name: count, dtype: int64"
      ]
     },
     "execution_count": 151,
     "metadata": {},
     "output_type": "execute_result"
    }
   ],
   "source": [
    "## Vehicle Type\n",
    "\n",
    "master_df['VEHICLE_TYPE'].value_counts()"
   ]
  },
  {
   "cell_type": "code",
   "execution_count": 152,
   "metadata": {},
   "outputs": [],
   "source": [
    "# Maneuver\n",
    "\n",
    "MANEUVER_dict = {'STRAIGHT AHEAD': 'STRAIGHT', 'TURNING LEFT': 'OTHER', 'SLOW/STOP IN TRAFFIC': 'OTHER', 'PARKED': 'OTHER', 'TURNING RIGHT': 'OTHER', 'UNKNOWN/NA': 'STRAIGHT',\n",
    "                 'OTHER': 'OTHER', 'PASSING/OVERTAKING': 'OTHER', 'CHANGING LANES': 'OTHER', 'U-TURN': 'OTHER', 'BACKING': 'OTHER', 'STARTING IN TRAFFIC': 'OTHER', \n",
    "                 'AVOIDING VEHICLES/OBJECTS': 'OTHER', 'ENTERING TRAFFIC LANE FROM PARKING': 'OTHER', 'SKIDDING/CONTROL LOSS': 'OTHER', 'DRIVING WRONG WAY': 'OTHER',\n",
    "                 'MERGING': 'OTHER', 'ENTER FROM DRIVE/ALLEY': 'OTHER', 'PARKED IN TRAFFIC LANE': 'OTHER', 'NEGOTIATING A CURVE': 'OTHER', 'LEAVING TRAFFIC LANE TO PARK': 'OTHER',\n",
    "                 'TURNING ON RED': 'OTHER', 'DISABLED': 'OTHER', 'DRIVERLESS': 'OTHER', 'DIVERGING': 'OTHER'}\n",
    "\n",
    "master_df['MANEUVER'] = master_df['MANEUVER'].map(MANEUVER_dict)"
   ]
  },
  {
   "cell_type": "code",
   "execution_count": 153,
   "metadata": {},
   "outputs": [
    {
     "data": {
      "text/plain": [
       "MANEUVER\n",
       "STRAIGHT    194291\n",
       "OTHER       111307\n",
       "Name: count, dtype: int64"
      ]
     },
     "execution_count": 153,
     "metadata": {},
     "output_type": "execute_result"
    }
   ],
   "source": [
    "\n",
    "master_df['MANEUVER'].value_counts()"
   ]
  },
  {
   "cell_type": "code",
   "execution_count": 154,
   "metadata": {},
   "outputs": [],
   "source": [
    "# FIRST CONTACT POINT\n",
    "\n",
    "master_df['FIRST_CONTACT_POINT'] = master_df['FIRST_CONTACT_POINT'].fillna('FRONT')\n",
    "\n",
    "FIRST_CONTACT_POINT_dict = {'FRONT': 'FRONT', 'REAR': 'REAR', 'FRONT-LEFT-CORNER': 'FRONT', 'FRONT-RIGHT-CORNER': 'FRONT', 'SIDE-LEFT': 'SIDES', 'SIDE-RIGHT': 'SIDES', \n",
    "                            'REAR-LEFT-CORNER': 'REAR',\n",
    "                            'REAR-RIGHT-CORNER':'REAR', 'SIDE-LEFT-REAR': 'SIDES', 'SIDE-LEFT-FRONT':'SIDES', 'SIDE-RIGHT-REAR':'SIDES', 'SIDE-RIGHT-FRONT': 'SIDES',\n",
    "                            'TOTAL (ALL AREAS)': 'OTHER', 'NONE': 'NONE', 'OTHER': 'OTHER', 'UNDER CARRIAGE': 'OTHER', 'TOP': 'OTHER', 'ROOF': 'OTHER', 'UNKNOWN': 'FRONT',\n",
    "                            'REAR-LEFT': 'REAR', 'FRONT-RIGHT': 'FRONT'}\n",
    "\n",
    "master_df['FIRST_CONTACT_POINT'] = master_df['FIRST_CONTACT_POINT'].map(FIRST_CONTACT_POINT_dict)"
   ]
  },
  {
   "cell_type": "code",
   "execution_count": 155,
   "metadata": {},
   "outputs": [
    {
     "data": {
      "text/plain": [
       "FIRST_CONTACT_POINT\n",
       "FRONT    179686\n",
       "REAR      63448\n",
       "SIDES     57061\n",
       "OTHER      4030\n",
       "NONE       1373\n",
       "Name: count, dtype: int64"
      ]
     },
     "execution_count": 155,
     "metadata": {},
     "output_type": "execute_result"
    }
   ],
   "source": [
    "master_df['FIRST_CONTACT_POINT'].value_counts(dropna=False)"
   ]
  },
  {
   "cell_type": "code",
   "execution_count": 156,
   "metadata": {},
   "outputs": [],
   "source": [
    "# Person Type\n",
    "\n",
    "PERSON_TYPE_dict = {'DRIVER': 'DRIVER', 'PASSENGER': 'PASSENGER', 'PEDESTRIAN': 'OTHER', 'BICYCLE': 'OTHER', 'NON-MOTOR VEHICLE': 'OTHER', 'NON-CONTACT VEHICLE': 'OTHER'}\n",
    "\n",
    "master_df['PERSON_TYPE'] = master_df['PERSON_TYPE'].map(PERSON_TYPE_dict)"
   ]
  },
  {
   "cell_type": "code",
   "execution_count": 157,
   "metadata": {},
   "outputs": [
    {
     "data": {
      "text/plain": [
       "PERSON_TYPE\n",
       "DRIVER       198143\n",
       "PASSENGER     95401\n",
       "OTHER         12054\n",
       "Name: count, dtype: int64"
      ]
     },
     "execution_count": 157,
     "metadata": {},
     "output_type": "execute_result"
    }
   ],
   "source": [
    "master_df['PERSON_TYPE'].value_counts(dropna=False)"
   ]
  },
  {
   "cell_type": "code",
   "execution_count": 158,
   "metadata": {},
   "outputs": [
    {
     "data": {
      "text/plain": [
       "SEX\n",
       "M      157656\n",
       "F      129998\n",
       "NaN      7393\n",
       "Name: count, dtype: int64"
      ]
     },
     "execution_count": 158,
     "metadata": {},
     "output_type": "execute_result"
    }
   ],
   "source": [
    "# Sex\n",
    "\n",
    "master_df = master_df[master_df['SEX'] != 'X']\n",
    "\n",
    "master_df['SEX'].value_counts(dropna=False)"
   ]
  },
  {
   "cell_type": "code",
   "execution_count": 159,
   "metadata": {},
   "outputs": [
    {
     "data": {
      "text/plain": [
       "AGE\n",
       "25.0     7372\n",
       "23.0     7232\n",
       "27.0     7173\n",
       "24.0     7132\n",
       "28.0     7108\n",
       "         ... \n",
       "101.0       4\n",
       "110.0       2\n",
       "97.0        2\n",
       "108.0       2\n",
       "105.0       1\n",
       "Name: count, Length: 107, dtype: int64"
      ]
     },
     "execution_count": 159,
     "metadata": {},
     "output_type": "execute_result"
    }
   ],
   "source": [
    "# Age\n",
    "\n",
    "master_df['AGE'].value_counts()\n",
    "\n",
    "# Filter for ages 16-75??"
   ]
  },
  {
   "cell_type": "code",
   "execution_count": 160,
   "metadata": {},
   "outputs": [],
   "source": [
    "# Safety Equipment\n",
    "\n",
    "master_df['SAFETY_EQUIPMENT'] = master_df['SAFETY_EQUIPMENT'].fillna('USAGE UNKNOWN')\n",
    "\n",
    "SAFETY_EQUIPMENT_dict = {'USAGE UNKNOWN': 'UNKNOWN', 'SAFETY BELT USED': 'USED', 'NONE PRESENT': 'NONE', 'HELMET NOT USED': 'NOT USED', 'SAFETY BELT NOT USED': 'NOT USED',\n",
    "                         'CHILD RESTRAINT - FORWARD FACING': 'USED', 'BICYCLE HELMET (PEDACYCLIST INVOLVED ONLY)': 'USED', 'CHILD RESTRAINT - TYPE UNKNOWN': 'USED',\n",
    "                         'CHILD RESTRAINT - REAR FACING': 'USED', 'DOT COMPLIANT MOTORCYCLE HELMET': 'USED', 'BOOSTER SEAT': 'USED', 'CHILD RESTRAINT NOT USED': 'NOT USED', \n",
    "                         'CHILD RESTRAINT USED IMPROPERLY': 'USED', 'NOT DOT COMPLIANT MOTORCYCLE HELMET': 'USED', 'WHEELCHAIR': 'USED', 'SHOULD/LAP BELT USED IMPROPERLY': 'USED',\n",
    "                         'HELMET USED': 'USED', 'STRETCHER': 'USED', 'CHILD RESTRAINT USED': 'USED'}\n",
    "\n",
    "master_df['SAFETY_EQUIPMENT'] = master_df['SAFETY_EQUIPMENT'].map(SAFETY_EQUIPMENT_dict)"
   ]
  },
  {
   "cell_type": "code",
   "execution_count": 161,
   "metadata": {},
   "outputs": [
    {
     "data": {
      "text/plain": [
       "SAFETY_EQUIPMENT\n",
       "UNKNOWN     139877\n",
       "USED        136400\n",
       "NONE         12606\n",
       "NOT USED      6164\n",
       "Name: count, dtype: int64"
      ]
     },
     "execution_count": 161,
     "metadata": {},
     "output_type": "execute_result"
    }
   ],
   "source": [
    "master_df['SAFETY_EQUIPMENT'].value_counts(dropna=False)"
   ]
  },
  {
   "cell_type": "code",
   "execution_count": 162,
   "metadata": {},
   "outputs": [],
   "source": [
    "# Airbag Deployed\n",
    "\n",
    "master_df['AIRBAG_DEPLOYED'] = master_df['AIRBAG_DEPLOYED'].fillna('DID NOT DEPLOY')\n",
    "\n",
    "AIRBAG_DEPLOYED_dict = {'DID NOT DEPLOY': 'DID NOT DEPLOY', 'NOT APPLICABLE': 'NOT APPLICABLE', 'DEPLOYED, COMBINATION': 'DEPLOYED', 'DEPLOYMENT UNKNOWN': 'UNKNOWN', \n",
    "                        'DEPLOYED, FRONT': 'DEPLOYED', 'DEPLOYED, SIDE': 'DEPLOYED', 'DEPLOYED OTHER (KNEE, AIR, BELT, ETC.)': 'DEPLOYED'}\n",
    "\n",
    "master_df['AIRBAG_DEPLOYED'] = master_df['AIRBAG_DEPLOYED'].map(AIRBAG_DEPLOYED_dict)"
   ]
  },
  {
   "cell_type": "code",
   "execution_count": 163,
   "metadata": {},
   "outputs": [
    {
     "data": {
      "text/plain": [
       "AIRBAG_DEPLOYED\n",
       "DID NOT DEPLOY    115041\n",
       "DEPLOYED           83943\n",
       "NOT APPLICABLE     65199\n",
       "UNKNOWN            30864\n",
       "Name: count, dtype: int64"
      ]
     },
     "execution_count": 163,
     "metadata": {},
     "output_type": "execute_result"
    }
   ],
   "source": [
    "master_df['AIRBAG_DEPLOYED'].value_counts(dropna=False)"
   ]
  },
  {
   "cell_type": "code",
   "execution_count": 164,
   "metadata": {},
   "outputs": [],
   "source": [
    "# Driver Action\n",
    "\n",
    "master_df['DRIVER_ACTION'] = master_df['DRIVER_ACTION'].fillna('NONE')\n",
    "\n",
    "DRIVER_ACTION_dict = {'NONE': 'NO ACTION TAKEN', 'UNKNOWN': 'NO ACTION TAKEN', 'FAILED TO YIELD': 'ACTIONS TAKEN', 'OTHER': 'ACTIONS TAKEN', 'DISREGARDED CONTROL DEVICES': 'ACTIONS TAKEN',\n",
    "                      'FOLLOWED TOO CLOSELY': 'ACTIONS TAKEN', 'TOO FAST FOR CONDITIONS': 'ACTIONS TAKEN', 'IMPROPER TURN': 'ACTIONS TAKEN', 'IMPROPER LANE CHANGE': 'ACTIONS TAKEN',\n",
    "                      'IMPROPER PASSING': 'ACTIONS TAKEN', 'WRONG WAY/SIDE': 'ACTIONS TAKEN', 'IMPROPER BACKING': 'ACTIONS TAKEN', 'OVERCORRECTED': 'ACTIONS TAKEN', 'EVADING POLICE VEHICLE': 'ACTIONS TAKEN',\n",
    "                      'CELL PHONE USE OTHER THAN TEXTING': 'ACTIONS TAKEN', 'EMERGENCY VEHICLE ON CALL': 'ACTIONS TAKEN', 'IMPROPER PARKING': 'ACTIONS TAKEN', 'TEXTING': 'ACTIONS TAKEN',\n",
    "                      'LICENSE RESTRICTIONS': 'ACTIONS TAKEN', 'STOPPED SCHOOL BUS': 'ACTIONS TAKEN'}\n",
    "\n",
    "master_df['DRIVER_ACTION'] = master_df['DRIVER_ACTION'].map(DRIVER_ACTION_dict)"
   ]
  },
  {
   "cell_type": "code",
   "execution_count": 165,
   "metadata": {},
   "outputs": [
    {
     "data": {
      "text/plain": [
       "DRIVER_ACTION\n",
       "NO ACTION TAKEN    216815\n",
       "ACTIONS TAKEN       78232\n",
       "Name: count, dtype: int64"
      ]
     },
     "execution_count": 165,
     "metadata": {},
     "output_type": "execute_result"
    }
   ],
   "source": [
    "master_df['DRIVER_ACTION'].value_counts(dropna=False)"
   ]
  },
  {
   "cell_type": "code",
   "execution_count": 166,
   "metadata": {},
   "outputs": [],
   "source": [
    "# Driver Vision\n",
    "\n",
    "master_df['DRIVER_VISION'] = master_df['DRIVER_VISION'].fillna('NONE')\n",
    "\n",
    "DRIVER_VISION_dict = { 'NONE':'UNKNOWN', 'NOT OBSCURED': 'NOT OBSCURED', 'UNKNOWN': 'UNKNOWN', 'OTHER': 'OBSCURED', 'MOVING VEHICLES': 'OBSCURED', 'PARKED VEHICLES': 'OBSCURED',\n",
    "                      'WINDSHIELD (WATER/ICE)': 'OBSCURED', 'BLINDED - SUNLIGHT': 'OBSCURED', 'TREES, PLANTS': 'OBSCURED', 'BUILDINGS': 'OBSCURED',\n",
    "                      'BLINDED - HEADLIGHTS': 'OBSCURED', 'BLOWING MATERIALS': 'OBSCURED', 'HILLCREST': 'OBSCURED',\n",
    "                      'EMBANKMENT': 'OBSCURED', 'SIGNBOARD': 'OBSCURED'}\n",
    "\n",
    "master_df['DRIVER_VISION'] = master_df['DRIVER_VISION'].map(DRIVER_VISION_dict)"
   ]
  },
  {
   "cell_type": "code",
   "execution_count": 167,
   "metadata": {},
   "outputs": [
    {
     "data": {
      "text/plain": [
       "DRIVER_VISION\n",
       "UNKNOWN         182906\n",
       "NOT OBSCURED    105706\n",
       "OBSCURED          6435\n",
       "Name: count, dtype: int64"
      ]
     },
     "execution_count": 167,
     "metadata": {},
     "output_type": "execute_result"
    }
   ],
   "source": [
    "master_df['DRIVER_VISION'].value_counts(dropna=False)"
   ]
  },
  {
   "cell_type": "code",
   "execution_count": 168,
   "metadata": {},
   "outputs": [],
   "source": [
    "# Physical Condition\n",
    "\n",
    "master_df['PHYSICAL_CONDITION'] = master_df['PHYSICAL_CONDITION'].fillna('UNKNOWN')\n",
    "\n",
    "PHYSICAL_CONDITION_dict = {'UNKNOWN': 'UNKNOWN', 'NORMAL': 'NORMAL', 'REMOVED BY EMS': 'NOT NORMAL', 'IMPAIRED - ALCOHOL': 'NOT NORMAL', 'OTHER': 'NOT NORMAL', 'EMOTIONAL': 'NOT NORMAL',\n",
    "                           'FATIGUED/ASLEEP': 'NOT NORMAL', 'ILLNESS/FAINTED': 'NOT NORMAL', 'IMPAIRED - DRUGS': 'NOT NORMAL', 'HAD BEEN DRINKING': 'NOT NORMAL', \n",
    "                           'IMPAIRED - ALCOHOL AND DRUGS': 'NOT NORMAL', 'MEDICATED': 'NOT NORMAL'}\n",
    "\n",
    "master_df['PHYSICAL_CONDITION'] = master_df['PHYSICAL_CONDITION'].map(PHYSICAL_CONDITION_dict)"
   ]
  },
  {
   "cell_type": "code",
   "execution_count": 169,
   "metadata": {},
   "outputs": [
    {
     "data": {
      "text/plain": [
       "PHYSICAL_CONDITION\n",
       "NORMAL        146803\n",
       "UNKNOWN       137339\n",
       "NOT NORMAL     10905\n",
       "Name: count, dtype: int64"
      ]
     },
     "execution_count": 169,
     "metadata": {},
     "output_type": "execute_result"
    }
   ],
   "source": [
    "master_df['PHYSICAL_CONDITION'].value_counts(dropna=False)"
   ]
  },
  {
   "cell_type": "code",
   "execution_count": 170,
   "metadata": {},
   "outputs": [],
   "source": [
    "# BAC Result\n",
    "\n",
    "master_df['BAC_RESULT'] = master_df['BAC_RESULT'].fillna('UNKNOWN')\n",
    "\n",
    "BAC_RESULT_dict = {'TEST NOT OFFERED': 'TEST NOT OFFERED', 'TEST REFUSED': 'TEST REFUSED', 'TEST PERFORMED, RESULTS UNKNOWN': 'TEST PERFORMED',\n",
    "                   'TEST TAKEN': 'TEST PERFORMED'}\n",
    "\n",
    "master_df['BAC_RESULT'] = master_df['BAC_RESULT'].map(BAC_RESULT_dict)"
   ]
  },
  {
   "cell_type": "code",
   "execution_count": 171,
   "metadata": {},
   "outputs": [
    {
     "data": {
      "text/plain": [
       "BAC_RESULT\n",
       "TEST NOT OFFERED    195341\n",
       "TEST REFUSED          2702\n",
       "TEST PERFORMED        1955\n",
       "Name: count, dtype: int64"
      ]
     },
     "execution_count": 171,
     "metadata": {},
     "output_type": "execute_result"
    }
   ],
   "source": [
    "master_df['BAC_RESULT'].value_counts()"
   ]
  },
  {
   "cell_type": "markdown",
   "metadata": {},
   "source": [
    "## Preprocessing for Modeling"
   ]
  },
  {
   "cell_type": "code",
   "execution_count": 172,
   "metadata": {
    "collapsed": true
   },
   "outputs": [
    {
     "name": "stdout",
     "output_type": "stream",
     "text": [
      "<class 'pandas.core.frame.DataFrame'>\n",
      "Index: 295047 entries, 0 to 3594374\n",
      "Data columns (total 34 columns):\n",
      " #   Column                   Non-Null Count   Dtype         \n",
      "---  ------                   --------------   -----         \n",
      " 0   CRASH_RECORD_ID          295047 non-null  object        \n",
      " 1   CRASH_DATE               295047 non-null  datetime64[ns]\n",
      " 2   POSTED_SPEED_LIMIT       295047 non-null  int64         \n",
      " 3   TRAFFIC_CONTROL_DEVICE   295047 non-null  object        \n",
      " 4   DEVICE_CONDITION         295047 non-null  object        \n",
      " 5   WEATHER_CONDITION        295047 non-null  object        \n",
      " 6   LIGHTING_CONDITION       295047 non-null  object        \n",
      " 7   FIRST_CRASH_TYPE         295047 non-null  object        \n",
      " 8   TRAFFICWAY_TYPE          295047 non-null  object        \n",
      " 9   ALIGNMENT                295047 non-null  object        \n",
      " 10  ROADWAY_SURFACE_COND     295047 non-null  object        \n",
      " 11  ROAD_DEFECT              295047 non-null  object        \n",
      " 12  CRASH_TYPE               295047 non-null  object        \n",
      " 13  DAMAGE                   295047 non-null  object        \n",
      " 14  PRIM_CONTRIBUTORY_CAUSE  214640 non-null  object        \n",
      " 15  NUM_UNITS                295047 non-null  int64         \n",
      " 16  INJURIES_TOTAL           295047 non-null  float64       \n",
      " 17  CRASH_HOUR               295047 non-null  int64         \n",
      " 18  CRASH_DAY_OF_WEEK        295047 non-null  int64         \n",
      " 19  CRASH_MONTH              295047 non-null  int64         \n",
      " 20  VEHICLE_TYPE             295047 non-null  object        \n",
      " 21  MANEUVER                 295047 non-null  object        \n",
      " 22  FIRST_CONTACT_POINT      295047 non-null  object        \n",
      " 23  PERSON_TYPE              295047 non-null  object        \n",
      " 24  SEX                      287654 non-null  object        \n",
      " 25  AGE                      251269 non-null  float64       \n",
      " 26  SAFETY_EQUIPMENT         295047 non-null  object        \n",
      " 27  AIRBAG_DEPLOYED          295047 non-null  object        \n",
      " 28  DRIVER_ACTION            295047 non-null  object        \n",
      " 29  DRIVER_VISION            295047 non-null  object        \n",
      " 30  PHYSICAL_CONDITION       295047 non-null  object        \n",
      " 31  BAC_RESULT               199998 non-null  object        \n",
      " 32  YEAR                     295047 non-null  int32         \n",
      " 33  SEVERE_INJURY            295047 non-null  object        \n",
      "dtypes: datetime64[ns](1), float64(2), int32(1), int64(5), object(25)\n",
      "memory usage: 77.7+ MB\n"
     ]
    }
   ],
   "source": [
    "#View our cleaned columns\n",
    "master_df.info()"
   ]
  },
  {
   "cell_type": "code",
   "execution_count": 173,
   "metadata": {},
   "outputs": [],
   "source": [
    "#We can get rid of RECORD_ID and DATE, not relevant for ML\n",
    "master_df.drop(labels=[\"CRASH_RECORD_ID\",\"CRASH_DATE\"], axis=1, inplace=True)"
   ]
  },
  {
   "cell_type": "code",
   "execution_count": 174,
   "metadata": {
    "collapsed": true
   },
   "outputs": [
    {
     "name": "stdout",
     "output_type": "stream",
     "text": [
      "<class 'pandas.core.frame.DataFrame'>\n",
      "Index: 295047 entries, 0 to 3594374\n",
      "Data columns (total 32 columns):\n",
      " #   Column                   Non-Null Count   Dtype  \n",
      "---  ------                   --------------   -----  \n",
      " 0   POSTED_SPEED_LIMIT       295047 non-null  int64  \n",
      " 1   TRAFFIC_CONTROL_DEVICE   295047 non-null  object \n",
      " 2   DEVICE_CONDITION         295047 non-null  object \n",
      " 3   WEATHER_CONDITION        295047 non-null  object \n",
      " 4   LIGHTING_CONDITION       295047 non-null  object \n",
      " 5   FIRST_CRASH_TYPE         295047 non-null  object \n",
      " 6   TRAFFICWAY_TYPE          295047 non-null  object \n",
      " 7   ALIGNMENT                295047 non-null  object \n",
      " 8   ROADWAY_SURFACE_COND     295047 non-null  object \n",
      " 9   ROAD_DEFECT              295047 non-null  object \n",
      " 10  CRASH_TYPE               295047 non-null  object \n",
      " 11  DAMAGE                   295047 non-null  object \n",
      " 12  PRIM_CONTRIBUTORY_CAUSE  214640 non-null  object \n",
      " 13  NUM_UNITS                295047 non-null  int64  \n",
      " 14  INJURIES_TOTAL           295047 non-null  float64\n",
      " 15  CRASH_HOUR               295047 non-null  int64  \n",
      " 16  CRASH_DAY_OF_WEEK        295047 non-null  int64  \n",
      " 17  CRASH_MONTH              295047 non-null  int64  \n",
      " 18  VEHICLE_TYPE             295047 non-null  object \n",
      " 19  MANEUVER                 295047 non-null  object \n",
      " 20  FIRST_CONTACT_POINT      295047 non-null  object \n",
      " 21  PERSON_TYPE              295047 non-null  object \n",
      " 22  SEX                      287654 non-null  object \n",
      " 23  AGE                      251269 non-null  float64\n",
      " 24  SAFETY_EQUIPMENT         295047 non-null  object \n",
      " 25  AIRBAG_DEPLOYED          295047 non-null  object \n",
      " 26  DRIVER_ACTION            295047 non-null  object \n",
      " 27  DRIVER_VISION            295047 non-null  object \n",
      " 28  PHYSICAL_CONDITION       295047 non-null  object \n",
      " 29  BAC_RESULT               199998 non-null  object \n",
      " 30  YEAR                     295047 non-null  int32  \n",
      " 31  SEVERE_INJURY            295047 non-null  object \n",
      "dtypes: float64(2), int32(1), int64(5), object(24)\n",
      "memory usage: 73.2+ MB\n"
     ]
    }
   ],
   "source": [
    "master_df.info()"
   ]
  },
  {
   "cell_type": "code",
   "execution_count": 175,
   "metadata": {},
   "outputs": [],
   "source": [
    "master_df.dropna(subset=[\"PRIM_CONTRIBUTORY_CAUSE\"],inplace=True)\n",
    "master_df.dropna(subset=[\"SEX\"], inplace=True)"
   ]
  },
  {
   "cell_type": "code",
   "execution_count": 176,
   "metadata": {},
   "outputs": [],
   "source": [
    "#Set our target\n",
    "y = master_df[\"PRIM_CONTRIBUTORY_CAUSE\"]\n",
    "X = master_df.drop(\"PRIM_CONTRIBUTORY_CAUSE\", axis=1)"
   ]
  },
  {
   "cell_type": "code",
   "execution_count": 177,
   "metadata": {},
   "outputs": [],
   "source": [
    "#Perform train test split\n",
    "X_train, X_test, y_train, y_test = train_test_split(X, y, random_state=100)"
   ]
  },
  {
   "cell_type": "code",
   "execution_count": 178,
   "metadata": {},
   "outputs": [
    {
     "data": {
      "text/plain": [
       "POSTED_SPEED_LIMIT            0\n",
       "TRAFFIC_CONTROL_DEVICE        0\n",
       "DEVICE_CONDITION              0\n",
       "WEATHER_CONDITION             0\n",
       "LIGHTING_CONDITION            0\n",
       "FIRST_CRASH_TYPE              0\n",
       "TRAFFICWAY_TYPE               0\n",
       "ALIGNMENT                     0\n",
       "ROADWAY_SURFACE_COND          0\n",
       "ROAD_DEFECT                   0\n",
       "CRASH_TYPE                    0\n",
       "DAMAGE                        0\n",
       "NUM_UNITS                     0\n",
       "INJURIES_TOTAL                0\n",
       "CRASH_HOUR                    0\n",
       "CRASH_DAY_OF_WEEK             0\n",
       "CRASH_MONTH                   0\n",
       "VEHICLE_TYPE                  0\n",
       "MANEUVER                      0\n",
       "FIRST_CONTACT_POINT           0\n",
       "PERSON_TYPE                   0\n",
       "SEX                           0\n",
       "AGE                       19470\n",
       "SAFETY_EQUIPMENT              0\n",
       "AIRBAG_DEPLOYED               0\n",
       "DRIVER_ACTION                 0\n",
       "DRIVER_VISION                 0\n",
       "PHYSICAL_CONDITION            0\n",
       "BAC_RESULT                48482\n",
       "YEAR                          0\n",
       "SEVERE_INJURY                 0\n",
       "dtype: int64"
      ]
     },
     "execution_count": 178,
     "metadata": {},
     "output_type": "execute_result"
    }
   ],
   "source": [
    "#Check for any missing values left\n",
    "X_train.isna().sum()"
   ]
  },
  {
   "cell_type": "code",
   "execution_count": 179,
   "metadata": {},
   "outputs": [],
   "source": [
    "#SEX - drop missing values\n",
    "# X_train.dropna(subset=[\"SEX\"], inplace=True)"
   ]
  },
  {
   "cell_type": "code",
   "execution_count": 180,
   "metadata": {
    "scrolled": false
   },
   "outputs": [
    {
     "data": {
      "text/plain": [
       "POSTED_SPEED_LIMIT            0\n",
       "TRAFFIC_CONTROL_DEVICE        0\n",
       "DEVICE_CONDITION              0\n",
       "WEATHER_CONDITION             0\n",
       "LIGHTING_CONDITION            0\n",
       "FIRST_CRASH_TYPE              0\n",
       "TRAFFICWAY_TYPE               0\n",
       "ALIGNMENT                     0\n",
       "ROADWAY_SURFACE_COND          0\n",
       "ROAD_DEFECT                   0\n",
       "CRASH_TYPE                    0\n",
       "DAMAGE                        0\n",
       "NUM_UNITS                     0\n",
       "INJURIES_TOTAL                0\n",
       "CRASH_HOUR                    0\n",
       "CRASH_DAY_OF_WEEK             0\n",
       "CRASH_MONTH                   0\n",
       "VEHICLE_TYPE                  0\n",
       "MANEUVER                      0\n",
       "FIRST_CONTACT_POINT           0\n",
       "PERSON_TYPE                   0\n",
       "SEX                           0\n",
       "AGE                       19470\n",
       "SAFETY_EQUIPMENT              0\n",
       "AIRBAG_DEPLOYED               0\n",
       "DRIVER_ACTION                 0\n",
       "DRIVER_VISION                 0\n",
       "PHYSICAL_CONDITION            0\n",
       "BAC_RESULT                48482\n",
       "YEAR                          0\n",
       "SEVERE_INJURY                 0\n",
       "dtype: int64"
      ]
     },
     "execution_count": 180,
     "metadata": {},
     "output_type": "execute_result"
    }
   ],
   "source": [
    "X_train.isna().sum()"
   ]
  },
  {
   "cell_type": "code",
   "execution_count": 181,
   "metadata": {},
   "outputs": [
    {
     "data": {
      "text/plain": [
       "AGE\n",
       "25.0     4111\n",
       "27.0     4025\n",
       "23.0     4009\n",
       "24.0     3988\n",
       "26.0     3869\n",
       "         ... \n",
       "100.0       4\n",
       "102.0       3\n",
       "110.0       2\n",
       "97.0        1\n",
       "98.0        1\n",
       "Name: count, Length: 104, dtype: int64"
      ]
     },
     "execution_count": 181,
     "metadata": {},
     "output_type": "execute_result"
    }
   ],
   "source": [
    "#age \n",
    "X_train[\"AGE\"].value_counts()"
   ]
  },
  {
   "cell_type": "code",
   "execution_count": 182,
   "metadata": {
    "scrolled": true
   },
   "outputs": [
    {
     "data": {
      "text/plain": [
       "AGE\n",
       "35.418702     19470\n",
       "25.000000      4111\n",
       "27.000000      4025\n",
       "23.000000      4009\n",
       "24.000000      3988\n",
       "              ...  \n",
       "100.000000        4\n",
       "102.000000        3\n",
       "110.000000        2\n",
       "97.000000         1\n",
       "98.000000         1\n",
       "Name: count, Length: 105, dtype: int64"
      ]
     },
     "execution_count": 182,
     "metadata": {},
     "output_type": "execute_result"
    }
   ],
   "source": [
    "X_train[\"AGE\"]=X_train['AGE'].fillna(X_train['AGE'].mean())\n",
    "X_train['AGE'].value_counts()"
   ]
  },
  {
   "cell_type": "code",
   "execution_count": 183,
   "metadata": {},
   "outputs": [
    {
     "data": {
      "text/plain": [
       "BAC_RESULT\n",
       "TEST NOT OFFERED    153972\n",
       "TEST REFUSED          1624\n",
       "TEST PERFORMED        1289\n",
       "Name: count, dtype: int64"
      ]
     },
     "execution_count": 183,
     "metadata": {},
     "output_type": "execute_result"
    }
   ],
   "source": [
    "X_train['BAC_RESULT'].fillna(value=\"TEST NOT OFFERED\",axis=0, inplace=True)\n",
    "X_train['BAC_RESULT'].value_counts()"
   ]
  },
  {
   "cell_type": "code",
   "execution_count": 184,
   "metadata": {},
   "outputs": [
    {
     "data": {
      "text/plain": [
       "<bound method NDFrame.to_csv of          POSTED_SPEED_LIMIT TRAFFIC_CONTROL_DEVICE      DEVICE_CONDITION  \\\n",
       "0                        15                  OTHER  FUNCTIONING PROPERLY   \n",
       "1                        15                  OTHER  FUNCTIONING PROPERLY   \n",
       "178                      25            NO CONTROLS           NO CONTROLS   \n",
       "179                      25            NO CONTROLS           NO CONTROLS   \n",
       "180                      25            NO CONTROLS           NO CONTROLS   \n",
       "...                     ...                    ...                   ...   \n",
       "3593982                  30            NO CONTROLS           NO CONTROLS   \n",
       "3593983                  30            NO CONTROLS           NO CONTROLS   \n",
       "3593984                  30            NO CONTROLS           NO CONTROLS   \n",
       "3593985                  30            NO CONTROLS           NO CONTROLS   \n",
       "3593986                  30            NO CONTROLS           NO CONTROLS   \n",
       "\n",
       "        WEATHER_CONDITION LIGHTING_CONDITION  FIRST_CRASH_TYPE  \\\n",
       "0                   CLEAR            VISIBLE          REAR END   \n",
       "1                   CLEAR            VISIBLE          REAR END   \n",
       "178             INCLEMENT            VISIBLE          REAR END   \n",
       "179             INCLEMENT            VISIBLE          REAR END   \n",
       "180             INCLEMENT            VISIBLE          REAR END   \n",
       "...                   ...                ...               ...   \n",
       "3593982             CLEAR            VISIBLE  PERSON OR ANIMAL   \n",
       "3593983             CLEAR            VISIBLE  PERSON OR ANIMAL   \n",
       "3593984             CLEAR            VISIBLE  PERSON OR ANIMAL   \n",
       "3593985             CLEAR            VISIBLE  PERSON OR ANIMAL   \n",
       "3593986             CLEAR            VISIBLE  PERSON OR ANIMAL   \n",
       "\n",
       "        TRAFFICWAY_TYPE     ALIGNMENT ROADWAY_SURFACE_COND ROAD_DEFECT  ...  \\\n",
       "0                 OTHER      STRAIGHT                  DRY  NO DEFECTS  ...   \n",
       "1                 OTHER      STRAIGHT                  DRY  NO DEFECTS  ...   \n",
       "178               OTHER  NOT STRAIGHT              NOT DRY  NO DEFECTS  ...   \n",
       "179               OTHER  NOT STRAIGHT              NOT DRY  NO DEFECTS  ...   \n",
       "180               OTHER  NOT STRAIGHT              NOT DRY  NO DEFECTS  ...   \n",
       "...                 ...           ...                  ...         ...  ...   \n",
       "3593982    INTERSECTION      STRAIGHT                  DRY  NO DEFECTS  ...   \n",
       "3593983    INTERSECTION      STRAIGHT                  DRY  NO DEFECTS  ...   \n",
       "3593984    INTERSECTION      STRAIGHT                  DRY  NO DEFECTS  ...   \n",
       "3593985    INTERSECTION      STRAIGHT                  DRY  NO DEFECTS  ...   \n",
       "3593986    INTERSECTION      STRAIGHT                  DRY  NO DEFECTS  ...   \n",
       "\n",
       "        SEX   AGE SAFETY_EQUIPMENT  AIRBAG_DEPLOYED    DRIVER_ACTION  \\\n",
       "0         M  45.0             USED   NOT APPLICABLE    ACTIONS TAKEN   \n",
       "1         M  69.0         NOT USED   NOT APPLICABLE  NO ACTION TAKEN   \n",
       "178       M  39.0             USED   NOT APPLICABLE    ACTIONS TAKEN   \n",
       "179       M  53.0             USED   NOT APPLICABLE  NO ACTION TAKEN   \n",
       "180       M  53.0             USED   NOT APPLICABLE  NO ACTION TAKEN   \n",
       "...      ..   ...              ...              ...              ...   \n",
       "3593982   M   3.0             NONE   DID NOT DEPLOY  NO ACTION TAKEN   \n",
       "3593983   M  22.0             USED   DID NOT DEPLOY  NO ACTION TAKEN   \n",
       "3593984   M   3.0             NONE   DID NOT DEPLOY  NO ACTION TAKEN   \n",
       "3593985   M  22.0             USED   DID NOT DEPLOY  NO ACTION TAKEN   \n",
       "3593986   M   3.0             NONE   DID NOT DEPLOY  NO ACTION TAKEN   \n",
       "\n",
       "         DRIVER_VISION  PHYSICAL_CONDITION        BAC_RESULT  YEAR  \\\n",
       "0         NOT OBSCURED              NORMAL  TEST NOT OFFERED  2023   \n",
       "1         NOT OBSCURED              NORMAL  TEST NOT OFFERED  2023   \n",
       "178       NOT OBSCURED             UNKNOWN      TEST REFUSED  2023   \n",
       "179       NOT OBSCURED              NORMAL  TEST NOT OFFERED  2023   \n",
       "180            UNKNOWN             UNKNOWN               NaN  2023   \n",
       "...                ...                 ...               ...   ...   \n",
       "3593982   NOT OBSCURED              NORMAL  TEST NOT OFFERED  2020   \n",
       "3593983   NOT OBSCURED              NORMAL  TEST NOT OFFERED  2020   \n",
       "3593984   NOT OBSCURED              NORMAL  TEST NOT OFFERED  2020   \n",
       "3593985   NOT OBSCURED              NORMAL  TEST NOT OFFERED  2020   \n",
       "3593986   NOT OBSCURED              NORMAL  TEST NOT OFFERED  2020   \n",
       "\n",
       "          SEVERE_INJURY  \n",
       "0        MINOR INJURIES  \n",
       "1        MINOR INJURIES  \n",
       "178      MINOR INJURIES  \n",
       "179      MINOR INJURIES  \n",
       "180      MINOR INJURIES  \n",
       "...                 ...  \n",
       "3593982  MINOR INJURIES  \n",
       "3593983  MINOR INJURIES  \n",
       "3593984  MINOR INJURIES  \n",
       "3593985  MINOR INJURIES  \n",
       "3593986  MINOR INJURIES  \n",
       "\n",
       "[209181 rows x 32 columns]>"
      ]
     },
     "execution_count": 184,
     "metadata": {},
     "output_type": "execute_result"
    }
   ],
   "source": [
    "master_df.to_csv"
   ]
  },
  {
   "cell_type": "code",
   "execution_count": 185,
   "metadata": {
    "collapsed": true
   },
   "outputs": [
    {
     "name": "stdout",
     "output_type": "stream",
     "text": [
      "<class 'pandas.core.frame.DataFrame'>\n",
      "Index: 156885 entries, 1591167 to 678260\n",
      "Data columns (total 31 columns):\n",
      " #   Column                  Non-Null Count   Dtype  \n",
      "---  ------                  --------------   -----  \n",
      " 0   POSTED_SPEED_LIMIT      156885 non-null  int64  \n",
      " 1   TRAFFIC_CONTROL_DEVICE  156885 non-null  object \n",
      " 2   DEVICE_CONDITION        156885 non-null  object \n",
      " 3   WEATHER_CONDITION       156885 non-null  object \n",
      " 4   LIGHTING_CONDITION      156885 non-null  object \n",
      " 5   FIRST_CRASH_TYPE        156885 non-null  object \n",
      " 6   TRAFFICWAY_TYPE         156885 non-null  object \n",
      " 7   ALIGNMENT               156885 non-null  object \n",
      " 8   ROADWAY_SURFACE_COND    156885 non-null  object \n",
      " 9   ROAD_DEFECT             156885 non-null  object \n",
      " 10  CRASH_TYPE              156885 non-null  object \n",
      " 11  DAMAGE                  156885 non-null  object \n",
      " 12  NUM_UNITS               156885 non-null  int64  \n",
      " 13  INJURIES_TOTAL          156885 non-null  float64\n",
      " 14  CRASH_HOUR              156885 non-null  int64  \n",
      " 15  CRASH_DAY_OF_WEEK       156885 non-null  int64  \n",
      " 16  CRASH_MONTH             156885 non-null  int64  \n",
      " 17  VEHICLE_TYPE            156885 non-null  object \n",
      " 18  MANEUVER                156885 non-null  object \n",
      " 19  FIRST_CONTACT_POINT     156885 non-null  object \n",
      " 20  PERSON_TYPE             156885 non-null  object \n",
      " 21  SEX                     156885 non-null  object \n",
      " 22  AGE                     156885 non-null  float64\n",
      " 23  SAFETY_EQUIPMENT        156885 non-null  object \n",
      " 24  AIRBAG_DEPLOYED         156885 non-null  object \n",
      " 25  DRIVER_ACTION           156885 non-null  object \n",
      " 26  DRIVER_VISION           156885 non-null  object \n",
      " 27  PHYSICAL_CONDITION      156885 non-null  object \n",
      " 28  BAC_RESULT              156885 non-null  object \n",
      " 29  YEAR                    156885 non-null  int32  \n",
      " 30  SEVERE_INJURY           156885 non-null  object \n",
      "dtypes: float64(2), int32(1), int64(5), object(23)\n",
      "memory usage: 37.7+ MB\n"
     ]
    },
    {
     "data": {
      "text/plain": [
       "POSTED_SPEED_LIMIT        0\n",
       "TRAFFIC_CONTROL_DEVICE    0\n",
       "DEVICE_CONDITION          0\n",
       "WEATHER_CONDITION         0\n",
       "LIGHTING_CONDITION        0\n",
       "FIRST_CRASH_TYPE          0\n",
       "TRAFFICWAY_TYPE           0\n",
       "ALIGNMENT                 0\n",
       "ROADWAY_SURFACE_COND      0\n",
       "ROAD_DEFECT               0\n",
       "CRASH_TYPE                0\n",
       "DAMAGE                    0\n",
       "NUM_UNITS                 0\n",
       "INJURIES_TOTAL            0\n",
       "CRASH_HOUR                0\n",
       "CRASH_DAY_OF_WEEK         0\n",
       "CRASH_MONTH               0\n",
       "VEHICLE_TYPE              0\n",
       "MANEUVER                  0\n",
       "FIRST_CONTACT_POINT       0\n",
       "PERSON_TYPE               0\n",
       "SEX                       0\n",
       "AGE                       0\n",
       "SAFETY_EQUIPMENT          0\n",
       "AIRBAG_DEPLOYED           0\n",
       "DRIVER_ACTION             0\n",
       "DRIVER_VISION             0\n",
       "PHYSICAL_CONDITION        0\n",
       "BAC_RESULT                0\n",
       "YEAR                      0\n",
       "SEVERE_INJURY             0\n",
       "dtype: int64"
      ]
     },
     "execution_count": 185,
     "metadata": {},
     "output_type": "execute_result"
    }
   ],
   "source": [
    "X_train.info()\n",
    "X_train.isna().sum()"
   ]
  },
  {
   "cell_type": "code",
   "execution_count": 186,
   "metadata": {},
   "outputs": [],
   "source": [
    "##list of columns to be encoded:\n",
    "category_list = ['TRAFFIC_CONTROL_DEVICE','DEVICE_CONDITION',\"WEATHER_CONDITION\",\"LIGHTING_CONDITION\",\"FIRST_CRASH_TYPE\",\"TRAFFICWAY_TYPE\",\n",
    "                 \"ALIGNMENT\",\"ROADWAY_SURFACE_COND\",\"ROAD_DEFECT\",\"CRASH_TYPE\",\"DAMAGE\",\"VEHICLE_TYPE\",\"MANEUVER\",\"FIRST_CONTACT_POINT\",\"PERSON_TYPE\",\"SEX\",\n",
    "                \"SAFETY_EQUIPMENT\",\"AIRBAG_DEPLOYED\",\"DRIVER_ACTION\",\"DRIVER_VISION\",\"PHYSICAL_CONDITION\",\"BAC_RESULT\",\"SEVERE_INJURY\"]"
   ]
  },
  {
   "cell_type": "code",
   "execution_count": 187,
   "metadata": {},
   "outputs": [
    {
     "data": {
      "text/html": [
       "<div>\n",
       "<style scoped>\n",
       "    .dataframe tbody tr th:only-of-type {\n",
       "        vertical-align: middle;\n",
       "    }\n",
       "\n",
       "    .dataframe tbody tr th {\n",
       "        vertical-align: top;\n",
       "    }\n",
       "\n",
       "    .dataframe thead th {\n",
       "        text-align: right;\n",
       "    }\n",
       "</style>\n",
       "<table border=\"1\" class=\"dataframe\">\n",
       "  <thead>\n",
       "    <tr style=\"text-align: right;\">\n",
       "      <th></th>\n",
       "      <th>TRAFFIC_CONTROL_DEVICE_NO CONTROLS</th>\n",
       "      <th>TRAFFIC_CONTROL_DEVICE_OTHER</th>\n",
       "      <th>TRAFFIC_CONTROL_DEVICE_SIGN</th>\n",
       "      <th>TRAFFIC_CONTROL_DEVICE_SIGNAL</th>\n",
       "      <th>DEVICE_CONDITION_FUNCTIONING IMPROPERLY/ MISSING</th>\n",
       "      <th>DEVICE_CONDITION_FUNCTIONING PROPERLY</th>\n",
       "      <th>DEVICE_CONDITION_NO CONTROLS</th>\n",
       "      <th>WEATHER_CONDITION_CLEAR</th>\n",
       "      <th>WEATHER_CONDITION_INCLEMENT</th>\n",
       "      <th>LIGHTING_CONDITION_DIMINISHED VISIBILITY</th>\n",
       "      <th>...</th>\n",
       "      <th>DRIVER_VISION_UNKNOWN</th>\n",
       "      <th>PHYSICAL_CONDITION_NORMAL</th>\n",
       "      <th>PHYSICAL_CONDITION_NOT NORMAL</th>\n",
       "      <th>PHYSICAL_CONDITION_UNKNOWN</th>\n",
       "      <th>BAC_RESULT_TEST NOT OFFERED</th>\n",
       "      <th>BAC_RESULT_TEST PERFORMED</th>\n",
       "      <th>BAC_RESULT_TEST REFUSED</th>\n",
       "      <th>SEVERE_INJURY_FATAL</th>\n",
       "      <th>SEVERE_INJURY_MAJOR INJURIES</th>\n",
       "      <th>SEVERE_INJURY_MINOR INJURIES</th>\n",
       "    </tr>\n",
       "  </thead>\n",
       "  <tbody>\n",
       "    <tr>\n",
       "      <th>1591167</th>\n",
       "      <td>0.0</td>\n",
       "      <td>0.0</td>\n",
       "      <td>1.0</td>\n",
       "      <td>0.0</td>\n",
       "      <td>0.0</td>\n",
       "      <td>0.0</td>\n",
       "      <td>1.0</td>\n",
       "      <td>1.0</td>\n",
       "      <td>0.0</td>\n",
       "      <td>0.0</td>\n",
       "      <td>...</td>\n",
       "      <td>0.0</td>\n",
       "      <td>1.0</td>\n",
       "      <td>0.0</td>\n",
       "      <td>0.0</td>\n",
       "      <td>1.0</td>\n",
       "      <td>0.0</td>\n",
       "      <td>0.0</td>\n",
       "      <td>0.0</td>\n",
       "      <td>0.0</td>\n",
       "      <td>1.0</td>\n",
       "    </tr>\n",
       "    <tr>\n",
       "      <th>1745329</th>\n",
       "      <td>1.0</td>\n",
       "      <td>0.0</td>\n",
       "      <td>0.0</td>\n",
       "      <td>0.0</td>\n",
       "      <td>0.0</td>\n",
       "      <td>0.0</td>\n",
       "      <td>1.0</td>\n",
       "      <td>1.0</td>\n",
       "      <td>0.0</td>\n",
       "      <td>0.0</td>\n",
       "      <td>...</td>\n",
       "      <td>1.0</td>\n",
       "      <td>0.0</td>\n",
       "      <td>0.0</td>\n",
       "      <td>1.0</td>\n",
       "      <td>1.0</td>\n",
       "      <td>0.0</td>\n",
       "      <td>0.0</td>\n",
       "      <td>0.0</td>\n",
       "      <td>0.0</td>\n",
       "      <td>1.0</td>\n",
       "    </tr>\n",
       "    <tr>\n",
       "      <th>363323</th>\n",
       "      <td>0.0</td>\n",
       "      <td>0.0</td>\n",
       "      <td>0.0</td>\n",
       "      <td>1.0</td>\n",
       "      <td>0.0</td>\n",
       "      <td>1.0</td>\n",
       "      <td>0.0</td>\n",
       "      <td>1.0</td>\n",
       "      <td>0.0</td>\n",
       "      <td>0.0</td>\n",
       "      <td>...</td>\n",
       "      <td>1.0</td>\n",
       "      <td>0.0</td>\n",
       "      <td>0.0</td>\n",
       "      <td>1.0</td>\n",
       "      <td>1.0</td>\n",
       "      <td>0.0</td>\n",
       "      <td>0.0</td>\n",
       "      <td>0.0</td>\n",
       "      <td>0.0</td>\n",
       "      <td>1.0</td>\n",
       "    </tr>\n",
       "    <tr>\n",
       "      <th>2937527</th>\n",
       "      <td>0.0</td>\n",
       "      <td>0.0</td>\n",
       "      <td>1.0</td>\n",
       "      <td>0.0</td>\n",
       "      <td>0.0</td>\n",
       "      <td>1.0</td>\n",
       "      <td>0.0</td>\n",
       "      <td>1.0</td>\n",
       "      <td>0.0</td>\n",
       "      <td>0.0</td>\n",
       "      <td>...</td>\n",
       "      <td>1.0</td>\n",
       "      <td>1.0</td>\n",
       "      <td>0.0</td>\n",
       "      <td>0.0</td>\n",
       "      <td>1.0</td>\n",
       "      <td>0.0</td>\n",
       "      <td>0.0</td>\n",
       "      <td>0.0</td>\n",
       "      <td>1.0</td>\n",
       "      <td>0.0</td>\n",
       "    </tr>\n",
       "    <tr>\n",
       "      <th>2770795</th>\n",
       "      <td>0.0</td>\n",
       "      <td>0.0</td>\n",
       "      <td>1.0</td>\n",
       "      <td>0.0</td>\n",
       "      <td>0.0</td>\n",
       "      <td>1.0</td>\n",
       "      <td>0.0</td>\n",
       "      <td>1.0</td>\n",
       "      <td>0.0</td>\n",
       "      <td>1.0</td>\n",
       "      <td>...</td>\n",
       "      <td>0.0</td>\n",
       "      <td>1.0</td>\n",
       "      <td>0.0</td>\n",
       "      <td>0.0</td>\n",
       "      <td>1.0</td>\n",
       "      <td>0.0</td>\n",
       "      <td>0.0</td>\n",
       "      <td>0.0</td>\n",
       "      <td>0.0</td>\n",
       "      <td>1.0</td>\n",
       "    </tr>\n",
       "    <tr>\n",
       "      <th>...</th>\n",
       "      <td>...</td>\n",
       "      <td>...</td>\n",
       "      <td>...</td>\n",
       "      <td>...</td>\n",
       "      <td>...</td>\n",
       "      <td>...</td>\n",
       "      <td>...</td>\n",
       "      <td>...</td>\n",
       "      <td>...</td>\n",
       "      <td>...</td>\n",
       "      <td>...</td>\n",
       "      <td>...</td>\n",
       "      <td>...</td>\n",
       "      <td>...</td>\n",
       "      <td>...</td>\n",
       "      <td>...</td>\n",
       "      <td>...</td>\n",
       "      <td>...</td>\n",
       "      <td>...</td>\n",
       "      <td>...</td>\n",
       "      <td>...</td>\n",
       "    </tr>\n",
       "    <tr>\n",
       "      <th>3391987</th>\n",
       "      <td>1.0</td>\n",
       "      <td>0.0</td>\n",
       "      <td>0.0</td>\n",
       "      <td>0.0</td>\n",
       "      <td>0.0</td>\n",
       "      <td>0.0</td>\n",
       "      <td>1.0</td>\n",
       "      <td>1.0</td>\n",
       "      <td>0.0</td>\n",
       "      <td>0.0</td>\n",
       "      <td>...</td>\n",
       "      <td>1.0</td>\n",
       "      <td>1.0</td>\n",
       "      <td>0.0</td>\n",
       "      <td>0.0</td>\n",
       "      <td>1.0</td>\n",
       "      <td>0.0</td>\n",
       "      <td>0.0</td>\n",
       "      <td>0.0</td>\n",
       "      <td>1.0</td>\n",
       "      <td>0.0</td>\n",
       "    </tr>\n",
       "    <tr>\n",
       "      <th>1158462</th>\n",
       "      <td>0.0</td>\n",
       "      <td>0.0</td>\n",
       "      <td>0.0</td>\n",
       "      <td>1.0</td>\n",
       "      <td>0.0</td>\n",
       "      <td>1.0</td>\n",
       "      <td>0.0</td>\n",
       "      <td>1.0</td>\n",
       "      <td>0.0</td>\n",
       "      <td>1.0</td>\n",
       "      <td>...</td>\n",
       "      <td>1.0</td>\n",
       "      <td>1.0</td>\n",
       "      <td>0.0</td>\n",
       "      <td>0.0</td>\n",
       "      <td>1.0</td>\n",
       "      <td>0.0</td>\n",
       "      <td>0.0</td>\n",
       "      <td>0.0</td>\n",
       "      <td>0.0</td>\n",
       "      <td>1.0</td>\n",
       "    </tr>\n",
       "    <tr>\n",
       "      <th>1378154</th>\n",
       "      <td>0.0</td>\n",
       "      <td>0.0</td>\n",
       "      <td>0.0</td>\n",
       "      <td>1.0</td>\n",
       "      <td>0.0</td>\n",
       "      <td>1.0</td>\n",
       "      <td>0.0</td>\n",
       "      <td>1.0</td>\n",
       "      <td>0.0</td>\n",
       "      <td>0.0</td>\n",
       "      <td>...</td>\n",
       "      <td>0.0</td>\n",
       "      <td>1.0</td>\n",
       "      <td>0.0</td>\n",
       "      <td>0.0</td>\n",
       "      <td>1.0</td>\n",
       "      <td>0.0</td>\n",
       "      <td>0.0</td>\n",
       "      <td>0.0</td>\n",
       "      <td>0.0</td>\n",
       "      <td>1.0</td>\n",
       "    </tr>\n",
       "    <tr>\n",
       "      <th>990587</th>\n",
       "      <td>1.0</td>\n",
       "      <td>0.0</td>\n",
       "      <td>0.0</td>\n",
       "      <td>0.0</td>\n",
       "      <td>0.0</td>\n",
       "      <td>0.0</td>\n",
       "      <td>1.0</td>\n",
       "      <td>1.0</td>\n",
       "      <td>0.0</td>\n",
       "      <td>1.0</td>\n",
       "      <td>...</td>\n",
       "      <td>0.0</td>\n",
       "      <td>1.0</td>\n",
       "      <td>0.0</td>\n",
       "      <td>0.0</td>\n",
       "      <td>1.0</td>\n",
       "      <td>0.0</td>\n",
       "      <td>0.0</td>\n",
       "      <td>0.0</td>\n",
       "      <td>0.0</td>\n",
       "      <td>1.0</td>\n",
       "    </tr>\n",
       "    <tr>\n",
       "      <th>678260</th>\n",
       "      <td>1.0</td>\n",
       "      <td>0.0</td>\n",
       "      <td>0.0</td>\n",
       "      <td>0.0</td>\n",
       "      <td>0.0</td>\n",
       "      <td>0.0</td>\n",
       "      <td>1.0</td>\n",
       "      <td>0.0</td>\n",
       "      <td>1.0</td>\n",
       "      <td>0.0</td>\n",
       "      <td>...</td>\n",
       "      <td>0.0</td>\n",
       "      <td>1.0</td>\n",
       "      <td>0.0</td>\n",
       "      <td>0.0</td>\n",
       "      <td>1.0</td>\n",
       "      <td>0.0</td>\n",
       "      <td>0.0</td>\n",
       "      <td>0.0</td>\n",
       "      <td>0.0</td>\n",
       "      <td>1.0</td>\n",
       "    </tr>\n",
       "  </tbody>\n",
       "</table>\n",
       "<p>156885 rows × 70 columns</p>\n",
       "</div>"
      ],
      "text/plain": [
       "         TRAFFIC_CONTROL_DEVICE_NO CONTROLS  TRAFFIC_CONTROL_DEVICE_OTHER  \\\n",
       "1591167                                 0.0                           0.0   \n",
       "1745329                                 1.0                           0.0   \n",
       "363323                                  0.0                           0.0   \n",
       "2937527                                 0.0                           0.0   \n",
       "2770795                                 0.0                           0.0   \n",
       "...                                     ...                           ...   \n",
       "3391987                                 1.0                           0.0   \n",
       "1158462                                 0.0                           0.0   \n",
       "1378154                                 0.0                           0.0   \n",
       "990587                                  1.0                           0.0   \n",
       "678260                                  1.0                           0.0   \n",
       "\n",
       "         TRAFFIC_CONTROL_DEVICE_SIGN  TRAFFIC_CONTROL_DEVICE_SIGNAL  \\\n",
       "1591167                          1.0                            0.0   \n",
       "1745329                          0.0                            0.0   \n",
       "363323                           0.0                            1.0   \n",
       "2937527                          1.0                            0.0   \n",
       "2770795                          1.0                            0.0   \n",
       "...                              ...                            ...   \n",
       "3391987                          0.0                            0.0   \n",
       "1158462                          0.0                            1.0   \n",
       "1378154                          0.0                            1.0   \n",
       "990587                           0.0                            0.0   \n",
       "678260                           0.0                            0.0   \n",
       "\n",
       "         DEVICE_CONDITION_FUNCTIONING IMPROPERLY/ MISSING  \\\n",
       "1591167                                               0.0   \n",
       "1745329                                               0.0   \n",
       "363323                                                0.0   \n",
       "2937527                                               0.0   \n",
       "2770795                                               0.0   \n",
       "...                                                   ...   \n",
       "3391987                                               0.0   \n",
       "1158462                                               0.0   \n",
       "1378154                                               0.0   \n",
       "990587                                                0.0   \n",
       "678260                                                0.0   \n",
       "\n",
       "         DEVICE_CONDITION_FUNCTIONING PROPERLY  DEVICE_CONDITION_NO CONTROLS  \\\n",
       "1591167                                    0.0                           1.0   \n",
       "1745329                                    0.0                           1.0   \n",
       "363323                                     1.0                           0.0   \n",
       "2937527                                    1.0                           0.0   \n",
       "2770795                                    1.0                           0.0   \n",
       "...                                        ...                           ...   \n",
       "3391987                                    0.0                           1.0   \n",
       "1158462                                    1.0                           0.0   \n",
       "1378154                                    1.0                           0.0   \n",
       "990587                                     0.0                           1.0   \n",
       "678260                                     0.0                           1.0   \n",
       "\n",
       "         WEATHER_CONDITION_CLEAR  WEATHER_CONDITION_INCLEMENT  \\\n",
       "1591167                      1.0                          0.0   \n",
       "1745329                      1.0                          0.0   \n",
       "363323                       1.0                          0.0   \n",
       "2937527                      1.0                          0.0   \n",
       "2770795                      1.0                          0.0   \n",
       "...                          ...                          ...   \n",
       "3391987                      1.0                          0.0   \n",
       "1158462                      1.0                          0.0   \n",
       "1378154                      1.0                          0.0   \n",
       "990587                       1.0                          0.0   \n",
       "678260                       0.0                          1.0   \n",
       "\n",
       "         LIGHTING_CONDITION_DIMINISHED VISIBILITY  ...  DRIVER_VISION_UNKNOWN  \\\n",
       "1591167                                       0.0  ...                    0.0   \n",
       "1745329                                       0.0  ...                    1.0   \n",
       "363323                                        0.0  ...                    1.0   \n",
       "2937527                                       0.0  ...                    1.0   \n",
       "2770795                                       1.0  ...                    0.0   \n",
       "...                                           ...  ...                    ...   \n",
       "3391987                                       0.0  ...                    1.0   \n",
       "1158462                                       1.0  ...                    1.0   \n",
       "1378154                                       0.0  ...                    0.0   \n",
       "990587                                        1.0  ...                    0.0   \n",
       "678260                                        0.0  ...                    0.0   \n",
       "\n",
       "         PHYSICAL_CONDITION_NORMAL  PHYSICAL_CONDITION_NOT NORMAL  \\\n",
       "1591167                        1.0                            0.0   \n",
       "1745329                        0.0                            0.0   \n",
       "363323                         0.0                            0.0   \n",
       "2937527                        1.0                            0.0   \n",
       "2770795                        1.0                            0.0   \n",
       "...                            ...                            ...   \n",
       "3391987                        1.0                            0.0   \n",
       "1158462                        1.0                            0.0   \n",
       "1378154                        1.0                            0.0   \n",
       "990587                         1.0                            0.0   \n",
       "678260                         1.0                            0.0   \n",
       "\n",
       "         PHYSICAL_CONDITION_UNKNOWN  BAC_RESULT_TEST NOT OFFERED  \\\n",
       "1591167                         0.0                          1.0   \n",
       "1745329                         1.0                          1.0   \n",
       "363323                          1.0                          1.0   \n",
       "2937527                         0.0                          1.0   \n",
       "2770795                         0.0                          1.0   \n",
       "...                             ...                          ...   \n",
       "3391987                         0.0                          1.0   \n",
       "1158462                         0.0                          1.0   \n",
       "1378154                         0.0                          1.0   \n",
       "990587                          0.0                          1.0   \n",
       "678260                          0.0                          1.0   \n",
       "\n",
       "         BAC_RESULT_TEST PERFORMED  BAC_RESULT_TEST REFUSED  \\\n",
       "1591167                        0.0                      0.0   \n",
       "1745329                        0.0                      0.0   \n",
       "363323                         0.0                      0.0   \n",
       "2937527                        0.0                      0.0   \n",
       "2770795                        0.0                      0.0   \n",
       "...                            ...                      ...   \n",
       "3391987                        0.0                      0.0   \n",
       "1158462                        0.0                      0.0   \n",
       "1378154                        0.0                      0.0   \n",
       "990587                         0.0                      0.0   \n",
       "678260                         0.0                      0.0   \n",
       "\n",
       "         SEVERE_INJURY_FATAL  SEVERE_INJURY_MAJOR INJURIES  \\\n",
       "1591167                  0.0                           0.0   \n",
       "1745329                  0.0                           0.0   \n",
       "363323                   0.0                           0.0   \n",
       "2937527                  0.0                           1.0   \n",
       "2770795                  0.0                           0.0   \n",
       "...                      ...                           ...   \n",
       "3391987                  0.0                           1.0   \n",
       "1158462                  0.0                           0.0   \n",
       "1378154                  0.0                           0.0   \n",
       "990587                   0.0                           0.0   \n",
       "678260                   0.0                           0.0   \n",
       "\n",
       "         SEVERE_INJURY_MINOR INJURIES  \n",
       "1591167                           1.0  \n",
       "1745329                           1.0  \n",
       "363323                            1.0  \n",
       "2937527                           0.0  \n",
       "2770795                           1.0  \n",
       "...                               ...  \n",
       "3391987                           0.0  \n",
       "1158462                           1.0  \n",
       "1378154                           1.0  \n",
       "990587                            1.0  \n",
       "678260                            1.0  \n",
       "\n",
       "[156885 rows x 70 columns]"
      ]
     },
     "execution_count": 187,
     "metadata": {},
     "output_type": "execute_result"
    }
   ],
   "source": [
    "#We will One-hot encode all of our columns\n",
    "from sklearn.preprocessing import OneHotEncoder\n",
    "\n",
    "ohe = OneHotEncoder(categories='auto')\n",
    "\n",
    "encoded_train_arr = ohe.fit_transform(X_train[category_list]).toarray()\n",
    "encoded_train_labels = ohe.get_feature_names_out()\n",
    "encoded_train_labels\n",
    "encoded_train_labels = np.array(encoded_train_labels).ravel()\n",
    "encoded_train_arr = pd.DataFrame(encoded_train_arr, columns = encoded_train_labels, index=X_train.index)\n",
    "encoded_train_arr"
   ]
  },
  {
   "cell_type": "code",
   "execution_count": 188,
   "metadata": {},
   "outputs": [],
   "source": [
    "#Drop the original columns and append our encoded array\n",
    "X_train.drop(category_list, axis=1, inplace=True)\n",
    "X_train = pd.concat([X_train, encoded_train_arr], axis=1)"
   ]
  },
  {
   "cell_type": "code",
   "execution_count": 189,
   "metadata": {
    "collapsed": true
   },
   "outputs": [
    {
     "name": "stdout",
     "output_type": "stream",
     "text": [
      "<class 'pandas.core.frame.DataFrame'>\n",
      "Index: 156885 entries, 1591167 to 678260\n",
      "Data columns (total 78 columns):\n",
      " #   Column                                            Non-Null Count   Dtype  \n",
      "---  ------                                            --------------   -----  \n",
      " 0   POSTED_SPEED_LIMIT                                156885 non-null  int64  \n",
      " 1   NUM_UNITS                                         156885 non-null  int64  \n",
      " 2   INJURIES_TOTAL                                    156885 non-null  float64\n",
      " 3   CRASH_HOUR                                        156885 non-null  int64  \n",
      " 4   CRASH_DAY_OF_WEEK                                 156885 non-null  int64  \n",
      " 5   CRASH_MONTH                                       156885 non-null  int64  \n",
      " 6   AGE                                               156885 non-null  float64\n",
      " 7   YEAR                                              156885 non-null  int32  \n",
      " 8   TRAFFIC_CONTROL_DEVICE_NO CONTROLS                156885 non-null  float64\n",
      " 9   TRAFFIC_CONTROL_DEVICE_OTHER                      156885 non-null  float64\n",
      " 10  TRAFFIC_CONTROL_DEVICE_SIGN                       156885 non-null  float64\n",
      " 11  TRAFFIC_CONTROL_DEVICE_SIGNAL                     156885 non-null  float64\n",
      " 12  DEVICE_CONDITION_FUNCTIONING IMPROPERLY/ MISSING  156885 non-null  float64\n",
      " 13  DEVICE_CONDITION_FUNCTIONING PROPERLY             156885 non-null  float64\n",
      " 14  DEVICE_CONDITION_NO CONTROLS                      156885 non-null  float64\n",
      " 15  WEATHER_CONDITION_CLEAR                           156885 non-null  float64\n",
      " 16  WEATHER_CONDITION_INCLEMENT                       156885 non-null  float64\n",
      " 17  LIGHTING_CONDITION_DIMINISHED VISIBILITY          156885 non-null  float64\n",
      " 18  LIGHTING_CONDITION_VISIBLE                        156885 non-null  float64\n",
      " 19  FIRST_CRASH_TYPE_ANGLE                            156885 non-null  float64\n",
      " 20  FIRST_CRASH_TYPE_OBJECT                           156885 non-null  float64\n",
      " 21  FIRST_CRASH_TYPE_OTHER                            156885 non-null  float64\n",
      " 22  FIRST_CRASH_TYPE_PERSON OR ANIMAL                 156885 non-null  float64\n",
      " 23  FIRST_CRASH_TYPE_REAR END                         156885 non-null  float64\n",
      " 24  FIRST_CRASH_TYPE_SIDE SWIPE                       156885 non-null  float64\n",
      " 25  FIRST_CRASH_TYPE_TURNING                          156885 non-null  float64\n",
      " 26  TRAFFICWAY_TYPE_DIVIDED                           156885 non-null  float64\n",
      " 27  TRAFFICWAY_TYPE_INTERSECTION                      156885 non-null  float64\n",
      " 28  TRAFFICWAY_TYPE_NOT DIVIDED                       156885 non-null  float64\n",
      " 29  TRAFFICWAY_TYPE_OTHER                             156885 non-null  float64\n",
      " 30  ALIGNMENT_NOT STRAIGHT                            156885 non-null  float64\n",
      " 31  ALIGNMENT_STRAIGHT                                156885 non-null  float64\n",
      " 32  ROADWAY_SURFACE_COND_DRY                          156885 non-null  float64\n",
      " 33  ROADWAY_SURFACE_COND_NOT DRY                      156885 non-null  float64\n",
      " 34  ROADWAY_SURFACE_COND_OTHER                        156885 non-null  float64\n",
      " 35  ROAD_DEFECT_DEFECTS                               156885 non-null  float64\n",
      " 36  ROAD_DEFECT_NO DEFECTS                            156885 non-null  float64\n",
      " 37  CRASH_TYPE_INJURY AND / OR TOW DUE TO CRASH       156885 non-null  float64\n",
      " 38  CRASH_TYPE_NO INJURY / DRIVE AWAY                 156885 non-null  float64\n",
      " 39  DAMAGE_OVER $1500                                 156885 non-null  float64\n",
      " 40  DAMAGE_UNDER $1500                                156885 non-null  float64\n",
      " 41  VEHICLE_TYPE_PASSENGER                            156885 non-null  float64\n",
      " 42  VEHICLE_TYPE_SPORT UTILITY VEHICLE (SUV)          156885 non-null  float64\n",
      " 43  VEHICLE_TYPE_VAN/MINI-VAN                         156885 non-null  float64\n",
      " 44  MANEUVER_OTHER                                    156885 non-null  float64\n",
      " 45  MANEUVER_STRAIGHT                                 156885 non-null  float64\n",
      " 46  FIRST_CONTACT_POINT_FRONT                         156885 non-null  float64\n",
      " 47  FIRST_CONTACT_POINT_NONE                          156885 non-null  float64\n",
      " 48  FIRST_CONTACT_POINT_OTHER                         156885 non-null  float64\n",
      " 49  FIRST_CONTACT_POINT_REAR                          156885 non-null  float64\n",
      " 50  FIRST_CONTACT_POINT_SIDES                         156885 non-null  float64\n",
      " 51  PERSON_TYPE_DRIVER                                156885 non-null  float64\n",
      " 52  PERSON_TYPE_OTHER                                 156885 non-null  float64\n",
      " 53  PERSON_TYPE_PASSENGER                             156885 non-null  float64\n",
      " 54  SEX_F                                             156885 non-null  float64\n",
      " 55  SEX_M                                             156885 non-null  float64\n",
      " 56  SAFETY_EQUIPMENT_NONE                             156885 non-null  float64\n",
      " 57  SAFETY_EQUIPMENT_NOT USED                         156885 non-null  float64\n",
      " 58  SAFETY_EQUIPMENT_UNKNOWN                          156885 non-null  float64\n",
      " 59  SAFETY_EQUIPMENT_USED                             156885 non-null  float64\n",
      " 60  AIRBAG_DEPLOYED_DEPLOYED                          156885 non-null  float64\n",
      " 61  AIRBAG_DEPLOYED_DID NOT DEPLOY                    156885 non-null  float64\n",
      " 62  AIRBAG_DEPLOYED_NOT APPLICABLE                    156885 non-null  float64\n",
      " 63  AIRBAG_DEPLOYED_UNKNOWN                           156885 non-null  float64\n",
      " 64  DRIVER_ACTION_ACTIONS TAKEN                       156885 non-null  float64\n",
      " 65  DRIVER_ACTION_NO ACTION TAKEN                     156885 non-null  float64\n",
      " 66  DRIVER_VISION_NOT OBSCURED                        156885 non-null  float64\n",
      " 67  DRIVER_VISION_OBSCURED                            156885 non-null  float64\n",
      " 68  DRIVER_VISION_UNKNOWN                             156885 non-null  float64\n",
      " 69  PHYSICAL_CONDITION_NORMAL                         156885 non-null  float64\n",
      " 70  PHYSICAL_CONDITION_NOT NORMAL                     156885 non-null  float64\n",
      " 71  PHYSICAL_CONDITION_UNKNOWN                        156885 non-null  float64\n",
      " 72  BAC_RESULT_TEST NOT OFFERED                       156885 non-null  float64\n",
      " 73  BAC_RESULT_TEST PERFORMED                         156885 non-null  float64\n",
      " 74  BAC_RESULT_TEST REFUSED                           156885 non-null  float64\n",
      " 75  SEVERE_INJURY_FATAL                               156885 non-null  float64\n",
      " 76  SEVERE_INJURY_MAJOR INJURIES                      156885 non-null  float64\n",
      " 77  SEVERE_INJURY_MINOR INJURIES                      156885 non-null  float64\n",
      "dtypes: float64(72), int32(1), int64(5)\n",
      "memory usage: 94.0 MB\n"
     ]
    }
   ],
   "source": [
    "# Visually inspect X_train\n",
    "X_train.info()"
   ]
  },
  {
   "cell_type": "markdown",
   "metadata": {},
   "source": [
    "## Modeling: "
   ]
  },
  {
   "cell_type": "code",
   "execution_count": null,
   "metadata": {},
   "outputs": [],
   "source": []
  },
  {
   "cell_type": "code",
   "execution_count": null,
   "metadata": {},
   "outputs": [],
   "source": []
  },
  {
   "cell_type": "markdown",
   "metadata": {},
   "source": [
    "## **Testing:**"
   ]
  },
  {
   "cell_type": "code",
   "execution_count": 190,
   "metadata": {},
   "outputs": [
    {
     "name": "stdout",
     "output_type": "stream",
     "text": [
      "<class 'pandas.core.frame.DataFrame'>\n",
      "Index: 52296 entries, 2830395 to 2814652\n",
      "Data columns (total 31 columns):\n",
      " #   Column                  Non-Null Count  Dtype  \n",
      "---  ------                  --------------  -----  \n",
      " 0   POSTED_SPEED_LIMIT      52296 non-null  int64  \n",
      " 1   TRAFFIC_CONTROL_DEVICE  52296 non-null  object \n",
      " 2   DEVICE_CONDITION        52296 non-null  object \n",
      " 3   WEATHER_CONDITION       52296 non-null  object \n",
      " 4   LIGHTING_CONDITION      52296 non-null  object \n",
      " 5   FIRST_CRASH_TYPE        52296 non-null  object \n",
      " 6   TRAFFICWAY_TYPE         52296 non-null  object \n",
      " 7   ALIGNMENT               52296 non-null  object \n",
      " 8   ROADWAY_SURFACE_COND    52296 non-null  object \n",
      " 9   ROAD_DEFECT             52296 non-null  object \n",
      " 10  CRASH_TYPE              52296 non-null  object \n",
      " 11  DAMAGE                  52296 non-null  object \n",
      " 12  NUM_UNITS               52296 non-null  int64  \n",
      " 13  INJURIES_TOTAL          52296 non-null  float64\n",
      " 14  CRASH_HOUR              52296 non-null  int64  \n",
      " 15  CRASH_DAY_OF_WEEK       52296 non-null  int64  \n",
      " 16  CRASH_MONTH             52296 non-null  int64  \n",
      " 17  VEHICLE_TYPE            52296 non-null  object \n",
      " 18  MANEUVER                52296 non-null  object \n",
      " 19  FIRST_CONTACT_POINT     52296 non-null  object \n",
      " 20  PERSON_TYPE             52296 non-null  object \n",
      " 21  SEX                     52296 non-null  object \n",
      " 22  AGE                     45774 non-null  float64\n",
      " 23  SAFETY_EQUIPMENT        52296 non-null  object \n",
      " 24  AIRBAG_DEPLOYED         52296 non-null  object \n",
      " 25  DRIVER_ACTION           52296 non-null  object \n",
      " 26  DRIVER_VISION           52296 non-null  object \n",
      " 27  PHYSICAL_CONDITION      52296 non-null  object \n",
      " 28  BAC_RESULT              36135 non-null  object \n",
      " 29  YEAR                    52296 non-null  int32  \n",
      " 30  SEVERE_INJURY           52296 non-null  object \n",
      "dtypes: float64(2), int32(1), int64(5), object(23)\n",
      "memory usage: 12.6+ MB\n"
     ]
    }
   ],
   "source": [
    "#Do the same changes to X_test:\n",
    "X_test.info()"
   ]
  },
  {
   "cell_type": "code",
   "execution_count": 191,
   "metadata": {},
   "outputs": [],
   "source": [
    "#deal with missing values\n",
    "\n",
    "X_test[\"AGE\"]=X_test['AGE'].fillna(X_test['AGE'].mean())\n",
    "X_test['BAC_RESULT'].fillna(value=\"TEST NOT OFFERED\",axis=0, inplace=True)\n",
    "\n",
    "#encode the categoricals\n",
    "encoded_test_arr = ohe.fit_transform(X_test[category_list]).toarray()\n",
    "encoded_test_labels = ohe.get_feature_names_out()\n",
    "encoded_test_labels\n",
    "encoded_test_labels = np.array(encoded_test_labels).ravel()\n",
    "encoded_test_arr = pd.DataFrame(encoded_test_arr, columns = encoded_test_labels, index=X_test.index)\n",
    "encoded_test_arr\n",
    "\n",
    "#drop orginal column and append our encoded columns\n",
    "X_test.drop(category_list, axis=1, inplace=True)\n",
    "X_test = pd.concat([X_test, encoded_test_arr], axis=1)"
   ]
  },
  {
   "cell_type": "code",
   "execution_count": 192,
   "metadata": {
    "collapsed": true
   },
   "outputs": [
    {
     "name": "stdout",
     "output_type": "stream",
     "text": [
      "<class 'pandas.core.frame.DataFrame'>\n",
      "Index: 52296 entries, 2830395 to 2814652\n",
      "Data columns (total 78 columns):\n",
      " #   Column                                            Non-Null Count  Dtype  \n",
      "---  ------                                            --------------  -----  \n",
      " 0   POSTED_SPEED_LIMIT                                52296 non-null  int64  \n",
      " 1   NUM_UNITS                                         52296 non-null  int64  \n",
      " 2   INJURIES_TOTAL                                    52296 non-null  float64\n",
      " 3   CRASH_HOUR                                        52296 non-null  int64  \n",
      " 4   CRASH_DAY_OF_WEEK                                 52296 non-null  int64  \n",
      " 5   CRASH_MONTH                                       52296 non-null  int64  \n",
      " 6   AGE                                               52296 non-null  float64\n",
      " 7   YEAR                                              52296 non-null  int32  \n",
      " 8   TRAFFIC_CONTROL_DEVICE_NO CONTROLS                52296 non-null  float64\n",
      " 9   TRAFFIC_CONTROL_DEVICE_OTHER                      52296 non-null  float64\n",
      " 10  TRAFFIC_CONTROL_DEVICE_SIGN                       52296 non-null  float64\n",
      " 11  TRAFFIC_CONTROL_DEVICE_SIGNAL                     52296 non-null  float64\n",
      " 12  DEVICE_CONDITION_FUNCTIONING IMPROPERLY/ MISSING  52296 non-null  float64\n",
      " 13  DEVICE_CONDITION_FUNCTIONING PROPERLY             52296 non-null  float64\n",
      " 14  DEVICE_CONDITION_NO CONTROLS                      52296 non-null  float64\n",
      " 15  WEATHER_CONDITION_CLEAR                           52296 non-null  float64\n",
      " 16  WEATHER_CONDITION_INCLEMENT                       52296 non-null  float64\n",
      " 17  LIGHTING_CONDITION_DIMINISHED VISIBILITY          52296 non-null  float64\n",
      " 18  LIGHTING_CONDITION_VISIBLE                        52296 non-null  float64\n",
      " 19  FIRST_CRASH_TYPE_ANGLE                            52296 non-null  float64\n",
      " 20  FIRST_CRASH_TYPE_OBJECT                           52296 non-null  float64\n",
      " 21  FIRST_CRASH_TYPE_OTHER                            52296 non-null  float64\n",
      " 22  FIRST_CRASH_TYPE_PERSON OR ANIMAL                 52296 non-null  float64\n",
      " 23  FIRST_CRASH_TYPE_REAR END                         52296 non-null  float64\n",
      " 24  FIRST_CRASH_TYPE_SIDE SWIPE                       52296 non-null  float64\n",
      " 25  FIRST_CRASH_TYPE_TURNING                          52296 non-null  float64\n",
      " 26  TRAFFICWAY_TYPE_DIVIDED                           52296 non-null  float64\n",
      " 27  TRAFFICWAY_TYPE_INTERSECTION                      52296 non-null  float64\n",
      " 28  TRAFFICWAY_TYPE_NOT DIVIDED                       52296 non-null  float64\n",
      " 29  TRAFFICWAY_TYPE_OTHER                             52296 non-null  float64\n",
      " 30  ALIGNMENT_NOT STRAIGHT                            52296 non-null  float64\n",
      " 31  ALIGNMENT_STRAIGHT                                52296 non-null  float64\n",
      " 32  ROADWAY_SURFACE_COND_DRY                          52296 non-null  float64\n",
      " 33  ROADWAY_SURFACE_COND_NOT DRY                      52296 non-null  float64\n",
      " 34  ROADWAY_SURFACE_COND_OTHER                        52296 non-null  float64\n",
      " 35  ROAD_DEFECT_DEFECTS                               52296 non-null  float64\n",
      " 36  ROAD_DEFECT_NO DEFECTS                            52296 non-null  float64\n",
      " 37  CRASH_TYPE_INJURY AND / OR TOW DUE TO CRASH       52296 non-null  float64\n",
      " 38  CRASH_TYPE_NO INJURY / DRIVE AWAY                 52296 non-null  float64\n",
      " 39  DAMAGE_OVER $1500                                 52296 non-null  float64\n",
      " 40  DAMAGE_UNDER $1500                                52296 non-null  float64\n",
      " 41  VEHICLE_TYPE_PASSENGER                            52296 non-null  float64\n",
      " 42  VEHICLE_TYPE_SPORT UTILITY VEHICLE (SUV)          52296 non-null  float64\n",
      " 43  VEHICLE_TYPE_VAN/MINI-VAN                         52296 non-null  float64\n",
      " 44  MANEUVER_OTHER                                    52296 non-null  float64\n",
      " 45  MANEUVER_STRAIGHT                                 52296 non-null  float64\n",
      " 46  FIRST_CONTACT_POINT_FRONT                         52296 non-null  float64\n",
      " 47  FIRST_CONTACT_POINT_NONE                          52296 non-null  float64\n",
      " 48  FIRST_CONTACT_POINT_OTHER                         52296 non-null  float64\n",
      " 49  FIRST_CONTACT_POINT_REAR                          52296 non-null  float64\n",
      " 50  FIRST_CONTACT_POINT_SIDES                         52296 non-null  float64\n",
      " 51  PERSON_TYPE_DRIVER                                52296 non-null  float64\n",
      " 52  PERSON_TYPE_OTHER                                 52296 non-null  float64\n",
      " 53  PERSON_TYPE_PASSENGER                             52296 non-null  float64\n",
      " 54  SEX_F                                             52296 non-null  float64\n",
      " 55  SEX_M                                             52296 non-null  float64\n",
      " 56  SAFETY_EQUIPMENT_NONE                             52296 non-null  float64\n",
      " 57  SAFETY_EQUIPMENT_NOT USED                         52296 non-null  float64\n",
      " 58  SAFETY_EQUIPMENT_UNKNOWN                          52296 non-null  float64\n",
      " 59  SAFETY_EQUIPMENT_USED                             52296 non-null  float64\n",
      " 60  AIRBAG_DEPLOYED_DEPLOYED                          52296 non-null  float64\n",
      " 61  AIRBAG_DEPLOYED_DID NOT DEPLOY                    52296 non-null  float64\n",
      " 62  AIRBAG_DEPLOYED_NOT APPLICABLE                    52296 non-null  float64\n",
      " 63  AIRBAG_DEPLOYED_UNKNOWN                           52296 non-null  float64\n",
      " 64  DRIVER_ACTION_ACTIONS TAKEN                       52296 non-null  float64\n",
      " 65  DRIVER_ACTION_NO ACTION TAKEN                     52296 non-null  float64\n",
      " 66  DRIVER_VISION_NOT OBSCURED                        52296 non-null  float64\n",
      " 67  DRIVER_VISION_OBSCURED                            52296 non-null  float64\n",
      " 68  DRIVER_VISION_UNKNOWN                             52296 non-null  float64\n",
      " 69  PHYSICAL_CONDITION_NORMAL                         52296 non-null  float64\n",
      " 70  PHYSICAL_CONDITION_NOT NORMAL                     52296 non-null  float64\n",
      " 71  PHYSICAL_CONDITION_UNKNOWN                        52296 non-null  float64\n",
      " 72  BAC_RESULT_TEST NOT OFFERED                       52296 non-null  float64\n",
      " 73  BAC_RESULT_TEST PERFORMED                         52296 non-null  float64\n",
      " 74  BAC_RESULT_TEST REFUSED                           52296 non-null  float64\n",
      " 75  SEVERE_INJURY_FATAL                               52296 non-null  float64\n",
      " 76  SEVERE_INJURY_MAJOR INJURIES                      52296 non-null  float64\n",
      " 77  SEVERE_INJURY_MINOR INJURIES                      52296 non-null  float64\n",
      "dtypes: float64(72), int32(1), int64(5)\n",
      "memory usage: 31.3 MB\n"
     ]
    },
    {
     "data": {
      "text/plain": [
       "POSTED_SPEED_LIMIT              0\n",
       "NUM_UNITS                       0\n",
       "INJURIES_TOTAL                  0\n",
       "CRASH_HOUR                      0\n",
       "CRASH_DAY_OF_WEEK               0\n",
       "                               ..\n",
       "BAC_RESULT_TEST PERFORMED       0\n",
       "BAC_RESULT_TEST REFUSED         0\n",
       "SEVERE_INJURY_FATAL             0\n",
       "SEVERE_INJURY_MAJOR INJURIES    0\n",
       "SEVERE_INJURY_MINOR INJURIES    0\n",
       "Length: 78, dtype: int64"
      ]
     },
     "execution_count": 192,
     "metadata": {},
     "output_type": "execute_result"
    }
   ],
   "source": [
    "#inspect X_test\n",
    "X_test.info()\n",
    "X_test.isna().sum()"
   ]
  },
  {
   "cell_type": "code",
   "execution_count": null,
   "metadata": {},
   "outputs": [],
   "source": []
  },
  {
   "cell_type": "markdown",
   "metadata": {},
   "source": [
    "# Modeling"
   ]
  },
  {
   "cell_type": "markdown",
   "metadata": {},
   "source": [
    "**Dummy Model**"
   ]
  },
  {
   "cell_type": "code",
   "execution_count": 193,
   "metadata": {},
   "outputs": [],
   "source": [
    "X = master_df.drop([\"PRIM_CONTRIBUTORY_CAUSE\"], axis=1)\n",
    "y = master_df[\"PRIM_CONTRIBUTORY_CAUSE\"]"
   ]
  },
  {
   "cell_type": "code",
   "execution_count": 194,
   "metadata": {},
   "outputs": [],
   "source": [
    "dummy_model = DummyClassifier(strategy=\"most_frequent\")"
   ]
  },
  {
   "cell_type": "code",
   "execution_count": 195,
   "metadata": {},
   "outputs": [
    {
     "name": "stdout",
     "output_type": "stream",
     "text": [
      "Accuracy: 0.4491548110754169\n"
     ]
    }
   ],
   "source": [
    "# Train the model on the training set\n",
    "dummy_model.fit(X_train, y_train)\n",
    "\n",
    "# Make predictions on the testing set\n",
    "y_pred = dummy_model.predict(X_test)\n",
    "\n",
    "# Evaluate the model\n",
    "accuracy = accuracy_score(y_test, y_pred)\n",
    "\n",
    "# Print the evaluation metrics\n",
    "print(f\"Accuracy: {accuracy}\")"
   ]
  },
  {
   "cell_type": "code",
   "execution_count": 196,
   "metadata": {},
   "outputs": [
    {
     "name": "stdout",
     "output_type": "stream",
     "text": [
      "Accuracy: 0.20013002906532049\n"
     ]
    }
   ],
   "source": [
    "# Dummy model with different strategy\n",
    "X = master_df.drop([\"PRIM_CONTRIBUTORY_CAUSE\"], axis=1)\n",
    "y = master_df[\"PRIM_CONTRIBUTORY_CAUSE\"]\n",
    "dummy_classifier = DummyClassifier(strategy=\"uniform\")\n",
    "\n",
    "# Train the model on the training set\n",
    "dummy_classifier.fit(X_train, y_train)\n",
    "\n",
    "# Make predictions on the testing set\n",
    "y_pred = dummy_classifier.predict(X_test)\n",
    "\n",
    "# Evaluate the model\n",
    "accuracy = accuracy_score(y_test, y_pred)\n",
    "\n",
    "# Print the evaluation metrics\n",
    "print(f\"Accuracy: {accuracy}\")"
   ]
  },
  {
   "cell_type": "code",
   "execution_count": 197,
   "metadata": {},
   "outputs": [
    {
     "name": "stdout",
     "output_type": "stream",
     "text": [
      "Accuracy: 0.3996864004895212\n"
     ]
    }
   ],
   "source": [
    "\n",
    "# dummy model with different strategy\n",
    "X = master_df.drop([\"PRIM_CONTRIBUTORY_CAUSE\"], axis=1)\n",
    "y = master_df[\"PRIM_CONTRIBUTORY_CAUSE\"]\n",
    "dummy_classifier = DummyClassifier(strategy=\"stratified\")\n",
    "\n",
    "# Train the model on the training set\n",
    "dummy_classifier.fit(X_train, y_train)\n",
    "\n",
    "# Make predictions on the testing set\n",
    "y_pred = dummy_classifier.predict(X_test)\n",
    "\n",
    "# Evaluate the model\n",
    "accuracy = accuracy_score(y_test, y_pred)\n",
    "\n",
    "# Print the evaluation metrics\n",
    "print(f\"Accuracy: {accuracy}\")"
   ]
  },
  {
   "cell_type": "markdown",
   "metadata": {},
   "source": [
    "# Visuals"
   ]
  },
  {
   "cell_type": "code",
   "execution_count": 198,
   "metadata": {},
   "outputs": [
    {
     "data": {
      "image/png": "[encoded data removed]",
      "text/plain": [
       "<Figure size 1000x600 with 1 Axes>"
      ]
     },
     "metadata": {},
     "output_type": "display_data"
    }
   ],
   "source": [
    "sns.set_context(\"poster\")\n",
    "sns.set_style(\"darkgrid\")\n",
    "plt.figure(figsize =(10,6))\n",
    "plt.xticks(\n",
    "    rotation=45, \n",
    "    horizontalalignment='right',\n",
    "    fontsize='small'\n",
    ")\n",
    "\n",
    "ax = sns.countplot(x=\"SEX\", data=master_df,order = master_df['SEX'].value_counts().head(30).index)\n",
    "plt.xlabel('Sex')\n",
    "plt.ylabel('Number of Crashes')\n",
    "plt.title('Primary Cause of Death vs Number of Crashes')\n",
    "plt.show()"
   ]
  },
  {
   "cell_type": "code",
   "execution_count": 233,
   "metadata": {},
   "outputs": [
    {
     "data": {
      "image/png": "[encoded data removed]",
      "text/plain": [
       "<Figure size 1000x800 with 1 Axes>"
      ]
     },
     "metadata": {},
     "output_type": "display_data"
    }
   ],
   "source": [
    "year_counts = master_df['YEAR'].value_counts()\n",
    "\n",
    "# Create a custom color palette\n",
    "colors = sns.color_palette(\"colorblind\", len(year_counts))\n",
    "\n",
    "# Create a bar chart with different colors\n",
    "plt.figure(figsize=(10, 8))\n",
    "ax = sns.barplot(x=year_counts.index, y=year_counts.values, palette=colors)\n",
    "\n",
    "# Customize the x-axis labels for better readability\n",
    "plt.xticks(ha='right', fontsize='medium', fontweight='bold')\n",
    "plt.yticks(fontweight='bold')\n",
    "\n",
    "# Set labels and title\n",
    "plt.ylabel('Number of Crashes', fontweight='bold', fontsize='medium', labelpad=25)\n",
    "plt.xlabel(None)\n",
    "# Show the plot\n",
    "plt.show()"
   ]
  },
  {
   "cell_type": "code",
   "execution_count": 234,
   "metadata": {},
   "outputs": [
    {
     "data": {
      "image/png": "[encoded data removed]",
      "text/plain": [
       "<Figure size 1200x1000 with 1 Axes>"
      ]
     },
     "metadata": {},
     "output_type": "display_data"
    }
   ],
   "source": [
    "import seaborn as sns\n",
    "import matplotlib.pyplot as plt\n",
    "\n",
    "# Assuming 'master_df' is your DataFrame\n",
    "# Assuming 'AGE' is the column you want to use for the x-axis\n",
    "sns.set_context(\"poster\")\n",
    "sns.set_style(\"darkgrid\")\n",
    "\n",
    "# Filter data between ages 18 and 75\n",
    "filtered_master_df = master_df[(master_df['AGE'] >= 18) & (master_df['AGE'] <= 75)]\n",
    "\n",
    "# Create a figure\n",
    "plt.figure(figsize=(12, 10))\n",
    "\n",
    "# Compute the counts of each unique age within the filtered data\n",
    "age_counts = filtered_master_df['AGE'].value_counts()\n",
    "\n",
    "# Create a scatter plot\n",
    "ax = sns.scatterplot(x=age_counts.index, y=age_counts.values)\n",
    "\n",
    "# Customize x-axis labels for better readability\n",
    "plt.xticks(horizontalalignment='right', fontsize= 'medium', fontweight='bold')\n",
    "plt.yticks(fontweight='bold')\n",
    "\n",
    "# Set labels and title\n",
    "plt.xlabel('Age of Drivers', fontweight='bold', fontsize='medium', labelpad=10)\n",
    "plt.ylabel('Number of Crashes', fontweight='bold', fontsize= 'medium', labelpad=20)\n",
    "\n",
    "\n",
    "# Show the plot\n",
    "plt.show()\n"
   ]
  },
  {
   "cell_type": "code",
   "execution_count": 202,
   "metadata": {},
   "outputs": [
    {
     "data": {
      "image/png": "[encoded data removed]",
      "text/plain": [
       "<Figure size 2000x1500 with 1 Axes>"
      ]
     },
     "metadata": {},
     "output_type": "display_data"
    }
   ],
   "source": [
    "sns.set_context(\"poster\")\n",
    "sns.set_style(\"darkgrid\")\n",
    "plt.figure(figsize =(20,15))\n",
    "plt.xticks(\n",
    "    rotation=45, \n",
    "    horizontalalignment='right',\n",
    "    fontsize='medium',\n",
    "    fontweight='bold',\n",
    "    wrap=True,\n",
    ")\n",
    "plt.yticks(fontweight='bold')\n",
    "\n",
    "ax = sns.countplot(x=\"FIRST_CRASH_TYPE\", data=master_df, order=master_df['FIRST_CRASH_TYPE'].value_counts().index)\n",
    "\n",
    "plt.ylabel('Number of Crashes', fontweight='bold', labelpad=20, fontsize='medium')\n",
    "plt.xlabel(None)\n",
    "plt.show() \n"
   ]
  },
  {
   "cell_type": "code",
   "execution_count": 203,
   "metadata": {},
   "outputs": [
    {
     "data": {
      "image/png": "[encoded data removed]",
      "text/plain": [
       "<Figure size 2000x1500 with 1 Axes>"
      ]
     },
     "metadata": {},
     "output_type": "display_data"
    }
   ],
   "source": [
    "sns.set_context(\"poster\")\n",
    "sns.set_style(\"darkgrid\")\n",
    "\n",
    "\n",
    "plt.figure(figsize =(20,15))\n",
    "plt.xticks(\n",
    "    rotation=45, \n",
    "    horizontalalignment='right',\n",
    "    fontsize='medium',\n",
    "    fontweight='bold'\n",
    ")\n",
    "plt.yticks(fontweight='bold')\n",
    "custom_labels=[\"12:00 AM\",\"1:00 AM\",\"2:00 AM\",\"3:00 AM\",\"4:00 AM\",\"5:00 AM\",\"6:00 AM\",\"7:00 AM\",\"8:00 AM\",\"9:00 AM\",\"10:00 AM\",\"11:00 AM\",\n",
    "                \"12:00 PM\",\"1:00 PM\",\"2:00 PM\",\"3:00 PM\",\"4:00 PM\",\"5:00 PM\",\"6:00 PM\",\"7:00 PM\",\"8:00 PM\",\"9:00 PM\",\"10:00 PM\",\"11:00 PM\"]\n",
    "\n",
    "ax = sns.countplot(x=\"CRASH_HOUR\", data=master_df, color='darkorange', edgecolor=\"black\")\n",
    "ax.set_xticklabels(custom_labels)\n",
    "plt.xlabel('Time of Day',fontsize='medium', fontweight='bold')\n",
    "plt.ylabel('Number of Crashes',fontsize='medium', fontweight='bold', labelpad=25)\n",
    "plt.show()"
   ]
  },
  {
   "cell_type": "code",
   "execution_count": 205,
   "metadata": {},
   "outputs": [],
   "source": [
    "# Exporting file to csv\n",
    "# master_df.to_csv('data/master_df.csv', index=False)"
   ]
  },
  {
   "cell_type": "markdown",
   "metadata": {},
   "source": [
    "# Random Forest Model"
   ]
  },
  {
   "cell_type": "code",
   "execution_count": 206,
   "metadata": {},
   "outputs": [],
   "source": [
    "# Random Forest\n",
    "# Binarize the labels\n",
    "from sklearn.ensemble import RandomForestClassifier\n",
    "from sklearn.preprocessing import label_binarize\n",
    "y_train_bin = label_binarize(y_train, classes=list(range(5)))  # Assuming 5 classes, adjust accordingly\n",
    "y_test_bin = label_binarize(y_test, classes=list(range(5)))"
   ]
  },
  {
   "cell_type": "code",
   "execution_count": 207,
   "metadata": {},
   "outputs": [],
   "source": [
    "rf = RandomForestClassifier(random_state=100)"
   ]
  },
  {
   "cell_type": "code",
   "execution_count": 208,
   "metadata": {},
   "outputs": [
    {
     "data": {
      "text/html": [
       "<style>#sk-container-id-2 {color: black;}#sk-container-id-2 pre{padding: 0;}#sk-container-id-2 div.sk-toggleable {background-color: white;}#sk-container-id-2 label.sk-toggleable__label {cursor: pointer;display: block;width: 100%;margin-bottom: 0;padding: 0.3em;box-sizing: border-box;text-align: center;}#sk-container-id-2 label.sk-toggleable__label-arrow:before {content: \"▸\";float: left;margin-right: 0.25em;color: #696969;}#sk-container-id-2 label.sk-toggleable__label-arrow:hover:before {color: black;}#sk-container-id-2 div.sk-estimator:hover label.sk-toggleable__label-arrow:before {color: black;}#sk-container-id-2 div.sk-toggleable__content {max-height: 0;max-width: 0;overflow: hidden;text-align: left;background-color: #f0f8ff;}#sk-container-id-2 div.sk-toggleable__content pre {margin: 0.2em;color: black;border-radius: 0.25em;background-color: #f0f8ff;}#sk-container-id-2 input.sk-toggleable__control:checked~div.sk-toggleable__content {max-height: 200px;max-width: 100%;overflow: auto;}#sk-container-id-2 input.sk-toggleable__control:checked~label.sk-toggleable__label-arrow:before {content: \"▾\";}#sk-container-id-2 div.sk-estimator input.sk-toggleable__control:checked~label.sk-toggleable__label {background-color: #d4ebff;}#sk-container-id-2 div.sk-label input.sk-toggleable__control:checked~label.sk-toggleable__label {background-color: #d4ebff;}#sk-container-id-2 input.sk-hidden--visually {border: 0;clip: rect(1px 1px 1px 1px);clip: rect(1px, 1px, 1px, 1px);height: 1px;margin: -1px;overflow: hidden;padding: 0;position: absolute;width: 1px;}#sk-container-id-2 div.sk-estimator {font-family: monospace;background-color: #f0f8ff;border: 1px dotted black;border-radius: 0.25em;box-sizing: border-box;margin-bottom: 0.5em;}#sk-container-id-2 div.sk-estimator:hover {background-color: #d4ebff;}#sk-container-id-2 div.sk-parallel-item::after {content: \"\";width: 100%;border-bottom: 1px solid gray;flex-grow: 1;}#sk-container-id-2 div.sk-label:hover label.sk-toggleable__label {background-color: #d4ebff;}#sk-container-id-2 div.sk-serial::before {content: \"\";position: absolute;border-left: 1px solid gray;box-sizing: border-box;top: 0;bottom: 0;left: 50%;z-index: 0;}#sk-container-id-2 div.sk-serial {display: flex;flex-direction: column;align-items: center;background-color: white;padding-right: 0.2em;padding-left: 0.2em;position: relative;}#sk-container-id-2 div.sk-item {position: relative;z-index: 1;}#sk-container-id-2 div.sk-parallel {display: flex;align-items: stretch;justify-content: center;background-color: white;position: relative;}#sk-container-id-2 div.sk-item::before, #sk-container-id-2 div.sk-parallel-item::before {content: \"\";position: absolute;border-left: 1px solid gray;box-sizing: border-box;top: 0;bottom: 0;left: 50%;z-index: -1;}#sk-container-id-2 div.sk-parallel-item {display: flex;flex-direction: column;z-index: 1;position: relative;background-color: white;}#sk-container-id-2 div.sk-parallel-item:first-child::after {align-self: flex-end;width: 50%;}#sk-container-id-2 div.sk-parallel-item:last-child::after {align-self: flex-start;width: 50%;}#sk-container-id-2 div.sk-parallel-item:only-child::after {width: 0;}#sk-container-id-2 div.sk-dashed-wrapped {border: 1px dashed gray;margin: 0 0.4em 0.5em 0.4em;box-sizing: border-box;padding-bottom: 0.4em;background-color: white;}#sk-container-id-2 div.sk-label label {font-family: monospace;font-weight: bold;display: inline-block;line-height: 1.2em;}#sk-container-id-2 div.sk-label-container {text-align: center;}#sk-container-id-2 div.sk-container {/* jupyter's `normalize.less` sets `[hidden] { display: none; }` but bootstrap.min.css set `[hidden] { display: none !important; }` so we also need the `!important` here to be able to override the default hidden behavior on the sphinx rendered scikit-learn.org. See: https://github.com/scikit-learn/scikit-learn/issues/21755 */display: inline-block !important;position: relative;}#sk-container-id-2 div.sk-text-repr-fallback {display: none;}</style><div id=\"sk-container-id-2\" class=\"sk-top-container\"><div class=\"sk-text-repr-fallback\"><pre>RandomForestClassifier(random_state=100)</pre><b>In a Jupyter environment, please rerun this cell to show the HTML representation or trust the notebook. <br />On GitHub, the HTML representation is unable to render, please try loading this page with nbviewer.org.</b></div><div class=\"sk-container\" hidden><div class=\"sk-item\"><div class=\"sk-estimator sk-toggleable\"><input class=\"sk-toggleable__control sk-hidden--visually\" id=\"sk-estimator-id-2\" type=\"checkbox\" checked><label for=\"sk-estimator-id-2\" class=\"sk-toggleable__label sk-toggleable__label-arrow\">RandomForestClassifier</label><div class=\"sk-toggleable__content\"><pre>RandomForestClassifier(random_state=100)</pre></div></div></div></div></div>"
      ],
      "text/plain": [
       "RandomForestClassifier(random_state=100)"
      ]
     },
     "execution_count": 208,
     "metadata": {},
     "output_type": "execute_result"
    }
   ],
   "source": [
    "rf.fit(X_train, y_train)"
   ]
  },
  {
   "cell_type": "code",
   "execution_count": 209,
   "metadata": {},
   "outputs": [],
   "source": [
    "y_pred = rf.predict(X_test)"
   ]
  },
  {
   "cell_type": "code",
   "execution_count": 210,
   "metadata": {},
   "outputs": [
    {
     "data": {
      "text/plain": [
       "0.8780977512620468"
      ]
     },
     "execution_count": 210,
     "metadata": {},
     "output_type": "execute_result"
    }
   ],
   "source": [
    "accuracy_score_rf = accuracy_score(y_test, y_pred)\n",
    "accuracy_score_rf"
   ]
  },
  {
   "cell_type": "code",
   "execution_count": 232,
   "metadata": {},
   "outputs": [
    {
     "data": {
      "image/png": "[encoded data removed]",
      "text/plain": [
       "<Figure size 1500x800 with 1 Axes>"
      ]
     },
     "metadata": {},
     "output_type": "display_data"
    }
   ],
   "source": [
    "fig, ax = plt.subplots(figsize=(15, 8))\n",
    "\n",
    "importances_rf = pd.Series(data = rf.feature_importances_,\n",
    "                          index=X_train.columns)\n",
    "\n",
    "importances_rf_sorted = importances_rf.sort_values()\n",
    "\n",
    "top_10_importances = importances_rf_sorted.tail(10)\n",
    "custom_labels=[\"NUM UNITS\", \"INJURIES TOTAL\", \"FIRST CONTACT POINT REAR\", \"YEAR\", \"CRASH DAY OF WEEK\", \"CRASH MONTH\", \"AGE\", \"CRASH HOUR\", \"FIRST CRASH TYPE REAR END\", \"FIRST CRASH TYPE ANGLE\"]\n",
    "\n",
    "\n",
    "top_10_importances.plot(kind='barh', color='orange')\n",
    "ax.set_yticklabels(custom_labels)\n",
    "plt.xticks(fontsize='medium', fontweight='bold')\n",
    "plt.yticks(fontsize='medium')\n",
    "plt.show();\n"
   ]
  },
  {
   "cell_type": "markdown",
   "metadata": {},
   "source": [
    "# if the labels above are in the wrong order\n",
    "\"FIRST CRASH TYPE ANGLE\", \"FIRST CRASH TYPE REAR END\", \"CRASH HOUR\", \"AGE\", \"CRASH MONTH\", \"CRASH DAY OF WEEK\", \"YEAR\",\n",
    "                \"FIRST CONTACT POINT REAR\", \"INJURIES TOTAL\", \"NUM UNITS\"]"
   ]
  }
 ],
 "metadata": {
  "kernelspec": {
   "display_name": "Python (learn-env)",
   "language": "python",
   "name": "learn-env"
  },
  "language_info": {
   "codemirror_mode": {
    "name": "ipython",
    "version": 3
   },
   "file_extension": ".py",
   "mimetype": "text/x-python",
   "name": "python",
   "nbconvert_exporter": "python",
   "pygments_lexer": "ipython3",
   "version": "3.9.18"
  }
 },
 "nbformat": 4,
 "nbformat_minor": 4
}
