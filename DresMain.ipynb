{
 "cells": [
  {
   "cell_type": "markdown",
   "metadata": {},
   "source": [
    "# Chicago Car Crash Analysis"
   ]
  },
  {
   "cell_type": "markdown",
   "metadata": {},
   "source": [
    "## Importing Packages"
   ]
  },
  {
   "cell_type": "code",
   "execution_count": 96,
   "metadata": {},
   "outputs": [],
   "source": [
    "# Importing packages needed for this notebook\n",
    "import numpy as np\n",
    "import pandas as pd \n",
    "\n",
    "import matplotlib.pyplot as plt\n",
    "import seaborn as sns\n",
    "%matplotlib inline\n",
    "\n",
    "from sklearn.model_selection import train_test_split, cross_val_score\n",
    "from sklearn.impute import MissingIndicator, SimpleImputer\n",
    "from sklearn.preprocessing import StandardScaler, OneHotEncoder\n",
    "from sklearn.dummy import DummyClassifier\n",
    "\n",
    "from sklearn.linear_model import LogisticRegression\n",
    "from sklearn.tree import DecisionTreeRegressor, DecisionTreeClassifier\n",
    "\n",
    "from sklearn.metrics import accuracy_score, recall_score, precision_score, f1_score\n",
    "from sklearn.metrics import roc_curve, roc_auc_score, RocCurveDisplay\n",
    "from sklearn.metrics import confusion_matrix, ConfusionMatrixDisplay\n",
    "\n",
    "import warnings\n",
    "warnings.filterwarnings('ignore')"
   ]
  },
  {
   "cell_type": "code",
   "execution_count": 7,
   "metadata": {},
   "outputs": [],
   "source": [
    "# Reading the data in\n",
    "\n",
    "df_crashes = pd.read_csv(\"data/Traffic_Crashes_-_Crashes_20231109.csv\")\n",
    "df_vehicles = pd.read_csv(\"data/Traffic_Crashes_-_Vehicles_20231109.csv\")\n",
    "df_people = pd.read_csv(\"data/Traffic_Crashes_-_People_20231109.csv\")"
   ]
  },
  {
   "cell_type": "code",
   "execution_count": 8,
   "metadata": {},
   "outputs": [],
   "source": [
    "# Dropping columns\n",
    "\n",
    "columns_to_drop_crashes = ['RD_NO', 'CRASH_DATE_EST_I', 'LANE_CNT', 'REPORT_TYPE', 'INTERSECTION_RELATED_I', 'NOT_RIGHT_OF_WAY_I', 'HIT_AND_RUN_I', 'DATE_POLICE_NOTIFIED',\n",
    "                           'SEC_CONTRIBUTORY_CAUSE', 'STREET_NO', 'STREET_DIRECTION', 'STREET_NAME', 'BEAT_OF_OCCURRENCE', 'PHOTOS_TAKEN_I', 'STATEMENTS_TAKEN_I', 'DOORING_I',\n",
    "                           'WORK_ZONE_I', 'WORK_ZONE_TYPE', 'WORKERS_PRESENT_I', 'INJURIES_FATAL', 'INJURIES_INCAPACITATING', 'INJURIES_NON_INCAPACITATING',\n",
    "                           'INJURIES_REPORTED_NOT_EVIDENT','INJURIES_NO_INDICATION', 'INJURIES_UNKNOWN', 'LATITUDE', 'LONGITUDE', 'LOCATION'\n",
    "                           ]\n",
    "\n",
    "columns_to_drop_vehicles = ['RD_NO', 'CRASH_DATE', 'CRASH_UNIT_ID', 'UNIT_NO', 'UNIT_TYPE', 'NUM_PASSENGERS', 'VEHICLE_ID', 'CMRC_VEH_I', 'MAKE', 'MODEL', 'VEHICLE_YEAR',\n",
    "                            'VEHICLE_DEFECT','VEHICLE_USE', 'TRAVEL_DIRECTION', 'TOWED_I', 'FIRE_I', 'OCCUPANT_CNT', 'EXCEED_SPEED_LIMIT_I', 'TOWED_BY', 'TOWED_TO',\n",
    "                            'AREA_00_I', 'AREA_01_I', 'AREA_02_I', 'AREA_03_I', 'AREA_04_I', 'AREA_05_I', 'AREA_06_I', 'AREA_07_I', 'AREA_08_I', 'AREA_09_I',\n",
    "                            'AREA_10_I', 'AREA_11_I', 'AREA_12_I', 'AREA_99_I',  'CMV_ID', 'USDOT_NO', 'CCMC_NO', 'ILCC_NO', 'COMMERCIAL_SRC',\n",
    "                            'GVWR', 'CARRIER_NAME', 'CARRIER_STATE', 'CARRIER_CITY', 'HAZMAT_PLACARDS_I', 'HAZMAT_NAME','UN_NO', 'HAZMAT_PRESENT_I',\n",
    "                            'HAZMAT_REPORT_I', 'HAZMAT_REPORT_NO', 'MCS_REPORT_I', 'MCS_REPORT_NO', 'HAZMAT_VIO_CAUSE_CRASH_I', 'MCS_VIO_CAUSE_CRASH_I', 'IDOT_PERMIT_NO',\n",
    "                            'WIDE_LOAD_I', 'TRAILER1_WIDTH', 'TRAILER2_WIDTH', 'TRAILER1_LENGTH', 'TRAILER2_LENGTH', 'TOTAL_VEHICLE_LENGTH', 'AXLE_CNT', 'VEHICLE_CONFIG', 'CARGO_BODY_TYPE',\n",
    "                            'LOAD_TYPE', 'HAZMAT_OUT_OF_SERVICE_I', 'MCS_OUT_OF_SERVICE_I', 'HAZMAT_CLASS'\n",
    "                            ]\n",
    "\n",
    "columns_to_drop_people = ['RD_NO', 'CRASH_DATE', 'VEHICLE_ID', 'PERSON_ID', 'SEAT_NO', 'CITY', 'STATE', 'ZIPCODE', 'DRIVERS_LICENSE_STATE', 'DRIVERS_LICENSE_CLASS', 'EJECTION',\n",
    "                          'HOSPITAL', 'EMS_AGENCY', 'EMS_RUN_NO', 'BAC_RESULT VALUE', 'PEDPEDAL_ACTION', 'PEDPEDAL_VISIBILITY', 'PEDPEDAL_LOCATION', 'CELL_PHONE_USE', 'INJURY_CLASSIFICATION'\n",
    "                          ]\n",
    "\n",
    "df_crashes = df_crashes.drop(columns_to_drop_crashes, axis=1)\n",
    "df_vehicles = df_vehicles.drop(columns_to_drop_vehicles, axis=1)\n",
    "df_people = df_people.drop(columns_to_drop_people, axis=1)"
   ]
  },
  {
   "cell_type": "markdown",
   "metadata": {},
   "source": [
    "## Creating a Master DataFrame"
   ]
  },
  {
   "cell_type": "code",
   "execution_count": 9,
   "metadata": {},
   "outputs": [],
   "source": [
    "master_df = pd.merge(df_crashes, pd.merge(df_vehicles, df_people, on=\"CRASH_RECORD_ID\"), on=\"CRASH_RECORD_ID\")"
   ]
  },
  {
   "cell_type": "markdown",
   "metadata": {},
   "source": [
    "## Info and column names of each table"
   ]
  },
  {
   "cell_type": "code",
   "execution_count": 10,
   "metadata": {},
   "outputs": [
    {
     "name": "stdout",
     "output_type": "stream",
     "text": [
      "<class 'pandas.core.frame.DataFrame'>\n",
      "RangeIndex: 3594423 entries, 0 to 3594422\n",
      "Data columns (total 34 columns):\n",
      " #   Column                   Dtype  \n",
      "---  ------                   -----  \n",
      " 0   CRASH_RECORD_ID          object \n",
      " 1   CRASH_DATE               object \n",
      " 2   POSTED_SPEED_LIMIT       int64  \n",
      " 3   TRAFFIC_CONTROL_DEVICE   object \n",
      " 4   DEVICE_CONDITION         object \n",
      " 5   WEATHER_CONDITION        object \n",
      " 6   LIGHTING_CONDITION       object \n",
      " 7   FIRST_CRASH_TYPE         object \n",
      " 8   TRAFFICWAY_TYPE          object \n",
      " 9   ALIGNMENT                object \n",
      " 10  ROADWAY_SURFACE_COND     object \n",
      " 11  ROAD_DEFECT              object \n",
      " 12  CRASH_TYPE               object \n",
      " 13  DAMAGE                   object \n",
      " 14  PRIM_CONTRIBUTORY_CAUSE  object \n",
      " 15  NUM_UNITS                int64  \n",
      " 16  MOST_SEVERE_INJURY       object \n",
      " 17  INJURIES_TOTAL           float64\n",
      " 18  CRASH_HOUR               int64  \n",
      " 19  CRASH_DAY_OF_WEEK        int64  \n",
      " 20  CRASH_MONTH              int64  \n",
      " 21  LIC_PLATE_STATE          object \n",
      " 22  VEHICLE_TYPE             object \n",
      " 23  MANEUVER                 object \n",
      " 24  FIRST_CONTACT_POINT      object \n",
      " 25  PERSON_TYPE              object \n",
      " 26  SEX                      object \n",
      " 27  AGE                      float64\n",
      " 28  SAFETY_EQUIPMENT         object \n",
      " 29  AIRBAG_DEPLOYED          object \n",
      " 30  DRIVER_ACTION            object \n",
      " 31  DRIVER_VISION            object \n",
      " 32  PHYSICAL_CONDITION       object \n",
      " 33  BAC_RESULT               object \n",
      "dtypes: float64(2), int64(5), object(27)\n",
      "memory usage: 932.4+ MB\n"
     ]
    }
   ],
   "source": [
    "master_df.info()"
   ]
  },
  {
   "cell_type": "markdown",
   "metadata": {},
   "source": [
    "## Takeaway\n",
    "\n",
    "- 3,594,423 observations\n",
    "- 36 combined columns\n",
    "- 987 MB combined memory file"
   ]
  },
  {
   "cell_type": "markdown",
   "metadata": {},
   "source": [
    "## Data Cleaning"
   ]
  },
  {
   "cell_type": "code",
   "execution_count": 11,
   "metadata": {},
   "outputs": [
    {
     "name": "stdout",
     "output_type": "stream",
     "text": [
      "<class 'pandas.core.frame.DataFrame'>\n",
      "Index: 305598 entries, 0 to 3594374\n",
      "Data columns (total 35 columns):\n",
      " #   Column                   Non-Null Count   Dtype         \n",
      "---  ------                   --------------   -----         \n",
      " 0   CRASH_RECORD_ID          305598 non-null  object        \n",
      " 1   CRASH_DATE               305598 non-null  datetime64[ns]\n",
      " 2   POSTED_SPEED_LIMIT       305598 non-null  int64         \n",
      " 3   TRAFFIC_CONTROL_DEVICE   305598 non-null  object        \n",
      " 4   DEVICE_CONDITION         305598 non-null  object        \n",
      " 5   WEATHER_CONDITION        305598 non-null  object        \n",
      " 6   LIGHTING_CONDITION       305598 non-null  object        \n",
      " 7   FIRST_CRASH_TYPE         305598 non-null  object        \n",
      " 8   TRAFFICWAY_TYPE          305598 non-null  object        \n",
      " 9   ALIGNMENT                305598 non-null  object        \n",
      " 10  ROADWAY_SURFACE_COND     305598 non-null  object        \n",
      " 11  ROAD_DEFECT              305598 non-null  object        \n",
      " 12  CRASH_TYPE               305598 non-null  object        \n",
      " 13  DAMAGE                   305598 non-null  object        \n",
      " 14  PRIM_CONTRIBUTORY_CAUSE  305598 non-null  object        \n",
      " 15  NUM_UNITS                305598 non-null  int64         \n",
      " 16  MOST_SEVERE_INJURY       305598 non-null  object        \n",
      " 17  INJURIES_TOTAL           305598 non-null  float64       \n",
      " 18  CRASH_HOUR               305598 non-null  int64         \n",
      " 19  CRASH_DAY_OF_WEEK        305598 non-null  int64         \n",
      " 20  CRASH_MONTH              305598 non-null  int64         \n",
      " 21  LIC_PLATE_STATE          293368 non-null  object        \n",
      " 22  VEHICLE_TYPE             305598 non-null  object        \n",
      " 23  MANEUVER                 305598 non-null  object        \n",
      " 24  FIRST_CONTACT_POINT      305512 non-null  object        \n",
      " 25  PERSON_TYPE              305598 non-null  object        \n",
      " 26  SEX                      298205 non-null  object        \n",
      " 27  AGE                      251649 non-null  float64       \n",
      " 28  SAFETY_EQUIPMENT         303965 non-null  object        \n",
      " 29  AIRBAG_DEPLOYED          293688 non-null  object        \n",
      " 30  DRIVER_ACTION            209120 non-null  object        \n",
      " 31  DRIVER_VISION            208933 non-null  object        \n",
      " 32  PHYSICAL_CONDITION       209510 non-null  object        \n",
      " 33  BAC_RESULT               209238 non-null  object        \n",
      " 34  YEAR                     305598 non-null  int32         \n",
      "dtypes: datetime64[ns](1), float64(2), int32(1), int64(5), object(26)\n",
      "memory usage: 82.8+ MB\n"
     ]
    }
   ],
   "source": [
    "# Filtering from 2020 and on\n",
    "\n",
    "master_df['CRASH_DATE'] = pd.to_datetime(master_df['CRASH_DATE'])\n",
    "master_df['YEAR'] = master_df['CRASH_DATE'].dt.year\n",
    "master_df = master_df.loc[master_df['INJURIES_TOTAL'] > 0]\n",
    "master_df = master_df[\n",
    "    (master_df[\"YEAR\"] >= 2020) &\n",
    "    ((master_df[\"VEHICLE_TYPE\"] == \"PASSENGER\") |\n",
    "     (master_df[\"VEHICLE_TYPE\"] == \"SPORT UTILITY VEHICLE (SUV)\") |\n",
    "     (master_df[\"VEHICLE_TYPE\"] == \"VAN/MINI-VAN\"))\n",
    "]\n",
    "master_df.info()"
   ]
  },
  {
   "cell_type": "markdown",
   "metadata": {},
   "source": [
    "## Takeaway\n",
    "\n",
    "- We filtered the data from year 2020 and after, "
   ]
  },
  {
   "cell_type": "code",
   "execution_count": 12,
   "metadata": {},
   "outputs": [
    {
     "data": {
      "text/plain": [
       "CRASH_RECORD_ID                0\n",
       "CRASH_DATE                     0\n",
       "POSTED_SPEED_LIMIT             0\n",
       "TRAFFIC_CONTROL_DEVICE         0\n",
       "DEVICE_CONDITION               0\n",
       "WEATHER_CONDITION              0\n",
       "LIGHTING_CONDITION             0\n",
       "FIRST_CRASH_TYPE               0\n",
       "TRAFFICWAY_TYPE                0\n",
       "ALIGNMENT                      0\n",
       "ROADWAY_SURFACE_COND           0\n",
       "ROAD_DEFECT                    0\n",
       "CRASH_TYPE                     0\n",
       "DAMAGE                         0\n",
       "PRIM_CONTRIBUTORY_CAUSE        0\n",
       "NUM_UNITS                      0\n",
       "MOST_SEVERE_INJURY             0\n",
       "INJURIES_TOTAL                 0\n",
       "CRASH_HOUR                     0\n",
       "CRASH_DAY_OF_WEEK              0\n",
       "CRASH_MONTH                    0\n",
       "LIC_PLATE_STATE            12230\n",
       "VEHICLE_TYPE                   0\n",
       "MANEUVER                       0\n",
       "FIRST_CONTACT_POINT           86\n",
       "PERSON_TYPE                    0\n",
       "SEX                         7393\n",
       "AGE                        53949\n",
       "SAFETY_EQUIPMENT            1633\n",
       "AIRBAG_DEPLOYED            11910\n",
       "DRIVER_ACTION              96478\n",
       "DRIVER_VISION              96665\n",
       "PHYSICAL_CONDITION         96088\n",
       "BAC_RESULT                 96360\n",
       "YEAR                           0\n",
       "dtype: int64"
      ]
     },
     "execution_count": 12,
     "metadata": {},
     "output_type": "execute_result"
    }
   ],
   "source": [
    "master_df.isna().sum()"
   ]
  },
  {
   "cell_type": "markdown",
   "metadata": {},
   "source": [
    "# Andy's Space"
   ]
  },
  {
   "cell_type": "code",
   "execution_count": 13,
   "metadata": {
    "scrolled": true
   },
   "outputs": [
    {
     "data": {
      "text/plain": [
       "ROAD_DEFECT\n",
       "NO DEFECTS    301095\n",
       "DEFECTS         4503\n",
       "Name: count, dtype: int64"
      ]
     },
     "execution_count": 13,
     "metadata": {},
     "output_type": "execute_result"
    }
   ],
   "source": [
    "defect_dict = {\"NO DEFECTS\" : \"NO DEFECTS\", \"UNKNOWN\": \"NO DEFECTS\", \"WORN SURFACE\": \"DEFECTS\", \"OTHER\":\"DEFECTS\",\"RUT, HOLES\": \"DEFECTS\", \"SHOULDER DEFECT\":\"DEFECTS\", \"DEBRIS ON ROADWAY\": \"DEFECTS\"}\n",
    "\n",
    "master_df['ROAD_DEFECT'] = master_df['ROAD_DEFECT'].map(defect_dict)\n",
    "master_df['ROAD_DEFECT'].value_counts()"
   ]
  },
  {
   "cell_type": "code",
   "execution_count": 14,
   "metadata": {},
   "outputs": [
    {
     "data": {
      "text/plain": [
       "CRASH_TYPE\n",
       "INJURY AND / OR TOW DUE TO CRASH    305506\n",
       "NO INJURY / DRIVE AWAY                  92\n",
       "Name: count, dtype: int64"
      ]
     },
     "execution_count": 14,
     "metadata": {},
     "output_type": "execute_result"
    }
   ],
   "source": [
    "master_df[\"CRASH_TYPE\"].value_counts()"
   ]
  },
  {
   "cell_type": "code",
   "execution_count": 15,
   "metadata": {},
   "outputs": [
    {
     "data": {
      "text/plain": [
       "DAMAGE\n",
       "OVER $1500     259341\n",
       "UNDER $1500     46257\n",
       "Name: count, dtype: int64"
      ]
     },
     "execution_count": 15,
     "metadata": {},
     "output_type": "execute_result"
    }
   ],
   "source": [
    "master_df[\"DAMAGE\"].value_counts()\n",
    "master_df['DAMAGE'] = master_df['DAMAGE'].apply(lambda x: 'OVER $1500' if 'OVER $1,500' in x else \"UNDER $1500\")\n",
    "master_df['DAMAGE'].value_counts()"
   ]
  },
  {
   "cell_type": "code",
   "execution_count": 16,
   "metadata": {},
   "outputs": [
    {
     "data": {
      "text/plain": [
       "PRIM_CONTRIBUTORY_CAUSE\n",
       "UNABLE TO DETERMINE                                                                 83621\n",
       "FAILING TO YIELD RIGHT-OF-WAY                                                       53085\n",
       "FOLLOWING TOO CLOSELY                                                               26314\n",
       "FAILING TO REDUCE SPEED TO AVOID CRASH                                              26078\n",
       "DISREGARDING TRAFFIC SIGNALS                                                        24689\n",
       "IMPROPER TURNING/NO SIGNAL                                                          11340\n",
       "IMPROPER OVERTAKING/PASSING                                                          9315\n",
       "NOT APPLICABLE                                                                       9116\n",
       "DISREGARDING STOP SIGN                                                               8654\n",
       "OPERATING VEHICLE IN ERRATIC, RECKLESS, CARELESS, NEGLIGENT OR AGGRESSIVE MANNER     7296\n",
       "DRIVING SKILLS/KNOWLEDGE/EXPERIENCE                                                  6699\n",
       "IMPROPER LANE USAGE                                                                  6380\n",
       "PHYSICAL CONDITION OF DRIVER                                                         4674\n",
       "DRIVING ON WRONG SIDE/WRONG WAY                                                      4450\n",
       "WEATHER                                                                              3960\n",
       "UNDER THE INFLUENCE OF ALCOHOL/DRUGS (USE WHEN ARREST IS EFFECTED)                   3416\n",
       "DISTRACTION - FROM INSIDE VEHICLE                                                    3136\n",
       "EQUIPMENT - VEHICLE CONDITION                                                        2709\n",
       "VISION OBSCURED (SIGNS, TREE LIMBS, BUILDINGS, ETC.)                                 2261\n",
       "DISREGARDING OTHER TRAFFIC SIGNS                                                     1852\n",
       "DISTRACTION - FROM OUTSIDE VEHICLE                                                   1604\n",
       "IMPROPER BACKING                                                                     1554\n",
       "CELL PHONE USE OTHER THAN TEXTING                                                     597\n",
       "EVASIVE ACTION DUE TO ANIMAL, OBJECT, NONMOTORIST                                     588\n",
       "TURNING RIGHT ON RED                                                                  362\n",
       "DISREGARDING ROAD MARKINGS                                                            325\n",
       "HAD BEEN DRINKING (USE WHEN ARREST IS NOT MADE)                                       322\n",
       "ROAD CONSTRUCTION/MAINTENANCE                                                         265\n",
       "DISREGARDING YIELD SIGN                                                               187\n",
       "ROAD ENGINEERING/SURFACE/MARKING DEFECTS                                              164\n",
       "DISTRACTION - OTHER ELECTRONIC DEVICE (NAVIGATION DEVICE, DVD PLAYER, ETC.)           161\n",
       "ANIMAL                                                                                112\n",
       "TEXTING                                                                               100\n",
       "RELATED TO BUS STOP                                                                    83\n",
       "OBSTRUCTED CROSSWALKS                                                                  63\n",
       "BICYCLE ADVANCING LEGALLY ON RED LIGHT                                                 23\n",
       "PASSING STOPPED SCHOOL BUS                                                             23\n",
       "MOTORCYCLE ADVANCING LEGALLY ON RED LIGHT                                              20\n",
       "Name: count, dtype: int64"
      ]
     },
     "execution_count": 16,
     "metadata": {},
     "output_type": "execute_result"
    }
   ],
   "source": [
    "#talk about this with team\n",
    "master_df[\"PRIM_CONTRIBUTORY_CAUSE\"].value_counts()"
   ]
  },
  {
   "cell_type": "code",
   "execution_count": 17,
   "metadata": {},
   "outputs": [
    {
     "data": {
      "text/plain": [
       "PRIM_CONTRIBUTORY_CAUSE\n",
       "SIGNAGE/TRAFFIC CONTROL DEVICES    100090\n",
       "HUMAN FACTORS                       95907\n",
       "MISC FACTORS                        18567\n",
       "ENVIRONMENTAL FACTORS                6333\n",
       "INFRASTRUCTURE ISSUES                 492\n",
       "Name: count, dtype: int64"
      ]
     },
     "execution_count": 17,
     "metadata": {},
     "output_type": "execute_result"
    }
   ],
   "source": [
    "prim_cause_dict = { 'FOLLOWING TOO CLOSELY': \"HUMAN FACTORS\", 'FAILING TO REDUCE SPEED TO AVOID CRASH': \"HUMAN FACTORS\", \n",
    "                   'IMPROPER TURNING/NO SIGNAL': 'HUMAN FACTORS', 'IMPROPER OVERTAKING/PASSING' : 'HUMAN FACTORS',\n",
    "                   'OPERATING VEHICLE IN ERRATIC, RECKLESS, CARELESS, NEGLIGENT OR AGGRESSIVE MANNER': 'HUMAN FACTORS',\n",
    "                   'PHYSICAL CONDITION OF DRIVER': \"HUMAN FACTORS\", \n",
    "                   'UNDER THE INFLUENCE OF ALCOHOL/DRUGS (USE WHEN ARREST IS EFFECTED)': \"HUMAN FACTORS\",\n",
    "                   'DISTRACTION - FROM INSIDE VEHICLE':\"HUMAN FACTORS\", 'DISTRACTION - FROM OUTSIDE VEHICLE': 'HUMAN FACTORS',\n",
    "                   'TEXTING':\"HUMAN FACTORS\", 'IMPROPER BACKING':\"HUMAN FACTORS\", 'CELL PHONE USE OTHER THAN TEXTING': \"HUMAN FACTORS\",\n",
    "                   'HAD BEEN DRINKING (USE WHEN ARREST IS NOT MADE)': \"HUMAN FACTORS\", \n",
    "                   'DISTRACTION - OTHER ELECTRONIC DEVICE (NAVIGATION DEVICE, DVD PLAYER, ETC.)':\"HUMAN FACTORS\",\n",
    "                   'VISION OBSCURED (SIGNS, TREE LIMBS, BUILDINGS, ETC.)': \"ENVIRONMENTAL FACTORS\", 'ANIMAL': \"ENVIRONMENTAL FACTORS\",\n",
    "                   'WEATHER': \"ENVIRONMENTAL FACTORS\", 'EVASIVE ACTION DUE TO ANIMAL,OBJECT, NONMOTORIST': \"ENVIRONMENTAL FACTORS\",\n",
    "                   'FAILING TO YIELD RIGHT-OF-WAY':\"SIGNAGE/TRAFFIC CONTROL DEVICES\", 'DISREGARDING TRAFFIC SIGNALS': \"SIGNAGE/TRAFFIC CONTROL DEVICES\",\n",
    "                   'DISREGARDING STOP SIGN':\"SIGNAGE/TRAFFIC CONTROL DEVICES\", 'DRIVING ON WRONG SIDE/WRONG WAY':\"SIGNAGE/TRAFFIC CONTROL DEVICES\",\n",
    "                   'IMPROPER LANE USAGE': \"SIGNAGE/TRAFFIC CONTROL DEVICES\", 'DISREGARDING OTHER TRAFFIC SIGNS':\"SIGNAGE/TRAFFIC CONTROL DEVICES\",\n",
    "                   'TURNING RIGHT ON RED': \"SIGNAGE/TRAFFIC CONTROL DEVICES\", 'DISREGARDING ROAD MARKINGS':\"SIGNAGE/TRAFFIC CONTROL DEVICES\",\n",
    "                   'DISREGARDING YIELD SIGN': \"SIGNAGE/TRAFFIC CONTROL DEVICES\", 'RELATED TO BUS STOP': \"SIGNAGE/TRAFFIC CONTROL DEVICES\",\n",
    "                   'PASSING STOPPED SCHOOL BUS': \"SIGNAGE/TRAFFIC CONTROL DEVICES\", \n",
    "                   'ROAD CONSTRUCTION/MAINTENANCE': \"INFRASTRUCTURE ISSUES\", 'ROAD ENGINEERING/SURFACE/MARKING DEFECTS': \"INFRASTRUCTURE ISSUES\",\n",
    "                   'OBSTRUCTED CROSSWALKS': \"INFRASTRUCTURE ISSUES\", \n",
    "                   'DRIVING SKILLS/KNOWLEDGE/EXPERIENCE': \"MISC FACTORS\", 'BICYCLE ADVANCING LEGALLY ON RED LIGHT':\"MISC FACTORS\",\n",
    "                   'MOTORCYCLE ADVANCING LEGALLY ON RED LIGHT':\"MISC FACTORS\", 'EQUIPMENT - VEHICLE CONDITION': \"MISC FACTORS\",\n",
    "                   'NOT APPLICABLE': \"MISC FACTORS\"\n",
    "              }\n",
    "\n",
    "master_df['PRIM_CONTRIBUTORY_CAUSE'] = master_df['PRIM_CONTRIBUTORY_CAUSE'].map(prim_cause_dict)\n",
    "master_df['PRIM_CONTRIBUTORY_CAUSE'].value_counts()"
   ]
  },
  {
   "cell_type": "markdown",
   "metadata": {},
   "source": [
    "<details>\n",
    "  <summary>**Click Me to Expand Breakdown of PRIM_CONTRIBUTORY_CAUSE**</summary>\n",
    "    \n",
    "  **human factors:**\n",
    "    - 'FOLLOWING TOO CLOSELY', \n",
    "    - 'FAILING TO REDUCE SPEED TO AVOID CRASH',\n",
    "    - 'IMPROPER TURNING/NO SIGNAL',\n",
    "    - 'IMPROPER OVERTAKING/PASSING', \n",
    "    - 'OPERATING VEHICLE IN ERRATIC, RECKLESS, CARELESS, NEGLIGENT OR AGGRESSIVE MANNER',\n",
    "    - 'PHYSICAL CONDITION OF DRIVER',\n",
    "    - 'UNDER THE INFLUENCE OF ALCOHOL/DRUGS (USE WHEN ARREST IS EFFECTED)',\n",
    "    - 'DISTRACTION - FROM INSIDE VEHICLE',\n",
    "    - 'DISTRACTION - FROM OUTSIDE VEHICLE',\n",
    "    - 'TEXTING',\n",
    "    - 'IMPROPER BACKING',\n",
    "    - 'CELL PHONE USE OTHER THAN TEXTING',\n",
    "    - 'HAD BEEN DRINKING (USE WHEN ARREST IS NOT MADE)',\n",
    "    - 'DISTRACTION - OTHER ELECTRONIC DEVICE (NAVIGATION DEVICE, DVD PLAYER, ETC.)',\n",
    "\n",
    "**environmental factors:** \n",
    "    - 'VISION OBSCURED (SIGNS, TREE LIMBS, BUILDINGS, ETC.)',\n",
    "    - 'ANIMAL', \n",
    "    - 'WEATHER',\n",
    "    - 'EVASIVE ACTION DUE TO ANIMAL,OBJECT, NONMOTORIST',\n",
    "\n",
    "**traffic control devices/signage:**\n",
    "    - 'FAILING TO YIELD RIGHT-OF-WAY',\n",
    "    - 'DISREGARDING TRAFFIC SIGNALS',\n",
    "    - 'DISREGARDING STOP SIGN',\n",
    "    - 'DRIVING ON WRONG SIDE/WRONG WAY',\n",
    "    - 'IMPROPER LANE USAGE',\n",
    "    - 'DISREGARDING OTHER TRAFFIC SIGNS',\n",
    "    - 'TURNING RIGHT ON RED',\n",
    "    - 'DISREGARDING ROAD MARKINGS',\n",
    "    - 'DISREGARDING YIELD SIGN',\n",
    "    - 'RELATED TO BUS STOP', \n",
    "    - 'PASSING STOPPED SCHOOL BUS',\n",
    "\n",
    "**infrastructure issues:**\n",
    "    - 'ROAD CONSTRUCTION/MAINTENANCE', \n",
    "    - 'ROAD ENGINEERING/SURFACE/MARKING DEFECTS',\n",
    "    - 'OBSTRUCTED CROSSWALKS',\n",
    "\n",
    "**misc factors:**\n",
    "    - 'DRIVING SKILLS/KNOWLEDGE/EXPERIENCE', \n",
    "    - 'BICYCLE ADVANCING LEGALLY ON RED LIGHT', \n",
    "    - 'MOTORCYCLE ADVANCING LEGALLY ON RED LIGHT'\n",
    "    - 'EQUIPMENT - VEHICLE CONDITION',\n",
    "- 'NOT APPLICABLE'\n",
    "\n",
    "--\n",
    "'UNABLE TO DETERMINE', - to be dropped\n",
    "\n",
    "</details>"
   ]
  },
  {
   "cell_type": "code",
   "execution_count": 18,
   "metadata": {
    "scrolled": true
   },
   "outputs": [
    {
     "data": {
      "text/plain": [
       "NUM_UNITS\n",
       "2     202015\n",
       "3      61190\n",
       "4      22690\n",
       "5       7534\n",
       "1       5671\n",
       "6       3596\n",
       "7       1409\n",
       "8       1014\n",
       "9        291\n",
       "12       131\n",
       "11        53\n",
       "14         4\n",
       "Name: count, dtype: int64"
      ]
     },
     "execution_count": 18,
     "metadata": {},
     "output_type": "execute_result"
    }
   ],
   "source": [
    "master_df[\"NUM_UNITS\"].value_counts()\n",
    "#in int form already"
   ]
  },
  {
   "cell_type": "code",
   "execution_count": 19,
   "metadata": {},
   "outputs": [
    {
     "data": {
      "text/plain": [
       "SEVERE_INJURY\n",
       "MINOR INJURIES    267484\n",
       "MAJOR INJURIES     35384\n",
       "FATAL               2730\n",
       "Name: count, dtype: int64"
      ]
     },
     "execution_count": 19,
     "metadata": {},
     "output_type": "execute_result"
    }
   ],
   "source": [
    "#change to no injury, minor, major, fatality\n",
    "master_df[\"MOST_SEVERE_INJURY\"].value_counts()\n",
    "\n",
    "injury_dict = {'NONINCAPACITATING INJURY': 'MINOR INJURIES',\n",
    "              'REPORTED, NOT EVIDENT': 'MINOR INJURIES', 'INCAPACITATING INJURY' : 'MAJOR INJURIES',\n",
    "              'FATAL': 'FATAL'}\n",
    "\n",
    "master_df['SEVERE_INJURY'] = master_df['MOST_SEVERE_INJURY'].map(injury_dict)\n",
    "master_df.drop(labels=\"MOST_SEVERE_INJURY\", axis=1, inplace=True)\n",
    "master_df['SEVERE_INJURY'].value_counts()"
   ]
  },
  {
   "cell_type": "code",
   "execution_count": 20,
   "metadata": {},
   "outputs": [
    {
     "data": {
      "text/plain": [
       "CRASH_MONTH\n",
       "7     32695\n",
       "6     30152\n",
       "8     29755\n",
       "10    29626\n",
       "9     29217\n",
       "5     28983\n",
       "4     23074\n",
       "3     22853\n",
       "1     22210\n",
       "2     20199\n",
       "11    19574\n",
       "12    17260\n",
       "Name: count, dtype: int64"
      ]
     },
     "execution_count": 20,
     "metadata": {},
     "output_type": "execute_result"
    }
   ],
   "source": [
    "master_df[\"INJURIES_TOTAL\"].value_counts()\n",
    "master_df[\"CRASH_HOUR\"].value_counts()\n",
    "master_df[\"CRASH_DAY_OF_WEEK\"].value_counts()\n",
    "master_df[\"CRASH_MONTH\"].value_counts()\n",
    "#int form already"
   ]
  },
  {
   "cell_type": "code",
   "execution_count": 21,
   "metadata": {},
   "outputs": [
    {
     "name": "stdout",
     "output_type": "stream",
     "text": [
      "<class 'pandas.core.frame.DataFrame'>\n",
      "Index: 305598 entries, 0 to 3594374\n",
      "Data columns (total 34 columns):\n",
      " #   Column                   Non-Null Count   Dtype         \n",
      "---  ------                   --------------   -----         \n",
      " 0   CRASH_RECORD_ID          305598 non-null  object        \n",
      " 1   CRASH_DATE               305598 non-null  datetime64[ns]\n",
      " 2   POSTED_SPEED_LIMIT       305598 non-null  int64         \n",
      " 3   TRAFFIC_CONTROL_DEVICE   305598 non-null  object        \n",
      " 4   DEVICE_CONDITION         305598 non-null  object        \n",
      " 5   WEATHER_CONDITION        305598 non-null  object        \n",
      " 6   LIGHTING_CONDITION       305598 non-null  object        \n",
      " 7   FIRST_CRASH_TYPE         305598 non-null  object        \n",
      " 8   TRAFFICWAY_TYPE          305598 non-null  object        \n",
      " 9   ALIGNMENT                305598 non-null  object        \n",
      " 10  ROADWAY_SURFACE_COND     305598 non-null  object        \n",
      " 11  ROAD_DEFECT              305598 non-null  object        \n",
      " 12  CRASH_TYPE               305598 non-null  object        \n",
      " 13  DAMAGE                   305598 non-null  object        \n",
      " 14  PRIM_CONTRIBUTORY_CAUSE  221389 non-null  object        \n",
      " 15  NUM_UNITS                305598 non-null  int64         \n",
      " 16  INJURIES_TOTAL           305598 non-null  float64       \n",
      " 17  CRASH_HOUR               305598 non-null  int64         \n",
      " 18  CRASH_DAY_OF_WEEK        305598 non-null  int64         \n",
      " 19  CRASH_MONTH              305598 non-null  int64         \n",
      " 20  VEHICLE_TYPE             305598 non-null  object        \n",
      " 21  MANEUVER                 305598 non-null  object        \n",
      " 22  FIRST_CONTACT_POINT      305512 non-null  object        \n",
      " 23  PERSON_TYPE              305598 non-null  object        \n",
      " 24  SEX                      298205 non-null  object        \n",
      " 25  AGE                      251649 non-null  float64       \n",
      " 26  SAFETY_EQUIPMENT         303965 non-null  object        \n",
      " 27  AIRBAG_DEPLOYED          293688 non-null  object        \n",
      " 28  DRIVER_ACTION            209120 non-null  object        \n",
      " 29  DRIVER_VISION            208933 non-null  object        \n",
      " 30  PHYSICAL_CONDITION       209510 non-null  object        \n",
      " 31  BAC_RESULT               209238 non-null  object        \n",
      " 32  YEAR                     305598 non-null  int32         \n",
      " 33  SEVERE_INJURY            305598 non-null  object        \n",
      "dtypes: datetime64[ns](1), float64(2), int32(1), int64(5), object(25)\n",
      "memory usage: 80.4+ MB\n"
     ]
    }
   ],
   "source": [
    "master_df[\"LIC_PLATE_STATE\"].value_counts()\n",
    "master_df.drop(labels=\"LIC_PLATE_STATE\", axis=1, inplace=True)\n",
    "master_df.info()"
   ]
  },
  {
   "cell_type": "code",
   "execution_count": 22,
   "metadata": {},
   "outputs": [
    {
     "name": "stdout",
     "output_type": "stream",
     "text": [
      "<class 'pandas.core.frame.DataFrame'>\n",
      "Index: 305598 entries, 0 to 3594374\n",
      "Data columns (total 34 columns):\n",
      " #   Column                   Non-Null Count   Dtype         \n",
      "---  ------                   --------------   -----         \n",
      " 0   CRASH_RECORD_ID          305598 non-null  object        \n",
      " 1   CRASH_DATE               305598 non-null  datetime64[ns]\n",
      " 2   POSTED_SPEED_LIMIT       305598 non-null  int64         \n",
      " 3   TRAFFIC_CONTROL_DEVICE   305598 non-null  object        \n",
      " 4   DEVICE_CONDITION         305598 non-null  object        \n",
      " 5   WEATHER_CONDITION        305598 non-null  object        \n",
      " 6   LIGHTING_CONDITION       305598 non-null  object        \n",
      " 7   FIRST_CRASH_TYPE         305598 non-null  object        \n",
      " 8   TRAFFICWAY_TYPE          305598 non-null  object        \n",
      " 9   ALIGNMENT                305598 non-null  object        \n",
      " 10  ROADWAY_SURFACE_COND     305598 non-null  object        \n",
      " 11  ROAD_DEFECT              305598 non-null  object        \n",
      " 12  CRASH_TYPE               305598 non-null  object        \n",
      " 13  DAMAGE                   305598 non-null  object        \n",
      " 14  PRIM_CONTRIBUTORY_CAUSE  221389 non-null  object        \n",
      " 15  NUM_UNITS                305598 non-null  int64         \n",
      " 16  INJURIES_TOTAL           305598 non-null  float64       \n",
      " 17  CRASH_HOUR               305598 non-null  int64         \n",
      " 18  CRASH_DAY_OF_WEEK        305598 non-null  int64         \n",
      " 19  CRASH_MONTH              305598 non-null  int64         \n",
      " 20  VEHICLE_TYPE             305598 non-null  object        \n",
      " 21  MANEUVER                 305598 non-null  object        \n",
      " 22  FIRST_CONTACT_POINT      305512 non-null  object        \n",
      " 23  PERSON_TYPE              305598 non-null  object        \n",
      " 24  SEX                      298205 non-null  object        \n",
      " 25  AGE                      251649 non-null  float64       \n",
      " 26  SAFETY_EQUIPMENT         303965 non-null  object        \n",
      " 27  AIRBAG_DEPLOYED          293688 non-null  object        \n",
      " 28  DRIVER_ACTION            209120 non-null  object        \n",
      " 29  DRIVER_VISION            208933 non-null  object        \n",
      " 30  PHYSICAL_CONDITION       209510 non-null  object        \n",
      " 31  BAC_RESULT               209238 non-null  object        \n",
      " 32  YEAR                     305598 non-null  int32         \n",
      " 33  SEVERE_INJURY            305598 non-null  object        \n",
      "dtypes: datetime64[ns](1), float64(2), int32(1), int64(5), object(25)\n",
      "memory usage: 80.4+ MB\n"
     ]
    }
   ],
   "source": [
    "master_df.info()"
   ]
  },
  {
   "cell_type": "markdown",
   "metadata": {},
   "source": [
    "# Harshitha's Space"
   ]
  },
  {
   "cell_type": "code",
   "execution_count": 23,
   "metadata": {},
   "outputs": [],
   "source": [
    "# DROP unnecessary columns\n",
    "# master_df.drop(columns=['CRASH_RECORD_ID', 'CRASH_DATE'], inplace=True)"
   ]
  },
  {
   "cell_type": "code",
   "execution_count": 24,
   "metadata": {},
   "outputs": [
    {
     "data": {
      "text/plain": [
       "YEAR\n",
       "2021    81665\n",
       "2022    78600\n",
       "2023    74362\n",
       "2020    70971\n",
       "Name: count, dtype: int64"
      ]
     },
     "execution_count": 24,
     "metadata": {},
     "output_type": "execute_result"
    }
   ],
   "source": [
    "master_df[\"YEAR\"].value_counts()"
   ]
  },
  {
   "cell_type": "code",
   "execution_count": 25,
   "metadata": {},
   "outputs": [
    {
     "data": {
      "text/plain": [
       "POSTED_SPEED_LIMIT\n",
       "30    242017\n",
       "35     27154\n",
       "25     14365\n",
       "20      6705\n",
       "40      5834\n",
       "45      3531\n",
       "15      3446\n",
       "10      1542\n",
       "55       353\n",
       "5        220\n",
       "0        139\n",
       "50       115\n",
       "3         60\n",
       "39        46\n",
       "60        31\n",
       "26        16\n",
       "7          8\n",
       "9          4\n",
       "33         4\n",
       "24         2\n",
       "2          2\n",
       "29         2\n",
       "34         2\n",
       "Name: count, dtype: int64"
      ]
     },
     "execution_count": 25,
     "metadata": {},
     "output_type": "execute_result"
    }
   ],
   "source": [
    "master_df[\"POSTED_SPEED_LIMIT\"].value_counts()"
   ]
  },
  {
   "cell_type": "code",
   "execution_count": 26,
   "metadata": {},
   "outputs": [
    {
     "data": {
      "text/plain": [
       "TRAFFIC_CONTROL_DEVICE\n",
       "TRAFFIC SIGNAL              130369\n",
       "NO CONTROLS                 115428\n",
       "STOP SIGN/FLASHER            47894\n",
       "UNKNOWN                       6868\n",
       "OTHER                         1955\n",
       "YIELD                          725\n",
       "PEDESTRIAN CROSSING SIGN       501\n",
       "FLASHING CONTROL SIGNAL        357\n",
       "DELINEATORS                    311\n",
       "SCHOOL ZONE                    262\n",
       "RAILROAD CROSSING GATE         259\n",
       "OTHER REG. SIGN                243\n",
       "OTHER WARNING SIGN             169\n",
       "POLICE/FLAGMAN                 108\n",
       "OTHER RAILROAD CROSSING         81\n",
       "RR CROSSING SIGN                41\n",
       "BICYCLE CROSSING SIGN           19\n",
       "NO PASSING                       8\n",
       "Name: count, dtype: int64"
      ]
     },
     "execution_count": 26,
     "metadata": {},
     "output_type": "execute_result"
    }
   ],
   "source": [
    "# can bin this into binary, Yes or no\n",
    "master_df[\"TRAFFIC_CONTROL_DEVICE\"].value_counts()"
   ]
  },
  {
   "cell_type": "code",
   "execution_count": 27,
   "metadata": {},
   "outputs": [
    {
     "data": {
      "text/plain": [
       "TRAFFIC_CONTROL_DEVICE\n",
       "SIGNAL                      130726\n",
       "NO CONTROLS                 115428\n",
       "STOP SIGN/FLASHER            47894\n",
       "UNKNOWN                       6868\n",
       "OTHER                         1955\n",
       "YIELD                          725\n",
       "PEDESTRIAN CROSSING SIGN       501\n",
       "DELINEATORS                    311\n",
       "SCHOOL ZONE                    262\n",
       "RAILROAD CROSSING GATE         259\n",
       "OTHER REG. SIGN                243\n",
       "OTHER WARNING SIGN             169\n",
       "POLICE/FLAGMAN                 108\n",
       "OTHER RAILROAD CROSSING         81\n",
       "RR CROSSING SIGN                41\n",
       "BICYCLE CROSSING SIGN           19\n",
       "NO PASSING                       8\n",
       "Name: count, dtype: int64"
      ]
     },
     "execution_count": 27,
     "metadata": {},
     "output_type": "execute_result"
    }
   ],
   "source": [
    "master_df['TRAFFIC_CONTROL_DEVICE'] = master_df['TRAFFIC_CONTROL_DEVICE'].apply(lambda x: 'SIGNAL' if 'SIGNAL' in x else x)\n",
    "master_df['TRAFFIC_CONTROL_DEVICE'].value_counts()"
   ]
  },
  {
   "cell_type": "code",
   "execution_count": 28,
   "metadata": {},
   "outputs": [
    {
     "data": {
      "text/plain": [
       "TRAFFIC_CONTROL_DEVICE\n",
       "SIGNAL                     130726\n",
       "NO CONTROLS                115428\n",
       "SIGN                        48867\n",
       "UNKNOWN                      6868\n",
       "OTHER                        1955\n",
       "YIELD                         725\n",
       "DELINEATORS                   311\n",
       "SCHOOL ZONE                   262\n",
       "RAILROAD CROSSING GATE        259\n",
       "POLICE/FLAGMAN                108\n",
       "OTHER RAILROAD CROSSING        81\n",
       "NO PASSING                      8\n",
       "Name: count, dtype: int64"
      ]
     },
     "execution_count": 28,
     "metadata": {},
     "output_type": "execute_result"
    }
   ],
   "source": [
    "master_df['TRAFFIC_CONTROL_DEVICE'] = master_df['TRAFFIC_CONTROL_DEVICE'].apply(lambda x: 'SIGN' if ' SIGN' in x else x)\n",
    "master_df['TRAFFIC_CONTROL_DEVICE'].value_counts()"
   ]
  },
  {
   "cell_type": "code",
   "execution_count": 29,
   "metadata": {},
   "outputs": [
    {
     "data": {
      "text/plain": [
       "TRAFFIC_CONTROL_DEVICE\n",
       "SIGNAL         131066\n",
       "NO CONTROLS    115428\n",
       "SIGN            49862\n",
       "OTHER            9242\n",
       "Name: count, dtype: int64"
      ]
     },
     "execution_count": 29,
     "metadata": {},
     "output_type": "execute_result"
    }
   ],
   "source": [
    "traffic_dict = {'NO CONTROLS': 'NO CONTROLS', 'SIGNAL':'SIGNAL', 'SIGN': 'SIGN', 'UNKNOWN': 'OTHER',\n",
    "               'OTHER': 'OTHER', 'LANE USE MARKING': 'SIGN', 'YIELD':'SIGN', 'RAILROAD CROSSING GATE': 'SIGNAL',\n",
    "               'SCHOOL ZONE': 'SIGN', 'DELINEATORS': 'OTHER', 'POLICE/FLAGMAN': 'OTHER', \n",
    "               'OTHER RAILROAD CROSSING': 'SIGNAL', 'NO PASSING': 'SIGN', }\n",
    "master_df['TRAFFIC_CONTROL_DEVICE'] = master_df['TRAFFIC_CONTROL_DEVICE'].map(traffic_dict)\n",
    "master_df['TRAFFIC_CONTROL_DEVICE'].value_counts()"
   ]
  },
  {
   "cell_type": "code",
   "execution_count": 30,
   "metadata": {},
   "outputs": [
    {
     "data": {
      "text/plain": [
       "DEVICE_CONDITION\n",
       "FUNCTIONING PROPERLY        163434\n",
       "NO CONTROLS                 119932\n",
       "UNKNOWN                      16368\n",
       "OTHER                         2595\n",
       "FUNCTIONING IMPROPERLY        1927\n",
       "NOT FUNCTIONING               1194\n",
       "WORN REFLECTIVE MATERIAL       100\n",
       "MISSING                         48\n",
       "Name: count, dtype: int64"
      ]
     },
     "execution_count": 30,
     "metadata": {},
     "output_type": "execute_result"
    }
   ],
   "source": [
    "master_df['DEVICE_CONDITION'].value_counts()"
   ]
  },
  {
   "cell_type": "code",
   "execution_count": 31,
   "metadata": {},
   "outputs": [
    {
     "data": {
      "text/plain": [
       "DEVICE_CONDITION\n",
       "FUNCTIONING PROPERLY               166129\n",
       "NO CONTROLS                        136300\n",
       "FUNCTIONING IMPROPERLY/ MISSING      3169\n",
       "Name: count, dtype: int64"
      ]
     },
     "execution_count": 31,
     "metadata": {},
     "output_type": "execute_result"
    }
   ],
   "source": [
    "device_dict = {'NO CONTROLS': 'NO CONTROLS',\n",
    "               'FUNCTIONING PROPERLY': 'FUNCTIONING PROPERLY',\n",
    "               'UNKNOWN': 'NO CONTROLS',\n",
    "               'FUNCTIONING IMPROPERLY':'FUNCTIONING IMPROPERLY/ MISSING',\n",
    "               'NOT FUNCTIONING':'FUNCTIONING IMPROPERLY/ MISSING',\n",
    "               'WORN REFLECTIVE MATERIAL': 'FUNCTIONING PROPERLY',\n",
    "               'MISSING': 'FUNCTIONING IMPROPERLY/ MISSING',\n",
    "               'OTHER': 'FUNCTIONING PROPERLY'}\n",
    "master_df['DEVICE_CONDITION'] = master_df['DEVICE_CONDITION'].map(device_dict)\n",
    "master_df['DEVICE_CONDITION'].value_counts()"
   ]
  },
  {
   "cell_type": "code",
   "execution_count": 32,
   "metadata": {},
   "outputs": [
    {
     "data": {
      "text/plain": [
       "WEATHER_CONDITION\n",
       "CLEAR                       249988\n",
       "RAIN                         30571\n",
       "CLOUDY/OVERCAST               8955\n",
       "SNOW                          7895\n",
       "UNKNOWN                       4641\n",
       "OTHER                         1242\n",
       "FREEZING RAIN/DRIZZLE         1181\n",
       "BLOWING SNOW                   407\n",
       "FOG/SMOKE/HAZE                 393\n",
       "SLEET/HAIL                     262\n",
       "SEVERE CROSS WIND GATE          61\n",
       "BLOWING SAND, SOIL, DIRT         2\n",
       "Name: count, dtype: int64"
      ]
     },
     "execution_count": 32,
     "metadata": {},
     "output_type": "execute_result"
    }
   ],
   "source": [
    "# bin into clear or not clear? unknown = clear, other=clear \n",
    "master_df[\"WEATHER_CONDITION\"].value_counts()"
   ]
  },
  {
   "cell_type": "code",
   "execution_count": 33,
   "metadata": {},
   "outputs": [
    {
     "data": {
      "text/plain": [
       "WEATHER_CONDITION\n",
       "CLEAR        255871\n",
       "INCLEMENT     49727\n",
       "Name: count, dtype: int64"
      ]
     },
     "execution_count": 33,
     "metadata": {},
     "output_type": "execute_result"
    }
   ],
   "source": [
    "weather_dict = {'CLEAR': 'CLEAR', 'RAIN': 'INCLEMENT', 'CLOUDY/OVERCAST': 'INCLEMENT', 'SNOW': 'INCLEMENT', 'UNKNOWN': 'CLEAR', 'OTHER': 'CLEAR',\n",
    "                'FREEZING RAIN/DRIZZLE': 'INCLEMENT', 'BLOWING SNOW':'INCLEMENT', 'FOG/SMOKE/HAZE': 'INCLEMENT', 'SLEET/HAIL': 'INCLEMENT', 'SEVERE CROSS WIND GATE': 'INCLEMENT',\n",
    "                'BLOWING SAND, SOIL, DIRT': 'INCLEMENT'\n",
    "               }\n",
    "master_df['WEATHER_CONDITION'] = master_df['WEATHER_CONDITION'].map(weather_dict)\n",
    "master_df['WEATHER_CONDITION'].value_counts()"
   ]
  },
  {
   "cell_type": "code",
   "execution_count": 34,
   "metadata": {},
   "outputs": [
    {
     "data": {
      "text/plain": [
       "LIGHTING_CONDITION\n",
       "DAYLIGHT                  187201\n",
       "DARKNESS, LIGHTED ROAD     89446\n",
       "DARKNESS                   11653\n",
       "DUSK                        9415\n",
       "DAWN                        5033\n",
       "UNKNOWN                     2850\n",
       "Name: count, dtype: int64"
      ]
     },
     "execution_count": 34,
     "metadata": {},
     "output_type": "execute_result"
    }
   ],
   "source": [
    "master_df[\"LIGHTING_CONDITION\"].value_counts()"
   ]
  },
  {
   "cell_type": "code",
   "execution_count": 35,
   "metadata": {},
   "outputs": [
    {
     "data": {
      "text/plain": [
       "LIGHTING_CONDITION\n",
       "VISIBLE                  190051\n",
       "DIMINISHED VISIBILITY    115547\n",
       "Name: count, dtype: int64"
      ]
     },
     "execution_count": 35,
     "metadata": {},
     "output_type": "execute_result"
    }
   ],
   "source": [
    "lighting_dict = {'DAYLIGHT':'VISIBLE','DARKNESS, LIGHTED ROAD':'DIMINISHED VISIBILITY', 'DARKNESS':'DIMINISHED VISIBILITY',\n",
    "                'DUSK':'DIMINISHED VISIBILITY', 'DAWN': 'DIMINISHED VISIBILITY', 'UNKNOWN': 'VISIBLE'}\n",
    "master_df['LIGHTING_CONDITION'] = master_df['LIGHTING_CONDITION'].map(lighting_dict)\n",
    "master_df['LIGHTING_CONDITION'].value_counts()"
   ]
  },
  {
   "cell_type": "code",
   "execution_count": 36,
   "metadata": {},
   "outputs": [
    {
     "data": {
      "text/plain": [
       "FIRST_CRASH_TYPE\n",
       "REAR END                        79129\n",
       "ANGLE                           74256\n",
       "TURNING                         64269\n",
       "SIDESWIPE SAME DIRECTION        22372\n",
       "PARKED MOTOR VEHICLE            17638\n",
       "PEDESTRIAN                      14657\n",
       "HEAD ON                          8905\n",
       "PEDALCYCLIST                     8648\n",
       "FIXED OBJECT                     6189\n",
       "SIDESWIPE OPPOSITE DIRECTION     4935\n",
       "REAR TO FRONT                    1520\n",
       "REAR TO SIDE                     1463\n",
       "OTHER OBJECT                     1087\n",
       "OVERTURNED                        222\n",
       "OTHER NONCOLLISION                147\n",
       "REAR TO REAR                      101\n",
       "ANIMAL                             32\n",
       "TRAIN                              28\n",
       "Name: count, dtype: int64"
      ]
     },
     "execution_count": 36,
     "metadata": {},
     "output_type": "execute_result"
    }
   ],
   "source": [
    "# Looking at the FIRST_CRASH_TYPE column \n",
    "master_df['FIRST_CRASH_TYPE'].value_counts()"
   ]
  },
  {
   "cell_type": "code",
   "execution_count": 37,
   "metadata": {},
   "outputs": [
    {
     "data": {
      "text/plain": [
       "FIRST_CRASH_TYPE\n",
       "REAR END            79129\n",
       "ANGLE               74256\n",
       "TURNING             64269\n",
       "SIDE SWIPE          27307\n",
       "OBJECT              24914\n",
       "PERSON OR ANIMAL    23337\n",
       "OTHER               12386\n",
       "Name: count, dtype: int64"
      ]
     },
     "execution_count": 37,
     "metadata": {},
     "output_type": "execute_result"
    }
   ],
   "source": [
    "first_crash_dict = {'REAR END': 'REAR END', 'SIDESWIPE SAME DIRECTION': 'SIDE SWIPE', 'TURNING': 'TURNING', 'PARKED MOTOR VEHICLE': 'OBJECT', 'ANGLE': 'ANGLE', 'PEDESTRIAN': 'PERSON OR ANIMAL',\n",
    "                    'SIDESWIPE OPPOSITE DIRECTION': 'SIDE SWIPE', 'FIXED OBJECT': 'OBJECT', 'PEDALCYCLIST': 'PERSON OR ANIMAL', 'HEAD ON': 'OTHER', 'REAR TO FRONT': 'OTHER',\n",
    "                    'REAR TO SIDE': 'OTHER', 'OTHER OBJECT': 'OBJECT', 'REAR TO REAR': 'OTHER', 'OTHER NONCOLLISION': 'OTHER', 'ANIMAL': 'PERSON OR ANIMAL', 'OVERTURNED': 'OTHER', 'TRAIN': 'OTHER'\n",
    "                    }\n",
    "master_df['FIRST_CRASH_TYPE'] = master_df['FIRST_CRASH_TYPE'].map(first_crash_dict)\n",
    "master_df['FIRST_CRASH_TYPE'].value_counts()"
   ]
  },
  {
   "cell_type": "code",
   "execution_count": 38,
   "metadata": {},
   "outputs": [
    {
     "data": {
      "text/plain": [
       "TRAFFICWAY_TYPE\n",
       "NOT DIVIDED                        116522\n",
       "FOUR WAY                            66367\n",
       "DIVIDED - W/MEDIAN (NOT RAISED)     48121\n",
       "DIVIDED - W/MEDIAN BARRIER          22812\n",
       "ONE-WAY                             17980\n",
       "T-INTERSECTION                      10854\n",
       "OTHER                                5286\n",
       "PARKING LOT                          3756\n",
       "CENTER TURN LANE                     2954\n",
       "UNKNOWN INTERSECTION TYPE            2455\n",
       "ALLEY                                1796\n",
       "FIVE POINT, OR MORE                  1199\n",
       "Y-INTERSECTION                       1197\n",
       "TRAFFIC ROUTE                        1067\n",
       "UNKNOWN                              1033\n",
       "NOT REPORTED                          853\n",
       "RAMP                                  662\n",
       "DRIVEWAY                              432\n",
       "L-INTERSECTION                        154\n",
       "ROUNDABOUT                             98\n",
       "Name: count, dtype: int64"
      ]
     },
     "execution_count": 38,
     "metadata": {},
     "output_type": "execute_result"
    }
   ],
   "source": [
    "master_df['TRAFFICWAY_TYPE'].value_counts()"
   ]
  },
  {
   "cell_type": "code",
   "execution_count": 39,
   "metadata": {},
   "outputs": [
    {
     "data": {
      "text/plain": [
       "TRAFFICWAY_TYPE\n",
       "NOT DIVIDED     117555\n",
       "OTHER           102352\n",
       "DIVIDED          70933\n",
       "INTERSECTION     14758\n",
       "Name: count, dtype: int64"
      ]
     },
     "execution_count": 39,
     "metadata": {},
     "output_type": "execute_result"
    }
   ],
   "source": [
    "#  \n",
    "trafficway_dict = {'NOT DIVIDED': 'NOT DIVIDED', 'DIVIDED - W/MEDIAN (NOT RAISED)': 'DIVIDED', 'ONE-WAY': 'OTHER', 'FOUR WAY': 'OTHER', 'DIVIDED - W/MEDIAN BARRIER': 'DIVIDED',\n",
    "                    'PARKING LOT': 'OTHER', 'OTHER': 'OTHER', 'T-INTERSECTION': 'INTERSECTION', 'ALLEY': 'OTHER', 'UNKNOWN': 'NOT DIVIDED', 'CENTER TURN LANE': 'OTHER', \n",
    "                    'UNKNOWN INTERSECTION TYPE': 'INTERSECTION', 'RAMP': 'OTHER', 'DRIVEWAY': 'OTHER', 'FIVE POINT, OR MORE': 'OTHER', 'Y-INTERSECTION': 'INTERSECTION', \n",
    "                    'TRAFFIC ROUTE': 'OTHER', 'NOT REPORTED': 'OTHER', 'ROUNDABOUT': 'INTERSECTION', 'L-INTERSECTION': 'INTERSECTION'\n",
    "               }\n",
    "master_df['TRAFFICWAY_TYPE'] = master_df['TRAFFICWAY_TYPE'].map(trafficway_dict)\n",
    "master_df['TRAFFICWAY_TYPE'].value_counts()"
   ]
  },
  {
   "cell_type": "code",
   "execution_count": 40,
   "metadata": {},
   "outputs": [
    {
     "data": {
      "text/plain": [
       "ALIGNMENT\n",
       "STRAIGHT        302355\n",
       "NOT STRAIGHT      3243\n",
       "Name: count, dtype: int64"
      ]
     },
     "execution_count": 40,
     "metadata": {},
     "output_type": "execute_result"
    }
   ],
   "source": [
    "# Street alignment at crash location, as determined by reporting officer. maybe drop?\n",
    "alignment_dict = {'STRAIGHT AND LEVEL': 'STRAIGHT', 'STRAIGHT ON GRADE': 'STRAIGHT', 'CURVE, LEVEL': 'NOT STRAIGHT', 'STRAIGHT ON HILLCREST': 'STRAIGHT',\n",
    "                    'CURVE ON GRADE': 'NOT STRAIGHT', 'CURVE ON HILLCREST': 'NOT STRAIGHT'\n",
    "               }\n",
    "master_df['ALIGNMENT'] = master_df['ALIGNMENT'].map(alignment_dict)\n",
    "master_df['ALIGNMENT'].value_counts()"
   ]
  },
  {
   "cell_type": "code",
   "execution_count": 41,
   "metadata": {},
   "outputs": [
    {
     "data": {
      "text/plain": [
       "ROADWAY_SURFACE_COND\n",
       "DRY        249355\n",
       "NOT DRY     55410\n",
       "OTHER         833\n",
       "Name: count, dtype: int64"
      ]
     },
     "execution_count": 41,
     "metadata": {},
     "output_type": "execute_result"
    }
   ],
   "source": [
    "roadway_surface_dict = {'DRY': 'DRY', 'WET': 'NOT DRY', 'UNKNOWN': 'DRY', 'SNOW OR SLUSH': 'NOT DRY', 'ICE': 'NOT DRY', \n",
    "                'OTHER': 'OTHER', 'SAND, MUD, DIRT': 'NOT DRY'\n",
    "               }\n",
    "master_df['ROADWAY_SURFACE_COND'] = master_df['ROADWAY_SURFACE_COND'].map(roadway_surface_dict)\n",
    "master_df['ROADWAY_SURFACE_COND'].value_counts()"
   ]
  },
  {
   "cell_type": "code",
   "execution_count": null,
   "metadata": {},
   "outputs": [],
   "source": []
  },
  {
   "cell_type": "markdown",
   "metadata": {},
   "source": [
    "# Dre's Space"
   ]
  },
  {
   "cell_type": "code",
   "execution_count": 42,
   "metadata": {},
   "outputs": [
    {
     "data": {
      "text/plain": [
       "VEHICLE_TYPE\n",
       "PASSENGER                      238025\n",
       "SPORT UTILITY VEHICLE (SUV)     51648\n",
       "VAN/MINI-VAN                    15925\n",
       "Name: count, dtype: int64"
      ]
     },
     "execution_count": 42,
     "metadata": {},
     "output_type": "execute_result"
    }
   ],
   "source": [
    "## Vehicle Type\n",
    "\n",
    "master_df['VEHICLE_TYPE'].value_counts()"
   ]
  },
  {
   "cell_type": "code",
   "execution_count": 43,
   "metadata": {},
   "outputs": [],
   "source": [
    "# Maneuver\n",
    "\n",
    "MANEUVER_dict = {'STRAIGHT AHEAD': 'STRAIGHT', 'TURNING LEFT': 'OTHER', 'SLOW/STOP IN TRAFFIC': 'OTHER', 'PARKED': 'OTHER', 'TURNING RIGHT': 'OTHER', 'UNKNOWN/NA': 'STRAIGHT',\n",
    "                 'OTHER': 'OTHER', 'PASSING/OVERTAKING': 'OTHER', 'CHANGING LANES': 'OTHER', 'U-TURN': 'OTHER', 'BACKING': 'OTHER', 'STARTING IN TRAFFIC': 'OTHER', \n",
    "                 'AVOIDING VEHICLES/OBJECTS': 'OTHER', 'ENTERING TRAFFIC LANE FROM PARKING': 'OTHER', 'SKIDDING/CONTROL LOSS': 'OTHER', 'DRIVING WRONG WAY': 'OTHER',\n",
    "                 'MERGING': 'OTHER', 'ENTER FROM DRIVE/ALLEY': 'OTHER', 'PARKED IN TRAFFIC LANE': 'OTHER', 'NEGOTIATING A CURVE': 'OTHER', 'LEAVING TRAFFIC LANE TO PARK': 'OTHER',\n",
    "                 'TURNING ON RED': 'OTHER', 'DISABLED': 'OTHER', 'DRIVERLESS': 'OTHER', 'DIVERGING': 'OTHER'}\n",
    "\n",
    "master_df['MANEUVER'] = master_df['MANEUVER'].map(MANEUVER_dict)"
   ]
  },
  {
   "cell_type": "code",
   "execution_count": 44,
   "metadata": {},
   "outputs": [
    {
     "data": {
      "text/plain": [
       "MANEUVER\n",
       "STRAIGHT    194291\n",
       "OTHER       111307\n",
       "Name: count, dtype: int64"
      ]
     },
     "execution_count": 44,
     "metadata": {},
     "output_type": "execute_result"
    }
   ],
   "source": [
    "\n",
    "master_df['MANEUVER'].value_counts()"
   ]
  },
  {
   "cell_type": "code",
   "execution_count": 45,
   "metadata": {},
   "outputs": [],
   "source": [
    "# FIRST CONTACT POINT\n",
    "\n",
    "master_df['FIRST_CONTACT_POINT'] = master_df['FIRST_CONTACT_POINT'].fillna('FRONT')\n",
    "\n",
    "FIRST_CONTACT_POINT_dict = {'FRONT': 'FRONT', 'REAR': 'REAR', 'FRONT-LEFT-CORNER': 'FRONT', 'FRONT-RIGHT-CORNER': 'FRONT', 'SIDE-LEFT': 'SIDES', 'SIDE-RIGHT': 'SIDES', \n",
    "                            'REAR-LEFT-CORNER': 'REAR',\n",
    "                            'REAR-RIGHT-CORNER':'REAR', 'SIDE-LEFT-REAR': 'SIDES', 'SIDE-LEFT-FRONT':'SIDES', 'SIDE-RIGHT-REAR':'SIDES', 'SIDE-RIGHT-FRONT': 'SIDES',\n",
    "                            'TOTAL (ALL AREAS)': 'OTHER', 'NONE': 'NONE', 'OTHER': 'OTHER', 'UNDER CARRIAGE': 'OTHER', 'TOP': 'OTHER', 'ROOF': 'OTHER', 'UNKNOWN': 'FRONT',\n",
    "                            'REAR-LEFT': 'REAR', 'FRONT-RIGHT': 'FRONT'}\n",
    "\n",
    "master_df['FIRST_CONTACT_POINT'] = master_df['FIRST_CONTACT_POINT'].map(FIRST_CONTACT_POINT_dict)"
   ]
  },
  {
   "cell_type": "code",
   "execution_count": 46,
   "metadata": {},
   "outputs": [
    {
     "data": {
      "text/plain": [
       "FIRST_CONTACT_POINT\n",
       "FRONT    179686\n",
       "REAR      63448\n",
       "SIDES     57061\n",
       "OTHER      4030\n",
       "NONE       1373\n",
       "Name: count, dtype: int64"
      ]
     },
     "execution_count": 46,
     "metadata": {},
     "output_type": "execute_result"
    }
   ],
   "source": [
    "master_df['FIRST_CONTACT_POINT'].value_counts(dropna=False)"
   ]
  },
  {
   "cell_type": "code",
   "execution_count": 47,
   "metadata": {},
   "outputs": [],
   "source": [
    "# Person Type\n",
    "\n",
    "PERSON_TYPE_dict = {'DRIVER': 'DRIVER', 'PASSENGER': 'PASSENGER', 'PEDESTRIAN': 'OTHER', 'BICYCLE': 'OTHER', 'NON-MOTOR VEHICLE': 'OTHER', 'NON-CONTACT VEHICLE': 'OTHER'}\n",
    "\n",
    "master_df['PERSON_TYPE'] = master_df['PERSON_TYPE'].map(PERSON_TYPE_dict)"
   ]
  },
  {
   "cell_type": "code",
   "execution_count": 48,
   "metadata": {},
   "outputs": [
    {
     "data": {
      "text/plain": [
       "PERSON_TYPE\n",
       "DRIVER       198143\n",
       "PASSENGER     95401\n",
       "OTHER         12054\n",
       "Name: count, dtype: int64"
      ]
     },
     "execution_count": 48,
     "metadata": {},
     "output_type": "execute_result"
    }
   ],
   "source": [
    "master_df['PERSON_TYPE'].value_counts(dropna=False)"
   ]
  },
  {
   "cell_type": "code",
   "execution_count": 49,
   "metadata": {},
   "outputs": [
    {
     "data": {
      "text/plain": [
       "SEX\n",
       "M      157656\n",
       "F      129998\n",
       "NaN      7393\n",
       "Name: count, dtype: int64"
      ]
     },
     "execution_count": 49,
     "metadata": {},
     "output_type": "execute_result"
    }
   ],
   "source": [
    "# Sex\n",
    "\n",
    "master_df = master_df[master_df['SEX'] != 'X']\n",
    "\n",
    "master_df['SEX'].value_counts(dropna=False)"
   ]
  },
  {
   "cell_type": "code",
   "execution_count": 50,
   "metadata": {},
   "outputs": [
    {
     "data": {
      "text/plain": [
       "AGE\n",
       "25.0     7372\n",
       "23.0     7232\n",
       "27.0     7173\n",
       "24.0     7132\n",
       "28.0     7108\n",
       "         ... \n",
       "101.0       4\n",
       "110.0       2\n",
       "97.0        2\n",
       "108.0       2\n",
       "105.0       1\n",
       "Name: count, Length: 107, dtype: int64"
      ]
     },
     "execution_count": 50,
     "metadata": {},
     "output_type": "execute_result"
    }
   ],
   "source": [
    "# Age\n",
    "\n",
    "master_df['AGE'].value_counts()\n",
    "\n",
    "# Filter for ages 16-75??"
   ]
  },
  {
   "cell_type": "code",
   "execution_count": 51,
   "metadata": {},
   "outputs": [],
   "source": [
    "# Safety Equipment\n",
    "\n",
    "master_df['SAFETY_EQUIPMENT'] = master_df['SAFETY_EQUIPMENT'].fillna('USAGE UNKNOWN')\n",
    "\n",
    "SAFETY_EQUIPMENT_dict = {'USAGE UNKNOWN': 'UNKNOWN', 'SAFETY BELT USED': 'USED', 'NONE PRESENT': 'NONE', 'HELMET NOT USED': 'NOT USED', 'SAFETY BELT NOT USED': 'NOT USED',\n",
    "                         'CHILD RESTRAINT - FORWARD FACING': 'USED', 'BICYCLE HELMET (PEDACYCLIST INVOLVED ONLY)': 'USED', 'CHILD RESTRAINT - TYPE UNKNOWN': 'USED',\n",
    "                         'CHILD RESTRAINT - REAR FACING': 'USED', 'DOT COMPLIANT MOTORCYCLE HELMET': 'USED', 'BOOSTER SEAT': 'USED', 'CHILD RESTRAINT NOT USED': 'NOT USED', \n",
    "                         'CHILD RESTRAINT USED IMPROPERLY': 'USED', 'NOT DOT COMPLIANT MOTORCYCLE HELMET': 'USED', 'WHEELCHAIR': 'USED', 'SHOULD/LAP BELT USED IMPROPERLY': 'USED',\n",
    "                         'HELMET USED': 'USED', 'STRETCHER': 'USED', 'CHILD RESTRAINT USED': 'USED'}\n",
    "\n",
    "master_df['SAFETY_EQUIPMENT'] = master_df['SAFETY_EQUIPMENT'].map(SAFETY_EQUIPMENT_dict)"
   ]
  },
  {
   "cell_type": "code",
   "execution_count": 52,
   "metadata": {},
   "outputs": [
    {
     "data": {
      "text/plain": [
       "SAFETY_EQUIPMENT\n",
       "UNKNOWN     139877\n",
       "USED        136400\n",
       "NONE         12606\n",
       "NOT USED      6164\n",
       "Name: count, dtype: int64"
      ]
     },
     "execution_count": 52,
     "metadata": {},
     "output_type": "execute_result"
    }
   ],
   "source": [
    "master_df['SAFETY_EQUIPMENT'].value_counts(dropna=False)"
   ]
  },
  {
   "cell_type": "code",
   "execution_count": 53,
   "metadata": {},
   "outputs": [],
   "source": [
    "# Airbag Deployed\n",
    "\n",
    "master_df['AIRBAG_DEPLOYED'] = master_df['AIRBAG_DEPLOYED'].fillna('DID NOT DEPLOY')\n",
    "\n",
    "AIRBAG_DEPLOYED_dict = {'DID NOT DEPLOY': 'DID NOT DEPLOY', 'NOT APPLICABLE': 'NOT APPLICABLE', 'DEPLOYED, COMBINATION': 'DEPLOYED', 'DEPLOYMENT UNKNOWN': 'UNKNOWN', \n",
    "                        'DEPLOYED, FRONT': 'DEPLOYED', 'DEPLOYED, SIDE': 'DEPLOYED', 'DEPLOYED OTHER (KNEE, AIR, BELT, ETC.)': 'DEPLOYED'}\n",
    "\n",
    "master_df['AIRBAG_DEPLOYED'] = master_df['AIRBAG_DEPLOYED'].map(AIRBAG_DEPLOYED_dict)"
   ]
  },
  {
   "cell_type": "code",
   "execution_count": 54,
   "metadata": {},
   "outputs": [
    {
     "data": {
      "text/plain": [
       "AIRBAG_DEPLOYED\n",
       "DID NOT DEPLOY    115041\n",
       "DEPLOYED           83943\n",
       "NOT APPLICABLE     65199\n",
       "UNKNOWN            30864\n",
       "Name: count, dtype: int64"
      ]
     },
     "execution_count": 54,
     "metadata": {},
     "output_type": "execute_result"
    }
   ],
   "source": [
    "master_df['AIRBAG_DEPLOYED'].value_counts(dropna=False)"
   ]
  },
  {
   "cell_type": "code",
   "execution_count": 55,
   "metadata": {},
   "outputs": [],
   "source": [
    "# Driver Action\n",
    "\n",
    "master_df['DRIVER_ACTION'] = master_df['DRIVER_ACTION'].fillna('NONE')\n",
    "\n",
    "DRIVER_ACTION_dict = {'NONE': 'NO ACTION TAKEN', 'UNKNOWN': 'NO ACTION TAKEN', 'FAILED TO YIELD': 'ACTIONS TAKEN', 'OTHER': 'ACTIONS TAKEN', 'DISREGARDED CONTROL DEVICES': 'ACTIONS TAKEN',\n",
    "                      'FOLLOWED TOO CLOSELY': 'ACTIONS TAKEN', 'TOO FAST FOR CONDITIONS': 'ACTIONS TAKEN', 'IMPROPER TURN': 'ACTIONS TAKEN', 'IMPROPER LANE CHANGE': 'ACTIONS TAKEN',\n",
    "                      'IMPROPER PASSING': 'ACTIONS TAKEN', 'WRONG WAY/SIDE': 'ACTIONS TAKEN', 'IMPROPER BACKING': 'ACTIONS TAKEN', 'OVERCORRECTED': 'ACTIONS TAKEN', 'EVADING POLICE VEHICLE': 'ACTIONS TAKEN',\n",
    "                      'CELL PHONE USE OTHER THAN TEXTING': 'ACTIONS TAKEN', 'EMERGENCY VEHICLE ON CALL': 'ACTIONS TAKEN', 'IMPROPER PARKING': 'ACTIONS TAKEN', 'TEXTING': 'ACTIONS TAKEN',\n",
    "                      'LICENSE RESTRICTIONS': 'ACTIONS TAKEN', 'STOPPED SCHOOL BUS': 'ACTIONS TAKEN'}\n",
    "\n",
    "master_df['DRIVER_ACTION'] = master_df['DRIVER_ACTION'].map(DRIVER_ACTION_dict)"
   ]
  },
  {
   "cell_type": "code",
   "execution_count": 56,
   "metadata": {},
   "outputs": [
    {
     "data": {
      "text/plain": [
       "DRIVER_ACTION\n",
       "NO ACTION TAKEN    216815\n",
       "ACTIONS TAKEN       78232\n",
       "Name: count, dtype: int64"
      ]
     },
     "execution_count": 56,
     "metadata": {},
     "output_type": "execute_result"
    }
   ],
   "source": [
    "master_df['DRIVER_ACTION'].value_counts(dropna=False)"
   ]
  },
  {
   "cell_type": "code",
   "execution_count": 57,
   "metadata": {},
   "outputs": [],
   "source": [
    "# Driver Vision\n",
    "\n",
    "master_df['DRIVER_VISION'] = master_df['DRIVER_VISION'].fillna('NONE')\n",
    "\n",
    "DRIVER_VISION_dict = { 'NONE':'UNKNOWN', 'NOT OBSCURED': 'NOT OBSCURED', 'UNKNOWN': 'UNKNOWN', 'OTHER': 'OBSCURED', 'MOVING VEHICLES': 'OBSCURED', 'PARKED VEHICLES': 'OBSCURED',\n",
    "                      'WINDSHIELD (WATER/ICE)': 'OBSCURED', 'BLINDED - SUNLIGHT': 'OBSCURED', 'TREES, PLANTS': 'OBSCURED', 'BUILDINGS': 'OBSCURED',\n",
    "                      'BLINDED - HEADLIGHTS': 'OBSCURED', 'BLOWING MATERIALS': 'OBSCURED', 'HILLCREST': 'OBSCURED',\n",
    "                      'EMBANKMENT': 'OBSCURED', 'SIGNBOARD': 'OBSCURED'}\n",
    "\n",
    "master_df['DRIVER_VISION'] = master_df['DRIVER_VISION'].map(DRIVER_VISION_dict)"
   ]
  },
  {
   "cell_type": "code",
   "execution_count": 58,
   "metadata": {},
   "outputs": [
    {
     "data": {
      "text/plain": [
       "DRIVER_VISION\n",
       "UNKNOWN         182906\n",
       "NOT OBSCURED    105706\n",
       "OBSCURED          6435\n",
       "Name: count, dtype: int64"
      ]
     },
     "execution_count": 58,
     "metadata": {},
     "output_type": "execute_result"
    }
   ],
   "source": [
    "master_df['DRIVER_VISION'].value_counts(dropna=False)"
   ]
  },
  {
   "cell_type": "code",
   "execution_count": 59,
   "metadata": {},
   "outputs": [],
   "source": [
    "# Physical Condition\n",
    "\n",
    "master_df['PHYSICAL_CONDITION'] = master_df['PHYSICAL_CONDITION'].fillna('UNKNOWN')\n",
    "\n",
    "PHYSICAL_CONDITION_dict = {'UNKNOWN': 'UNKNOWN', 'NORMAL': 'NORMAL', 'REMOVED BY EMS': 'NOT NORMAL', 'IMPAIRED - ALCOHOL': 'NOT NORMAL', 'OTHER': 'NOT NORMAL', 'EMOTIONAL': 'NOT NORMAL',\n",
    "                           'FATIGUED/ASLEEP': 'NOT NORMAL', 'ILLNESS/FAINTED': 'NOT NORMAL', 'IMPAIRED - DRUGS': 'NOT NORMAL', 'HAD BEEN DRINKING': 'NOT NORMAL', \n",
    "                           'IMPAIRED - ALCOHOL AND DRUGS': 'NOT NORMAL', 'MEDICATED': 'NOT NORMAL'}\n",
    "\n",
    "master_df['PHYSICAL_CONDITION'] = master_df['PHYSICAL_CONDITION'].map(PHYSICAL_CONDITION_dict)"
   ]
  },
  {
   "cell_type": "code",
   "execution_count": 60,
   "metadata": {},
   "outputs": [
    {
     "data": {
      "text/plain": [
       "PHYSICAL_CONDITION\n",
       "NORMAL        146803\n",
       "UNKNOWN       137339\n",
       "NOT NORMAL     10905\n",
       "Name: count, dtype: int64"
      ]
     },
     "execution_count": 60,
     "metadata": {},
     "output_type": "execute_result"
    }
   ],
   "source": [
    "master_df['PHYSICAL_CONDITION'].value_counts(dropna=False)"
   ]
  },
  {
   "cell_type": "code",
   "execution_count": 61,
   "metadata": {},
   "outputs": [],
   "source": [
    "# BAC Result\n",
    "\n",
    "master_df['BAC_RESULT'] = master_df['BAC_RESULT'].fillna('UNKNOWN')\n",
    "\n",
    "BAC_RESULT_dict = {'TEST NOT OFFERED': 'TEST NOT OFFERED', 'TEST REFUSED': 'TEST REFUSED', 'TEST PERFORMED, RESULTS UNKNOWN': 'TEST PERFORMED',\n",
    "                   'TEST TAKEN': 'TEST PERFORMED'}\n",
    "\n",
    "master_df['BAC_RESULT'] = master_df['BAC_RESULT'].map(BAC_RESULT_dict)"
   ]
  },
  {
   "cell_type": "code",
   "execution_count": 62,
   "metadata": {},
   "outputs": [
    {
     "data": {
      "text/plain": [
       "BAC_RESULT\n",
       "TEST NOT OFFERED    195341\n",
       "TEST REFUSED          2702\n",
       "TEST PERFORMED        1955\n",
       "Name: count, dtype: int64"
      ]
     },
     "execution_count": 62,
     "metadata": {},
     "output_type": "execute_result"
    }
   ],
   "source": [
    "master_df['BAC_RESULT'].value_counts()"
   ]
  },
  {
   "cell_type": "markdown",
   "metadata": {},
   "source": [
    "## Preprocessing for Modeling"
   ]
  },
  {
   "cell_type": "code",
   "execution_count": 63,
   "metadata": {
    "collapsed": true
   },
   "outputs": [
    {
     "name": "stdout",
     "output_type": "stream",
     "text": [
      "<class 'pandas.core.frame.DataFrame'>\n",
      "Index: 295047 entries, 0 to 3594374\n",
      "Data columns (total 34 columns):\n",
      " #   Column                   Non-Null Count   Dtype         \n",
      "---  ------                   --------------   -----         \n",
      " 0   CRASH_RECORD_ID          295047 non-null  object        \n",
      " 1   CRASH_DATE               295047 non-null  datetime64[ns]\n",
      " 2   POSTED_SPEED_LIMIT       295047 non-null  int64         \n",
      " 3   TRAFFIC_CONTROL_DEVICE   295047 non-null  object        \n",
      " 4   DEVICE_CONDITION         295047 non-null  object        \n",
      " 5   WEATHER_CONDITION        295047 non-null  object        \n",
      " 6   LIGHTING_CONDITION       295047 non-null  object        \n",
      " 7   FIRST_CRASH_TYPE         295047 non-null  object        \n",
      " 8   TRAFFICWAY_TYPE          295047 non-null  object        \n",
      " 9   ALIGNMENT                295047 non-null  object        \n",
      " 10  ROADWAY_SURFACE_COND     295047 non-null  object        \n",
      " 11  ROAD_DEFECT              295047 non-null  object        \n",
      " 12  CRASH_TYPE               295047 non-null  object        \n",
      " 13  DAMAGE                   295047 non-null  object        \n",
      " 14  PRIM_CONTRIBUTORY_CAUSE  214640 non-null  object        \n",
      " 15  NUM_UNITS                295047 non-null  int64         \n",
      " 16  INJURIES_TOTAL           295047 non-null  float64       \n",
      " 17  CRASH_HOUR               295047 non-null  int64         \n",
      " 18  CRASH_DAY_OF_WEEK        295047 non-null  int64         \n",
      " 19  CRASH_MONTH              295047 non-null  int64         \n",
      " 20  VEHICLE_TYPE             295047 non-null  object        \n",
      " 21  MANEUVER                 295047 non-null  object        \n",
      " 22  FIRST_CONTACT_POINT      295047 non-null  object        \n",
      " 23  PERSON_TYPE              295047 non-null  object        \n",
      " 24  SEX                      287654 non-null  object        \n",
      " 25  AGE                      251269 non-null  float64       \n",
      " 26  SAFETY_EQUIPMENT         295047 non-null  object        \n",
      " 27  AIRBAG_DEPLOYED          295047 non-null  object        \n",
      " 28  DRIVER_ACTION            295047 non-null  object        \n",
      " 29  DRIVER_VISION            295047 non-null  object        \n",
      " 30  PHYSICAL_CONDITION       295047 non-null  object        \n",
      " 31  BAC_RESULT               199998 non-null  object        \n",
      " 32  YEAR                     295047 non-null  int32         \n",
      " 33  SEVERE_INJURY            295047 non-null  object        \n",
      "dtypes: datetime64[ns](1), float64(2), int32(1), int64(5), object(25)\n",
      "memory usage: 77.7+ MB\n"
     ]
    }
   ],
   "source": [
    "#View our cleaned columns\n",
    "master_df.info()"
   ]
  },
  {
   "cell_type": "code",
   "execution_count": 64,
   "metadata": {},
   "outputs": [],
   "source": [
    "#We can get rid of RECORD_ID and DATE, not relevant for ML\n",
    "master_df.drop(labels=[\"CRASH_RECORD_ID\",\"CRASH_DATE\"], axis=1, inplace=True)"
   ]
  },
  {
   "cell_type": "code",
   "execution_count": 65,
   "metadata": {
    "collapsed": true
   },
   "outputs": [
    {
     "name": "stdout",
     "output_type": "stream",
     "text": [
      "<class 'pandas.core.frame.DataFrame'>\n",
      "Index: 295047 entries, 0 to 3594374\n",
      "Data columns (total 32 columns):\n",
      " #   Column                   Non-Null Count   Dtype  \n",
      "---  ------                   --------------   -----  \n",
      " 0   POSTED_SPEED_LIMIT       295047 non-null  int64  \n",
      " 1   TRAFFIC_CONTROL_DEVICE   295047 non-null  object \n",
      " 2   DEVICE_CONDITION         295047 non-null  object \n",
      " 3   WEATHER_CONDITION        295047 non-null  object \n",
      " 4   LIGHTING_CONDITION       295047 non-null  object \n",
      " 5   FIRST_CRASH_TYPE         295047 non-null  object \n",
      " 6   TRAFFICWAY_TYPE          295047 non-null  object \n",
      " 7   ALIGNMENT                295047 non-null  object \n",
      " 8   ROADWAY_SURFACE_COND     295047 non-null  object \n",
      " 9   ROAD_DEFECT              295047 non-null  object \n",
      " 10  CRASH_TYPE               295047 non-null  object \n",
      " 11  DAMAGE                   295047 non-null  object \n",
      " 12  PRIM_CONTRIBUTORY_CAUSE  214640 non-null  object \n",
      " 13  NUM_UNITS                295047 non-null  int64  \n",
      " 14  INJURIES_TOTAL           295047 non-null  float64\n",
      " 15  CRASH_HOUR               295047 non-null  int64  \n",
      " 16  CRASH_DAY_OF_WEEK        295047 non-null  int64  \n",
      " 17  CRASH_MONTH              295047 non-null  int64  \n",
      " 18  VEHICLE_TYPE             295047 non-null  object \n",
      " 19  MANEUVER                 295047 non-null  object \n",
      " 20  FIRST_CONTACT_POINT      295047 non-null  object \n",
      " 21  PERSON_TYPE              295047 non-null  object \n",
      " 22  SEX                      287654 non-null  object \n",
      " 23  AGE                      251269 non-null  float64\n",
      " 24  SAFETY_EQUIPMENT         295047 non-null  object \n",
      " 25  AIRBAG_DEPLOYED          295047 non-null  object \n",
      " 26  DRIVER_ACTION            295047 non-null  object \n",
      " 27  DRIVER_VISION            295047 non-null  object \n",
      " 28  PHYSICAL_CONDITION       295047 non-null  object \n",
      " 29  BAC_RESULT               199998 non-null  object \n",
      " 30  YEAR                     295047 non-null  int32  \n",
      " 31  SEVERE_INJURY            295047 non-null  object \n",
      "dtypes: float64(2), int32(1), int64(5), object(24)\n",
      "memory usage: 73.2+ MB\n"
     ]
    }
   ],
   "source": [
    "master_df.info()"
   ]
  },
  {
   "cell_type": "code",
   "execution_count": 99,
   "metadata": {},
   "outputs": [],
   "source": [
    "master_df.dropna(subset=[\"PRIM_CONTRIBUTORY_CAUSE\"],inplace=True)\n",
    "master_df.dropna(subset=[\"SEX\"], inplace=True)"
   ]
  },
  {
   "cell_type": "code",
   "execution_count": 100,
   "metadata": {},
   "outputs": [],
   "source": [
    "#Set our target\n",
    "y = master_df[\"PRIM_CONTRIBUTORY_CAUSE\"]\n",
    "X = master_df.drop(\"PRIM_CONTRIBUTORY_CAUSE\", axis=1)"
   ]
  },
  {
   "cell_type": "code",
   "execution_count": 101,
   "metadata": {},
   "outputs": [],
   "source": [
    "#Perform train test split\n",
    "X_train, X_test, y_train, y_test = train_test_split(X, y, random_state=100)"
   ]
  },
  {
   "cell_type": "code",
   "execution_count": 102,
   "metadata": {},
   "outputs": [
    {
     "data": {
      "text/plain": [
       "POSTED_SPEED_LIMIT            0\n",
       "TRAFFIC_CONTROL_DEVICE        0\n",
       "DEVICE_CONDITION              0\n",
       "WEATHER_CONDITION             0\n",
       "LIGHTING_CONDITION            0\n",
       "FIRST_CRASH_TYPE              0\n",
       "TRAFFICWAY_TYPE               0\n",
       "ALIGNMENT                     0\n",
       "ROADWAY_SURFACE_COND          0\n",
       "ROAD_DEFECT                   0\n",
       "CRASH_TYPE                    0\n",
       "DAMAGE                        0\n",
       "NUM_UNITS                     0\n",
       "INJURIES_TOTAL                0\n",
       "CRASH_HOUR                    0\n",
       "CRASH_DAY_OF_WEEK             0\n",
       "CRASH_MONTH                   0\n",
       "VEHICLE_TYPE                  0\n",
       "MANEUVER                      0\n",
       "FIRST_CONTACT_POINT           0\n",
       "PERSON_TYPE                   0\n",
       "SEX                           0\n",
       "AGE                       19470\n",
       "SAFETY_EQUIPMENT              0\n",
       "AIRBAG_DEPLOYED               0\n",
       "DRIVER_ACTION                 0\n",
       "DRIVER_VISION                 0\n",
       "PHYSICAL_CONDITION            0\n",
       "BAC_RESULT                48482\n",
       "YEAR                          0\n",
       "SEVERE_INJURY                 0\n",
       "dtype: int64"
      ]
     },
     "execution_count": 102,
     "metadata": {},
     "output_type": "execute_result"
    }
   ],
   "source": [
    "#Check for any missing values left\n",
    "X_train.isna().sum()"
   ]
  },
  {
   "cell_type": "code",
   "execution_count": 69,
   "metadata": {},
   "outputs": [],
   "source": [
    "#SEX - drop missing values\n",
    "# X_train.dropna(subset=[\"SEX\"], inplace=True)"
   ]
  },
  {
   "cell_type": "code",
   "execution_count": 70,
   "metadata": {
    "scrolled": false
   },
   "outputs": [
    {
     "data": {
      "text/plain": [
       "POSTED_SPEED_LIMIT            0\n",
       "TRAFFIC_CONTROL_DEVICE        0\n",
       "DEVICE_CONDITION              0\n",
       "WEATHER_CONDITION             0\n",
       "LIGHTING_CONDITION            0\n",
       "FIRST_CRASH_TYPE              0\n",
       "TRAFFICWAY_TYPE               0\n",
       "ALIGNMENT                     0\n",
       "ROADWAY_SURFACE_COND          0\n",
       "ROAD_DEFECT                   0\n",
       "CRASH_TYPE                    0\n",
       "DAMAGE                        0\n",
       "NUM_UNITS                     0\n",
       "INJURIES_TOTAL                0\n",
       "CRASH_HOUR                    0\n",
       "CRASH_DAY_OF_WEEK             0\n",
       "CRASH_MONTH                   0\n",
       "VEHICLE_TYPE                  0\n",
       "MANEUVER                      0\n",
       "FIRST_CONTACT_POINT           0\n",
       "PERSON_TYPE                   0\n",
       "SEX                           0\n",
       "AGE                       28414\n",
       "SAFETY_EQUIPMENT              0\n",
       "AIRBAG_DEPLOYED               0\n",
       "DRIVER_ACTION                 0\n",
       "DRIVER_VISION                 0\n",
       "PHYSICAL_CONDITION            0\n",
       "BAC_RESULT                65719\n",
       "YEAR                          0\n",
       "SEVERE_INJURY                 0\n",
       "dtype: int64"
      ]
     },
     "execution_count": 70,
     "metadata": {},
     "output_type": "execute_result"
    }
   ],
   "source": [
    "X_train.isna().sum()"
   ]
  },
  {
   "cell_type": "code",
   "execution_count": 71,
   "metadata": {},
   "outputs": [
    {
     "data": {
      "text/plain": [
       "AGE\n",
       "25.0     5499\n",
       "23.0     5418\n",
       "27.0     5358\n",
       "24.0     5354\n",
       "28.0     5336\n",
       "         ... \n",
       "102.0       5\n",
       "100.0       4\n",
       "101.0       3\n",
       "110.0       2\n",
       "105.0       1\n",
       "Name: count, Length: 105, dtype: int64"
      ]
     },
     "execution_count": 71,
     "metadata": {},
     "output_type": "execute_result"
    }
   ],
   "source": [
    "#age \n",
    "X_train[\"AGE\"].value_counts()"
   ]
  },
  {
   "cell_type": "code",
   "execution_count": 72,
   "metadata": {
    "scrolled": true
   },
   "outputs": [
    {
     "data": {
      "text/plain": [
       "AGE\n",
       "35.598172     28414\n",
       "25.000000      5499\n",
       "23.000000      5418\n",
       "27.000000      5358\n",
       "24.000000      5354\n",
       "              ...  \n",
       "102.000000        5\n",
       "100.000000        4\n",
       "101.000000        3\n",
       "110.000000        2\n",
       "105.000000        1\n",
       "Name: count, Length: 106, dtype: int64"
      ]
     },
     "execution_count": 72,
     "metadata": {},
     "output_type": "execute_result"
    }
   ],
   "source": [
    "X_train[\"AGE\"]=X_train['AGE'].fillna(X_train['AGE'].mean())\n",
    "X_train['AGE'].value_counts()"
   ]
  },
  {
   "cell_type": "code",
   "execution_count": 73,
   "metadata": {},
   "outputs": [
    {
     "data": {
      "text/plain": [
       "BAC_RESULT\n",
       "TEST NOT OFFERED    212220\n",
       "TEST REFUSED          2032\n",
       "TEST PERFORMED        1491\n",
       "Name: count, dtype: int64"
      ]
     },
     "execution_count": 73,
     "metadata": {},
     "output_type": "execute_result"
    }
   ],
   "source": [
    "X_train['BAC_RESULT'].fillna(value=\"TEST NOT OFFERED\",axis=0, inplace=True)\n",
    "X_train['BAC_RESULT'].value_counts()"
   ]
  },
  {
   "cell_type": "code",
   "execution_count": 74,
   "metadata": {
    "collapsed": true
   },
   "outputs": [
    {
     "name": "stdout",
     "output_type": "stream",
     "text": [
      "<class 'pandas.core.frame.DataFrame'>\n",
      "Index: 215743 entries, 1316341 to 702273\n",
      "Data columns (total 31 columns):\n",
      " #   Column                  Non-Null Count   Dtype  \n",
      "---  ------                  --------------   -----  \n",
      " 0   POSTED_SPEED_LIMIT      215743 non-null  int64  \n",
      " 1   TRAFFIC_CONTROL_DEVICE  215743 non-null  object \n",
      " 2   DEVICE_CONDITION        215743 non-null  object \n",
      " 3   WEATHER_CONDITION       215743 non-null  object \n",
      " 4   LIGHTING_CONDITION      215743 non-null  object \n",
      " 5   FIRST_CRASH_TYPE        215743 non-null  object \n",
      " 6   TRAFFICWAY_TYPE         215743 non-null  object \n",
      " 7   ALIGNMENT               215743 non-null  object \n",
      " 8   ROADWAY_SURFACE_COND    215743 non-null  object \n",
      " 9   ROAD_DEFECT             215743 non-null  object \n",
      " 10  CRASH_TYPE              215743 non-null  object \n",
      " 11  DAMAGE                  215743 non-null  object \n",
      " 12  NUM_UNITS               215743 non-null  int64  \n",
      " 13  INJURIES_TOTAL          215743 non-null  float64\n",
      " 14  CRASH_HOUR              215743 non-null  int64  \n",
      " 15  CRASH_DAY_OF_WEEK       215743 non-null  int64  \n",
      " 16  CRASH_MONTH             215743 non-null  int64  \n",
      " 17  VEHICLE_TYPE            215743 non-null  object \n",
      " 18  MANEUVER                215743 non-null  object \n",
      " 19  FIRST_CONTACT_POINT     215743 non-null  object \n",
      " 20  PERSON_TYPE             215743 non-null  object \n",
      " 21  SEX                     215743 non-null  object \n",
      " 22  AGE                     215743 non-null  float64\n",
      " 23  SAFETY_EQUIPMENT        215743 non-null  object \n",
      " 24  AIRBAG_DEPLOYED         215743 non-null  object \n",
      " 25  DRIVER_ACTION           215743 non-null  object \n",
      " 26  DRIVER_VISION           215743 non-null  object \n",
      " 27  PHYSICAL_CONDITION      215743 non-null  object \n",
      " 28  BAC_RESULT              215743 non-null  object \n",
      " 29  YEAR                    215743 non-null  int32  \n",
      " 30  SEVERE_INJURY           215743 non-null  object \n",
      "dtypes: float64(2), int32(1), int64(5), object(23)\n",
      "memory usage: 51.8+ MB\n"
     ]
    },
    {
     "data": {
      "text/plain": [
       "POSTED_SPEED_LIMIT        0\n",
       "TRAFFIC_CONTROL_DEVICE    0\n",
       "DEVICE_CONDITION          0\n",
       "WEATHER_CONDITION         0\n",
       "LIGHTING_CONDITION        0\n",
       "FIRST_CRASH_TYPE          0\n",
       "TRAFFICWAY_TYPE           0\n",
       "ALIGNMENT                 0\n",
       "ROADWAY_SURFACE_COND      0\n",
       "ROAD_DEFECT               0\n",
       "CRASH_TYPE                0\n",
       "DAMAGE                    0\n",
       "NUM_UNITS                 0\n",
       "INJURIES_TOTAL            0\n",
       "CRASH_HOUR                0\n",
       "CRASH_DAY_OF_WEEK         0\n",
       "CRASH_MONTH               0\n",
       "VEHICLE_TYPE              0\n",
       "MANEUVER                  0\n",
       "FIRST_CONTACT_POINT       0\n",
       "PERSON_TYPE               0\n",
       "SEX                       0\n",
       "AGE                       0\n",
       "SAFETY_EQUIPMENT          0\n",
       "AIRBAG_DEPLOYED           0\n",
       "DRIVER_ACTION             0\n",
       "DRIVER_VISION             0\n",
       "PHYSICAL_CONDITION        0\n",
       "BAC_RESULT                0\n",
       "YEAR                      0\n",
       "SEVERE_INJURY             0\n",
       "dtype: int64"
      ]
     },
     "execution_count": 74,
     "metadata": {},
     "output_type": "execute_result"
    }
   ],
   "source": [
    "X_train.info()\n",
    "X_train.isna().sum()"
   ]
  },
  {
   "cell_type": "code",
   "execution_count": 75,
   "metadata": {},
   "outputs": [],
   "source": [
    "##list of columns to be encoded:\n",
    "category_list = ['TRAFFIC_CONTROL_DEVICE','DEVICE_CONDITION',\"WEATHER_CONDITION\",\"LIGHTING_CONDITION\",\"FIRST_CRASH_TYPE\",\"TRAFFICWAY_TYPE\",\n",
    "                 \"ALIGNMENT\",\"ROADWAY_SURFACE_COND\",\"ROAD_DEFECT\",\"CRASH_TYPE\",\"DAMAGE\",\"VEHICLE_TYPE\",\"MANEUVER\",\"FIRST_CONTACT_POINT\",\"PERSON_TYPE\",\"SEX\",\n",
    "                \"SAFETY_EQUIPMENT\",\"AIRBAG_DEPLOYED\",\"DRIVER_ACTION\",\"DRIVER_VISION\",\"PHYSICAL_CONDITION\",\"BAC_RESULT\",\"SEVERE_INJURY\"]"
   ]
  },
  {
   "cell_type": "code",
   "execution_count": 77,
   "metadata": {},
   "outputs": [
    {
     "data": {
      "text/html": [
       "<div>\n",
       "<style scoped>\n",
       "    .dataframe tbody tr th:only-of-type {\n",
       "        vertical-align: middle;\n",
       "    }\n",
       "\n",
       "    .dataframe tbody tr th {\n",
       "        vertical-align: top;\n",
       "    }\n",
       "\n",
       "    .dataframe thead th {\n",
       "        text-align: right;\n",
       "    }\n",
       "</style>\n",
       "<table border=\"1\" class=\"dataframe\">\n",
       "  <thead>\n",
       "    <tr style=\"text-align: right;\">\n",
       "      <th></th>\n",
       "      <th>TRAFFIC_CONTROL_DEVICE_NO CONTROLS</th>\n",
       "      <th>TRAFFIC_CONTROL_DEVICE_OTHER</th>\n",
       "      <th>TRAFFIC_CONTROL_DEVICE_SIGN</th>\n",
       "      <th>TRAFFIC_CONTROL_DEVICE_SIGNAL</th>\n",
       "      <th>DEVICE_CONDITION_FUNCTIONING IMPROPERLY/ MISSING</th>\n",
       "      <th>DEVICE_CONDITION_FUNCTIONING PROPERLY</th>\n",
       "      <th>DEVICE_CONDITION_NO CONTROLS</th>\n",
       "      <th>WEATHER_CONDITION_CLEAR</th>\n",
       "      <th>WEATHER_CONDITION_INCLEMENT</th>\n",
       "      <th>LIGHTING_CONDITION_DIMINISHED VISIBILITY</th>\n",
       "      <th>...</th>\n",
       "      <th>DRIVER_VISION_UNKNOWN</th>\n",
       "      <th>PHYSICAL_CONDITION_NORMAL</th>\n",
       "      <th>PHYSICAL_CONDITION_NOT NORMAL</th>\n",
       "      <th>PHYSICAL_CONDITION_UNKNOWN</th>\n",
       "      <th>BAC_RESULT_TEST NOT OFFERED</th>\n",
       "      <th>BAC_RESULT_TEST PERFORMED</th>\n",
       "      <th>BAC_RESULT_TEST REFUSED</th>\n",
       "      <th>SEVERE_INJURY_FATAL</th>\n",
       "      <th>SEVERE_INJURY_MAJOR INJURIES</th>\n",
       "      <th>SEVERE_INJURY_MINOR INJURIES</th>\n",
       "    </tr>\n",
       "  </thead>\n",
       "  <tbody>\n",
       "    <tr>\n",
       "      <th>1316341</th>\n",
       "      <td>0.0</td>\n",
       "      <td>0.0</td>\n",
       "      <td>0.0</td>\n",
       "      <td>1.0</td>\n",
       "      <td>0.0</td>\n",
       "      <td>1.0</td>\n",
       "      <td>0.0</td>\n",
       "      <td>1.0</td>\n",
       "      <td>0.0</td>\n",
       "      <td>0.0</td>\n",
       "      <td>...</td>\n",
       "      <td>1.0</td>\n",
       "      <td>0.0</td>\n",
       "      <td>0.0</td>\n",
       "      <td>1.0</td>\n",
       "      <td>1.0</td>\n",
       "      <td>0.0</td>\n",
       "      <td>0.0</td>\n",
       "      <td>0.0</td>\n",
       "      <td>1.0</td>\n",
       "      <td>0.0</td>\n",
       "    </tr>\n",
       "    <tr>\n",
       "      <th>1292667</th>\n",
       "      <td>1.0</td>\n",
       "      <td>0.0</td>\n",
       "      <td>0.0</td>\n",
       "      <td>0.0</td>\n",
       "      <td>0.0</td>\n",
       "      <td>0.0</td>\n",
       "      <td>1.0</td>\n",
       "      <td>1.0</td>\n",
       "      <td>0.0</td>\n",
       "      <td>0.0</td>\n",
       "      <td>...</td>\n",
       "      <td>0.0</td>\n",
       "      <td>1.0</td>\n",
       "      <td>0.0</td>\n",
       "      <td>0.0</td>\n",
       "      <td>1.0</td>\n",
       "      <td>0.0</td>\n",
       "      <td>0.0</td>\n",
       "      <td>0.0</td>\n",
       "      <td>1.0</td>\n",
       "      <td>0.0</td>\n",
       "    </tr>\n",
       "    <tr>\n",
       "      <th>2171485</th>\n",
       "      <td>1.0</td>\n",
       "      <td>0.0</td>\n",
       "      <td>0.0</td>\n",
       "      <td>0.0</td>\n",
       "      <td>0.0</td>\n",
       "      <td>1.0</td>\n",
       "      <td>0.0</td>\n",
       "      <td>0.0</td>\n",
       "      <td>1.0</td>\n",
       "      <td>0.0</td>\n",
       "      <td>...</td>\n",
       "      <td>1.0</td>\n",
       "      <td>0.0</td>\n",
       "      <td>0.0</td>\n",
       "      <td>1.0</td>\n",
       "      <td>1.0</td>\n",
       "      <td>0.0</td>\n",
       "      <td>0.0</td>\n",
       "      <td>0.0</td>\n",
       "      <td>0.0</td>\n",
       "      <td>1.0</td>\n",
       "    </tr>\n",
       "    <tr>\n",
       "      <th>3402319</th>\n",
       "      <td>0.0</td>\n",
       "      <td>0.0</td>\n",
       "      <td>0.0</td>\n",
       "      <td>1.0</td>\n",
       "      <td>0.0</td>\n",
       "      <td>1.0</td>\n",
       "      <td>0.0</td>\n",
       "      <td>1.0</td>\n",
       "      <td>0.0</td>\n",
       "      <td>0.0</td>\n",
       "      <td>...</td>\n",
       "      <td>1.0</td>\n",
       "      <td>0.0</td>\n",
       "      <td>0.0</td>\n",
       "      <td>1.0</td>\n",
       "      <td>1.0</td>\n",
       "      <td>0.0</td>\n",
       "      <td>0.0</td>\n",
       "      <td>0.0</td>\n",
       "      <td>0.0</td>\n",
       "      <td>1.0</td>\n",
       "    </tr>\n",
       "    <tr>\n",
       "      <th>3187369</th>\n",
       "      <td>1.0</td>\n",
       "      <td>0.0</td>\n",
       "      <td>0.0</td>\n",
       "      <td>0.0</td>\n",
       "      <td>0.0</td>\n",
       "      <td>0.0</td>\n",
       "      <td>1.0</td>\n",
       "      <td>0.0</td>\n",
       "      <td>1.0</td>\n",
       "      <td>0.0</td>\n",
       "      <td>...</td>\n",
       "      <td>1.0</td>\n",
       "      <td>0.0</td>\n",
       "      <td>0.0</td>\n",
       "      <td>1.0</td>\n",
       "      <td>1.0</td>\n",
       "      <td>0.0</td>\n",
       "      <td>0.0</td>\n",
       "      <td>0.0</td>\n",
       "      <td>1.0</td>\n",
       "      <td>0.0</td>\n",
       "    </tr>\n",
       "    <tr>\n",
       "      <th>...</th>\n",
       "      <td>...</td>\n",
       "      <td>...</td>\n",
       "      <td>...</td>\n",
       "      <td>...</td>\n",
       "      <td>...</td>\n",
       "      <td>...</td>\n",
       "      <td>...</td>\n",
       "      <td>...</td>\n",
       "      <td>...</td>\n",
       "      <td>...</td>\n",
       "      <td>...</td>\n",
       "      <td>...</td>\n",
       "      <td>...</td>\n",
       "      <td>...</td>\n",
       "      <td>...</td>\n",
       "      <td>...</td>\n",
       "      <td>...</td>\n",
       "      <td>...</td>\n",
       "      <td>...</td>\n",
       "      <td>...</td>\n",
       "      <td>...</td>\n",
       "    </tr>\n",
       "    <tr>\n",
       "      <th>2642959</th>\n",
       "      <td>0.0</td>\n",
       "      <td>0.0</td>\n",
       "      <td>0.0</td>\n",
       "      <td>1.0</td>\n",
       "      <td>0.0</td>\n",
       "      <td>1.0</td>\n",
       "      <td>0.0</td>\n",
       "      <td>0.0</td>\n",
       "      <td>1.0</td>\n",
       "      <td>1.0</td>\n",
       "      <td>...</td>\n",
       "      <td>1.0</td>\n",
       "      <td>0.0</td>\n",
       "      <td>0.0</td>\n",
       "      <td>1.0</td>\n",
       "      <td>1.0</td>\n",
       "      <td>0.0</td>\n",
       "      <td>0.0</td>\n",
       "      <td>0.0</td>\n",
       "      <td>0.0</td>\n",
       "      <td>1.0</td>\n",
       "    </tr>\n",
       "    <tr>\n",
       "      <th>821396</th>\n",
       "      <td>1.0</td>\n",
       "      <td>0.0</td>\n",
       "      <td>0.0</td>\n",
       "      <td>0.0</td>\n",
       "      <td>0.0</td>\n",
       "      <td>0.0</td>\n",
       "      <td>1.0</td>\n",
       "      <td>1.0</td>\n",
       "      <td>0.0</td>\n",
       "      <td>1.0</td>\n",
       "      <td>...</td>\n",
       "      <td>1.0</td>\n",
       "      <td>0.0</td>\n",
       "      <td>0.0</td>\n",
       "      <td>1.0</td>\n",
       "      <td>1.0</td>\n",
       "      <td>0.0</td>\n",
       "      <td>0.0</td>\n",
       "      <td>0.0</td>\n",
       "      <td>0.0</td>\n",
       "      <td>1.0</td>\n",
       "    </tr>\n",
       "    <tr>\n",
       "      <th>3151933</th>\n",
       "      <td>0.0</td>\n",
       "      <td>0.0</td>\n",
       "      <td>1.0</td>\n",
       "      <td>0.0</td>\n",
       "      <td>0.0</td>\n",
       "      <td>1.0</td>\n",
       "      <td>0.0</td>\n",
       "      <td>1.0</td>\n",
       "      <td>0.0</td>\n",
       "      <td>1.0</td>\n",
       "      <td>...</td>\n",
       "      <td>0.0</td>\n",
       "      <td>1.0</td>\n",
       "      <td>0.0</td>\n",
       "      <td>0.0</td>\n",
       "      <td>1.0</td>\n",
       "      <td>0.0</td>\n",
       "      <td>0.0</td>\n",
       "      <td>0.0</td>\n",
       "      <td>1.0</td>\n",
       "      <td>0.0</td>\n",
       "    </tr>\n",
       "    <tr>\n",
       "      <th>2618407</th>\n",
       "      <td>0.0</td>\n",
       "      <td>0.0</td>\n",
       "      <td>1.0</td>\n",
       "      <td>0.0</td>\n",
       "      <td>0.0</td>\n",
       "      <td>1.0</td>\n",
       "      <td>0.0</td>\n",
       "      <td>1.0</td>\n",
       "      <td>0.0</td>\n",
       "      <td>0.0</td>\n",
       "      <td>...</td>\n",
       "      <td>0.0</td>\n",
       "      <td>1.0</td>\n",
       "      <td>0.0</td>\n",
       "      <td>0.0</td>\n",
       "      <td>1.0</td>\n",
       "      <td>0.0</td>\n",
       "      <td>0.0</td>\n",
       "      <td>0.0</td>\n",
       "      <td>0.0</td>\n",
       "      <td>1.0</td>\n",
       "    </tr>\n",
       "    <tr>\n",
       "      <th>702273</th>\n",
       "      <td>0.0</td>\n",
       "      <td>0.0</td>\n",
       "      <td>0.0</td>\n",
       "      <td>1.0</td>\n",
       "      <td>0.0</td>\n",
       "      <td>1.0</td>\n",
       "      <td>0.0</td>\n",
       "      <td>1.0</td>\n",
       "      <td>0.0</td>\n",
       "      <td>0.0</td>\n",
       "      <td>...</td>\n",
       "      <td>0.0</td>\n",
       "      <td>1.0</td>\n",
       "      <td>0.0</td>\n",
       "      <td>0.0</td>\n",
       "      <td>1.0</td>\n",
       "      <td>0.0</td>\n",
       "      <td>0.0</td>\n",
       "      <td>0.0</td>\n",
       "      <td>0.0</td>\n",
       "      <td>1.0</td>\n",
       "    </tr>\n",
       "  </tbody>\n",
       "</table>\n",
       "<p>215743 rows × 70 columns</p>\n",
       "</div>"
      ],
      "text/plain": [
       "         TRAFFIC_CONTROL_DEVICE_NO CONTROLS  TRAFFIC_CONTROL_DEVICE_OTHER  \\\n",
       "1316341                                 0.0                           0.0   \n",
       "1292667                                 1.0                           0.0   \n",
       "2171485                                 1.0                           0.0   \n",
       "3402319                                 0.0                           0.0   \n",
       "3187369                                 1.0                           0.0   \n",
       "...                                     ...                           ...   \n",
       "2642959                                 0.0                           0.0   \n",
       "821396                                  1.0                           0.0   \n",
       "3151933                                 0.0                           0.0   \n",
       "2618407                                 0.0                           0.0   \n",
       "702273                                  0.0                           0.0   \n",
       "\n",
       "         TRAFFIC_CONTROL_DEVICE_SIGN  TRAFFIC_CONTROL_DEVICE_SIGNAL  \\\n",
       "1316341                          0.0                            1.0   \n",
       "1292667                          0.0                            0.0   \n",
       "2171485                          0.0                            0.0   \n",
       "3402319                          0.0                            1.0   \n",
       "3187369                          0.0                            0.0   \n",
       "...                              ...                            ...   \n",
       "2642959                          0.0                            1.0   \n",
       "821396                           0.0                            0.0   \n",
       "3151933                          1.0                            0.0   \n",
       "2618407                          1.0                            0.0   \n",
       "702273                           0.0                            1.0   \n",
       "\n",
       "         DEVICE_CONDITION_FUNCTIONING IMPROPERLY/ MISSING  \\\n",
       "1316341                                               0.0   \n",
       "1292667                                               0.0   \n",
       "2171485                                               0.0   \n",
       "3402319                                               0.0   \n",
       "3187369                                               0.0   \n",
       "...                                                   ...   \n",
       "2642959                                               0.0   \n",
       "821396                                                0.0   \n",
       "3151933                                               0.0   \n",
       "2618407                                               0.0   \n",
       "702273                                                0.0   \n",
       "\n",
       "         DEVICE_CONDITION_FUNCTIONING PROPERLY  DEVICE_CONDITION_NO CONTROLS  \\\n",
       "1316341                                    1.0                           0.0   \n",
       "1292667                                    0.0                           1.0   \n",
       "2171485                                    1.0                           0.0   \n",
       "3402319                                    1.0                           0.0   \n",
       "3187369                                    0.0                           1.0   \n",
       "...                                        ...                           ...   \n",
       "2642959                                    1.0                           0.0   \n",
       "821396                                     0.0                           1.0   \n",
       "3151933                                    1.0                           0.0   \n",
       "2618407                                    1.0                           0.0   \n",
       "702273                                     1.0                           0.0   \n",
       "\n",
       "         WEATHER_CONDITION_CLEAR  WEATHER_CONDITION_INCLEMENT  \\\n",
       "1316341                      1.0                          0.0   \n",
       "1292667                      1.0                          0.0   \n",
       "2171485                      0.0                          1.0   \n",
       "3402319                      1.0                          0.0   \n",
       "3187369                      0.0                          1.0   \n",
       "...                          ...                          ...   \n",
       "2642959                      0.0                          1.0   \n",
       "821396                       1.0                          0.0   \n",
       "3151933                      1.0                          0.0   \n",
       "2618407                      1.0                          0.0   \n",
       "702273                       1.0                          0.0   \n",
       "\n",
       "         LIGHTING_CONDITION_DIMINISHED VISIBILITY  ...  DRIVER_VISION_UNKNOWN  \\\n",
       "1316341                                       0.0  ...                    1.0   \n",
       "1292667                                       0.0  ...                    0.0   \n",
       "2171485                                       0.0  ...                    1.0   \n",
       "3402319                                       0.0  ...                    1.0   \n",
       "3187369                                       0.0  ...                    1.0   \n",
       "...                                           ...  ...                    ...   \n",
       "2642959                                       1.0  ...                    1.0   \n",
       "821396                                        1.0  ...                    1.0   \n",
       "3151933                                       1.0  ...                    0.0   \n",
       "2618407                                       0.0  ...                    0.0   \n",
       "702273                                        0.0  ...                    0.0   \n",
       "\n",
       "         PHYSICAL_CONDITION_NORMAL  PHYSICAL_CONDITION_NOT NORMAL  \\\n",
       "1316341                        0.0                            0.0   \n",
       "1292667                        1.0                            0.0   \n",
       "2171485                        0.0                            0.0   \n",
       "3402319                        0.0                            0.0   \n",
       "3187369                        0.0                            0.0   \n",
       "...                            ...                            ...   \n",
       "2642959                        0.0                            0.0   \n",
       "821396                         0.0                            0.0   \n",
       "3151933                        1.0                            0.0   \n",
       "2618407                        1.0                            0.0   \n",
       "702273                         1.0                            0.0   \n",
       "\n",
       "         PHYSICAL_CONDITION_UNKNOWN  BAC_RESULT_TEST NOT OFFERED  \\\n",
       "1316341                         1.0                          1.0   \n",
       "1292667                         0.0                          1.0   \n",
       "2171485                         1.0                          1.0   \n",
       "3402319                         1.0                          1.0   \n",
       "3187369                         1.0                          1.0   \n",
       "...                             ...                          ...   \n",
       "2642959                         1.0                          1.0   \n",
       "821396                          1.0                          1.0   \n",
       "3151933                         0.0                          1.0   \n",
       "2618407                         0.0                          1.0   \n",
       "702273                          0.0                          1.0   \n",
       "\n",
       "         BAC_RESULT_TEST PERFORMED  BAC_RESULT_TEST REFUSED  \\\n",
       "1316341                        0.0                      0.0   \n",
       "1292667                        0.0                      0.0   \n",
       "2171485                        0.0                      0.0   \n",
       "3402319                        0.0                      0.0   \n",
       "3187369                        0.0                      0.0   \n",
       "...                            ...                      ...   \n",
       "2642959                        0.0                      0.0   \n",
       "821396                         0.0                      0.0   \n",
       "3151933                        0.0                      0.0   \n",
       "2618407                        0.0                      0.0   \n",
       "702273                         0.0                      0.0   \n",
       "\n",
       "         SEVERE_INJURY_FATAL  SEVERE_INJURY_MAJOR INJURIES  \\\n",
       "1316341                  0.0                           1.0   \n",
       "1292667                  0.0                           1.0   \n",
       "2171485                  0.0                           0.0   \n",
       "3402319                  0.0                           0.0   \n",
       "3187369                  0.0                           1.0   \n",
       "...                      ...                           ...   \n",
       "2642959                  0.0                           0.0   \n",
       "821396                   0.0                           0.0   \n",
       "3151933                  0.0                           1.0   \n",
       "2618407                  0.0                           0.0   \n",
       "702273                   0.0                           0.0   \n",
       "\n",
       "         SEVERE_INJURY_MINOR INJURIES  \n",
       "1316341                           0.0  \n",
       "1292667                           0.0  \n",
       "2171485                           1.0  \n",
       "3402319                           1.0  \n",
       "3187369                           0.0  \n",
       "...                               ...  \n",
       "2642959                           1.0  \n",
       "821396                            1.0  \n",
       "3151933                           0.0  \n",
       "2618407                           1.0  \n",
       "702273                            1.0  \n",
       "\n",
       "[215743 rows x 70 columns]"
      ]
     },
     "execution_count": 77,
     "metadata": {},
     "output_type": "execute_result"
    }
   ],
   "source": [
    "#We will One-hot encode all of our columns\n",
    "from sklearn.preprocessing import OneHotEncoder\n",
    "\n",
    "ohe = OneHotEncoder(categories='auto')\n",
    "\n",
    "encoded_train_arr = ohe.fit_transform(X_train[category_list]).toarray()\n",
    "encoded_train_labels = ohe.get_feature_names_out()\n",
    "encoded_train_labels\n",
    "encoded_train_labels = np.array(encoded_train_labels).ravel()\n",
    "encoded_train_arr = pd.DataFrame(encoded_train_arr, columns = encoded_train_labels, index=X_train.index)\n",
    "encoded_train_arr"
   ]
  },
  {
   "cell_type": "code",
   "execution_count": 78,
   "metadata": {},
   "outputs": [],
   "source": [
    "#Drop the original columns and append our encoded array\n",
    "X_train.drop(category_list, axis=1, inplace=True)\n",
    "X_train = pd.concat([X_train, encoded_train_arr], axis=1)"
   ]
  },
  {
   "cell_type": "code",
   "execution_count": 79,
   "metadata": {
    "collapsed": true
   },
   "outputs": [
    {
     "name": "stdout",
     "output_type": "stream",
     "text": [
      "<class 'pandas.core.frame.DataFrame'>\n",
      "Index: 215743 entries, 1316341 to 702273\n",
      "Data columns (total 78 columns):\n",
      " #   Column                                            Non-Null Count   Dtype  \n",
      "---  ------                                            --------------   -----  \n",
      " 0   POSTED_SPEED_LIMIT                                215743 non-null  int64  \n",
      " 1   NUM_UNITS                                         215743 non-null  int64  \n",
      " 2   INJURIES_TOTAL                                    215743 non-null  float64\n",
      " 3   CRASH_HOUR                                        215743 non-null  int64  \n",
      " 4   CRASH_DAY_OF_WEEK                                 215743 non-null  int64  \n",
      " 5   CRASH_MONTH                                       215743 non-null  int64  \n",
      " 6   AGE                                               215743 non-null  float64\n",
      " 7   YEAR                                              215743 non-null  int32  \n",
      " 8   TRAFFIC_CONTROL_DEVICE_NO CONTROLS                215743 non-null  float64\n",
      " 9   TRAFFIC_CONTROL_DEVICE_OTHER                      215743 non-null  float64\n",
      " 10  TRAFFIC_CONTROL_DEVICE_SIGN                       215743 non-null  float64\n",
      " 11  TRAFFIC_CONTROL_DEVICE_SIGNAL                     215743 non-null  float64\n",
      " 12  DEVICE_CONDITION_FUNCTIONING IMPROPERLY/ MISSING  215743 non-null  float64\n",
      " 13  DEVICE_CONDITION_FUNCTIONING PROPERLY             215743 non-null  float64\n",
      " 14  DEVICE_CONDITION_NO CONTROLS                      215743 non-null  float64\n",
      " 15  WEATHER_CONDITION_CLEAR                           215743 non-null  float64\n",
      " 16  WEATHER_CONDITION_INCLEMENT                       215743 non-null  float64\n",
      " 17  LIGHTING_CONDITION_DIMINISHED VISIBILITY          215743 non-null  float64\n",
      " 18  LIGHTING_CONDITION_VISIBLE                        215743 non-null  float64\n",
      " 19  FIRST_CRASH_TYPE_ANGLE                            215743 non-null  float64\n",
      " 20  FIRST_CRASH_TYPE_OBJECT                           215743 non-null  float64\n",
      " 21  FIRST_CRASH_TYPE_OTHER                            215743 non-null  float64\n",
      " 22  FIRST_CRASH_TYPE_PERSON OR ANIMAL                 215743 non-null  float64\n",
      " 23  FIRST_CRASH_TYPE_REAR END                         215743 non-null  float64\n",
      " 24  FIRST_CRASH_TYPE_SIDE SWIPE                       215743 non-null  float64\n",
      " 25  FIRST_CRASH_TYPE_TURNING                          215743 non-null  float64\n",
      " 26  TRAFFICWAY_TYPE_DIVIDED                           215743 non-null  float64\n",
      " 27  TRAFFICWAY_TYPE_INTERSECTION                      215743 non-null  float64\n",
      " 28  TRAFFICWAY_TYPE_NOT DIVIDED                       215743 non-null  float64\n",
      " 29  TRAFFICWAY_TYPE_OTHER                             215743 non-null  float64\n",
      " 30  ALIGNMENT_NOT STRAIGHT                            215743 non-null  float64\n",
      " 31  ALIGNMENT_STRAIGHT                                215743 non-null  float64\n",
      " 32  ROADWAY_SURFACE_COND_DRY                          215743 non-null  float64\n",
      " 33  ROADWAY_SURFACE_COND_NOT DRY                      215743 non-null  float64\n",
      " 34  ROADWAY_SURFACE_COND_OTHER                        215743 non-null  float64\n",
      " 35  ROAD_DEFECT_DEFECTS                               215743 non-null  float64\n",
      " 36  ROAD_DEFECT_NO DEFECTS                            215743 non-null  float64\n",
      " 37  CRASH_TYPE_INJURY AND / OR TOW DUE TO CRASH       215743 non-null  float64\n",
      " 38  CRASH_TYPE_NO INJURY / DRIVE AWAY                 215743 non-null  float64\n",
      " 39  DAMAGE_OVER $1500                                 215743 non-null  float64\n",
      " 40  DAMAGE_UNDER $1500                                215743 non-null  float64\n",
      " 41  VEHICLE_TYPE_PASSENGER                            215743 non-null  float64\n",
      " 42  VEHICLE_TYPE_SPORT UTILITY VEHICLE (SUV)          215743 non-null  float64\n",
      " 43  VEHICLE_TYPE_VAN/MINI-VAN                         215743 non-null  float64\n",
      " 44  MANEUVER_OTHER                                    215743 non-null  float64\n",
      " 45  MANEUVER_STRAIGHT                                 215743 non-null  float64\n",
      " 46  FIRST_CONTACT_POINT_FRONT                         215743 non-null  float64\n",
      " 47  FIRST_CONTACT_POINT_NONE                          215743 non-null  float64\n",
      " 48  FIRST_CONTACT_POINT_OTHER                         215743 non-null  float64\n",
      " 49  FIRST_CONTACT_POINT_REAR                          215743 non-null  float64\n",
      " 50  FIRST_CONTACT_POINT_SIDES                         215743 non-null  float64\n",
      " 51  PERSON_TYPE_DRIVER                                215743 non-null  float64\n",
      " 52  PERSON_TYPE_OTHER                                 215743 non-null  float64\n",
      " 53  PERSON_TYPE_PASSENGER                             215743 non-null  float64\n",
      " 54  SEX_F                                             215743 non-null  float64\n",
      " 55  SEX_M                                             215743 non-null  float64\n",
      " 56  SAFETY_EQUIPMENT_NONE                             215743 non-null  float64\n",
      " 57  SAFETY_EQUIPMENT_NOT USED                         215743 non-null  float64\n",
      " 58  SAFETY_EQUIPMENT_UNKNOWN                          215743 non-null  float64\n",
      " 59  SAFETY_EQUIPMENT_USED                             215743 non-null  float64\n",
      " 60  AIRBAG_DEPLOYED_DEPLOYED                          215743 non-null  float64\n",
      " 61  AIRBAG_DEPLOYED_DID NOT DEPLOY                    215743 non-null  float64\n",
      " 62  AIRBAG_DEPLOYED_NOT APPLICABLE                    215743 non-null  float64\n",
      " 63  AIRBAG_DEPLOYED_UNKNOWN                           215743 non-null  float64\n",
      " 64  DRIVER_ACTION_ACTIONS TAKEN                       215743 non-null  float64\n",
      " 65  DRIVER_ACTION_NO ACTION TAKEN                     215743 non-null  float64\n",
      " 66  DRIVER_VISION_NOT OBSCURED                        215743 non-null  float64\n",
      " 67  DRIVER_VISION_OBSCURED                            215743 non-null  float64\n",
      " 68  DRIVER_VISION_UNKNOWN                             215743 non-null  float64\n",
      " 69  PHYSICAL_CONDITION_NORMAL                         215743 non-null  float64\n",
      " 70  PHYSICAL_CONDITION_NOT NORMAL                     215743 non-null  float64\n",
      " 71  PHYSICAL_CONDITION_UNKNOWN                        215743 non-null  float64\n",
      " 72  BAC_RESULT_TEST NOT OFFERED                       215743 non-null  float64\n",
      " 73  BAC_RESULT_TEST PERFORMED                         215743 non-null  float64\n",
      " 74  BAC_RESULT_TEST REFUSED                           215743 non-null  float64\n",
      " 75  SEVERE_INJURY_FATAL                               215743 non-null  float64\n",
      " 76  SEVERE_INJURY_MAJOR INJURIES                      215743 non-null  float64\n",
      " 77  SEVERE_INJURY_MINOR INJURIES                      215743 non-null  float64\n",
      "dtypes: float64(72), int32(1), int64(5)\n",
      "memory usage: 129.2 MB\n"
     ]
    }
   ],
   "source": [
    "# Visually inspect X_train\n",
    "X_train.info()"
   ]
  },
  {
   "cell_type": "markdown",
   "metadata": {},
   "source": [
    "## Modeling: "
   ]
  },
  {
   "cell_type": "code",
   "execution_count": null,
   "metadata": {},
   "outputs": [],
   "source": []
  },
  {
   "cell_type": "code",
   "execution_count": null,
   "metadata": {},
   "outputs": [],
   "source": []
  },
  {
   "cell_type": "markdown",
   "metadata": {},
   "source": [
    "## **Testing:**"
   ]
  },
  {
   "cell_type": "code",
   "execution_count": 80,
   "metadata": {},
   "outputs": [
    {
     "name": "stdout",
     "output_type": "stream",
     "text": [
      "<class 'pandas.core.frame.DataFrame'>\n",
      "Index: 73762 entries, 923368 to 1737261\n",
      "Data columns (total 31 columns):\n",
      " #   Column                  Non-Null Count  Dtype  \n",
      "---  ------                  --------------  -----  \n",
      " 0   POSTED_SPEED_LIMIT      73762 non-null  int64  \n",
      " 1   TRAFFIC_CONTROL_DEVICE  73762 non-null  object \n",
      " 2   DEVICE_CONDITION        73762 non-null  object \n",
      " 3   WEATHER_CONDITION       73762 non-null  object \n",
      " 4   LIGHTING_CONDITION      73762 non-null  object \n",
      " 5   FIRST_CRASH_TYPE        73762 non-null  object \n",
      " 6   TRAFFICWAY_TYPE         73762 non-null  object \n",
      " 7   ALIGNMENT               73762 non-null  object \n",
      " 8   ROADWAY_SURFACE_COND    73762 non-null  object \n",
      " 9   ROAD_DEFECT             73762 non-null  object \n",
      " 10  CRASH_TYPE              73762 non-null  object \n",
      " 11  DAMAGE                  73762 non-null  object \n",
      " 12  NUM_UNITS               73762 non-null  int64  \n",
      " 13  INJURIES_TOTAL          73762 non-null  float64\n",
      " 14  CRASH_HOUR              73762 non-null  int64  \n",
      " 15  CRASH_DAY_OF_WEEK       73762 non-null  int64  \n",
      " 16  CRASH_MONTH             73762 non-null  int64  \n",
      " 17  VEHICLE_TYPE            73762 non-null  object \n",
      " 18  MANEUVER                73762 non-null  object \n",
      " 19  FIRST_CONTACT_POINT     73762 non-null  object \n",
      " 20  PERSON_TYPE             73762 non-null  object \n",
      " 21  SEX                     71911 non-null  object \n",
      " 22  AGE                     62846 non-null  float64\n",
      " 23  SAFETY_EQUIPMENT        73762 non-null  object \n",
      " 24  AIRBAG_DEPLOYED         73762 non-null  object \n",
      " 25  DRIVER_ACTION           73762 non-null  object \n",
      " 26  DRIVER_VISION           73762 non-null  object \n",
      " 27  PHYSICAL_CONDITION      73762 non-null  object \n",
      " 28  BAC_RESULT              49887 non-null  object \n",
      " 29  YEAR                    73762 non-null  int32  \n",
      " 30  SEVERE_INJURY           73762 non-null  object \n",
      "dtypes: float64(2), int32(1), int64(5), object(23)\n",
      "memory usage: 17.7+ MB\n"
     ]
    }
   ],
   "source": [
    "#Do the same changes to X_test:\n",
    "X_test.info()"
   ]
  },
  {
   "cell_type": "code",
   "execution_count": 81,
   "metadata": {},
   "outputs": [],
   "source": [
    "#deal with missing values\n",
    "\n",
    "X_test[\"AGE\"]=X_test['AGE'].fillna(X_test['AGE'].mean())\n",
    "X_test['BAC_RESULT'].fillna(value=\"TEST NOT OFFERED\",axis=0, inplace=True)\n",
    "\n",
    "#encode the categoricals\n",
    "encoded_test_arr = ohe.fit_transform(X_test[category_list]).toarray()\n",
    "encoded_test_labels = ohe.get_feature_names_out()\n",
    "encoded_test_labels\n",
    "encoded_test_labels = np.array(encoded_test_labels).ravel()\n",
    "encoded_test_arr = pd.DataFrame(encoded_test_arr, columns = encoded_test_labels, index=X_test.index)\n",
    "encoded_test_arr\n",
    "\n",
    "#drop orginal column and append our encoded columns\n",
    "X_test.drop(category_list, axis=1, inplace=True)\n",
    "X_test = pd.concat([X_test, encoded_test_arr], axis=1)"
   ]
  },
  {
   "cell_type": "code",
   "execution_count": null,
   "metadata": {
    "collapsed": true
   },
   "outputs": [
    {
     "name": "stdout",
     "output_type": "stream",
     "text": [
      "<class 'pandas.core.frame.DataFrame'>\n",
      "Int64Index: 71911 entries, 923368 to 1737261\n",
      "Data columns (total 78 columns):\n",
      " #   Column                               Non-Null Count  Dtype  \n",
      "---  ------                               --------------  -----  \n",
      " 0   POSTED_SPEED_LIMIT                   71911 non-null  int64  \n",
      " 1   NUM_UNITS                            71911 non-null  int64  \n",
      " 2   INJURIES_TOTAL                       71911 non-null  float64\n",
      " 3   CRASH_HOUR                           71911 non-null  int64  \n",
      " 4   CRASH_DAY_OF_WEEK                    71911 non-null  int64  \n",
      " 5   CRASH_MONTH                          71911 non-null  int64  \n",
      " 6   AGE                                  71911 non-null  float64\n",
      " 7   YEAR                                 71911 non-null  int64  \n",
      " 8   x0_NO CONTROLS                       71911 non-null  float64\n",
      " 9   x0_OTHER                             71911 non-null  float64\n",
      " 10  x0_SIGN                              71911 non-null  float64\n",
      " 11  x0_SIGNAL                            71911 non-null  float64\n",
      " 12  x1_FUNCTIONING IMPROPERLY/ MISSING   71911 non-null  float64\n",
      " 13  x1_FUNCTIONING PROPERLY              71911 non-null  float64\n",
      " 14  x1_NO CONTROLS                       71911 non-null  float64\n",
      " 15  x2_CLEAR                             71911 non-null  float64\n",
      " 16  x2_INCLEMENT                         71911 non-null  float64\n",
      " 17  x3_DIMINISHED VISIBILITY             71911 non-null  float64\n",
      " 18  x3_VISIBLE                           71911 non-null  float64\n",
      " 19  x4_ANGLE                             71911 non-null  float64\n",
      " 20  x4_OBJECT                            71911 non-null  float64\n",
      " 21  x4_OTHER                             71911 non-null  float64\n",
      " 22  x4_PERSON OR ANIMAL                  71911 non-null  float64\n",
      " 23  x4_REAR END                          71911 non-null  float64\n",
      " 24  x4_SIDE SWIPE                        71911 non-null  float64\n",
      " 25  x4_TURNING                           71911 non-null  float64\n",
      " 26  x5_DIVIDED                           71911 non-null  float64\n",
      " 27  x5_INTERSECTION                      71911 non-null  float64\n",
      " 28  x5_NOT DIVIDED                       71911 non-null  float64\n",
      " 29  x5_OTHER                             71911 non-null  float64\n",
      " 30  x6_NOT STRAIGHT                      71911 non-null  float64\n",
      " 31  x6_STRAIGHT                          71911 non-null  float64\n",
      " 32  x7_DRY                               71911 non-null  float64\n",
      " 33  x7_NOT DRY                           71911 non-null  float64\n",
      " 34  x7_OTHER                             71911 non-null  float64\n",
      " 35  x8_DEFECTS                           71911 non-null  float64\n",
      " 36  x8_NO DEFECTS                        71911 non-null  float64\n",
      " 37  x9_INJURY AND / OR TOW DUE TO CRASH  71911 non-null  float64\n",
      " 38  x9_NO INJURY / DRIVE AWAY            71911 non-null  float64\n",
      " 39  x10_OVER $1500                       71911 non-null  float64\n",
      " 40  x10_UNDER $1500                      71911 non-null  float64\n",
      " 41  x11_PASSENGER                        71911 non-null  float64\n",
      " 42  x11_SPORT UTILITY VEHICLE (SUV)      71911 non-null  float64\n",
      " 43  x11_VAN/MINI-VAN                     71911 non-null  float64\n",
      " 44  x12_OTHER                            71911 non-null  float64\n",
      " 45  x12_STRAIGHT                         71911 non-null  float64\n",
      " 46  x13_FRONT                            71911 non-null  float64\n",
      " 47  x13_NONE                             71911 non-null  float64\n",
      " 48  x13_OTHER                            71911 non-null  float64\n",
      " 49  x13_REAR                             71911 non-null  float64\n",
      " 50  x13_SIDES                            71911 non-null  float64\n",
      " 51  x14_DRIVER                           71911 non-null  float64\n",
      " 52  x14_OTHER                            71911 non-null  float64\n",
      " 53  x14_PASSENGER                        71911 non-null  float64\n",
      " 54  x15_F                                71911 non-null  float64\n",
      " 55  x15_M                                71911 non-null  float64\n",
      " 56  x16_NONE                             71911 non-null  float64\n",
      " 57  x16_NOT USED                         71911 non-null  float64\n",
      " 58  x16_UNKNOWN                          71911 non-null  float64\n",
      " 59  x16_USED                             71911 non-null  float64\n",
      " 60  x17_DEPLOYED                         71911 non-null  float64\n",
      " 61  x17_DID NOT DEPLOY                   71911 non-null  float64\n",
      " 62  x17_NOT APPLICABLE                   71911 non-null  float64\n",
      " 63  x17_UNKNOWN                          71911 non-null  float64\n",
      " 64  x18_ACTIONS TAKEN                    71911 non-null  float64\n",
      " 65  x18_NO ACTION TAKEN                  71911 non-null  float64\n",
      " 66  x19_NOT OBSCURED                     71911 non-null  float64\n",
      " 67  x19_OBSCURED                         71911 non-null  float64\n",
      " 68  x19_UNKNOWN                          71911 non-null  float64\n",
      " 69  x20_NORMAL                           71911 non-null  float64\n",
      " 70  x20_NOT NORMAL                       71911 non-null  float64\n",
      " 71  x20_UNKNOWN                          71911 non-null  float64\n",
      " 72  x21_TEST NOT OFFERED                 71911 non-null  float64\n",
      " 73  x21_TEST PERFORMED                   71911 non-null  float64\n",
      " 74  x21_TEST REFUSED                     71911 non-null  float64\n",
      " 75  x22_FATAL                            71911 non-null  float64\n",
      " 76  x22_MAJOR INJURIES                   71911 non-null  float64\n",
      " 77  x22_MINOR INJURIES                   71911 non-null  float64\n",
      "dtypes: float64(72), int64(6)\n",
      "memory usage: 43.3 MB\n"
     ]
    },
    {
     "data": {
      "text/plain": [
       "POSTED_SPEED_LIMIT    0\n",
       "NUM_UNITS             0\n",
       "INJURIES_TOTAL        0\n",
       "CRASH_HOUR            0\n",
       "CRASH_DAY_OF_WEEK     0\n",
       "                     ..\n",
       "x21_TEST PERFORMED    0\n",
       "x21_TEST REFUSED      0\n",
       "x22_FATAL             0\n",
       "x22_MAJOR INJURIES    0\n",
       "x22_MINOR INJURIES    0\n",
       "Length: 78, dtype: int64"
      ]
     },
     "execution_count": 287,
     "metadata": {},
     "output_type": "execute_result"
    }
   ],
   "source": [
    "#inspect X_test\n",
    "X_test.info()\n",
    "X_test.isna().sum()"
   ]
  },
  {
   "cell_type": "code",
   "execution_count": null,
   "metadata": {},
   "outputs": [],
   "source": []
  },
  {
   "cell_type": "markdown",
   "metadata": {},
   "source": [
    "# Modeling"
   ]
  },
  {
   "cell_type": "markdown",
   "metadata": {},
   "source": [
    "**Dummy Model**"
   ]
  },
  {
   "cell_type": "code",
   "execution_count": 103,
   "metadata": {},
   "outputs": [],
   "source": [
    "X = master_df.drop([\"PRIM_CONTRIBUTORY_CAUSE\"], axis=1)\n",
    "y = master_df[\"PRIM_CONTRIBUTORY_CAUSE\"]"
   ]
  },
  {
   "cell_type": "code",
   "execution_count": 104,
   "metadata": {},
   "outputs": [],
   "source": [
    "dummy_model = DummyClassifier(strategy=\"most_frequent\")"
   ]
  },
  {
   "cell_type": "code",
   "execution_count": 107,
   "metadata": {},
   "outputs": [
    {
     "name": "stdout",
     "output_type": "stream",
     "text": [
      "Accuracy: 0.4491548110754169\n"
     ]
    }
   ],
   "source": [
    "# Train the model on the training set\n",
    "dummy_model.fit(X_train, y_train)\n",
    "\n",
    "# Make predictions on the testing set\n",
    "y_pred = dummy_model.predict(X_test)\n",
    "\n",
    "# Evaluate the model\n",
    "accuracy = accuracy_score(y_test, y_pred)\n",
    "\n",
    "# Print the evaluation metrics\n",
    "print(f\"Accuracy: {accuracy}\")\n",
    "\n"
   ]
  },
  {
   "cell_type": "code",
   "execution_count": null,
   "metadata": {},
   "outputs": [],
   "source": [
    "Dummy model with different X"
   ]
  },
  {
   "cell_type": "code",
   "execution_count": 110,
   "metadata": {},
   "outputs": [
    {
     "name": "stdout",
     "output_type": "stream",
     "text": [
      "Accuracy: 0.20169802661771455\n"
     ]
    }
   ],
   "source": [
    "X = master_df.drop([\"PRIM_CONTRIBUTORY_CAUSE\"], axis=1)\n",
    "y = master_df[\"PRIM_CONTRIBUTORY_CAUSE\"]\n",
    "dummy_classifier = DummyClassifier(strategy=\"uniform\")\n",
    "\n",
    "# Train the model on the training set\n",
    "dummy_classifier.fit(X_train, y_train)\n",
    "\n",
    "# Make predictions on the testing set\n",
    "y_pred = dummy_classifier.predict(X_test)\n",
    "\n",
    "# Evaluate the model\n",
    "accuracy = accuracy_score(y_test, y_pred)\n",
    "\n",
    "# Print the evaluation metrics\n",
    "print(f\"Accuracy: {accuracy}\")"
   ]
  },
  {
   "cell_type": "code",
   "execution_count": 111,
   "metadata": {},
   "outputs": [
    {
     "name": "stdout",
     "output_type": "stream",
     "text": [
      "Accuracy: 0.39687547804803425\n"
     ]
    }
   ],
   "source": [
    "X = master_df.drop([\"PRIM_CONTRIBUTORY_CAUSE\"], axis=1)\n",
    "y = master_df[\"PRIM_CONTRIBUTORY_CAUSE\"]\n",
    "dummy_classifier = DummyClassifier(strategy=\"stratified\")\n",
    "\n",
    "# Train the model on the training set\n",
    "dummy_classifier.fit(X_train, y_train)\n",
    "\n",
    "# Make predictions on the testing set\n",
    "y_pred = dummy_classifier.predict(X_test)\n",
    "\n",
    "# Evaluate the model\n",
    "accuracy = accuracy_score(y_test, y_pred)\n",
    "\n",
    "# Print the evaluation metrics\n",
    "print(f\"Accuracy: {accuracy}\")"
   ]
  },
  {
   "cell_type": "code",
   "execution_count": 113,
   "metadata": {},
   "outputs": [],
   "source": [
    "X = master_df['ROADWAY_SURFACE_COND']\n",
    "y = master_df[\"PRIM_CONTRIBUTORY_CAUSE\"]\n",
    "\n",
    "dt_classifier = DecisionTreeClassifier(random_state=42)"
   ]
  },
  {
   "cell_type": "code",
   "execution_count": 114,
   "metadata": {},
   "outputs": [
    {
     "ename": "ValueError",
     "evalue": "could not convert string to float: 'SIGN'",
     "output_type": "error",
     "traceback": [
      "\u001b[0;31m---------------------------------------------------------------------------\u001b[0m",
      "\u001b[0;31mValueError\u001b[0m                                Traceback (most recent call last)",
      "\u001b[0;32m/var/folders/bk/x2x4c5yj1vg12qd9whz6kg300000gn/T/ipykernel_99751/3604916098.py\u001b[0m in \u001b[0;36m?\u001b[0;34m()\u001b[0m\n\u001b[0;32m----> 1\u001b[0;31m \u001b[0mdt_classifier\u001b[0m\u001b[0;34m.\u001b[0m\u001b[0mfit\u001b[0m\u001b[0;34m(\u001b[0m\u001b[0mX_train\u001b[0m\u001b[0;34m,\u001b[0m \u001b[0my_train\u001b[0m\u001b[0;34m)\u001b[0m\u001b[0;34m\u001b[0m\u001b[0;34m\u001b[0m\u001b[0m\n\u001b[0m",
      "\u001b[0;32m~/anaconda3/envs/learn-env/lib/python3.9/site-packages/sklearn/base.py\u001b[0m in \u001b[0;36m?\u001b[0;34m(estimator, *args, **kwargs)\u001b[0m\n\u001b[1;32m   1148\u001b[0m                 skip_parameter_validation=(\n\u001b[1;32m   1149\u001b[0m                     \u001b[0mprefer_skip_nested_validation\u001b[0m \u001b[0;32mor\u001b[0m \u001b[0mglobal_skip_validation\u001b[0m\u001b[0;34m\u001b[0m\u001b[0;34m\u001b[0m\u001b[0m\n\u001b[1;32m   1150\u001b[0m                 )\n\u001b[1;32m   1151\u001b[0m             ):\n\u001b[0;32m-> 1152\u001b[0;31m                 \u001b[0;32mreturn\u001b[0m \u001b[0mfit_method\u001b[0m\u001b[0;34m(\u001b[0m\u001b[0mestimator\u001b[0m\u001b[0;34m,\u001b[0m \u001b[0;34m*\u001b[0m\u001b[0margs\u001b[0m\u001b[0;34m,\u001b[0m \u001b[0;34m**\u001b[0m\u001b[0mkwargs\u001b[0m\u001b[0;34m)\u001b[0m\u001b[0;34m\u001b[0m\u001b[0;34m\u001b[0m\u001b[0m\n\u001b[0m",
      "\u001b[0;32m~/anaconda3/envs/learn-env/lib/python3.9/site-packages/sklearn/tree/_classes.py\u001b[0m in \u001b[0;36m?\u001b[0;34m(self, X, y, sample_weight, check_input)\u001b[0m\n\u001b[1;32m    955\u001b[0m         \u001b[0mself\u001b[0m \u001b[0;34m:\u001b[0m \u001b[0mDecisionTreeClassifier\u001b[0m\u001b[0;34m\u001b[0m\u001b[0;34m\u001b[0m\u001b[0m\n\u001b[1;32m    956\u001b[0m             \u001b[0mFitted\u001b[0m \u001b[0mestimator\u001b[0m\u001b[0;34m.\u001b[0m\u001b[0;34m\u001b[0m\u001b[0;34m\u001b[0m\u001b[0m\n\u001b[1;32m    957\u001b[0m         \"\"\"\n\u001b[1;32m    958\u001b[0m \u001b[0;34m\u001b[0m\u001b[0m\n\u001b[0;32m--> 959\u001b[0;31m         super()._fit(\n\u001b[0m\u001b[1;32m    960\u001b[0m             \u001b[0mX\u001b[0m\u001b[0;34m,\u001b[0m\u001b[0;34m\u001b[0m\u001b[0;34m\u001b[0m\u001b[0m\n\u001b[1;32m    961\u001b[0m             \u001b[0my\u001b[0m\u001b[0;34m,\u001b[0m\u001b[0;34m\u001b[0m\u001b[0;34m\u001b[0m\u001b[0m\n\u001b[1;32m    962\u001b[0m             \u001b[0msample_weight\u001b[0m\u001b[0;34m=\u001b[0m\u001b[0msample_weight\u001b[0m\u001b[0;34m,\u001b[0m\u001b[0;34m\u001b[0m\u001b[0;34m\u001b[0m\u001b[0m\n",
      "\u001b[0;32m~/anaconda3/envs/learn-env/lib/python3.9/site-packages/sklearn/tree/_classes.py\u001b[0m in \u001b[0;36m?\u001b[0;34m(self, X, y, sample_weight, check_input, missing_values_in_feature_mask)\u001b[0m\n\u001b[1;32m    238\u001b[0m             check_X_params = dict(\n\u001b[1;32m    239\u001b[0m                 \u001b[0mdtype\u001b[0m\u001b[0;34m=\u001b[0m\u001b[0mDTYPE\u001b[0m\u001b[0;34m,\u001b[0m \u001b[0maccept_sparse\u001b[0m\u001b[0;34m=\u001b[0m\u001b[0;34m\"csc\"\u001b[0m\u001b[0;34m,\u001b[0m \u001b[0mforce_all_finite\u001b[0m\u001b[0;34m=\u001b[0m\u001b[0;32mFalse\u001b[0m\u001b[0;34m\u001b[0m\u001b[0;34m\u001b[0m\u001b[0m\n\u001b[1;32m    240\u001b[0m             )\n\u001b[1;32m    241\u001b[0m             \u001b[0mcheck_y_params\u001b[0m \u001b[0;34m=\u001b[0m \u001b[0mdict\u001b[0m\u001b[0;34m(\u001b[0m\u001b[0mensure_2d\u001b[0m\u001b[0;34m=\u001b[0m\u001b[0;32mFalse\u001b[0m\u001b[0;34m,\u001b[0m \u001b[0mdtype\u001b[0m\u001b[0;34m=\u001b[0m\u001b[0;32mNone\u001b[0m\u001b[0;34m)\u001b[0m\u001b[0;34m\u001b[0m\u001b[0;34m\u001b[0m\u001b[0m\n\u001b[0;32m--> 242\u001b[0;31m             X, y = self._validate_data(\n\u001b[0m\u001b[1;32m    243\u001b[0m                 \u001b[0mX\u001b[0m\u001b[0;34m,\u001b[0m \u001b[0my\u001b[0m\u001b[0;34m,\u001b[0m \u001b[0mvalidate_separately\u001b[0m\u001b[0;34m=\u001b[0m\u001b[0;34m(\u001b[0m\u001b[0mcheck_X_params\u001b[0m\u001b[0;34m,\u001b[0m \u001b[0mcheck_y_params\u001b[0m\u001b[0;34m)\u001b[0m\u001b[0;34m\u001b[0m\u001b[0;34m\u001b[0m\u001b[0m\n\u001b[1;32m    244\u001b[0m             )\n\u001b[1;32m    245\u001b[0m \u001b[0;34m\u001b[0m\u001b[0m\n",
      "\u001b[0;32m~/anaconda3/envs/learn-env/lib/python3.9/site-packages/sklearn/base.py\u001b[0m in \u001b[0;36m?\u001b[0;34m(self, X, y, reset, validate_separately, cast_to_ndarray, **check_params)\u001b[0m\n\u001b[1;32m    613\u001b[0m                 \u001b[0;31m# :(\u001b[0m\u001b[0;34m\u001b[0m\u001b[0;34m\u001b[0m\u001b[0m\n\u001b[1;32m    614\u001b[0m                 \u001b[0mcheck_X_params\u001b[0m\u001b[0;34m,\u001b[0m \u001b[0mcheck_y_params\u001b[0m \u001b[0;34m=\u001b[0m \u001b[0mvalidate_separately\u001b[0m\u001b[0;34m\u001b[0m\u001b[0;34m\u001b[0m\u001b[0m\n\u001b[1;32m    615\u001b[0m                 \u001b[0;32mif\u001b[0m \u001b[0;34m\"estimator\"\u001b[0m \u001b[0;32mnot\u001b[0m \u001b[0;32min\u001b[0m \u001b[0mcheck_X_params\u001b[0m\u001b[0;34m:\u001b[0m\u001b[0;34m\u001b[0m\u001b[0;34m\u001b[0m\u001b[0m\n\u001b[1;32m    616\u001b[0m                     \u001b[0mcheck_X_params\u001b[0m \u001b[0;34m=\u001b[0m \u001b[0;34m{\u001b[0m\u001b[0;34m**\u001b[0m\u001b[0mdefault_check_params\u001b[0m\u001b[0;34m,\u001b[0m \u001b[0;34m**\u001b[0m\u001b[0mcheck_X_params\u001b[0m\u001b[0;34m}\u001b[0m\u001b[0;34m\u001b[0m\u001b[0;34m\u001b[0m\u001b[0m\n\u001b[0;32m--> 617\u001b[0;31m                 \u001b[0mX\u001b[0m \u001b[0;34m=\u001b[0m \u001b[0mcheck_array\u001b[0m\u001b[0;34m(\u001b[0m\u001b[0mX\u001b[0m\u001b[0;34m,\u001b[0m \u001b[0minput_name\u001b[0m\u001b[0;34m=\u001b[0m\u001b[0;34m\"X\"\u001b[0m\u001b[0;34m,\u001b[0m \u001b[0;34m**\u001b[0m\u001b[0mcheck_X_params\u001b[0m\u001b[0;34m)\u001b[0m\u001b[0;34m\u001b[0m\u001b[0;34m\u001b[0m\u001b[0m\n\u001b[0m\u001b[1;32m    618\u001b[0m                 \u001b[0;32mif\u001b[0m \u001b[0;34m\"estimator\"\u001b[0m \u001b[0;32mnot\u001b[0m \u001b[0;32min\u001b[0m \u001b[0mcheck_y_params\u001b[0m\u001b[0;34m:\u001b[0m\u001b[0;34m\u001b[0m\u001b[0;34m\u001b[0m\u001b[0m\n\u001b[1;32m    619\u001b[0m                     \u001b[0mcheck_y_params\u001b[0m \u001b[0;34m=\u001b[0m \u001b[0;34m{\u001b[0m\u001b[0;34m**\u001b[0m\u001b[0mdefault_check_params\u001b[0m\u001b[0;34m,\u001b[0m \u001b[0;34m**\u001b[0m\u001b[0mcheck_y_params\u001b[0m\u001b[0;34m}\u001b[0m\u001b[0;34m\u001b[0m\u001b[0;34m\u001b[0m\u001b[0m\n\u001b[1;32m    620\u001b[0m                 \u001b[0my\u001b[0m \u001b[0;34m=\u001b[0m \u001b[0mcheck_array\u001b[0m\u001b[0;34m(\u001b[0m\u001b[0my\u001b[0m\u001b[0;34m,\u001b[0m \u001b[0minput_name\u001b[0m\u001b[0;34m=\u001b[0m\u001b[0;34m\"y\"\u001b[0m\u001b[0;34m,\u001b[0m \u001b[0;34m**\u001b[0m\u001b[0mcheck_y_params\u001b[0m\u001b[0;34m)\u001b[0m\u001b[0;34m\u001b[0m\u001b[0;34m\u001b[0m\u001b[0m\n",
      "\u001b[0;32m~/anaconda3/envs/learn-env/lib/python3.9/site-packages/sklearn/utils/validation.py\u001b[0m in \u001b[0;36m?\u001b[0;34m(array, accept_sparse, accept_large_sparse, dtype, order, copy, force_all_finite, ensure_2d, allow_nd, ensure_min_samples, ensure_min_features, estimator, input_name)\u001b[0m\n\u001b[1;32m    913\u001b[0m                     \u001b[0marray\u001b[0m \u001b[0;34m=\u001b[0m \u001b[0mxp\u001b[0m\u001b[0;34m.\u001b[0m\u001b[0mastype\u001b[0m\u001b[0;34m(\u001b[0m\u001b[0marray\u001b[0m\u001b[0;34m,\u001b[0m \u001b[0mdtype\u001b[0m\u001b[0;34m,\u001b[0m \u001b[0mcopy\u001b[0m\u001b[0;34m=\u001b[0m\u001b[0;32mFalse\u001b[0m\u001b[0;34m)\u001b[0m\u001b[0;34m\u001b[0m\u001b[0;34m\u001b[0m\u001b[0m\n\u001b[1;32m    914\u001b[0m                 \u001b[0;32melse\u001b[0m\u001b[0;34m:\u001b[0m\u001b[0;34m\u001b[0m\u001b[0;34m\u001b[0m\u001b[0m\n\u001b[1;32m    915\u001b[0m                     \u001b[0marray\u001b[0m \u001b[0;34m=\u001b[0m \u001b[0m_asarray_with_order\u001b[0m\u001b[0;34m(\u001b[0m\u001b[0marray\u001b[0m\u001b[0;34m,\u001b[0m \u001b[0morder\u001b[0m\u001b[0;34m=\u001b[0m\u001b[0morder\u001b[0m\u001b[0;34m,\u001b[0m \u001b[0mdtype\u001b[0m\u001b[0;34m=\u001b[0m\u001b[0mdtype\u001b[0m\u001b[0;34m,\u001b[0m \u001b[0mxp\u001b[0m\u001b[0;34m=\u001b[0m\u001b[0mxp\u001b[0m\u001b[0;34m)\u001b[0m\u001b[0;34m\u001b[0m\u001b[0;34m\u001b[0m\u001b[0m\n\u001b[1;32m    916\u001b[0m             \u001b[0;32mexcept\u001b[0m \u001b[0mComplexWarning\u001b[0m \u001b[0;32mas\u001b[0m \u001b[0mcomplex_warning\u001b[0m\u001b[0;34m:\u001b[0m\u001b[0;34m\u001b[0m\u001b[0;34m\u001b[0m\u001b[0m\n\u001b[0;32m--> 917\u001b[0;31m                 raise ValueError(\n\u001b[0m\u001b[1;32m    918\u001b[0m                     \u001b[0;34m\"Complex data not supported\\n{}\\n\"\u001b[0m\u001b[0;34m.\u001b[0m\u001b[0mformat\u001b[0m\u001b[0;34m(\u001b[0m\u001b[0marray\u001b[0m\u001b[0;34m)\u001b[0m\u001b[0;34m\u001b[0m\u001b[0;34m\u001b[0m\u001b[0m\n\u001b[1;32m    919\u001b[0m                 ) from complex_warning\n\u001b[1;32m    920\u001b[0m \u001b[0;34m\u001b[0m\u001b[0m\n",
      "\u001b[0;32m~/anaconda3/envs/learn-env/lib/python3.9/site-packages/sklearn/utils/_array_api.py\u001b[0m in \u001b[0;36m?\u001b[0;34m(array, dtype, order, copy, xp)\u001b[0m\n\u001b[1;32m    376\u001b[0m         \u001b[0;31m# Use NumPy API to support order\u001b[0m\u001b[0;34m\u001b[0m\u001b[0;34m\u001b[0m\u001b[0m\n\u001b[1;32m    377\u001b[0m         \u001b[0;32mif\u001b[0m \u001b[0mcopy\u001b[0m \u001b[0;32mis\u001b[0m \u001b[0;32mTrue\u001b[0m\u001b[0;34m:\u001b[0m\u001b[0;34m\u001b[0m\u001b[0;34m\u001b[0m\u001b[0m\n\u001b[1;32m    378\u001b[0m             \u001b[0marray\u001b[0m \u001b[0;34m=\u001b[0m \u001b[0mnumpy\u001b[0m\u001b[0;34m.\u001b[0m\u001b[0marray\u001b[0m\u001b[0;34m(\u001b[0m\u001b[0marray\u001b[0m\u001b[0;34m,\u001b[0m \u001b[0morder\u001b[0m\u001b[0;34m=\u001b[0m\u001b[0morder\u001b[0m\u001b[0;34m,\u001b[0m \u001b[0mdtype\u001b[0m\u001b[0;34m=\u001b[0m\u001b[0mdtype\u001b[0m\u001b[0;34m)\u001b[0m\u001b[0;34m\u001b[0m\u001b[0;34m\u001b[0m\u001b[0m\n\u001b[1;32m    379\u001b[0m         \u001b[0;32melse\u001b[0m\u001b[0;34m:\u001b[0m\u001b[0;34m\u001b[0m\u001b[0;34m\u001b[0m\u001b[0m\n\u001b[0;32m--> 380\u001b[0;31m             \u001b[0marray\u001b[0m \u001b[0;34m=\u001b[0m \u001b[0mnumpy\u001b[0m\u001b[0;34m.\u001b[0m\u001b[0masarray\u001b[0m\u001b[0;34m(\u001b[0m\u001b[0marray\u001b[0m\u001b[0;34m,\u001b[0m \u001b[0morder\u001b[0m\u001b[0;34m=\u001b[0m\u001b[0morder\u001b[0m\u001b[0;34m,\u001b[0m \u001b[0mdtype\u001b[0m\u001b[0;34m=\u001b[0m\u001b[0mdtype\u001b[0m\u001b[0;34m)\u001b[0m\u001b[0;34m\u001b[0m\u001b[0;34m\u001b[0m\u001b[0m\n\u001b[0m\u001b[1;32m    381\u001b[0m \u001b[0;34m\u001b[0m\u001b[0m\n\u001b[1;32m    382\u001b[0m         \u001b[0;31m# At this point array is a NumPy ndarray. We convert it to an array\u001b[0m\u001b[0;34m\u001b[0m\u001b[0;34m\u001b[0m\u001b[0m\n\u001b[1;32m    383\u001b[0m         \u001b[0;31m# container that is consistent with the input's namespace.\u001b[0m\u001b[0;34m\u001b[0m\u001b[0;34m\u001b[0m\u001b[0m\n",
      "\u001b[0;32m~/anaconda3/envs/learn-env/lib/python3.9/site-packages/pandas/core/generic.py\u001b[0m in \u001b[0;36m?\u001b[0;34m(self, dtype)\u001b[0m\n\u001b[1;32m   2082\u001b[0m     \u001b[0;32mdef\u001b[0m \u001b[0m__array__\u001b[0m\u001b[0;34m(\u001b[0m\u001b[0mself\u001b[0m\u001b[0;34m,\u001b[0m \u001b[0mdtype\u001b[0m\u001b[0;34m:\u001b[0m \u001b[0mnpt\u001b[0m\u001b[0;34m.\u001b[0m\u001b[0mDTypeLike\u001b[0m \u001b[0;34m|\u001b[0m \u001b[0;32mNone\u001b[0m \u001b[0;34m=\u001b[0m \u001b[0;32mNone\u001b[0m\u001b[0;34m)\u001b[0m \u001b[0;34m->\u001b[0m \u001b[0mnp\u001b[0m\u001b[0;34m.\u001b[0m\u001b[0mndarray\u001b[0m\u001b[0;34m:\u001b[0m\u001b[0;34m\u001b[0m\u001b[0;34m\u001b[0m\u001b[0m\n\u001b[1;32m   2083\u001b[0m         \u001b[0mvalues\u001b[0m \u001b[0;34m=\u001b[0m \u001b[0mself\u001b[0m\u001b[0;34m.\u001b[0m\u001b[0m_values\u001b[0m\u001b[0;34m\u001b[0m\u001b[0;34m\u001b[0m\u001b[0m\n\u001b[0;32m-> 2084\u001b[0;31m         \u001b[0marr\u001b[0m \u001b[0;34m=\u001b[0m \u001b[0mnp\u001b[0m\u001b[0;34m.\u001b[0m\u001b[0masarray\u001b[0m\u001b[0;34m(\u001b[0m\u001b[0mvalues\u001b[0m\u001b[0;34m,\u001b[0m \u001b[0mdtype\u001b[0m\u001b[0;34m=\u001b[0m\u001b[0mdtype\u001b[0m\u001b[0;34m)\u001b[0m\u001b[0;34m\u001b[0m\u001b[0;34m\u001b[0m\u001b[0m\n\u001b[0m\u001b[1;32m   2085\u001b[0m         if (\n\u001b[1;32m   2086\u001b[0m             \u001b[0mastype_is_view\u001b[0m\u001b[0;34m(\u001b[0m\u001b[0mvalues\u001b[0m\u001b[0;34m.\u001b[0m\u001b[0mdtype\u001b[0m\u001b[0;34m,\u001b[0m \u001b[0marr\u001b[0m\u001b[0;34m.\u001b[0m\u001b[0mdtype\u001b[0m\u001b[0;34m)\u001b[0m\u001b[0;34m\u001b[0m\u001b[0;34m\u001b[0m\u001b[0m\n\u001b[1;32m   2087\u001b[0m             \u001b[0;32mand\u001b[0m \u001b[0musing_copy_on_write\u001b[0m\u001b[0;34m(\u001b[0m\u001b[0;34m)\u001b[0m\u001b[0;34m\u001b[0m\u001b[0;34m\u001b[0m\u001b[0m\n",
      "\u001b[0;31mValueError\u001b[0m: could not convert string to float: 'SIGN'"
     ]
    }
   ],
   "source": [
    "dt_classifier.fit(X_train, y_train)"
   ]
  },
  {
   "cell_type": "code",
   "execution_count": null,
   "metadata": {},
   "outputs": [],
   "source": [
    "y_pred = dt_classifier.predict(X_test)"
   ]
  },
  {
   "cell_type": "code",
   "execution_count": null,
   "metadata": {},
   "outputs": [],
   "source": [
    "accuracy = accuracy_score(y_test, y_pred)\n",
    "print(f\"Accuracy: {accuracy}\")"
   ]
  },
  {
   "cell_type": "code",
   "execution_count": 118,
   "metadata": {},
   "outputs": [
    {
     "data": {
      "image/png": "[encoded data removed]",
      "text/plain": [
       "<Figure size 1000x600 with 1 Axes>"
      ]
     },
     "metadata": {},
     "output_type": "display_data"
    }
   ],
   "source": [
    "sns.set_context(\"poster\")\n",
    "sns.set_style(\"darkgrid\")\n",
    "plt.figure(figsize =(10,6))\n",
    "plt.xticks(\n",
    "    rotation=45, \n",
    "    horizontalalignment='right',\n",
    "    fontsize='small'\n",
    ")\n",
    "\n",
    "ax = sns.countplot(x=\"SEX\", data=master_df,order = master_df['SEX'].value_counts().head(30).index)\n",
    "plt.xlabel('Sex')\n",
    "plt.ylabel('Number of Crashes')\n",
    "plt.title('Primary Cause of Death vs Number of Crashes')\n",
    "plt.show()"
   ]
  },
  {
   "cell_type": "code",
   "execution_count": 122,
   "metadata": {},
   "outputs": [
    {
     "data": {
      "image/png": "[encoded data removed]",
      "text/plain": [
       "<Figure size 2000x1500 with 1 Axes>"
      ]
     },
     "metadata": {},
     "output_type": "display_data"
    }
   ],
   "source": [
    "sns.set_context(\"poster\")\n",
    "sns.set_style(\"white\")\n",
    "plt.figure(figsize =(20,15))\n",
    "plt.xticks(\n",
    "    horizontalalignment='right',\n",
    "    fontsize='small'\n",
    ")\n",
    "\n",
    "ax = sns.countplot(x=\"YEAR\", data=master_df)\n",
    "plt.xlabel('Year')\n",
    "plt.ylabel('Number of Crashes')\n",
    "plt.show() \n",
    "\n",
    "\n"
   ]
  },
  {
   "cell_type": "code",
   "execution_count": 128,
   "metadata": {},
   "outputs": [
    {
     "data": {
      "image/png": "[encoded data removed]",
      "text/plain": [
       "<Figure size 2000x1500 with 1 Axes>"
      ]
     },
     "metadata": {},
     "output_type": "display_data"
    }
   ],
   "source": [
    "year_counts = master_df['YEAR'].value_counts()\n",
    "\n",
    "# Create a custom color palette\n",
    "colors = sns.color_palette(\"colorblind\", len(year_counts))\n",
    "\n",
    "# Create a bar chart with different colors\n",
    "plt.figure(figsize=(20, 15))\n",
    "ax = sns.barplot(x=year_counts.index, y=year_counts.values, palette=colors)\n",
    "\n",
    "# Customize the x-axis labels for better readability\n",
    "plt.xticks(ha='right', fontsize='small')\n",
    "\n",
    "# Set labels and title\n",
    "plt.ylabel('Number of Crashes')\n",
    "\n",
    "# Show the plot\n",
    "plt.show()"
   ]
  },
  {
   "cell_type": "code",
   "execution_count": 133,
   "metadata": {},
   "outputs": [
    {
     "data": {
      "image/png": "[encoded data removed]",
      "text/plain": [
       "<Figure size 2000x1500 with 1 Axes>"
      ]
     },
     "metadata": {},
     "output_type": "display_data"
    }
   ],
   "source": [
    "##AGE\n",
    "\n",
    "filtered_master_df = master_df[(master_df['AGE'] >= 16) & (master_df['AGE'] <= 65)]\n",
    "\n",
    "# Set Seaborn styling\n",
    "sns.set_context(\"poster\")\n",
    "sns.set_style(\"darkgrid\")\n",
    "\n",
    "# Create a figure\n",
    "plt.figure(figsize=(20, 15))\n",
    "\n",
    "# Customize x-axis labels for better readability\n",
    "plt.xticks(rotation=45, horizontalalignment='right', fontsize='small')\n",
    "\n",
    "# Create a count plot\n",
    "ax = sns.countplot(x=\"AGE\", data=filtered_master_df, order=filtered_master_df['AGE'].value_counts().index)\n",
    "\n",
    "# Set labels and title\n",
    "plt.xlabel('AGE')\n",
    "plt.ylabel('Number of Crashes')\n",
    "plt.title('AGE vs. Number of Accidents')\n",
    "\n",
    "# Show the plot\n",
    "plt.show()"
   ]
  },
  {
   "cell_type": "code",
   "execution_count": 143,
   "metadata": {},
   "outputs": [
    {
     "data": {
      "image/png": "[encoded data removed]",
      "text/plain": [
       "<Figure size 2000x1500 with 1 Axes>"
      ]
     },
     "metadata": {},
     "output_type": "display_data"
    }
   ],
   "source": [
    "import seaborn as sns\n",
    "import matplotlib.pyplot as plt\n",
    "\n",
    "# Assuming 'master_df' is your DataFrame\n",
    "# Assuming 'AGE' is the column you want to use for the x-axis\n",
    "sns.set_context(\"poster\")\n",
    "sns.set_style(\"darkgrid\")\n",
    "\n",
    "# Filter data between ages 18 and 75\n",
    "filtered_master_df = master_df[(master_df['AGE'] >= 18) & (master_df['AGE'] <= 75)]\n",
    "\n",
    "# Create a figure\n",
    "plt.figure(figsize=(20, 15))\n",
    "\n",
    "# Compute the counts of each unique age within the filtered data\n",
    "age_counts = filtered_master_df['AGE'].value_counts()\n",
    "\n",
    "# Create a scatter plot\n",
    "ax = sns.scatterplot(x=age_counts.index, y=age_counts.values)\n",
    "\n",
    "# Customize x-axis labels for better readability\n",
    "plt.xticks(horizontalalignment='right', fontsize='small')\n",
    "\n",
    "# Set labels and title\n",
    "plt.xlabel('Age')\n",
    "plt.ylabel('Number of Crashes')\n",
    "plt.title('Age vs. Number of Crashes')\n",
    "\n",
    "# Show the plot\n",
    "plt.show()\n"
   ]
  },
  {
   "cell_type": "code",
   "execution_count": 130,
   "metadata": {},
   "outputs": [
    {
     "data": {
      "image/png": "[encoded data removed]",
      "text/plain": [
       "<Figure size 2000x1500 with 1 Axes>"
      ]
     },
     "metadata": {},
     "output_type": "display_data"
    }
   ],
   "source": [
    "##CRASH TYPE\n",
    "\n",
    "sns.set_context(\"poster\")\n",
    "sns.set_style(\"darkgrid\")\n",
    "plt.figure(figsize =(20,15))\n",
    "plt.xticks(\n",
    "    rotation=45, \n",
    "    horizontalalignment='right',\n",
    "    fontsize='small'\n",
    ")\n",
    "\n",
    "ax = sns.countplot(x=\"FIRST_CRASH_TYPE\", data=master_df, order=master_df['FIRST_CRASH_TYPE'].value_counts().index)\n",
    "plt.xlabel('Crash Type')\n",
    "plt.ylabel('Number of Crashes')\n",
    "plt.title('Most Crash Types')\n",
    "plt.show() \n"
   ]
  },
  {
   "cell_type": "code",
   "execution_count": 129,
   "metadata": {},
   "outputs": [
    {
     "data": {
      "image/png": "[encoded data removed]",
      "text/plain": [
       "<Figure size 2000x1500 with 1 Axes>"
      ]
     },
     "metadata": {},
     "output_type": "display_data"
    }
   ],
   "source": [
    "sns.set_context(\"poster\")\n",
    "sns.set_style(\"darkgrid\")\n",
    "plt.figure(figsize =(20,15))\n",
    "plt.xticks(\n",
    "    rotation=45, \n",
    "    horizontalalignment='right',\n",
    "    fontsize='small'\n",
    ")\n",
    "\n",
    "ax = sns.countplot(x=\"CRASH_HOUR\", data=master_df)\n",
    "plt.xlabel('CRASH_HOUR')\n",
    "plt.ylabel('Number of Crashes')\n",
    "plt.title('Crash Hour vs Number of Crashes')\n",
    "plt.show()"
   ]
  }
 ],
 "metadata": {
  "kernelspec": {
   "display_name": "Python (learn-env)",
   "language": "python",
   "name": "learn-env"
  },
  "language_info": {
   "codemirror_mode": {
    "name": "ipython",
    "version": 3
   },
   "file_extension": ".py",
   "mimetype": "text/x-python",
   "name": "python",
   "nbconvert_exporter": "python",
   "pygments_lexer": "ipython3",
   "version": "3.9.18"
  }
 },
 "nbformat": 4,
 "nbformat_minor": 4
}
