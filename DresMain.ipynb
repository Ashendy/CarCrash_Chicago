{
 "cells": [
  {
   "cell_type": "markdown",
   "metadata": {},
   "source": [
    "# Chicago Car Crash Analysis"
   ]
  },
  {
   "cell_type": "markdown",
   "metadata": {},
   "source": [
    "## Importing Packages"
   ]
  },
  {
   "cell_type": "code",
   "execution_count": 1,
   "metadata": {},
   "outputs": [],
   "source": [
    "# Importing packages needed for this notebook\n",
    "\n",
    "import pandas as pd\n",
    "import numpy as np\n",
    "\n",
    "import matplotlib.pyplot as plt\n",
    "import seaborn as sns\n",
    "\n",
    "from sklearn.impute import SimpleImputer\n",
    "from sklearn.preprocessing import OneHotEncoder"
   ]
  },
  {
   "cell_type": "code",
   "execution_count": 2,
   "metadata": {},
   "outputs": [
    {
     "name": "stderr",
     "output_type": "stream",
     "text": [
      "/var/folders/kl/l56g5k7x0xqgjd17r78jnyxc0000gn/T/ipykernel_28610/98205503.py:4: DtypeWarning: Columns (2,19,21,40,41,42,44,48,49,50,53,55,58,59,61,71) have mixed types. Specify dtype option on import or set low_memory=False.\n",
      "  df_vehicles = pd.read_csv(\"data/Traffic_Crashes_-_Vehicles_20231109.csv\")\n",
      "/var/folders/kl/l56g5k7x0xqgjd17r78jnyxc0000gn/T/ipykernel_28610/98205503.py:5: DtypeWarning: Columns (29) have mixed types. Specify dtype option on import or set low_memory=False.\n",
      "  df_people = pd.read_csv(\"data/Traffic_Crashes_-_People_20231109.csv\")\n"
     ]
    }
   ],
   "source": [
    "# Reading the data in\n",
    "\n",
    "df_crashes = pd.read_csv(\"data/Traffic_Crashes_-_Crashes_20231109.csv\")\n",
    "df_vehicles = pd.read_csv(\"data/Traffic_Crashes_-_Vehicles_20231109.csv\")\n",
    "df_people = pd.read_csv(\"data/Traffic_Crashes_-_People_20231109.csv\")"
   ]
  },
  {
   "cell_type": "code",
   "execution_count": 3,
   "metadata": {},
   "outputs": [],
   "source": [
    "# Dropping columns\n",
    "\n",
    "columns_to_drop_crashes = ['RD_NO', 'CRASH_DATE_EST_I', 'LANE_CNT', 'REPORT_TYPE', 'INTERSECTION_RELATED_I', 'NOT_RIGHT_OF_WAY_I', 'HIT_AND_RUN_I', 'DATE_POLICE_NOTIFIED',\n",
    "                           'SEC_CONTRIBUTORY_CAUSE', 'STREET_NO', 'STREET_DIRECTION', 'STREET_NAME', 'BEAT_OF_OCCURRENCE', 'PHOTOS_TAKEN_I', 'STATEMENTS_TAKEN_I', 'DOORING_I',\n",
    "                           'WORK_ZONE_I', 'WORK_ZONE_TYPE', 'WORKERS_PRESENT_I', 'INJURIES_FATAL', 'INJURIES_INCAPACITATING', 'INJURIES_NON_INCAPACITATING',\n",
    "                           'INJURIES_REPORTED_NOT_EVIDENT','INJURIES_NO_INDICATION', 'INJURIES_UNKNOWN', 'LATITUDE', 'LONGITUDE', 'LOCATION'\n",
    "                           ]\n",
    "\n",
    "columns_to_drop_vehicles = ['RD_NO', 'CRASH_DATE', 'CRASH_UNIT_ID', 'UNIT_NO', 'UNIT_TYPE', 'NUM_PASSENGERS', 'VEHICLE_ID', 'CMRC_VEH_I', 'MAKE', 'MODEL', 'VEHICLE_YEAR',\n",
    "                            'VEHICLE_DEFECT','VEHICLE_USE', 'TRAVEL_DIRECTION', 'TOWED_I', 'FIRE_I', 'OCCUPANT_CNT', 'EXCEED_SPEED_LIMIT_I', 'TOWED_BY', 'TOWED_TO',\n",
    "                            'AREA_00_I', 'AREA_01_I', 'AREA_02_I', 'AREA_03_I', 'AREA_04_I', 'AREA_05_I', 'AREA_06_I', 'AREA_07_I', 'AREA_08_I', 'AREA_09_I',\n",
    "                            'AREA_10_I', 'AREA_11_I', 'AREA_12_I', 'AREA_99_I',  'CMV_ID', 'USDOT_NO', 'CCMC_NO', 'ILCC_NO', 'COMMERCIAL_SRC',\n",
    "                            'GVWR', 'CARRIER_NAME', 'CARRIER_STATE', 'CARRIER_CITY', 'HAZMAT_PLACARDS_I', 'HAZMAT_NAME','UN_NO', 'HAZMAT_PRESENT_I',\n",
    "                            'HAZMAT_REPORT_I', 'HAZMAT_REPORT_NO', 'MCS_REPORT_I', 'MCS_REPORT_NO', 'HAZMAT_VIO_CAUSE_CRASH_I', 'MCS_VIO_CAUSE_CRASH_I', 'IDOT_PERMIT_NO',\n",
    "                            'WIDE_LOAD_I', 'TRAILER1_WIDTH', 'TRAILER2_WIDTH', 'TRAILER1_LENGTH', 'TRAILER2_LENGTH', 'TOTAL_VEHICLE_LENGTH', 'AXLE_CNT', 'VEHICLE_CONFIG', 'CARGO_BODY_TYPE',\n",
    "                            'LOAD_TYPE', 'HAZMAT_OUT_OF_SERVICE_I', 'MCS_OUT_OF_SERVICE_I', 'HAZMAT_CLASS'\n",
    "                            ]\n",
    "\n",
    "columns_to_drop_people = ['RD_NO', 'CRASH_DATE', 'VEHICLE_ID', 'PERSON_ID', 'SEAT_NO', 'CITY', 'STATE', 'ZIPCODE', 'DRIVERS_LICENSE_STATE', 'DRIVERS_LICENSE_CLASS', 'EJECTION',\n",
    "                          'HOSPITAL', 'EMS_AGENCY', 'EMS_RUN_NO', 'BAC_RESULT VALUE', 'PEDPEDAL_ACTION', 'PEDPEDAL_VISIBILITY', 'PEDPEDAL_LOCATION', 'CELL_PHONE_USE', 'INJURY_CLASSIFICATION'\n",
    "                          ]\n",
    "\n",
    "df_crashes = df_crashes.drop(columns_to_drop_crashes, axis=1)\n",
    "df_vehicles = df_vehicles.drop(columns_to_drop_vehicles, axis=1)\n",
    "df_people = df_people.drop(columns_to_drop_people, axis=1)"
   ]
  },
  {
   "cell_type": "markdown",
   "metadata": {},
   "source": [
    "## Creating a Master DataFrame"
   ]
  },
  {
   "cell_type": "code",
   "execution_count": 4,
   "metadata": {},
   "outputs": [],
   "source": [
    "master_df = pd.merge(df_crashes, pd.merge(df_vehicles, df_people, on=\"CRASH_RECORD_ID\"), on=\"CRASH_RECORD_ID\")"
   ]
  },
  {
   "cell_type": "markdown",
   "metadata": {},
   "source": [
    "## Info and column names of each table"
   ]
  },
  {
   "cell_type": "code",
   "execution_count": 5,
   "metadata": {},
   "outputs": [
    {
     "name": "stdout",
     "output_type": "stream",
     "text": [
      "<class 'pandas.core.frame.DataFrame'>\n",
      "RangeIndex: 3594423 entries, 0 to 3594422\n",
      "Data columns (total 35 columns):\n",
      " #   Column                   Dtype  \n",
      "---  ------                   -----  \n",
      " 0   CRASH_RECORD_ID          object \n",
      " 1   CRASH_DATE               object \n",
      " 2   POSTED_SPEED_LIMIT       int64  \n",
      " 3   TRAFFIC_CONTROL_DEVICE   object \n",
      " 4   DEVICE_CONDITION         object \n",
      " 5   WEATHER_CONDITION        object \n",
      " 6   LIGHTING_CONDITION       object \n",
      " 7   FIRST_CRASH_TYPE         object \n",
      " 8   TRAFFICWAY_TYPE          object \n",
      " 9   ALIGNMENT                object \n",
      " 10  ROADWAY_SURFACE_COND     object \n",
      " 11  ROAD_DEFECT              object \n",
      " 12  CRASH_TYPE               object \n",
      " 13  DAMAGE                   object \n",
      " 14  PRIM_CONTRIBUTORY_CAUSE  object \n",
      " 15  NUM_UNITS                int64  \n",
      " 16  MOST_SEVERE_INJURY       object \n",
      " 17  INJURIES_TOTAL           float64\n",
      " 18  CRASH_HOUR               int64  \n",
      " 19  CRASH_DAY_OF_WEEK        int64  \n",
      " 20  CRASH_MONTH              int64  \n",
      " 21  Boundaries - ZIP Codes   float64\n",
      " 22  LIC_PLATE_STATE          object \n",
      " 23  VEHICLE_TYPE             object \n",
      " 24  MANEUVER                 object \n",
      " 25  FIRST_CONTACT_POINT      object \n",
      " 26  PERSON_TYPE              object \n",
      " 27  SEX                      object \n",
      " 28  AGE                      float64\n",
      " 29  SAFETY_EQUIPMENT         object \n",
      " 30  AIRBAG_DEPLOYED          object \n",
      " 31  DRIVER_ACTION            object \n",
      " 32  DRIVER_VISION            object \n",
      " 33  PHYSICAL_CONDITION       object \n",
      " 34  BAC_RESULT               object \n",
      "dtypes: float64(3), int64(5), object(27)\n",
      "memory usage: 959.8+ MB\n"
     ]
    }
   ],
   "source": [
    "master_df.info()"
   ]
  },
  {
   "cell_type": "markdown",
   "metadata": {},
   "source": [
    "## Takeaway\n",
    "\n",
    "- 3,594,423 observations\n",
    "- 36 combined columns\n",
    "- 987 MB combined memory file"
   ]
  },
  {
   "cell_type": "markdown",
   "metadata": {},
   "source": [
    "## Data Cleaning"
   ]
  },
  {
   "cell_type": "code",
   "execution_count": 6,
   "metadata": {},
   "outputs": [
    {
     "name": "stdout",
     "output_type": "stream",
     "text": [
      "<class 'pandas.core.frame.DataFrame'>\n",
      "Index: 305598 entries, 14 to 1858292\n",
      "Data columns (total 36 columns):\n",
      " #   Column                   Non-Null Count   Dtype         \n",
      "---  ------                   --------------   -----         \n",
      " 0   CRASH_RECORD_ID          305598 non-null  object        \n",
      " 1   CRASH_DATE               305598 non-null  datetime64[ns]\n",
      " 2   POSTED_SPEED_LIMIT       305598 non-null  int64         \n",
      " 3   TRAFFIC_CONTROL_DEVICE   305598 non-null  object        \n",
      " 4   DEVICE_CONDITION         305598 non-null  object        \n",
      " 5   WEATHER_CONDITION        305598 non-null  object        \n",
      " 6   LIGHTING_CONDITION       305598 non-null  object        \n",
      " 7   FIRST_CRASH_TYPE         305598 non-null  object        \n",
      " 8   TRAFFICWAY_TYPE          305598 non-null  object        \n",
      " 9   ALIGNMENT                305598 non-null  object        \n",
      " 10  ROADWAY_SURFACE_COND     305598 non-null  object        \n",
      " 11  ROAD_DEFECT              305598 non-null  object        \n",
      " 12  CRASH_TYPE               305598 non-null  object        \n",
      " 13  DAMAGE                   305598 non-null  object        \n",
      " 14  PRIM_CONTRIBUTORY_CAUSE  305598 non-null  object        \n",
      " 15  NUM_UNITS                305598 non-null  int64         \n",
      " 16  MOST_SEVERE_INJURY       305598 non-null  object        \n",
      " 17  INJURIES_TOTAL           305598 non-null  float64       \n",
      " 18  CRASH_HOUR               305598 non-null  int64         \n",
      " 19  CRASH_DAY_OF_WEEK        305598 non-null  int64         \n",
      " 20  CRASH_MONTH              305598 non-null  int64         \n",
      " 21  Boundaries - ZIP Codes   303470 non-null  float64       \n",
      " 22  LIC_PLATE_STATE          293368 non-null  object        \n",
      " 23  VEHICLE_TYPE             305598 non-null  object        \n",
      " 24  MANEUVER                 305598 non-null  object        \n",
      " 25  FIRST_CONTACT_POINT      305512 non-null  object        \n",
      " 26  PERSON_TYPE              305598 non-null  object        \n",
      " 27  SEX                      298205 non-null  object        \n",
      " 28  AGE                      251649 non-null  float64       \n",
      " 29  SAFETY_EQUIPMENT         303965 non-null  object        \n",
      " 30  AIRBAG_DEPLOYED          293688 non-null  object        \n",
      " 31  DRIVER_ACTION            209120 non-null  object        \n",
      " 32  DRIVER_VISION            208933 non-null  object        \n",
      " 33  PHYSICAL_CONDITION       209510 non-null  object        \n",
      " 34  BAC_RESULT               209238 non-null  object        \n",
      " 35  YEAR                     305598 non-null  int32         \n",
      "dtypes: datetime64[ns](1), float64(3), int32(1), int64(5), object(26)\n",
      "memory usage: 85.1+ MB\n"
     ]
    }
   ],
   "source": [
    "# Filtering from 2020 and on\n",
    "\n",
    "master_df['CRASH_DATE'] = pd.to_datetime(master_df['CRASH_DATE'])\n",
    "master_df['YEAR'] = master_df['CRASH_DATE'].dt.year\n",
    "master_df = master_df.loc[master_df['INJURIES_TOTAL'] > 0]\n",
    "master_df = master_df[\n",
    "    (master_df[\"YEAR\"] >= 2020) &\n",
    "    ((master_df[\"VEHICLE_TYPE\"] == \"PASSENGER\") |\n",
    "     (master_df[\"VEHICLE_TYPE\"] == \"SPORT UTILITY VEHICLE (SUV)\") |\n",
    "     (master_df[\"VEHICLE_TYPE\"] == \"VAN/MINI-VAN\"))\n",
    "]\n",
    "master_df.info()"
   ]
  },
  {
   "cell_type": "markdown",
   "metadata": {},
   "source": [
    "## Takeaway\n",
    "\n",
    "- We filtered the data from year 2020 and after, "
   ]
  },
  {
   "cell_type": "code",
   "execution_count": 7,
   "metadata": {},
   "outputs": [
    {
     "data": {
      "text/plain": [
       "CRASH_RECORD_ID                0\n",
       "CRASH_DATE                     0\n",
       "POSTED_SPEED_LIMIT             0\n",
       "TRAFFIC_CONTROL_DEVICE         0\n",
       "DEVICE_CONDITION               0\n",
       "WEATHER_CONDITION              0\n",
       "LIGHTING_CONDITION             0\n",
       "FIRST_CRASH_TYPE               0\n",
       "TRAFFICWAY_TYPE                0\n",
       "ALIGNMENT                      0\n",
       "ROADWAY_SURFACE_COND           0\n",
       "ROAD_DEFECT                    0\n",
       "CRASH_TYPE                     0\n",
       "DAMAGE                         0\n",
       "PRIM_CONTRIBUTORY_CAUSE        0\n",
       "NUM_UNITS                      0\n",
       "MOST_SEVERE_INJURY             0\n",
       "INJURIES_TOTAL                 0\n",
       "CRASH_HOUR                     0\n",
       "CRASH_DAY_OF_WEEK              0\n",
       "CRASH_MONTH                    0\n",
       "Boundaries - ZIP Codes      2128\n",
       "LIC_PLATE_STATE            12230\n",
       "VEHICLE_TYPE                   0\n",
       "MANEUVER                       0\n",
       "FIRST_CONTACT_POINT           86\n",
       "PERSON_TYPE                    0\n",
       "SEX                         7393\n",
       "AGE                        53949\n",
       "SAFETY_EQUIPMENT            1633\n",
       "AIRBAG_DEPLOYED            11910\n",
       "DRIVER_ACTION              96478\n",
       "DRIVER_VISION              96665\n",
       "PHYSICAL_CONDITION         96088\n",
       "BAC_RESULT                 96360\n",
       "YEAR                           0\n",
       "dtype: int64"
      ]
     },
     "execution_count": 7,
     "metadata": {},
     "output_type": "execute_result"
    }
   ],
   "source": [
    "master_df.isna().sum()"
   ]
  },
  {
   "cell_type": "markdown",
   "metadata": {},
   "source": [
    "# Andy's Space"
   ]
  },
  {
   "cell_type": "code",
   "execution_count": 8,
   "metadata": {
    "scrolled": true
   },
   "outputs": [
    {
     "data": {
      "text/plain": [
       "ROAD_DEFECT\n",
       "NO DEFECTS    301095\n",
       "DEFECTS         4503\n",
       "Name: count, dtype: int64"
      ]
     },
     "execution_count": 8,
     "metadata": {},
     "output_type": "execute_result"
    }
   ],
   "source": [
    "defect_dict = {\"NO DEFECTS\" : \"NO DEFECTS\", \"UNKNOWN\": \"NO DEFECTS\", \"WORN SURFACE\": \"DEFECTS\", \"OTHER\":\"DEFECTS\",\"RUT, HOLES\": \"DEFECTS\", \"SHOULDER DEFECT\":\"DEFECTS\", \"DEBRIS ON ROADWAY\": \"DEFECTS\"}\n",
    "\n",
    "master_df['ROAD_DEFECT'] = master_df['ROAD_DEFECT'].map(defect_dict)\n",
    "master_df['ROAD_DEFECT'].value_counts()"
   ]
  },
  {
   "cell_type": "code",
   "execution_count": 9,
   "metadata": {},
   "outputs": [
    {
     "data": {
      "text/plain": [
       "CRASH_TYPE\n",
       "INJURY AND / OR TOW DUE TO CRASH    305506\n",
       "NO INJURY / DRIVE AWAY                  92\n",
       "Name: count, dtype: int64"
      ]
     },
     "execution_count": 9,
     "metadata": {},
     "output_type": "execute_result"
    }
   ],
   "source": [
    "master_df[\"CRASH_TYPE\"].value_counts()"
   ]
  },
  {
   "cell_type": "code",
   "execution_count": 10,
   "metadata": {},
   "outputs": [
    {
     "data": {
      "text/plain": [
       "DAMAGE\n",
       "OVER $1500     259341\n",
       "UNDER $1500     46257\n",
       "Name: count, dtype: int64"
      ]
     },
     "execution_count": 10,
     "metadata": {},
     "output_type": "execute_result"
    }
   ],
   "source": [
    "master_df[\"DAMAGE\"].value_counts()\n",
    "master_df['DAMAGE'] = master_df['DAMAGE'].apply(lambda x: 'OVER $1500' if 'OVER $1,500' in x else \"UNDER $1500\")\n",
    "master_df['DAMAGE'].value_counts()"
   ]
  },
  {
   "cell_type": "code",
   "execution_count": 11,
   "metadata": {},
   "outputs": [
    {
     "data": {
      "text/plain": [
       "PRIM_CONTRIBUTORY_CAUSE\n",
       "UNABLE TO DETERMINE                                                                 83621\n",
       "FAILING TO YIELD RIGHT-OF-WAY                                                       53085\n",
       "FOLLOWING TOO CLOSELY                                                               26314\n",
       "FAILING TO REDUCE SPEED TO AVOID CRASH                                              26078\n",
       "DISREGARDING TRAFFIC SIGNALS                                                        24689\n",
       "IMPROPER TURNING/NO SIGNAL                                                          11340\n",
       "IMPROPER OVERTAKING/PASSING                                                          9315\n",
       "NOT APPLICABLE                                                                       9116\n",
       "DISREGARDING STOP SIGN                                                               8654\n",
       "OPERATING VEHICLE IN ERRATIC, RECKLESS, CARELESS, NEGLIGENT OR AGGRESSIVE MANNER     7296\n",
       "DRIVING SKILLS/KNOWLEDGE/EXPERIENCE                                                  6699\n",
       "IMPROPER LANE USAGE                                                                  6380\n",
       "PHYSICAL CONDITION OF DRIVER                                                         4674\n",
       "DRIVING ON WRONG SIDE/WRONG WAY                                                      4450\n",
       "WEATHER                                                                              3960\n",
       "UNDER THE INFLUENCE OF ALCOHOL/DRUGS (USE WHEN ARREST IS EFFECTED)                   3416\n",
       "DISTRACTION - FROM INSIDE VEHICLE                                                    3136\n",
       "EQUIPMENT - VEHICLE CONDITION                                                        2709\n",
       "VISION OBSCURED (SIGNS, TREE LIMBS, BUILDINGS, ETC.)                                 2261\n",
       "DISREGARDING OTHER TRAFFIC SIGNS                                                     1852\n",
       "DISTRACTION - FROM OUTSIDE VEHICLE                                                   1604\n",
       "IMPROPER BACKING                                                                     1554\n",
       "CELL PHONE USE OTHER THAN TEXTING                                                     597\n",
       "EVASIVE ACTION DUE TO ANIMAL, OBJECT, NONMOTORIST                                     588\n",
       "TURNING RIGHT ON RED                                                                  362\n",
       "DISREGARDING ROAD MARKINGS                                                            325\n",
       "HAD BEEN DRINKING (USE WHEN ARREST IS NOT MADE)                                       322\n",
       "ROAD CONSTRUCTION/MAINTENANCE                                                         265\n",
       "DISREGARDING YIELD SIGN                                                               187\n",
       "ROAD ENGINEERING/SURFACE/MARKING DEFECTS                                              164\n",
       "DISTRACTION - OTHER ELECTRONIC DEVICE (NAVIGATION DEVICE, DVD PLAYER, ETC.)           161\n",
       "ANIMAL                                                                                112\n",
       "TEXTING                                                                               100\n",
       "RELATED TO BUS STOP                                                                    83\n",
       "OBSTRUCTED CROSSWALKS                                                                  63\n",
       "PASSING STOPPED SCHOOL BUS                                                             23\n",
       "BICYCLE ADVANCING LEGALLY ON RED LIGHT                                                 23\n",
       "MOTORCYCLE ADVANCING LEGALLY ON RED LIGHT                                              20\n",
       "Name: count, dtype: int64"
      ]
     },
     "execution_count": 11,
     "metadata": {},
     "output_type": "execute_result"
    }
   ],
   "source": [
    "#talk about this with team\n",
    "master_df[\"PRIM_CONTRIBUTORY_CAUSE\"].value_counts()"
   ]
  },
  {
   "cell_type": "code",
   "execution_count": 12,
   "metadata": {},
   "outputs": [
    {
     "data": {
      "text/plain": [
       "PRIM_CONTRIBUTORY_CAUSE\n",
       "SIGNAGE/TRAFFIC CONTROL DEVICES    100090\n",
       "HUMAN FACTORS                       95907\n",
       "MISC FACTORS                        18567\n",
       "ENVIRONMENTAL FACTORS                6333\n",
       "INFRASTRUCTURE ISSUES                 492\n",
       "Name: count, dtype: int64"
      ]
     },
     "execution_count": 12,
     "metadata": {},
     "output_type": "execute_result"
    }
   ],
   "source": [
    "prim_cause_dict = { 'FOLLOWING TOO CLOSELY': \"HUMAN FACTORS\", 'FAILING TO REDUCE SPEED TO AVOID CRASH': \"HUMAN FACTORS\", \n",
    "                   'IMPROPER TURNING/NO SIGNAL': 'HUMAN FACTORS', 'IMPROPER OVERTAKING/PASSING' : 'HUMAN FACTORS',\n",
    "                   'OPERATING VEHICLE IN ERRATIC, RECKLESS, CARELESS, NEGLIGENT OR AGGRESSIVE MANNER': 'HUMAN FACTORS',\n",
    "                   'PHYSICAL CONDITION OF DRIVER': \"HUMAN FACTORS\", \n",
    "                   'UNDER THE INFLUENCE OF ALCOHOL/DRUGS (USE WHEN ARREST IS EFFECTED)': \"HUMAN FACTORS\",\n",
    "                   'DISTRACTION - FROM INSIDE VEHICLE':\"HUMAN FACTORS\", 'DISTRACTION - FROM OUTSIDE VEHICLE': 'HUMAN FACTORS',\n",
    "                   'TEXTING':\"HUMAN FACTORS\", 'IMPROPER BACKING':\"HUMAN FACTORS\", 'CELL PHONE USE OTHER THAN TEXTING': \"HUMAN FACTORS\",\n",
    "                   'HAD BEEN DRINKING (USE WHEN ARREST IS NOT MADE)': \"HUMAN FACTORS\", \n",
    "                   'DISTRACTION - OTHER ELECTRONIC DEVICE (NAVIGATION DEVICE, DVD PLAYER, ETC.)':\"HUMAN FACTORS\",\n",
    "                   'VISION OBSCURED (SIGNS, TREE LIMBS, BUILDINGS, ETC.)': \"ENVIRONMENTAL FACTORS\", 'ANIMAL': \"ENVIRONMENTAL FACTORS\",\n",
    "                   'WEATHER': \"ENVIRONMENTAL FACTORS\", 'EVASIVE ACTION DUE TO ANIMAL,OBJECT, NONMOTORIST': \"ENVIRONMENTAL FACTORS\",\n",
    "                   'FAILING TO YIELD RIGHT-OF-WAY':\"SIGNAGE/TRAFFIC CONTROL DEVICES\", 'DISREGARDING TRAFFIC SIGNALS': \"SIGNAGE/TRAFFIC CONTROL DEVICES\",\n",
    "                   'DISREGARDING STOP SIGN':\"SIGNAGE/TRAFFIC CONTROL DEVICES\", 'DRIVING ON WRONG SIDE/WRONG WAY':\"SIGNAGE/TRAFFIC CONTROL DEVICES\",\n",
    "                   'IMPROPER LANE USAGE': \"SIGNAGE/TRAFFIC CONTROL DEVICES\", 'DISREGARDING OTHER TRAFFIC SIGNS':\"SIGNAGE/TRAFFIC CONTROL DEVICES\",\n",
    "                   'TURNING RIGHT ON RED': \"SIGNAGE/TRAFFIC CONTROL DEVICES\", 'DISREGARDING ROAD MARKINGS':\"SIGNAGE/TRAFFIC CONTROL DEVICES\",\n",
    "                   'DISREGARDING YIELD SIGN': \"SIGNAGE/TRAFFIC CONTROL DEVICES\", 'RELATED TO BUS STOP': \"SIGNAGE/TRAFFIC CONTROL DEVICES\",\n",
    "                   'PASSING STOPPED SCHOOL BUS': \"SIGNAGE/TRAFFIC CONTROL DEVICES\", \n",
    "                   'ROAD CONSTRUCTION/MAINTENANCE': \"INFRASTRUCTURE ISSUES\", 'ROAD ENGINEERING/SURFACE/MARKING DEFECTS': \"INFRASTRUCTURE ISSUES\",\n",
    "                   'OBSTRUCTED CROSSWALKS': \"INFRASTRUCTURE ISSUES\", \n",
    "                   'DRIVING SKILLS/KNOWLEDGE/EXPERIENCE': \"MISC FACTORS\", 'BICYCLE ADVANCING LEGALLY ON RED LIGHT':\"MISC FACTORS\",\n",
    "                   'MOTORCYCLE ADVANCING LEGALLY ON RED LIGHT':\"MISC FACTORS\", 'EQUIPMENT - VEHICLE CONDITION': \"MISC FACTORS\",\n",
    "                   'NOT APPLICABLE': \"MISC FACTORS\"\n",
    "              }\n",
    "\n",
    "master_df['PRIM_CONTRIBUTORY_CAUSE'] = master_df['PRIM_CONTRIBUTORY_CAUSE'].map(prim_cause_dict)\n",
    "master_df['PRIM_CONTRIBUTORY_CAUSE'].value_counts()"
   ]
  },
  {
   "cell_type": "markdown",
   "metadata": {},
   "source": [
    "<details>\n",
    "  <summary>**Click Me to Expand Breakdown of PRIM_CONTRIBUTORY_CAUSE**</summary>\n",
    "    \n",
    "  **human factors:**\n",
    "    - 'FOLLOWING TOO CLOSELY', \n",
    "    - 'FAILING TO REDUCE SPEED TO AVOID CRASH',\n",
    "    - 'IMPROPER TURNING/NO SIGNAL',\n",
    "    - 'IMPROPER OVERTAKING/PASSING', \n",
    "    - 'OPERATING VEHICLE IN ERRATIC, RECKLESS, CARELESS, NEGLIGENT OR AGGRESSIVE MANNER',\n",
    "    - 'PHYSICAL CONDITION OF DRIVER',\n",
    "    - 'UNDER THE INFLUENCE OF ALCOHOL/DRUGS (USE WHEN ARREST IS EFFECTED)',\n",
    "    - 'DISTRACTION - FROM INSIDE VEHICLE',\n",
    "    - 'DISTRACTION - FROM OUTSIDE VEHICLE',\n",
    "    - 'TEXTING',\n",
    "    - 'IMPROPER BACKING',\n",
    "    - 'CELL PHONE USE OTHER THAN TEXTING',\n",
    "    - 'HAD BEEN DRINKING (USE WHEN ARREST IS NOT MADE)',\n",
    "    - 'DISTRACTION - OTHER ELECTRONIC DEVICE (NAVIGATION DEVICE, DVD PLAYER, ETC.)',\n",
    "\n",
    "**environmental factors:** \n",
    "    - 'VISION OBSCURED (SIGNS, TREE LIMBS, BUILDINGS, ETC.)',\n",
    "    - 'ANIMAL', \n",
    "    - 'WEATHER',\n",
    "    - 'EVASIVE ACTION DUE TO ANIMAL,OBJECT, NONMOTORIST',\n",
    "\n",
    "**traffic control devices/signage:**\n",
    "    - 'FAILING TO YIELD RIGHT-OF-WAY',\n",
    "    - 'DISREGARDING TRAFFIC SIGNALS',\n",
    "    - 'DISREGARDING STOP SIGN',\n",
    "    - 'DRIVING ON WRONG SIDE/WRONG WAY',\n",
    "    - 'IMPROPER LANE USAGE',\n",
    "    - 'DISREGARDING OTHER TRAFFIC SIGNS',\n",
    "    - 'TURNING RIGHT ON RED',\n",
    "    - 'DISREGARDING ROAD MARKINGS',\n",
    "    - 'DISREGARDING YIELD SIGN',\n",
    "    - 'RELATED TO BUS STOP', \n",
    "    - 'PASSING STOPPED SCHOOL BUS',\n",
    "\n",
    "**infrastructure issues:**\n",
    "    - 'ROAD CONSTRUCTION/MAINTENANCE', \n",
    "    - 'ROAD ENGINEERING/SURFACE/MARKING DEFECTS',\n",
    "    - 'OBSTRUCTED CROSSWALKS',\n",
    "\n",
    "**misc factors:**\n",
    "    - 'DRIVING SKILLS/KNOWLEDGE/EXPERIENCE', \n",
    "    - 'BICYCLE ADVANCING LEGALLY ON RED LIGHT', \n",
    "    - 'MOTORCYCLE ADVANCING LEGALLY ON RED LIGHT'\n",
    "    - 'EQUIPMENT - VEHICLE CONDITION',\n",
    "- 'NOT APPLICABLE'\n",
    "\n",
    "--\n",
    "'UNABLE TO DETERMINE', - to be dropped\n",
    "\n",
    "</details>"
   ]
  },
  {
   "cell_type": "code",
   "execution_count": 13,
   "metadata": {
    "scrolled": true
   },
   "outputs": [
    {
     "data": {
      "text/plain": [
       "NUM_UNITS\n",
       "2     202015\n",
       "3      61190\n",
       "4      22690\n",
       "5       7534\n",
       "1       5671\n",
       "6       3596\n",
       "7       1409\n",
       "8       1014\n",
       "9        291\n",
       "12       131\n",
       "11        53\n",
       "14         4\n",
       "Name: count, dtype: int64"
      ]
     },
     "execution_count": 13,
     "metadata": {},
     "output_type": "execute_result"
    }
   ],
   "source": [
    "master_df[\"NUM_UNITS\"].value_counts()\n",
    "#in int form already"
   ]
  },
  {
   "cell_type": "code",
   "execution_count": 14,
   "metadata": {},
   "outputs": [
    {
     "data": {
      "text/plain": [
       "SEVERE_INJURY\n",
       "MINOR INJURIES    267484\n",
       "MAJOR INJURIES     35384\n",
       "FATAL               2730\n",
       "Name: count, dtype: int64"
      ]
     },
     "execution_count": 14,
     "metadata": {},
     "output_type": "execute_result"
    }
   ],
   "source": [
    "#change to no injury, minor, major, fatality\n",
    "master_df[\"MOST_SEVERE_INJURY\"].value_counts()\n",
    "\n",
    "injury_dict = {'NONINCAPACITATING INJURY': 'MINOR INJURIES',\n",
    "              'REPORTED, NOT EVIDENT': 'MINOR INJURIES', 'INCAPACITATING INJURY' : 'MAJOR INJURIES',\n",
    "              'FATAL': 'FATAL'}\n",
    "\n",
    "master_df['SEVERE_INJURY'] = master_df['MOST_SEVERE_INJURY'].map(injury_dict)\n",
    "master_df.drop(labels=\"MOST_SEVERE_INJURY\", axis=1, inplace=True)\n",
    "master_df['SEVERE_INJURY'].value_counts()"
   ]
  },
  {
   "cell_type": "code",
   "execution_count": 15,
   "metadata": {},
   "outputs": [
    {
     "data": {
      "text/plain": [
       "CRASH_MONTH\n",
       "7     32695\n",
       "6     30152\n",
       "8     29755\n",
       "10    29626\n",
       "9     29217\n",
       "5     28983\n",
       "4     23074\n",
       "3     22853\n",
       "1     22210\n",
       "2     20199\n",
       "11    19574\n",
       "12    17260\n",
       "Name: count, dtype: int64"
      ]
     },
     "execution_count": 15,
     "metadata": {},
     "output_type": "execute_result"
    }
   ],
   "source": [
    "master_df[\"INJURIES_TOTAL\"].value_counts()\n",
    "master_df[\"CRASH_HOUR\"].value_counts()\n",
    "master_df[\"CRASH_DAY_OF_WEEK\"].value_counts()\n",
    "master_df[\"CRASH_MONTH\"].value_counts()\n",
    "#int form already"
   ]
  },
  {
   "cell_type": "code",
   "execution_count": 16,
   "metadata": {},
   "outputs": [
    {
     "name": "stdout",
     "output_type": "stream",
     "text": [
      "<class 'pandas.core.frame.DataFrame'>\n",
      "Index: 305598 entries, 14 to 1858292\n",
      "Data columns (total 35 columns):\n",
      " #   Column                   Non-Null Count   Dtype         \n",
      "---  ------                   --------------   -----         \n",
      " 0   CRASH_RECORD_ID          305598 non-null  object        \n",
      " 1   CRASH_DATE               305598 non-null  datetime64[ns]\n",
      " 2   POSTED_SPEED_LIMIT       305598 non-null  int64         \n",
      " 3   TRAFFIC_CONTROL_DEVICE   305598 non-null  object        \n",
      " 4   DEVICE_CONDITION         305598 non-null  object        \n",
      " 5   WEATHER_CONDITION        305598 non-null  object        \n",
      " 6   LIGHTING_CONDITION       305598 non-null  object        \n",
      " 7   FIRST_CRASH_TYPE         305598 non-null  object        \n",
      " 8   TRAFFICWAY_TYPE          305598 non-null  object        \n",
      " 9   ALIGNMENT                305598 non-null  object        \n",
      " 10  ROADWAY_SURFACE_COND     305598 non-null  object        \n",
      " 11  ROAD_DEFECT              305598 non-null  object        \n",
      " 12  CRASH_TYPE               305598 non-null  object        \n",
      " 13  DAMAGE                   305598 non-null  object        \n",
      " 14  PRIM_CONTRIBUTORY_CAUSE  221389 non-null  object        \n",
      " 15  NUM_UNITS                305598 non-null  int64         \n",
      " 16  INJURIES_TOTAL           305598 non-null  float64       \n",
      " 17  CRASH_HOUR               305598 non-null  int64         \n",
      " 18  CRASH_DAY_OF_WEEK        305598 non-null  int64         \n",
      " 19  CRASH_MONTH              305598 non-null  int64         \n",
      " 20  Boundaries - ZIP Codes   303470 non-null  float64       \n",
      " 21  VEHICLE_TYPE             305598 non-null  object        \n",
      " 22  MANEUVER                 305598 non-null  object        \n",
      " 23  FIRST_CONTACT_POINT      305512 non-null  object        \n",
      " 24  PERSON_TYPE              305598 non-null  object        \n",
      " 25  SEX                      298205 non-null  object        \n",
      " 26  AGE                      251649 non-null  float64       \n",
      " 27  SAFETY_EQUIPMENT         303965 non-null  object        \n",
      " 28  AIRBAG_DEPLOYED          293688 non-null  object        \n",
      " 29  DRIVER_ACTION            209120 non-null  object        \n",
      " 30  DRIVER_VISION            208933 non-null  object        \n",
      " 31  PHYSICAL_CONDITION       209510 non-null  object        \n",
      " 32  BAC_RESULT               209238 non-null  object        \n",
      " 33  YEAR                     305598 non-null  int32         \n",
      " 34  SEVERE_INJURY            305598 non-null  object        \n",
      "dtypes: datetime64[ns](1), float64(3), int32(1), int64(5), object(25)\n",
      "memory usage: 82.8+ MB\n"
     ]
    }
   ],
   "source": [
    "master_df[\"LIC_PLATE_STATE\"].value_counts()\n",
    "master_df.drop(labels=\"LIC_PLATE_STATE\", axis=1, inplace=True)\n",
    "master_df.info()"
   ]
  },
  {
   "cell_type": "code",
   "execution_count": 17,
   "metadata": {},
   "outputs": [
    {
     "name": "stdout",
     "output_type": "stream",
     "text": [
      "<class 'pandas.core.frame.DataFrame'>\n",
      "Index: 305598 entries, 14 to 1858292\n",
      "Data columns (total 35 columns):\n",
      " #   Column                   Non-Null Count   Dtype         \n",
      "---  ------                   --------------   -----         \n",
      " 0   CRASH_RECORD_ID          305598 non-null  object        \n",
      " 1   CRASH_DATE               305598 non-null  datetime64[ns]\n",
      " 2   POSTED_SPEED_LIMIT       305598 non-null  int64         \n",
      " 3   TRAFFIC_CONTROL_DEVICE   305598 non-null  object        \n",
      " 4   DEVICE_CONDITION         305598 non-null  object        \n",
      " 5   WEATHER_CONDITION        305598 non-null  object        \n",
      " 6   LIGHTING_CONDITION       305598 non-null  object        \n",
      " 7   FIRST_CRASH_TYPE         305598 non-null  object        \n",
      " 8   TRAFFICWAY_TYPE          305598 non-null  object        \n",
      " 9   ALIGNMENT                305598 non-null  object        \n",
      " 10  ROADWAY_SURFACE_COND     305598 non-null  object        \n",
      " 11  ROAD_DEFECT              305598 non-null  object        \n",
      " 12  CRASH_TYPE               305598 non-null  object        \n",
      " 13  DAMAGE                   305598 non-null  object        \n",
      " 14  PRIM_CONTRIBUTORY_CAUSE  221389 non-null  object        \n",
      " 15  NUM_UNITS                305598 non-null  int64         \n",
      " 16  INJURIES_TOTAL           305598 non-null  float64       \n",
      " 17  CRASH_HOUR               305598 non-null  int64         \n",
      " 18  CRASH_DAY_OF_WEEK        305598 non-null  int64         \n",
      " 19  CRASH_MONTH              305598 non-null  int64         \n",
      " 20  Boundaries - ZIP Codes   303470 non-null  float64       \n",
      " 21  VEHICLE_TYPE             305598 non-null  object        \n",
      " 22  MANEUVER                 305598 non-null  object        \n",
      " 23  FIRST_CONTACT_POINT      305512 non-null  object        \n",
      " 24  PERSON_TYPE              305598 non-null  object        \n",
      " 25  SEX                      298205 non-null  object        \n",
      " 26  AGE                      251649 non-null  float64       \n",
      " 27  SAFETY_EQUIPMENT         303965 non-null  object        \n",
      " 28  AIRBAG_DEPLOYED          293688 non-null  object        \n",
      " 29  DRIVER_ACTION            209120 non-null  object        \n",
      " 30  DRIVER_VISION            208933 non-null  object        \n",
      " 31  PHYSICAL_CONDITION       209510 non-null  object        \n",
      " 32  BAC_RESULT               209238 non-null  object        \n",
      " 33  YEAR                     305598 non-null  int32         \n",
      " 34  SEVERE_INJURY            305598 non-null  object        \n",
      "dtypes: datetime64[ns](1), float64(3), int32(1), int64(5), object(25)\n",
      "memory usage: 82.8+ MB\n"
     ]
    }
   ],
   "source": [
    "master_df.info()"
   ]
  },
  {
   "cell_type": "markdown",
   "metadata": {},
   "source": [
    "# Harshitha's Space"
   ]
  },
  {
   "cell_type": "code",
   "execution_count": 32,
   "metadata": {},
   "outputs": [],
   "source": [
    "# DROP unnecessary columns\n",
    "# master_df.drop(columns=['CRASH_RECORD_ID', 'CRASH_DATE'], inplace=True)"
   ]
  },
  {
   "cell_type": "code",
   "execution_count": 31,
   "metadata": {},
   "outputs": [
    {
     "data": {
      "text/plain": [
       "YEAR\n",
       "2021    78859\n",
       "2022    75797\n",
       "2023    71624\n",
       "2020    68767\n",
       "Name: count, dtype: int64"
      ]
     },
     "execution_count": 31,
     "metadata": {},
     "output_type": "execute_result"
    }
   ],
   "source": [
    "master_df[\"YEAR\"].value_counts()"
   ]
  },
  {
   "cell_type": "code",
   "execution_count": 33,
   "metadata": {},
   "outputs": [
    {
     "data": {
      "text/plain": [
       "POSTED_SPEED_LIMIT\n",
       "30    233677\n",
       "35     26340\n",
       "25     13814\n",
       "20      6460\n",
       "40      5630\n",
       "45      3353\n",
       "15      3342\n",
       "10      1483\n",
       "55       333\n",
       "5        209\n",
       "0        130\n",
       "50       108\n",
       "3         60\n",
       "39        40\n",
       "60        31\n",
       "26        14\n",
       "7          8\n",
       "9          4\n",
       "33         4\n",
       "24         2\n",
       "34         2\n",
       "29         2\n",
       "2          1\n",
       "Name: count, dtype: int64"
      ]
     },
     "execution_count": 33,
     "metadata": {},
     "output_type": "execute_result"
    }
   ],
   "source": [
    "master_df[\"POSTED_SPEED_LIMIT\"].value_counts()"
   ]
  },
  {
   "cell_type": "code",
   "execution_count": 34,
   "metadata": {},
   "outputs": [
    {
     "data": {
      "text/plain": [
       "TRAFFIC_CONTROL_DEVICE\n",
       "TRAFFIC SIGNAL              126153\n",
       "NO CONTROLS                 111344\n",
       "STOP SIGN/FLASHER            46214\n",
       "UNKNOWN                       6480\n",
       "OTHER                         1879\n",
       "YIELD                          693\n",
       "PEDESTRIAN CROSSING SIGN       475\n",
       "FLASHING CONTROL SIGNAL        339\n",
       "DELINEATORS                    308\n",
       "SCHOOL ZONE                    257\n",
       "RAILROAD CROSSING GATE         257\n",
       "OTHER REG. SIGN                236\n",
       "OTHER WARNING SIGN             168\n",
       "POLICE/FLAGMAN                 107\n",
       "OTHER RAILROAD CROSSING         71\n",
       "RR CROSSING SIGN                40\n",
       "BICYCLE CROSSING SIGN           18\n",
       "NO PASSING                       8\n",
       "Name: count, dtype: int64"
      ]
     },
     "execution_count": 34,
     "metadata": {},
     "output_type": "execute_result"
    }
   ],
   "source": [
    "# can bin this into binary, Yes or no\n",
    "master_df[\"TRAFFIC_CONTROL_DEVICE\"].value_counts()"
   ]
  },
  {
   "cell_type": "code",
   "execution_count": 35,
   "metadata": {},
   "outputs": [
    {
     "data": {
      "text/plain": [
       "TRAFFIC_CONTROL_DEVICE\n",
       "SIGNAL                      126492\n",
       "NO CONTROLS                 111344\n",
       "STOP SIGN/FLASHER            46214\n",
       "UNKNOWN                       6480\n",
       "OTHER                         1879\n",
       "YIELD                          693\n",
       "PEDESTRIAN CROSSING SIGN       475\n",
       "DELINEATORS                    308\n",
       "SCHOOL ZONE                    257\n",
       "RAILROAD CROSSING GATE         257\n",
       "OTHER REG. SIGN                236\n",
       "OTHER WARNING SIGN             168\n",
       "POLICE/FLAGMAN                 107\n",
       "OTHER RAILROAD CROSSING         71\n",
       "RR CROSSING SIGN                40\n",
       "BICYCLE CROSSING SIGN           18\n",
       "NO PASSING                       8\n",
       "Name: count, dtype: int64"
      ]
     },
     "execution_count": 35,
     "metadata": {},
     "output_type": "execute_result"
    }
   ],
   "source": [
    "master_df['TRAFFIC_CONTROL_DEVICE'] = master_df['TRAFFIC_CONTROL_DEVICE'].apply(lambda x: 'SIGNAL' if 'SIGNAL' in x else x)\n",
    "master_df['TRAFFIC_CONTROL_DEVICE'].value_counts()"
   ]
  },
  {
   "cell_type": "code",
   "execution_count": 36,
   "metadata": {},
   "outputs": [
    {
     "data": {
      "text/plain": [
       "TRAFFIC_CONTROL_DEVICE\n",
       "SIGNAL                     126492\n",
       "NO CONTROLS                111344\n",
       "SIGN                        47151\n",
       "UNKNOWN                      6480\n",
       "OTHER                        1879\n",
       "YIELD                         693\n",
       "DELINEATORS                   308\n",
       "RAILROAD CROSSING GATE        257\n",
       "SCHOOL ZONE                   257\n",
       "POLICE/FLAGMAN                107\n",
       "OTHER RAILROAD CROSSING        71\n",
       "NO PASSING                      8\n",
       "Name: count, dtype: int64"
      ]
     },
     "execution_count": 36,
     "metadata": {},
     "output_type": "execute_result"
    }
   ],
   "source": [
    "master_df['TRAFFIC_CONTROL_DEVICE'] = master_df['TRAFFIC_CONTROL_DEVICE'].apply(lambda x: 'SIGN' if ' SIGN' in x else x)\n",
    "master_df['TRAFFIC_CONTROL_DEVICE'].value_counts()"
   ]
  },
  {
   "cell_type": "code",
   "execution_count": 38,
   "metadata": {},
   "outputs": [
    {
     "data": {
      "text/plain": [
       "TRAFFIC_CONTROL_DEVICE\n",
       "SIGNAL         126820\n",
       "NO CONTROLS    111344\n",
       "SIGN            48109\n",
       "OTHER            8774\n",
       "Name: count, dtype: int64"
      ]
     },
     "execution_count": 38,
     "metadata": {},
     "output_type": "execute_result"
    }
   ],
   "source": [
    "traffic_dict = {'NO CONTROLS': 'NO CONTROLS', 'SIGNAL':'SIGNAL', 'SIGN': 'SIGN', 'UNKNOWN': 'OTHER',\n",
    "               'OTHER': 'OTHER', 'LANE USE MARKING': 'SIGN', 'YIELD':'SIGN', 'RAILROAD CROSSING GATE': 'SIGNAL',\n",
    "               'SCHOOL ZONE': 'SIGN', 'DELINEATORS': 'OTHER', 'POLICE/FLAGMAN': 'OTHER', \n",
    "               'OTHER RAILROAD CROSSING': 'SIGNAL', 'NO PASSING': 'SIGN', }\n",
    "master_df['TRAFFIC_CONTROL_DEVICE'] = master_df['TRAFFIC_CONTROL_DEVICE'].map(traffic_dict)\n",
    "master_df['TRAFFIC_CONTROL_DEVICE'].value_counts()"
   ]
  },
  {
   "cell_type": "code",
   "execution_count": 40,
   "metadata": {},
   "outputs": [
    {
     "data": {
      "text/plain": [
       "DEVICE_CONDITION\n",
       "FUNCTIONING PROPERLY        158188\n",
       "NO CONTROLS                 115641\n",
       "UNKNOWN                      15556\n",
       "OTHER                         2494\n",
       "FUNCTIONING IMPROPERLY        1859\n",
       "NOT FUNCTIONING               1168\n",
       "WORN REFLECTIVE MATERIAL        98\n",
       "MISSING                         43\n",
       "Name: count, dtype: int64"
      ]
     },
     "execution_count": 40,
     "metadata": {},
     "output_type": "execute_result"
    }
   ],
   "source": [
    "master_df['DEVICE_CONDITION'].value_counts()"
   ]
  },
  {
   "cell_type": "code",
   "execution_count": 42,
   "metadata": {},
   "outputs": [
    {
     "data": {
      "text/plain": [
       "DEVICE_CONDITION\n",
       "FUNCTIONING PROPERLY               160780\n",
       "NO CONTROLS                        131197\n",
       "FUNCTIONING IMPROPERLY/ MISSING      3070\n",
       "Name: count, dtype: int64"
      ]
     },
     "execution_count": 42,
     "metadata": {},
     "output_type": "execute_result"
    }
   ],
   "source": [
    "device_dict = {'NO CONTROLS': 'NO CONTROLS',\n",
    "               'FUNCTIONING PROPERLY': 'FUNCTIONING PROPERLY',\n",
    "               'UNKNOWN': 'NO CONTROLS',\n",
    "               'FUNCTIONING IMPROPERLY':'FUNCTIONING IMPROPERLY/ MISSING',\n",
    "               'NOT FUNCTIONING':'FUNCTIONING IMPROPERLY/ MISSING',\n",
    "               'WORN REFLECTIVE MATERIAL': 'FUNCTIONING PROPERLY',\n",
    "               'MISSING': 'FUNCTIONING IMPROPERLY/ MISSING',\n",
    "               'OTHER': 'FUNCTIONING PROPERLY'}\n",
    "master_df['DEVICE_CONDITION'] = master_df['DEVICE_CONDITION'].map(device_dict)\n",
    "master_df['DEVICE_CONDITION'].value_counts()"
   ]
  },
  {
   "cell_type": "code",
   "execution_count": 44,
   "metadata": {},
   "outputs": [
    {
     "data": {
      "text/plain": [
       "WEATHER_CONDITION\n",
       "CLEAR                       241669\n",
       "RAIN                         29409\n",
       "CLOUDY/OVERCAST               8640\n",
       "SNOW                          7626\n",
       "UNKNOWN                       4299\n",
       "OTHER                         1194\n",
       "FREEZING RAIN/DRIZZLE         1134\n",
       "FOG/SMOKE/HAZE                 379\n",
       "BLOWING SNOW                   377\n",
       "SLEET/HAIL                     257\n",
       "SEVERE CROSS WIND GATE          61\n",
       "BLOWING SAND, SOIL, DIRT         2\n",
       "Name: count, dtype: int64"
      ]
     },
     "execution_count": 44,
     "metadata": {},
     "output_type": "execute_result"
    }
   ],
   "source": [
    "# bin into clear or not clear? unknown = clear, other=clear \n",
    "master_df[\"WEATHER_CONDITION\"].value_counts()"
   ]
  },
  {
   "cell_type": "code",
   "execution_count": 46,
   "metadata": {},
   "outputs": [
    {
     "data": {
      "text/plain": [
       "WEATHER_CONDITION\n",
       "CLEAR        247162\n",
       "INCLEMENT     47885\n",
       "Name: count, dtype: int64"
      ]
     },
     "execution_count": 46,
     "metadata": {},
     "output_type": "execute_result"
    }
   ],
   "source": [
    "weather_dict = {'CLEAR': 'CLEAR', 'RAIN': 'INCLEMENT', 'CLOUDY/OVERCAST': 'INCLEMENT', 'SNOW': 'INCLEMENT', 'UNKNOWN': 'CLEAR', 'OTHER': 'CLEAR',\n",
    "                'FREEZING RAIN/DRIZZLE': 'INCLEMENT', 'BLOWING SNOW':'INCLEMENT', 'FOG/SMOKE/HAZE': 'INCLEMENT', 'SLEET/HAIL': 'INCLEMENT', 'SEVERE CROSS WIND GATE': 'INCLEMENT',\n",
    "                'BLOWING SAND, SOIL, DIRT': 'INCLEMENT'\n",
    "               }\n",
    "master_df['WEATHER_CONDITION'] = master_df['WEATHER_CONDITION'].map(weather_dict)\n",
    "master_df['WEATHER_CONDITION'].value_counts()"
   ]
  },
  {
   "cell_type": "code",
   "execution_count": 48,
   "metadata": {},
   "outputs": [
    {
     "data": {
      "text/plain": [
       "LIGHTING_CONDITION\n",
       "DAYLIGHT                  182246\n",
       "DARKNESS, LIGHTED ROAD     85117\n",
       "DARKNESS                   11130\n",
       "DUSK                        9077\n",
       "DAWN                        4836\n",
       "UNKNOWN                     2641\n",
       "Name: count, dtype: int64"
      ]
     },
     "execution_count": 48,
     "metadata": {},
     "output_type": "execute_result"
    }
   ],
   "source": [
    "master_df[\"LIGHTING_CONDITION\"].value_counts()"
   ]
  },
  {
   "cell_type": "code",
   "execution_count": 50,
   "metadata": {},
   "outputs": [
    {
     "data": {
      "text/plain": [
       "LIGHTING_CONDITION\n",
       "VISIBLE                  184887\n",
       "DIMINISHED VISIBILITY    110160\n",
       "Name: count, dtype: int64"
      ]
     },
     "execution_count": 50,
     "metadata": {},
     "output_type": "execute_result"
    }
   ],
   "source": [
    "lighting_dict = {'DAYLIGHT':'VISIBLE','DARKNESS, LIGHTED ROAD':'DIMINISHED VISIBILITY', 'DARKNESS':'DIMINISHED VISIBILITY',\n",
    "                'DUSK':'DIMINISHED VISIBILITY', 'DAWN': 'DIMINISHED VISIBILITY', 'UNKNOWN': 'VISIBLE'}\n",
    "master_df['LIGHTING_CONDITION'] = master_df['LIGHTING_CONDITION'].map(lighting_dict)\n",
    "master_df['LIGHTING_CONDITION'].value_counts()"
   ]
  },
  {
   "cell_type": "code",
   "execution_count": 53,
   "metadata": {},
   "outputs": [
    {
     "data": {
      "text/plain": [
       "FIRST_CRASH_TYPE\n",
       "REAR END                        76426\n",
       "ANGLE                           71873\n",
       "TURNING                         62795\n",
       "SIDESWIPE SAME DIRECTION        21119\n",
       "PARKED MOTOR VEHICLE            17153\n",
       "PEDESTRIAN                      13729\n",
       "HEAD ON                          8609\n",
       "PEDALCYCLIST                     8233\n",
       "FIXED OBJECT                     6004\n",
       "SIDESWIPE OPPOSITE DIRECTION     4714\n",
       "REAR TO FRONT                    1436\n",
       "REAR TO SIDE                     1425\n",
       "OTHER OBJECT                     1039\n",
       "OVERTURNED                        217\n",
       "OTHER NONCOLLISION                133\n",
       "REAR TO REAR                       87\n",
       "ANIMAL                             28\n",
       "TRAIN                              27\n",
       "Name: count, dtype: int64"
      ]
     },
     "execution_count": 53,
     "metadata": {},
     "output_type": "execute_result"
    }
   ],
   "source": [
    "# Looking at the FIRST_CRASH_TYPE column \n",
    "master_df['FIRST_CRASH_TYPE'].value_counts()"
   ]
  },
  {
   "cell_type": "code",
   "execution_count": 54,
   "metadata": {},
   "outputs": [
    {
     "data": {
      "text/plain": [
       "FIRST_CRASH_TYPE\n",
       "REAR END            76426\n",
       "ANGLE               71873\n",
       "TURNING             62795\n",
       "SIDE SWIPE          25833\n",
       "OBJECT              24196\n",
       "PERSON OR ANIMAL    21990\n",
       "OTHER               11934\n",
       "Name: count, dtype: int64"
      ]
     },
     "execution_count": 54,
     "metadata": {},
     "output_type": "execute_result"
    }
   ],
   "source": [
    "first_crash_dict = {'REAR END': 'REAR END', 'SIDESWIPE SAME DIRECTION': 'SIDE SWIPE', 'TURNING': 'TURNING', 'PARKED MOTOR VEHICLE': 'OBJECT', 'ANGLE': 'ANGLE', 'PEDESTRIAN': 'PERSON OR ANIMAL',\n",
    "                    'SIDESWIPE OPPOSITE DIRECTION': 'SIDE SWIPE', 'FIXED OBJECT': 'OBJECT', 'PEDALCYCLIST': 'PERSON OR ANIMAL', 'HEAD ON': 'OTHER', 'REAR TO FRONT': 'OTHER',\n",
    "                    'REAR TO SIDE': 'OTHER', 'OTHER OBJECT': 'OBJECT', 'REAR TO REAR': 'OTHER', 'OTHER NONCOLLISION': 'OTHER', 'ANIMAL': 'PERSON OR ANIMAL', 'OVERTURNED': 'OTHER', 'TRAIN': 'OTHER'\n",
    "                    }\n",
    "master_df['FIRST_CRASH_TYPE'] = master_df['FIRST_CRASH_TYPE'].map(first_crash_dict)\n",
    "master_df['FIRST_CRASH_TYPE'].value_counts()"
   ]
  },
  {
   "cell_type": "code",
   "execution_count": 55,
   "metadata": {},
   "outputs": [
    {
     "data": {
      "text/plain": [
       "TRAFFICWAY_TYPE\n",
       "NOT DIVIDED                        112430\n",
       "FOUR WAY                            64229\n",
       "DIVIDED - W/MEDIAN (NOT RAISED)     46579\n",
       "DIVIDED - W/MEDIAN BARRIER          21970\n",
       "ONE-WAY                             17223\n",
       "T-INTERSECTION                      10511\n",
       "OTHER                                5054\n",
       "PARKING LOT                          3653\n",
       "CENTER TURN LANE                     2891\n",
       "UNKNOWN INTERSECTION TYPE            2364\n",
       "ALLEY                                1727\n",
       "FIVE POINT, OR MORE                  1175\n",
       "Y-INTERSECTION                       1155\n",
       "TRAFFIC ROUTE                        1026\n",
       "UNKNOWN                               959\n",
       "NOT REPORTED                          822\n",
       "RAMP                                  614\n",
       "DRIVEWAY                              426\n",
       "L-INTERSECTION                        152\n",
       "ROUNDABOUT                             87\n",
       "Name: count, dtype: int64"
      ]
     },
     "execution_count": 55,
     "metadata": {},
     "output_type": "execute_result"
    }
   ],
   "source": [
    "master_df['TRAFFICWAY_TYPE'].value_counts()"
   ]
  },
  {
   "cell_type": "code",
   "execution_count": 56,
   "metadata": {},
   "outputs": [
    {
     "data": {
      "text/plain": [
       "TRAFFICWAY_TYPE\n",
       "NOT DIVIDED     113389\n",
       "OTHER            98840\n",
       "DIVIDED          68549\n",
       "INTERSECTION     14269\n",
       "Name: count, dtype: int64"
      ]
     },
     "execution_count": 56,
     "metadata": {},
     "output_type": "execute_result"
    }
   ],
   "source": [
    "#  \n",
    "trafficway_dict = {'NOT DIVIDED': 'NOT DIVIDED', 'DIVIDED - W/MEDIAN (NOT RAISED)': 'DIVIDED', 'ONE-WAY': 'OTHER', 'FOUR WAY': 'OTHER', 'DIVIDED - W/MEDIAN BARRIER': 'DIVIDED',\n",
    "                    'PARKING LOT': 'OTHER', 'OTHER': 'OTHER', 'T-INTERSECTION': 'INTERSECTION', 'ALLEY': 'OTHER', 'UNKNOWN': 'NOT DIVIDED', 'CENTER TURN LANE': 'OTHER', \n",
    "                    'UNKNOWN INTERSECTION TYPE': 'INTERSECTION', 'RAMP': 'OTHER', 'DRIVEWAY': 'OTHER', 'FIVE POINT, OR MORE': 'OTHER', 'Y-INTERSECTION': 'INTERSECTION', \n",
    "                    'TRAFFIC ROUTE': 'OTHER', 'NOT REPORTED': 'OTHER', 'ROUNDABOUT': 'INTERSECTION', 'L-INTERSECTION': 'INTERSECTION'\n",
    "               }\n",
    "master_df['TRAFFICWAY_TYPE'] = master_df['TRAFFICWAY_TYPE'].map(trafficway_dict)\n",
    "master_df['TRAFFICWAY_TYPE'].value_counts()"
   ]
  },
  {
   "cell_type": "code",
   "execution_count": 57,
   "metadata": {},
   "outputs": [
    {
     "data": {
      "text/plain": [
       "ALIGNMENT\n",
       "STRAIGHT        291999\n",
       "NOT STRAIGHT      3048\n",
       "Name: count, dtype: int64"
      ]
     },
     "execution_count": 57,
     "metadata": {},
     "output_type": "execute_result"
    }
   ],
   "source": [
    "# Street alignment at crash location, as determined by reporting officer. maybe drop?\n",
    "alignment_dict = {'STRAIGHT AND LEVEL': 'STRAIGHT', 'STRAIGHT ON GRADE': 'STRAIGHT', 'CURVE, LEVEL': 'NOT STRAIGHT', 'STRAIGHT ON HILLCREST': 'STRAIGHT',\n",
    "                    'CURVE ON GRADE': 'NOT STRAIGHT', 'CURVE ON HILLCREST': 'NOT STRAIGHT'\n",
    "               }\n",
    "master_df['ALIGNMENT'] = master_df['ALIGNMENT'].map(alignment_dict)\n",
    "master_df['ALIGNMENT'].value_counts()"
   ]
  },
  {
   "cell_type": "code",
   "execution_count": 58,
   "metadata": {},
   "outputs": [
    {
     "data": {
      "text/plain": [
       "ROADWAY_SURFACE_COND\n",
       "DRY        240911\n",
       "NOT DRY     53347\n",
       "OTHER         789\n",
       "Name: count, dtype: int64"
      ]
     },
     "execution_count": 58,
     "metadata": {},
     "output_type": "execute_result"
    }
   ],
   "source": [
    "roadway_surface_dict = {'DRY': 'DRY', 'WET': 'NOT DRY', 'UNKNOWN': 'DRY', 'SNOW OR SLUSH': 'NOT DRY', 'ICE': 'NOT DRY', \n",
    "                'OTHER': 'OTHER', 'SAND, MUD, DIRT': 'NOT DRY'\n",
    "               }\n",
    "master_df['ROADWAY_SURFACE_COND'] = master_df['ROADWAY_SURFACE_COND'].map(roadway_surface_dict)\n",
    "master_df['ROADWAY_SURFACE_COND'].value_counts()"
   ]
  },
  {
   "cell_type": "code",
   "execution_count": null,
   "metadata": {},
   "outputs": [],
   "source": []
  },
  {
   "cell_type": "markdown",
   "metadata": {},
   "source": [
    "# Dre's Space"
   ]
  },
  {
   "cell_type": "code",
   "execution_count": 18,
   "metadata": {},
   "outputs": [
    {
     "data": {
      "text/plain": [
       "VEHICLE_TYPE\n",
       "PASSENGER                      238025\n",
       "SPORT UTILITY VEHICLE (SUV)     51648\n",
       "VAN/MINI-VAN                    15925\n",
       "Name: count, dtype: int64"
      ]
     },
     "execution_count": 18,
     "metadata": {},
     "output_type": "execute_result"
    }
   ],
   "source": [
    "## Vehicle Type\n",
    "\n",
    "master_df['VEHICLE_TYPE'].value_counts()"
   ]
  },
  {
   "cell_type": "code",
   "execution_count": 19,
   "metadata": {},
   "outputs": [],
   "source": [
    "# Maneuver\n",
    "\n",
    "MANEUVER_dict = {'STRAIGHT AHEAD': 'STRAIGHT', 'TURNING LEFT': 'OTHER', 'SLOW/STOP IN TRAFFIC': 'OTHER', 'PARKED': 'OTHER', 'TURNING RIGHT': 'OTHER', 'UNKNOWN/NA': 'STRAIGHT',\n",
    "                 'OTHER': 'OTHER', 'PASSING/OVERTAKING': 'OTHER', 'CHANGING LANES': 'OTHER', 'U-TURN': 'OTHER', 'BACKING': 'OTHER', 'STARTING IN TRAFFIC': 'OTHER', \n",
    "                 'AVOIDING VEHICLES/OBJECTS': 'OTHER', 'ENTERING TRAFFIC LANE FROM PARKING': 'OTHER', 'SKIDDING/CONTROL LOSS': 'OTHER', 'DRIVING WRONG WAY': 'OTHER',\n",
    "                 'MERGING': 'OTHER', 'ENTER FROM DRIVE/ALLEY': 'OTHER', 'PARKED IN TRAFFIC LANE': 'OTHER', 'NEGOTIATING A CURVE': 'OTHER', 'LEAVING TRAFFIC LANE TO PARK': 'OTHER',\n",
    "                 'TURNING ON RED': 'OTHER', 'DISABLED': 'OTHER', 'DRIVERLESS': 'OTHER', 'DIVERGING': 'OTHER'}\n",
    "\n",
    "master_df['MANEUVER'] = master_df['MANEUVER'].map(MANEUVER_dict)"
   ]
  },
  {
   "cell_type": "code",
   "execution_count": 20,
   "metadata": {},
   "outputs": [
    {
     "data": {
      "text/plain": [
       "MANEUVER\n",
       "STRAIGHT    194291\n",
       "OTHER       111307\n",
       "Name: count, dtype: int64"
      ]
     },
     "execution_count": 20,
     "metadata": {},
     "output_type": "execute_result"
    }
   ],
   "source": [
    "\n",
    "master_df['MANEUVER'].value_counts()"
   ]
  },
  {
   "cell_type": "code",
   "execution_count": 21,
   "metadata": {},
   "outputs": [],
   "source": [
    "# FIRST CONTACT POINT\n",
    "\n",
    "master_df['FIRST_CONTACT_POINT'] = master_df['FIRST_CONTACT_POINT'].fillna('FRONT')\n",
    "\n",
    "FIRST_CONTACT_POINT_dict = {'FRONT': 'FRONT', 'REAR': 'REAR', 'FRONT-LEFT-CORNER': 'FRONT', 'FRONT-RIGHT-CORNER': 'FRONT', 'SIDE-LEFT': 'SIDES', 'SIDE-RIGHT': 'SIDES', \n",
    "                            'REAR-LEFT-CORNER': 'REAR',\n",
    "                            'REAR-RIGHT-CORNER':'REAR', 'SIDE-LEFT-REAR': 'SIDES', 'SIDE-LEFT-FRONT':'SIDES', 'SIDE-RIGHT-REAR':'SIDES', 'SIDE-RIGHT-FRONT': 'SIDES',\n",
    "                            'TOTAL (ALL AREAS)': 'OTHER', 'NONE': 'NONE', 'OTHER': 'OTHER', 'UNDER CARRIAGE': 'OTHER', 'TOP': 'OTHER', 'ROOF': 'OTHER', 'UNKNOWN': 'FRONT',\n",
    "                            'REAR-LEFT': 'REAR', 'FRONT-RIGHT': 'FRONT'}\n",
    "\n",
    "master_df['FIRST_CONTACT_POINT'] = master_df['FIRST_CONTACT_POINT'].map(FIRST_CONTACT_POINT_dict)"
   ]
  },
  {
   "cell_type": "code",
   "execution_count": 22,
   "metadata": {},
   "outputs": [
    {
     "data": {
      "text/plain": [
       "FIRST_CONTACT_POINT\n",
       "FRONT    179686\n",
       "REAR      63448\n",
       "SIDES     57061\n",
       "OTHER      4030\n",
       "NONE       1373\n",
       "Name: count, dtype: int64"
      ]
     },
     "execution_count": 22,
     "metadata": {},
     "output_type": "execute_result"
    }
   ],
   "source": [
    "master_df['FIRST_CONTACT_POINT'].value_counts(dropna=False)"
   ]
  },
  {
   "cell_type": "code",
   "execution_count": 23,
   "metadata": {},
   "outputs": [],
   "source": [
    "# Person Type\n",
    "\n",
    "PERSON_TYPE_dict = {'DRIVER': 'DRIVER', 'PASSENGER': 'PASSENGER', 'PEDESTRIAN': 'OTHER', 'BICYCLE': 'OTHER', 'NON-MOTOR VEHICLE': 'OTHER', 'NON-CONTACT VEHICLE': 'OTHER'}\n",
    "\n",
    "master_df['PERSON_TYPE'] = master_df['PERSON_TYPE'].map(PERSON_TYPE_dict)"
   ]
  },
  {
   "cell_type": "code",
   "execution_count": 24,
   "metadata": {},
   "outputs": [
    {
     "data": {
      "text/plain": [
       "PERSON_TYPE\n",
       "DRIVER       198143\n",
       "PASSENGER     95401\n",
       "OTHER         12054\n",
       "Name: count, dtype: int64"
      ]
     },
     "execution_count": 24,
     "metadata": {},
     "output_type": "execute_result"
    }
   ],
   "source": [
    "master_df['PERSON_TYPE'].value_counts(dropna=False)"
   ]
  },
  {
   "cell_type": "code",
   "execution_count": 25,
   "metadata": {},
   "outputs": [
    {
     "data": {
      "text/plain": [
       "SEX\n",
       "M      157656\n",
       "F      129998\n",
       "NaN      7393\n",
       "Name: count, dtype: int64"
      ]
     },
     "execution_count": 25,
     "metadata": {},
     "output_type": "execute_result"
    }
   ],
   "source": [
    "# Sex\n",
    "\n",
    "master_df = master_df[master_df['SEX'] != 'X']\n",
    "\n",
    "master_df['SEX'].value_counts(dropna=False)"
   ]
  },
  {
   "cell_type": "code",
   "execution_count": 26,
   "metadata": {},
   "outputs": [
    {
     "data": {
      "text/plain": [
       "AGE\n",
       "25.0     7372\n",
       "23.0     7232\n",
       "27.0     7173\n",
       "24.0     7132\n",
       "28.0     7108\n",
       "         ... \n",
       "101.0       4\n",
       "97.0        2\n",
       "108.0       2\n",
       "110.0       2\n",
       "105.0       1\n",
       "Name: count, Length: 107, dtype: int64"
      ]
     },
     "execution_count": 26,
     "metadata": {},
     "output_type": "execute_result"
    }
   ],
   "source": [
    "# Age\n",
    "\n",
    "master_df['AGE'].value_counts()\n",
    "\n",
    "# Filter for ages 16-75??"
   ]
  },
  {
   "cell_type": "code",
   "execution_count": 27,
   "metadata": {},
   "outputs": [],
   "source": [
    "# Safety Equipment\n",
    "\n",
    "master_df['SAFETY_EQUIPMENT'] = master_df['SAFETY_EQUIPMENT'].fillna('USAGE UNKNOWN')\n",
    "\n",
    "SAFETY_EQUIPMENT_dict = {'USAGE UNKNOWN': 'UNKNOWN', 'SAFETY BELT USED': 'USED', 'NONE PRESENT': 'NONE', 'HELMET NOT USED': 'NOT USED', 'SAFETY BELT NOT USED': 'NOT USED',\n",
    "                         'CHILD RESTRAINT - FORWARD FACING': 'USED', 'BICYCLE HELMET (PEDACYCLIST INVOLVED ONLY)': 'USED', 'CHILD RESTRAINT - TYPE UNKNOWN': 'USED',\n",
    "                         'CHILD RESTRAINT - REAR FACING': 'USED', 'DOT COMPLIANT MOTORCYCLE HELMET': 'USED', 'BOOSTER SEAT': 'USED', 'CHILD RESTRAINT NOT USED': 'NOT USED', \n",
    "                         'CHILD RESTRAINT USED IMPROPERLY': 'USED', 'NOT DOT COMPLIANT MOTORCYCLE HELMET': 'USED', 'WHEELCHAIR': 'USED', 'SHOULD/LAP BELT USED IMPROPERLY': 'USED',\n",
    "                         'HELMET USED': 'USED', 'STRETCHER': 'USED', 'CHILD RESTRAINT USED': 'USED'}\n",
    "\n",
    "master_df['SAFETY_EQUIPMENT'] = master_df['SAFETY_EQUIPMENT'].map(SAFETY_EQUIPMENT_dict)"
   ]
  },
  {
   "cell_type": "code",
   "execution_count": 28,
   "metadata": {},
   "outputs": [
    {
     "data": {
      "text/plain": [
       "SAFETY_EQUIPMENT\n",
       "UNKNOWN     139877\n",
       "USED        136400\n",
       "NONE         12606\n",
       "NOT USED      6164\n",
       "Name: count, dtype: int64"
      ]
     },
     "execution_count": 28,
     "metadata": {},
     "output_type": "execute_result"
    }
   ],
   "source": [
    "master_df['SAFETY_EQUIPMENT'].value_counts(dropna=False)"
   ]
  },
  {
   "cell_type": "code",
   "execution_count": 29,
   "metadata": {},
   "outputs": [],
   "source": [
    "# Airbag Deployed\n",
    "\n",
    "master_df['AIRBAG_DEPLOYED'] = master_df['AIRBAG_DEPLOYED'].fillna('DID NOT DEPLOY')\n",
    "\n",
    "AIRBAG_DEPLOYED_dict = {'DID NOT DEPLOY': 'DID NOT DEPLOY', 'NOT APPLICABLE': 'NOT APPLICABLE', 'DEPLOYED, COMBINATION': 'DEPLOYED', 'DEPLOYMENT UNKNOWN': 'UNKNOWN', \n",
    "                        'DEPLOYED, FRONT': 'DEPLOYED', 'DEPLOYED, SIDE': 'DEPLOYED', 'DEPLOYED OTHER (KNEE, AIR, BELT, ETC.)': 'DEPLOYED'}\n",
    "\n",
    "master_df['AIRBAG_DEPLOYED'] = master_df['AIRBAG_DEPLOYED'].map(AIRBAG_DEPLOYED_dict)"
   ]
  },
  {
   "cell_type": "code",
   "execution_count": 30,
   "metadata": {},
   "outputs": [
    {
     "data": {
      "text/plain": [
       "AIRBAG_DEPLOYED\n",
       "DID NOT DEPLOY    115041\n",
       "DEPLOYED           83943\n",
       "NOT APPLICABLE     65199\n",
       "UNKNOWN            30864\n",
       "Name: count, dtype: int64"
      ]
     },
     "execution_count": 30,
     "metadata": {},
     "output_type": "execute_result"
    }
   ],
   "source": [
    "master_df['AIRBAG_DEPLOYED'].value_counts(dropna=False)"
   ]
  },
  {
   "cell_type": "code",
   "execution_count": 37,
   "metadata": {},
   "outputs": [],
   "source": [
    "# Driver Action\n",
    "\n",
    "master_df['DRIVER_ACTION'] = master_df['DRIVER_ACTION'].fillna('NONE')\n",
    "\n",
    "DRIVER_ACTION_dict = {'NONE': 'NO ACTION TAKEN', 'UNKNOWN': 'NO ACTION TAKEN', 'FAILED TO YIELD': 'ACTIONS TAKEN', 'OTHER': 'ACTIONS TAKEN', 'DISREGARDED CONTROL DEVICES': 'ACTIONS TAKEN',\n",
    "                      'FOLLOWED TOO CLOSELY': 'ACTIONS TAKEN', 'TOO FAST FOR CONDITIONS': 'ACTIONS TAKEN', 'IMPROPER TURN': 'ACTIONS TAKEN', 'IMPROPER LANE CHANGE': 'ACTIONS TAKEN',\n",
    "                      'IMPROPER PASSING': 'ACTIONS TAKEN', 'WRONG WAY/SIDE': 'ACTIONS TAKEN', 'IMPROPER BACKING': 'ACTIONS TAKEN', 'OVERCORRECTED': 'ACTIONS TAKEN', 'EVADING POLICE VEHICLE': 'ACTIONS TAKEN',\n",
    "                      'CELL PHONE USE OTHER THAN TEXTING': 'ACTIONS TAKEN', 'EMERGENCY VEHICLE ON CALL': 'ACTIONS TAKEN', 'IMPROPER PARKING': 'ACTIONS TAKEN', 'TEXTING': 'ACTIONS TAKEN',\n",
    "                      'LICENSE RESTRICTIONS': 'ACTIONS TAKEN', 'STOPPED SCHOOL BUS': 'ACTIONS TAKEN'}\n",
    "\n",
    "master_df['DRIVER_ACTION'] = master_df['DRIVER_ACTION'].map(DRIVER_ACTION_dict)"
   ]
  },
  {
   "cell_type": "code",
   "execution_count": 39,
   "metadata": {},
   "outputs": [
    {
     "data": {
      "text/plain": [
       "DRIVER_ACTION\n",
       "NO ACTION TAKEN    216815\n",
       "ACTIONS TAKEN       78232\n",
       "Name: count, dtype: int64"
      ]
     },
     "execution_count": 39,
     "metadata": {},
     "output_type": "execute_result"
    }
   ],
   "source": [
    "master_df['DRIVER_ACTION'].value_counts(dropna=False)"
   ]
  },
  {
   "cell_type": "code",
   "execution_count": 41,
   "metadata": {},
   "outputs": [],
   "source": [
    "# Driver Vision\n",
    "\n",
    "master_df['DRIVER_VISION'] = master_df['DRIVER_VISION'].fillna('NONE')\n",
    "\n",
    "DRIVER_VISION_dict = { 'NONE':'UNKNOWN', 'NOT OBSCURED': 'NOT OBSCURED', 'UNKNOWN': 'UNKNOWN', 'OTHER': 'OBSCURED', 'MOVING VEHICLES': 'OBSCURED', 'PARKED VEHICLES': 'OBSCURED',\n",
    "                      'WINDSHIELD (WATER/ICE)': 'OBSCURED', 'BLINDED - SUNLIGHT': 'OBSCURED', 'TREES, PLANTS': 'OBSCURED', 'BUILDINGS': 'OBSCURED',\n",
    "                      'BLINDED - HEADLIGHTS': 'OBSCURED', 'BLOWING MATERIALS': 'OBSCURED', 'HILLCREST': 'OBSCURED',\n",
    "                      'EMBANKMENT': 'OBSCURED', 'SIGNBOARD': 'OBSCURED'}\n",
    "\n",
    "master_df['DRIVER_VISION'] = master_df['DRIVER_VISION'].map(DRIVER_VISION_dict)"
   ]
  },
  {
   "cell_type": "code",
   "execution_count": 43,
   "metadata": {},
   "outputs": [
    {
     "data": {
      "text/plain": [
       "DRIVER_VISION\n",
       "UNKNOWN         182906\n",
       "NOT OBSCURED    105706\n",
       "OBSCURED          6435\n",
       "Name: count, dtype: int64"
      ]
     },
     "execution_count": 43,
     "metadata": {},
     "output_type": "execute_result"
    }
   ],
   "source": [
    "master_df['DRIVER_VISION'].value_counts(dropna=False)"
   ]
  },
  {
   "cell_type": "code",
   "execution_count": 45,
   "metadata": {},
   "outputs": [],
   "source": [
    "# Physical Condition\n",
    "\n",
    "master_df['PHYSICAL_CONDITION'] = master_df['PHYSICAL_CONDITION'].fillna('UNKNOWN')\n",
    "\n",
    "PHYSICAL_CONDITION_dict = {'UNKNOWN': 'UNKNOWN', 'NORMAL': 'NORMAL', 'REMOVED BY EMS': 'NOT NORMAL', 'IMPAIRED - ALCOHOL': 'NOT NORMAL', 'OTHER': 'NOT NORMAL', 'EMOTIONAL': 'NOT NORMAL',\n",
    "                           'FATIGUED/ASLEEP': 'NOT NORMAL', 'ILLNESS/FAINTED': 'NOT NORMAL', 'IMPAIRED - DRUGS': 'NOT NORMAL', 'HAD BEEN DRINKING': 'NOT NORMAL', \n",
    "                           'IMPAIRED - ALCOHOL AND DRUGS': 'NOT NORMAL', 'MEDICATED': 'NOT NORMAL'}\n",
    "\n",
    "master_df['PHYSICAL_CONDITION'] = master_df['PHYSICAL_CONDITION'].map(PHYSICAL_CONDITION_dict)"
   ]
  },
  {
   "cell_type": "code",
   "execution_count": 47,
   "metadata": {},
   "outputs": [
    {
     "data": {
      "text/plain": [
       "PHYSICAL_CONDITION\n",
       "NORMAL        146803\n",
       "UNKNOWN       137339\n",
       "NOT NORMAL     10905\n",
       "Name: count, dtype: int64"
      ]
     },
     "execution_count": 47,
     "metadata": {},
     "output_type": "execute_result"
    }
   ],
   "source": [
    "master_df['PHYSICAL_CONDITION'].value_counts(dropna=False)"
   ]
  },
  {
   "cell_type": "code",
   "execution_count": 49,
   "metadata": {},
   "outputs": [],
   "source": [
    "# BAC Result\n",
    "\n",
    "master_df['BAC_RESULT'] = master_df['BAC_RESULT'].fillna('UNKNOWN')\n",
    "\n",
    "BAC_RESULT_dict = {'TEST NOT OFFERED': 'TEST NOT OFFERED', 'TEST REFUSED': 'TEST REFUSED', 'TEST PERFORMED, RESULTS UNKNOWN': 'TEST PERFORMED',\n",
    "                   'TEST TAKEN': 'TEST PERFORMED'}\n",
    "\n",
    "master_df['BAC_RESULT'] = master_df['BAC_RESULT'].map(BAC_RESULT_dict)"
   ]
  },
  {
   "cell_type": "code",
   "execution_count": 51,
   "metadata": {},
   "outputs": [
    {
     "data": {
      "text/plain": [
       "BAC_RESULT\n",
       "TEST NOT OFFERED    195341\n",
       "TEST REFUSED          2702\n",
       "TEST PERFORMED        1955\n",
       "Name: count, dtype: int64"
      ]
     },
     "execution_count": 51,
     "metadata": {},
     "output_type": "execute_result"
    }
   ],
   "source": [
    "master_df['BAC_RESULT'].value_counts()"
   ]
  },
  {
   "cell_type": "code",
   "execution_count": null,
   "metadata": {},
   "outputs": [],
   "source": []
  }
 ],
 "metadata": {
  "kernelspec": {
   "display_name": "Python 3",
   "language": "python",
   "name": "python3"
  },
  "language_info": {
   "codemirror_mode": {
    "name": "ipython",
    "version": 3
   },
   "file_extension": ".py",
   "mimetype": "text/x-python",
   "name": "python",
   "nbconvert_exporter": "python",
   "pygments_lexer": "ipython3",
   "version": "3.9.18"
  }
 },
 "nbformat": 4,
 "nbformat_minor": 4
}
