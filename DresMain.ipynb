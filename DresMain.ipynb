{
 "cells": [
  {
   "cell_type": "markdown",
   "metadata": {},
   "source": [
    "# Chicago Car Crash Analysis"
   ]
  },
  {
   "cell_type": "markdown",
   "metadata": {},
   "source": [
    "## Importing Packages"
   ]
  },
  {
   "cell_type": "code",
   "execution_count": 99,
   "metadata": {},
   "outputs": [],
   "source": [
    "# Importing packages needed for this notebook\n",
    "\n",
    "import pandas as pd\n",
    "\n",
    "import matplotlib.pyplot as plt\n",
    "import seaborn as sns"
   ]
  },
  {
   "cell_type": "code",
   "execution_count": 100,
   "metadata": {},
   "outputs": [
    {
     "name": "stderr",
     "output_type": "stream",
     "text": [
      "/var/folders/kl/l56g5k7x0xqgjd17r78jnyxc0000gn/T/ipykernel_16990/2665594103.py:4: DtypeWarning: Columns (2,19,21,40,41,42,44,48,49,50,53,55,58,59,61,71) have mixed types. Specify dtype option on import or set low_memory=False.\n",
      "  df_vehicles = pd.read_csv(\"data/Traffic_Crashes_-_Vehicles.csv\")\n",
      "/var/folders/kl/l56g5k7x0xqgjd17r78jnyxc0000gn/T/ipykernel_16990/2665594103.py:5: DtypeWarning: Columns (29) have mixed types. Specify dtype option on import or set low_memory=False.\n",
      "  df_people = pd.read_csv(\"data/Traffic_Crashes_-_People.csv\")\n"
     ]
    }
   ],
   "source": [
    "# Reading the data in\n",
    "\n",
    "df_crashes = pd.read_csv(\"data/Traffic_Crashes_-_Crashes.csv\")\n",
    "df_vehicles = pd.read_csv(\"data/Traffic_Crashes_-_Vehicles.csv\")\n",
    "df_people = pd.read_csv(\"data/Traffic_Crashes_-_People.csv\")"
   ]
  },
  {
   "cell_type": "markdown",
   "metadata": {},
   "source": [
    "## Creating a Master DataFrame"
   ]
  },
  {
   "cell_type": "code",
   "execution_count": 101,
   "metadata": {},
   "outputs": [],
   "source": [
    "df_joined = pd.merge(df_crashes, pd.merge(df_vehicles, df_people, on=\"CRASH_RECORD_ID\"), on=\"CRASH_RECORD_ID\")"
   ]
  },
  {
   "cell_type": "markdown",
   "metadata": {},
   "source": [
    "## Info and column names of each table"
   ]
  },
  {
   "cell_type": "code",
   "execution_count": 102,
   "metadata": {},
   "outputs": [
    {
     "name": "stdout",
     "output_type": "stream",
     "text": [
      "<class 'pandas.core.frame.DataFrame'>\n",
      "RangeIndex: 3594423 entries, 0 to 3594422\n",
      "Columns: 150 entries, CRASH_RECORD_ID to CELL_PHONE_USE\n",
      "dtypes: float64(25), int64(8), object(117)\n",
      "memory usage: 4.0+ GB\n"
     ]
    }
   ],
   "source": [
    "df_joined.info()"
   ]
  },
  {
   "cell_type": "markdown",
   "metadata": {},
   "source": [
    "## Takeaway\n",
    "\n",
    "- 3,594,423 observations\n",
    "- 150 combined columns\n",
    "- 4 GB combined memory file"
   ]
  },
  {
   "cell_type": "code",
   "execution_count": 103,
   "metadata": {},
   "outputs": [
    {
     "name": "stdout",
     "output_type": "stream",
     "text": [
      "<class 'pandas.core.frame.DataFrame'>\n",
      "RangeIndex: 778847 entries, 0 to 778846\n",
      "Data columns (total 50 columns):\n",
      " #   Column                         Non-Null Count   Dtype  \n",
      "---  ------                         --------------   -----  \n",
      " 0   CRASH_RECORD_ID                778847 non-null  object \n",
      " 1   RD_NO                          774292 non-null  object \n",
      " 2   CRASH_DATE_EST_I               58506 non-null   object \n",
      " 3   CRASH_DATE                     778847 non-null  object \n",
      " 4   POSTED_SPEED_LIMIT             778847 non-null  int64  \n",
      " 5   TRAFFIC_CONTROL_DEVICE         778847 non-null  object \n",
      " 6   DEVICE_CONDITION               778847 non-null  object \n",
      " 7   WEATHER_CONDITION              778847 non-null  object \n",
      " 8   LIGHTING_CONDITION             778847 non-null  object \n",
      " 9   FIRST_CRASH_TYPE               778847 non-null  object \n",
      " 10  TRAFFICWAY_TYPE                778847 non-null  object \n",
      " 11  LANE_CNT                       199006 non-null  float64\n",
      " 12  ALIGNMENT                      778847 non-null  object \n",
      " 13  ROADWAY_SURFACE_COND           778847 non-null  object \n",
      " 14  ROAD_DEFECT                    778847 non-null  object \n",
      " 15  REPORT_TYPE                    756258 non-null  object \n",
      " 16  CRASH_TYPE                     778847 non-null  object \n",
      " 17  INTERSECTION_RELATED_I         178438 non-null  object \n",
      " 18  NOT_RIGHT_OF_WAY_I             36054 non-null   object \n",
      " 19  HIT_AND_RUN_I                  243250 non-null  object \n",
      " 20  DAMAGE                         778847 non-null  object \n",
      " 21  DATE_POLICE_NOTIFIED           778847 non-null  object \n",
      " 22  PRIM_CONTRIBUTORY_CAUSE        778847 non-null  object \n",
      " 23  SEC_CONTRIBUTORY_CAUSE         778847 non-null  object \n",
      " 24  STREET_NO                      778847 non-null  int64  \n",
      " 25  STREET_DIRECTION               778843 non-null  object \n",
      " 26  STREET_NAME                    778846 non-null  object \n",
      " 27  BEAT_OF_OCCURRENCE             778842 non-null  float64\n",
      " 28  PHOTOS_TAKEN_I                 10105 non-null   object \n",
      " 29  STATEMENTS_TAKEN_I             17083 non-null   object \n",
      " 30  DOORING_I                      2417 non-null    object \n",
      " 31  WORK_ZONE_I                    4529 non-null    object \n",
      " 32  WORK_ZONE_TYPE                 3524 non-null    object \n",
      " 33  WORKERS_PRESENT_I              1157 non-null    object \n",
      " 34  NUM_UNITS                      778847 non-null  int64  \n",
      " 35  MOST_SEVERE_INJURY             777133 non-null  object \n",
      " 36  INJURIES_TOTAL                 777144 non-null  float64\n",
      " 37  INJURIES_FATAL                 777144 non-null  float64\n",
      " 38  INJURIES_INCAPACITATING        777144 non-null  float64\n",
      " 39  INJURIES_NON_INCAPACITATING    777144 non-null  float64\n",
      " 40  INJURIES_REPORTED_NOT_EVIDENT  777144 non-null  float64\n",
      " 41  INJURIES_NO_INDICATION         777144 non-null  float64\n",
      " 42  INJURIES_UNKNOWN               777144 non-null  float64\n",
      " 43  CRASH_HOUR                     778847 non-null  int64  \n",
      " 44  CRASH_DAY_OF_WEEK              778847 non-null  int64  \n",
      " 45  CRASH_MONTH                    778847 non-null  int64  \n",
      " 46  LATITUDE                       773629 non-null  float64\n",
      " 47  LONGITUDE                      773629 non-null  float64\n",
      " 48  LOCATION                       773629 non-null  object \n",
      " 49  Boundaries - ZIP Codes         773247 non-null  float64\n",
      "dtypes: float64(12), int64(6), object(32)\n",
      "memory usage: 297.1+ MB\n"
     ]
    }
   ],
   "source": [
    "df_crashes.info()"
   ]
  },
  {
   "cell_type": "code",
   "execution_count": 104,
   "metadata": {},
   "outputs": [
    {
     "name": "stdout",
     "output_type": "stream",
     "text": [
      "<class 'pandas.core.frame.DataFrame'>\n",
      "RangeIndex: 1588937 entries, 0 to 1588936\n",
      "Data columns (total 72 columns):\n",
      " #   Column                    Non-Null Count    Dtype  \n",
      "---  ------                    --------------    -----  \n",
      " 0   CRASH_UNIT_ID             1588937 non-null  int64  \n",
      " 1   CRASH_RECORD_ID           1588937 non-null  object \n",
      " 2   RD_NO                     1579642 non-null  object \n",
      " 3   CRASH_DATE                1588937 non-null  object \n",
      " 4   UNIT_NO                   1588937 non-null  int64  \n",
      " 5   UNIT_TYPE                 1586855 non-null  object \n",
      " 6   NUM_PASSENGERS            235108 non-null   float64\n",
      " 7   VEHICLE_ID                1552556 non-null  float64\n",
      " 8   CMRC_VEH_I                29662 non-null    object \n",
      " 9   MAKE                      1552551 non-null  object \n",
      " 10  MODEL                     1552406 non-null  object \n",
      " 11  LIC_PLATE_STATE           1410532 non-null  object \n",
      " 12  VEHICLE_YEAR              1301948 non-null  float64\n",
      " 13  VEHICLE_DEFECT            1552556 non-null  object \n",
      " 14  VEHICLE_TYPE              1552556 non-null  object \n",
      " 15  VEHICLE_USE               1552556 non-null  object \n",
      " 16  TRAVEL_DIRECTION          1552556 non-null  object \n",
      " 17  MANEUVER                  1552556 non-null  object \n",
      " 18  TOWED_I                   195969 non-null   object \n",
      " 19  FIRE_I                    1300 non-null     object \n",
      " 20  OCCUPANT_CNT              1552556 non-null  float64\n",
      " 21  EXCEED_SPEED_LIMIT_I      2397 non-null     object \n",
      " 22  TOWED_BY                  146962 non-null   object \n",
      " 23  TOWED_TO                  90301 non-null    object \n",
      " 24  AREA_00_I                 55009 non-null    object \n",
      " 25  AREA_01_I                 423100 non-null   object \n",
      " 26  AREA_02_I                 252938 non-null   object \n",
      " 27  AREA_03_I                 151867 non-null   object \n",
      " 28  AREA_04_I                 151961 non-null   object \n",
      " 29  AREA_05_I                 235841 non-null   object \n",
      " 30  AREA_06_I                 247812 non-null   object \n",
      " 31  AREA_07_I                 227904 non-null   object \n",
      " 32  AREA_08_I                 229021 non-null   object \n",
      " 33  AREA_09_I                 103655 non-null   object \n",
      " 34  AREA_10_I                 150449 non-null   object \n",
      " 35  AREA_11_I                 292073 non-null   object \n",
      " 36  AREA_12_I                 286318 non-null   object \n",
      " 37  AREA_99_I                 178299 non-null   object \n",
      " 38  FIRST_CONTACT_POINT       1549448 non-null  object \n",
      " 39  CMV_ID                    16335 non-null    float64\n",
      " 40  USDOT_NO                  9230 non-null     object \n",
      " 41  CCMC_NO                   1975 non-null     object \n",
      " 42  ILCC_NO                   1370 non-null     object \n",
      " 43  COMMERCIAL_SRC            10905 non-null    object \n",
      " 44  GVWR                      9164 non-null     object \n",
      " 45  CARRIER_NAME              15609 non-null    object \n",
      " 46  CARRIER_STATE             14660 non-null    object \n",
      " 47  CARRIER_CITY              14383 non-null    object \n",
      " 48  HAZMAT_PLACARDS_I         317 non-null      object \n",
      " 49  HAZMAT_NAME               59 non-null       object \n",
      " 50  UN_NO                     555 non-null      object \n",
      " 51  HAZMAT_PRESENT_I          11927 non-null    object \n",
      " 52  HAZMAT_REPORT_I           11592 non-null    object \n",
      " 53  HAZMAT_REPORT_NO          1 non-null        object \n",
      " 54  MCS_REPORT_I              11640 non-null    object \n",
      " 55  MCS_REPORT_NO             7 non-null        object \n",
      " 56  HAZMAT_VIO_CAUSE_CRASH_I  11752 non-null    object \n",
      " 57  MCS_VIO_CAUSE_CRASH_I     11552 non-null    object \n",
      " 58  IDOT_PERMIT_NO            896 non-null      object \n",
      " 59  WIDE_LOAD_I               142 non-null      object \n",
      " 60  TRAILER1_WIDTH            2847 non-null     object \n",
      " 61  TRAILER2_WIDTH            338 non-null      object \n",
      " 62  TRAILER1_LENGTH           2308 non-null     float64\n",
      " 63  TRAILER2_LENGTH           66 non-null       float64\n",
      " 64  TOTAL_VEHICLE_LENGTH      2806 non-null     float64\n",
      " 65  AXLE_CNT                  4183 non-null     float64\n",
      " 66  VEHICLE_CONFIG            13552 non-null    object \n",
      " 67  CARGO_BODY_TYPE           12947 non-null    object \n",
      " 68  LOAD_TYPE                 12383 non-null    object \n",
      " 69  HAZMAT_OUT_OF_SERVICE_I   11250 non-null    object \n",
      " 70  MCS_OUT_OF_SERVICE_I      11502 non-null    object \n",
      " 71  HAZMAT_CLASS              1067 non-null     object \n",
      "dtypes: float64(9), int64(2), object(61)\n",
      "memory usage: 872.8+ MB\n"
     ]
    }
   ],
   "source": [
    "df_vehicles.info()"
   ]
  },
  {
   "cell_type": "code",
   "execution_count": 105,
   "metadata": {},
   "outputs": [
    {
     "name": "stdout",
     "output_type": "stream",
     "text": [
      "<class 'pandas.core.frame.DataFrame'>\n",
      "RangeIndex: 1710078 entries, 0 to 1710077\n",
      "Data columns (total 30 columns):\n",
      " #   Column                 Dtype  \n",
      "---  ------                 -----  \n",
      " 0   PERSON_ID              object \n",
      " 1   PERSON_TYPE            object \n",
      " 2   CRASH_RECORD_ID        object \n",
      " 3   RD_NO                  object \n",
      " 4   VEHICLE_ID             float64\n",
      " 5   CRASH_DATE             object \n",
      " 6   SEAT_NO                float64\n",
      " 7   CITY                   object \n",
      " 8   STATE                  object \n",
      " 9   ZIPCODE                object \n",
      " 10  SEX                    object \n",
      " 11  AGE                    float64\n",
      " 12  DRIVERS_LICENSE_STATE  object \n",
      " 13  DRIVERS_LICENSE_CLASS  object \n",
      " 14  SAFETY_EQUIPMENT       object \n",
      " 15  AIRBAG_DEPLOYED        object \n",
      " 16  EJECTION               object \n",
      " 17  INJURY_CLASSIFICATION  object \n",
      " 18  HOSPITAL               object \n",
      " 19  EMS_AGENCY             object \n",
      " 20  EMS_RUN_NO             object \n",
      " 21  DRIVER_ACTION          object \n",
      " 22  DRIVER_VISION          object \n",
      " 23  PHYSICAL_CONDITION     object \n",
      " 24  PEDPEDAL_ACTION        object \n",
      " 25  PEDPEDAL_VISIBILITY    object \n",
      " 26  PEDPEDAL_LOCATION      object \n",
      " 27  BAC_RESULT             object \n",
      " 28  BAC_RESULT VALUE       float64\n",
      " 29  CELL_PHONE_USE         object \n",
      "dtypes: float64(4), object(26)\n",
      "memory usage: 391.4+ MB\n"
     ]
    }
   ],
   "source": [
    "df_people.info()"
   ]
  },
  {
   "cell_type": "markdown",
   "metadata": {},
   "source": [
    "## .describe()"
   ]
  },
  {
   "cell_type": "code",
   "execution_count": 106,
   "metadata": {},
   "outputs": [
    {
     "data": {
      "text/html": [
       "<div>\n",
       "<style scoped>\n",
       "    .dataframe tbody tr th:only-of-type {\n",
       "        vertical-align: middle;\n",
       "    }\n",
       "\n",
       "    .dataframe tbody tr th {\n",
       "        vertical-align: top;\n",
       "    }\n",
       "\n",
       "    .dataframe thead th {\n",
       "        text-align: right;\n",
       "    }\n",
       "</style>\n",
       "<table border=\"1\" class=\"dataframe\">\n",
       "  <thead>\n",
       "    <tr style=\"text-align: right;\">\n",
       "      <th></th>\n",
       "      <th>POSTED_SPEED_LIMIT</th>\n",
       "      <th>LANE_CNT</th>\n",
       "      <th>STREET_NO</th>\n",
       "      <th>BEAT_OF_OCCURRENCE</th>\n",
       "      <th>NUM_UNITS</th>\n",
       "      <th>INJURIES_TOTAL</th>\n",
       "      <th>INJURIES_FATAL</th>\n",
       "      <th>INJURIES_INCAPACITATING</th>\n",
       "      <th>INJURIES_NON_INCAPACITATING</th>\n",
       "      <th>INJURIES_REPORTED_NOT_EVIDENT</th>\n",
       "      <th>...</th>\n",
       "      <th>OCCUPANT_CNT</th>\n",
       "      <th>CMV_ID</th>\n",
       "      <th>TRAILER1_LENGTH</th>\n",
       "      <th>TRAILER2_LENGTH</th>\n",
       "      <th>TOTAL_VEHICLE_LENGTH</th>\n",
       "      <th>AXLE_CNT</th>\n",
       "      <th>VEHICLE_ID_y</th>\n",
       "      <th>SEAT_NO</th>\n",
       "      <th>AGE</th>\n",
       "      <th>BAC_RESULT VALUE</th>\n",
       "    </tr>\n",
       "  </thead>\n",
       "  <tbody>\n",
       "    <tr>\n",
       "      <th>count</th>\n",
       "      <td>3.594423e+06</td>\n",
       "      <td>9.306690e+05</td>\n",
       "      <td>3.594423e+06</td>\n",
       "      <td>3.594399e+06</td>\n",
       "      <td>3.594423e+06</td>\n",
       "      <td>3.594423e+06</td>\n",
       "      <td>3.594423e+06</td>\n",
       "      <td>3.594423e+06</td>\n",
       "      <td>3.594423e+06</td>\n",
       "      <td>3.594423e+06</td>\n",
       "      <td>...</td>\n",
       "      <td>3.510271e+06</td>\n",
       "      <td>35502.000000</td>\n",
       "      <td>4435.000000</td>\n",
       "      <td>149.000000</td>\n",
       "      <td>6041.000000</td>\n",
       "      <td>8745.000000</td>\n",
       "      <td>3.519774e+06</td>\n",
       "      <td>734498.000000</td>\n",
       "      <td>2.553255e+06</td>\n",
       "      <td>4600.000000</td>\n",
       "    </tr>\n",
       "    <tr>\n",
       "      <th>mean</th>\n",
       "      <td>2.894418e+01</td>\n",
       "      <td>9.342141e+00</td>\n",
       "      <td>3.640219e+03</td>\n",
       "      <td>1.233799e+03</td>\n",
       "      <td>2.199066e+00</td>\n",
       "      <td>3.127782e-01</td>\n",
       "      <td>1.954417e-03</td>\n",
       "      <td>3.188718e-02</td>\n",
       "      <td>1.760341e-01</td>\n",
       "      <td>1.029025e-01</td>\n",
       "      <td>...</td>\n",
       "      <td>1.369887e+00</td>\n",
       "      <td>8985.305081</td>\n",
       "      <td>46.877114</td>\n",
       "      <td>47.134228</td>\n",
       "      <td>50.844066</td>\n",
       "      <td>12.505317</td>\n",
       "      <td>8.079381e+05</td>\n",
       "      <td>4.166258</td>\n",
       "      <td>3.776009e+01</td>\n",
       "      <td>0.169220</td>\n",
       "    </tr>\n",
       "    <tr>\n",
       "      <th>std</th>\n",
       "      <td>5.672710e+00</td>\n",
       "      <td>2.109683e+03</td>\n",
       "      <td>2.865836e+03</td>\n",
       "      <td>7.017924e+02</td>\n",
       "      <td>6.513109e-01</td>\n",
       "      <td>8.529651e-01</td>\n",
       "      <td>5.111491e-02</td>\n",
       "      <td>2.333315e-01</td>\n",
       "      <td>6.336883e-01</td>\n",
       "      <td>4.646457e-01</td>\n",
       "      <td>...</td>\n",
       "      <td>1.340935e+00</td>\n",
       "      <td>5285.456098</td>\n",
       "      <td>22.278165</td>\n",
       "      <td>28.397673</td>\n",
       "      <td>29.901491</td>\n",
       "      <td>481.617485</td>\n",
       "      <td>4.663225e+05</td>\n",
       "      <td>2.212339</td>\n",
       "      <td>1.710080e+01</td>\n",
       "      <td>0.100173</td>\n",
       "    </tr>\n",
       "    <tr>\n",
       "      <th>min</th>\n",
       "      <td>0.000000e+00</td>\n",
       "      <td>0.000000e+00</td>\n",
       "      <td>0.000000e+00</td>\n",
       "      <td>1.110000e+02</td>\n",
       "      <td>1.000000e+00</td>\n",
       "      <td>0.000000e+00</td>\n",
       "      <td>0.000000e+00</td>\n",
       "      <td>0.000000e+00</td>\n",
       "      <td>0.000000e+00</td>\n",
       "      <td>0.000000e+00</td>\n",
       "      <td>...</td>\n",
       "      <td>0.000000e+00</td>\n",
       "      <td>1.000000</td>\n",
       "      <td>1.000000</td>\n",
       "      <td>1.000000</td>\n",
       "      <td>1.000000</td>\n",
       "      <td>1.000000</td>\n",
       "      <td>2.000000e+00</td>\n",
       "      <td>1.000000</td>\n",
       "      <td>-1.770000e+02</td>\n",
       "      <td>0.000000</td>\n",
       "    </tr>\n",
       "    <tr>\n",
       "      <th>25%</th>\n",
       "      <td>3.000000e+01</td>\n",
       "      <td>2.000000e+00</td>\n",
       "      <td>1.204000e+03</td>\n",
       "      <td>7.140000e+02</td>\n",
       "      <td>2.000000e+00</td>\n",
       "      <td>0.000000e+00</td>\n",
       "      <td>0.000000e+00</td>\n",
       "      <td>0.000000e+00</td>\n",
       "      <td>0.000000e+00</td>\n",
       "      <td>0.000000e+00</td>\n",
       "      <td>...</td>\n",
       "      <td>1.000000e+00</td>\n",
       "      <td>4356.000000</td>\n",
       "      <td>40.000000</td>\n",
       "      <td>25.000000</td>\n",
       "      <td>32.000000</td>\n",
       "      <td>2.000000</td>\n",
       "      <td>4.054940e+05</td>\n",
       "      <td>3.000000</td>\n",
       "      <td>2.500000e+01</td>\n",
       "      <td>0.120000</td>\n",
       "    </tr>\n",
       "    <tr>\n",
       "      <th>50%</th>\n",
       "      <td>3.000000e+01</td>\n",
       "      <td>2.000000e+00</td>\n",
       "      <td>3.180000e+03</td>\n",
       "      <td>1.134000e+03</td>\n",
       "      <td>2.000000e+00</td>\n",
       "      <td>0.000000e+00</td>\n",
       "      <td>0.000000e+00</td>\n",
       "      <td>0.000000e+00</td>\n",
       "      <td>0.000000e+00</td>\n",
       "      <td>0.000000e+00</td>\n",
       "      <td>...</td>\n",
       "      <td>1.000000e+00</td>\n",
       "      <td>8854.000000</td>\n",
       "      <td>53.000000</td>\n",
       "      <td>50.000000</td>\n",
       "      <td>53.000000</td>\n",
       "      <td>3.000000</td>\n",
       "      <td>8.001075e+05</td>\n",
       "      <td>3.000000</td>\n",
       "      <td>3.500000e+01</td>\n",
       "      <td>0.170000</td>\n",
       "    </tr>\n",
       "    <tr>\n",
       "      <th>75%</th>\n",
       "      <td>3.000000e+01</td>\n",
       "      <td>4.000000e+00</td>\n",
       "      <td>5.524000e+03</td>\n",
       "      <td>1.814000e+03</td>\n",
       "      <td>2.000000e+00</td>\n",
       "      <td>0.000000e+00</td>\n",
       "      <td>0.000000e+00</td>\n",
       "      <td>0.000000e+00</td>\n",
       "      <td>0.000000e+00</td>\n",
       "      <td>0.000000e+00</td>\n",
       "      <td>...</td>\n",
       "      <td>1.000000e+00</td>\n",
       "      <td>13609.750000</td>\n",
       "      <td>53.000000</td>\n",
       "      <td>55.000000</td>\n",
       "      <td>65.000000</td>\n",
       "      <td>5.000000</td>\n",
       "      <td>1.211854e+06</td>\n",
       "      <td>6.000000</td>\n",
       "      <td>5.000000e+01</td>\n",
       "      <td>0.220000</td>\n",
       "    </tr>\n",
       "    <tr>\n",
       "      <th>max</th>\n",
       "      <td>9.900000e+01</td>\n",
       "      <td>1.191625e+06</td>\n",
       "      <td>4.511000e+05</td>\n",
       "      <td>6.100000e+03</td>\n",
       "      <td>1.800000e+01</td>\n",
       "      <td>2.100000e+01</td>\n",
       "      <td>4.000000e+00</td>\n",
       "      <td>1.000000e+01</td>\n",
       "      <td>2.100000e+01</td>\n",
       "      <td>1.500000e+01</td>\n",
       "      <td>...</td>\n",
       "      <td>9.900000e+01</td>\n",
       "      <td>18191.000000</td>\n",
       "      <td>740.000000</td>\n",
       "      <td>123.000000</td>\n",
       "      <td>999.000000</td>\n",
       "      <td>26009.000000</td>\n",
       "      <td>1.617697e+06</td>\n",
       "      <td>12.000000</td>\n",
       "      <td>1.100000e+02</td>\n",
       "      <td>1.000000</td>\n",
       "    </tr>\n",
       "  </tbody>\n",
       "</table>\n",
       "<p>8 rows × 33 columns</p>\n",
       "</div>"
      ],
      "text/plain": [
       "       POSTED_SPEED_LIMIT      LANE_CNT     STREET_NO  BEAT_OF_OCCURRENCE  \\\n",
       "count        3.594423e+06  9.306690e+05  3.594423e+06        3.594399e+06   \n",
       "mean         2.894418e+01  9.342141e+00  3.640219e+03        1.233799e+03   \n",
       "std          5.672710e+00  2.109683e+03  2.865836e+03        7.017924e+02   \n",
       "min          0.000000e+00  0.000000e+00  0.000000e+00        1.110000e+02   \n",
       "25%          3.000000e+01  2.000000e+00  1.204000e+03        7.140000e+02   \n",
       "50%          3.000000e+01  2.000000e+00  3.180000e+03        1.134000e+03   \n",
       "75%          3.000000e+01  4.000000e+00  5.524000e+03        1.814000e+03   \n",
       "max          9.900000e+01  1.191625e+06  4.511000e+05        6.100000e+03   \n",
       "\n",
       "          NUM_UNITS  INJURIES_TOTAL  INJURIES_FATAL  INJURIES_INCAPACITATING  \\\n",
       "count  3.594423e+06    3.594423e+06    3.594423e+06             3.594423e+06   \n",
       "mean   2.199066e+00    3.127782e-01    1.954417e-03             3.188718e-02   \n",
       "std    6.513109e-01    8.529651e-01    5.111491e-02             2.333315e-01   \n",
       "min    1.000000e+00    0.000000e+00    0.000000e+00             0.000000e+00   \n",
       "25%    2.000000e+00    0.000000e+00    0.000000e+00             0.000000e+00   \n",
       "50%    2.000000e+00    0.000000e+00    0.000000e+00             0.000000e+00   \n",
       "75%    2.000000e+00    0.000000e+00    0.000000e+00             0.000000e+00   \n",
       "max    1.800000e+01    2.100000e+01    4.000000e+00             1.000000e+01   \n",
       "\n",
       "       INJURIES_NON_INCAPACITATING  INJURIES_REPORTED_NOT_EVIDENT  ...  \\\n",
       "count                 3.594423e+06                   3.594423e+06  ...   \n",
       "mean                  1.760341e-01                   1.029025e-01  ...   \n",
       "std                   6.336883e-01                   4.646457e-01  ...   \n",
       "min                   0.000000e+00                   0.000000e+00  ...   \n",
       "25%                   0.000000e+00                   0.000000e+00  ...   \n",
       "50%                   0.000000e+00                   0.000000e+00  ...   \n",
       "75%                   0.000000e+00                   0.000000e+00  ...   \n",
       "max                   2.100000e+01                   1.500000e+01  ...   \n",
       "\n",
       "       OCCUPANT_CNT        CMV_ID  TRAILER1_LENGTH  TRAILER2_LENGTH  \\\n",
       "count  3.510271e+06  35502.000000      4435.000000       149.000000   \n",
       "mean   1.369887e+00   8985.305081        46.877114        47.134228   \n",
       "std    1.340935e+00   5285.456098        22.278165        28.397673   \n",
       "min    0.000000e+00      1.000000         1.000000         1.000000   \n",
       "25%    1.000000e+00   4356.000000        40.000000        25.000000   \n",
       "50%    1.000000e+00   8854.000000        53.000000        50.000000   \n",
       "75%    1.000000e+00  13609.750000        53.000000        55.000000   \n",
       "max    9.900000e+01  18191.000000       740.000000       123.000000   \n",
       "\n",
       "       TOTAL_VEHICLE_LENGTH      AXLE_CNT  VEHICLE_ID_y        SEAT_NO  \\\n",
       "count           6041.000000   8745.000000  3.519774e+06  734498.000000   \n",
       "mean              50.844066     12.505317  8.079381e+05       4.166258   \n",
       "std               29.901491    481.617485  4.663225e+05       2.212339   \n",
       "min                1.000000      1.000000  2.000000e+00       1.000000   \n",
       "25%               32.000000      2.000000  4.054940e+05       3.000000   \n",
       "50%               53.000000      3.000000  8.001075e+05       3.000000   \n",
       "75%               65.000000      5.000000  1.211854e+06       6.000000   \n",
       "max              999.000000  26009.000000  1.617697e+06      12.000000   \n",
       "\n",
       "                AGE  BAC_RESULT VALUE  \n",
       "count  2.553255e+06       4600.000000  \n",
       "mean   3.776009e+01          0.169220  \n",
       "std    1.710080e+01          0.100173  \n",
       "min   -1.770000e+02          0.000000  \n",
       "25%    2.500000e+01          0.120000  \n",
       "50%    3.500000e+01          0.170000  \n",
       "75%    5.000000e+01          0.220000  \n",
       "max    1.100000e+02          1.000000  \n",
       "\n",
       "[8 rows x 33 columns]"
      ]
     },
     "execution_count": 106,
     "metadata": {},
     "output_type": "execute_result"
    }
   ],
   "source": [
    "df_joined.describe()"
   ]
  },
  {
   "cell_type": "code",
   "execution_count": 107,
   "metadata": {},
   "outputs": [
    {
     "data": {
      "text/html": [
       "<div>\n",
       "<style scoped>\n",
       "    .dataframe tbody tr th:only-of-type {\n",
       "        vertical-align: middle;\n",
       "    }\n",
       "\n",
       "    .dataframe tbody tr th {\n",
       "        vertical-align: top;\n",
       "    }\n",
       "\n",
       "    .dataframe thead th {\n",
       "        text-align: right;\n",
       "    }\n",
       "</style>\n",
       "<table border=\"1\" class=\"dataframe\">\n",
       "  <thead>\n",
       "    <tr style=\"text-align: right;\">\n",
       "      <th></th>\n",
       "      <th>POSTED_SPEED_LIMIT</th>\n",
       "      <th>LANE_CNT</th>\n",
       "      <th>STREET_NO</th>\n",
       "      <th>BEAT_OF_OCCURRENCE</th>\n",
       "      <th>NUM_UNITS</th>\n",
       "      <th>INJURIES_TOTAL</th>\n",
       "      <th>INJURIES_FATAL</th>\n",
       "      <th>INJURIES_INCAPACITATING</th>\n",
       "      <th>INJURIES_NON_INCAPACITATING</th>\n",
       "      <th>INJURIES_REPORTED_NOT_EVIDENT</th>\n",
       "      <th>INJURIES_NO_INDICATION</th>\n",
       "      <th>INJURIES_UNKNOWN</th>\n",
       "      <th>CRASH_HOUR</th>\n",
       "      <th>CRASH_DAY_OF_WEEK</th>\n",
       "      <th>CRASH_MONTH</th>\n",
       "      <th>LATITUDE</th>\n",
       "      <th>LONGITUDE</th>\n",
       "      <th>Boundaries - ZIP Codes</th>\n",
       "    </tr>\n",
       "  </thead>\n",
       "  <tbody>\n",
       "    <tr>\n",
       "      <th>count</th>\n",
       "      <td>778847.000000</td>\n",
       "      <td>1.990060e+05</td>\n",
       "      <td>778847.000000</td>\n",
       "      <td>778842.000000</td>\n",
       "      <td>778847.000000</td>\n",
       "      <td>777144.000000</td>\n",
       "      <td>777144.000000</td>\n",
       "      <td>777144.000000</td>\n",
       "      <td>777144.000000</td>\n",
       "      <td>777144.000000</td>\n",
       "      <td>777144.000000</td>\n",
       "      <td>777144.0</td>\n",
       "      <td>778847.000000</td>\n",
       "      <td>778847.000000</td>\n",
       "      <td>778847.000000</td>\n",
       "      <td>773629.000000</td>\n",
       "      <td>773629.000000</td>\n",
       "      <td>773247.000000</td>\n",
       "    </tr>\n",
       "    <tr>\n",
       "      <th>mean</th>\n",
       "      <td>28.396907</td>\n",
       "      <td>1.333032e+01</td>\n",
       "      <td>3685.933360</td>\n",
       "      <td>1242.603116</td>\n",
       "      <td>2.034754</td>\n",
       "      <td>0.188778</td>\n",
       "      <td>0.001194</td>\n",
       "      <td>0.020112</td>\n",
       "      <td>0.106705</td>\n",
       "      <td>0.060767</td>\n",
       "      <td>2.004773</td>\n",
       "      <td>0.0</td>\n",
       "      <td>13.205675</td>\n",
       "      <td>4.122012</td>\n",
       "      <td>6.696038</td>\n",
       "      <td>41.854822</td>\n",
       "      <td>-87.673523</td>\n",
       "      <td>32.233258</td>\n",
       "    </tr>\n",
       "    <tr>\n",
       "      <th>std</th>\n",
       "      <td>6.192316</td>\n",
       "      <td>2.961623e+03</td>\n",
       "      <td>2888.342841</td>\n",
       "      <td>705.370152</td>\n",
       "      <td>0.452267</td>\n",
       "      <td>0.564532</td>\n",
       "      <td>0.037466</td>\n",
       "      <td>0.166103</td>\n",
       "      <td>0.421350</td>\n",
       "      <td>0.317185</td>\n",
       "      <td>1.159469</td>\n",
       "      <td>0.0</td>\n",
       "      <td>5.565372</td>\n",
       "      <td>1.980178</td>\n",
       "      <td>3.367947</td>\n",
       "      <td>0.334037</td>\n",
       "      <td>0.678644</td>\n",
       "      <td>19.205914</td>\n",
       "    </tr>\n",
       "    <tr>\n",
       "      <th>min</th>\n",
       "      <td>0.000000</td>\n",
       "      <td>0.000000e+00</td>\n",
       "      <td>0.000000</td>\n",
       "      <td>111.000000</td>\n",
       "      <td>1.000000</td>\n",
       "      <td>0.000000</td>\n",
       "      <td>0.000000</td>\n",
       "      <td>0.000000</td>\n",
       "      <td>0.000000</td>\n",
       "      <td>0.000000</td>\n",
       "      <td>0.000000</td>\n",
       "      <td>0.0</td>\n",
       "      <td>0.000000</td>\n",
       "      <td>1.000000</td>\n",
       "      <td>1.000000</td>\n",
       "      <td>0.000000</td>\n",
       "      <td>-87.936193</td>\n",
       "      <td>1.000000</td>\n",
       "    </tr>\n",
       "    <tr>\n",
       "      <th>25%</th>\n",
       "      <td>30.000000</td>\n",
       "      <td>2.000000e+00</td>\n",
       "      <td>1245.000000</td>\n",
       "      <td>714.000000</td>\n",
       "      <td>2.000000</td>\n",
       "      <td>0.000000</td>\n",
       "      <td>0.000000</td>\n",
       "      <td>0.000000</td>\n",
       "      <td>0.000000</td>\n",
       "      <td>0.000000</td>\n",
       "      <td>1.000000</td>\n",
       "      <td>0.0</td>\n",
       "      <td>9.000000</td>\n",
       "      <td>2.000000</td>\n",
       "      <td>4.000000</td>\n",
       "      <td>41.782381</td>\n",
       "      <td>-87.721652</td>\n",
       "      <td>15.000000</td>\n",
       "    </tr>\n",
       "    <tr>\n",
       "      <th>50%</th>\n",
       "      <td>30.000000</td>\n",
       "      <td>2.000000e+00</td>\n",
       "      <td>3200.000000</td>\n",
       "      <td>1211.000000</td>\n",
       "      <td>2.000000</td>\n",
       "      <td>0.000000</td>\n",
       "      <td>0.000000</td>\n",
       "      <td>0.000000</td>\n",
       "      <td>0.000000</td>\n",
       "      <td>0.000000</td>\n",
       "      <td>2.000000</td>\n",
       "      <td>0.0</td>\n",
       "      <td>14.000000</td>\n",
       "      <td>4.000000</td>\n",
       "      <td>7.000000</td>\n",
       "      <td>41.874687</td>\n",
       "      <td>-87.674050</td>\n",
       "      <td>32.000000</td>\n",
       "    </tr>\n",
       "    <tr>\n",
       "      <th>75%</th>\n",
       "      <td>30.000000</td>\n",
       "      <td>4.000000e+00</td>\n",
       "      <td>5600.000000</td>\n",
       "      <td>1822.000000</td>\n",
       "      <td>2.000000</td>\n",
       "      <td>0.000000</td>\n",
       "      <td>0.000000</td>\n",
       "      <td>0.000000</td>\n",
       "      <td>0.000000</td>\n",
       "      <td>0.000000</td>\n",
       "      <td>2.000000</td>\n",
       "      <td>0.0</td>\n",
       "      <td>17.000000</td>\n",
       "      <td>6.000000</td>\n",
       "      <td>10.000000</td>\n",
       "      <td>41.924284</td>\n",
       "      <td>-87.633269</td>\n",
       "      <td>52.000000</td>\n",
       "    </tr>\n",
       "    <tr>\n",
       "      <th>max</th>\n",
       "      <td>99.000000</td>\n",
       "      <td>1.191625e+06</td>\n",
       "      <td>451100.000000</td>\n",
       "      <td>6100.000000</td>\n",
       "      <td>18.000000</td>\n",
       "      <td>21.000000</td>\n",
       "      <td>4.000000</td>\n",
       "      <td>10.000000</td>\n",
       "      <td>21.000000</td>\n",
       "      <td>15.000000</td>\n",
       "      <td>61.000000</td>\n",
       "      <td>0.0</td>\n",
       "      <td>23.000000</td>\n",
       "      <td>7.000000</td>\n",
       "      <td>12.000000</td>\n",
       "      <td>42.022780</td>\n",
       "      <td>0.000000</td>\n",
       "      <td>61.000000</td>\n",
       "    </tr>\n",
       "  </tbody>\n",
       "</table>\n",
       "</div>"
      ],
      "text/plain": [
       "       POSTED_SPEED_LIMIT      LANE_CNT      STREET_NO  BEAT_OF_OCCURRENCE  \\\n",
       "count       778847.000000  1.990060e+05  778847.000000       778842.000000   \n",
       "mean            28.396907  1.333032e+01    3685.933360         1242.603116   \n",
       "std              6.192316  2.961623e+03    2888.342841          705.370152   \n",
       "min              0.000000  0.000000e+00       0.000000          111.000000   \n",
       "25%             30.000000  2.000000e+00    1245.000000          714.000000   \n",
       "50%             30.000000  2.000000e+00    3200.000000         1211.000000   \n",
       "75%             30.000000  4.000000e+00    5600.000000         1822.000000   \n",
       "max             99.000000  1.191625e+06  451100.000000         6100.000000   \n",
       "\n",
       "           NUM_UNITS  INJURIES_TOTAL  INJURIES_FATAL  INJURIES_INCAPACITATING  \\\n",
       "count  778847.000000   777144.000000   777144.000000            777144.000000   \n",
       "mean        2.034754        0.188778        0.001194                 0.020112   \n",
       "std         0.452267        0.564532        0.037466                 0.166103   \n",
       "min         1.000000        0.000000        0.000000                 0.000000   \n",
       "25%         2.000000        0.000000        0.000000                 0.000000   \n",
       "50%         2.000000        0.000000        0.000000                 0.000000   \n",
       "75%         2.000000        0.000000        0.000000                 0.000000   \n",
       "max        18.000000       21.000000        4.000000                10.000000   \n",
       "\n",
       "       INJURIES_NON_INCAPACITATING  INJURIES_REPORTED_NOT_EVIDENT  \\\n",
       "count                777144.000000                  777144.000000   \n",
       "mean                      0.106705                       0.060767   \n",
       "std                       0.421350                       0.317185   \n",
       "min                       0.000000                       0.000000   \n",
       "25%                       0.000000                       0.000000   \n",
       "50%                       0.000000                       0.000000   \n",
       "75%                       0.000000                       0.000000   \n",
       "max                      21.000000                      15.000000   \n",
       "\n",
       "       INJURIES_NO_INDICATION  INJURIES_UNKNOWN     CRASH_HOUR  \\\n",
       "count           777144.000000          777144.0  778847.000000   \n",
       "mean                 2.004773               0.0      13.205675   \n",
       "std                  1.159469               0.0       5.565372   \n",
       "min                  0.000000               0.0       0.000000   \n",
       "25%                  1.000000               0.0       9.000000   \n",
       "50%                  2.000000               0.0      14.000000   \n",
       "75%                  2.000000               0.0      17.000000   \n",
       "max                 61.000000               0.0      23.000000   \n",
       "\n",
       "       CRASH_DAY_OF_WEEK    CRASH_MONTH       LATITUDE      LONGITUDE  \\\n",
       "count      778847.000000  778847.000000  773629.000000  773629.000000   \n",
       "mean            4.122012       6.696038      41.854822     -87.673523   \n",
       "std             1.980178       3.367947       0.334037       0.678644   \n",
       "min             1.000000       1.000000       0.000000     -87.936193   \n",
       "25%             2.000000       4.000000      41.782381     -87.721652   \n",
       "50%             4.000000       7.000000      41.874687     -87.674050   \n",
       "75%             6.000000      10.000000      41.924284     -87.633269   \n",
       "max             7.000000      12.000000      42.022780       0.000000   \n",
       "\n",
       "       Boundaries - ZIP Codes  \n",
       "count           773247.000000  \n",
       "mean                32.233258  \n",
       "std                 19.205914  \n",
       "min                  1.000000  \n",
       "25%                 15.000000  \n",
       "50%                 32.000000  \n",
       "75%                 52.000000  \n",
       "max                 61.000000  "
      ]
     },
     "execution_count": 107,
     "metadata": {},
     "output_type": "execute_result"
    }
   ],
   "source": [
    "df_crashes.describe()"
   ]
  },
  {
   "cell_type": "code",
   "execution_count": 108,
   "metadata": {},
   "outputs": [
    {
     "data": {
      "text/html": [
       "<div>\n",
       "<style scoped>\n",
       "    .dataframe tbody tr th:only-of-type {\n",
       "        vertical-align: middle;\n",
       "    }\n",
       "\n",
       "    .dataframe tbody tr th {\n",
       "        vertical-align: top;\n",
       "    }\n",
       "\n",
       "    .dataframe thead th {\n",
       "        text-align: right;\n",
       "    }\n",
       "</style>\n",
       "<table border=\"1\" class=\"dataframe\">\n",
       "  <thead>\n",
       "    <tr style=\"text-align: right;\">\n",
       "      <th></th>\n",
       "      <th>CRASH_UNIT_ID</th>\n",
       "      <th>UNIT_NO</th>\n",
       "      <th>NUM_PASSENGERS</th>\n",
       "      <th>VEHICLE_ID</th>\n",
       "      <th>VEHICLE_YEAR</th>\n",
       "      <th>OCCUPANT_CNT</th>\n",
       "      <th>CMV_ID</th>\n",
       "      <th>TRAILER1_LENGTH</th>\n",
       "      <th>TRAILER2_LENGTH</th>\n",
       "      <th>TOTAL_VEHICLE_LENGTH</th>\n",
       "      <th>AXLE_CNT</th>\n",
       "    </tr>\n",
       "  </thead>\n",
       "  <tbody>\n",
       "    <tr>\n",
       "      <th>count</th>\n",
       "      <td>1.588937e+06</td>\n",
       "      <td>1.588937e+06</td>\n",
       "      <td>235108.000000</td>\n",
       "      <td>1.552556e+06</td>\n",
       "      <td>1.301948e+06</td>\n",
       "      <td>1.552556e+06</td>\n",
       "      <td>16335.000000</td>\n",
       "      <td>2308.000000</td>\n",
       "      <td>66.000000</td>\n",
       "      <td>2806.000000</td>\n",
       "      <td>4183.000000</td>\n",
       "    </tr>\n",
       "    <tr>\n",
       "      <th>mean</th>\n",
       "      <td>8.496932e+05</td>\n",
       "      <td>3.942327e+00</td>\n",
       "      <td>1.471736</td>\n",
       "      <td>8.080897e+05</td>\n",
       "      <td>2.013942e+03</td>\n",
       "      <td>1.079031e+00</td>\n",
       "      <td>9112.995654</td>\n",
       "      <td>48.467504</td>\n",
       "      <td>44.530303</td>\n",
       "      <td>53.204562</td>\n",
       "      <td>9.934019</td>\n",
       "    </tr>\n",
       "    <tr>\n",
       "      <th>std</th>\n",
       "      <td>4.922384e+05</td>\n",
       "      <td>2.997178e+03</td>\n",
       "      <td>1.063307</td>\n",
       "      <td>4.665830e+05</td>\n",
       "      <td>1.398282e+02</td>\n",
       "      <td>7.840426e-01</td>\n",
       "      <td>5273.816457</td>\n",
       "      <td>20.972049</td>\n",
       "      <td>28.290373</td>\n",
       "      <td>31.488518</td>\n",
       "      <td>402.095125</td>\n",
       "    </tr>\n",
       "    <tr>\n",
       "      <th>min</th>\n",
       "      <td>2.000000e+00</td>\n",
       "      <td>0.000000e+00</td>\n",
       "      <td>1.000000</td>\n",
       "      <td>2.000000e+00</td>\n",
       "      <td>1.900000e+03</td>\n",
       "      <td>0.000000e+00</td>\n",
       "      <td>1.000000</td>\n",
       "      <td>1.000000</td>\n",
       "      <td>1.000000</td>\n",
       "      <td>1.000000</td>\n",
       "      <td>1.000000</td>\n",
       "    </tr>\n",
       "    <tr>\n",
       "      <th>25%</th>\n",
       "      <td>4.223680e+05</td>\n",
       "      <td>1.000000e+00</td>\n",
       "      <td>1.000000</td>\n",
       "      <td>4.043528e+05</td>\n",
       "      <td>2.007000e+03</td>\n",
       "      <td>1.000000e+00</td>\n",
       "      <td>4506.500000</td>\n",
       "      <td>45.000000</td>\n",
       "      <td>24.250000</td>\n",
       "      <td>35.000000</td>\n",
       "      <td>2.000000</td>\n",
       "    </tr>\n",
       "    <tr>\n",
       "      <th>50%</th>\n",
       "      <td>8.505170e+05</td>\n",
       "      <td>2.000000e+00</td>\n",
       "      <td>1.000000</td>\n",
       "      <td>8.072105e+05</td>\n",
       "      <td>2.013000e+03</td>\n",
       "      <td>1.000000e+00</td>\n",
       "      <td>9136.000000</td>\n",
       "      <td>53.000000</td>\n",
       "      <td>49.000000</td>\n",
       "      <td>53.000000</td>\n",
       "      <td>3.000000</td>\n",
       "    </tr>\n",
       "    <tr>\n",
       "      <th>75%</th>\n",
       "      <td>1.276142e+06</td>\n",
       "      <td>2.000000e+00</td>\n",
       "      <td>2.000000</td>\n",
       "      <td>1.211314e+06</td>\n",
       "      <td>2.016000e+03</td>\n",
       "      <td>1.000000e+00</td>\n",
       "      <td>13699.500000</td>\n",
       "      <td>53.000000</td>\n",
       "      <td>53.000000</td>\n",
       "      <td>65.000000</td>\n",
       "      <td>5.000000</td>\n",
       "    </tr>\n",
       "    <tr>\n",
       "      <th>max</th>\n",
       "      <td>1.699579e+06</td>\n",
       "      <td>3.778035e+06</td>\n",
       "      <td>59.000000</td>\n",
       "      <td>1.617699e+06</td>\n",
       "      <td>9.999000e+03</td>\n",
       "      <td>9.900000e+01</td>\n",
       "      <td>18191.000000</td>\n",
       "      <td>740.000000</td>\n",
       "      <td>123.000000</td>\n",
       "      <td>999.000000</td>\n",
       "      <td>26009.000000</td>\n",
       "    </tr>\n",
       "  </tbody>\n",
       "</table>\n",
       "</div>"
      ],
      "text/plain": [
       "       CRASH_UNIT_ID       UNIT_NO  NUM_PASSENGERS    VEHICLE_ID  \\\n",
       "count   1.588937e+06  1.588937e+06   235108.000000  1.552556e+06   \n",
       "mean    8.496932e+05  3.942327e+00        1.471736  8.080897e+05   \n",
       "std     4.922384e+05  2.997178e+03        1.063307  4.665830e+05   \n",
       "min     2.000000e+00  0.000000e+00        1.000000  2.000000e+00   \n",
       "25%     4.223680e+05  1.000000e+00        1.000000  4.043528e+05   \n",
       "50%     8.505170e+05  2.000000e+00        1.000000  8.072105e+05   \n",
       "75%     1.276142e+06  2.000000e+00        2.000000  1.211314e+06   \n",
       "max     1.699579e+06  3.778035e+06       59.000000  1.617699e+06   \n",
       "\n",
       "       VEHICLE_YEAR  OCCUPANT_CNT        CMV_ID  TRAILER1_LENGTH  \\\n",
       "count  1.301948e+06  1.552556e+06  16335.000000      2308.000000   \n",
       "mean   2.013942e+03  1.079031e+00   9112.995654        48.467504   \n",
       "std    1.398282e+02  7.840426e-01   5273.816457        20.972049   \n",
       "min    1.900000e+03  0.000000e+00      1.000000         1.000000   \n",
       "25%    2.007000e+03  1.000000e+00   4506.500000        45.000000   \n",
       "50%    2.013000e+03  1.000000e+00   9136.000000        53.000000   \n",
       "75%    2.016000e+03  1.000000e+00  13699.500000        53.000000   \n",
       "max    9.999000e+03  9.900000e+01  18191.000000       740.000000   \n",
       "\n",
       "       TRAILER2_LENGTH  TOTAL_VEHICLE_LENGTH      AXLE_CNT  \n",
       "count        66.000000           2806.000000   4183.000000  \n",
       "mean         44.530303             53.204562      9.934019  \n",
       "std          28.290373             31.488518    402.095125  \n",
       "min           1.000000              1.000000      1.000000  \n",
       "25%          24.250000             35.000000      2.000000  \n",
       "50%          49.000000             53.000000      3.000000  \n",
       "75%          53.000000             65.000000      5.000000  \n",
       "max         123.000000            999.000000  26009.000000  "
      ]
     },
     "execution_count": 108,
     "metadata": {},
     "output_type": "execute_result"
    }
   ],
   "source": [
    "df_vehicles.describe()"
   ]
  },
  {
   "cell_type": "code",
   "execution_count": 86,
   "metadata": {},
   "outputs": [
    {
     "data": {
      "text/html": [
       "<div>\n",
       "<style scoped>\n",
       "    .dataframe tbody tr th:only-of-type {\n",
       "        vertical-align: middle;\n",
       "    }\n",
       "\n",
       "    .dataframe tbody tr th {\n",
       "        vertical-align: top;\n",
       "    }\n",
       "\n",
       "    .dataframe thead th {\n",
       "        text-align: right;\n",
       "    }\n",
       "</style>\n",
       "<table border=\"1\" class=\"dataframe\">\n",
       "  <thead>\n",
       "    <tr style=\"text-align: right;\">\n",
       "      <th></th>\n",
       "      <th>VEHICLE_ID</th>\n",
       "      <th>SEAT_NO</th>\n",
       "      <th>AGE</th>\n",
       "      <th>BAC_RESULT VALUE</th>\n",
       "    </tr>\n",
       "  </thead>\n",
       "  <tbody>\n",
       "    <tr>\n",
       "      <th>count</th>\n",
       "      <td>1.675923e+06</td>\n",
       "      <td>346017.000000</td>\n",
       "      <td>1.211091e+06</td>\n",
       "      <td>1940.000000</td>\n",
       "    </tr>\n",
       "    <tr>\n",
       "      <th>mean</th>\n",
       "      <td>8.036864e+05</td>\n",
       "      <td>4.163801</td>\n",
       "      <td>3.787037e+01</td>\n",
       "      <td>0.169784</td>\n",
       "    </tr>\n",
       "    <tr>\n",
       "      <th>std</th>\n",
       "      <td>4.669772e+05</td>\n",
       "      <td>2.208931</td>\n",
       "      <td>1.709925e+01</td>\n",
       "      <td>0.102296</td>\n",
       "    </tr>\n",
       "    <tr>\n",
       "      <th>min</th>\n",
       "      <td>2.000000e+00</td>\n",
       "      <td>1.000000</td>\n",
       "      <td>-1.770000e+02</td>\n",
       "      <td>0.000000</td>\n",
       "    </tr>\n",
       "    <tr>\n",
       "      <th>25%</th>\n",
       "      <td>3.998430e+05</td>\n",
       "      <td>3.000000</td>\n",
       "      <td>2.500000e+01</td>\n",
       "      <td>0.120000</td>\n",
       "    </tr>\n",
       "    <tr>\n",
       "      <th>50%</th>\n",
       "      <td>7.946780e+05</td>\n",
       "      <td>3.000000</td>\n",
       "      <td>3.500000e+01</td>\n",
       "      <td>0.170000</td>\n",
       "    </tr>\n",
       "    <tr>\n",
       "      <th>75%</th>\n",
       "      <td>1.208776e+06</td>\n",
       "      <td>6.000000</td>\n",
       "      <td>5.000000e+01</td>\n",
       "      <td>0.220000</td>\n",
       "    </tr>\n",
       "    <tr>\n",
       "      <th>max</th>\n",
       "      <td>1.617697e+06</td>\n",
       "      <td>12.000000</td>\n",
       "      <td>1.100000e+02</td>\n",
       "      <td>1.000000</td>\n",
       "    </tr>\n",
       "  </tbody>\n",
       "</table>\n",
       "</div>"
      ],
      "text/plain": [
       "         VEHICLE_ID        SEAT_NO           AGE  BAC_RESULT VALUE\n",
       "count  1.675923e+06  346017.000000  1.211091e+06       1940.000000\n",
       "mean   8.036864e+05       4.163801  3.787037e+01          0.169784\n",
       "std    4.669772e+05       2.208931  1.709925e+01          0.102296\n",
       "min    2.000000e+00       1.000000 -1.770000e+02          0.000000\n",
       "25%    3.998430e+05       3.000000  2.500000e+01          0.120000\n",
       "50%    7.946780e+05       3.000000  3.500000e+01          0.170000\n",
       "75%    1.208776e+06       6.000000  5.000000e+01          0.220000\n",
       "max    1.617697e+06      12.000000  1.100000e+02          1.000000"
      ]
     },
     "execution_count": 86,
     "metadata": {},
     "output_type": "execute_result"
    }
   ],
   "source": [
    "df_people.describe()"
   ]
  },
  {
   "cell_type": "code",
   "execution_count": 109,
   "metadata": {},
   "outputs": [
    {
     "data": {
      "text/html": [
       "<div>\n",
       "<style scoped>\n",
       "    .dataframe tbody tr th:only-of-type {\n",
       "        vertical-align: middle;\n",
       "    }\n",
       "\n",
       "    .dataframe tbody tr th {\n",
       "        vertical-align: top;\n",
       "    }\n",
       "\n",
       "    .dataframe thead th {\n",
       "        text-align: right;\n",
       "    }\n",
       "</style>\n",
       "<table border=\"1\" class=\"dataframe\">\n",
       "  <thead>\n",
       "    <tr style=\"text-align: right;\">\n",
       "      <th></th>\n",
       "      <th>CRASH_RECORD_ID</th>\n",
       "      <th>RD_NO</th>\n",
       "      <th>CRASH_DATE_EST_I</th>\n",
       "      <th>CRASH_DATE</th>\n",
       "      <th>POSTED_SPEED_LIMIT</th>\n",
       "      <th>TRAFFIC_CONTROL_DEVICE</th>\n",
       "      <th>DEVICE_CONDITION</th>\n",
       "      <th>WEATHER_CONDITION</th>\n",
       "      <th>LIGHTING_CONDITION</th>\n",
       "      <th>FIRST_CRASH_TYPE</th>\n",
       "      <th>...</th>\n",
       "      <th>EMS_RUN_NO</th>\n",
       "      <th>DRIVER_ACTION</th>\n",
       "      <th>DRIVER_VISION</th>\n",
       "      <th>PHYSICAL_CONDITION</th>\n",
       "      <th>PEDPEDAL_ACTION</th>\n",
       "      <th>PEDPEDAL_VISIBILITY</th>\n",
       "      <th>PEDPEDAL_LOCATION</th>\n",
       "      <th>BAC_RESULT</th>\n",
       "      <th>BAC_RESULT VALUE</th>\n",
       "      <th>CELL_PHONE_USE</th>\n",
       "    </tr>\n",
       "  </thead>\n",
       "  <tbody>\n",
       "    <tr>\n",
       "      <th>0</th>\n",
       "      <td>bc3c61d5dbe43abd180a650279a7623d9ecda1a520d8ff...</td>\n",
       "      <td>NaN</td>\n",
       "      <td>NaN</td>\n",
       "      <td>11/09/2023 02:40:00 AM</td>\n",
       "      <td>30</td>\n",
       "      <td>NO CONTROLS</td>\n",
       "      <td>NO CONTROLS</td>\n",
       "      <td>CLEAR</td>\n",
       "      <td>DARKNESS, LIGHTED ROAD</td>\n",
       "      <td>FIXED OBJECT</td>\n",
       "      <td>...</td>\n",
       "      <td>NaN</td>\n",
       "      <td>OVERCORRECTED</td>\n",
       "      <td>NOT OBSCURED</td>\n",
       "      <td>NORMAL</td>\n",
       "      <td>NaN</td>\n",
       "      <td>NaN</td>\n",
       "      <td>NaN</td>\n",
       "      <td>TEST NOT OFFERED</td>\n",
       "      <td>NaN</td>\n",
       "      <td>NaN</td>\n",
       "    </tr>\n",
       "    <tr>\n",
       "      <th>1</th>\n",
       "      <td>93178a4bc7997b3ef129dff65a54c3d3892a15155c05f9...</td>\n",
       "      <td>NaN</td>\n",
       "      <td>NaN</td>\n",
       "      <td>11/09/2023 02:30:00 AM</td>\n",
       "      <td>30</td>\n",
       "      <td>NO CONTROLS</td>\n",
       "      <td>NO CONTROLS</td>\n",
       "      <td>CLEAR</td>\n",
       "      <td>DARKNESS, LIGHTED ROAD</td>\n",
       "      <td>PARKED MOTOR VEHICLE</td>\n",
       "      <td>...</td>\n",
       "      <td>NaN</td>\n",
       "      <td>WRONG WAY/SIDE</td>\n",
       "      <td>UNKNOWN</td>\n",
       "      <td>UNKNOWN</td>\n",
       "      <td>NaN</td>\n",
       "      <td>NaN</td>\n",
       "      <td>NaN</td>\n",
       "      <td>TEST NOT OFFERED</td>\n",
       "      <td>NaN</td>\n",
       "      <td>NaN</td>\n",
       "    </tr>\n",
       "    <tr>\n",
       "      <th>2</th>\n",
       "      <td>93178a4bc7997b3ef129dff65a54c3d3892a15155c05f9...</td>\n",
       "      <td>NaN</td>\n",
       "      <td>NaN</td>\n",
       "      <td>11/09/2023 02:30:00 AM</td>\n",
       "      <td>30</td>\n",
       "      <td>NO CONTROLS</td>\n",
       "      <td>NO CONTROLS</td>\n",
       "      <td>CLEAR</td>\n",
       "      <td>DARKNESS, LIGHTED ROAD</td>\n",
       "      <td>PARKED MOTOR VEHICLE</td>\n",
       "      <td>...</td>\n",
       "      <td>NaN</td>\n",
       "      <td>WRONG WAY/SIDE</td>\n",
       "      <td>UNKNOWN</td>\n",
       "      <td>UNKNOWN</td>\n",
       "      <td>NaN</td>\n",
       "      <td>NaN</td>\n",
       "      <td>NaN</td>\n",
       "      <td>TEST NOT OFFERED</td>\n",
       "      <td>NaN</td>\n",
       "      <td>NaN</td>\n",
       "    </tr>\n",
       "    <tr>\n",
       "      <th>3</th>\n",
       "      <td>93178a4bc7997b3ef129dff65a54c3d3892a15155c05f9...</td>\n",
       "      <td>NaN</td>\n",
       "      <td>NaN</td>\n",
       "      <td>11/09/2023 02:30:00 AM</td>\n",
       "      <td>30</td>\n",
       "      <td>NO CONTROLS</td>\n",
       "      <td>NO CONTROLS</td>\n",
       "      <td>CLEAR</td>\n",
       "      <td>DARKNESS, LIGHTED ROAD</td>\n",
       "      <td>PARKED MOTOR VEHICLE</td>\n",
       "      <td>...</td>\n",
       "      <td>NaN</td>\n",
       "      <td>WRONG WAY/SIDE</td>\n",
       "      <td>UNKNOWN</td>\n",
       "      <td>UNKNOWN</td>\n",
       "      <td>NaN</td>\n",
       "      <td>NaN</td>\n",
       "      <td>NaN</td>\n",
       "      <td>TEST NOT OFFERED</td>\n",
       "      <td>NaN</td>\n",
       "      <td>NaN</td>\n",
       "    </tr>\n",
       "    <tr>\n",
       "      <th>4</th>\n",
       "      <td>ed4ce4638847ebd835a2f72e1353938b431ecfc5e1ba26...</td>\n",
       "      <td>NaN</td>\n",
       "      <td>NaN</td>\n",
       "      <td>11/09/2023 02:20:00 AM</td>\n",
       "      <td>30</td>\n",
       "      <td>NO CONTROLS</td>\n",
       "      <td>NO CONTROLS</td>\n",
       "      <td>CLEAR</td>\n",
       "      <td>DARKNESS, LIGHTED ROAD</td>\n",
       "      <td>TURNING</td>\n",
       "      <td>...</td>\n",
       "      <td>NaN</td>\n",
       "      <td>IMPROPER PASSING</td>\n",
       "      <td>UNKNOWN</td>\n",
       "      <td>UNKNOWN</td>\n",
       "      <td>NaN</td>\n",
       "      <td>NaN</td>\n",
       "      <td>NaN</td>\n",
       "      <td>TEST NOT OFFERED</td>\n",
       "      <td>NaN</td>\n",
       "      <td>NaN</td>\n",
       "    </tr>\n",
       "  </tbody>\n",
       "</table>\n",
       "<p>5 rows × 150 columns</p>\n",
       "</div>"
      ],
      "text/plain": [
       "                                     CRASH_RECORD_ID RD_NO CRASH_DATE_EST_I  \\\n",
       "0  bc3c61d5dbe43abd180a650279a7623d9ecda1a520d8ff...   NaN              NaN   \n",
       "1  93178a4bc7997b3ef129dff65a54c3d3892a15155c05f9...   NaN              NaN   \n",
       "2  93178a4bc7997b3ef129dff65a54c3d3892a15155c05f9...   NaN              NaN   \n",
       "3  93178a4bc7997b3ef129dff65a54c3d3892a15155c05f9...   NaN              NaN   \n",
       "4  ed4ce4638847ebd835a2f72e1353938b431ecfc5e1ba26...   NaN              NaN   \n",
       "\n",
       "               CRASH_DATE  POSTED_SPEED_LIMIT TRAFFIC_CONTROL_DEVICE  \\\n",
       "0  11/09/2023 02:40:00 AM                  30            NO CONTROLS   \n",
       "1  11/09/2023 02:30:00 AM                  30            NO CONTROLS   \n",
       "2  11/09/2023 02:30:00 AM                  30            NO CONTROLS   \n",
       "3  11/09/2023 02:30:00 AM                  30            NO CONTROLS   \n",
       "4  11/09/2023 02:20:00 AM                  30            NO CONTROLS   \n",
       "\n",
       "  DEVICE_CONDITION WEATHER_CONDITION      LIGHTING_CONDITION  \\\n",
       "0      NO CONTROLS             CLEAR  DARKNESS, LIGHTED ROAD   \n",
       "1      NO CONTROLS             CLEAR  DARKNESS, LIGHTED ROAD   \n",
       "2      NO CONTROLS             CLEAR  DARKNESS, LIGHTED ROAD   \n",
       "3      NO CONTROLS             CLEAR  DARKNESS, LIGHTED ROAD   \n",
       "4      NO CONTROLS             CLEAR  DARKNESS, LIGHTED ROAD   \n",
       "\n",
       "       FIRST_CRASH_TYPE  ... EMS_RUN_NO     DRIVER_ACTION DRIVER_VISION  \\\n",
       "0          FIXED OBJECT  ...        NaN     OVERCORRECTED  NOT OBSCURED   \n",
       "1  PARKED MOTOR VEHICLE  ...        NaN    WRONG WAY/SIDE       UNKNOWN   \n",
       "2  PARKED MOTOR VEHICLE  ...        NaN    WRONG WAY/SIDE       UNKNOWN   \n",
       "3  PARKED MOTOR VEHICLE  ...        NaN    WRONG WAY/SIDE       UNKNOWN   \n",
       "4               TURNING  ...        NaN  IMPROPER PASSING       UNKNOWN   \n",
       "\n",
       "  PHYSICAL_CONDITION PEDPEDAL_ACTION PEDPEDAL_VISIBILITY PEDPEDAL_LOCATION  \\\n",
       "0             NORMAL             NaN                 NaN               NaN   \n",
       "1            UNKNOWN             NaN                 NaN               NaN   \n",
       "2            UNKNOWN             NaN                 NaN               NaN   \n",
       "3            UNKNOWN             NaN                 NaN               NaN   \n",
       "4            UNKNOWN             NaN                 NaN               NaN   \n",
       "\n",
       "         BAC_RESULT BAC_RESULT VALUE CELL_PHONE_USE  \n",
       "0  TEST NOT OFFERED              NaN            NaN  \n",
       "1  TEST NOT OFFERED              NaN            NaN  \n",
       "2  TEST NOT OFFERED              NaN            NaN  \n",
       "3  TEST NOT OFFERED              NaN            NaN  \n",
       "4  TEST NOT OFFERED              NaN            NaN  \n",
       "\n",
       "[5 rows x 150 columns]"
      ]
     },
     "execution_count": 109,
     "metadata": {},
     "output_type": "execute_result"
    }
   ],
   "source": [
    "df_joined.head()"
   ]
  },
  {
   "cell_type": "code",
   "execution_count": 110,
   "metadata": {},
   "outputs": [
    {
     "data": {
      "text/plain": [
       "PRIM_CONTRIBUTORY_CAUSE\n",
       "UNABLE TO DETERMINE                                                                 1228330\n",
       "FAILING TO YIELD RIGHT-OF-WAY                                                        457919\n",
       "FOLLOWING TOO CLOSELY                                                                419163\n",
       "IMPROPER OVERTAKING/PASSING                                                          189341\n",
       "FAILING TO REDUCE SPEED TO AVOID CRASH                                               184352\n",
       "NOT APPLICABLE                                                                       162676\n",
       "IMPROPER LANE USAGE                                                                  135973\n",
       "IMPROPER TURNING/NO SIGNAL                                                           132008\n",
       "IMPROPER BACKING                                                                     120790\n",
       "DRIVING SKILLS/KNOWLEDGE/EXPERIENCE                                                  103509\n",
       "DISREGARDING TRAFFIC SIGNALS                                                          97650\n",
       "OPERATING VEHICLE IN ERRATIC, RECKLESS, CARELESS, NEGLIGENT OR AGGRESSIVE MANNER      52569\n",
       "WEATHER                                                                               49881\n",
       "DISREGARDING STOP SIGN                                                                49219\n",
       "DISTRACTION - FROM INSIDE VEHICLE                                                     28293\n",
       "DRIVING ON WRONG SIDE/WRONG WAY                                                       22764\n",
       "EQUIPMENT - VEHICLE CONDITION                                                         21003\n",
       "VISION OBSCURED (SIGNS, TREE LIMBS, BUILDINGS, ETC.)                                  19929\n",
       "PHYSICAL CONDITION OF DRIVER                                                          19509\n",
       "UNDER THE INFLUENCE OF ALCOHOL/DRUGS (USE WHEN ARREST IS EFFECTED)                    18479\n",
       "DISTRACTION - FROM OUTSIDE VEHICLE                                                    14310\n",
       "EXCEEDING AUTHORIZED SPEED LIMIT                                                       9898\n",
       "DISREGARDING OTHER TRAFFIC SIGNS                                                       8891\n",
       "EXCEEDING SAFE SPEED FOR CONDITIONS                                                    7968\n",
       "EVASIVE ACTION DUE TO ANIMAL, OBJECT, NONMOTORIST                                      5570\n",
       "CELL PHONE USE OTHER THAN TEXTING                                                      5349\n",
       "ROAD CONSTRUCTION/MAINTENANCE                                                          4639\n",
       "DISREGARDING ROAD MARKINGS                                                             4435\n",
       "ROAD ENGINEERING/SURFACE/MARKING DEFECTS                                               3708\n",
       "HAD BEEN DRINKING (USE WHEN ARREST IS NOT MADE)                                        3605\n",
       "TURNING RIGHT ON RED                                                                   3348\n",
       "DISTRACTION - OTHER ELECTRONIC DEVICE (NAVIGATION DEVICE, DVD PLAYER, ETC.)            1762\n",
       "RELATED TO BUS STOP                                                                    1732\n",
       "ANIMAL                                                                                 1610\n",
       "TEXTING                                                                                1514\n",
       "DISREGARDING YIELD SIGN                                                                1245\n",
       "PASSING STOPPED SCHOOL BUS                                                              666\n",
       "OBSTRUCTED CROSSWALKS                                                                   392\n",
       "BICYCLE ADVANCING LEGALLY ON RED LIGHT                                                  328\n",
       "MOTORCYCLE ADVANCING LEGALLY ON RED LIGHT                                                96\n",
       "Name: count, dtype: int64"
      ]
     },
     "execution_count": 110,
     "metadata": {},
     "output_type": "execute_result"
    }
   ],
   "source": [
    "# Checking out the PRIN_CONTRIBUTORY_CAUSE column\n",
    "\n",
    "df_joined['PRIM_CONTRIBUTORY_CAUSE'].value_counts()"
   ]
  },
  {
   "cell_type": "markdown",
   "metadata": {},
   "source": [
    "### Takeaway\n",
    "\n",
    "- Most of the primary contributory cause could not be determined.\n",
    "- There are currently 40 different classifications.\n",
    "\n",
    "- Possible classification grouping: Human Factors, Speed and Aggressive Driving, Weather and Environmental Conditions, Vehicle-Related Factors, Traffic Violations, Road Design and Infrastructure, Inadequate Driver Training and Education, Medical Conditions, Wildlife and Environmental Factors, Construction Zones, Distractions Outside the Vehicle."
   ]
  },
  {
   "cell_type": "code",
   "execution_count": 97,
   "metadata": {},
   "outputs": [],
   "source": [
    "#df_joined = df_joined[df_joined['PRIM_CONTRIBUTORY_CAUSE'] != 'UNABLE TO DETERMINE']\n",
    "#df_joined.info()"
   ]
  },
  {
   "cell_type": "code",
   "execution_count": 89,
   "metadata": {},
   "outputs": [
    {
     "data": {
      "text/plain": [
       "CRASH_DATE\n",
       "2023-06-20 18:23:00    360\n",
       "2023-07-23 02:08:00    223\n",
       "2019-10-05 22:08:00    192\n",
       "2023-08-11 15:03:00    171\n",
       "2023-01-24 19:15:00    168\n",
       "                      ... \n",
       "2019-08-03 09:42:00      1\n",
       "2019-08-03 08:34:00      1\n",
       "2019-08-03 08:25:00      1\n",
       "2019-08-03 07:00:00      1\n",
       "2020-03-18 09:33:00      1\n",
       "Name: count, Length: 509138, dtype: int64"
      ]
     },
     "execution_count": 89,
     "metadata": {},
     "output_type": "execute_result"
    }
   ],
   "source": [
    "# Checking out the CRASH_DATE column\n",
    "\n",
    "df_joined['CRASH_DATE'] = pd.to_datetime(df_joined['CRASH_DATE'])\n",
    "df_joined['CRASH_DATE'].value_counts()"
   ]
  },
  {
   "cell_type": "code",
   "execution_count": 90,
   "metadata": {},
   "outputs": [],
   "source": [
    "# Creating a new column consists of years\n",
    "\n",
    "df_joined['YEAR'] = df_joined['CRASH_DATE'].dt.year"
   ]
  },
  {
   "cell_type": "code",
   "execution_count": 91,
   "metadata": {},
   "outputs": [
    {
     "data": {
      "text/plain": [
       "2013"
      ]
     },
     "execution_count": 91,
     "metadata": {},
     "output_type": "execute_result"
    }
   ],
   "source": [
    "df_joined['YEAR'].min()"
   ]
  },
  {
   "cell_type": "code",
   "execution_count": 92,
   "metadata": {},
   "outputs": [
    {
     "data": {
      "text/plain": [
       "2023"
      ]
     },
     "execution_count": 92,
     "metadata": {},
     "output_type": "execute_result"
    }
   ],
   "source": [
    "df_joined['YEAR'].max()"
   ]
  },
  {
   "cell_type": "code",
   "execution_count": 94,
   "metadata": {},
   "outputs": [
    {
     "name": "stderr",
     "output_type": "stream",
     "text": [
      "/Users/dre/anaconda3/envs/learn-env/lib/python3.9/site-packages/seaborn/_oldcore.py:1498: FutureWarning: is_categorical_dtype is deprecated and will be removed in a future version. Use isinstance(dtype, CategoricalDtype) instead\n",
      "  if pd.api.types.is_categorical_dtype(vector):\n"
     ]
    },
    {
     "data": {
      "image/png": "[encoded data removed]",
      "text/plain": [
       "<Figure size 640x480 with 1 Axes>"
      ]
     },
     "metadata": {},
     "output_type": "display_data"
    }
   ],
   "source": [
    "sns.boxplot(data=df_joined, x=\"YEAR\")\n",
    "plt.show();"
   ]
  },
  {
   "cell_type": "code",
   "execution_count": 95,
   "metadata": {},
   "outputs": [
    {
     "name": "stdout",
     "output_type": "stream",
     "text": [
      "<class 'pandas.core.frame.DataFrame'>\n",
      "Index: 2970297 entries, 0 to 2970296\n",
      "Columns: 151 entries, CRASH_RECORD_ID to YEAR\n",
      "dtypes: datetime64[ns](1), float64(25), int32(1), int64(8), object(116)\n",
      "memory usage: 3.4+ GB\n"
     ]
    }
   ],
   "source": [
    "filtered_df_year = df_joined.loc[df_joined['YEAR'] >= 2018]\n",
    "filtered_df_year.info()"
   ]
  },
  {
   "cell_type": "markdown",
   "metadata": {},
   "source": [
    "## Takeaway\n",
    "\n",
    "- Most of the crashes occurred between 2018-2022: maybe filter in the last 5-6 years?\n",
    "\n",
    "- When filtered, we still have 2,970,297 observations"
   ]
  },
  {
   "cell_type": "code",
   "execution_count": 98,
   "metadata": {},
   "outputs": [
    {
     "data": {
      "text/plain": [
       "CRASH_MONTH\n",
       "10    355075\n",
       "9     335998\n",
       "8     329775\n",
       "7     322235\n",
       "6     317526\n",
       "5     313755\n",
       "11    287487\n",
       "12    282421\n",
       "3     269733\n",
       "4     262401\n",
       "1     261442\n",
       "2     256575\n",
       "Name: count, dtype: int64"
      ]
     },
     "execution_count": 98,
     "metadata": {},
     "output_type": "execute_result"
    }
   ],
   "source": [
    "df_joined['CRASH_MONTH'].value_counts()"
   ]
  },
  {
   "cell_type": "code",
   "execution_count": 65,
   "metadata": {},
   "outputs": [
    {
     "name": "stderr",
     "output_type": "stream",
     "text": [
      "/Users/dre/anaconda3/envs/learn-env/lib/python3.9/site-packages/seaborn/_oldcore.py:1498: FutureWarning: is_categorical_dtype is deprecated and will be removed in a future version. Use isinstance(dtype, CategoricalDtype) instead\n",
      "  if pd.api.types.is_categorical_dtype(vector):\n",
      "/Users/dre/anaconda3/envs/learn-env/lib/python3.9/site-packages/seaborn/_oldcore.py:1119: FutureWarning: use_inf_as_na option is deprecated and will be removed in a future version. Convert inf values to NaN before operating instead.\n",
      "  with pd.option_context('mode.use_inf_as_na', True):\n"
     ]
    },
    {
     "data": {
      "image/png": "[encoded data removed]",
      "text/plain": [
       "<Figure size 640x480 with 1 Axes>"
      ]
     },
     "metadata": {},
     "output_type": "display_data"
    }
   ],
   "source": [
    "sns.histplot(data=df_joined, x=\"CRASH_MONTH\")\n",
    "\n",
    "plt.show();"
   ]
  },
  {
   "cell_type": "code",
   "execution_count": 55,
   "metadata": {},
   "outputs": [
    {
     "data": {
      "text/plain": [
       "CRASH_HOUR\n",
       "16    294891\n",
       "15    294185\n",
       "17    286273\n",
       "14    247023\n",
       "18    234833\n",
       "13    220238\n",
       "12    207600\n",
       "8     185699\n",
       "11    175869\n",
       "19    169682\n",
       "10    153712\n",
       "9     153253\n",
       "7     149637\n",
       "20    132830\n",
       "21    121051\n",
       "22    109946\n",
       "23     92083\n",
       "0      72147\n",
       "6      68400\n",
       "1      60957\n",
       "2      50825\n",
       "5      40552\n",
       "3      39056\n",
       "4      33681\n",
       "Name: count, dtype: int64"
      ]
     },
     "execution_count": 55,
     "metadata": {},
     "output_type": "execute_result"
    }
   ],
   "source": [
    "df_joined['CRASH_HOUR'].value_counts()"
   ]
  },
  {
   "cell_type": "markdown",
   "metadata": {},
   "source": [
    "## Takeaway\n",
    "\n",
    "- Most crashes seem to happen in the afternoon"
   ]
  },
  {
   "cell_type": "code",
   "execution_count": 59,
   "metadata": {},
   "outputs": [
    {
     "data": {
      "text/plain": [
       "CRASH_DAY_OF_WEEK\n",
       "6    0.164049\n",
       "7    0.152577\n",
       "5    0.142170\n",
       "3    0.140636\n",
       "4    0.140353\n",
       "2    0.134501\n",
       "1    0.125714\n",
       "Name: proportion, dtype: float64"
      ]
     },
     "execution_count": 59,
     "metadata": {},
     "output_type": "execute_result"
    }
   ],
   "source": [
    "df_joined['CRASH_DAY_OF_WEEK'].value_counts(normalize=True)"
   ]
  },
  {
   "cell_type": "code",
   "execution_count": 61,
   "metadata": {},
   "outputs": [
    {
     "name": "stderr",
     "output_type": "stream",
     "text": [
      "/Users/dre/anaconda3/envs/learn-env/lib/python3.9/site-packages/seaborn/_oldcore.py:1498: FutureWarning: is_categorical_dtype is deprecated and will be removed in a future version. Use isinstance(dtype, CategoricalDtype) instead\n",
      "  if pd.api.types.is_categorical_dtype(vector):\n",
      "/Users/dre/anaconda3/envs/learn-env/lib/python3.9/site-packages/seaborn/_oldcore.py:1119: FutureWarning: use_inf_as_na option is deprecated and will be removed in a future version. Convert inf values to NaN before operating instead.\n",
      "  with pd.option_context('mode.use_inf_as_na', True):\n"
     ]
    },
    {
     "data": {
      "image/png": "[encoded data removed]",
      "text/plain": [
       "<Figure size 640x480 with 1 Axes>"
      ]
     },
     "metadata": {},
     "output_type": "display_data"
    }
   ],
   "source": [
    "sns.histplot(data=df_joined, x=\"CRASH_DAY_OF_WEEK\")\n",
    "\n",
    "plt.show();"
   ]
  },
  {
   "cell_type": "markdown",
   "metadata": {},
   "source": [
    "## Takeaway\n",
    "\n",
    "- Nothing interesting. It seems that the crashes occur evenly across the days of the week."
   ]
  },
  {
   "cell_type": "markdown",
   "metadata": {},
   "source": [
    "### Analyzing Injuries"
   ]
  },
  {
   "cell_type": "code",
   "execution_count": 77,
   "metadata": {},
   "outputs": [
    {
     "data": {
      "text/plain": [
       "INJURY_CLASSIFICATION\n",
       "NO INDICATION OF INJURY     3266517\n",
       "NONINCAPACITATING INJURY     184378\n",
       "REPORTED, NOT EVIDENT        104566\n",
       "INCAPACITATING INJURY         35112\n",
       "FATAL                          2116\n",
       "Name: count, dtype: int64"
      ]
     },
     "execution_count": 77,
     "metadata": {},
     "output_type": "execute_result"
    }
   ],
   "source": [
    "df_joined['INJURY_CLASSIFICATION'].value_counts()"
   ]
  },
  {
   "cell_type": "code",
   "execution_count": 78,
   "metadata": {},
   "outputs": [
    {
     "name": "stderr",
     "output_type": "stream",
     "text": [
      "/Users/dre/anaconda3/envs/learn-env/lib/python3.9/site-packages/seaborn/_oldcore.py:1498: FutureWarning: is_categorical_dtype is deprecated and will be removed in a future version. Use isinstance(dtype, CategoricalDtype) instead\n",
      "  if pd.api.types.is_categorical_dtype(vector):\n",
      "/Users/dre/anaconda3/envs/learn-env/lib/python3.9/site-packages/seaborn/_oldcore.py:1498: FutureWarning: is_categorical_dtype is deprecated and will be removed in a future version. Use isinstance(dtype, CategoricalDtype) instead\n",
      "  if pd.api.types.is_categorical_dtype(vector):\n",
      "/Users/dre/anaconda3/envs/learn-env/lib/python3.9/site-packages/seaborn/_oldcore.py:1119: FutureWarning: use_inf_as_na option is deprecated and will be removed in a future version. Convert inf values to NaN before operating instead.\n",
      "  with pd.option_context('mode.use_inf_as_na', True):\n"
     ]
    },
    {
     "data": {
      "image/png": "[encoded data removed]",
      "text/plain": [
       "<Figure size 2000x1200 with 1 Axes>"
      ]
     },
     "metadata": {},
     "output_type": "display_data"
    }
   ],
   "source": [
    "fig, ax = plt.subplots(figsize=(20, 12))\n",
    "\n",
    "sns.histplot(data=df_joined, x='INJURY_CLASSIFICATION')\n",
    "\n",
    "plt.show();"
   ]
  },
  {
   "cell_type": "code",
   "execution_count": 67,
   "metadata": {},
   "outputs": [
    {
     "data": {
      "text/plain": [
       "INJURIES_TOTAL\n",
       "0.0     2917583\n",
       "1.0      435667\n",
       "2.0      138347\n",
       "3.0       55013\n",
       "4.0       25083\n",
       "5.0       10639\n",
       "6.0        5378\n",
       "7.0        3002\n",
       "8.0        1050\n",
       "9.0         831\n",
       "10.0        558\n",
       "11.0        266\n",
       "15.0        247\n",
       "12.0        208\n",
       "17.0        153\n",
       "21.0        130\n",
       "16.0         85\n",
       "13.0         81\n",
       "19.0         58\n",
       "14.0         44\n",
       "Name: count, dtype: int64"
      ]
     },
     "execution_count": 67,
     "metadata": {},
     "output_type": "execute_result"
    }
   ],
   "source": [
    "df_joined['INJURIES_TOTAL'].value_counts()"
   ]
  },
  {
   "cell_type": "code",
   "execution_count": 68,
   "metadata": {},
   "outputs": [
    {
     "data": {
      "text/plain": [
       "INJURIES_FATAL\n",
       "0.0    3588360\n",
       "1.0       5289\n",
       "2.0        626\n",
       "3.0        108\n",
       "4.0         40\n",
       "Name: count, dtype: int64"
      ]
     },
     "execution_count": 68,
     "metadata": {},
     "output_type": "execute_result"
    }
   ],
   "source": [
    "df_joined['INJURIES_FATAL'].value_counts()"
   ]
  },
  {
   "cell_type": "code",
   "execution_count": 69,
   "metadata": {},
   "outputs": [
    {
     "data": {
      "text/plain": [
       "INJURIES_INCAPACITATING\n",
       "0.0     3506592\n",
       "1.0       70405\n",
       "2.0       11701\n",
       "3.0        3585\n",
       "4.0        1275\n",
       "5.0         461\n",
       "6.0         311\n",
       "10.0         36\n",
       "7.0          33\n",
       "8.0          24\n",
       "Name: count, dtype: int64"
      ]
     },
     "execution_count": 69,
     "metadata": {},
     "output_type": "execute_result"
    }
   ],
   "source": [
    "df_joined['INJURIES_INCAPACITATING'].value_counts()"
   ]
  },
  {
   "cell_type": "code",
   "execution_count": 70,
   "metadata": {},
   "outputs": [
    {
     "data": {
      "text/plain": [
       "INJURIES_NON_INCAPACITATING\n",
       "0.0     3192072\n",
       "1.0      274804\n",
       "2.0       74819\n",
       "3.0       28642\n",
       "4.0       13120\n",
       "5.0        5541\n",
       "6.0        2473\n",
       "7.0        1107\n",
       "8.0         702\n",
       "10.0        321\n",
       "9.0         259\n",
       "12.0        126\n",
       "11.0        105\n",
       "16.0         85\n",
       "21.0         67\n",
       "18.0         58\n",
       "15.0         48\n",
       "19.0         42\n",
       "14.0         32\n",
       "Name: count, dtype: int64"
      ]
     },
     "execution_count": 70,
     "metadata": {},
     "output_type": "execute_result"
    }
   ],
   "source": [
    "df_joined['INJURIES_NON_INCAPACITATING'].value_counts()"
   ]
  },
  {
   "cell_type": "code",
   "execution_count": 71,
   "metadata": {},
   "outputs": [
    {
     "data": {
      "text/plain": [
       "INJURIES_NO_INDICATION\n",
       "2.0     1533955\n",
       "3.0      667638\n",
       "1.0      626086\n",
       "4.0      338786\n",
       "5.0      178520\n",
       "6.0       91314\n",
       "0.0       59205\n",
       "7.0       42629\n",
       "8.0       22874\n",
       "9.0       11334\n",
       "10.0       6175\n",
       "11.0       3525\n",
       "12.0       1797\n",
       "14.0       1376\n",
       "13.0       1295\n",
       "15.0        745\n",
       "16.0        704\n",
       "37.0        530\n",
       "17.0        527\n",
       "20.0        482\n",
       "19.0        334\n",
       "21.0        317\n",
       "30.0        300\n",
       "36.0        298\n",
       "22.0        264\n",
       "26.0        262\n",
       "42.0        256\n",
       "31.0        248\n",
       "29.0        240\n",
       "27.0        216\n",
       "18.0        203\n",
       "45.0        180\n",
       "28.0        170\n",
       "40.0        160\n",
       "24.0        144\n",
       "46.0        138\n",
       "34.0        136\n",
       "33.0        136\n",
       "32.0        128\n",
       "61.0        122\n",
       "25.0        108\n",
       "50.0        100\n",
       "48.0         96\n",
       "39.0         90\n",
       "43.0         88\n",
       "38.0         76\n",
       "35.0         70\n",
       "23.0         46\n",
       "Name: count, dtype: int64"
      ]
     },
     "execution_count": 71,
     "metadata": {},
     "output_type": "execute_result"
    }
   ],
   "source": [
    "df_joined['INJURIES_NO_INDICATION'].value_counts()"
   ]
  },
  {
   "cell_type": "code",
   "execution_count": 73,
   "metadata": {},
   "outputs": [
    {
     "data": {
      "text/plain": [
       "INJURIES_REPORTED_NOT_EVIDENT\n",
       "0.0     3348718\n",
       "1.0      170603\n",
       "2.0       47866\n",
       "3.0       16454\n",
       "4.0        5941\n",
       "5.0        2549\n",
       "6.0         863\n",
       "7.0         476\n",
       "9.0         400\n",
       "8.0         201\n",
       "10.0        169\n",
       "11.0        121\n",
       "15.0         62\n",
       "Name: count, dtype: int64"
      ]
     },
     "execution_count": 73,
     "metadata": {},
     "output_type": "execute_result"
    }
   ],
   "source": [
    "df_joined['INJURIES_REPORTED_NOT_EVIDENT'].value_counts()"
   ]
  },
  {
   "cell_type": "code",
   "execution_count": 74,
   "metadata": {},
   "outputs": [
    {
     "data": {
      "text/plain": [
       "INJURIES_UNKNOWN\n",
       "0.0    3594423\n",
       "Name: count, dtype: int64"
      ]
     },
     "execution_count": 74,
     "metadata": {},
     "output_type": "execute_result"
    }
   ],
   "source": [
    "df_joined['INJURIES_UNKNOWN'].value_counts()"
   ]
  },
  {
   "cell_type": "code",
   "execution_count": 53,
   "metadata": {},
   "outputs": [
    {
     "data": {
      "text/plain": [
       "STREET_NAME\n",
       "WESTERN AVE              104834\n",
       "PULASKI RD                98578\n",
       "CICERO AVE                91622\n",
       "ASHLAND AVE               83875\n",
       "HALSTED ST                76361\n",
       "                          ...  \n",
       "LAKE SHORE DR NB RAMP         1\n",
       "BLAKE ST                      1\n",
       "HADDOCK PL                    1\n",
       "LAFLIN AVE                    1\n",
       "INDEPENDENCE SQ               1\n",
       "Name: count, Length: 1629, dtype: int64"
      ]
     },
     "execution_count": 53,
     "metadata": {},
     "output_type": "execute_result"
    }
   ],
   "source": [
    "df_joined['STREET_NAME'].value_counts()"
   ]
  },
  {
   "cell_type": "markdown",
   "metadata": {},
   "source": [
    "## Takeaway\n",
    "\n",
    "- It is interesting that most accidents occur on Western Avenue"
   ]
  },
  {
   "cell_type": "code",
   "execution_count": 66,
   "metadata": {},
   "outputs": [
    {
     "data": {
      "text/plain": [
       "STREET_DIRECTION\n",
       "W    1292200\n",
       "S    1210164\n",
       "N     845874\n",
       "E     246171\n",
       "Name: count, dtype: int64"
      ]
     },
     "execution_count": 66,
     "metadata": {},
     "output_type": "execute_result"
    }
   ],
   "source": [
    "df_joined['STREET_DIRECTION'].value_counts()"
   ]
  },
  {
   "cell_type": "code",
   "execution_count": 57,
   "metadata": {},
   "outputs": [
    {
     "data": {
      "text/plain": [
       "ROADWAY_SURFACE_COND\n",
       "DRY                0.751849\n",
       "WET                0.138986\n",
       "UNKNOWN            0.068982\n",
       "SNOW OR SLUSH      0.031212\n",
       "ICE                0.006427\n",
       "OTHER              0.002291\n",
       "SAND, MUD, DIRT    0.000253\n",
       "Name: proportion, dtype: float64"
      ]
     },
     "execution_count": 57,
     "metadata": {},
     "output_type": "execute_result"
    }
   ],
   "source": [
    "df_joined['ROADWAY_SURFACE_COND'].value_counts(normalize=True)"
   ]
  },
  {
   "cell_type": "code",
   "execution_count": 58,
   "metadata": {},
   "outputs": [
    {
     "name": "stderr",
     "output_type": "stream",
     "text": [
      "/Users/dre/anaconda3/envs/learn-env/lib/python3.9/site-packages/seaborn/_oldcore.py:1498: FutureWarning: is_categorical_dtype is deprecated and will be removed in a future version. Use isinstance(dtype, CategoricalDtype) instead\n",
      "  if pd.api.types.is_categorical_dtype(vector):\n",
      "/Users/dre/anaconda3/envs/learn-env/lib/python3.9/site-packages/seaborn/_oldcore.py:1498: FutureWarning: is_categorical_dtype is deprecated and will be removed in a future version. Use isinstance(dtype, CategoricalDtype) instead\n",
      "  if pd.api.types.is_categorical_dtype(vector):\n",
      "/Users/dre/anaconda3/envs/learn-env/lib/python3.9/site-packages/seaborn/_oldcore.py:1119: FutureWarning: use_inf_as_na option is deprecated and will be removed in a future version. Convert inf values to NaN before operating instead.\n",
      "  with pd.option_context('mode.use_inf_as_na', True):\n"
     ]
    },
    {
     "data": {
      "image/png": "[encoded data removed]",
      "text/plain": [
       "<Figure size 2500x800 with 1 Axes>"
      ]
     },
     "metadata": {},
     "output_type": "display_data"
    }
   ],
   "source": [
    "fig, ax = plt.subplots(figsize=(25, 8))\n",
    "\n",
    "sns.histplot(data=df_joined, x=\"ROADWAY_SURFACE_COND\")\n",
    "\n",
    "plt.show();"
   ]
  },
  {
   "cell_type": "markdown",
   "metadata": {},
   "source": [
    "## Takeaway\n",
    "\n",
    "- Most accidents occur on dry surfaces"
   ]
  },
  {
   "cell_type": "code",
   "execution_count": 29,
   "metadata": {},
   "outputs": [
    {
     "data": {
      "text/plain": [
       "DRIVER_VISION\n",
       "NOT OBSCURED              1457441\n",
       "UNKNOWN                   1326337\n",
       "OTHER                       27748\n",
       "MOVING VEHICLES             16179\n",
       "PARKED VEHICLES              9992\n",
       "WINDSHIELD (WATER/ICE)       7745\n",
       "BLINDED - SUNLIGHT           3279\n",
       "TREES, PLANTS                1076\n",
       "BUILDINGS                     940\n",
       "BLINDED - HEADLIGHTS          283\n",
       "BLOWING MATERIALS             194\n",
       "HILLCREST                     185\n",
       "EMBANKMENT                    167\n",
       "SIGNBOARD                      70\n",
       "Name: count, dtype: int64"
      ]
     },
     "execution_count": 29,
     "metadata": {},
     "output_type": "execute_result"
    }
   ],
   "source": [
    "df_joined['DRIVER_VISION'].value_counts()"
   ]
  },
  {
   "cell_type": "code",
   "execution_count": 30,
   "metadata": {},
   "outputs": [
    {
     "data": {
      "text/plain": [
       "BAC_RESULT\n",
       "TEST NOT OFFERED                   2811496\n",
       "TEST REFUSED                         30552\n",
       "TEST PERFORMED, RESULTS UNKNOWN       7388\n",
       "TEST TAKEN                            5660\n",
       "Name: count, dtype: int64"
      ]
     },
     "execution_count": 30,
     "metadata": {},
     "output_type": "execute_result"
    }
   ],
   "source": [
    "df_joined['BAC_RESULT'].value_counts()"
   ]
  },
  {
   "cell_type": "code",
   "execution_count": 26,
   "metadata": {},
   "outputs": [
    {
     "data": {
      "text/plain": [
       "FIRST_CRASH_TYPE\n",
       "REAR END                        1012093\n",
       "SIDESWIPE SAME DIRECTION         621164\n",
       "TURNING                          610452\n",
       "PARKED MOTOR VEHICLE             488191\n",
       "ANGLE                            480926\n",
       "PEDESTRIAN                        85286\n",
       "SIDESWIPE OPPOSITE DIRECTION      61788\n",
       "FIXED OBJECT                      55232\n",
       "PEDALCYCLIST                      53252\n",
       "HEAD ON                           41388\n",
       "REAR TO FRONT                     36668\n",
       "REAR TO SIDE                      21881\n",
       "OTHER OBJECT                      12949\n",
       "REAR TO REAR                       7362\n",
       "OTHER NONCOLLISION                 3828\n",
       "ANIMAL                              915\n",
       "OVERTURNED                          875\n",
       "TRAIN                               173\n",
       "Name: count, dtype: int64"
      ]
     },
     "execution_count": 26,
     "metadata": {},
     "output_type": "execute_result"
    }
   ],
   "source": [
    "df_joined[\"FIRST_CRASH_TYPE\"].value_counts()"
   ]
  },
  {
   "cell_type": "code",
   "execution_count": 28,
   "metadata": {},
   "outputs": [
    {
     "name": "stderr",
     "output_type": "stream",
     "text": [
      "/Users/dre/anaconda3/envs/learn-env/lib/python3.9/site-packages/seaborn/_oldcore.py:1498: FutureWarning: is_categorical_dtype is deprecated and will be removed in a future version. Use isinstance(dtype, CategoricalDtype) instead\n",
      "  if pd.api.types.is_categorical_dtype(vector):\n",
      "/Users/dre/anaconda3/envs/learn-env/lib/python3.9/site-packages/seaborn/_oldcore.py:1498: FutureWarning: is_categorical_dtype is deprecated and will be removed in a future version. Use isinstance(dtype, CategoricalDtype) instead\n",
      "  if pd.api.types.is_categorical_dtype(vector):\n",
      "/Users/dre/anaconda3/envs/learn-env/lib/python3.9/site-packages/seaborn/_oldcore.py:1119: FutureWarning: use_inf_as_na option is deprecated and will be removed in a future version. Convert inf values to NaN before operating instead.\n",
      "  with pd.option_context('mode.use_inf_as_na', True):\n"
     ]
    },
    {
     "data": {
      "image/png": "[encoded data removed]",
      "text/plain": [
       "<Figure size 2500x800 with 1 Axes>"
      ]
     },
     "metadata": {},
     "output_type": "display_data"
    }
   ],
   "source": [
    "fig, ax = plt.subplots(figsize=(25, 8))\n",
    "\n",
    "sns.histplot(data=df_joined, x=\"FIRST_CRASH_TYPE\")\n",
    "\n",
    "plt.show();"
   ]
  },
  {
   "cell_type": "markdown",
   "metadata": {},
   "source": [
    "- There are missing observations from columns RD_NO, CRASH_DATE_EST_I, LANE_CNT, REPORT_TYPE, INTERSECTION_RELATED_I, NOT_RIGHT_OF_WAY_I, HIT_AND_RUN_I, STREET_DIRECTION, STREET_NAME, BEAT_OF_OCCURRENCE, PHOTOS_TAKEN_I, STATEMENTS_TAKEN_I, DOORING_I, WORK_ZONE_I, WORK_ZONE_TYPE, WORKERS_PRESENT_I, MOST_SEVERE_INJURY, INJURIES_TOTAL, INJURIES_FATAL, INJURIES_INCAPACITATING, INJURIES_NON_INCAPACITATING, INJURIES_REPORTED_NOT_EVIDENT, INJURIES_NO_INDICATION, INJURIES_UNKNOWN, LATITUDE, LONGITUDE, LOCATION, Boundaries - ZIP Codes."
   ]
  },
  {
   "cell_type": "code",
   "execution_count": 6,
   "metadata": {},
   "outputs": [
    {
     "data": {
      "text/html": [
       "<div>\n",
       "<style scoped>\n",
       "    .dataframe tbody tr th:only-of-type {\n",
       "        vertical-align: middle;\n",
       "    }\n",
       "\n",
       "    .dataframe tbody tr th {\n",
       "        vertical-align: top;\n",
       "    }\n",
       "\n",
       "    .dataframe thead th {\n",
       "        text-align: right;\n",
       "    }\n",
       "</style>\n",
       "<table border=\"1\" class=\"dataframe\">\n",
       "  <thead>\n",
       "    <tr style=\"text-align: right;\">\n",
       "      <th></th>\n",
       "      <th>POSTED_SPEED_LIMIT</th>\n",
       "      <th>LANE_CNT</th>\n",
       "      <th>STREET_NO</th>\n",
       "      <th>BEAT_OF_OCCURRENCE</th>\n",
       "      <th>NUM_UNITS</th>\n",
       "      <th>INJURIES_TOTAL</th>\n",
       "      <th>INJURIES_FATAL</th>\n",
       "      <th>INJURIES_INCAPACITATING</th>\n",
       "      <th>INJURIES_NON_INCAPACITATING</th>\n",
       "      <th>INJURIES_REPORTED_NOT_EVIDENT</th>\n",
       "      <th>INJURIES_NO_INDICATION</th>\n",
       "      <th>INJURIES_UNKNOWN</th>\n",
       "      <th>CRASH_HOUR</th>\n",
       "      <th>CRASH_DAY_OF_WEEK</th>\n",
       "      <th>CRASH_MONTH</th>\n",
       "      <th>LATITUDE</th>\n",
       "      <th>LONGITUDE</th>\n",
       "      <th>Boundaries - ZIP Codes</th>\n",
       "    </tr>\n",
       "  </thead>\n",
       "  <tbody>\n",
       "    <tr>\n",
       "      <th>count</th>\n",
       "      <td>778847.000000</td>\n",
       "      <td>1.990060e+05</td>\n",
       "      <td>778847.000000</td>\n",
       "      <td>778842.000000</td>\n",
       "      <td>778847.000000</td>\n",
       "      <td>777144.000000</td>\n",
       "      <td>777144.000000</td>\n",
       "      <td>777144.000000</td>\n",
       "      <td>777144.000000</td>\n",
       "      <td>777144.000000</td>\n",
       "      <td>777144.000000</td>\n",
       "      <td>777144.0</td>\n",
       "      <td>778847.000000</td>\n",
       "      <td>778847.000000</td>\n",
       "      <td>778847.000000</td>\n",
       "      <td>773629.000000</td>\n",
       "      <td>773629.000000</td>\n",
       "      <td>773247.000000</td>\n",
       "    </tr>\n",
       "    <tr>\n",
       "      <th>mean</th>\n",
       "      <td>28.396907</td>\n",
       "      <td>1.333032e+01</td>\n",
       "      <td>3685.933360</td>\n",
       "      <td>1242.603116</td>\n",
       "      <td>2.034754</td>\n",
       "      <td>0.188778</td>\n",
       "      <td>0.001194</td>\n",
       "      <td>0.020112</td>\n",
       "      <td>0.106705</td>\n",
       "      <td>0.060767</td>\n",
       "      <td>2.004773</td>\n",
       "      <td>0.0</td>\n",
       "      <td>13.205675</td>\n",
       "      <td>4.122012</td>\n",
       "      <td>6.696038</td>\n",
       "      <td>41.854822</td>\n",
       "      <td>-87.673523</td>\n",
       "      <td>32.233258</td>\n",
       "    </tr>\n",
       "    <tr>\n",
       "      <th>std</th>\n",
       "      <td>6.192316</td>\n",
       "      <td>2.961623e+03</td>\n",
       "      <td>2888.342841</td>\n",
       "      <td>705.370152</td>\n",
       "      <td>0.452267</td>\n",
       "      <td>0.564532</td>\n",
       "      <td>0.037466</td>\n",
       "      <td>0.166103</td>\n",
       "      <td>0.421350</td>\n",
       "      <td>0.317185</td>\n",
       "      <td>1.159469</td>\n",
       "      <td>0.0</td>\n",
       "      <td>5.565372</td>\n",
       "      <td>1.980178</td>\n",
       "      <td>3.367947</td>\n",
       "      <td>0.334037</td>\n",
       "      <td>0.678644</td>\n",
       "      <td>19.205914</td>\n",
       "    </tr>\n",
       "    <tr>\n",
       "      <th>min</th>\n",
       "      <td>0.000000</td>\n",
       "      <td>0.000000e+00</td>\n",
       "      <td>0.000000</td>\n",
       "      <td>111.000000</td>\n",
       "      <td>1.000000</td>\n",
       "      <td>0.000000</td>\n",
       "      <td>0.000000</td>\n",
       "      <td>0.000000</td>\n",
       "      <td>0.000000</td>\n",
       "      <td>0.000000</td>\n",
       "      <td>0.000000</td>\n",
       "      <td>0.0</td>\n",
       "      <td>0.000000</td>\n",
       "      <td>1.000000</td>\n",
       "      <td>1.000000</td>\n",
       "      <td>0.000000</td>\n",
       "      <td>-87.936193</td>\n",
       "      <td>1.000000</td>\n",
       "    </tr>\n",
       "    <tr>\n",
       "      <th>25%</th>\n",
       "      <td>30.000000</td>\n",
       "      <td>2.000000e+00</td>\n",
       "      <td>1245.000000</td>\n",
       "      <td>714.000000</td>\n",
       "      <td>2.000000</td>\n",
       "      <td>0.000000</td>\n",
       "      <td>0.000000</td>\n",
       "      <td>0.000000</td>\n",
       "      <td>0.000000</td>\n",
       "      <td>0.000000</td>\n",
       "      <td>1.000000</td>\n",
       "      <td>0.0</td>\n",
       "      <td>9.000000</td>\n",
       "      <td>2.000000</td>\n",
       "      <td>4.000000</td>\n",
       "      <td>41.782381</td>\n",
       "      <td>-87.721652</td>\n",
       "      <td>15.000000</td>\n",
       "    </tr>\n",
       "    <tr>\n",
       "      <th>50%</th>\n",
       "      <td>30.000000</td>\n",
       "      <td>2.000000e+00</td>\n",
       "      <td>3200.000000</td>\n",
       "      <td>1211.000000</td>\n",
       "      <td>2.000000</td>\n",
       "      <td>0.000000</td>\n",
       "      <td>0.000000</td>\n",
       "      <td>0.000000</td>\n",
       "      <td>0.000000</td>\n",
       "      <td>0.000000</td>\n",
       "      <td>2.000000</td>\n",
       "      <td>0.0</td>\n",
       "      <td>14.000000</td>\n",
       "      <td>4.000000</td>\n",
       "      <td>7.000000</td>\n",
       "      <td>41.874687</td>\n",
       "      <td>-87.674050</td>\n",
       "      <td>32.000000</td>\n",
       "    </tr>\n",
       "    <tr>\n",
       "      <th>75%</th>\n",
       "      <td>30.000000</td>\n",
       "      <td>4.000000e+00</td>\n",
       "      <td>5600.000000</td>\n",
       "      <td>1822.000000</td>\n",
       "      <td>2.000000</td>\n",
       "      <td>0.000000</td>\n",
       "      <td>0.000000</td>\n",
       "      <td>0.000000</td>\n",
       "      <td>0.000000</td>\n",
       "      <td>0.000000</td>\n",
       "      <td>2.000000</td>\n",
       "      <td>0.0</td>\n",
       "      <td>17.000000</td>\n",
       "      <td>6.000000</td>\n",
       "      <td>10.000000</td>\n",
       "      <td>41.924284</td>\n",
       "      <td>-87.633269</td>\n",
       "      <td>52.000000</td>\n",
       "    </tr>\n",
       "    <tr>\n",
       "      <th>max</th>\n",
       "      <td>99.000000</td>\n",
       "      <td>1.191625e+06</td>\n",
       "      <td>451100.000000</td>\n",
       "      <td>6100.000000</td>\n",
       "      <td>18.000000</td>\n",
       "      <td>21.000000</td>\n",
       "      <td>4.000000</td>\n",
       "      <td>10.000000</td>\n",
       "      <td>21.000000</td>\n",
       "      <td>15.000000</td>\n",
       "      <td>61.000000</td>\n",
       "      <td>0.0</td>\n",
       "      <td>23.000000</td>\n",
       "      <td>7.000000</td>\n",
       "      <td>12.000000</td>\n",
       "      <td>42.022780</td>\n",
       "      <td>0.000000</td>\n",
       "      <td>61.000000</td>\n",
       "    </tr>\n",
       "  </tbody>\n",
       "</table>\n",
       "</div>"
      ],
      "text/plain": [
       "       POSTED_SPEED_LIMIT      LANE_CNT      STREET_NO  BEAT_OF_OCCURRENCE  \\\n",
       "count       778847.000000  1.990060e+05  778847.000000       778842.000000   \n",
       "mean            28.396907  1.333032e+01    3685.933360         1242.603116   \n",
       "std              6.192316  2.961623e+03    2888.342841          705.370152   \n",
       "min              0.000000  0.000000e+00       0.000000          111.000000   \n",
       "25%             30.000000  2.000000e+00    1245.000000          714.000000   \n",
       "50%             30.000000  2.000000e+00    3200.000000         1211.000000   \n",
       "75%             30.000000  4.000000e+00    5600.000000         1822.000000   \n",
       "max             99.000000  1.191625e+06  451100.000000         6100.000000   \n",
       "\n",
       "           NUM_UNITS  INJURIES_TOTAL  INJURIES_FATAL  INJURIES_INCAPACITATING  \\\n",
       "count  778847.000000   777144.000000   777144.000000            777144.000000   \n",
       "mean        2.034754        0.188778        0.001194                 0.020112   \n",
       "std         0.452267        0.564532        0.037466                 0.166103   \n",
       "min         1.000000        0.000000        0.000000                 0.000000   \n",
       "25%         2.000000        0.000000        0.000000                 0.000000   \n",
       "50%         2.000000        0.000000        0.000000                 0.000000   \n",
       "75%         2.000000        0.000000        0.000000                 0.000000   \n",
       "max        18.000000       21.000000        4.000000                10.000000   \n",
       "\n",
       "       INJURIES_NON_INCAPACITATING  INJURIES_REPORTED_NOT_EVIDENT  \\\n",
       "count                777144.000000                  777144.000000   \n",
       "mean                      0.106705                       0.060767   \n",
       "std                       0.421350                       0.317185   \n",
       "min                       0.000000                       0.000000   \n",
       "25%                       0.000000                       0.000000   \n",
       "50%                       0.000000                       0.000000   \n",
       "75%                       0.000000                       0.000000   \n",
       "max                      21.000000                      15.000000   \n",
       "\n",
       "       INJURIES_NO_INDICATION  INJURIES_UNKNOWN     CRASH_HOUR  \\\n",
       "count           777144.000000          777144.0  778847.000000   \n",
       "mean                 2.004773               0.0      13.205675   \n",
       "std                  1.159469               0.0       5.565372   \n",
       "min                  0.000000               0.0       0.000000   \n",
       "25%                  1.000000               0.0       9.000000   \n",
       "50%                  2.000000               0.0      14.000000   \n",
       "75%                  2.000000               0.0      17.000000   \n",
       "max                 61.000000               0.0      23.000000   \n",
       "\n",
       "       CRASH_DAY_OF_WEEK    CRASH_MONTH       LATITUDE      LONGITUDE  \\\n",
       "count      778847.000000  778847.000000  773629.000000  773629.000000   \n",
       "mean            4.122012       6.696038      41.854822     -87.673523   \n",
       "std             1.980178       3.367947       0.334037       0.678644   \n",
       "min             1.000000       1.000000       0.000000     -87.936193   \n",
       "25%             2.000000       4.000000      41.782381     -87.721652   \n",
       "50%             4.000000       7.000000      41.874687     -87.674050   \n",
       "75%             6.000000      10.000000      41.924284     -87.633269   \n",
       "max             7.000000      12.000000      42.022780       0.000000   \n",
       "\n",
       "       Boundaries - ZIP Codes  \n",
       "count           773247.000000  \n",
       "mean                32.233258  \n",
       "std                 19.205914  \n",
       "min                  1.000000  \n",
       "25%                 15.000000  \n",
       "50%                 32.000000  \n",
       "75%                 52.000000  \n",
       "max                 61.000000  "
      ]
     },
     "execution_count": 6,
     "metadata": {},
     "output_type": "execute_result"
    }
   ],
   "source": [
    "df_crashes.describe()"
   ]
  },
  {
   "cell_type": "code",
   "execution_count": 7,
   "metadata": {},
   "outputs": [
    {
     "data": {
      "text/plain": [
       "CRASH_RECORD_ID                       0\n",
       "RD_NO                              4555\n",
       "CRASH_DATE_EST_I                 720341\n",
       "CRASH_DATE                            0\n",
       "POSTED_SPEED_LIMIT                    0\n",
       "TRAFFIC_CONTROL_DEVICE                0\n",
       "DEVICE_CONDITION                      0\n",
       "WEATHER_CONDITION                     0\n",
       "LIGHTING_CONDITION                    0\n",
       "FIRST_CRASH_TYPE                      0\n",
       "TRAFFICWAY_TYPE                       0\n",
       "LANE_CNT                         579841\n",
       "ALIGNMENT                             0\n",
       "ROADWAY_SURFACE_COND                  0\n",
       "ROAD_DEFECT                           0\n",
       "REPORT_TYPE                       22589\n",
       "CRASH_TYPE                            0\n",
       "INTERSECTION_RELATED_I           600409\n",
       "NOT_RIGHT_OF_WAY_I               742793\n",
       "HIT_AND_RUN_I                    535597\n",
       "DAMAGE                                0\n",
       "DATE_POLICE_NOTIFIED                  0\n",
       "PRIM_CONTRIBUTORY_CAUSE               0\n",
       "SEC_CONTRIBUTORY_CAUSE                0\n",
       "STREET_NO                             0\n",
       "STREET_DIRECTION                      4\n",
       "STREET_NAME                           1\n",
       "BEAT_OF_OCCURRENCE                    5\n",
       "PHOTOS_TAKEN_I                   768742\n",
       "STATEMENTS_TAKEN_I               761764\n",
       "DOORING_I                        776430\n",
       "WORK_ZONE_I                      774318\n",
       "WORK_ZONE_TYPE                   775323\n",
       "WORKERS_PRESENT_I                777690\n",
       "NUM_UNITS                             0\n",
       "MOST_SEVERE_INJURY                 1714\n",
       "INJURIES_TOTAL                     1703\n",
       "INJURIES_FATAL                     1703\n",
       "INJURIES_INCAPACITATING            1703\n",
       "INJURIES_NON_INCAPACITATING        1703\n",
       "INJURIES_REPORTED_NOT_EVIDENT      1703\n",
       "INJURIES_NO_INDICATION             1703\n",
       "INJURIES_UNKNOWN                   1703\n",
       "CRASH_HOUR                            0\n",
       "CRASH_DAY_OF_WEEK                     0\n",
       "CRASH_MONTH                           0\n",
       "LATITUDE                           5218\n",
       "LONGITUDE                          5218\n",
       "LOCATION                           5218\n",
       "Boundaries - ZIP Codes             5600\n",
       "dtype: int64"
      ]
     },
     "execution_count": 7,
     "metadata": {},
     "output_type": "execute_result"
    }
   ],
   "source": [
    "df_crashes.isna().sum()"
   ]
  },
  {
   "cell_type": "code",
   "execution_count": 32,
   "metadata": {},
   "outputs": [
    {
     "data": {
      "text/plain": [
       "SEC_CONTRIBUTORY_CAUSE\n",
       "NOT APPLICABLE                                                                      1430636\n",
       "UNABLE TO DETERMINE                                                                 1233455\n",
       "FAILING TO REDUCE SPEED TO AVOID CRASH                                               165646\n",
       "FAILING TO YIELD RIGHT-OF-WAY                                                        131494\n",
       "FOLLOWING TOO CLOSELY                                                                116056\n",
       "DRIVING SKILLS/KNOWLEDGE/EXPERIENCE                                                  114273\n",
       "IMPROPER OVERTAKING/PASSING                                                           61138\n",
       "IMPROPER LANE USAGE                                                                   54792\n",
       "WEATHER                                                                               43776\n",
       "IMPROPER TURNING/NO SIGNAL                                                            42082\n",
       "OPERATING VEHICLE IN ERRATIC, RECKLESS, CARELESS, NEGLIGENT OR AGGRESSIVE MANNER      27178\n",
       "IMPROPER BACKING                                                                      25296\n",
       "DISREGARDING TRAFFIC SIGNALS                                                          20206\n",
       "DISREGARDING STOP SIGN                                                                13315\n",
       "DISTRACTION - FROM INSIDE VEHICLE                                                     12837\n",
       "VISION OBSCURED (SIGNS, TREE LIMBS, BUILDINGS, ETC.)                                  12268\n",
       "PHYSICAL CONDITION OF DRIVER                                                          11359\n",
       "DRIVING ON WRONG SIDE/WRONG WAY                                                        9121\n",
       "EXCEEDING AUTHORIZED SPEED LIMIT                                                       8110\n",
       "EXCEEDING SAFE SPEED FOR CONDITIONS                                                    7765\n",
       "EQUIPMENT - VEHICLE CONDITION                                                          7617\n",
       "UNDER THE INFLUENCE OF ALCOHOL/DRUGS (USE WHEN ARREST IS EFFECTED)                     6741\n",
       "DISTRACTION - FROM OUTSIDE VEHICLE                                                     6309\n",
       "DISREGARDING OTHER TRAFFIC SIGNS                                                       4439\n",
       "HAD BEEN DRINKING (USE WHEN ARREST IS NOT MADE)                                        4383\n",
       "DISREGARDING ROAD MARKINGS                                                             3973\n",
       "ROAD CONSTRUCTION/MAINTENANCE                                                          3340\n",
       "CELL PHONE USE OTHER THAN TEXTING                                                      3064\n",
       "ROAD ENGINEERING/SURFACE/MARKING DEFECTS                                               2107\n",
       "EVASIVE ACTION DUE TO ANIMAL, OBJECT, NONMOTORIST                                      1872\n",
       "RELATED TO BUS STOP                                                                    1800\n",
       "TURNING RIGHT ON RED                                                                   1619\n",
       "DISTRACTION - OTHER ELECTRONIC DEVICE (NAVIGATION DEVICE, DVD PLAYER, ETC.)            1213\n",
       "ANIMAL                                                                                 1203\n",
       "BICYCLE ADVANCING LEGALLY ON RED LIGHT                                                 1054\n",
       "DISREGARDING YIELD SIGN                                                                1052\n",
       "TEXTING                                                                                 673\n",
       "PASSING STOPPED SCHOOL BUS                                                              597\n",
       "OBSTRUCTED CROSSWALKS                                                                   345\n",
       "MOTORCYCLE ADVANCING LEGALLY ON RED LIGHT                                               219\n",
       "Name: count, dtype: int64"
      ]
     },
     "execution_count": 32,
     "metadata": {},
     "output_type": "execute_result"
    }
   ],
   "source": [
    "# Checking out the SEC_CONTRIBUTORY_CAUSE column\n",
    "\n",
    "df_joined['SEC_CONTRIBUTORY_CAUSE'].value_counts()"
   ]
  },
  {
   "cell_type": "markdown",
   "metadata": {},
   "source": [
    "## Takeaway\n",
    "\n",
    "- Most of the observations most likely do not have a secondary contributory cause, hence the NOT APPLICABLE to have the most counts.\n",
    "\n",
    "- The second most of the secondary contributory causes is also unable to be determined.\n",
    "\n",
    "- The third most of the secondary contributory causes is FAILING TO REDUCE SPEED TO AVOID CRASH."
   ]
  },
  {
   "cell_type": "code",
   "execution_count": 31,
   "metadata": {},
   "outputs": [
    {
     "data": {
      "text/plain": [
       "WEATHER_CONDITION\n",
       "CLEAR                       2863724\n",
       "RAIN                         328696\n",
       "UNKNOWN                      145143\n",
       "SNOW                         115821\n",
       "CLOUDY/OVERCAST              111019\n",
       "OTHER                         11133\n",
       "FREEZING RAIN/DRIZZLE          6757\n",
       "FOG/SMOKE/HAZE                 5226\n",
       "SLEET/HAIL                     4441\n",
       "BLOWING SNOW                   1924\n",
       "SEVERE CROSS WIND GATE          513\n",
       "BLOWING SAND, SOIL, DIRT         26\n",
       "Name: count, dtype: int64"
      ]
     },
     "execution_count": 31,
     "metadata": {},
     "output_type": "execute_result"
    }
   ],
   "source": [
    "df_joined['WEATHER_CONDITION'].value_counts()"
   ]
  },
  {
   "cell_type": "markdown",
   "metadata": {},
   "source": [
    "## Takeaway\n",
    "\n",
    "- Most of the crashes occurs in clear weather, while 2nd most occurs in the rain.\n",
    "- there are 41911 observations with unknown weather"
   ]
  },
  {
   "cell_type": "code",
   "execution_count": 34,
   "metadata": {},
   "outputs": [
    {
     "data": {
      "text/plain": [
       "LIGHTING_CONDITION\n",
       "DAYLIGHT                  2365668\n",
       "DARKNESS, LIGHTED ROAD     794831\n",
       "DARKNESS                   155495\n",
       "UNKNOWN                    111891\n",
       "DUSK                       109476\n",
       "DAWN                        57062\n",
       "Name: count, dtype: int64"
      ]
     },
     "execution_count": 34,
     "metadata": {},
     "output_type": "execute_result"
    }
   ],
   "source": [
    "df_joined['LIGHTING_CONDITION'].value_counts()"
   ]
  },
  {
   "cell_type": "markdown",
   "metadata": {},
   "source": [
    "## Takeaway\n",
    "\n",
    "- Most of the crashes occurs in the daylight\n",
    "- 34855 observations had unknown lighting condition"
   ]
  },
  {
   "cell_type": "code",
   "execution_count": 35,
   "metadata": {},
   "outputs": [
    {
     "data": {
      "text/plain": [
       "POSTED_SPEED_LIMIT\n",
       "30    2740939\n",
       "35     259057\n",
       "25     200093\n",
       "20     120183\n",
       "15      93369\n",
       "10      59350\n",
       "40      41725\n",
       "0       28684\n",
       "45      27766\n",
       "5       15349\n",
       "55       3824\n",
       "50       1070\n",
       "3         864\n",
       "9         400\n",
       "39        360\n",
       "99        291\n",
       "60        225\n",
       "1         125\n",
       "24        122\n",
       "2          82\n",
       "65         82\n",
       "32         75\n",
       "33         62\n",
       "34         54\n",
       "11         40\n",
       "26         35\n",
       "36         30\n",
       "6          26\n",
       "7          22\n",
       "14         16\n",
       "31         14\n",
       "29         11\n",
       "22         10\n",
       "70          9\n",
       "12          9\n",
       "8           8\n",
       "38          8\n",
       "23          8\n",
       "4           7\n",
       "44          6\n",
       "18          6\n",
       "63          4\n",
       "62          2\n",
       "49          1\n",
       "Name: count, dtype: int64"
      ]
     },
     "execution_count": 35,
     "metadata": {},
     "output_type": "execute_result"
    }
   ],
   "source": [
    "# Checking out the POSTED_SPEED_LIMIT column\n",
    "\n",
    "df_joined['POSTED_SPEED_LIMIT'].value_counts()"
   ]
  },
  {
   "cell_type": "markdown",
   "metadata": {},
   "source": [
    "## Takeaway\n",
    "\n",
    "- The speed limit mostly associated with the crashes seems to be about 30 MPH.\n",
    "- The top 3 crashes seem to happen at low speed limit areas."
   ]
  },
  {
   "cell_type": "code",
   "execution_count": 36,
   "metadata": {},
   "outputs": [
    {
     "data": {
      "text/plain": [
       "MAKE\n",
       "CHEVROLET                                 421255\n",
       "FORD                                      357323\n",
       "NISSAN                                    295989\n",
       "UNKNOWN                                   267241\n",
       "HONDA                                     263444\n",
       "                                           ...  \n",
       "RACMAC TRAILER                                 1\n",
       "TBC                                            1\n",
       "XPLORER ENTERPRISES OF CONSTANTINE             1\n",
       "CONSTRUCTION MACHINERY COMPANY                 1\n",
       "AZTEC PRODUCTS, INC., MANSFIELD, TEXAS         1\n",
       "Name: count, Length: 1309, dtype: int64"
      ]
     },
     "execution_count": 36,
     "metadata": {},
     "output_type": "execute_result"
    }
   ],
   "source": [
    "df_joined['MAKE'].value_counts()"
   ]
  },
  {
   "cell_type": "code",
   "execution_count": 49,
   "metadata": {},
   "outputs": [
    {
     "data": {
      "text/plain": [
       "MODEL\n",
       "UNKNOWN                                    372000\n",
       "OTHER (EXPLAIN IN NARRATIVE)               271789\n",
       "CAMRY                                      115822\n",
       "COROLLA                                     72132\n",
       "CIVIC                                       67808\n",
       "                                            ...  \n",
       "HALLMARK MOTOR HOME                             1\n",
       "SUTPHEN CORP., AMLIN, OH                        1\n",
       "TIOGA MOTOR HOME                                1\n",
       "PIEDMONT, DIVISION CONCORD MOBILE HOMES         1\n",
       "SKYCRAFT TRAILER                                1\n",
       "Name: count, Length: 2677, dtype: int64"
      ]
     },
     "execution_count": 49,
     "metadata": {},
     "output_type": "execute_result"
    }
   ],
   "source": [
    "df_joined['MODEL'].value_counts()"
   ]
  },
  {
   "cell_type": "code",
   "execution_count": 37,
   "metadata": {},
   "outputs": [
    {
     "data": {
      "text/plain": [
       "VEHICLE_DEFECT\n",
       "NONE                1964968\n",
       "UNKNOWN             1510026\n",
       "OTHER                 17456\n",
       "BRAKES                12356\n",
       "TIRES                  1467\n",
       "STEERING               1234\n",
       "WHEELS                  711\n",
       "ENGINE/MOTOR            487\n",
       "SUSPENSION              407\n",
       "FUEL SYSTEM             407\n",
       "LIGHTS                  222\n",
       "WINDOWS                 203\n",
       "CARGO                   102\n",
       "SIGNALS                  90\n",
       "RESTRAINT SYSTEM         54\n",
       "EXHAUST                  44\n",
       "TRAILER COUPLING         37\n",
       "Name: count, dtype: int64"
      ]
     },
     "execution_count": 37,
     "metadata": {},
     "output_type": "execute_result"
    }
   ],
   "source": [
    "df_joined['VEHICLE_DEFECT'].value_counts()"
   ]
  },
  {
   "cell_type": "code",
   "execution_count": 50,
   "metadata": {},
   "outputs": [
    {
     "data": {
      "text/plain": [
       "NUM_PASSENGERS\n",
       "1.0     552154\n",
       "2.0     190897\n",
       "3.0      92755\n",
       "4.0      36467\n",
       "5.0      11611\n",
       "6.0       5124\n",
       "7.0       2089\n",
       "8.0       1072\n",
       "10.0       882\n",
       "9.0        730\n",
       "11.0       595\n",
       "12.0       523\n",
       "14.0       341\n",
       "15.0       262\n",
       "13.0       254\n",
       "17.0       215\n",
       "19.0       211\n",
       "18.0       202\n",
       "43.0       181\n",
       "27.0       176\n",
       "16.0       164\n",
       "35.0       152\n",
       "28.0       151\n",
       "26.0       141\n",
       "34.0       111\n",
       "25.0       109\n",
       "20.0       108\n",
       "32.0       102\n",
       "46.0        98\n",
       "29.0        95\n",
       "21.0        90\n",
       "42.0        88\n",
       "40.0        84\n",
       "38.0        80\n",
       "24.0        78\n",
       "36.0        75\n",
       "33.0        72\n",
       "30.0        64\n",
       "59.0        61\n",
       "23.0        51\n",
       "22.0        48\n",
       "37.0        38\n",
       "31.0        34\n",
       "Name: count, dtype: int64"
      ]
     },
     "execution_count": 50,
     "metadata": {},
     "output_type": "execute_result"
    }
   ],
   "source": [
    "df_joined['NUM_PASSENGERS'].value_counts()"
   ]
  },
  {
   "cell_type": "code",
   "execution_count": 45,
   "metadata": {},
   "outputs": [
    {
     "data": {
      "text/plain": [
       "VEHICLE_YEAR\n",
       "2015.0    226568\n",
       "2016.0    212398\n",
       "2017.0    211805\n",
       "2014.0    200192\n",
       "2013.0    183942\n",
       "           ...  \n",
       "4449.0         1\n",
       "3007.0         1\n",
       "2999.0         1\n",
       "2078.0         1\n",
       "6043.0         1\n",
       "Name: count, Length: 225, dtype: int64"
      ]
     },
     "execution_count": 45,
     "metadata": {},
     "output_type": "execute_result"
    }
   ],
   "source": [
    "df_joined[\"VEHICLE_YEAR\"].value_counts()"
   ]
  },
  {
   "cell_type": "markdown",
   "metadata": {},
   "source": [
    "## Takeaway\n",
    "\n",
    "- There are vehicle years that does not make sense. Example: 4449\n",
    "- The vehicles mostly involved are fairly new, in the last 10 years."
   ]
  },
  {
   "cell_type": "code",
   "execution_count": 39,
   "metadata": {},
   "outputs": [
    {
     "data": {
      "text/plain": [
       "AIRBAG_DEPLOYED\n",
       "DID NOT DEPLOY                            1852831\n",
       "DEPLOYMENT UNKNOWN                         714249\n",
       "NOT APPLICABLE                             710486\n",
       "DEPLOYED, FRONT                            118191\n",
       "DEPLOYED, COMBINATION                       93050\n",
       "DEPLOYED, SIDE                              32642\n",
       "DEPLOYED OTHER (KNEE, AIR, BELT, ETC.)       1819\n",
       "Name: count, dtype: int64"
      ]
     },
     "execution_count": 39,
     "metadata": {},
     "output_type": "execute_result"
    }
   ],
   "source": [
    "df_joined['AIRBAG_DEPLOYED'].value_counts()"
   ]
  },
  {
   "cell_type": "code",
   "execution_count": 46,
   "metadata": {},
   "outputs": [
    {
     "data": {
      "text/plain": [
       "DRIVER_VISION\n",
       "NOT OBSCURED              1457441\n",
       "UNKNOWN                   1326337\n",
       "OTHER                       27748\n",
       "MOVING VEHICLES             16179\n",
       "PARKED VEHICLES              9992\n",
       "WINDSHIELD (WATER/ICE)       7745\n",
       "BLINDED - SUNLIGHT           3279\n",
       "TREES, PLANTS                1076\n",
       "BUILDINGS                     940\n",
       "BLINDED - HEADLIGHTS          283\n",
       "BLOWING MATERIALS             194\n",
       "HILLCREST                     185\n",
       "EMBANKMENT                    167\n",
       "SIGNBOARD                      70\n",
       "Name: count, dtype: int64"
      ]
     },
     "execution_count": 46,
     "metadata": {},
     "output_type": "execute_result"
    }
   ],
   "source": [
    "df_joined['DRIVER_VISION'].value_counts()"
   ]
  },
  {
   "cell_type": "code",
   "execution_count": 40,
   "metadata": {},
   "outputs": [
    {
     "data": {
      "text/plain": [
       "DRIVER_ACTION\n",
       "NONE                                 1039737\n",
       "UNKNOWN                               707436\n",
       "FAILED TO YIELD                       257488\n",
       "OTHER                                 250703\n",
       "FOLLOWED TOO CLOSELY                  173630\n",
       "IMPROPER BACKING                       81236\n",
       "IMPROPER TURN                          72431\n",
       "IMPROPER LANE CHANGE                   72206\n",
       "IMPROPER PASSING                       62579\n",
       "DISREGARDED CONTROL DEVICES            51222\n",
       "TOO FAST FOR CONDITIONS                43784\n",
       "WRONG WAY/SIDE                         12186\n",
       "IMPROPER PARKING                       10146\n",
       "EVADING POLICE VEHICLE                  4750\n",
       "OVERCORRECTED                           4742\n",
       "CELL PHONE USE OTHER THAN TEXTING       4386\n",
       "EMERGENCY VEHICLE ON CALL               2485\n",
       "TEXTING                                 1160\n",
       "STOPPED SCHOOL BUS                       342\n",
       "LICENSE RESTRICTIONS                     123\n",
       "Name: count, dtype: int64"
      ]
     },
     "execution_count": 40,
     "metadata": {},
     "output_type": "execute_result"
    }
   ],
   "source": [
    "df_joined['DRIVER_ACTION'].value_counts()"
   ]
  },
  {
   "cell_type": "markdown",
   "metadata": {},
   "source": [
    "## Takeaway\n",
    "\n",
    "- None and Unknown dominates\n",
    "- Failure to Yield is number 3"
   ]
  },
  {
   "cell_type": "code",
   "execution_count": 41,
   "metadata": {},
   "outputs": [
    {
     "data": {
      "text/plain": [
       "EJECTION\n",
       "NONE                  3319935\n",
       "UNKNOWN                212173\n",
       "TOTALLY EJECTED         10817\n",
       "PARTIALLY EJECTED        2713\n",
       "TRAPPED/EXTRICATED       2145\n",
       "Name: count, dtype: int64"
      ]
     },
     "execution_count": 41,
     "metadata": {},
     "output_type": "execute_result"
    }
   ],
   "source": [
    "df_joined['EJECTION'].value_counts()"
   ]
  },
  {
   "cell_type": "code",
   "execution_count": 43,
   "metadata": {},
   "outputs": [
    {
     "data": {
      "text/plain": [
       "CITY\n",
       "CHICAGO          1860855\n",
       "CICERO             26168\n",
       "SKOKIE             16658\n",
       "BERWYN             14656\n",
       "EVANSTON           14484\n",
       "                  ...   \n",
       "B                      1\n",
       "KEATCHIE               1\n",
       "MEXICO BEACH           1\n",
       "CRYSTAL FALLS          1\n",
       "FORST                  1\n",
       "Name: count, Length: 12986, dtype: int64"
      ]
     },
     "execution_count": 43,
     "metadata": {},
     "output_type": "execute_result"
    }
   ],
   "source": [
    "df_joined['CITY'].value_counts()"
   ]
  },
  {
   "cell_type": "code",
   "execution_count": 44,
   "metadata": {},
   "outputs": [
    {
     "data": {
      "text/plain": [
       "AGE\n",
       " 25.0     72309\n",
       " 27.0     71808\n",
       " 26.0     71720\n",
       " 28.0     70531\n",
       " 24.0     69878\n",
       "          ...  \n",
       "-47.0         4\n",
       "-59.0         2\n",
       "-49.0         2\n",
       "-40.0         2\n",
       " 106.0        2\n",
       "Name: count, Length: 117, dtype: int64"
      ]
     },
     "execution_count": 44,
     "metadata": {},
     "output_type": "execute_result"
    }
   ],
   "source": [
    "df_joined['AGE'].value_counts()"
   ]
  },
  {
   "cell_type": "markdown",
   "metadata": {},
   "source": [
    "## Takeaway\n",
    "\n",
    "- Has some negative ages, need to investigate\n",
    "- Most accidents occur caused by mid to late 20's"
   ]
  },
  {
   "cell_type": "markdown",
   "metadata": {},
   "source": []
  }
 ],
 "metadata": {
  "kernelspec": {
   "display_name": "learn-env",
   "language": "python",
   "name": "python3"
  },
  "language_info": {
   "codemirror_mode": {
    "name": "ipython",
    "version": 3
   },
   "file_extension": ".py",
   "mimetype": "text/x-python",
   "name": "python",
   "nbconvert_exporter": "python",
   "pygments_lexer": "ipython3",
   "version": "3.9.18"
  }
 },
 "nbformat": 4,
 "nbformat_minor": 4
}
