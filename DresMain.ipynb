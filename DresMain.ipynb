{
 "cells": [
  {
   "cell_type": "markdown",
   "metadata": {},
   "source": [
    "# Chicago Car Crash Analysis"
   ]
  },
  {
   "cell_type": "markdown",
   "metadata": {},
   "source": [
    "## Importing Packages"
   ]
  },
  {
   "cell_type": "code",
   "execution_count": 192,
   "metadata": {},
   "outputs": [],
   "source": [
    "# Importing packages needed for this notebook\n",
    "\n",
    "import pandas as pd\n",
    "import numpy as np\n",
    "\n",
    "import matplotlib.pyplot as plt\n",
    "import seaborn as sns\n",
    "\n",
    "from sklearn.impute import SimpleImputer"
   ]
  },
  {
   "cell_type": "code",
   "execution_count": 193,
   "metadata": {},
   "outputs": [
    {
     "name": "stderr",
     "output_type": "stream",
     "text": [
      "/var/folders/kl/l56g5k7x0xqgjd17r78jnyxc0000gn/T/ipykernel_21831/2665594103.py:4: DtypeWarning: Columns (2,19,21,40,41,42,44,48,49,50,53,55,58,59,61,71) have mixed types. Specify dtype option on import or set low_memory=False.\n",
      "  df_vehicles = pd.read_csv(\"data/Traffic_Crashes_-_Vehicles.csv\")\n",
      "/var/folders/kl/l56g5k7x0xqgjd17r78jnyxc0000gn/T/ipykernel_21831/2665594103.py:5: DtypeWarning: Columns (29) have mixed types. Specify dtype option on import or set low_memory=False.\n",
      "  df_people = pd.read_csv(\"data/Traffic_Crashes_-_People.csv\")\n"
     ]
    }
   ],
   "source": [
    "# Reading the data in\n",
    "\n",
    "df_crashes = pd.read_csv(\"data/Traffic_Crashes_-_Crashes.csv\")\n",
    "df_vehicles = pd.read_csv(\"data/Traffic_Crashes_-_Vehicles.csv\")\n",
    "df_people = pd.read_csv(\"data/Traffic_Crashes_-_People.csv\")"
   ]
  },
  {
   "cell_type": "code",
   "execution_count": 194,
   "metadata": {},
   "outputs": [],
   "source": [
    "# Dropping columns\n",
    "\n",
    "columns_to_drop_crashes = ['RD_NO', 'CRASH_DATE_EST_I', 'LANE_CNT', 'REPORT_TYPE', 'INTERSECTION_RELATED_I', 'NOT_RIGHT_OF_WAY_I', 'HIT_AND_RUN_I', 'DATE_POLICE_NOTIFIED',\n",
    "                           'SEC_CONTRIBUTORY_CAUSE', 'STREET_NO', 'STREET_DIRECTION', 'STREET_NAME', 'BEAT_OF_OCCURRENCE', 'PHOTOS_TAKEN_I', 'STATEMENTS_TAKEN_I', 'DOORING_I',\n",
    "                           'WORK_ZONE_I', 'WORK_ZONE_TYPE', 'WORKERS_PRESENT_I', 'INJURIES_FATAL', 'INJURIES_INCAPACITATING', 'INJURIES_NON_INCAPACITATING',\n",
    "                           'INJURIES_REPORTED_NOT_EVIDENT','INJURIES_NO_INDICATION', 'INJURIES_UNKNOWN', 'LATITUDE', 'LONGITUDE', 'LOCATION', 'Boundaries - ZIP Codes'\n",
    "                           ]\n",
    "\n",
    "columns_to_drop_vehicles = ['RD_NO', 'CRASH_DATE', 'CRASH_UNIT_ID', 'UNIT_NO', 'UNIT_TYPE', 'NUM_PASSENGERS', 'VEHICLE_ID', 'CMRC_VEH_I', 'MAKE', 'MODEL', 'VEHICLE_YEAR',\n",
    "                            'VEHICLE_DEFECT','VEHICLE_USE', 'TRAVEL_DIRECTION', 'TOWED_I', 'FIRE_I', 'OCCUPANT_CNT', 'EXCEED_SPEED_LIMIT_I', 'TOWED_BY', 'TOWED_TO',\n",
    "                            'AREA_00_I', 'AREA_01_I', 'AREA_02_I', 'AREA_03_I', 'AREA_04_I', 'AREA_05_I', 'AREA_06_I', 'AREA_07_I', 'AREA_08_I', 'AREA_09_I',\n",
    "                            'AREA_10_I', 'AREA_11_I', 'AREA_12_I', 'AREA_99_I',  'CMV_ID', 'USDOT_NO', 'CCMC_NO', 'ILCC_NO', 'COMMERCIAL_SRC',\n",
    "                            'GVWR', 'CARRIER_NAME', 'CARRIER_STATE', 'CARRIER_CITY', 'HAZMAT_PLACARDS_I', 'HAZMAT_NAME','UN_NO', 'HAZMAT_PRESENT_I',\n",
    "                            'HAZMAT_REPORT_I', 'HAZMAT_REPORT_NO', 'MCS_REPORT_I', 'MCS_REPORT_NO', 'HAZMAT_VIO_CAUSE_CRASH_I', 'MCS_VIO_CAUSE_CRASH_I', 'IDOT_PERMIT_NO',\n",
    "                            'WIDE_LOAD_I', 'TRAILER1_WIDTH', 'TRAILER2_WIDTH', 'TRAILER1_LENGTH', 'TRAILER2_LENGTH', 'TOTAL_VEHICLE_LENGTH', 'AXLE_CNT', 'VEHICLE_CONFIG', 'CARGO_BODY_TYPE',\n",
    "                            'LOAD_TYPE', 'HAZMAT_OUT_OF_SERVICE_I', 'MCS_OUT_OF_SERVICE_I', 'HAZMAT_CLASS'\n",
    "                            ]\n",
    "\n",
    "columns_to_drop_people = ['RD_NO', 'CRASH_DATE', 'VEHICLE_ID', 'PERSON_ID', 'SEAT_NO', 'CITY', 'STATE', 'ZIPCODE', 'DRIVERS_LICENSE_STATE', 'DRIVERS_LICENSE_CLASS', 'EJECTION',\n",
    "                          'HOSPITAL', 'EMS_AGENCY', 'EMS_RUN_NO', 'BAC_RESULT VALUE', 'PEDPEDAL_ACTION', 'PEDPEDAL_VISIBILITY', 'PEDPEDAL_LOCATION', 'CELL_PHONE_USE', 'INJURY_CLASSIFICATION'\n",
    "                          ]\n",
    "\n",
    "df_crashes = df_crashes.drop(columns_to_drop_crashes, axis=1)\n",
    "df_vehicles = df_vehicles.drop(columns_to_drop_vehicles, axis=1)\n",
    "df_people = df_people.drop(columns_to_drop_people, axis=1)"
   ]
  },
  {
   "cell_type": "markdown",
   "metadata": {},
   "source": [
    "## Creating a Master DataFrame"
   ]
  },
  {
   "cell_type": "code",
   "execution_count": 195,
   "metadata": {},
   "outputs": [],
   "source": [
    "master_df = pd.merge(df_crashes, pd.merge(df_vehicles, df_people, on=\"CRASH_RECORD_ID\"), on=\"CRASH_RECORD_ID\")"
   ]
  },
  {
   "cell_type": "markdown",
   "metadata": {},
   "source": [
    "## Info and column names of each table"
   ]
  },
  {
   "cell_type": "code",
   "execution_count": 196,
   "metadata": {},
   "outputs": [
    {
     "name": "stdout",
     "output_type": "stream",
     "text": [
      "<class 'pandas.core.frame.DataFrame'>\n",
      "RangeIndex: 3594423 entries, 0 to 3594422\n",
      "Data columns (total 34 columns):\n",
      " #   Column                   Dtype  \n",
      "---  ------                   -----  \n",
      " 0   CRASH_RECORD_ID          object \n",
      " 1   CRASH_DATE               object \n",
      " 2   POSTED_SPEED_LIMIT       int64  \n",
      " 3   TRAFFIC_CONTROL_DEVICE   object \n",
      " 4   DEVICE_CONDITION         object \n",
      " 5   WEATHER_CONDITION        object \n",
      " 6   LIGHTING_CONDITION       object \n",
      " 7   FIRST_CRASH_TYPE         object \n",
      " 8   TRAFFICWAY_TYPE          object \n",
      " 9   ALIGNMENT                object \n",
      " 10  ROADWAY_SURFACE_COND     object \n",
      " 11  ROAD_DEFECT              object \n",
      " 12  CRASH_TYPE               object \n",
      " 13  DAMAGE                   object \n",
      " 14  PRIM_CONTRIBUTORY_CAUSE  object \n",
      " 15  NUM_UNITS                int64  \n",
      " 16  MOST_SEVERE_INJURY       object \n",
      " 17  INJURIES_TOTAL           float64\n",
      " 18  CRASH_HOUR               int64  \n",
      " 19  CRASH_DAY_OF_WEEK        int64  \n",
      " 20  CRASH_MONTH              int64  \n",
      " 21  LIC_PLATE_STATE          object \n",
      " 22  VEHICLE_TYPE             object \n",
      " 23  MANEUVER                 object \n",
      " 24  FIRST_CONTACT_POINT      object \n",
      " 25  PERSON_TYPE              object \n",
      " 26  SEX                      object \n",
      " 27  AGE                      float64\n",
      " 28  SAFETY_EQUIPMENT         object \n",
      " 29  AIRBAG_DEPLOYED          object \n",
      " 30  DRIVER_ACTION            object \n",
      " 31  DRIVER_VISION            object \n",
      " 32  PHYSICAL_CONDITION       object \n",
      " 33  BAC_RESULT               object \n",
      "dtypes: float64(2), int64(5), object(27)\n",
      "memory usage: 932.4+ MB\n"
     ]
    }
   ],
   "source": [
    "master_df.info()"
   ]
  },
  {
   "cell_type": "markdown",
   "metadata": {},
   "source": [
    "## Takeaway\n",
    "\n",
    "- 3,594,423 observations\n",
    "- 36 combined columns\n",
    "- 987 MB combined memory file"
   ]
  },
  {
   "cell_type": "markdown",
   "metadata": {},
   "source": [
    "## Data Cleaning"
   ]
  },
  {
   "cell_type": "code",
   "execution_count": 168,
   "metadata": {},
   "outputs": [
    {
     "name": "stdout",
     "output_type": "stream",
     "text": [
      "<class 'pandas.core.frame.DataFrame'>\n",
      "Index: 305598 entries, 14 to 1858292\n",
      "Data columns (total 36 columns):\n",
      " #   Column                   Non-Null Count   Dtype         \n",
      "---  ------                   --------------   -----         \n",
      " 0   CRASH_RECORD_ID          305598 non-null  object        \n",
      " 1   CRASH_DATE               305598 non-null  datetime64[ns]\n",
      " 2   POSTED_SPEED_LIMIT       305598 non-null  int64         \n",
      " 3   TRAFFIC_CONTROL_DEVICE   305598 non-null  object        \n",
      " 4   DEVICE_CONDITION         305598 non-null  object        \n",
      " 5   WEATHER_CONDITION        305598 non-null  object        \n",
      " 6   LIGHTING_CONDITION       305598 non-null  object        \n",
      " 7   FIRST_CRASH_TYPE         305598 non-null  object        \n",
      " 8   TRAFFICWAY_TYPE          305598 non-null  object        \n",
      " 9   ALIGNMENT                305598 non-null  object        \n",
      " 10  ROADWAY_SURFACE_COND     305598 non-null  object        \n",
      " 11  ROAD_DEFECT              305598 non-null  object        \n",
      " 12  CRASH_TYPE               305598 non-null  object        \n",
      " 13  DAMAGE                   305598 non-null  object        \n",
      " 14  PRIM_CONTRIBUTORY_CAUSE  305598 non-null  object        \n",
      " 15  NUM_UNITS                305598 non-null  int64         \n",
      " 16  MOST_SEVERE_INJURY       305598 non-null  object        \n",
      " 17  INJURIES_TOTAL           305598 non-null  float64       \n",
      " 18  CRASH_HOUR               305598 non-null  int64         \n",
      " 19  CRASH_DAY_OF_WEEK        305598 non-null  int64         \n",
      " 20  CRASH_MONTH              305598 non-null  int64         \n",
      " 21  LIC_PLATE_STATE          293368 non-null  object        \n",
      " 22  VEHICLE_TYPE             305598 non-null  object        \n",
      " 23  MANEUVER                 305598 non-null  object        \n",
      " 24  FIRST_CONTACT_POINT      305512 non-null  object        \n",
      " 25  PERSON_TYPE              305598 non-null  object        \n",
      " 26  SEX                      298205 non-null  object        \n",
      " 27  AGE                      251649 non-null  float64       \n",
      " 28  SAFETY_EQUIPMENT         303965 non-null  object        \n",
      " 29  AIRBAG_DEPLOYED          293688 non-null  object        \n",
      " 30  INJURY_CLASSIFICATION    305533 non-null  object        \n",
      " 31  DRIVER_ACTION            209120 non-null  object        \n",
      " 32  DRIVER_VISION            208933 non-null  object        \n",
      " 33  PHYSICAL_CONDITION       209510 non-null  object        \n",
      " 34  BAC_RESULT               209238 non-null  object        \n",
      " 35  YEAR                     305598 non-null  int32         \n",
      "dtypes: datetime64[ns](1), float64(2), int32(1), int64(5), object(27)\n",
      "memory usage: 85.1+ MB\n"
     ]
    }
   ],
   "source": [
    "# Filtering from 2020 and on\n",
    "\n",
    "master_df['CRASH_DATE'] = pd.to_datetime(master_df['CRASH_DATE'])\n",
    "master_df['YEAR'] = master_df['CRASH_DATE'].dt.year\n",
    "master_df = master_df.loc[master_df['INJURIES_TOTAL'] > 0]\n",
    "master_df = master_df[\n",
    "    (master_df[\"YEAR\"] >= 2020) &\n",
    "    ((master_df[\"VEHICLE_TYPE\"] == \"PASSENGER\") |\n",
    "     (master_df[\"VEHICLE_TYPE\"] == \"SPORT UTILITY VEHICLE (SUV)\") |\n",
    "     (master_df[\"VEHICLE_TYPE\"] == \"VAN/MINI-VAN\"))\n",
    "]\n",
    "master_df.info()"
   ]
  },
  {
   "cell_type": "markdown",
   "metadata": {},
   "source": [
    "## Takeaway\n",
    "\n",
    "- We filtered the data from year 2020 and after, "
   ]
  },
  {
   "cell_type": "code",
   "execution_count": 169,
   "metadata": {},
   "outputs": [
    {
     "data": {
      "text/plain": [
       "CRASH_RECORD_ID                0\n",
       "CRASH_DATE                     0\n",
       "POSTED_SPEED_LIMIT             0\n",
       "TRAFFIC_CONTROL_DEVICE         0\n",
       "DEVICE_CONDITION               0\n",
       "WEATHER_CONDITION              0\n",
       "LIGHTING_CONDITION             0\n",
       "FIRST_CRASH_TYPE               0\n",
       "TRAFFICWAY_TYPE                0\n",
       "ALIGNMENT                      0\n",
       "ROADWAY_SURFACE_COND           0\n",
       "ROAD_DEFECT                    0\n",
       "CRASH_TYPE                     0\n",
       "DAMAGE                         0\n",
       "PRIM_CONTRIBUTORY_CAUSE        0\n",
       "NUM_UNITS                      0\n",
       "MOST_SEVERE_INJURY             0\n",
       "INJURIES_TOTAL                 0\n",
       "CRASH_HOUR                     0\n",
       "CRASH_DAY_OF_WEEK              0\n",
       "CRASH_MONTH                    0\n",
       "LIC_PLATE_STATE            12230\n",
       "VEHICLE_TYPE                   0\n",
       "MANEUVER                       0\n",
       "FIRST_CONTACT_POINT           86\n",
       "PERSON_TYPE                    0\n",
       "SEX                         7393\n",
       "AGE                        53949\n",
       "SAFETY_EQUIPMENT            1633\n",
       "AIRBAG_DEPLOYED            11910\n",
       "INJURY_CLASSIFICATION         65\n",
       "DRIVER_ACTION              96478\n",
       "DRIVER_VISION              96665\n",
       "PHYSICAL_CONDITION         96088\n",
       "BAC_RESULT                 96360\n",
       "YEAR                           0\n",
       "dtype: int64"
      ]
     },
     "execution_count": 169,
     "metadata": {},
     "output_type": "execute_result"
    }
   ],
   "source": [
    "master_df.isna().sum()"
   ]
  },
  {
   "cell_type": "markdown",
   "metadata": {},
   "source": [
    "# Andy's Space"
   ]
  },
  {
   "cell_type": "code",
   "execution_count": null,
   "metadata": {},
   "outputs": [],
   "source": []
  },
  {
   "cell_type": "markdown",
   "metadata": {},
   "source": [
    "# Harshitha's Space"
   ]
  },
  {
   "cell_type": "code",
   "execution_count": null,
   "metadata": {},
   "outputs": [],
   "source": []
  },
  {
   "cell_type": "markdown",
   "metadata": {},
   "source": [
    "# Dre's Space"
   ]
  },
  {
   "cell_type": "code",
   "execution_count": null,
   "metadata": {},
   "outputs": [],
   "source": []
  },
  {
   "cell_type": "code",
   "execution_count": 183,
   "metadata": {},
   "outputs": [
    {
     "data": {
      "text/plain": [
       "DRIVER_ACTION\n",
       "NONE                                 0.392392\n",
       "UNKNOWN                              0.210209\n",
       "FAILED TO YIELD                      0.111539\n",
       "OTHER                                0.101224\n",
       "DISREGARDED CONTROL DEVICES          0.049397\n",
       "FOLLOWED TOO CLOSELY                 0.044941\n",
       "TOO FAST FOR CONDITIONS              0.023470\n",
       "IMPROPER TURN                        0.022609\n",
       "IMPROPER LANE CHANGE                 0.011950\n",
       "IMPROPER PASSING                     0.009679\n",
       "WRONG WAY/SIDE                       0.008765\n",
       "IMPROPER BACKING                     0.004261\n",
       "OVERCORRECTED                        0.002893\n",
       "EVADING POLICE VEHICLE               0.002817\n",
       "CELL PHONE USE OTHER THAN TEXTING    0.001516\n",
       "EMERGENCY VEHICLE ON CALL            0.001473\n",
       "IMPROPER PARKING                     0.000454\n",
       "TEXTING                              0.000311\n",
       "LICENSE RESTRICTIONS                 0.000081\n",
       "STOPPED SCHOOL BUS                   0.000019\n",
       "Name: proportion, dtype: float64"
      ]
     },
     "execution_count": 183,
     "metadata": {},
     "output_type": "execute_result"
    }
   ],
   "source": [
    "master_df['DRIVER_ACTION'].value_counts(normalize=True)"
   ]
  },
  {
   "cell_type": "markdown",
   "metadata": {},
   "source": [
    "## Consideration\n",
    "\n",
    "- use \"NONE\" for the null values."
   ]
  },
  {
   "cell_type": "code",
   "execution_count": null,
   "metadata": {},
   "outputs": [],
   "source": []
  },
  {
   "cell_type": "code",
   "execution_count": 187,
   "metadata": {},
   "outputs": [
    {
     "data": {
      "text/plain": [
       "DRIVER_VISION\n",
       "NOT OBSCURED              105839\n",
       "UNKNOWN                    96639\n",
       "OTHER                       2541\n",
       "MOVING VEHICLES             1713\n",
       "PARKED VEHICLES              927\n",
       "WINDSHIELD (WATER/ICE)       559\n",
       "BLINDED - SUNLIGHT           427\n",
       "TREES, PLANTS                 90\n",
       "BUILDINGS                     79\n",
       "BLINDED - HEADLIGHTS          43\n",
       "BLOWING MATERIALS             24\n",
       "HILLCREST                     22\n",
       "EMBANKMENT                    20\n",
       "SIGNBOARD                     10\n",
       "Name: count, dtype: int64"
      ]
     },
     "execution_count": 187,
     "metadata": {},
     "output_type": "execute_result"
    }
   ],
   "source": [
    "imputer - SimpleImputer(strategy='mode')\n",
    "\n",
    "imputer.fit(master_df['DRIVER_VISION'])\n",
    "\n",
    "\n",
    "\n",
    "master_df['DRIVER_VISION'].value_counts()"
   ]
  },
  {
   "cell_type": "code",
   "execution_count": 185,
   "metadata": {},
   "outputs": [
    {
     "data": {
      "text/plain": [
       "PHYSICAL_CONDITION\n",
       "NORMAL                          146951\n",
       "UNKNOWN                          51633\n",
       "REMOVED BY EMS                    3673\n",
       "IMPAIRED - ALCOHOL                1807\n",
       "OTHER                             1553\n",
       "EMOTIONAL                         1246\n",
       "FATIGUED/ASLEEP                    980\n",
       "ILLNESS/FAINTED                    843\n",
       "IMPAIRED - DRUGS                   282\n",
       "HAD BEEN DRINKING                  281\n",
       "IMPAIRED - ALCOHOL AND DRUGS       200\n",
       "MEDICATED                           61\n",
       "Name: count, dtype: int64"
      ]
     },
     "execution_count": 185,
     "metadata": {},
     "output_type": "execute_result"
    }
   ],
   "source": [
    "filtered_df_PHYSCOND = master_df[master_df['PHYSICAL_CONDITION'] != 'UNKNOWN']\n",
    "master_df['PHYSICAL_CONDITION'].value_counts()"
   ]
  },
  {
   "cell_type": "markdown",
   "metadata": {},
   "source": [
    "## Consideration\n",
    "\n",
    "- There are 51,663 observations with \"UNKNOWN\" and 96,088 null values in the column.\n",
    "- If \"UNKNOWN\" value is removed, the \"NORMAL\" physical condition has 146951, which accounts for 93% of the known value. Possible solution is to assign the mode, which is \"NORMAL\" to all the null values.\n",
    "\n"
   ]
  },
  {
   "cell_type": "code",
   "execution_count": 177,
   "metadata": {},
   "outputs": [
    {
     "data": {
      "text/plain": [
       "BAC_RESULT\n",
       "TEST NOT OFFERED                   204553\n",
       "TEST REFUSED                         2726\n",
       "TEST PERFORMED, RESULTS UNKNOWN      1154\n",
       "TEST TAKEN                            805\n",
       "Name: count, dtype: int64"
      ]
     },
     "execution_count": 177,
     "metadata": {},
     "output_type": "execute_result"
    }
   ],
   "source": [
    "master_df['BAC_RESULT'].value_counts()"
   ]
  },
  {
   "cell_type": "markdown",
   "metadata": {},
   "source": [
    "## Consideration\n",
    "\n",
    "- There are 204553 observations where BAC test was not offered. It accounts for 97% of the observations. Possible solution is to use Mode and assign \"TEST NOT OFFERED\" to the null values."
   ]
  },
  {
   "cell_type": "code",
   "execution_count": 175,
   "metadata": {},
   "outputs": [
    {
     "ename": "TypeError",
     "evalue": "unsupported operand type(s) for /: 'str' and 'int'",
     "output_type": "error",
     "traceback": [
      "\u001b[0;31m---------------------------------------------------------------------------\u001b[0m",
      "\u001b[0;31mTypeError\u001b[0m                                 Traceback (most recent call last)",
      "\u001b[1;32m/Users/dre/Documents/CarCrash_Chicago/DresMain.ipynb Cell 19\u001b[0m line \u001b[0;36m4\n\u001b[1;32m      <a href='vscode-notebook-cell:/Users/dre/Documents/CarCrash_Chicago/DresMain.ipynb#Y203sZmlsZQ%3D%3D?line=0'>1</a>\u001b[0m X \u001b[39m=\u001b[39m master_df[\u001b[39m'\u001b[39m\u001b[39mAGE\u001b[39m\u001b[39m'\u001b[39m]\n\u001b[1;32m      <a href='vscode-notebook-cell:/Users/dre/Documents/CarCrash_Chicago/DresMain.ipynb#Y203sZmlsZQ%3D%3D?line=1'>2</a>\u001b[0m y \u001b[39m=\u001b[39m master_df[\u001b[39m'\u001b[39m\u001b[39mPRIM_CONTRIBUTORY_CAUSE\u001b[39m\u001b[39m'\u001b[39m]\n\u001b[0;32m----> <a href='vscode-notebook-cell:/Users/dre/Documents/CarCrash_Chicago/DresMain.ipynb#Y203sZmlsZQ%3D%3D?line=3'>4</a>\u001b[0m np\u001b[39m.\u001b[39;49mcorrcoef(X, y)\n",
      "File \u001b[0;32m<__array_function__ internals>:180\u001b[0m, in \u001b[0;36mcorrcoef\u001b[0;34m(*args, **kwargs)\u001b[0m\n",
      "File \u001b[0;32m~/anaconda3/envs/learn-env/lib/python3.9/site-packages/numpy/lib/function_base.py:2845\u001b[0m, in \u001b[0;36mcorrcoef\u001b[0;34m(x, y, rowvar, bias, ddof, dtype)\u001b[0m\n\u001b[1;32m   2841\u001b[0m \u001b[39mif\u001b[39;00m bias \u001b[39mis\u001b[39;00m \u001b[39mnot\u001b[39;00m np\u001b[39m.\u001b[39m_NoValue \u001b[39mor\u001b[39;00m ddof \u001b[39mis\u001b[39;00m \u001b[39mnot\u001b[39;00m np\u001b[39m.\u001b[39m_NoValue:\n\u001b[1;32m   2842\u001b[0m     \u001b[39m# 2015-03-15, 1.10\u001b[39;00m\n\u001b[1;32m   2843\u001b[0m     warnings\u001b[39m.\u001b[39mwarn(\u001b[39m'\u001b[39m\u001b[39mbias and ddof have no effect and are deprecated\u001b[39m\u001b[39m'\u001b[39m,\n\u001b[1;32m   2844\u001b[0m                   \u001b[39mDeprecationWarning\u001b[39;00m, stacklevel\u001b[39m=\u001b[39m\u001b[39m3\u001b[39m)\n\u001b[0;32m-> 2845\u001b[0m c \u001b[39m=\u001b[39m cov(x, y, rowvar, dtype\u001b[39m=\u001b[39;49mdtype)\n\u001b[1;32m   2846\u001b[0m \u001b[39mtry\u001b[39;00m:\n\u001b[1;32m   2847\u001b[0m     d \u001b[39m=\u001b[39m diag(c)\n",
      "File \u001b[0;32m<__array_function__ internals>:180\u001b[0m, in \u001b[0;36mcov\u001b[0;34m(*args, **kwargs)\u001b[0m\n",
      "File \u001b[0;32m~/anaconda3/envs/learn-env/lib/python3.9/site-packages/numpy/lib/function_base.py:2680\u001b[0m, in \u001b[0;36mcov\u001b[0;34m(m, y, rowvar, bias, ddof, fweights, aweights, dtype)\u001b[0m\n\u001b[1;32m   2677\u001b[0m     \u001b[39melse\u001b[39;00m:\n\u001b[1;32m   2678\u001b[0m         w \u001b[39m*\u001b[39m\u001b[39m=\u001b[39m aweights\n\u001b[0;32m-> 2680\u001b[0m avg, w_sum \u001b[39m=\u001b[39m average(X, axis\u001b[39m=\u001b[39;49m\u001b[39m1\u001b[39;49m, weights\u001b[39m=\u001b[39;49mw, returned\u001b[39m=\u001b[39;49m\u001b[39mTrue\u001b[39;49;00m)\n\u001b[1;32m   2681\u001b[0m w_sum \u001b[39m=\u001b[39m w_sum[\u001b[39m0\u001b[39m]\n\u001b[1;32m   2683\u001b[0m \u001b[39m# Determine the normalization\u001b[39;00m\n",
      "File \u001b[0;32m<__array_function__ internals>:180\u001b[0m, in \u001b[0;36maverage\u001b[0;34m(*args, **kwargs)\u001b[0m\n",
      "File \u001b[0;32m~/anaconda3/envs/learn-env/lib/python3.9/site-packages/numpy/lib/function_base.py:518\u001b[0m, in \u001b[0;36maverage\u001b[0;34m(a, axis, weights, returned, keepdims)\u001b[0m\n\u001b[1;32m    515\u001b[0m     keepdims_kw \u001b[39m=\u001b[39m {\u001b[39m'\u001b[39m\u001b[39mkeepdims\u001b[39m\u001b[39m'\u001b[39m: keepdims}\n\u001b[1;32m    517\u001b[0m \u001b[39mif\u001b[39;00m weights \u001b[39mis\u001b[39;00m \u001b[39mNone\u001b[39;00m:\n\u001b[0;32m--> 518\u001b[0m     avg \u001b[39m=\u001b[39m a\u001b[39m.\u001b[39;49mmean(axis, \u001b[39m*\u001b[39;49m\u001b[39m*\u001b[39;49mkeepdims_kw)\n\u001b[1;32m    519\u001b[0m     scl \u001b[39m=\u001b[39m avg\u001b[39m.\u001b[39mdtype\u001b[39m.\u001b[39mtype(a\u001b[39m.\u001b[39msize\u001b[39m/\u001b[39mavg\u001b[39m.\u001b[39msize)\n\u001b[1;32m    520\u001b[0m \u001b[39melse\u001b[39;00m:\n",
      "File \u001b[0;32m~/anaconda3/envs/learn-env/lib/python3.9/site-packages/numpy/core/_methods.py:182\u001b[0m, in \u001b[0;36m_mean\u001b[0;34m(a, axis, dtype, out, keepdims, where)\u001b[0m\n\u001b[1;32m    180\u001b[0m ret \u001b[39m=\u001b[39m umr_sum(arr, axis, dtype, out, keepdims, where\u001b[39m=\u001b[39mwhere)\n\u001b[1;32m    181\u001b[0m \u001b[39mif\u001b[39;00m \u001b[39misinstance\u001b[39m(ret, mu\u001b[39m.\u001b[39mndarray):\n\u001b[0;32m--> 182\u001b[0m     ret \u001b[39m=\u001b[39m um\u001b[39m.\u001b[39;49mtrue_divide(\n\u001b[1;32m    183\u001b[0m             ret, rcount, out\u001b[39m=\u001b[39;49mret, casting\u001b[39m=\u001b[39;49m\u001b[39m'\u001b[39;49m\u001b[39munsafe\u001b[39;49m\u001b[39m'\u001b[39;49m, subok\u001b[39m=\u001b[39;49m\u001b[39mFalse\u001b[39;49;00m)\n\u001b[1;32m    184\u001b[0m     \u001b[39mif\u001b[39;00m is_float16_result \u001b[39mand\u001b[39;00m out \u001b[39mis\u001b[39;00m \u001b[39mNone\u001b[39;00m:\n\u001b[1;32m    185\u001b[0m         ret \u001b[39m=\u001b[39m arr\u001b[39m.\u001b[39mdtype\u001b[39m.\u001b[39mtype(ret)\n",
      "\u001b[0;31mTypeError\u001b[0m: unsupported operand type(s) for /: 'str' and 'int'"
     ]
    }
   ],
   "source": [
    "X = master_df['AGE']\n",
    "y = master_df['PRIM_CONTRIBUTORY_CAUSE']\n",
    "\n",
    "np.corrcoef(X, y)"
   ]
  },
  {
   "cell_type": "markdown",
   "metadata": {},
   "source": [
    "## .describe()"
   ]
  },
  {
   "cell_type": "code",
   "execution_count": 86,
   "metadata": {},
   "outputs": [
    {
     "data": {
      "text/html": [
       "<div>\n",
       "<style scoped>\n",
       "    .dataframe tbody tr th:only-of-type {\n",
       "        vertical-align: middle;\n",
       "    }\n",
       "\n",
       "    .dataframe tbody tr th {\n",
       "        vertical-align: top;\n",
       "    }\n",
       "\n",
       "    .dataframe thead th {\n",
       "        text-align: right;\n",
       "    }\n",
       "</style>\n",
       "<table border=\"1\" class=\"dataframe\">\n",
       "  <thead>\n",
       "    <tr style=\"text-align: right;\">\n",
       "      <th></th>\n",
       "      <th>CRASH_DATE</th>\n",
       "      <th>POSTED_SPEED_LIMIT</th>\n",
       "      <th>LANE_CNT</th>\n",
       "      <th>BEAT_OF_OCCURRENCE</th>\n",
       "      <th>NUM_UNITS</th>\n",
       "      <th>INJURIES_TOTAL</th>\n",
       "      <th>INJURIES_FATAL</th>\n",
       "      <th>INJURIES_INCAPACITATING</th>\n",
       "      <th>INJURIES_NON_INCAPACITATING</th>\n",
       "      <th>INJURIES_REPORTED_NOT_EVIDENT</th>\n",
       "      <th>INJURIES_NO_INDICATION</th>\n",
       "      <th>INJURIES_UNKNOWN</th>\n",
       "      <th>CRASH_HOUR</th>\n",
       "      <th>CRASH_DAY_OF_WEEK</th>\n",
       "      <th>CRASH_MONTH</th>\n",
       "      <th>NUM_PASSENGERS</th>\n",
       "      <th>VEHICLE_YEAR</th>\n",
       "      <th>TOTAL_VEHICLE_LENGTH</th>\n",
       "      <th>AGE</th>\n",
       "      <th>BAC_RESULT VALUE</th>\n",
       "      <th>YEAR</th>\n",
       "    </tr>\n",
       "  </thead>\n",
       "  <tbody>\n",
       "    <tr>\n",
       "      <th>count</th>\n",
       "      <td>1858312</td>\n",
       "      <td>1.858312e+06</td>\n",
       "      <td>257.000000</td>\n",
       "      <td>1.858312e+06</td>\n",
       "      <td>1.858312e+06</td>\n",
       "      <td>1.858312e+06</td>\n",
       "      <td>1.858312e+06</td>\n",
       "      <td>1.858312e+06</td>\n",
       "      <td>1.858312e+06</td>\n",
       "      <td>1.858312e+06</td>\n",
       "      <td>1.858312e+06</td>\n",
       "      <td>1858312.0</td>\n",
       "      <td>1.858312e+06</td>\n",
       "      <td>1.858312e+06</td>\n",
       "      <td>1.858312e+06</td>\n",
       "      <td>457906.000000</td>\n",
       "      <td>1.563966e+06</td>\n",
       "      <td>2188.000000</td>\n",
       "      <td>1.303675e+06</td>\n",
       "      <td>2222.000000</td>\n",
       "      <td>1.858312e+06</td>\n",
       "    </tr>\n",
       "    <tr>\n",
       "      <th>mean</th>\n",
       "      <td>2022-01-05 09:01:05.914044928</td>\n",
       "      <td>2.909264e+01</td>\n",
       "      <td>2.785992</td>\n",
       "      <td>1.228066e+03</td>\n",
       "      <td>2.222681e+00</td>\n",
       "      <td>3.469261e-01</td>\n",
       "      <td>2.472674e-03</td>\n",
       "      <td>3.474874e-02</td>\n",
       "      <td>2.005180e-01</td>\n",
       "      <td>1.091867e-01</td>\n",
       "      <td>2.561203e+00</td>\n",
       "      <td>0.0</td>\n",
       "      <td>1.351261e+01</td>\n",
       "      <td>4.145358e+00</td>\n",
       "      <td>6.444955e+00</td>\n",
       "      <td>1.720595</td>\n",
       "      <td>2.014060e+03</td>\n",
       "      <td>52.589580</td>\n",
       "      <td>3.764151e+01</td>\n",
       "      <td>0.170536</td>\n",
       "      <td>2.021519e+03</td>\n",
       "    </tr>\n",
       "    <tr>\n",
       "      <th>min</th>\n",
       "      <td>2020-01-01 00:00:00</td>\n",
       "      <td>0.000000e+00</td>\n",
       "      <td>0.000000</td>\n",
       "      <td>1.110000e+02</td>\n",
       "      <td>1.000000e+00</td>\n",
       "      <td>0.000000e+00</td>\n",
       "      <td>0.000000e+00</td>\n",
       "      <td>0.000000e+00</td>\n",
       "      <td>0.000000e+00</td>\n",
       "      <td>0.000000e+00</td>\n",
       "      <td>0.000000e+00</td>\n",
       "      <td>0.0</td>\n",
       "      <td>0.000000e+00</td>\n",
       "      <td>1.000000e+00</td>\n",
       "      <td>1.000000e+00</td>\n",
       "      <td>1.000000</td>\n",
       "      <td>1.900000e+03</td>\n",
       "      <td>1.000000</td>\n",
       "      <td>-5.900000e+01</td>\n",
       "      <td>0.000000</td>\n",
       "      <td>2.020000e+03</td>\n",
       "    </tr>\n",
       "    <tr>\n",
       "      <th>25%</th>\n",
       "      <td>2021-02-06 17:02:00</td>\n",
       "      <td>3.000000e+01</td>\n",
       "      <td>2.000000</td>\n",
       "      <td>7.140000e+02</td>\n",
       "      <td>2.000000e+00</td>\n",
       "      <td>0.000000e+00</td>\n",
       "      <td>0.000000e+00</td>\n",
       "      <td>0.000000e+00</td>\n",
       "      <td>0.000000e+00</td>\n",
       "      <td>0.000000e+00</td>\n",
       "      <td>2.000000e+00</td>\n",
       "      <td>0.0</td>\n",
       "      <td>1.000000e+01</td>\n",
       "      <td>2.000000e+00</td>\n",
       "      <td>4.000000e+00</td>\n",
       "      <td>1.000000</td>\n",
       "      <td>2.008000e+03</td>\n",
       "      <td>40.000000</td>\n",
       "      <td>2.500000e+01</td>\n",
       "      <td>0.120000</td>\n",
       "      <td>2.021000e+03</td>\n",
       "    </tr>\n",
       "    <tr>\n",
       "      <th>50%</th>\n",
       "      <td>2022-01-11 17:57:00</td>\n",
       "      <td>3.000000e+01</td>\n",
       "      <td>2.000000</td>\n",
       "      <td>1.131000e+03</td>\n",
       "      <td>2.000000e+00</td>\n",
       "      <td>0.000000e+00</td>\n",
       "      <td>0.000000e+00</td>\n",
       "      <td>0.000000e+00</td>\n",
       "      <td>0.000000e+00</td>\n",
       "      <td>0.000000e+00</td>\n",
       "      <td>2.000000e+00</td>\n",
       "      <td>0.0</td>\n",
       "      <td>1.400000e+01</td>\n",
       "      <td>4.000000e+00</td>\n",
       "      <td>7.000000e+00</td>\n",
       "      <td>1.000000</td>\n",
       "      <td>2.014000e+03</td>\n",
       "      <td>53.000000</td>\n",
       "      <td>3.500000e+01</td>\n",
       "      <td>0.170000</td>\n",
       "      <td>2.022000e+03</td>\n",
       "    </tr>\n",
       "    <tr>\n",
       "      <th>75%</th>\n",
       "      <td>2022-12-20 07:00:00</td>\n",
       "      <td>3.000000e+01</td>\n",
       "      <td>4.000000</td>\n",
       "      <td>1.733000e+03</td>\n",
       "      <td>2.000000e+00</td>\n",
       "      <td>0.000000e+00</td>\n",
       "      <td>0.000000e+00</td>\n",
       "      <td>0.000000e+00</td>\n",
       "      <td>0.000000e+00</td>\n",
       "      <td>0.000000e+00</td>\n",
       "      <td>3.000000e+00</td>\n",
       "      <td>0.0</td>\n",
       "      <td>1.700000e+01</td>\n",
       "      <td>6.000000e+00</td>\n",
       "      <td>9.000000e+00</td>\n",
       "      <td>2.000000</td>\n",
       "      <td>2.018000e+03</td>\n",
       "      <td>65.000000</td>\n",
       "      <td>5.000000e+01</td>\n",
       "      <td>0.220000</td>\n",
       "      <td>2.022000e+03</td>\n",
       "    </tr>\n",
       "    <tr>\n",
       "      <th>max</th>\n",
       "      <td>2023-11-09 02:40:00</td>\n",
       "      <td>7.000000e+01</td>\n",
       "      <td>8.000000</td>\n",
       "      <td>6.100000e+03</td>\n",
       "      <td>1.800000e+01</td>\n",
       "      <td>2.100000e+01</td>\n",
       "      <td>3.000000e+00</td>\n",
       "      <td>1.000000e+01</td>\n",
       "      <td>1.900000e+01</td>\n",
       "      <td>1.100000e+01</td>\n",
       "      <td>4.800000e+01</td>\n",
       "      <td>0.0</td>\n",
       "      <td>2.300000e+01</td>\n",
       "      <td>7.000000e+00</td>\n",
       "      <td>1.200000e+01</td>\n",
       "      <td>46.000000</td>\n",
       "      <td>9.999000e+03</td>\n",
       "      <td>535.000000</td>\n",
       "      <td>1.100000e+02</td>\n",
       "      <td>1.000000</td>\n",
       "      <td>2.023000e+03</td>\n",
       "    </tr>\n",
       "    <tr>\n",
       "      <th>std</th>\n",
       "      <td>NaN</td>\n",
       "      <td>5.170034e+00</td>\n",
       "      <td>1.501600</td>\n",
       "      <td>6.962089e+02</td>\n",
       "      <td>7.008905e-01</td>\n",
       "      <td>8.930255e-01</td>\n",
       "      <td>5.634475e-02</td>\n",
       "      <td>2.444030e-01</td>\n",
       "      <td>6.709131e-01</td>\n",
       "      <td>4.744634e-01</td>\n",
       "      <td>1.831509e+00</td>\n",
       "      <td>0.0</td>\n",
       "      <td>5.545192e+00</td>\n",
       "      <td>2.002147e+00</td>\n",
       "      <td>3.276245e+00</td>\n",
       "      <td>1.790805</td>\n",
       "      <td>9.983012e+01</td>\n",
       "      <td>24.758989</td>\n",
       "      <td>1.703455e+01</td>\n",
       "      <td>0.105440</td>\n",
       "      <td>1.092123e+00</td>\n",
       "    </tr>\n",
       "  </tbody>\n",
       "</table>\n",
       "</div>"
      ],
      "text/plain": [
       "                          CRASH_DATE  POSTED_SPEED_LIMIT    LANE_CNT  \\\n",
       "count                        1858312        1.858312e+06  257.000000   \n",
       "mean   2022-01-05 09:01:05.914044928        2.909264e+01    2.785992   \n",
       "min              2020-01-01 00:00:00        0.000000e+00    0.000000   \n",
       "25%              2021-02-06 17:02:00        3.000000e+01    2.000000   \n",
       "50%              2022-01-11 17:57:00        3.000000e+01    2.000000   \n",
       "75%              2022-12-20 07:00:00        3.000000e+01    4.000000   \n",
       "max              2023-11-09 02:40:00        7.000000e+01    8.000000   \n",
       "std                              NaN        5.170034e+00    1.501600   \n",
       "\n",
       "       BEAT_OF_OCCURRENCE     NUM_UNITS  INJURIES_TOTAL  INJURIES_FATAL  \\\n",
       "count        1.858312e+06  1.858312e+06    1.858312e+06    1.858312e+06   \n",
       "mean         1.228066e+03  2.222681e+00    3.469261e-01    2.472674e-03   \n",
       "min          1.110000e+02  1.000000e+00    0.000000e+00    0.000000e+00   \n",
       "25%          7.140000e+02  2.000000e+00    0.000000e+00    0.000000e+00   \n",
       "50%          1.131000e+03  2.000000e+00    0.000000e+00    0.000000e+00   \n",
       "75%          1.733000e+03  2.000000e+00    0.000000e+00    0.000000e+00   \n",
       "max          6.100000e+03  1.800000e+01    2.100000e+01    3.000000e+00   \n",
       "std          6.962089e+02  7.008905e-01    8.930255e-01    5.634475e-02   \n",
       "\n",
       "       INJURIES_INCAPACITATING  INJURIES_NON_INCAPACITATING  \\\n",
       "count             1.858312e+06                 1.858312e+06   \n",
       "mean              3.474874e-02                 2.005180e-01   \n",
       "min               0.000000e+00                 0.000000e+00   \n",
       "25%               0.000000e+00                 0.000000e+00   \n",
       "50%               0.000000e+00                 0.000000e+00   \n",
       "75%               0.000000e+00                 0.000000e+00   \n",
       "max               1.000000e+01                 1.900000e+01   \n",
       "std               2.444030e-01                 6.709131e-01   \n",
       "\n",
       "       INJURIES_REPORTED_NOT_EVIDENT  INJURIES_NO_INDICATION  \\\n",
       "count                   1.858312e+06            1.858312e+06   \n",
       "mean                    1.091867e-01            2.561203e+00   \n",
       "min                     0.000000e+00            0.000000e+00   \n",
       "25%                     0.000000e+00            2.000000e+00   \n",
       "50%                     0.000000e+00            2.000000e+00   \n",
       "75%                     0.000000e+00            3.000000e+00   \n",
       "max                     1.100000e+01            4.800000e+01   \n",
       "std                     4.744634e-01            1.831509e+00   \n",
       "\n",
       "       INJURIES_UNKNOWN    CRASH_HOUR  CRASH_DAY_OF_WEEK   CRASH_MONTH  \\\n",
       "count         1858312.0  1.858312e+06       1.858312e+06  1.858312e+06   \n",
       "mean                0.0  1.351261e+01       4.145358e+00  6.444955e+00   \n",
       "min                 0.0  0.000000e+00       1.000000e+00  1.000000e+00   \n",
       "25%                 0.0  1.000000e+01       2.000000e+00  4.000000e+00   \n",
       "50%                 0.0  1.400000e+01       4.000000e+00  7.000000e+00   \n",
       "75%                 0.0  1.700000e+01       6.000000e+00  9.000000e+00   \n",
       "max                 0.0  2.300000e+01       7.000000e+00  1.200000e+01   \n",
       "std                 0.0  5.545192e+00       2.002147e+00  3.276245e+00   \n",
       "\n",
       "       NUM_PASSENGERS  VEHICLE_YEAR  TOTAL_VEHICLE_LENGTH           AGE  \\\n",
       "count   457906.000000  1.563966e+06           2188.000000  1.303675e+06   \n",
       "mean         1.720595  2.014060e+03             52.589580  3.764151e+01   \n",
       "min          1.000000  1.900000e+03              1.000000 -5.900000e+01   \n",
       "25%          1.000000  2.008000e+03             40.000000  2.500000e+01   \n",
       "50%          1.000000  2.014000e+03             53.000000  3.500000e+01   \n",
       "75%          2.000000  2.018000e+03             65.000000  5.000000e+01   \n",
       "max         46.000000  9.999000e+03            535.000000  1.100000e+02   \n",
       "std          1.790805  9.983012e+01             24.758989  1.703455e+01   \n",
       "\n",
       "       BAC_RESULT VALUE          YEAR  \n",
       "count       2222.000000  1.858312e+06  \n",
       "mean           0.170536  2.021519e+03  \n",
       "min            0.000000  2.020000e+03  \n",
       "25%            0.120000  2.021000e+03  \n",
       "50%            0.170000  2.022000e+03  \n",
       "75%            0.220000  2.022000e+03  \n",
       "max            1.000000  2.023000e+03  \n",
       "std            0.105440  1.092123e+00  "
      ]
     },
     "execution_count": 86,
     "metadata": {},
     "output_type": "execute_result"
    }
   ],
   "source": [
    "master_df.describe()"
   ]
  },
  {
   "cell_type": "code",
   "execution_count": 188,
   "metadata": {},
   "outputs": [
    {
     "data": {
      "text/plain": [
       "PRIM_CONTRIBUTORY_CAUSE\n",
       "UNABLE TO DETERMINE                                                                 83621\n",
       "FAILING TO YIELD RIGHT-OF-WAY                                                       53085\n",
       "FOLLOWING TOO CLOSELY                                                               26314\n",
       "FAILING TO REDUCE SPEED TO AVOID CRASH                                              26078\n",
       "DISREGARDING TRAFFIC SIGNALS                                                        24689\n",
       "IMPROPER TURNING/NO SIGNAL                                                          11340\n",
       "IMPROPER OVERTAKING/PASSING                                                          9315\n",
       "NOT APPLICABLE                                                                       9116\n",
       "DISREGARDING STOP SIGN                                                               8654\n",
       "OPERATING VEHICLE IN ERRATIC, RECKLESS, CARELESS, NEGLIGENT OR AGGRESSIVE MANNER     7296\n",
       "DRIVING SKILLS/KNOWLEDGE/EXPERIENCE                                                  6699\n",
       "IMPROPER LANE USAGE                                                                  6380\n",
       "PHYSICAL CONDITION OF DRIVER                                                         4674\n",
       "DRIVING ON WRONG SIDE/WRONG WAY                                                      4450\n",
       "WEATHER                                                                              3960\n",
       "UNDER THE INFLUENCE OF ALCOHOL/DRUGS (USE WHEN ARREST IS EFFECTED)                   3416\n",
       "DISTRACTION - FROM INSIDE VEHICLE                                                    3136\n",
       "EQUIPMENT - VEHICLE CONDITION                                                        2709\n",
       "VISION OBSCURED (SIGNS, TREE LIMBS, BUILDINGS, ETC.)                                 2261\n",
       "DISREGARDING OTHER TRAFFIC SIGNS                                                     1852\n",
       "DISTRACTION - FROM OUTSIDE VEHICLE                                                   1604\n",
       "IMPROPER BACKING                                                                     1554\n",
       "CELL PHONE USE OTHER THAN TEXTING                                                     597\n",
       "EVASIVE ACTION DUE TO ANIMAL, OBJECT, NONMOTORIST                                     588\n",
       "TURNING RIGHT ON RED                                                                  362\n",
       "DISREGARDING ROAD MARKINGS                                                            325\n",
       "HAD BEEN DRINKING (USE WHEN ARREST IS NOT MADE)                                       322\n",
       "ROAD CONSTRUCTION/MAINTENANCE                                                         265\n",
       "DISREGARDING YIELD SIGN                                                               187\n",
       "ROAD ENGINEERING/SURFACE/MARKING DEFECTS                                              164\n",
       "DISTRACTION - OTHER ELECTRONIC DEVICE (NAVIGATION DEVICE, DVD PLAYER, ETC.)           161\n",
       "ANIMAL                                                                                112\n",
       "TEXTING                                                                               100\n",
       "RELATED TO BUS STOP                                                                    83\n",
       "OBSTRUCTED CROSSWALKS                                                                  63\n",
       "PASSING STOPPED SCHOOL BUS                                                             23\n",
       "BICYCLE ADVANCING LEGALLY ON RED LIGHT                                                 23\n",
       "MOTORCYCLE ADVANCING LEGALLY ON RED LIGHT                                              20\n",
       "Name: count, dtype: int64"
      ]
     },
     "execution_count": 188,
     "metadata": {},
     "output_type": "execute_result"
    }
   ],
   "source": [
    "# Checking out the PRIN_CONTRIBUTORY_CAUSE column\n",
    "\n",
    "master_df['PRIM_CONTRIBUTORY_CAUSE'].value_counts()"
   ]
  },
  {
   "cell_type": "markdown",
   "metadata": {},
   "source": [
    "### Takeaway\n",
    "\n",
    "- Most of the primary contributory cause could not be determined.\n",
    "- There are currently 40 different classifications.\n",
    "\n",
    "- Possible classification grouping: Human Factors, Speed and Aggressive Driving, Weather and Environmental Conditions, Vehicle-Related Factors, Traffic Violations, Road Design and Infrastructure, Inadequate Driver Training and Education, Medical Conditions, Wildlife and Environmental Factors, Construction Zones, Distractions Outside the Vehicle."
   ]
  },
  {
   "cell_type": "code",
   "execution_count": 15,
   "metadata": {},
   "outputs": [],
   "source": [
    "#master_df = master_df[master_df['PRIM_CONTRIBUTORY_CAUSE'] != 'UNABLE TO DETERMINE']\n",
    "#master_df.info()"
   ]
  }
 ],
 "metadata": {
  "kernelspec": {
   "display_name": "learn-env",
   "language": "python",
   "name": "python3"
  },
  "language_info": {
   "codemirror_mode": {
    "name": "ipython",
    "version": 3
   },
   "file_extension": ".py",
   "mimetype": "text/x-python",
   "name": "python",
   "nbconvert_exporter": "python",
   "pygments_lexer": "ipython3",
   "version": "3.9.18"
  }
 },
 "nbformat": 4,
 "nbformat_minor": 4
}
