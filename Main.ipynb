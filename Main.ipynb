{
 "cells": [
  {
   "cell_type": "markdown",
   "metadata": {},
   "source": [
    "# Chicago Car Crash Analysis"
   ]
  },
  {
   "cell_type": "code",
   "execution_count": 1,
   "metadata": {},
   "outputs": [],
   "source": [
    "import pandas as pd"
   ]
  },
  {
   "cell_type": "code",

   "execution_count": null,
   "metadata": {},
   "outputs": [],
   "source": [
    "harshitha's test\n"
   ]
  },
  {
   "cell_type": "code",


   "execution_count": 10,
   "metadata": {},
   "outputs": [],
   "source": [
    "#df_crash = pd.read_csv(\"data/Traffic_Crashes_-_Crashes_20231109.csv\")\n",
    "#df_"
   ]
  },
  {
   "cell_type": "code",
   "execution_count": 11,
   "metadata": {},
   "outputs": [],
   "source": [
    "#df.head()"
   ]
  },
  {
   "cell_type": "code",
   "execution_count": 4,
   "metadata": {},
   "outputs": [
    {
     "name": "stdout",
     "output_type": "stream",
     "text": [
      "<class 'pandas.core.frame.DataFrame'>\n",
      "RangeIndex: 778847 entries, 0 to 778846\n",
      "Data columns (total 49 columns):\n",
      " #   Column                         Non-Null Count   Dtype  \n",
      "---  ------                         --------------   -----  \n",
      " 0   CRASH_RECORD_ID                778847 non-null  object \n",
      " 1   RD_NO                          774292 non-null  object \n",
      " 2   CRASH_DATE_EST_I               58506 non-null   object \n",
      " 3   CRASH_DATE                     778847 non-null  object \n",
      " 4   POSTED_SPEED_LIMIT             778847 non-null  int64  \n",
      " 5   TRAFFIC_CONTROL_DEVICE         778847 non-null  object \n",
      " 6   DEVICE_CONDITION               778847 non-null  object \n",
      " 7   WEATHER_CONDITION              778847 non-null  object \n",
      " 8   LIGHTING_CONDITION             778847 non-null  object \n",
      " 9   FIRST_CRASH_TYPE               778847 non-null  object \n",
      " 10  TRAFFICWAY_TYPE                778847 non-null  object \n",
      " 11  LANE_CNT                       199006 non-null  float64\n",
      " 12  ALIGNMENT                      778847 non-null  object \n",
      " 13  ROADWAY_SURFACE_COND           778847 non-null  object \n",
      " 14  ROAD_DEFECT                    778847 non-null  object \n",
      " 15  REPORT_TYPE                    756258 non-null  object \n",
      " 16  CRASH_TYPE                     778847 non-null  object \n",
      " 17  INTERSECTION_RELATED_I         178438 non-null  object \n",
      " 18  NOT_RIGHT_OF_WAY_I             36054 non-null   object \n",
      " 19  HIT_AND_RUN_I                  243250 non-null  object \n",
      " 20  DAMAGE                         778847 non-null  object \n",
      " 21  DATE_POLICE_NOTIFIED           778847 non-null  object \n",
      " 22  PRIM_CONTRIBUTORY_CAUSE        778847 non-null  object \n",
      " 23  SEC_CONTRIBUTORY_CAUSE         778847 non-null  object \n",
      " 24  STREET_NO                      778847 non-null  int64  \n",
      " 25  STREET_DIRECTION               778843 non-null  object \n",
      " 26  STREET_NAME                    778846 non-null  object \n",
      " 27  BEAT_OF_OCCURRENCE             778842 non-null  float64\n",
      " 28  PHOTOS_TAKEN_I                 10105 non-null   object \n",
      " 29  STATEMENTS_TAKEN_I             17083 non-null   object \n",
      " 30  DOORING_I                      2417 non-null    object \n",
      " 31  WORK_ZONE_I                    4529 non-null    object \n",
      " 32  WORK_ZONE_TYPE                 3524 non-null    object \n",
      " 33  WORKERS_PRESENT_I              1157 non-null    object \n",
      " 34  NUM_UNITS                      778847 non-null  int64  \n",
      " 35  MOST_SEVERE_INJURY             777133 non-null  object \n",
      " 36  INJURIES_TOTAL                 777144 non-null  float64\n",
      " 37  INJURIES_FATAL                 777144 non-null  float64\n",
      " 38  INJURIES_INCAPACITATING        777144 non-null  float64\n",
      " 39  INJURIES_NON_INCAPACITATING    777144 non-null  float64\n",
      " 40  INJURIES_REPORTED_NOT_EVIDENT  777144 non-null  float64\n",
      " 41  INJURIES_NO_INDICATION         777144 non-null  float64\n",
      " 42  INJURIES_UNKNOWN               777144 non-null  float64\n",
      " 43  CRASH_HOUR                     778847 non-null  int64  \n",
      " 44  CRASH_DAY_OF_WEEK              778847 non-null  int64  \n",
      " 45  CRASH_MONTH                    778847 non-null  int64  \n",
      " 46  LATITUDE                       773629 non-null  float64\n",
      " 47  LONGITUDE                      773629 non-null  float64\n",
      " 48  LOCATION                       773629 non-null  object \n",
      "dtypes: float64(11), int64(6), object(32)\n",
      "memory usage: 291.2+ MB\n"
     ]
    }
   ],
   "source": []
  },
  {
   "cell_type": "code",
   "execution_count": 9,
   "metadata": {},
   "outputs": [
    {
     "data": {
      "text/plain": [
       "778847"
      ]
     },
     "execution_count": 9,
     "metadata": {},
     "output_type": "execute_result"
    }
   ],
   "source": []
  },
  {
   "cell_type": "code",
   "execution_count": null,
   "metadata": {},
   "outputs": [],
   "source": []
  }
 ],
 "metadata": {
  "kernelspec": {
   "display_name": "Python 3",
   "language": "python",
   "name": "python3"
  },
  "language_info": {
   "codemirror_mode": {
    "name": "ipython",
    "version": 3
   },
   "file_extension": ".py",
   "mimetype": "text/x-python",
   "name": "python",
   "nbconvert_exporter": "python",
   "pygments_lexer": "ipython3",
   "version": "3.8.5"
  }
 },
 "nbformat": 4,
 "nbformat_minor": 4
}
